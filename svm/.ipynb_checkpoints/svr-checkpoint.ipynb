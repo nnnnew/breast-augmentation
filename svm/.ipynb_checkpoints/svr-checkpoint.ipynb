{
 "cells": [
  {
   "cell_type": "code",
   "execution_count": 3,
   "metadata": {},
   "outputs": [],
   "source": [
    "import numpy as np\n",
    "import pandas as pd\n",
    "import matplotlib.pyplot as plt\n",
    "import os\n",
    "import re\n",
    "\n",
    "from sklearn.svm import SVR\n",
    "from sklearn.model_selection import KFold, train_test_split"
   ]
  },
  {
   "cell_type": "code",
   "execution_count": 4,
   "metadata": {},
   "outputs": [],
   "source": [
    "kfold_data_dir = './data/k-fold/'"
   ]
  },
  {
   "cell_type": "code",
   "execution_count": 5,
   "metadata": {},
   "outputs": [],
   "source": [
    "file_list = os.listdir(kfold_data_dir)"
   ]
  },
  {
   "cell_type": "code",
   "execution_count": 6,
   "metadata": {},
   "outputs": [
    {
     "name": "stdout",
     "output_type": "stream",
     "text": [
      "20\n"
     ]
    }
   ],
   "source": [
    "print(len(file_list))"
   ]
  },
  {
   "cell_type": "code",
   "execution_count": 7,
   "metadata": {},
   "outputs": [
    {
     "name": "stdout",
     "output_type": "stream",
     "text": [
      "Number of K is 10\n",
      "Number of model is 15\n"
     ]
    }
   ],
   "source": [
    "file_train_start = 'train'\n",
    "file_test_start = 'test'\n",
    "\n",
    "num_k = int(len(file_list) / 2)\n",
    "print(f'Number of K is {num_k}')\n",
    "\n",
    "predict_class_right = ['PostOp-SNR',  'PostOp-CNR',  'PostOp-BWR', 'PostOp-BHR',\n",
    "                       'PostOp-IMFR',  'PostOp-AreRW', 'PostOp-AreRH']\n",
    "\n",
    "predict_class_left = [ 'PostOp-SNL',  'PostOp-CNL', 'PostOp-BWL',\n",
    "                      'PostOp-BHL',  'PostOp-IMFL','PostOp-AreLW', 'PostOp-AreLH']\n",
    "\n",
    "predict_post_id = ['PostOp-ID']\n",
    "\n",
    "feature_left = ['PreOp-SNL', 'PreOp-CNL', 'PreOp-BWL', 'PreOp-BHL', 'PreOp-IMFL', 'PreOp-AreLW',\n",
    "                'PreOp-AreLH', 'PreOp-ID', 'ImplantLeft']\n",
    "\n",
    "feature_right = ['PreOp-SNR', 'PreOp-CNR', 'PreOp-BWR', 'PreOp-BHR', 'PreOp-IMFR', 'PreOp-AreRW',\n",
    "                'PreOp-AreRH', 'PreOp-ID', 'ImplantRight']\n",
    "\n",
    "print(f'Number of model is {(len(predict_class_right) + len(predict_post_id) + len(predict_class_left))}')"
   ]
  },
  {
   "cell_type": "code",
   "execution_count": 8,
   "metadata": {},
   "outputs": [],
   "source": [
    "def get_x_and_y(df: pd.DataFrame, x_head=[], y_head=[]):\n",
    "    x, y = [], []\n",
    "    \n",
    "    for index, row in df.iterrows():\n",
    "        x_temp = []\n",
    "        for x_h in x_head:\n",
    "            x_temp.append(row[x_h])\n",
    "        x.append(x_temp)\n",
    "        y.append(row[y_head[0]])\n",
    "    \n",
    "    return x, y"
   ]
  },
  {
   "cell_type": "code",
   "execution_count": 9,
   "metadata": {},
   "outputs": [],
   "source": [
    "# SN"
   ]
  },
  {
   "cell_type": "code",
   "execution_count": null,
   "metadata": {},
   "outputs": [],
   "source": [
    "result = []\n",
    "\n",
    "for k in range(num_k):\n",
    "    train_df = pd.read_csv(os.path.join(kfold_data_dir, f'{file_train_start}_{k}.csv',)).dropna()\n",
    "    test_df = pd.read_csv(os.path.join(kfold_data_dir, f'{file_test_start}_{k}.csv')).dropna()\n",
    "    \n",
    "    # Create right side model\n",
    "    \n",
    "    x_train, y_train = get_x_and_y(train_df, feature_left, ['PostOp-SNL'])\n",
    "    x_test, y_test = get_x_and_y(test_df, feature_left, ['PostOp-SNL'])\n",
    "    model = SVR(kernel='poly', gamma='auto')\n",
    "    model.fit(x_train, y_train)\n",
    "    k_result = model.predict(x_test)\n",
    "    result.append(sum(abs(k_result - y_test)) / len(k_result))\n",
    "\n",
    "print(sum(result) / len(result))"
   ]
  },
  {
   "cell_type": "code",
   "execution_count": 22,
   "metadata": {},
   "outputs": [
    {
     "name": "stdout",
     "output_type": "stream",
     "text": [
      "0.8244100255180115\n"
     ]
    }
   ],
   "source": [
    "result = []\n",
    "\n",
    "for k in range(num_k):\n",
    "    train_df = pd.read_csv(os.path.join(kfold_data_dir, f'{file_train_start}_{k}.csv',)).dropna()\n",
    "    test_df = pd.read_csv(os.path.join(kfold_data_dir, f'{file_test_start}_{k}.csv')).dropna()\n",
    "    \n",
    "    # Create right side model\n",
    "    \n",
    "    x_train, y_train = get_x_and_y(train_df, feature_right, ['PostOp-SNR'])\n",
    "    x_test, y_test = get_x_and_y(test_df, feature_right, ['PostOp-SNR'])\n",
    "    model = SVR(gamma='auto')\n",
    "    model.fit(x_train, y_train)\n",
    "    k_result = model.predict(x_test)\n",
    "    result.append(sum(abs(k_result - y_test)) / len(k_result))\n",
    "\n",
    "print(sum(result) / len(result))"
   ]
  },
  {
   "cell_type": "code",
   "execution_count": 15,
   "metadata": {},
   "outputs": [],
   "source": [
    "# CN"
   ]
  },
  {
   "cell_type": "code",
   "execution_count": 23,
   "metadata": {},
   "outputs": [
    {
     "name": "stdout",
     "output_type": "stream",
     "text": [
      "0.8276515422751478\n"
     ]
    }
   ],
   "source": [
    "result = []\n",
    "\n",
    "for k in range(num_k):\n",
    "    train_df = pd.read_csv(os.path.join(kfold_data_dir, f'{file_train_start}_{k}.csv',)).dropna()\n",
    "    test_df = pd.read_csv(os.path.join(kfold_data_dir, f'{file_test_start}_{k}.csv')).dropna()\n",
    "    \n",
    "    # Create right side model\n",
    "    \n",
    "    x_train, y_train = get_x_and_y(train_df, feature_left, ['PostOp-CNL'])\n",
    "    x_test, y_test = get_x_and_y(test_df, feature_left, ['PostOp-CNL'])\n",
    "    model = SVR(gamma='auto')\n",
    "    model.fit(x_train, y_train)\n",
    "    k_result = model.predict(x_test)\n",
    "    result.append(sum(abs(k_result - y_test)) / len(k_result))\n",
    "\n",
    "print(sum(result) / len(result))"
   ]
  },
  {
   "cell_type": "code",
   "execution_count": 24,
   "metadata": {},
   "outputs": [
    {
     "name": "stdout",
     "output_type": "stream",
     "text": [
      "0.7572329112009977\n"
     ]
    }
   ],
   "source": [
    "result = []\n",
    "\n",
    "for k in range(num_k):\n",
    "    train_df = pd.read_csv(os.path.join(kfold_data_dir, f'{file_train_start}_{k}.csv',)).dropna()\n",
    "    test_df = pd.read_csv(os.path.join(kfold_data_dir, f'{file_test_start}_{k}.csv')).dropna()\n",
    "    \n",
    "    # Create right side model\n",
    "    \n",
    "    x_train, y_train = get_x_and_y(train_df, feature_right, ['PostOp-CNR'])\n",
    "    x_test, y_test = get_x_and_y(test_df, feature_right, ['PostOp-CNR'])\n",
    "    model = SVR(gamma='auto')\n",
    "    model.fit(x_train, y_train)\n",
    "    k_result = model.predict(x_test)\n",
    "    result.append(sum(abs(k_result - y_test)) / len(k_result))\n",
    "\n",
    "print(sum(result) / len(result))"
   ]
  },
  {
   "cell_type": "code",
   "execution_count": 58,
   "metadata": {},
   "outputs": [],
   "source": [
    "# BW"
   ]
  },
  {
   "cell_type": "code",
   "execution_count": 59,
   "metadata": {},
   "outputs": [
    {
     "name": "stdout",
     "output_type": "stream",
     "text": [
      "0.33330612602197696\n"
     ]
    }
   ],
   "source": [
    "result = []\n",
    "\n",
    "for k in range(num_k):\n",
    "    train_df = pd.read_csv(os.path.join(kfold_data_dir, f'{file_train_start}_{k}.csv',)).dropna()\n",
    "    test_df = pd.read_csv(os.path.join(kfold_data_dir, f'{file_test_start}_{k}.csv')).dropna()\n",
    "    \n",
    "    # Create right side model\n",
    "    \n",
    "    x_train, y_train = get_x_and_y(train_df, feature_right, ['PostOp-BWR'])\n",
    "    x_test, y_test = get_x_and_y(test_df, feature_right, ['PostOp-BWR'])\n",
    "    model = LinearRegression()\n",
    "    model.fit(x_train, y_train)\n",
    "    k_result = model.predict(x_test)\n",
    "    result.append(sum(abs(k_result - y_test)) / len(k_result))\n",
    "\n",
    "print(sum(result) / len(result))"
   ]
  },
  {
   "cell_type": "code",
   "execution_count": 60,
   "metadata": {},
   "outputs": [
    {
     "name": "stdout",
     "output_type": "stream",
     "text": [
      "0.3188120561583895\n"
     ]
    }
   ],
   "source": [
    "result = []\n",
    "\n",
    "for k in range(num_k):\n",
    "    train_df = pd.read_csv(os.path.join(kfold_data_dir, f'{file_train_start}_{k}.csv',)).dropna()\n",
    "    test_df = pd.read_csv(os.path.join(kfold_data_dir, f'{file_test_start}_{k}.csv')).dropna()\n",
    "    \n",
    "    # Create right side model\n",
    "    \n",
    "    x_train, y_train = get_x_and_y(train_df, feature_left, ['PostOp-BWL'])\n",
    "    x_test, y_test = get_x_and_y(test_df, feature_left, ['PostOp-BWL'])\n",
    "    model = LinearRegression()\n",
    "    model.fit(x_train, y_train)\n",
    "    k_result = model.predict(x_test)\n",
    "    result.append(sum(abs(k_result - y_test)) / len(k_result))\n",
    "\n",
    "print(sum(result) / len(result))"
   ]
  },
  {
   "cell_type": "code",
   "execution_count": 61,
   "metadata": {},
   "outputs": [],
   "source": [
    "# BH"
   ]
  },
  {
   "cell_type": "code",
   "execution_count": 62,
   "metadata": {},
   "outputs": [
    {
     "name": "stdout",
     "output_type": "stream",
     "text": [
      "0.46924630826100583\n"
     ]
    }
   ],
   "source": [
    "result = []\n",
    "\n",
    "for k in range(num_k):\n",
    "    train_df = pd.read_csv(os.path.join(kfold_data_dir, f'{file_train_start}_{k}.csv',)).dropna()\n",
    "    test_df = pd.read_csv(os.path.join(kfold_data_dir, f'{file_test_start}_{k}.csv')).dropna()\n",
    "    \n",
    "    # Create right side model\n",
    "    \n",
    "    x_train, y_train = get_x_and_y(train_df, feature_right, ['PostOp-BHR'])\n",
    "    x_test, y_test = get_x_and_y(test_df, feature_right, ['PostOp-BHR'])\n",
    "    model = LinearRegression()\n",
    "    model.fit(x_train, y_train)\n",
    "    k_result = model.predict(x_test)\n",
    "    result.append(sum(abs(k_result - y_test)) / len(k_result))\n",
    "\n",
    "print(sum(result) / len(result))"
   ]
  },
  {
   "cell_type": "code",
   "execution_count": 63,
   "metadata": {},
   "outputs": [
    {
     "name": "stdout",
     "output_type": "stream",
     "text": [
      "0.4663009586827185\n"
     ]
    }
   ],
   "source": [
    "result = []\n",
    "\n",
    "for k in range(num_k):\n",
    "    train_df = pd.read_csv(os.path.join(kfold_data_dir, f'{file_train_start}_{k}.csv',)).dropna()\n",
    "    test_df = pd.read_csv(os.path.join(kfold_data_dir, f'{file_test_start}_{k}.csv')).dropna()\n",
    "    \n",
    "    # Create right side model\n",
    "    \n",
    "    x_train, y_train = get_x_and_y(train_df, feature_left, ['PostOp-BHL'])\n",
    "    x_test, y_test = get_x_and_y(test_df, feature_left, ['PostOp-BHL'])\n",
    "    model = LinearRegression()\n",
    "    model.fit(x_train, y_train)\n",
    "    k_result = model.predict(x_test)\n",
    "    result.append(sum(abs(k_result - y_test)) / len(k_result))\n",
    "\n",
    "print(sum(result) / len(result))"
   ]
  },
  {
   "cell_type": "code",
   "execution_count": 64,
   "metadata": {},
   "outputs": [],
   "source": [
    "# IMF"
   ]
  },
  {
   "cell_type": "code",
   "execution_count": 65,
   "metadata": {},
   "outputs": [
    {
     "name": "stdout",
     "output_type": "stream",
     "text": [
      "0.6389652095742211\n"
     ]
    }
   ],
   "source": [
    "result = []\n",
    "\n",
    "for k in range(num_k):\n",
    "    train_df = pd.read_csv(os.path.join(kfold_data_dir, f'{file_train_start}_{k}.csv',)).dropna()\n",
    "    test_df = pd.read_csv(os.path.join(kfold_data_dir, f'{file_test_start}_{k}.csv')).dropna()\n",
    "    \n",
    "    # Create right side model\n",
    "    \n",
    "    x_train, y_train = get_x_and_y(train_df, feature_left, ['PostOp-IMFL'])\n",
    "    x_test, y_test = get_x_and_y(test_df, feature_left, ['PostOp-IMFL'])\n",
    "    model = LinearRegression()\n",
    "    model.fit(x_train, y_train)\n",
    "    k_result = model.predict(x_test)\n",
    "    result.append(sum(abs(k_result - y_test)) / len(k_result))\n",
    "\n",
    "print(sum(result) / len(result))"
   ]
  },
  {
   "cell_type": "code",
   "execution_count": 66,
   "metadata": {},
   "outputs": [
    {
     "name": "stdout",
     "output_type": "stream",
     "text": [
      "0.5719072863044273\n"
     ]
    }
   ],
   "source": [
    "result = []\n",
    "\n",
    "for k in range(num_k):\n",
    "    train_df = pd.read_csv(os.path.join(kfold_data_dir, f'{file_train_start}_{k}.csv',)).dropna()\n",
    "    test_df = pd.read_csv(os.path.join(kfold_data_dir, f'{file_test_start}_{k}.csv')).dropna()\n",
    "    \n",
    "    # Create right side model\n",
    "    \n",
    "    x_train, y_train = get_x_and_y(train_df, feature_right, ['PostOp-IMFR'])\n",
    "    x_test, y_test = get_x_and_y(test_df, feature_right, ['PostOp-IMFR'])\n",
    "    model = LinearRegression()\n",
    "    model.fit(x_train, y_train)\n",
    "    k_result = model.predict(x_test)\n",
    "    result.append(sum(abs(k_result - y_test)) / len(k_result))\n",
    "\n",
    "print(sum(result) / len(result))"
   ]
  },
  {
   "cell_type": "code",
   "execution_count": 67,
   "metadata": {},
   "outputs": [],
   "source": [
    "# AreW"
   ]
  },
  {
   "cell_type": "code",
   "execution_count": 68,
   "metadata": {},
   "outputs": [
    {
     "name": "stdout",
     "output_type": "stream",
     "text": [
      "0.32273837361608926\n"
     ]
    }
   ],
   "source": [
    "result = []\n",
    "\n",
    "for k in range(num_k):\n",
    "    train_df = pd.read_csv(os.path.join(kfold_data_dir, f'{file_train_start}_{k}.csv',)).dropna()\n",
    "    test_df = pd.read_csv(os.path.join(kfold_data_dir, f'{file_test_start}_{k}.csv')).dropna()\n",
    "    \n",
    "    # Create right side model\n",
    "    \n",
    "    x_train, y_train = get_x_and_y(train_df, feature_right, ['PostOp-AreRW'])\n",
    "    x_test, y_test = get_x_and_y(test_df, feature_right, ['PostOp-AreRW'])\n",
    "    model = LinearRegression()\n",
    "    model.fit(x_train, y_train)\n",
    "    k_result = model.predict(x_test)\n",
    "    result.append(sum(abs(k_result - y_test)) / len(k_result))\n",
    "\n",
    "print(sum(result) / len(result))"
   ]
  },
  {
   "cell_type": "code",
   "execution_count": 69,
   "metadata": {},
   "outputs": [
    {
     "name": "stdout",
     "output_type": "stream",
     "text": [
      "0.3755018673642546\n"
     ]
    }
   ],
   "source": [
    "result = []\n",
    "\n",
    "for k in range(num_k):\n",
    "    train_df = pd.read_csv(os.path.join(kfold_data_dir, f'{file_train_start}_{k}.csv',)).dropna()\n",
    "    test_df = pd.read_csv(os.path.join(kfold_data_dir, f'{file_test_start}_{k}.csv')).dropna()\n",
    "    \n",
    "    # Create right side model\n",
    "    \n",
    "    x_train, y_train = get_x_and_y(train_df, feature_left, ['PostOp-AreLW'])\n",
    "    x_test, y_test = get_x_and_y(test_df, feature_left, ['PostOp-AreLW'])\n",
    "    model = LinearRegression()\n",
    "    model.fit(x_train, y_train)\n",
    "    k_result = model.predict(x_test)\n",
    "    result.append(sum(abs(k_result - y_test)) / len(k_result))\n",
    "\n",
    "print(sum(result) / len(result))"
   ]
  },
  {
   "cell_type": "code",
   "execution_count": 70,
   "metadata": {},
   "outputs": [],
   "source": [
    "# AreH"
   ]
  },
  {
   "cell_type": "code",
   "execution_count": 75,
   "metadata": {},
   "outputs": [
    {
     "name": "stdout",
     "output_type": "stream",
     "text": [
      "0.33615339003311984\n"
     ]
    }
   ],
   "source": [
    "result = []\n",
    "\n",
    "for k in range(num_k):\n",
    "    train_df = pd.read_csv(os.path.join(kfold_data_dir, f'{file_train_start}_{k}.csv',)).dropna()\n",
    "    test_df = pd.read_csv(os.path.join(kfold_data_dir, f'{file_test_start}_{k}.csv')).dropna()\n",
    "    \n",
    "    # Create right side model\n",
    "    \n",
    "    x_train, y_train = get_x_and_y(train_df, feature_right, ['PostOp-AreRH'])\n",
    "    x_test, y_test = get_x_and_y(test_df, feature_right, ['PostOp-AreRH'])\n",
    "    model = LinearRegression()\n",
    "    model.fit(x_train, y_train)\n",
    "    k_result = model.predict(x_test)\n",
    "    result.append(sum(abs(k_result - y_test)) / len(k_result))\n",
    "\n",
    "print(sum(result) / len(result))"
   ]
  },
  {
   "cell_type": "code",
   "execution_count": 76,
   "metadata": {},
   "outputs": [
    {
     "name": "stdout",
     "output_type": "stream",
     "text": [
      "0.3909511655303531\n"
     ]
    }
   ],
   "source": [
    "result = []\n",
    "\n",
    "for k in range(num_k):\n",
    "    train_df = pd.read_csv(os.path.join(kfold_data_dir, f'{file_train_start}_{k}.csv',)).dropna()\n",
    "    test_df = pd.read_csv(os.path.join(kfold_data_dir, f'{file_test_start}_{k}.csv')).dropna()\n",
    "    \n",
    "    # Create right side model\n",
    "    \n",
    "    x_train, y_train = get_x_and_y(train_df, feature_left, ['PostOp-AreLH'])\n",
    "    x_test, y_test = get_x_and_y(test_df, feature_left, ['PostOp-AreLH'])\n",
    "    model = LinearRegression()\n",
    "    model.fit(x_train, y_train)\n",
    "    k_result = model.predict(x_test)\n",
    "    result.append(sum(abs(k_result - y_test)) / len(k_result))\n",
    "\n",
    "print(sum(result) / len(result))"
   ]
  },
  {
   "cell_type": "code",
   "execution_count": 73,
   "metadata": {},
   "outputs": [],
   "source": [
    "#  ID"
   ]
  },
  {
   "cell_type": "code",
   "execution_count": 77,
   "metadata": {},
   "outputs": [
    {
     "name": "stdout",
     "output_type": "stream",
     "text": [
      "0.4699727276025022\n"
     ]
    }
   ],
   "source": [
    "result = []\n",
    "\n",
    "for k in range(num_k):\n",
    "    train_df = pd.read_csv(os.path.join(kfold_data_dir, f'{file_train_start}_{k}.csv',)).dropna()\n",
    "    test_df = pd.read_csv(os.path.join(kfold_data_dir, f'{file_test_start}_{k}.csv')).dropna()\n",
    "    \n",
    "    # Create right side model\n",
    "    \n",
    "    x_train, y_train = get_x_and_y(train_df, list(set(feature_left + feature_right)), ['PostOp-ID'])\n",
    "    x_test, y_test = get_x_and_y(test_df, list(set(feature_left + feature_right)), ['PostOp-ID'])\n",
    "    model = LinearRegression()\n",
    "    model.fit(x_train, y_train)\n",
    "    k_result = model.predict(x_test)\n",
    "    result.append(sum(abs(k_result - y_test)) / len(k_result))\n",
    "\n",
    "print(sum(result) / len(result))"
   ]
  },
  {
   "cell_type": "code",
   "execution_count": null,
   "metadata": {},
   "outputs": [],
   "source": []
  }
 ],
 "metadata": {
  "kernelspec": {
   "display_name": "Python 3",
   "language": "python",
   "name": "python3"
  },
  "language_info": {
   "codemirror_mode": {
    "name": "ipython",
    "version": 3
   },
   "file_extension": ".py",
   "mimetype": "text/x-python",
   "name": "python",
   "nbconvert_exporter": "python",
   "pygments_lexer": "ipython3",
   "version": "3.6.6"
  }
 },
 "nbformat": 4,
 "nbformat_minor": 2
}
