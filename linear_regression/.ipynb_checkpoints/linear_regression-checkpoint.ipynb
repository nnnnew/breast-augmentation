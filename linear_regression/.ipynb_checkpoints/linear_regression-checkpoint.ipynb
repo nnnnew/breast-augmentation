{
 "cells": [
  {
   "cell_type": "code",
   "execution_count": 2,
   "metadata": {},
   "outputs": [],
   "source": [
    "import numpy as np\n",
    "import pandas as pd\n",
    "import matplotlib.pyplot as plt\n",
    "import os\n",
    "import re\n",
    "\n",
    "from sklearn.model_selection import KFold, train_test_split"
   ]
  },
  {
   "cell_type": "code",
   "execution_count": 8,
   "metadata": {},
   "outputs": [],
   "source": [
    "kfold_data_dir = './data/k-fold/'"
   ]
  },
  {
   "cell_type": "code",
   "execution_count": 9,
   "metadata": {},
   "outputs": [],
   "source": [
    "file_list = os.listdir(kfold_data_dir)"
   ]
  },
  {
   "cell_type": "code",
   "execution_count": 11,
   "metadata": {},
   "outputs": [
    {
     "name": "stdout",
     "output_type": "stream",
     "text": [
      "20\n"
     ]
    }
   ],
   "source": [
    "print(len(file_list))"
   ]
  },
  {
   "cell_type": "code",
   "execution_count": 51,
   "metadata": {},
   "outputs": [
    {
     "name": "stdout",
     "output_type": "stream",
     "text": [
      "Number of K is 10\n",
      "Number of model is 15\n"
     ]
    }
   ],
   "source": [
    "file_train_start = 'train'\n",
    "file_test_start = 'test'\n",
    "\n",
    "num_k = int(len(file_list) / 2)\n",
    "print(f'Number of K is {num_k}')\n",
    "\n",
    "predict_class_right = ['PostOp-SNR',  'PostOp-CNR',  'PostOp-BWR', 'PostOp-BHR',\n",
    "                       'PostOp-IMFR',  'PostOp-AreRW', 'PostOp-AreRH']\n",
    "\n",
    "predict_class_left = [ 'PostOp-SNL',  'PostOp-CNL', 'PostOp-BWR',\n",
    "                      'PostOp-BHL',  'PostOp-IMFL','PostOp-AreLW', 'PostOp-AreLH']\n",
    "\n",
    "predict_post_id = ['PostOp-ID']\n",
    "\n",
    "feature_left = ['PostOp-SNL', 'PostOp-CNL', 'PostOp-BWL', 'PostOp-BHL', 'PostOp-IMFL', 'PostOp-AreLW',\n",
    "                'PostOp-AreLH', 'PostOp-ID', 'ImplantLeft']\n",
    "\n",
    "feature_right = ['PostOp-SNL', 'PostOp-CNL', 'PostOp-BWL', 'PostOp-BHL', 'PostOp-IMFL', 'PostOp-AreLW',\n",
    "                'PostOp-AreLH', 'PostOp-ID', 'ImplantRight']\n",
    "\n",
    "print(f'Number of model is {(len(predict_class_right) + len(predict_post_id) + len(predict_class_left))}')"
   ]
  },
  {
   "cell_type": "code",
   "execution_count": 64,
   "metadata": {},
   "outputs": [
    {
     "data": {
      "text/html": [
       "<div>\n",
       "<style scoped>\n",
       "    .dataframe tbody tr th:only-of-type {\n",
       "        vertical-align: middle;\n",
       "    }\n",
       "\n",
       "    .dataframe tbody tr th {\n",
       "        vertical-align: top;\n",
       "    }\n",
       "\n",
       "    .dataframe thead th {\n",
       "        text-align: right;\n",
       "    }\n",
       "</style>\n",
       "<table border=\"1\" class=\"dataframe\">\n",
       "  <thead>\n",
       "    <tr style=\"text-align: right;\">\n",
       "      <th></th>\n",
       "      <th>OperationDate</th>\n",
       "      <th>Implant size</th>\n",
       "      <th>PreOp-SNR</th>\n",
       "      <th>PreOp-SNL</th>\n",
       "      <th>PreOp-CNR</th>\n",
       "      <th>PreOp-CNL</th>\n",
       "      <th>PreOp-BWR</th>\n",
       "      <th>PreOp-BWL</th>\n",
       "      <th>PreOp-BHR</th>\n",
       "      <th>PreOp-BHL</th>\n",
       "      <th>...</th>\n",
       "      <th>PostOp-BHL</th>\n",
       "      <th>PostOp-IMFR</th>\n",
       "      <th>PostOp-IMFL</th>\n",
       "      <th>PostOp-AreRW</th>\n",
       "      <th>PostOp-AreRH</th>\n",
       "      <th>PostOp-AreLW</th>\n",
       "      <th>PostOp-AreLH</th>\n",
       "      <th>PostOp-ID</th>\n",
       "      <th>ImplantLeft</th>\n",
       "      <th>ImplantRight</th>\n",
       "    </tr>\n",
       "  </thead>\n",
       "  <tbody>\n",
       "    <tr>\n",
       "      <th>0</th>\n",
       "      <td>25-Nov-16</td>\n",
       "      <td>275</td>\n",
       "      <td>15.0</td>\n",
       "      <td>15.0</td>\n",
       "      <td>13.5</td>\n",
       "      <td>13.5</td>\n",
       "      <td>12.4</td>\n",
       "      <td>12.4</td>\n",
       "      <td>9.0</td>\n",
       "      <td>9.0</td>\n",
       "      <td>...</td>\n",
       "      <td>12.7</td>\n",
       "      <td>8.0</td>\n",
       "      <td>8.0</td>\n",
       "      <td>2.8</td>\n",
       "      <td>2.8</td>\n",
       "      <td>2.8</td>\n",
       "      <td>2.8</td>\n",
       "      <td>0.5</td>\n",
       "      <td>275</td>\n",
       "      <td>275</td>\n",
       "    </tr>\n",
       "    <tr>\n",
       "      <th>1</th>\n",
       "      <td>18-Nov-16</td>\n",
       "      <td>275</td>\n",
       "      <td>18.5</td>\n",
       "      <td>18.5</td>\n",
       "      <td>17.5</td>\n",
       "      <td>17.5</td>\n",
       "      <td>12.6</td>\n",
       "      <td>12.6</td>\n",
       "      <td>9.0</td>\n",
       "      <td>9.0</td>\n",
       "      <td>...</td>\n",
       "      <td>13.0</td>\n",
       "      <td>8.0</td>\n",
       "      <td>8.0</td>\n",
       "      <td>3.0</td>\n",
       "      <td>2.5</td>\n",
       "      <td>3.0</td>\n",
       "      <td>2.5</td>\n",
       "      <td>1.5</td>\n",
       "      <td>275</td>\n",
       "      <td>275</td>\n",
       "    </tr>\n",
       "    <tr>\n",
       "      <th>2</th>\n",
       "      <td>26-Aug-16</td>\n",
       "      <td>275</td>\n",
       "      <td>16.0</td>\n",
       "      <td>16.0</td>\n",
       "      <td>14.0</td>\n",
       "      <td>13.5</td>\n",
       "      <td>12.0</td>\n",
       "      <td>12.0</td>\n",
       "      <td>10.2</td>\n",
       "      <td>9.8</td>\n",
       "      <td>...</td>\n",
       "      <td>12.0</td>\n",
       "      <td>7.5</td>\n",
       "      <td>9.0</td>\n",
       "      <td>3.0</td>\n",
       "      <td>2.5</td>\n",
       "      <td>3.0</td>\n",
       "      <td>2.5</td>\n",
       "      <td>1.5</td>\n",
       "      <td>275</td>\n",
       "      <td>275</td>\n",
       "    </tr>\n",
       "    <tr>\n",
       "      <th>3</th>\n",
       "      <td>24-Sep-16</td>\n",
       "      <td>275</td>\n",
       "      <td>16.0</td>\n",
       "      <td>16.0</td>\n",
       "      <td>15.0</td>\n",
       "      <td>14.5</td>\n",
       "      <td>13.0</td>\n",
       "      <td>13.0</td>\n",
       "      <td>9.0</td>\n",
       "      <td>9.0</td>\n",
       "      <td>...</td>\n",
       "      <td>13.5</td>\n",
       "      <td>6.5</td>\n",
       "      <td>6.5</td>\n",
       "      <td>3.5</td>\n",
       "      <td>3.5</td>\n",
       "      <td>3.5</td>\n",
       "      <td>2.5</td>\n",
       "      <td>1.0</td>\n",
       "      <td>275</td>\n",
       "      <td>275</td>\n",
       "    </tr>\n",
       "    <tr>\n",
       "      <th>4</th>\n",
       "      <td>28-Oct-16</td>\n",
       "      <td>300</td>\n",
       "      <td>17.5</td>\n",
       "      <td>17.5</td>\n",
       "      <td>16.5</td>\n",
       "      <td>16.5</td>\n",
       "      <td>12.0</td>\n",
       "      <td>12.0</td>\n",
       "      <td>9.8</td>\n",
       "      <td>9.8</td>\n",
       "      <td>...</td>\n",
       "      <td>13.3</td>\n",
       "      <td>7.5</td>\n",
       "      <td>8.5</td>\n",
       "      <td>3.0</td>\n",
       "      <td>3.0</td>\n",
       "      <td>3.0</td>\n",
       "      <td>3.0</td>\n",
       "      <td>0.5</td>\n",
       "      <td>300</td>\n",
       "      <td>300</td>\n",
       "    </tr>\n",
       "  </tbody>\n",
       "</table>\n",
       "<p>5 rows × 37 columns</p>\n",
       "</div>"
      ],
      "text/plain": [
       "  OperationDate Implant size  PreOp-SNR  PreOp-SNL  PreOp-CNR  PreOp-CNL  \\\n",
       "0     25-Nov-16          275       15.0       15.0       13.5       13.5   \n",
       "1     18-Nov-16          275       18.5       18.5       17.5       17.5   \n",
       "2     26-Aug-16          275       16.0       16.0       14.0       13.5   \n",
       "3     24-Sep-16          275       16.0       16.0       15.0       14.5   \n",
       "4     28-Oct-16          300       17.5       17.5       16.5       16.5   \n",
       "\n",
       "   PreOp-BWR  PreOp-BWL  PreOp-BHR  PreOp-BHL      ...       PostOp-BHL  \\\n",
       "0       12.4       12.4        9.0        9.0      ...             12.7   \n",
       "1       12.6       12.6        9.0        9.0      ...             13.0   \n",
       "2       12.0       12.0       10.2        9.8      ...             12.0   \n",
       "3       13.0       13.0        9.0        9.0      ...             13.5   \n",
       "4       12.0       12.0        9.8        9.8      ...             13.3   \n",
       "\n",
       "   PostOp-IMFR  PostOp-IMFL  PostOp-AreRW  PostOp-AreRH  PostOp-AreLW  \\\n",
       "0          8.0          8.0           2.8           2.8           2.8   \n",
       "1          8.0          8.0           3.0           2.5           3.0   \n",
       "2          7.5          9.0           3.0           2.5           3.0   \n",
       "3          6.5          6.5           3.5           3.5           3.5   \n",
       "4          7.5          8.5           3.0           3.0           3.0   \n",
       "\n",
       "   PostOp-AreLH  PostOp-ID  ImplantLeft  ImplantRight  \n",
       "0           2.8        0.5          275           275  \n",
       "1           2.5        1.5          275           275  \n",
       "2           2.5        1.5          275           275  \n",
       "3           2.5        1.0          275           275  \n",
       "4           3.0        0.5          300           300  \n",
       "\n",
       "[5 rows x 37 columns]"
      ]
     },
     "execution_count": 64,
     "metadata": {},
     "output_type": "execute_result"
    }
   ],
   "source": [
    "df.head()"
   ]
  },
  {
   "cell_type": "code",
   "execution_count": 69,
   "metadata": {},
   "outputs": [],
   "source": [
    "def get_x_and_y(df: pd.DataFrame, x_head=[], y_head=[]):\n",
    "    x, y = [], []\n",
    "    \n",
    "    for index, row in df.iterrows():\n",
    "        x_temp = []\n",
    "        for x_h in x_head:\n",
    "            x_temp.append(row[x_h])\n",
    "        x.append(x_temp)\n",
    "        y.append(row[y_head[0]])"
   ]
  },
  {
   "cell_type": "code",
   "execution_count": 75,
   "metadata": {},
   "outputs": [
    {
     "name": "stdout",
     "output_type": "stream",
     "text": [
      "0\n",
      "[[16.5, 14.5, 11.9, 12.7, 8.0, 2.8, 2.8, 0.5, 275], [20.0, 18.0, 12.5, 13.0, 8.0, 3.0, 2.5, 1.5, 275], [17.0, 15.0, 11.8, 12.0, 9.0, 3.0, 2.5, 1.5, 275], [18.0, 16.5, 13.1, 13.5, 6.5, 3.5, 2.5, 1.0, 275], [18.5, 17.0, 12.7, 13.3, 8.5, 3.0, 3.0, 0.5, 300], [18.0, 16.5, 13.3, 14.2, 10.0, 4.0, 4.0, 0.1, 300], [16.5, 15.0, 12.7, 13.0, 9.0, 3.5, 3.5, 0.5, 300], [18.0, 16.5, 12.8, 14.0, 9.0, 3.5, 3.5, 0.5, 300], [18.5, 17.0, 12.3, 12.7, 8.5, 3.5, 3.0, 1.0, 300], [17.0, 16.0, 13.0, 13.7, 8.0, 3.0, 3.0, 0.1, 325], [20.0, 17.5, 13.6, 13.5, 10.0, 4.5, 4.0, 1.5, 325], [20.0, 18.5, 13.5, 13.9, 7.5, 4.0, 4.0, 1.0, 325], [18.0, 16.5, 12.9, 13.5, 9.0, 3.0, 3.0, 1.0, 325], [18.0, 15.5, 12.5, 13.5, 9.0, 3.5, 3.0, 1.5, 325], [19.0, 17.0, 13.1, 13.8, 8.0, 2.5, 2.5, 0.5, 325]]\n",
      "[16.5, 20.0, 17.0, 18.0, 18.5, 18.0, 16.5, 18.0, 18.5, 17.0, 20.0, 20.0, 18.0, 18.0, 19.0]\n"
     ]
    },
    {
     "ename": "TypeError",
     "evalue": "'NoneType' object is not iterable",
     "output_type": "error",
     "traceback": [
      "\u001b[0;31m---------------------------------------------------------------------------\u001b[0m",
      "\u001b[0;31mTypeError\u001b[0m                                 Traceback (most recent call last)",
      "\u001b[0;32m<ipython-input-75-7ed87248d7e6>\u001b[0m in \u001b[0;36m<module>\u001b[0;34m\u001b[0m\n\u001b[1;32m      4\u001b[0m     \u001b[0mprint\u001b[0m\u001b[0;34m(\u001b[0m\u001b[0mk\u001b[0m\u001b[0;34m)\u001b[0m\u001b[0;34m\u001b[0m\u001b[0m\n\u001b[1;32m      5\u001b[0m \u001b[0;34m\u001b[0m\u001b[0m\n\u001b[0;32m----> 6\u001b[0;31m     \u001b[0mx_train\u001b[0m\u001b[0;34m,\u001b[0m \u001b[0my_train\u001b[0m \u001b[0;34m=\u001b[0m \u001b[0mget_x_and_y\u001b[0m\u001b[0;34m(\u001b[0m\u001b[0mtest_df\u001b[0m\u001b[0;34m,\u001b[0m \u001b[0mfeature_right\u001b[0m\u001b[0;34m,\u001b[0m \u001b[0;34m[\u001b[0m\u001b[0;34m'PostOp-SNL'\u001b[0m\u001b[0;34m]\u001b[0m\u001b[0;34m)\u001b[0m\u001b[0;34m\u001b[0m\u001b[0m\n\u001b[0m",
      "\u001b[0;31mTypeError\u001b[0m: 'NoneType' object is not iterable"
     ]
    }
   ],
   "source": [
    "for k in range(num_k):\n",
    "    train_df = pd.read_csv(os.path.join(kfold_data_dir, f'{file_train_start}_{k}.csv',))\n",
    "    test_df = pd.read_csv(os.path.join(kfold_data_dir, f'{file_test_start}_{k}.csv'))\n",
    "\n",
    "    x_train, y_train = get_x_and_y(train_df, feature_right, ['PostOp-SNL'])"
   ]
  },
  {
   "cell_type": "code",
   "execution_count": null,
   "metadata": {},
   "outputs": [],
   "source": []
  }
 ],
 "metadata": {
  "kernelspec": {
   "display_name": "Python 3",
   "language": "python",
   "name": "python3"
  },
  "language_info": {
   "codemirror_mode": {
    "name": "ipython",
    "version": 3
   },
   "file_extension": ".py",
   "mimetype": "text/x-python",
   "name": "python",
   "nbconvert_exporter": "python",
   "pygments_lexer": "ipython3",
   "version": "3.6.6"
  }
 },
 "nbformat": 4,
 "nbformat_minor": 2
}
