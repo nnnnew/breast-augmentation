{
 "cells": [
  {
   "cell_type": "code",
   "execution_count": 175,
   "metadata": {},
   "outputs": [],
   "source": [
    "import numpy as np\n",
    "import statistics as stats\n",
    "import pandas as pd\n",
    "import matplotlib.pyplot as plt\n",
    "import os\n",
    "import re\n",
    "\n",
    "from sklearn.model_selection import KFold"
   ]
  },
  {
   "cell_type": "markdown",
   "metadata": {},
   "source": [
    "# Define params and helpers"
   ]
  },
  {
   "cell_type": "code",
   "execution_count": 2,
   "metadata": {},
   "outputs": [],
   "source": [
    "data_dir = 'data'\n",
    "raw_data_path = 'raw_data.csv'"
   ]
  },
  {
   "cell_type": "code",
   "execution_count": 3,
   "metadata": {},
   "outputs": [],
   "source": [
    "# Load data"
   ]
  },
  {
   "cell_type": "code",
   "execution_count": 173,
   "metadata": {},
   "outputs": [
    {
     "name": "stdout",
     "output_type": "stream",
     "text": [
      "Number of data:  187\n"
     ]
    }
   ],
   "source": [
    "df = pd.read_csv(os.path.join(data_dir, raw_data_path))\n",
    "df = df.drop(columns=['HN', 'Name'])\n",
    "print('Number of data: ', len(df))"
   ]
  },
  {
   "cell_type": "code",
   "execution_count": 5,
   "metadata": {},
   "outputs": [
    {
     "data": {
      "text/html": [
       "<div>\n",
       "<style scoped>\n",
       "    .dataframe tbody tr th:only-of-type {\n",
       "        vertical-align: middle;\n",
       "    }\n",
       "\n",
       "    .dataframe tbody tr th {\n",
       "        vertical-align: top;\n",
       "    }\n",
       "\n",
       "    .dataframe thead th {\n",
       "        text-align: right;\n",
       "    }\n",
       "</style>\n",
       "<table border=\"1\" class=\"dataframe\">\n",
       "  <thead>\n",
       "    <tr style=\"text-align: right;\">\n",
       "      <th></th>\n",
       "      <th>OperationDate</th>\n",
       "      <th>Implant size</th>\n",
       "      <th>PreOp-SNR</th>\n",
       "      <th>PreOp-SNL</th>\n",
       "      <th>PreOp-CNR</th>\n",
       "      <th>PreOp-CNL</th>\n",
       "      <th>PreOp-BWR</th>\n",
       "      <th>PreOp-BWL</th>\n",
       "      <th>PreOp-BHR</th>\n",
       "      <th>PreOp-BHL</th>\n",
       "      <th>...</th>\n",
       "      <th>PostOp-BWL</th>\n",
       "      <th>PostOp-BHR</th>\n",
       "      <th>PostOp-BHL</th>\n",
       "      <th>PostOp-IMFR</th>\n",
       "      <th>PostOp-IMFL</th>\n",
       "      <th>PostOp-AreRW</th>\n",
       "      <th>PostOp-AreRH</th>\n",
       "      <th>PostOp-AreLW</th>\n",
       "      <th>PostOp-AreLH</th>\n",
       "      <th>PostOp-ID</th>\n",
       "    </tr>\n",
       "  </thead>\n",
       "  <tbody>\n",
       "    <tr>\n",
       "      <th>0</th>\n",
       "      <td>25-Nov-16</td>\n",
       "      <td>275</td>\n",
       "      <td>15.0</td>\n",
       "      <td>15.0</td>\n",
       "      <td>13.5</td>\n",
       "      <td>13.5</td>\n",
       "      <td>12.4</td>\n",
       "      <td>12.4</td>\n",
       "      <td>9.0</td>\n",
       "      <td>9.0</td>\n",
       "      <td>...</td>\n",
       "      <td>11.9</td>\n",
       "      <td>12.7</td>\n",
       "      <td>12.7</td>\n",
       "      <td>8.0</td>\n",
       "      <td>8.0</td>\n",
       "      <td>2.8</td>\n",
       "      <td>2.8</td>\n",
       "      <td>2.8</td>\n",
       "      <td>2.8</td>\n",
       "      <td>0.5</td>\n",
       "    </tr>\n",
       "    <tr>\n",
       "      <th>1</th>\n",
       "      <td>18-Nov-16</td>\n",
       "      <td>275</td>\n",
       "      <td>18.5</td>\n",
       "      <td>18.5</td>\n",
       "      <td>17.5</td>\n",
       "      <td>17.5</td>\n",
       "      <td>12.6</td>\n",
       "      <td>12.6</td>\n",
       "      <td>9.0</td>\n",
       "      <td>9.0</td>\n",
       "      <td>...</td>\n",
       "      <td>12.5</td>\n",
       "      <td>13.0</td>\n",
       "      <td>13.0</td>\n",
       "      <td>8.0</td>\n",
       "      <td>8.0</td>\n",
       "      <td>3.0</td>\n",
       "      <td>2.5</td>\n",
       "      <td>3.0</td>\n",
       "      <td>2.5</td>\n",
       "      <td>1.5</td>\n",
       "    </tr>\n",
       "    <tr>\n",
       "      <th>2</th>\n",
       "      <td>26-Aug-16</td>\n",
       "      <td>275</td>\n",
       "      <td>16.0</td>\n",
       "      <td>16.0</td>\n",
       "      <td>14.0</td>\n",
       "      <td>13.5</td>\n",
       "      <td>12.0</td>\n",
       "      <td>12.0</td>\n",
       "      <td>10.2</td>\n",
       "      <td>9.8</td>\n",
       "      <td>...</td>\n",
       "      <td>11.8</td>\n",
       "      <td>12.0</td>\n",
       "      <td>12.0</td>\n",
       "      <td>7.5</td>\n",
       "      <td>9.0</td>\n",
       "      <td>3.0</td>\n",
       "      <td>2.5</td>\n",
       "      <td>3.0</td>\n",
       "      <td>2.5</td>\n",
       "      <td>1.5</td>\n",
       "    </tr>\n",
       "    <tr>\n",
       "      <th>3</th>\n",
       "      <td>24-Sep-16</td>\n",
       "      <td>275</td>\n",
       "      <td>16.0</td>\n",
       "      <td>16.0</td>\n",
       "      <td>15.0</td>\n",
       "      <td>14.5</td>\n",
       "      <td>13.0</td>\n",
       "      <td>13.0</td>\n",
       "      <td>9.0</td>\n",
       "      <td>9.0</td>\n",
       "      <td>...</td>\n",
       "      <td>13.1</td>\n",
       "      <td>13.5</td>\n",
       "      <td>13.5</td>\n",
       "      <td>6.5</td>\n",
       "      <td>6.5</td>\n",
       "      <td>3.5</td>\n",
       "      <td>3.5</td>\n",
       "      <td>3.5</td>\n",
       "      <td>2.5</td>\n",
       "      <td>1.0</td>\n",
       "    </tr>\n",
       "    <tr>\n",
       "      <th>4</th>\n",
       "      <td>28-Oct-16</td>\n",
       "      <td>300</td>\n",
       "      <td>17.5</td>\n",
       "      <td>17.5</td>\n",
       "      <td>16.5</td>\n",
       "      <td>16.5</td>\n",
       "      <td>12.0</td>\n",
       "      <td>12.0</td>\n",
       "      <td>9.8</td>\n",
       "      <td>9.8</td>\n",
       "      <td>...</td>\n",
       "      <td>12.7</td>\n",
       "      <td>13.3</td>\n",
       "      <td>13.3</td>\n",
       "      <td>7.5</td>\n",
       "      <td>8.5</td>\n",
       "      <td>3.0</td>\n",
       "      <td>3.0</td>\n",
       "      <td>3.0</td>\n",
       "      <td>3.0</td>\n",
       "      <td>0.5</td>\n",
       "    </tr>\n",
       "    <tr>\n",
       "      <th>5</th>\n",
       "      <td>24-Sep-16</td>\n",
       "      <td>300</td>\n",
       "      <td>17.0</td>\n",
       "      <td>17.0</td>\n",
       "      <td>16.0</td>\n",
       "      <td>16.0</td>\n",
       "      <td>13.0</td>\n",
       "      <td>13.0</td>\n",
       "      <td>11.6</td>\n",
       "      <td>11.6</td>\n",
       "      <td>...</td>\n",
       "      <td>13.3</td>\n",
       "      <td>14.2</td>\n",
       "      <td>14.2</td>\n",
       "      <td>9.0</td>\n",
       "      <td>10.0</td>\n",
       "      <td>4.0</td>\n",
       "      <td>4.0</td>\n",
       "      <td>4.0</td>\n",
       "      <td>4.0</td>\n",
       "      <td>0.1</td>\n",
       "    </tr>\n",
       "    <tr>\n",
       "      <th>6</th>\n",
       "      <td>22-Dec-16</td>\n",
       "      <td>300</td>\n",
       "      <td>15.5</td>\n",
       "      <td>15.5</td>\n",
       "      <td>14.0</td>\n",
       "      <td>14.0</td>\n",
       "      <td>12.4</td>\n",
       "      <td>12.4</td>\n",
       "      <td>10.0</td>\n",
       "      <td>10.0</td>\n",
       "      <td>...</td>\n",
       "      <td>12.7</td>\n",
       "      <td>13.0</td>\n",
       "      <td>13.0</td>\n",
       "      <td>8.5</td>\n",
       "      <td>9.0</td>\n",
       "      <td>3.5</td>\n",
       "      <td>3.5</td>\n",
       "      <td>3.5</td>\n",
       "      <td>3.5</td>\n",
       "      <td>0.5</td>\n",
       "    </tr>\n",
       "    <tr>\n",
       "      <th>7</th>\n",
       "      <td>28-Dec-15</td>\n",
       "      <td>300</td>\n",
       "      <td>17.5</td>\n",
       "      <td>17.0</td>\n",
       "      <td>15.5</td>\n",
       "      <td>14.5</td>\n",
       "      <td>12.5</td>\n",
       "      <td>12.8</td>\n",
       "      <td>12.4</td>\n",
       "      <td>12.4</td>\n",
       "      <td>...</td>\n",
       "      <td>12.8</td>\n",
       "      <td>14.0</td>\n",
       "      <td>14.0</td>\n",
       "      <td>8.0</td>\n",
       "      <td>9.0</td>\n",
       "      <td>3.8</td>\n",
       "      <td>3.5</td>\n",
       "      <td>3.5</td>\n",
       "      <td>3.5</td>\n",
       "      <td>0.5</td>\n",
       "    </tr>\n",
       "    <tr>\n",
       "      <th>8</th>\n",
       "      <td>18-Jul-16</td>\n",
       "      <td>300</td>\n",
       "      <td>18.0</td>\n",
       "      <td>17.0</td>\n",
       "      <td>16.0</td>\n",
       "      <td>15.0</td>\n",
       "      <td>13.0</td>\n",
       "      <td>13.0</td>\n",
       "      <td>11.2</td>\n",
       "      <td>10.0</td>\n",
       "      <td>...</td>\n",
       "      <td>12.3</td>\n",
       "      <td>12.7</td>\n",
       "      <td>12.7</td>\n",
       "      <td>8.0</td>\n",
       "      <td>8.5</td>\n",
       "      <td>3.2</td>\n",
       "      <td>3.0</td>\n",
       "      <td>3.5</td>\n",
       "      <td>3.0</td>\n",
       "      <td>1.0</td>\n",
       "    </tr>\n",
       "    <tr>\n",
       "      <th>9</th>\n",
       "      <td>19-Aug-16</td>\n",
       "      <td>325</td>\n",
       "      <td>16.5</td>\n",
       "      <td>16.5</td>\n",
       "      <td>15.5</td>\n",
       "      <td>15.5</td>\n",
       "      <td>12.8</td>\n",
       "      <td>12.8</td>\n",
       "      <td>10.7</td>\n",
       "      <td>10.3</td>\n",
       "      <td>...</td>\n",
       "      <td>13.0</td>\n",
       "      <td>13.7</td>\n",
       "      <td>13.7</td>\n",
       "      <td>8.0</td>\n",
       "      <td>8.0</td>\n",
       "      <td>3.0</td>\n",
       "      <td>3.0</td>\n",
       "      <td>3.0</td>\n",
       "      <td>3.0</td>\n",
       "      <td>0.1</td>\n",
       "    </tr>\n",
       "  </tbody>\n",
       "</table>\n",
       "<p>10 rows × 35 columns</p>\n",
       "</div>"
      ],
      "text/plain": [
       "  OperationDate Implant size  PreOp-SNR  PreOp-SNL  PreOp-CNR  PreOp-CNL  \\\n",
       "0     25-Nov-16          275       15.0       15.0       13.5       13.5   \n",
       "1     18-Nov-16          275       18.5       18.5       17.5       17.5   \n",
       "2     26-Aug-16          275       16.0       16.0       14.0       13.5   \n",
       "3     24-Sep-16          275       16.0       16.0       15.0       14.5   \n",
       "4     28-Oct-16          300       17.5       17.5       16.5       16.5   \n",
       "5     24-Sep-16          300       17.0       17.0       16.0       16.0   \n",
       "6     22-Dec-16          300       15.5       15.5       14.0       14.0   \n",
       "7     28-Dec-15          300       17.5       17.0       15.5       14.5   \n",
       "8     18-Jul-16          300       18.0       17.0       16.0       15.0   \n",
       "9     19-Aug-16          325       16.5       16.5       15.5       15.5   \n",
       "\n",
       "   PreOp-BWR  PreOp-BWL  PreOp-BHR  PreOp-BHL    ...      PostOp-BWL  \\\n",
       "0       12.4       12.4        9.0        9.0    ...            11.9   \n",
       "1       12.6       12.6        9.0        9.0    ...            12.5   \n",
       "2       12.0       12.0       10.2        9.8    ...            11.8   \n",
       "3       13.0       13.0        9.0        9.0    ...            13.1   \n",
       "4       12.0       12.0        9.8        9.8    ...            12.7   \n",
       "5       13.0       13.0       11.6       11.6    ...            13.3   \n",
       "6       12.4       12.4       10.0       10.0    ...            12.7   \n",
       "7       12.5       12.8       12.4       12.4    ...            12.8   \n",
       "8       13.0       13.0       11.2       10.0    ...            12.3   \n",
       "9       12.8       12.8       10.7       10.3    ...            13.0   \n",
       "\n",
       "   PostOp-BHR  PostOp-BHL  PostOp-IMFR  PostOp-IMFL  PostOp-AreRW  \\\n",
       "0        12.7        12.7          8.0          8.0           2.8   \n",
       "1        13.0        13.0          8.0          8.0           3.0   \n",
       "2        12.0        12.0          7.5          9.0           3.0   \n",
       "3        13.5        13.5          6.5          6.5           3.5   \n",
       "4        13.3        13.3          7.5          8.5           3.0   \n",
       "5        14.2        14.2          9.0         10.0           4.0   \n",
       "6        13.0        13.0          8.5          9.0           3.5   \n",
       "7        14.0        14.0          8.0          9.0           3.8   \n",
       "8        12.7        12.7          8.0          8.5           3.2   \n",
       "9        13.7        13.7          8.0          8.0           3.0   \n",
       "\n",
       "   PostOp-AreRH  PostOp-AreLW  PostOp-AreLH  PostOp-ID  \n",
       "0           2.8           2.8           2.8        0.5  \n",
       "1           2.5           3.0           2.5        1.5  \n",
       "2           2.5           3.0           2.5        1.5  \n",
       "3           3.5           3.5           2.5        1.0  \n",
       "4           3.0           3.0           3.0        0.5  \n",
       "5           4.0           4.0           4.0        0.1  \n",
       "6           3.5           3.5           3.5        0.5  \n",
       "7           3.5           3.5           3.5        0.5  \n",
       "8           3.0           3.5           3.0        1.0  \n",
       "9           3.0           3.0           3.0        0.1  \n",
       "\n",
       "[10 rows x 35 columns]"
      ]
     },
     "execution_count": 5,
     "metadata": {},
     "output_type": "execute_result"
    }
   ],
   "source": [
    "df[:10]"
   ]
  },
  {
   "cell_type": "code",
   "execution_count": 58,
   "metadata": {},
   "outputs": [
    {
     "name": "stdout",
     "output_type": "stream",
     "text": [
      "['CPG323', 'CPG322-330', '300R 250L', '250', 'CPG322-295', '400R 375L', 'CPG-322', '300', '325', '225', '500', '345', '200R 275L', '250R 275L', '325R 300', '300R 275L', '400', '295', 'CPG323-345', 'CPG332-305', '375', '250R 300L', '450', '300R 325L', '425R 350L', 'CPG322-255', '275', '350', '350R 325L', '322R 330L']\n"
     ]
    }
   ],
   "source": [
    "# Show all implant size\n",
    "im_sizes = list(set([size for size in df['Implant size'].values]))\n",
    "print(im_sizes)"
   ]
  },
  {
   "cell_type": "code",
   "execution_count": 59,
   "metadata": {},
   "outputs": [],
   "source": [
    "# Count implant size \n",
    "cp_count = 0\n",
    "hp_same_size_count = 0\n",
    "hp_count = 0\n",
    "        \n",
    "for size in df['Implant size'].values:\n",
    "    if 'CPG' in size:\n",
    "        cp_count += 1\n",
    "    elif 'L' in size or 'R' in size:\n",
    "        hp_count += 1\n",
    "    else:\n",
    "        hp_same_size_count += 1"
   ]
  },
  {
   "cell_type": "code",
   "execution_count": 60,
   "metadata": {},
   "outputs": [
    {
     "data": {
      "text/plain": [
       "([<matplotlib.axis.XTick at 0x127bb0da0>,\n",
       "  <matplotlib.axis.XTick at 0x127b98d30>,\n",
       "  <matplotlib.axis.XTick at 0x127b98710>],\n",
       " <a list of 3 Text xticklabel objects>)"
      ]
     },
     "execution_count": 60,
     "metadata": {},
     "output_type": "execute_result"
    },
    {
     "data": {
      "image/png": "[encoded data removed]",
      "text/plain": [
       "<Figure size 432x288 with 1 Axes>"
      ]
     },
     "metadata": {},
     "output_type": "display_data"
    }
   ],
   "source": [
    "bars = ('CP', 'SAMESIZE', 'NOTSAMESIZE')\n",
    "height = [cp_count, hp_same_size_count, hp_count]\n",
    "y_pos = np.arange(len(bars))\n",
    "plt.bar(y_pos, height, color=(0.2, 0.4, 0.6, 0.6))\n",
    "# use the plt.xticks function to custom labels\n",
    "plt.xticks(y_pos, bars, color='orange', rotation=45, fontweight='bold', fontsize='11', horizontalalignment='right')"
   ]
  },
  {
   "cell_type": "code",
   "execution_count": 62,
   "metadata": {},
   "outputs": [
    {
     "name": "stdout",
     "output_type": "stream",
     "text": [
      "HP unique implant ['200R 275L', '225', '250', '250R 275L', '250R 300L', '275', '295', '300', '300R 250L', '300R 275L', '300R 325L', '322R 330L', '325', '325R 300', '345', '350', '350R 325L', '375', '400', '400R 375L', '425R 350L', '450', '500']\n"
     ]
    }
   ],
   "source": [
    "# Count unique HP profiles\n",
    "im_sizes_hp = list(set([size for size in df['Implant size'].values if 'CP' not in size]))\n",
    "im_sizes_hp.sort()\n",
    "print('HP unique implant', im_sizes_hp)"
   ]
  },
  {
   "cell_type": "code",
   "execution_count": 17,
   "metadata": {},
   "outputs": [],
   "source": [
    "count_dict = {}\n",
    "for size in im_sizes_hp:\n",
    "    count = 0\n",
    "    for val in df['Implant size'].values:\n",
    "        if val == size:\n",
    "            count += 1\n",
    "    count_dict[size] = count"
   ]
  },
  {
   "cell_type": "code",
   "execution_count": 22,
   "metadata": {},
   "outputs": [
    {
     "name": "stdout",
     "output_type": "stream",
     "text": [
      "Number of data before delete CP profile:  187\n",
      "Number of data after deleted  CP profile:  177\n"
     ]
    }
   ],
   "source": [
    "print('Number of data before delete CP profile: ', cp_count + hp_same_size_count + hp_count)\n",
    "\n",
    "height = []\n",
    "bars = list(count_dict.keys())\n",
    "for key in count_dict:\n",
    "    height.append(count_dict[key])\n",
    "    \n",
    "print('Number of data after deleted  CP profile: ', sum(height))"
   ]
  },
  {
   "cell_type": "code",
   "execution_count": 12,
   "metadata": {},
   "outputs": [
    {
     "data": {
      "text/plain": [
       "([<matplotlib.axis.XTick at 0x123817860>,\n",
       "  <matplotlib.axis.XTick at 0x123817198>,\n",
       "  <matplotlib.axis.XTick at 0x11045a6a0>,\n",
       "  <matplotlib.axis.XTick at 0x12591b470>,\n",
       "  <matplotlib.axis.XTick at 0x12591b908>,\n",
       "  <matplotlib.axis.XTick at 0x12591bdd8>,\n",
       "  <matplotlib.axis.XTick at 0x1259262e8>,\n",
       "  <matplotlib.axis.XTick at 0x1259267b8>,\n",
       "  <matplotlib.axis.XTick at 0x125926c88>,\n",
       "  <matplotlib.axis.XTick at 0x12592e198>,\n",
       "  <matplotlib.axis.XTick at 0x12592e668>,\n",
       "  <matplotlib.axis.XTick at 0x12592eb38>,\n",
       "  <matplotlib.axis.XTick at 0x12592ebe0>,\n",
       "  <matplotlib.axis.XTick at 0x125926908>,\n",
       "  <matplotlib.axis.XTick at 0x12591b860>,\n",
       "  <matplotlib.axis.XTick at 0x1259382e8>,\n",
       "  <matplotlib.axis.XTick at 0x1259387f0>,\n",
       "  <matplotlib.axis.XTick at 0x125938cf8>,\n",
       "  <matplotlib.axis.XTick at 0x12593e240>,\n",
       "  <matplotlib.axis.XTick at 0x12593e748>,\n",
       "  <matplotlib.axis.XTick at 0x12593ec50>,\n",
       "  <matplotlib.axis.XTick at 0x12593e7f0>,\n",
       "  <matplotlib.axis.XTick at 0x125938b70>],\n",
       " <a list of 23 Text xticklabel objects>)"
      ]
     },
     "execution_count": 12,
     "metadata": {},
     "output_type": "execute_result"
    },
    {
     "data": {
      "image/png": "[encoded data removed]",
      "text/plain": [
       "<Figure size 1296x360 with 1 Axes>"
      ]
     },
     "metadata": {
      "needs_background": "light"
     },
     "output_type": "display_data"
    }
   ],
   "source": [
    "y_pos = np.arange(len(bars))\n",
    "\n",
    "f, ax = plt.subplots(figsize=(18,5))\n",
    "plt.bar(y_pos, height, color=(0.2, 0.4, 0.6, 0.6), )\n",
    "# use the plt.xticks function to custom labels\n",
    "plt.xticks(y_pos, bars, color='red', rotation=45, fontweight='bold', fontsize='11', horizontalalignment='right')"
   ]
  },
  {
   "cell_type": "code",
   "execution_count": 13,
   "metadata": {},
   "outputs": [
    {
     "data": {
      "text/plain": [
       "['CPG323',\n",
       " 'CPG322-330',\n",
       " 'CPG322-255',\n",
       " 'CPG323-345',\n",
       " 'CPG322-295',\n",
       " 'CPG332-305',\n",
       " 'CPG-322']"
      ]
     },
     "execution_count": 13,
     "metadata": {},
     "output_type": "execute_result"
    }
   ],
   "source": [
    "# Drop CP from dataframe\n",
    "c_implant = list(set(im_sizes).difference(set(im_sizes_hp)))\n",
    "c_implant"
   ]
  },
  {
   "cell_type": "code",
   "execution_count": 57,
   "metadata": {},
   "outputs": [],
   "source": [
    "# Delete CP profile from Data Frame\n",
    "hp_df = df[~df['Implant size'].isin(c_implant)]"
   ]
  },
  {
   "cell_type": "markdown",
   "metadata": {},
   "source": [
    "### # Explore duration time after breast surgery\n"
   ]
  },
  {
   "cell_type": "code",
   "execution_count": 43,
   "metadata": {},
   "outputs": [
    {
     "name": "stdout",
     "output_type": "stream",
     "text": [
      "Unique duration time is  21\n"
     ]
    }
   ],
   "source": [
    "duration_dict = {}\n",
    "\n",
    "for d in hp_df['PostopDuration'].values:\n",
    "    d = int(d)\n",
    "    if d in duration_dict:\n",
    "        duration_dict[d] += 1\n",
    "    else:\n",
    "        duration_dict[d] = 1\n",
    "        \n",
    "print('Unique duration time is ', len(duration_dict))"
   ]
  },
  {
   "cell_type": "code",
   "execution_count": 53,
   "metadata": {},
   "outputs": [
    {
     "data": {
      "text/plain": [
       "([<matplotlib.axis.XTick at 0x127a4c3c8>,\n",
       "  <matplotlib.axis.XTick at 0x1274c0898>,\n",
       "  <matplotlib.axis.XTick at 0x12687c518>,\n",
       "  <matplotlib.axis.XTick at 0x127a2f898>,\n",
       "  <matplotlib.axis.XTick at 0x127a2fd30>,\n",
       "  <matplotlib.axis.XTick at 0x127458240>,\n",
       "  <matplotlib.axis.XTick at 0x127458710>,\n",
       "  <matplotlib.axis.XTick at 0x127458be0>,\n",
       "  <matplotlib.axis.XTick at 0x127478160>,\n",
       "  <matplotlib.axis.XTick at 0x1274785c0>,\n",
       "  <matplotlib.axis.XTick at 0x127478a90>,\n",
       "  <matplotlib.axis.XTick at 0x127478f60>,\n",
       "  <matplotlib.axis.XTick at 0x127458cc0>,\n",
       "  <matplotlib.axis.XTick at 0x127a2f9b0>,\n",
       "  <matplotlib.axis.XTick at 0x12747b390>,\n",
       "  <matplotlib.axis.XTick at 0x12747b860>,\n",
       "  <matplotlib.axis.XTick at 0x12747bd30>,\n",
       "  <matplotlib.axis.XTick at 0x12745b240>,\n",
       "  <matplotlib.axis.XTick at 0x12745b710>,\n",
       "  <matplotlib.axis.XTick at 0x12745bbe0>,\n",
       "  <matplotlib.axis.XTick at 0x127484160>],\n",
       " <a list of 21 Text xticklabel objects>)"
      ]
     },
     "execution_count": 53,
     "metadata": {},
     "output_type": "execute_result"
    },
    {
     "data": {
      "image/png": "[encoded data removed]",
      "text/plain": [
       "<Figure size 1296x360 with 1 Axes>"
      ]
     },
     "metadata": {
      "needs_background": "light"
     },
     "output_type": "display_data"
    }
   ],
   "source": [
    "bars = list(duration_dict.keys())\n",
    "y_pos = np.arange(len(bars))\n",
    "data = list(duration_dict.values())\n",
    "\n",
    "f, ax = plt.subplots(figsize=(18,5))\n",
    "plt.bar(y_pos, data, color=(0.2, 0.4, 0.6, 0.6), )\n",
    "# use the plt.xticks function to custom labels\n",
    "plt.xticks(y_pos, bars, color='red', rotation=45, fontweight='bold', fontsize='11', horizontalalignment='right')"
   ]
  },
  {
   "cell_type": "code",
   "execution_count": 56,
   "metadata": {},
   "outputs": [
    {
     "name": "stdout",
     "output_type": "stream",
     "text": [
      "Mean of duration is  8.428571428571429\n"
     ]
    }
   ],
   "source": [
    "print('Mean of duration is ', stats.mean(data))"
   ]
  },
  {
   "cell_type": "markdown",
   "metadata": {},
   "source": [
    "### Split left and right implant size for column"
   ]
  },
  {
   "cell_type": "code",
   "execution_count": 98,
   "metadata": {},
   "outputs": [],
   "source": [
    "implant_left = []\n",
    "implant_right = []"
   ]
  },
  {
   "cell_type": "code",
   "execution_count": 99,
   "metadata": {},
   "outputs": [],
   "source": [
    "for index, row in hp_df.iterrows():\n",
    "    imp = row['Implant size']\n",
    "    if 'R' in imp or 'L' in imp:\n",
    "        imp_split = imp.split(' ')\n",
    "        right = re.findall(\"\\d+\", imp_split[0])[0]\n",
    "        left = re.findall(\"\\d+\", imp_split[1])[0]\n",
    "        implant_right.append(int(right))\n",
    "        implant_left.append(int(left))\n",
    "    else:\n",
    "        implant_right.append(int(imp))\n",
    "        implant_left.append(int(imp))"
   ]
  },
  {
   "cell_type": "code",
   "execution_count": 100,
   "metadata": {},
   "outputs": [
    {
     "name": "stderr",
     "output_type": "stream",
     "text": [
      "/Users/new/anaconda3/lib/python3.6/site-packages/ipykernel_launcher.py:1: SettingWithCopyWarning: \n",
      "A value is trying to be set on a copy of a slice from a DataFrame.\n",
      "Try using .loc[row_indexer,col_indexer] = value instead\n",
      "\n",
      "See the caveats in the documentation: http://pandas.pydata.org/pandas-docs/stable/indexing.html#indexing-view-versus-copy\n",
      "  \"\"\"Entry point for launching an IPython kernel.\n",
      "/Users/new/anaconda3/lib/python3.6/site-packages/ipykernel_launcher.py:2: SettingWithCopyWarning: \n",
      "A value is trying to be set on a copy of a slice from a DataFrame.\n",
      "Try using .loc[row_indexer,col_indexer] = value instead\n",
      "\n",
      "See the caveats in the documentation: http://pandas.pydata.org/pandas-docs/stable/indexing.html#indexing-view-versus-copy\n",
      "  \n"
     ]
    }
   ],
   "source": [
    "hp_df['ImplantLeft'] = implant_left\n",
    "hp_df['ImplantRight'] = implant_right"
   ]
  },
  {
   "cell_type": "code",
   "execution_count": 145,
   "metadata": {},
   "outputs": [
    {
     "data": {
      "text/html": [
       "<div>\n",
       "<style scoped>\n",
       "    .dataframe tbody tr th:only-of-type {\n",
       "        vertical-align: middle;\n",
       "    }\n",
       "\n",
       "    .dataframe tbody tr th {\n",
       "        vertical-align: top;\n",
       "    }\n",
       "\n",
       "    .dataframe thead th {\n",
       "        text-align: right;\n",
       "    }\n",
       "</style>\n",
       "<table border=\"1\" class=\"dataframe\">\n",
       "  <thead>\n",
       "    <tr style=\"text-align: right;\">\n",
       "      <th></th>\n",
       "      <th>OperationDate</th>\n",
       "      <th>Implant size</th>\n",
       "      <th>PreOp-SNR</th>\n",
       "      <th>PreOp-SNL</th>\n",
       "      <th>PreOp-CNR</th>\n",
       "      <th>PreOp-CNL</th>\n",
       "      <th>PreOp-BWR</th>\n",
       "      <th>PreOp-BWL</th>\n",
       "      <th>PreOp-BHR</th>\n",
       "      <th>PreOp-BHL</th>\n",
       "      <th>...</th>\n",
       "      <th>PostOp-BHL</th>\n",
       "      <th>PostOp-IMFR</th>\n",
       "      <th>PostOp-IMFL</th>\n",
       "      <th>PostOp-AreRW</th>\n",
       "      <th>PostOp-AreRH</th>\n",
       "      <th>PostOp-AreLW</th>\n",
       "      <th>PostOp-AreLH</th>\n",
       "      <th>PostOp-ID</th>\n",
       "      <th>ImplantLeft</th>\n",
       "      <th>ImplantRight</th>\n",
       "    </tr>\n",
       "  </thead>\n",
       "  <tbody>\n",
       "    <tr>\n",
       "      <th>0</th>\n",
       "      <td>25-Nov-16</td>\n",
       "      <td>275</td>\n",
       "      <td>15.0</td>\n",
       "      <td>15.0</td>\n",
       "      <td>13.5</td>\n",
       "      <td>13.5</td>\n",
       "      <td>12.4</td>\n",
       "      <td>12.4</td>\n",
       "      <td>9.0</td>\n",
       "      <td>9.0</td>\n",
       "      <td>...</td>\n",
       "      <td>12.7</td>\n",
       "      <td>8.0</td>\n",
       "      <td>8.0</td>\n",
       "      <td>2.8</td>\n",
       "      <td>2.8</td>\n",
       "      <td>2.8</td>\n",
       "      <td>2.8</td>\n",
       "      <td>0.5</td>\n",
       "      <td>275</td>\n",
       "      <td>275</td>\n",
       "    </tr>\n",
       "    <tr>\n",
       "      <th>1</th>\n",
       "      <td>18-Nov-16</td>\n",
       "      <td>275</td>\n",
       "      <td>18.5</td>\n",
       "      <td>18.5</td>\n",
       "      <td>17.5</td>\n",
       "      <td>17.5</td>\n",
       "      <td>12.6</td>\n",
       "      <td>12.6</td>\n",
       "      <td>9.0</td>\n",
       "      <td>9.0</td>\n",
       "      <td>...</td>\n",
       "      <td>13.0</td>\n",
       "      <td>8.0</td>\n",
       "      <td>8.0</td>\n",
       "      <td>3.0</td>\n",
       "      <td>2.5</td>\n",
       "      <td>3.0</td>\n",
       "      <td>2.5</td>\n",
       "      <td>1.5</td>\n",
       "      <td>275</td>\n",
       "      <td>275</td>\n",
       "    </tr>\n",
       "    <tr>\n",
       "      <th>2</th>\n",
       "      <td>26-Aug-16</td>\n",
       "      <td>275</td>\n",
       "      <td>16.0</td>\n",
       "      <td>16.0</td>\n",
       "      <td>14.0</td>\n",
       "      <td>13.5</td>\n",
       "      <td>12.0</td>\n",
       "      <td>12.0</td>\n",
       "      <td>10.2</td>\n",
       "      <td>9.8</td>\n",
       "      <td>...</td>\n",
       "      <td>12.0</td>\n",
       "      <td>7.5</td>\n",
       "      <td>9.0</td>\n",
       "      <td>3.0</td>\n",
       "      <td>2.5</td>\n",
       "      <td>3.0</td>\n",
       "      <td>2.5</td>\n",
       "      <td>1.5</td>\n",
       "      <td>275</td>\n",
       "      <td>275</td>\n",
       "    </tr>\n",
       "    <tr>\n",
       "      <th>3</th>\n",
       "      <td>24-Sep-16</td>\n",
       "      <td>275</td>\n",
       "      <td>16.0</td>\n",
       "      <td>16.0</td>\n",
       "      <td>15.0</td>\n",
       "      <td>14.5</td>\n",
       "      <td>13.0</td>\n",
       "      <td>13.0</td>\n",
       "      <td>9.0</td>\n",
       "      <td>9.0</td>\n",
       "      <td>...</td>\n",
       "      <td>13.5</td>\n",
       "      <td>6.5</td>\n",
       "      <td>6.5</td>\n",
       "      <td>3.5</td>\n",
       "      <td>3.5</td>\n",
       "      <td>3.5</td>\n",
       "      <td>2.5</td>\n",
       "      <td>1.0</td>\n",
       "      <td>275</td>\n",
       "      <td>275</td>\n",
       "    </tr>\n",
       "    <tr>\n",
       "      <th>4</th>\n",
       "      <td>28-Oct-16</td>\n",
       "      <td>300</td>\n",
       "      <td>17.5</td>\n",
       "      <td>17.5</td>\n",
       "      <td>16.5</td>\n",
       "      <td>16.5</td>\n",
       "      <td>12.0</td>\n",
       "      <td>12.0</td>\n",
       "      <td>9.8</td>\n",
       "      <td>9.8</td>\n",
       "      <td>...</td>\n",
       "      <td>13.3</td>\n",
       "      <td>7.5</td>\n",
       "      <td>8.5</td>\n",
       "      <td>3.0</td>\n",
       "      <td>3.0</td>\n",
       "      <td>3.0</td>\n",
       "      <td>3.0</td>\n",
       "      <td>0.5</td>\n",
       "      <td>300</td>\n",
       "      <td>300</td>\n",
       "    </tr>\n",
       "  </tbody>\n",
       "</table>\n",
       "<p>5 rows × 37 columns</p>\n",
       "</div>"
      ],
      "text/plain": [
       "  OperationDate Implant size  PreOp-SNR  PreOp-SNL  PreOp-CNR  PreOp-CNL  \\\n",
       "0     25-Nov-16          275       15.0       15.0       13.5       13.5   \n",
       "1     18-Nov-16          275       18.5       18.5       17.5       17.5   \n",
       "2     26-Aug-16          275       16.0       16.0       14.0       13.5   \n",
       "3     24-Sep-16          275       16.0       16.0       15.0       14.5   \n",
       "4     28-Oct-16          300       17.5       17.5       16.5       16.5   \n",
       "\n",
       "   PreOp-BWR  PreOp-BWL  PreOp-BHR  PreOp-BHL      ...       PostOp-BHL  \\\n",
       "0       12.4       12.4        9.0        9.0      ...             12.7   \n",
       "1       12.6       12.6        9.0        9.0      ...             13.0   \n",
       "2       12.0       12.0       10.2        9.8      ...             12.0   \n",
       "3       13.0       13.0        9.0        9.0      ...             13.5   \n",
       "4       12.0       12.0        9.8        9.8      ...             13.3   \n",
       "\n",
       "   PostOp-IMFR  PostOp-IMFL  PostOp-AreRW  PostOp-AreRH  PostOp-AreLW  \\\n",
       "0          8.0          8.0           2.8           2.8           2.8   \n",
       "1          8.0          8.0           3.0           2.5           3.0   \n",
       "2          7.5          9.0           3.0           2.5           3.0   \n",
       "3          6.5          6.5           3.5           3.5           3.5   \n",
       "4          7.5          8.5           3.0           3.0           3.0   \n",
       "\n",
       "   PostOp-AreLH  PostOp-ID  ImplantLeft  ImplantRight  \n",
       "0           2.8        0.5          275           275  \n",
       "1           2.5        1.5          275           275  \n",
       "2           2.5        1.5          275           275  \n",
       "3           2.5        1.0          275           275  \n",
       "4           3.0        0.5          300           300  \n",
       "\n",
       "[5 rows x 37 columns]"
      ]
     },
     "execution_count": 145,
     "metadata": {},
     "output_type": "execute_result"
    }
   ],
   "source": [
    "hp_df.head()"
   ]
  },
  {
   "cell_type": "markdown",
   "metadata": {},
   "source": [
    "### Clean if post over than pre\n",
    "For ID it's should under than pre"
   ]
  },
  {
   "cell_type": "code",
   "execution_count": 170,
   "metadata": {},
   "outputs": [],
   "source": [
    "def is_negative_sample(row):\n",
    "    if row['PostOp-SNR'] < row['PreOp-SNR'] or row['PostOp-SNL'] < row['PreOp-SNL']:\n",
    "        return True\n",
    "    elif row['PostOp-CNR'] < row['PreOp-CNR'] or row['PostOp-CNL'] < row['PreOp-CNL']:\n",
    "        return True\n",
    "#     elif row['PostOp-BWR'] < row['PreOp-BWR'] or row['PostOp-BWL'] < row['PreOp-BWL']:\n",
    "#         return True\n",
    "    elif row['PostOp-BHR'] < row['PreOp-BHR'] or row['PostOp-BHL'] < row['PreOp-BHL']:\n",
    "        return True\n",
    "    elif row['PostOp-IMFR'] < row['PreOp-IMFR'] or row['PostOp-IMFL'] < row['PreOp-IMFL']:\n",
    "        return True\n",
    "    elif row['PostOp-AreRW'] < row['PreOp-AreRW'] or row['PostOp-AreLW'] < row['PreOp-AreLW']:\n",
    "        return True\n",
    "    elif row['PostOp-AreRH'] < row['PreOp-AreRH'] or row['PostOp-AreLH'] < row['PreOp-AreLH']:\n",
    "        return True\n",
    "    elif row['PostOp-ID'] > row['PreOp-ID']:\n",
    "        return True"
   ]
  },
  {
   "cell_type": "code",
   "execution_count": 176,
   "metadata": {
    "scrolled": true
   },
   "outputs": [
    {
     "name": "stdout",
     "output_type": "stream",
     "text": [
      "Number of negative samples 33\n",
      "Number of cleaned samples 144\n"
     ]
    }
   ],
   "source": [
    "num_negative_samples = 0\n",
    "negative_idx = []\n",
    "for index, row in hp_df.iterrows():\n",
    "    if is_negative_sample(row):\n",
    "        num_negative_samples += 1\n",
    "        negative_idx.append(index)\n",
    "        \n",
    "print('Number of negative samples', num_negative_samples)\n",
    "print('Number of cleaned samples', len(hp_df) - num_negative_samples)"
   ]
  },
  {
   "cell_type": "markdown",
   "metadata": {},
   "source": [
    "### Save cleaned dataset"
   ]
  },
  {
   "cell_type": "code",
   "execution_count": null,
   "metadata": {},
   "outputs": [],
   "source": [
    "hp_df.to_csv('./data/cleaned.csv', index=False)"
   ]
  },
  {
   "cell_type": "code",
   "execution_count": 158,
   "metadata": {},
   "outputs": [
    {
     "data": {
      "text/html": [
       "<div>\n",
       "<style scoped>\n",
       "    .dataframe tbody tr th:only-of-type {\n",
       "        vertical-align: middle;\n",
       "    }\n",
       "\n",
       "    .dataframe tbody tr th {\n",
       "        vertical-align: top;\n",
       "    }\n",
       "\n",
       "    .dataframe thead th {\n",
       "        text-align: right;\n",
       "    }\n",
       "</style>\n",
       "<table border=\"1\" class=\"dataframe\">\n",
       "  <thead>\n",
       "    <tr style=\"text-align: right;\">\n",
       "      <th></th>\n",
       "      <th>OperationDate</th>\n",
       "      <th>Implant size</th>\n",
       "      <th>PreOp-SNR</th>\n",
       "      <th>PreOp-SNL</th>\n",
       "      <th>PreOp-CNR</th>\n",
       "      <th>PreOp-CNL</th>\n",
       "      <th>PreOp-BWR</th>\n",
       "      <th>PreOp-BWL</th>\n",
       "      <th>PreOp-BHR</th>\n",
       "      <th>PreOp-BHL</th>\n",
       "      <th>...</th>\n",
       "      <th>PostOp-BHL</th>\n",
       "      <th>PostOp-IMFR</th>\n",
       "      <th>PostOp-IMFL</th>\n",
       "      <th>PostOp-AreRW</th>\n",
       "      <th>PostOp-AreRH</th>\n",
       "      <th>PostOp-AreLW</th>\n",
       "      <th>PostOp-AreLH</th>\n",
       "      <th>PostOp-ID</th>\n",
       "      <th>ImplantLeft</th>\n",
       "      <th>ImplantRight</th>\n",
       "    </tr>\n",
       "  </thead>\n",
       "  <tbody>\n",
       "    <tr>\n",
       "      <th>0</th>\n",
       "      <td>25-Nov-16</td>\n",
       "      <td>275</td>\n",
       "      <td>15.0</td>\n",
       "      <td>15.0</td>\n",
       "      <td>13.5</td>\n",
       "      <td>13.5</td>\n",
       "      <td>12.4</td>\n",
       "      <td>12.4</td>\n",
       "      <td>9.0</td>\n",
       "      <td>9.0</td>\n",
       "      <td>...</td>\n",
       "      <td>12.7</td>\n",
       "      <td>8.0</td>\n",
       "      <td>8.0</td>\n",
       "      <td>2.8</td>\n",
       "      <td>2.8</td>\n",
       "      <td>2.8</td>\n",
       "      <td>2.8</td>\n",
       "      <td>0.5</td>\n",
       "      <td>275</td>\n",
       "      <td>275</td>\n",
       "    </tr>\n",
       "  </tbody>\n",
       "</table>\n",
       "<p>1 rows × 37 columns</p>\n",
       "</div>"
      ],
      "text/plain": [
       "  OperationDate Implant size  PreOp-SNR  PreOp-SNL  PreOp-CNR  PreOp-CNL  \\\n",
       "0     25-Nov-16          275       15.0       15.0       13.5       13.5   \n",
       "\n",
       "   PreOp-BWR  PreOp-BWL  PreOp-BHR  PreOp-BHL      ...       PostOp-BHL  \\\n",
       "0       12.4       12.4        9.0        9.0      ...             12.7   \n",
       "\n",
       "   PostOp-IMFR  PostOp-IMFL  PostOp-AreRW  PostOp-AreRH  PostOp-AreLW  \\\n",
       "0          8.0          8.0           2.8           2.8           2.8   \n",
       "\n",
       "   PostOp-AreLH  PostOp-ID  ImplantLeft  ImplantRight  \n",
       "0           2.8        0.5          275           275  \n",
       "\n",
       "[1 rows x 37 columns]"
      ]
     },
     "execution_count": 158,
     "metadata": {},
     "output_type": "execute_result"
    }
   ],
   "source": [
    "### K-Fold "
   ]
  },
  {
   "cell_type": "code",
   "execution_count": null,
   "metadata": {},
   "outputs": [],
   "source": []
  }
 ],
 "metadata": {
  "kernelspec": {
   "display_name": "Python 3",
   "language": "python",
   "name": "python3"
  },
  "language_info": {
   "codemirror_mode": {
    "name": "ipython",
    "version": 3
   },
   "file_extension": ".py",
   "mimetype": "text/x-python",
   "name": "python",
   "nbconvert_exporter": "python",
   "pygments_lexer": "ipython3",
   "version": "3.6.6"
  }
 },
 "nbformat": 4,
 "nbformat_minor": 2
}
