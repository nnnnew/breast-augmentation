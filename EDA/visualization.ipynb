{
 "cells": [
  {
   "cell_type": "code",
   "execution_count": 1,
   "metadata": {},
   "outputs": [],
   "source": [
    "import pandas as pd\n",
    "import plotly.express as px"
   ]
  },
  {
   "cell_type": "code",
   "execution_count": 2,
   "metadata": {},
   "outputs": [],
   "source": [
    "data_path = './data/cleaned.csv'"
   ]
  },
  {
   "cell_type": "code",
   "execution_count": 9,
   "metadata": {},
   "outputs": [],
   "source": [
    "df =  pd.read_csv(data_path)"
   ]
  },
  {
   "cell_type": "code",
   "execution_count": 20,
   "metadata": {},
   "outputs": [
    {
     "name": "stdout",
     "output_type": "stream",
     "text": [
      "['OperationDate', 'Implant size', 'PreOp-SNR', 'PreOp-SNL', 'PreOp-CNR', 'PreOp-CNL', 'PreOp-BWR', 'PreOp-BWL', 'PreOp-BHR', 'PreOp-BHL', 'PreOp-IMFR', 'PreOp-IMFL', 'PreOp-IMFSR', 'PreOp-IMFSL', 'PreOp-AreRW', 'PreOp-AreRH', 'PreOp-AreLW', 'PreOp-AreLH', 'PreOp-ID', 'PostopDuration', 'PostOp-SNR', 'PostOp-SNL', 'PostOp-CNR', 'PostOp-CNL', 'PostOp-BWR', 'PostOp-BWL', 'PostOp-BHR', 'PostOp-BHL', 'PostOp-IMFR', 'PostOp-IMFL', 'PostOp-AreRW', 'PostOp-AreRH', 'PostOp-AreLW', 'PostOp-AreLH', 'PostOp-ID', 'ImplantLeft', 'ImplantRight']\n"
     ]
    }
   ],
   "source": [
    "print(list(df.head(0)))"
   ]
  },
  {
   "cell_type": "markdown",
   "metadata": {},
   "source": [
    "## SN\n",
    "### SNR with implant size"
   ]
  },
  {
   "cell_type": "code",
   "execution_count": 49,
   "metadata": {},
   "outputs": [
    {
     "data": {
      "application/vnd.plotly.v1+json": {
       "config": {
        "plotlyServerURL": "https://plot.ly"
       },
       "data": [
        {
         "hoverlabel": {
          "namelength": 0
         },
         "hovertemplate": "PostOp-SNR=%{x}<br>PreOp-SNR=%{y}<br>ImplantRight=%{marker.color}",
         "legendgroup": "",
         "marker": {
          "color": [
           275,
           275,
           275,
           275,
           300,
           300,
           300,
           300,
           300,
           325,
           325,
           325,
           325,
           325,
           325,
           325,
           325,
           325,
           325,
           325,
           325,
           325,
           350,
           350,
           350,
           350,
           350,
           350,
           350,
           350,
           350,
           350,
           350,
           350,
           350,
           350,
           375,
           375,
           375,
           375,
           375,
           400,
           275,
           325,
           300,
           325,
           350,
           450,
           350,
           350,
           325,
           325,
           275,
           275,
           275,
           375,
           350,
           375,
           250,
           400,
           350,
           350,
           325,
           350,
           350,
           375,
           300,
           275,
           375,
           300,
           300,
           300,
           400,
           375,
           375,
           325,
           375,
           325,
           325,
           375,
           250,
           250,
           375,
           250,
           300,
           325,
           300,
           350,
           350,
           375,
           325,
           325,
           350,
           350,
           400,
           325,
           375,
           325,
           325,
           375,
           375,
           325,
           325,
           345,
           325,
           300,
           322,
           325,
           275,
           275,
           350,
           325,
           375,
           250,
           375,
           350,
           300,
           300,
           325,
           325,
           275,
           350,
           325,
           350,
           250,
           325,
           300,
           350,
           300,
           325,
           325,
           275,
           325,
           375,
           225,
           350,
           250,
           375,
           325,
           350,
           275,
           300,
           350,
           275
          ],
          "coloraxis": "coloraxis",
          "symbol": "circle"
         },
         "mode": "markers",
         "name": "",
         "scene": "scene",
         "showlegend": false,
         "type": "scatter3d",
         "x": [
          16.5,
          20,
          18,
          18,
          19,
          18,
          16.5,
          19,
          19,
          17,
          20,
          19.5,
          19,
          18,
          19,
          18,
          18.5,
          19,
          18.5,
          19.5,
          16.5,
          18.5,
          21.5,
          17.5,
          19.5,
          18.5,
          19.5,
          21,
          16.5,
          17,
          18,
          19,
          20,
          21,
          21,
          19,
          17,
          19,
          21,
          16.5,
          20,
          21,
          20,
          20,
          20,
          15.5,
          20,
          20,
          18.5,
          17.5,
          20,
          20.5,
          18,
          18,
          17.5,
          17.5,
          16.5,
          18.5,
          18.5,
          19,
          18.5,
          19,
          19,
          18,
          18,
          19,
          19,
          19.5,
          21,
          17.5,
          18,
          19,
          18.5,
          21,
          21,
          18,
          18.5,
          19.5,
          18,
          18.5,
          22.5,
          19.5,
          17.5,
          19,
          16,
          19,
          21,
          19.5,
          17.5,
          20,
          20.5,
          20.5,
          16.5,
          19,
          22,
          17.5,
          21,
          17.5,
          19,
          17.5,
          19.5,
          19,
          19,
          23,
          18.5,
          18.5,
          19,
          19,
          16.5,
          20,
          19.5,
          18,
          23,
          18,
          18.5,
          19,
          19,
          18.5,
          19,
          19.5,
          18.5,
          21,
          18,
          21,
          18,
          18.5,
          17,
          22,
          18,
          22.5,
          19,
          18.5,
          20.5,
          20,
          18,
          21,
          18,
          21.5,
          18,
          22,
          18.5,
          17.5,
          17,
          22
         ],
         "y": [
          15,
          18.5,
          16,
          16,
          17.5,
          17,
          15.5,
          17.5,
          18,
          16.5,
          18.5,
          18.5,
          17,
          16.5,
          17.5,
          16.5,
          16,
          17.5,
          17,
          18.5,
          15,
          16.5,
          19.5,
          16.5,
          17,
          17,
          19,
          18.5,
          14,
          16,
          16,
          17.5,
          18.5,
          19,
          19.5,
          17.5,
          15,
          18.5,
          20,
          15,
          18.5,
          20,
          18.5,
          19,
          18.5,
          15,
          19.5,
          20,
          16.5,
          16,
          17.5,
          19.5,
          17.5,
          16.5,
          16,
          15.5,
          15,
          17,
          16.5,
          17.5,
          17,
          18.5,
          18,
          17.5,
          16,
          17,
          17,
          17.5,
          19.5,
          17,
          17.5,
          18.5,
          17.5,
          19,
          19,
          16.5,
          16.5,
          18.5,
          16.5,
          17,
          20.5,
          18.5,
          17,
          17,
          15.5,
          17.5,
          20.5,
          17,
          16,
          18.5,
          18,
          18.3,
          16.5,
          17,
          21.5,
          17,
          20.5,
          16,
          17,
          16.5,
          19,
          17.5,
          17.5,
          21.5,
          17.5,
          18,
          18.5,
          16.5,
          16.5,
          18,
          18,
          17.5,
          22.5,
          17,
          17,
          18.5,
          17.5,
          17.5,
          18.5,
          18,
          17,
          20,
          14.5,
          19,
          16.5,
          17,
          15.5,
          20,
          16.5,
          21.5,
          17.5,
          17.5,
          18.5,
          18,
          16.5,
          19.5,
          16,
          20.5,
          16.5,
          21,
          17.5,
          16,
          16,
          20
         ],
         "z": [
          275,
          275,
          275,
          275,
          300,
          300,
          300,
          300,
          300,
          325,
          325,
          325,
          325,
          325,
          325,
          325,
          325,
          325,
          325,
          325,
          325,
          325,
          350,
          350,
          350,
          350,
          350,
          350,
          350,
          350,
          350,
          350,
          350,
          350,
          350,
          350,
          375,
          375,
          375,
          375,
          375,
          400,
          275,
          325,
          300,
          325,
          350,
          450,
          350,
          350,
          325,
          325,
          275,
          275,
          275,
          375,
          350,
          375,
          250,
          400,
          350,
          350,
          325,
          350,
          350,
          375,
          300,
          275,
          375,
          300,
          300,
          300,
          400,
          375,
          375,
          325,
          375,
          325,
          325,
          375,
          250,
          250,
          375,
          250,
          300,
          325,
          300,
          350,
          350,
          375,
          325,
          325,
          350,
          350,
          400,
          325,
          375,
          325,
          325,
          375,
          375,
          325,
          325,
          345,
          325,
          300,
          322,
          325,
          275,
          275,
          350,
          325,
          375,
          250,
          375,
          350,
          300,
          300,
          325,
          325,
          275,
          350,
          325,
          350,
          250,
          325,
          300,
          350,
          300,
          325,
          325,
          275,
          325,
          375,
          225,
          350,
          250,
          375,
          325,
          350,
          275,
          300,
          350,
          275
         ]
        }
       ],
       "layout": {
        "coloraxis": {
         "colorbar": {
          "title": {
           "text": "ImplantRight"
          }
         },
         "colorscale": [
          [
           0,
           "#0d0887"
          ],
          [
           0.1111111111111111,
           "#46039f"
          ],
          [
           0.2222222222222222,
           "#7201a8"
          ],
          [
           0.3333333333333333,
           "#9c179e"
          ],
          [
           0.4444444444444444,
           "#bd3786"
          ],
          [
           0.5555555555555556,
           "#d8576b"
          ],
          [
           0.6666666666666666,
           "#ed7953"
          ],
          [
           0.7777777777777778,
           "#fb9f3a"
          ],
          [
           0.8888888888888888,
           "#fdca26"
          ],
          [
           1,
           "#f0f921"
          ]
         ]
        },
        "height": 600,
        "legend": {
         "tracegroupgap": 0
        },
        "margin": {
         "t": 60
        },
        "scene": {
         "domain": {
          "x": [
           0,
           0.98
          ],
          "y": [
           0,
           1
          ]
         },
         "xaxis": {
          "title": {
           "text": "PostOp-SNR"
          }
         },
         "yaxis": {
          "title": {
           "text": "PreOp-SNR"
          }
         },
         "zaxis": {
          "title": {
           "text": "ImplantRight"
          }
         }
        },
        "template": {
         "data": {
          "bar": [
           {
            "error_x": {
             "color": "#2a3f5f"
            },
            "error_y": {
             "color": "#2a3f5f"
            },
            "marker": {
             "line": {
              "color": "#E5ECF6",
              "width": 0.5
             }
            },
            "type": "bar"
           }
          ],
          "barpolar": [
           {
            "marker": {
             "line": {
              "color": "#E5ECF6",
              "width": 0.5
             }
            },
            "type": "barpolar"
           }
          ],
          "carpet": [
           {
            "aaxis": {
             "endlinecolor": "#2a3f5f",
             "gridcolor": "white",
             "linecolor": "white",
             "minorgridcolor": "white",
             "startlinecolor": "#2a3f5f"
            },
            "baxis": {
             "endlinecolor": "#2a3f5f",
             "gridcolor": "white",
             "linecolor": "white",
             "minorgridcolor": "white",
             "startlinecolor": "#2a3f5f"
            },
            "type": "carpet"
           }
          ],
          "choropleth": [
           {
            "colorbar": {
             "outlinewidth": 0,
             "ticks": ""
            },
            "type": "choropleth"
           }
          ],
          "contour": [
           {
            "colorbar": {
             "outlinewidth": 0,
             "ticks": ""
            },
            "colorscale": [
             [
              0,
              "#0d0887"
             ],
             [
              0.1111111111111111,
              "#46039f"
             ],
             [
              0.2222222222222222,
              "#7201a8"
             ],
             [
              0.3333333333333333,
              "#9c179e"
             ],
             [
              0.4444444444444444,
              "#bd3786"
             ],
             [
              0.5555555555555556,
              "#d8576b"
             ],
             [
              0.6666666666666666,
              "#ed7953"
             ],
             [
              0.7777777777777778,
              "#fb9f3a"
             ],
             [
              0.8888888888888888,
              "#fdca26"
             ],
             [
              1,
              "#f0f921"
             ]
            ],
            "type": "contour"
           }
          ],
          "contourcarpet": [
           {
            "colorbar": {
             "outlinewidth": 0,
             "ticks": ""
            },
            "type": "contourcarpet"
           }
          ],
          "heatmap": [
           {
            "colorbar": {
             "outlinewidth": 0,
             "ticks": ""
            },
            "colorscale": [
             [
              0,
              "#0d0887"
             ],
             [
              0.1111111111111111,
              "#46039f"
             ],
             [
              0.2222222222222222,
              "#7201a8"
             ],
             [
              0.3333333333333333,
              "#9c179e"
             ],
             [
              0.4444444444444444,
              "#bd3786"
             ],
             [
              0.5555555555555556,
              "#d8576b"
             ],
             [
              0.6666666666666666,
              "#ed7953"
             ],
             [
              0.7777777777777778,
              "#fb9f3a"
             ],
             [
              0.8888888888888888,
              "#fdca26"
             ],
             [
              1,
              "#f0f921"
             ]
            ],
            "type": "heatmap"
           }
          ],
          "heatmapgl": [
           {
            "colorbar": {
             "outlinewidth": 0,
             "ticks": ""
            },
            "colorscale": [
             [
              0,
              "#0d0887"
             ],
             [
              0.1111111111111111,
              "#46039f"
             ],
             [
              0.2222222222222222,
              "#7201a8"
             ],
             [
              0.3333333333333333,
              "#9c179e"
             ],
             [
              0.4444444444444444,
              "#bd3786"
             ],
             [
              0.5555555555555556,
              "#d8576b"
             ],
             [
              0.6666666666666666,
              "#ed7953"
             ],
             [
              0.7777777777777778,
              "#fb9f3a"
             ],
             [
              0.8888888888888888,
              "#fdca26"
             ],
             [
              1,
              "#f0f921"
             ]
            ],
            "type": "heatmapgl"
           }
          ],
          "histogram": [
           {
            "marker": {
             "colorbar": {
              "outlinewidth": 0,
              "ticks": ""
             }
            },
            "type": "histogram"
           }
          ],
          "histogram2d": [
           {
            "colorbar": {
             "outlinewidth": 0,
             "ticks": ""
            },
            "colorscale": [
             [
              0,
              "#0d0887"
             ],
             [
              0.1111111111111111,
              "#46039f"
             ],
             [
              0.2222222222222222,
              "#7201a8"
             ],
             [
              0.3333333333333333,
              "#9c179e"
             ],
             [
              0.4444444444444444,
              "#bd3786"
             ],
             [
              0.5555555555555556,
              "#d8576b"
             ],
             [
              0.6666666666666666,
              "#ed7953"
             ],
             [
              0.7777777777777778,
              "#fb9f3a"
             ],
             [
              0.8888888888888888,
              "#fdca26"
             ],
             [
              1,
              "#f0f921"
             ]
            ],
            "type": "histogram2d"
           }
          ],
          "histogram2dcontour": [
           {
            "colorbar": {
             "outlinewidth": 0,
             "ticks": ""
            },
            "colorscale": [
             [
              0,
              "#0d0887"
             ],
             [
              0.1111111111111111,
              "#46039f"
             ],
             [
              0.2222222222222222,
              "#7201a8"
             ],
             [
              0.3333333333333333,
              "#9c179e"
             ],
             [
              0.4444444444444444,
              "#bd3786"
             ],
             [
              0.5555555555555556,
              "#d8576b"
             ],
             [
              0.6666666666666666,
              "#ed7953"
             ],
             [
              0.7777777777777778,
              "#fb9f3a"
             ],
             [
              0.8888888888888888,
              "#fdca26"
             ],
             [
              1,
              "#f0f921"
             ]
            ],
            "type": "histogram2dcontour"
           }
          ],
          "mesh3d": [
           {
            "colorbar": {
             "outlinewidth": 0,
             "ticks": ""
            },
            "type": "mesh3d"
           }
          ],
          "parcoords": [
           {
            "line": {
             "colorbar": {
              "outlinewidth": 0,
              "ticks": ""
             }
            },
            "type": "parcoords"
           }
          ],
          "scatter": [
           {
            "marker": {
             "colorbar": {
              "outlinewidth": 0,
              "ticks": ""
             }
            },
            "type": "scatter"
           }
          ],
          "scatter3d": [
           {
            "line": {
             "colorbar": {
              "outlinewidth": 0,
              "ticks": ""
             }
            },
            "marker": {
             "colorbar": {
              "outlinewidth": 0,
              "ticks": ""
             }
            },
            "type": "scatter3d"
           }
          ],
          "scattercarpet": [
           {
            "marker": {
             "colorbar": {
              "outlinewidth": 0,
              "ticks": ""
             }
            },
            "type": "scattercarpet"
           }
          ],
          "scattergeo": [
           {
            "marker": {
             "colorbar": {
              "outlinewidth": 0,
              "ticks": ""
             }
            },
            "type": "scattergeo"
           }
          ],
          "scattergl": [
           {
            "marker": {
             "colorbar": {
              "outlinewidth": 0,
              "ticks": ""
             }
            },
            "type": "scattergl"
           }
          ],
          "scattermapbox": [
           {
            "marker": {
             "colorbar": {
              "outlinewidth": 0,
              "ticks": ""
             }
            },
            "type": "scattermapbox"
           }
          ],
          "scatterpolar": [
           {
            "marker": {
             "colorbar": {
              "outlinewidth": 0,
              "ticks": ""
             }
            },
            "type": "scatterpolar"
           }
          ],
          "scatterpolargl": [
           {
            "marker": {
             "colorbar": {
              "outlinewidth": 0,
              "ticks": ""
             }
            },
            "type": "scatterpolargl"
           }
          ],
          "scatterternary": [
           {
            "marker": {
             "colorbar": {
              "outlinewidth": 0,
              "ticks": ""
             }
            },
            "type": "scatterternary"
           }
          ],
          "surface": [
           {
            "colorbar": {
             "outlinewidth": 0,
             "ticks": ""
            },
            "colorscale": [
             [
              0,
              "#0d0887"
             ],
             [
              0.1111111111111111,
              "#46039f"
             ],
             [
              0.2222222222222222,
              "#7201a8"
             ],
             [
              0.3333333333333333,
              "#9c179e"
             ],
             [
              0.4444444444444444,
              "#bd3786"
             ],
             [
              0.5555555555555556,
              "#d8576b"
             ],
             [
              0.6666666666666666,
              "#ed7953"
             ],
             [
              0.7777777777777778,
              "#fb9f3a"
             ],
             [
              0.8888888888888888,
              "#fdca26"
             ],
             [
              1,
              "#f0f921"
             ]
            ],
            "type": "surface"
           }
          ],
          "table": [
           {
            "cells": {
             "fill": {
              "color": "#EBF0F8"
             },
             "line": {
              "color": "white"
             }
            },
            "header": {
             "fill": {
              "color": "#C8D4E3"
             },
             "line": {
              "color": "white"
             }
            },
            "type": "table"
           }
          ]
         },
         "layout": {
          "annotationdefaults": {
           "arrowcolor": "#2a3f5f",
           "arrowhead": 0,
           "arrowwidth": 1
          },
          "colorscale": {
           "diverging": [
            [
             0,
             "#8e0152"
            ],
            [
             0.1,
             "#c51b7d"
            ],
            [
             0.2,
             "#de77ae"
            ],
            [
             0.3,
             "#f1b6da"
            ],
            [
             0.4,
             "#fde0ef"
            ],
            [
             0.5,
             "#f7f7f7"
            ],
            [
             0.6,
             "#e6f5d0"
            ],
            [
             0.7,
             "#b8e186"
            ],
            [
             0.8,
             "#7fbc41"
            ],
            [
             0.9,
             "#4d9221"
            ],
            [
             1,
             "#276419"
            ]
           ],
           "sequential": [
            [
             0,
             "#0d0887"
            ],
            [
             0.1111111111111111,
             "#46039f"
            ],
            [
             0.2222222222222222,
             "#7201a8"
            ],
            [
             0.3333333333333333,
             "#9c179e"
            ],
            [
             0.4444444444444444,
             "#bd3786"
            ],
            [
             0.5555555555555556,
             "#d8576b"
            ],
            [
             0.6666666666666666,
             "#ed7953"
            ],
            [
             0.7777777777777778,
             "#fb9f3a"
            ],
            [
             0.8888888888888888,
             "#fdca26"
            ],
            [
             1,
             "#f0f921"
            ]
           ],
           "sequentialminus": [
            [
             0,
             "#0d0887"
            ],
            [
             0.1111111111111111,
             "#46039f"
            ],
            [
             0.2222222222222222,
             "#7201a8"
            ],
            [
             0.3333333333333333,
             "#9c179e"
            ],
            [
             0.4444444444444444,
             "#bd3786"
            ],
            [
             0.5555555555555556,
             "#d8576b"
            ],
            [
             0.6666666666666666,
             "#ed7953"
            ],
            [
             0.7777777777777778,
             "#fb9f3a"
            ],
            [
             0.8888888888888888,
             "#fdca26"
            ],
            [
             1,
             "#f0f921"
            ]
           ]
          },
          "colorway": [
           "#636efa",
           "#EF553B",
           "#00cc96",
           "#ab63fa",
           "#FFA15A",
           "#19d3f3",
           "#FF6692",
           "#B6E880",
           "#FF97FF",
           "#FECB52"
          ],
          "font": {
           "color": "#2a3f5f"
          },
          "geo": {
           "bgcolor": "white",
           "lakecolor": "white",
           "landcolor": "#E5ECF6",
           "showlakes": true,
           "showland": true,
           "subunitcolor": "white"
          },
          "hoverlabel": {
           "align": "left"
          },
          "hovermode": "closest",
          "mapbox": {
           "style": "light"
          },
          "paper_bgcolor": "white",
          "plot_bgcolor": "#E5ECF6",
          "polar": {
           "angularaxis": {
            "gridcolor": "white",
            "linecolor": "white",
            "ticks": ""
           },
           "bgcolor": "#E5ECF6",
           "radialaxis": {
            "gridcolor": "white",
            "linecolor": "white",
            "ticks": ""
           }
          },
          "scene": {
           "xaxis": {
            "backgroundcolor": "#E5ECF6",
            "gridcolor": "white",
            "gridwidth": 2,
            "linecolor": "white",
            "showbackground": true,
            "ticks": "",
            "zerolinecolor": "white"
           },
           "yaxis": {
            "backgroundcolor": "#E5ECF6",
            "gridcolor": "white",
            "gridwidth": 2,
            "linecolor": "white",
            "showbackground": true,
            "ticks": "",
            "zerolinecolor": "white"
           },
           "zaxis": {
            "backgroundcolor": "#E5ECF6",
            "gridcolor": "white",
            "gridwidth": 2,
            "linecolor": "white",
            "showbackground": true,
            "ticks": "",
            "zerolinecolor": "white"
           }
          },
          "shapedefaults": {
           "line": {
            "color": "#2a3f5f"
           }
          },
          "ternary": {
           "aaxis": {
            "gridcolor": "white",
            "linecolor": "white",
            "ticks": ""
           },
           "baxis": {
            "gridcolor": "white",
            "linecolor": "white",
            "ticks": ""
           },
           "bgcolor": "#E5ECF6",
           "caxis": {
            "gridcolor": "white",
            "linecolor": "white",
            "ticks": ""
           }
          },
          "title": {
           "x": 0.05
          },
          "xaxis": {
           "automargin": true,
           "gridcolor": "white",
           "linecolor": "white",
           "ticks": "",
           "zerolinecolor": "white",
           "zerolinewidth": 2
          },
          "yaxis": {
           "automargin": true,
           "gridcolor": "white",
           "linecolor": "white",
           "ticks": "",
           "zerolinecolor": "white",
           "zerolinewidth": 2
          }
         }
        }
       }
      },
      "text/html": [
       "<div>\n",
       "        \n",
       "        \n",
       "            <div id=\"7af12f5c-47fb-4fee-a7c2-136456e69cec\" class=\"plotly-graph-div\" style=\"height:600px; width:100%;\"></div>\n",
       "            <script type=\"text/javascript\">\n",
       "                require([\"plotly\"], function(Plotly) {\n",
       "                    window.PLOTLYENV=window.PLOTLYENV || {};\n",
       "                    \n",
       "                if (document.getElementById(\"7af12f5c-47fb-4fee-a7c2-136456e69cec\")) {\n",
       "                    Plotly.newPlot(\n",
       "                        '7af12f5c-47fb-4fee-a7c2-136456e69cec',\n",
       "                        [{\"hoverlabel\": {\"namelength\": 0}, \"hovertemplate\": \"PostOp-SNR=%{x}<br>PreOp-SNR=%{y}<br>ImplantRight=%{marker.color}\", \"legendgroup\": \"\", \"marker\": {\"color\": [275, 275, 275, 275, 300, 300, 300, 300, 300, 325, 325, 325, 325, 325, 325, 325, 325, 325, 325, 325, 325, 325, 350, 350, 350, 350, 350, 350, 350, 350, 350, 350, 350, 350, 350, 350, 375, 375, 375, 375, 375, 400, 275, 325, 300, 325, 350, 450, 350, 350, 325, 325, 275, 275, 275, 375, 350, 375, 250, 400, 350, 350, 325, 350, 350, 375, 300, 275, 375, 300, 300, 300, 400, 375, 375, 325, 375, 325, 325, 375, 250, 250, 375, 250, 300, 325, 300, 350, 350, 375, 325, 325, 350, 350, 400, 325, 375, 325, 325, 375, 375, 325, 325, 345, 325, 300, 322, 325, 275, 275, 350, 325, 375, 250, 375, 350, 300, 300, 325, 325, 275, 350, 325, 350, 250, 325, 300, 350, 300, 325, 325, 275, 325, 375, 225, 350, 250, 375, 325, 350, 275, 300, 350, 275], \"coloraxis\": \"coloraxis\", \"symbol\": \"circle\"}, \"mode\": \"markers\", \"name\": \"\", \"scene\": \"scene\", \"showlegend\": false, \"type\": \"scatter3d\", \"x\": [16.5, 20.0, 18.0, 18.0, 19.0, 18.0, 16.5, 19.0, 19.0, 17.0, 20.0, 19.5, 19.0, 18.0, 19.0, 18.0, 18.5, 19.0, 18.5, 19.5, 16.5, 18.5, 21.5, 17.5, 19.5, 18.5, 19.5, 21.0, 16.5, 17.0, 18.0, 19.0, 20.0, 21.0, 21.0, 19.0, 17.0, 19.0, 21.0, 16.5, 20.0, 21.0, 20.0, 20.0, 20.0, 15.5, 20.0, 20.0, 18.5, 17.5, 20.0, 20.5, 18.0, 18.0, 17.5, 17.5, 16.5, 18.5, 18.5, 19.0, 18.5, 19.0, 19.0, 18.0, 18.0, 19.0, 19.0, 19.5, 21.0, 17.5, 18.0, 19.0, 18.5, 21.0, 21.0, 18.0, 18.5, 19.5, 18.0, 18.5, 22.5, 19.5, 17.5, 19.0, 16.0, 19.0, 21.0, 19.5, 17.5, 20.0, 20.5, 20.5, 16.5, 19.0, 22.0, 17.5, 21.0, 17.5, 19.0, 17.5, 19.5, 19.0, 19.0, 23.0, 18.5, 18.5, 19.0, 19.0, 16.5, 20.0, 19.5, 18.0, 23.0, 18.0, 18.5, 19.0, 19.0, 18.5, 19.0, 19.5, 18.5, 21.0, 18.0, 21.0, 18.0, 18.5, 17.0, 22.0, 18.0, 22.5, 19.0, 18.5, 20.5, 20.0, 18.0, 21.0, 18.0, 21.5, 18.0, 22.0, 18.5, 17.5, 17.0, 22.0], \"y\": [15.0, 18.5, 16.0, 16.0, 17.5, 17.0, 15.5, 17.5, 18.0, 16.5, 18.5, 18.5, 17.0, 16.5, 17.5, 16.5, 16.0, 17.5, 17.0, 18.5, 15.0, 16.5, 19.5, 16.5, 17.0, 17.0, 19.0, 18.5, 14.0, 16.0, 16.0, 17.5, 18.5, 19.0, 19.5, 17.5, 15.0, 18.5, 20.0, 15.0, 18.5, 20.0, 18.5, 19.0, 18.5, 15.0, 19.5, 20.0, 16.5, 16.0, 17.5, 19.5, 17.5, 16.5, 16.0, 15.5, 15.0, 17.0, 16.5, 17.5, 17.0, 18.5, 18.0, 17.5, 16.0, 17.0, 17.0, 17.5, 19.5, 17.0, 17.5, 18.5, 17.5, 19.0, 19.0, 16.5, 16.5, 18.5, 16.5, 17.0, 20.5, 18.5, 17.0, 17.0, 15.5, 17.5, 20.5, 17.0, 16.0, 18.5, 18.0, 18.3, 16.5, 17.0, 21.5, 17.0, 20.5, 16.0, 17.0, 16.5, 19.0, 17.5, 17.5, 21.5, 17.5, 18.0, 18.5, 16.5, 16.5, 18.0, 18.0, 17.5, 22.5, 17.0, 17.0, 18.5, 17.5, 17.5, 18.5, 18.0, 17.0, 20.0, 14.5, 19.0, 16.5, 17.0, 15.5, 20.0, 16.5, 21.5, 17.5, 17.5, 18.5, 18.0, 16.5, 19.5, 16.0, 20.5, 16.5, 21.0, 17.5, 16.0, 16.0, 20.0], \"z\": [275, 275, 275, 275, 300, 300, 300, 300, 300, 325, 325, 325, 325, 325, 325, 325, 325, 325, 325, 325, 325, 325, 350, 350, 350, 350, 350, 350, 350, 350, 350, 350, 350, 350, 350, 350, 375, 375, 375, 375, 375, 400, 275, 325, 300, 325, 350, 450, 350, 350, 325, 325, 275, 275, 275, 375, 350, 375, 250, 400, 350, 350, 325, 350, 350, 375, 300, 275, 375, 300, 300, 300, 400, 375, 375, 325, 375, 325, 325, 375, 250, 250, 375, 250, 300, 325, 300, 350, 350, 375, 325, 325, 350, 350, 400, 325, 375, 325, 325, 375, 375, 325, 325, 345, 325, 300, 322, 325, 275, 275, 350, 325, 375, 250, 375, 350, 300, 300, 325, 325, 275, 350, 325, 350, 250, 325, 300, 350, 300, 325, 325, 275, 325, 375, 225, 350, 250, 375, 325, 350, 275, 300, 350, 275]}],\n",
       "                        {\"coloraxis\": {\"colorbar\": {\"title\": {\"text\": \"ImplantRight\"}}, \"colorscale\": [[0.0, \"#0d0887\"], [0.1111111111111111, \"#46039f\"], [0.2222222222222222, \"#7201a8\"], [0.3333333333333333, \"#9c179e\"], [0.4444444444444444, \"#bd3786\"], [0.5555555555555556, \"#d8576b\"], [0.6666666666666666, \"#ed7953\"], [0.7777777777777778, \"#fb9f3a\"], [0.8888888888888888, \"#fdca26\"], [1.0, \"#f0f921\"]]}, \"height\": 600, \"legend\": {\"tracegroupgap\": 0}, \"margin\": {\"t\": 60}, \"scene\": {\"domain\": {\"x\": [0.0, 0.98], \"y\": [0.0, 1.0]}, \"xaxis\": {\"title\": {\"text\": \"PostOp-SNR\"}}, \"yaxis\": {\"title\": {\"text\": \"PreOp-SNR\"}}, \"zaxis\": {\"title\": {\"text\": \"ImplantRight\"}}}, \"template\": {\"data\": {\"bar\": [{\"error_x\": {\"color\": \"#2a3f5f\"}, \"error_y\": {\"color\": \"#2a3f5f\"}, \"marker\": {\"line\": {\"color\": \"#E5ECF6\", \"width\": 0.5}}, \"type\": \"bar\"}], \"barpolar\": [{\"marker\": {\"line\": {\"color\": \"#E5ECF6\", \"width\": 0.5}}, \"type\": \"barpolar\"}], \"carpet\": [{\"aaxis\": {\"endlinecolor\": \"#2a3f5f\", \"gridcolor\": \"white\", \"linecolor\": \"white\", \"minorgridcolor\": \"white\", \"startlinecolor\": \"#2a3f5f\"}, \"baxis\": {\"endlinecolor\": \"#2a3f5f\", \"gridcolor\": \"white\", \"linecolor\": \"white\", \"minorgridcolor\": \"white\", \"startlinecolor\": \"#2a3f5f\"}, \"type\": \"carpet\"}], \"choropleth\": [{\"colorbar\": {\"outlinewidth\": 0, \"ticks\": \"\"}, \"type\": \"choropleth\"}], \"contour\": [{\"colorbar\": {\"outlinewidth\": 0, \"ticks\": \"\"}, \"colorscale\": [[0.0, \"#0d0887\"], [0.1111111111111111, \"#46039f\"], [0.2222222222222222, \"#7201a8\"], [0.3333333333333333, \"#9c179e\"], [0.4444444444444444, \"#bd3786\"], [0.5555555555555556, \"#d8576b\"], [0.6666666666666666, \"#ed7953\"], [0.7777777777777778, \"#fb9f3a\"], [0.8888888888888888, \"#fdca26\"], [1.0, \"#f0f921\"]], \"type\": \"contour\"}], \"contourcarpet\": [{\"colorbar\": {\"outlinewidth\": 0, \"ticks\": \"\"}, \"type\": \"contourcarpet\"}], \"heatmap\": [{\"colorbar\": {\"outlinewidth\": 0, \"ticks\": \"\"}, \"colorscale\": [[0.0, \"#0d0887\"], [0.1111111111111111, \"#46039f\"], [0.2222222222222222, \"#7201a8\"], [0.3333333333333333, \"#9c179e\"], [0.4444444444444444, \"#bd3786\"], [0.5555555555555556, \"#d8576b\"], [0.6666666666666666, \"#ed7953\"], [0.7777777777777778, \"#fb9f3a\"], [0.8888888888888888, \"#fdca26\"], [1.0, \"#f0f921\"]], \"type\": \"heatmap\"}], \"heatmapgl\": [{\"colorbar\": {\"outlinewidth\": 0, \"ticks\": \"\"}, \"colorscale\": [[0.0, \"#0d0887\"], [0.1111111111111111, \"#46039f\"], [0.2222222222222222, \"#7201a8\"], [0.3333333333333333, \"#9c179e\"], [0.4444444444444444, \"#bd3786\"], [0.5555555555555556, \"#d8576b\"], [0.6666666666666666, \"#ed7953\"], [0.7777777777777778, \"#fb9f3a\"], [0.8888888888888888, \"#fdca26\"], [1.0, \"#f0f921\"]], \"type\": \"heatmapgl\"}], \"histogram\": [{\"marker\": {\"colorbar\": {\"outlinewidth\": 0, \"ticks\": \"\"}}, \"type\": \"histogram\"}], \"histogram2d\": [{\"colorbar\": {\"outlinewidth\": 0, \"ticks\": \"\"}, \"colorscale\": [[0.0, \"#0d0887\"], [0.1111111111111111, \"#46039f\"], [0.2222222222222222, \"#7201a8\"], [0.3333333333333333, \"#9c179e\"], [0.4444444444444444, \"#bd3786\"], [0.5555555555555556, \"#d8576b\"], [0.6666666666666666, \"#ed7953\"], [0.7777777777777778, \"#fb9f3a\"], [0.8888888888888888, \"#fdca26\"], [1.0, \"#f0f921\"]], \"type\": \"histogram2d\"}], \"histogram2dcontour\": [{\"colorbar\": {\"outlinewidth\": 0, \"ticks\": \"\"}, \"colorscale\": [[0.0, \"#0d0887\"], [0.1111111111111111, \"#46039f\"], [0.2222222222222222, \"#7201a8\"], [0.3333333333333333, \"#9c179e\"], [0.4444444444444444, \"#bd3786\"], [0.5555555555555556, \"#d8576b\"], [0.6666666666666666, \"#ed7953\"], [0.7777777777777778, \"#fb9f3a\"], [0.8888888888888888, \"#fdca26\"], [1.0, \"#f0f921\"]], \"type\": \"histogram2dcontour\"}], \"mesh3d\": [{\"colorbar\": {\"outlinewidth\": 0, \"ticks\": \"\"}, \"type\": \"mesh3d\"}], \"parcoords\": [{\"line\": {\"colorbar\": {\"outlinewidth\": 0, \"ticks\": \"\"}}, \"type\": \"parcoords\"}], \"scatter\": [{\"marker\": {\"colorbar\": {\"outlinewidth\": 0, \"ticks\": \"\"}}, \"type\": \"scatter\"}], \"scatter3d\": [{\"line\": {\"colorbar\": {\"outlinewidth\": 0, \"ticks\": \"\"}}, \"marker\": {\"colorbar\": {\"outlinewidth\": 0, \"ticks\": \"\"}}, \"type\": \"scatter3d\"}], \"scattercarpet\": [{\"marker\": {\"colorbar\": {\"outlinewidth\": 0, \"ticks\": \"\"}}, \"type\": \"scattercarpet\"}], \"scattergeo\": [{\"marker\": {\"colorbar\": {\"outlinewidth\": 0, \"ticks\": \"\"}}, \"type\": \"scattergeo\"}], \"scattergl\": [{\"marker\": {\"colorbar\": {\"outlinewidth\": 0, \"ticks\": \"\"}}, \"type\": \"scattergl\"}], \"scattermapbox\": [{\"marker\": {\"colorbar\": {\"outlinewidth\": 0, \"ticks\": \"\"}}, \"type\": \"scattermapbox\"}], \"scatterpolar\": [{\"marker\": {\"colorbar\": {\"outlinewidth\": 0, \"ticks\": \"\"}}, \"type\": \"scatterpolar\"}], \"scatterpolargl\": [{\"marker\": {\"colorbar\": {\"outlinewidth\": 0, \"ticks\": \"\"}}, \"type\": \"scatterpolargl\"}], \"scatterternary\": [{\"marker\": {\"colorbar\": {\"outlinewidth\": 0, \"ticks\": \"\"}}, \"type\": \"scatterternary\"}], \"surface\": [{\"colorbar\": {\"outlinewidth\": 0, \"ticks\": \"\"}, \"colorscale\": [[0.0, \"#0d0887\"], [0.1111111111111111, \"#46039f\"], [0.2222222222222222, \"#7201a8\"], [0.3333333333333333, \"#9c179e\"], [0.4444444444444444, \"#bd3786\"], [0.5555555555555556, \"#d8576b\"], [0.6666666666666666, \"#ed7953\"], [0.7777777777777778, \"#fb9f3a\"], [0.8888888888888888, \"#fdca26\"], [1.0, \"#f0f921\"]], \"type\": \"surface\"}], \"table\": [{\"cells\": {\"fill\": {\"color\": \"#EBF0F8\"}, \"line\": {\"color\": \"white\"}}, \"header\": {\"fill\": {\"color\": \"#C8D4E3\"}, \"line\": {\"color\": \"white\"}}, \"type\": \"table\"}]}, \"layout\": {\"annotationdefaults\": {\"arrowcolor\": \"#2a3f5f\", \"arrowhead\": 0, \"arrowwidth\": 1}, \"colorscale\": {\"diverging\": [[0, \"#8e0152\"], [0.1, \"#c51b7d\"], [0.2, \"#de77ae\"], [0.3, \"#f1b6da\"], [0.4, \"#fde0ef\"], [0.5, \"#f7f7f7\"], [0.6, \"#e6f5d0\"], [0.7, \"#b8e186\"], [0.8, \"#7fbc41\"], [0.9, \"#4d9221\"], [1, \"#276419\"]], \"sequential\": [[0.0, \"#0d0887\"], [0.1111111111111111, \"#46039f\"], [0.2222222222222222, \"#7201a8\"], [0.3333333333333333, \"#9c179e\"], [0.4444444444444444, \"#bd3786\"], [0.5555555555555556, \"#d8576b\"], [0.6666666666666666, \"#ed7953\"], [0.7777777777777778, \"#fb9f3a\"], [0.8888888888888888, \"#fdca26\"], [1.0, \"#f0f921\"]], \"sequentialminus\": [[0.0, \"#0d0887\"], [0.1111111111111111, \"#46039f\"], [0.2222222222222222, \"#7201a8\"], [0.3333333333333333, \"#9c179e\"], [0.4444444444444444, \"#bd3786\"], [0.5555555555555556, \"#d8576b\"], [0.6666666666666666, \"#ed7953\"], [0.7777777777777778, \"#fb9f3a\"], [0.8888888888888888, \"#fdca26\"], [1.0, \"#f0f921\"]]}, \"colorway\": [\"#636efa\", \"#EF553B\", \"#00cc96\", \"#ab63fa\", \"#FFA15A\", \"#19d3f3\", \"#FF6692\", \"#B6E880\", \"#FF97FF\", \"#FECB52\"], \"font\": {\"color\": \"#2a3f5f\"}, \"geo\": {\"bgcolor\": \"white\", \"lakecolor\": \"white\", \"landcolor\": \"#E5ECF6\", \"showlakes\": true, \"showland\": true, \"subunitcolor\": \"white\"}, \"hoverlabel\": {\"align\": \"left\"}, \"hovermode\": \"closest\", \"mapbox\": {\"style\": \"light\"}, \"paper_bgcolor\": \"white\", \"plot_bgcolor\": \"#E5ECF6\", \"polar\": {\"angularaxis\": {\"gridcolor\": \"white\", \"linecolor\": \"white\", \"ticks\": \"\"}, \"bgcolor\": \"#E5ECF6\", \"radialaxis\": {\"gridcolor\": \"white\", \"linecolor\": \"white\", \"ticks\": \"\"}}, \"scene\": {\"xaxis\": {\"backgroundcolor\": \"#E5ECF6\", \"gridcolor\": \"white\", \"gridwidth\": 2, \"linecolor\": \"white\", \"showbackground\": true, \"ticks\": \"\", \"zerolinecolor\": \"white\"}, \"yaxis\": {\"backgroundcolor\": \"#E5ECF6\", \"gridcolor\": \"white\", \"gridwidth\": 2, \"linecolor\": \"white\", \"showbackground\": true, \"ticks\": \"\", \"zerolinecolor\": \"white\"}, \"zaxis\": {\"backgroundcolor\": \"#E5ECF6\", \"gridcolor\": \"white\", \"gridwidth\": 2, \"linecolor\": \"white\", \"showbackground\": true, \"ticks\": \"\", \"zerolinecolor\": \"white\"}}, \"shapedefaults\": {\"line\": {\"color\": \"#2a3f5f\"}}, \"ternary\": {\"aaxis\": {\"gridcolor\": \"white\", \"linecolor\": \"white\", \"ticks\": \"\"}, \"baxis\": {\"gridcolor\": \"white\", \"linecolor\": \"white\", \"ticks\": \"\"}, \"bgcolor\": \"#E5ECF6\", \"caxis\": {\"gridcolor\": \"white\", \"linecolor\": \"white\", \"ticks\": \"\"}}, \"title\": {\"x\": 0.05}, \"xaxis\": {\"automargin\": true, \"gridcolor\": \"white\", \"linecolor\": \"white\", \"ticks\": \"\", \"zerolinecolor\": \"white\", \"zerolinewidth\": 2}, \"yaxis\": {\"automargin\": true, \"gridcolor\": \"white\", \"linecolor\": \"white\", \"ticks\": \"\", \"zerolinecolor\": \"white\", \"zerolinewidth\": 2}}}},\n",
       "                        {\"responsive\": true}\n",
       "                    ).then(function(){\n",
       "                            \n",
       "var gd = document.getElementById('7af12f5c-47fb-4fee-a7c2-136456e69cec');\n",
       "var x = new MutationObserver(function (mutations, observer) {{\n",
       "        var display = window.getComputedStyle(gd).display;\n",
       "        if (!display || display === 'none') {{\n",
       "            console.log([gd, 'removed!']);\n",
       "            Plotly.purge(gd);\n",
       "            observer.disconnect();\n",
       "        }}\n",
       "}});\n",
       "\n",
       "// Listen for the removal of the full notebook cells\n",
       "var notebookContainer = gd.closest('#notebook-container');\n",
       "if (notebookContainer) {{\n",
       "    x.observe(notebookContainer, {childList: true});\n",
       "}}\n",
       "\n",
       "// Listen for the clearing of the current output cell\n",
       "var outputEl = gd.closest('.output');\n",
       "if (outputEl) {{\n",
       "    x.observe(outputEl, {childList: true});\n",
       "}}\n",
       "\n",
       "                        })\n",
       "                };\n",
       "                });\n",
       "            </script>\n",
       "        </div>"
      ]
     },
     "metadata": {},
     "output_type": "display_data"
    }
   ],
   "source": [
    "fig = px.scatter_3d(df, x='PostOp-SNR', y='PreOp-SNR', z='ImplantRight', color='ImplantRight')\n",
    "fig.show()"
   ]
  },
  {
   "cell_type": "code",
   "execution_count": 50,
   "metadata": {},
   "outputs": [
    {
     "data": {
      "application/vnd.plotly.v1+json": {
       "config": {
        "plotlyServerURL": "https://plot.ly"
       },
       "data": [
        {
         "hoverlabel": {
          "namelength": 0
         },
         "hovertemplate": "PostOp-SNR=%{x}<br>PreOp-SNR=%{y}<br>PreOp-CNR=%{z}<br>ImplantRight=%{marker.color}",
         "legendgroup": "",
         "marker": {
          "color": [
           275,
           275,
           275,
           275,
           300,
           300,
           300,
           300,
           300,
           325,
           325,
           325,
           325,
           325,
           325,
           325,
           325,
           325,
           325,
           325,
           325,
           325,
           350,
           350,
           350,
           350,
           350,
           350,
           350,
           350,
           350,
           350,
           350,
           350,
           350,
           350,
           375,
           375,
           375,
           375,
           375,
           400,
           275,
           325,
           300,
           325,
           350,
           450,
           350,
           350,
           325,
           325,
           275,
           275,
           275,
           375,
           350,
           375,
           250,
           400,
           350,
           350,
           325,
           350,
           350,
           375,
           300,
           275,
           375,
           300,
           300,
           300,
           400,
           375,
           375,
           325,
           375,
           325,
           325,
           375,
           250,
           250,
           375,
           250,
           300,
           325,
           300,
           350,
           350,
           375,
           325,
           325,
           350,
           350,
           400,
           325,
           375,
           325,
           325,
           375,
           375,
           325,
           325,
           345,
           325,
           300,
           322,
           325,
           275,
           275,
           350,
           325,
           375,
           250,
           375,
           350,
           300,
           300,
           325,
           325,
           275,
           350,
           325,
           350,
           250,
           325,
           300,
           350,
           300,
           325,
           325,
           275,
           325,
           375,
           225,
           350,
           250,
           375,
           325,
           350,
           275,
           300,
           350,
           275
          ],
          "coloraxis": "coloraxis",
          "symbol": "circle"
         },
         "mode": "markers",
         "name": "",
         "scene": "scene",
         "showlegend": false,
         "type": "scatter3d",
         "x": [
          16.5,
          20,
          18,
          18,
          19,
          18,
          16.5,
          19,
          19,
          17,
          20,
          19.5,
          19,
          18,
          19,
          18,
          18.5,
          19,
          18.5,
          19.5,
          16.5,
          18.5,
          21.5,
          17.5,
          19.5,
          18.5,
          19.5,
          21,
          16.5,
          17,
          18,
          19,
          20,
          21,
          21,
          19,
          17,
          19,
          21,
          16.5,
          20,
          21,
          20,
          20,
          20,
          15.5,
          20,
          20,
          18.5,
          17.5,
          20,
          20.5,
          18,
          18,
          17.5,
          17.5,
          16.5,
          18.5,
          18.5,
          19,
          18.5,
          19,
          19,
          18,
          18,
          19,
          19,
          19.5,
          21,
          17.5,
          18,
          19,
          18.5,
          21,
          21,
          18,
          18.5,
          19.5,
          18,
          18.5,
          22.5,
          19.5,
          17.5,
          19,
          16,
          19,
          21,
          19.5,
          17.5,
          20,
          20.5,
          20.5,
          16.5,
          19,
          22,
          17.5,
          21,
          17.5,
          19,
          17.5,
          19.5,
          19,
          19,
          23,
          18.5,
          18.5,
          19,
          19,
          16.5,
          20,
          19.5,
          18,
          23,
          18,
          18.5,
          19,
          19,
          18.5,
          19,
          19.5,
          18.5,
          21,
          18,
          21,
          18,
          18.5,
          17,
          22,
          18,
          22.5,
          19,
          18.5,
          20.5,
          20,
          18,
          21,
          18,
          21.5,
          18,
          22,
          18.5,
          17.5,
          17,
          22
         ],
         "y": [
          15,
          18.5,
          16,
          16,
          17.5,
          17,
          15.5,
          17.5,
          18,
          16.5,
          18.5,
          18.5,
          17,
          16.5,
          17.5,
          16.5,
          16,
          17.5,
          17,
          18.5,
          15,
          16.5,
          19.5,
          16.5,
          17,
          17,
          19,
          18.5,
          14,
          16,
          16,
          17.5,
          18.5,
          19,
          19.5,
          17.5,
          15,
          18.5,
          20,
          15,
          18.5,
          20,
          18.5,
          19,
          18.5,
          15,
          19.5,
          20,
          16.5,
          16,
          17.5,
          19.5,
          17.5,
          16.5,
          16,
          15.5,
          15,
          17,
          16.5,
          17.5,
          17,
          18.5,
          18,
          17.5,
          16,
          17,
          17,
          17.5,
          19.5,
          17,
          17.5,
          18.5,
          17.5,
          19,
          19,
          16.5,
          16.5,
          18.5,
          16.5,
          17,
          20.5,
          18.5,
          17,
          17,
          15.5,
          17.5,
          20.5,
          17,
          16,
          18.5,
          18,
          18.3,
          16.5,
          17,
          21.5,
          17,
          20.5,
          16,
          17,
          16.5,
          19,
          17.5,
          17.5,
          21.5,
          17.5,
          18,
          18.5,
          16.5,
          16.5,
          18,
          18,
          17.5,
          22.5,
          17,
          17,
          18.5,
          17.5,
          17.5,
          18.5,
          18,
          17,
          20,
          14.5,
          19,
          16.5,
          17,
          15.5,
          20,
          16.5,
          21.5,
          17.5,
          17.5,
          18.5,
          18,
          16.5,
          19.5,
          16,
          20.5,
          16.5,
          21,
          17.5,
          16,
          16,
          20
         ],
         "z": [
          13.5,
          17.5,
          14,
          15,
          16.5,
          16,
          14,
          15.5,
          16,
          15.5,
          17,
          17,
          16,
          15,
          16,
          15,
          14,
          15.5,
          16,
          17,
          13,
          15,
          18,
          14,
          15.5,
          15,
          17,
          17,
          13,
          14.5,
          14.5,
          16,
          16.5,
          18,
          18,
          16,
          13,
          16.5,
          18.5,
          13.5,
          16.5,
          18.5,
          17,
          18.5,
          17,
          13.5,
          18,
          18,
          15.5,
          15.5,
          16,
          18.5,
          16,
          15,
          15,
          14.5,
          13.5,
          15.5,
          15,
          15.5,
          16,
          17,
          16.5,
          16.5,
          15,
          15.5,
          15.5,
          16,
          18,
          15,
          16,
          16.5,
          16,
          18,
          17.5,
          15,
          15,
          17,
          15.5,
          15.5,
          20,
          16.5,
          15.5,
          15.5,
          13.5,
          15.5,
          19,
          15,
          14,
          16.5,
          16.5,
          17.5,
          14.5,
          15,
          20.5,
          15,
          19,
          14.5,
          15.5,
          14.5,
          17.5,
          16,
          15.5,
          20.5,
          16,
          16.5,
          17,
          15,
          14.5,
          16,
          17,
          16,
          21.5,
          15.3,
          15.5,
          17.5,
          16,
          16,
          17.5,
          16,
          15,
          19.5,
          14.5,
          17,
          15,
          14.5,
          14,
          18,
          14.5,
          20,
          16,
          16,
          16.5,
          16,
          15,
          18,
          14.5,
          19.5,
          15,
          19.5,
          16,
          14,
          14,
          18
         ]
        }
       ],
       "layout": {
        "coloraxis": {
         "colorbar": {
          "title": {
           "text": "ImplantRight"
          }
         },
         "colorscale": [
          [
           0,
           "#0d0887"
          ],
          [
           0.1111111111111111,
           "#46039f"
          ],
          [
           0.2222222222222222,
           "#7201a8"
          ],
          [
           0.3333333333333333,
           "#9c179e"
          ],
          [
           0.4444444444444444,
           "#bd3786"
          ],
          [
           0.5555555555555556,
           "#d8576b"
          ],
          [
           0.6666666666666666,
           "#ed7953"
          ],
          [
           0.7777777777777778,
           "#fb9f3a"
          ],
          [
           0.8888888888888888,
           "#fdca26"
          ],
          [
           1,
           "#f0f921"
          ]
         ]
        },
        "height": 600,
        "legend": {
         "tracegroupgap": 0
        },
        "margin": {
         "t": 60
        },
        "scene": {
         "domain": {
          "x": [
           0,
           0.98
          ],
          "y": [
           0,
           1
          ]
         },
         "xaxis": {
          "title": {
           "text": "PostOp-SNR"
          }
         },
         "yaxis": {
          "title": {
           "text": "PreOp-SNR"
          }
         },
         "zaxis": {
          "title": {
           "text": "PreOp-CNR"
          }
         }
        },
        "template": {
         "data": {
          "bar": [
           {
            "error_x": {
             "color": "#2a3f5f"
            },
            "error_y": {
             "color": "#2a3f5f"
            },
            "marker": {
             "line": {
              "color": "#E5ECF6",
              "width": 0.5
             }
            },
            "type": "bar"
           }
          ],
          "barpolar": [
           {
            "marker": {
             "line": {
              "color": "#E5ECF6",
              "width": 0.5
             }
            },
            "type": "barpolar"
           }
          ],
          "carpet": [
           {
            "aaxis": {
             "endlinecolor": "#2a3f5f",
             "gridcolor": "white",
             "linecolor": "white",
             "minorgridcolor": "white",
             "startlinecolor": "#2a3f5f"
            },
            "baxis": {
             "endlinecolor": "#2a3f5f",
             "gridcolor": "white",
             "linecolor": "white",
             "minorgridcolor": "white",
             "startlinecolor": "#2a3f5f"
            },
            "type": "carpet"
           }
          ],
          "choropleth": [
           {
            "colorbar": {
             "outlinewidth": 0,
             "ticks": ""
            },
            "type": "choropleth"
           }
          ],
          "contour": [
           {
            "colorbar": {
             "outlinewidth": 0,
             "ticks": ""
            },
            "colorscale": [
             [
              0,
              "#0d0887"
             ],
             [
              0.1111111111111111,
              "#46039f"
             ],
             [
              0.2222222222222222,
              "#7201a8"
             ],
             [
              0.3333333333333333,
              "#9c179e"
             ],
             [
              0.4444444444444444,
              "#bd3786"
             ],
             [
              0.5555555555555556,
              "#d8576b"
             ],
             [
              0.6666666666666666,
              "#ed7953"
             ],
             [
              0.7777777777777778,
              "#fb9f3a"
             ],
             [
              0.8888888888888888,
              "#fdca26"
             ],
             [
              1,
              "#f0f921"
             ]
            ],
            "type": "contour"
           }
          ],
          "contourcarpet": [
           {
            "colorbar": {
             "outlinewidth": 0,
             "ticks": ""
            },
            "type": "contourcarpet"
           }
          ],
          "heatmap": [
           {
            "colorbar": {
             "outlinewidth": 0,
             "ticks": ""
            },
            "colorscale": [
             [
              0,
              "#0d0887"
             ],
             [
              0.1111111111111111,
              "#46039f"
             ],
             [
              0.2222222222222222,
              "#7201a8"
             ],
             [
              0.3333333333333333,
              "#9c179e"
             ],
             [
              0.4444444444444444,
              "#bd3786"
             ],
             [
              0.5555555555555556,
              "#d8576b"
             ],
             [
              0.6666666666666666,
              "#ed7953"
             ],
             [
              0.7777777777777778,
              "#fb9f3a"
             ],
             [
              0.8888888888888888,
              "#fdca26"
             ],
             [
              1,
              "#f0f921"
             ]
            ],
            "type": "heatmap"
           }
          ],
          "heatmapgl": [
           {
            "colorbar": {
             "outlinewidth": 0,
             "ticks": ""
            },
            "colorscale": [
             [
              0,
              "#0d0887"
             ],
             [
              0.1111111111111111,
              "#46039f"
             ],
             [
              0.2222222222222222,
              "#7201a8"
             ],
             [
              0.3333333333333333,
              "#9c179e"
             ],
             [
              0.4444444444444444,
              "#bd3786"
             ],
             [
              0.5555555555555556,
              "#d8576b"
             ],
             [
              0.6666666666666666,
              "#ed7953"
             ],
             [
              0.7777777777777778,
              "#fb9f3a"
             ],
             [
              0.8888888888888888,
              "#fdca26"
             ],
             [
              1,
              "#f0f921"
             ]
            ],
            "type": "heatmapgl"
           }
          ],
          "histogram": [
           {
            "marker": {
             "colorbar": {
              "outlinewidth": 0,
              "ticks": ""
             }
            },
            "type": "histogram"
           }
          ],
          "histogram2d": [
           {
            "colorbar": {
             "outlinewidth": 0,
             "ticks": ""
            },
            "colorscale": [
             [
              0,
              "#0d0887"
             ],
             [
              0.1111111111111111,
              "#46039f"
             ],
             [
              0.2222222222222222,
              "#7201a8"
             ],
             [
              0.3333333333333333,
              "#9c179e"
             ],
             [
              0.4444444444444444,
              "#bd3786"
             ],
             [
              0.5555555555555556,
              "#d8576b"
             ],
             [
              0.6666666666666666,
              "#ed7953"
             ],
             [
              0.7777777777777778,
              "#fb9f3a"
             ],
             [
              0.8888888888888888,
              "#fdca26"
             ],
             [
              1,
              "#f0f921"
             ]
            ],
            "type": "histogram2d"
           }
          ],
          "histogram2dcontour": [
           {
            "colorbar": {
             "outlinewidth": 0,
             "ticks": ""
            },
            "colorscale": [
             [
              0,
              "#0d0887"
             ],
             [
              0.1111111111111111,
              "#46039f"
             ],
             [
              0.2222222222222222,
              "#7201a8"
             ],
             [
              0.3333333333333333,
              "#9c179e"
             ],
             [
              0.4444444444444444,
              "#bd3786"
             ],
             [
              0.5555555555555556,
              "#d8576b"
             ],
             [
              0.6666666666666666,
              "#ed7953"
             ],
             [
              0.7777777777777778,
              "#fb9f3a"
             ],
             [
              0.8888888888888888,
              "#fdca26"
             ],
             [
              1,
              "#f0f921"
             ]
            ],
            "type": "histogram2dcontour"
           }
          ],
          "mesh3d": [
           {
            "colorbar": {
             "outlinewidth": 0,
             "ticks": ""
            },
            "type": "mesh3d"
           }
          ],
          "parcoords": [
           {
            "line": {
             "colorbar": {
              "outlinewidth": 0,
              "ticks": ""
             }
            },
            "type": "parcoords"
           }
          ],
          "scatter": [
           {
            "marker": {
             "colorbar": {
              "outlinewidth": 0,
              "ticks": ""
             }
            },
            "type": "scatter"
           }
          ],
          "scatter3d": [
           {
            "line": {
             "colorbar": {
              "outlinewidth": 0,
              "ticks": ""
             }
            },
            "marker": {
             "colorbar": {
              "outlinewidth": 0,
              "ticks": ""
             }
            },
            "type": "scatter3d"
           }
          ],
          "scattercarpet": [
           {
            "marker": {
             "colorbar": {
              "outlinewidth": 0,
              "ticks": ""
             }
            },
            "type": "scattercarpet"
           }
          ],
          "scattergeo": [
           {
            "marker": {
             "colorbar": {
              "outlinewidth": 0,
              "ticks": ""
             }
            },
            "type": "scattergeo"
           }
          ],
          "scattergl": [
           {
            "marker": {
             "colorbar": {
              "outlinewidth": 0,
              "ticks": ""
             }
            },
            "type": "scattergl"
           }
          ],
          "scattermapbox": [
           {
            "marker": {
             "colorbar": {
              "outlinewidth": 0,
              "ticks": ""
             }
            },
            "type": "scattermapbox"
           }
          ],
          "scatterpolar": [
           {
            "marker": {
             "colorbar": {
              "outlinewidth": 0,
              "ticks": ""
             }
            },
            "type": "scatterpolar"
           }
          ],
          "scatterpolargl": [
           {
            "marker": {
             "colorbar": {
              "outlinewidth": 0,
              "ticks": ""
             }
            },
            "type": "scatterpolargl"
           }
          ],
          "scatterternary": [
           {
            "marker": {
             "colorbar": {
              "outlinewidth": 0,
              "ticks": ""
             }
            },
            "type": "scatterternary"
           }
          ],
          "surface": [
           {
            "colorbar": {
             "outlinewidth": 0,
             "ticks": ""
            },
            "colorscale": [
             [
              0,
              "#0d0887"
             ],
             [
              0.1111111111111111,
              "#46039f"
             ],
             [
              0.2222222222222222,
              "#7201a8"
             ],
             [
              0.3333333333333333,
              "#9c179e"
             ],
             [
              0.4444444444444444,
              "#bd3786"
             ],
             [
              0.5555555555555556,
              "#d8576b"
             ],
             [
              0.6666666666666666,
              "#ed7953"
             ],
             [
              0.7777777777777778,
              "#fb9f3a"
             ],
             [
              0.8888888888888888,
              "#fdca26"
             ],
             [
              1,
              "#f0f921"
             ]
            ],
            "type": "surface"
           }
          ],
          "table": [
           {
            "cells": {
             "fill": {
              "color": "#EBF0F8"
             },
             "line": {
              "color": "white"
             }
            },
            "header": {
             "fill": {
              "color": "#C8D4E3"
             },
             "line": {
              "color": "white"
             }
            },
            "type": "table"
           }
          ]
         },
         "layout": {
          "annotationdefaults": {
           "arrowcolor": "#2a3f5f",
           "arrowhead": 0,
           "arrowwidth": 1
          },
          "colorscale": {
           "diverging": [
            [
             0,
             "#8e0152"
            ],
            [
             0.1,
             "#c51b7d"
            ],
            [
             0.2,
             "#de77ae"
            ],
            [
             0.3,
             "#f1b6da"
            ],
            [
             0.4,
             "#fde0ef"
            ],
            [
             0.5,
             "#f7f7f7"
            ],
            [
             0.6,
             "#e6f5d0"
            ],
            [
             0.7,
             "#b8e186"
            ],
            [
             0.8,
             "#7fbc41"
            ],
            [
             0.9,
             "#4d9221"
            ],
            [
             1,
             "#276419"
            ]
           ],
           "sequential": [
            [
             0,
             "#0d0887"
            ],
            [
             0.1111111111111111,
             "#46039f"
            ],
            [
             0.2222222222222222,
             "#7201a8"
            ],
            [
             0.3333333333333333,
             "#9c179e"
            ],
            [
             0.4444444444444444,
             "#bd3786"
            ],
            [
             0.5555555555555556,
             "#d8576b"
            ],
            [
             0.6666666666666666,
             "#ed7953"
            ],
            [
             0.7777777777777778,
             "#fb9f3a"
            ],
            [
             0.8888888888888888,
             "#fdca26"
            ],
            [
             1,
             "#f0f921"
            ]
           ],
           "sequentialminus": [
            [
             0,
             "#0d0887"
            ],
            [
             0.1111111111111111,
             "#46039f"
            ],
            [
             0.2222222222222222,
             "#7201a8"
            ],
            [
             0.3333333333333333,
             "#9c179e"
            ],
            [
             0.4444444444444444,
             "#bd3786"
            ],
            [
             0.5555555555555556,
             "#d8576b"
            ],
            [
             0.6666666666666666,
             "#ed7953"
            ],
            [
             0.7777777777777778,
             "#fb9f3a"
            ],
            [
             0.8888888888888888,
             "#fdca26"
            ],
            [
             1,
             "#f0f921"
            ]
           ]
          },
          "colorway": [
           "#636efa",
           "#EF553B",
           "#00cc96",
           "#ab63fa",
           "#FFA15A",
           "#19d3f3",
           "#FF6692",
           "#B6E880",
           "#FF97FF",
           "#FECB52"
          ],
          "font": {
           "color": "#2a3f5f"
          },
          "geo": {
           "bgcolor": "white",
           "lakecolor": "white",
           "landcolor": "#E5ECF6",
           "showlakes": true,
           "showland": true,
           "subunitcolor": "white"
          },
          "hoverlabel": {
           "align": "left"
          },
          "hovermode": "closest",
          "mapbox": {
           "style": "light"
          },
          "paper_bgcolor": "white",
          "plot_bgcolor": "#E5ECF6",
          "polar": {
           "angularaxis": {
            "gridcolor": "white",
            "linecolor": "white",
            "ticks": ""
           },
           "bgcolor": "#E5ECF6",
           "radialaxis": {
            "gridcolor": "white",
            "linecolor": "white",
            "ticks": ""
           }
          },
          "scene": {
           "xaxis": {
            "backgroundcolor": "#E5ECF6",
            "gridcolor": "white",
            "gridwidth": 2,
            "linecolor": "white",
            "showbackground": true,
            "ticks": "",
            "zerolinecolor": "white"
           },
           "yaxis": {
            "backgroundcolor": "#E5ECF6",
            "gridcolor": "white",
            "gridwidth": 2,
            "linecolor": "white",
            "showbackground": true,
            "ticks": "",
            "zerolinecolor": "white"
           },
           "zaxis": {
            "backgroundcolor": "#E5ECF6",
            "gridcolor": "white",
            "gridwidth": 2,
            "linecolor": "white",
            "showbackground": true,
            "ticks": "",
            "zerolinecolor": "white"
           }
          },
          "shapedefaults": {
           "line": {
            "color": "#2a3f5f"
           }
          },
          "ternary": {
           "aaxis": {
            "gridcolor": "white",
            "linecolor": "white",
            "ticks": ""
           },
           "baxis": {
            "gridcolor": "white",
            "linecolor": "white",
            "ticks": ""
           },
           "bgcolor": "#E5ECF6",
           "caxis": {
            "gridcolor": "white",
            "linecolor": "white",
            "ticks": ""
           }
          },
          "title": {
           "x": 0.05
          },
          "xaxis": {
           "automargin": true,
           "gridcolor": "white",
           "linecolor": "white",
           "ticks": "",
           "zerolinecolor": "white",
           "zerolinewidth": 2
          },
          "yaxis": {
           "automargin": true,
           "gridcolor": "white",
           "linecolor": "white",
           "ticks": "",
           "zerolinecolor": "white",
           "zerolinewidth": 2
          }
         }
        }
       }
      },
      "text/html": [
       "<div>\n",
       "        \n",
       "        \n",
       "            <div id=\"9aa50153-5efe-4f6a-8129-9f40aa829814\" class=\"plotly-graph-div\" style=\"height:600px; width:100%;\"></div>\n",
       "            <script type=\"text/javascript\">\n",
       "                require([\"plotly\"], function(Plotly) {\n",
       "                    window.PLOTLYENV=window.PLOTLYENV || {};\n",
       "                    \n",
       "                if (document.getElementById(\"9aa50153-5efe-4f6a-8129-9f40aa829814\")) {\n",
       "                    Plotly.newPlot(\n",
       "                        '9aa50153-5efe-4f6a-8129-9f40aa829814',\n",
       "                        [{\"hoverlabel\": {\"namelength\": 0}, \"hovertemplate\": \"PostOp-SNR=%{x}<br>PreOp-SNR=%{y}<br>PreOp-CNR=%{z}<br>ImplantRight=%{marker.color}\", \"legendgroup\": \"\", \"marker\": {\"color\": [275, 275, 275, 275, 300, 300, 300, 300, 300, 325, 325, 325, 325, 325, 325, 325, 325, 325, 325, 325, 325, 325, 350, 350, 350, 350, 350, 350, 350, 350, 350, 350, 350, 350, 350, 350, 375, 375, 375, 375, 375, 400, 275, 325, 300, 325, 350, 450, 350, 350, 325, 325, 275, 275, 275, 375, 350, 375, 250, 400, 350, 350, 325, 350, 350, 375, 300, 275, 375, 300, 300, 300, 400, 375, 375, 325, 375, 325, 325, 375, 250, 250, 375, 250, 300, 325, 300, 350, 350, 375, 325, 325, 350, 350, 400, 325, 375, 325, 325, 375, 375, 325, 325, 345, 325, 300, 322, 325, 275, 275, 350, 325, 375, 250, 375, 350, 300, 300, 325, 325, 275, 350, 325, 350, 250, 325, 300, 350, 300, 325, 325, 275, 325, 375, 225, 350, 250, 375, 325, 350, 275, 300, 350, 275], \"coloraxis\": \"coloraxis\", \"symbol\": \"circle\"}, \"mode\": \"markers\", \"name\": \"\", \"scene\": \"scene\", \"showlegend\": false, \"type\": \"scatter3d\", \"x\": [16.5, 20.0, 18.0, 18.0, 19.0, 18.0, 16.5, 19.0, 19.0, 17.0, 20.0, 19.5, 19.0, 18.0, 19.0, 18.0, 18.5, 19.0, 18.5, 19.5, 16.5, 18.5, 21.5, 17.5, 19.5, 18.5, 19.5, 21.0, 16.5, 17.0, 18.0, 19.0, 20.0, 21.0, 21.0, 19.0, 17.0, 19.0, 21.0, 16.5, 20.0, 21.0, 20.0, 20.0, 20.0, 15.5, 20.0, 20.0, 18.5, 17.5, 20.0, 20.5, 18.0, 18.0, 17.5, 17.5, 16.5, 18.5, 18.5, 19.0, 18.5, 19.0, 19.0, 18.0, 18.0, 19.0, 19.0, 19.5, 21.0, 17.5, 18.0, 19.0, 18.5, 21.0, 21.0, 18.0, 18.5, 19.5, 18.0, 18.5, 22.5, 19.5, 17.5, 19.0, 16.0, 19.0, 21.0, 19.5, 17.5, 20.0, 20.5, 20.5, 16.5, 19.0, 22.0, 17.5, 21.0, 17.5, 19.0, 17.5, 19.5, 19.0, 19.0, 23.0, 18.5, 18.5, 19.0, 19.0, 16.5, 20.0, 19.5, 18.0, 23.0, 18.0, 18.5, 19.0, 19.0, 18.5, 19.0, 19.5, 18.5, 21.0, 18.0, 21.0, 18.0, 18.5, 17.0, 22.0, 18.0, 22.5, 19.0, 18.5, 20.5, 20.0, 18.0, 21.0, 18.0, 21.5, 18.0, 22.0, 18.5, 17.5, 17.0, 22.0], \"y\": [15.0, 18.5, 16.0, 16.0, 17.5, 17.0, 15.5, 17.5, 18.0, 16.5, 18.5, 18.5, 17.0, 16.5, 17.5, 16.5, 16.0, 17.5, 17.0, 18.5, 15.0, 16.5, 19.5, 16.5, 17.0, 17.0, 19.0, 18.5, 14.0, 16.0, 16.0, 17.5, 18.5, 19.0, 19.5, 17.5, 15.0, 18.5, 20.0, 15.0, 18.5, 20.0, 18.5, 19.0, 18.5, 15.0, 19.5, 20.0, 16.5, 16.0, 17.5, 19.5, 17.5, 16.5, 16.0, 15.5, 15.0, 17.0, 16.5, 17.5, 17.0, 18.5, 18.0, 17.5, 16.0, 17.0, 17.0, 17.5, 19.5, 17.0, 17.5, 18.5, 17.5, 19.0, 19.0, 16.5, 16.5, 18.5, 16.5, 17.0, 20.5, 18.5, 17.0, 17.0, 15.5, 17.5, 20.5, 17.0, 16.0, 18.5, 18.0, 18.3, 16.5, 17.0, 21.5, 17.0, 20.5, 16.0, 17.0, 16.5, 19.0, 17.5, 17.5, 21.5, 17.5, 18.0, 18.5, 16.5, 16.5, 18.0, 18.0, 17.5, 22.5, 17.0, 17.0, 18.5, 17.5, 17.5, 18.5, 18.0, 17.0, 20.0, 14.5, 19.0, 16.5, 17.0, 15.5, 20.0, 16.5, 21.5, 17.5, 17.5, 18.5, 18.0, 16.5, 19.5, 16.0, 20.5, 16.5, 21.0, 17.5, 16.0, 16.0, 20.0], \"z\": [13.5, 17.5, 14.0, 15.0, 16.5, 16.0, 14.0, 15.5, 16.0, 15.5, 17.0, 17.0, 16.0, 15.0, 16.0, 15.0, 14.0, 15.5, 16.0, 17.0, 13.0, 15.0, 18.0, 14.0, 15.5, 15.0, 17.0, 17.0, 13.0, 14.5, 14.5, 16.0, 16.5, 18.0, 18.0, 16.0, 13.0, 16.5, 18.5, 13.5, 16.5, 18.5, 17.0, 18.5, 17.0, 13.5, 18.0, 18.0, 15.5, 15.5, 16.0, 18.5, 16.0, 15.0, 15.0, 14.5, 13.5, 15.5, 15.0, 15.5, 16.0, 17.0, 16.5, 16.5, 15.0, 15.5, 15.5, 16.0, 18.0, 15.0, 16.0, 16.5, 16.0, 18.0, 17.5, 15.0, 15.0, 17.0, 15.5, 15.5, 20.0, 16.5, 15.5, 15.5, 13.5, 15.5, 19.0, 15.0, 14.0, 16.5, 16.5, 17.5, 14.5, 15.0, 20.5, 15.0, 19.0, 14.5, 15.5, 14.5, 17.5, 16.0, 15.5, 20.5, 16.0, 16.5, 17.0, 15.0, 14.5, 16.0, 17.0, 16.0, 21.5, 15.3, 15.5, 17.5, 16.0, 16.0, 17.5, 16.0, 15.0, 19.5, 14.5, 17.0, 15.0, 14.5, 14.0, 18.0, 14.5, 20.0, 16.0, 16.0, 16.5, 16.0, 15.0, 18.0, 14.5, 19.5, 15.0, 19.5, 16.0, 14.0, 14.0, 18.0]}],\n",
       "                        {\"coloraxis\": {\"colorbar\": {\"title\": {\"text\": \"ImplantRight\"}}, \"colorscale\": [[0.0, \"#0d0887\"], [0.1111111111111111, \"#46039f\"], [0.2222222222222222, \"#7201a8\"], [0.3333333333333333, \"#9c179e\"], [0.4444444444444444, \"#bd3786\"], [0.5555555555555556, \"#d8576b\"], [0.6666666666666666, \"#ed7953\"], [0.7777777777777778, \"#fb9f3a\"], [0.8888888888888888, \"#fdca26\"], [1.0, \"#f0f921\"]]}, \"height\": 600, \"legend\": {\"tracegroupgap\": 0}, \"margin\": {\"t\": 60}, \"scene\": {\"domain\": {\"x\": [0.0, 0.98], \"y\": [0.0, 1.0]}, \"xaxis\": {\"title\": {\"text\": \"PostOp-SNR\"}}, \"yaxis\": {\"title\": {\"text\": \"PreOp-SNR\"}}, \"zaxis\": {\"title\": {\"text\": \"PreOp-CNR\"}}}, \"template\": {\"data\": {\"bar\": [{\"error_x\": {\"color\": \"#2a3f5f\"}, \"error_y\": {\"color\": \"#2a3f5f\"}, \"marker\": {\"line\": {\"color\": \"#E5ECF6\", \"width\": 0.5}}, \"type\": \"bar\"}], \"barpolar\": [{\"marker\": {\"line\": {\"color\": \"#E5ECF6\", \"width\": 0.5}}, \"type\": \"barpolar\"}], \"carpet\": [{\"aaxis\": {\"endlinecolor\": \"#2a3f5f\", \"gridcolor\": \"white\", \"linecolor\": \"white\", \"minorgridcolor\": \"white\", \"startlinecolor\": \"#2a3f5f\"}, \"baxis\": {\"endlinecolor\": \"#2a3f5f\", \"gridcolor\": \"white\", \"linecolor\": \"white\", \"minorgridcolor\": \"white\", \"startlinecolor\": \"#2a3f5f\"}, \"type\": \"carpet\"}], \"choropleth\": [{\"colorbar\": {\"outlinewidth\": 0, \"ticks\": \"\"}, \"type\": \"choropleth\"}], \"contour\": [{\"colorbar\": {\"outlinewidth\": 0, \"ticks\": \"\"}, \"colorscale\": [[0.0, \"#0d0887\"], [0.1111111111111111, \"#46039f\"], [0.2222222222222222, \"#7201a8\"], [0.3333333333333333, \"#9c179e\"], [0.4444444444444444, \"#bd3786\"], [0.5555555555555556, \"#d8576b\"], [0.6666666666666666, \"#ed7953\"], [0.7777777777777778, \"#fb9f3a\"], [0.8888888888888888, \"#fdca26\"], [1.0, \"#f0f921\"]], \"type\": \"contour\"}], \"contourcarpet\": [{\"colorbar\": {\"outlinewidth\": 0, \"ticks\": \"\"}, \"type\": \"contourcarpet\"}], \"heatmap\": [{\"colorbar\": {\"outlinewidth\": 0, \"ticks\": \"\"}, \"colorscale\": [[0.0, \"#0d0887\"], [0.1111111111111111, \"#46039f\"], [0.2222222222222222, \"#7201a8\"], [0.3333333333333333, \"#9c179e\"], [0.4444444444444444, \"#bd3786\"], [0.5555555555555556, \"#d8576b\"], [0.6666666666666666, \"#ed7953\"], [0.7777777777777778, \"#fb9f3a\"], [0.8888888888888888, \"#fdca26\"], [1.0, \"#f0f921\"]], \"type\": \"heatmap\"}], \"heatmapgl\": [{\"colorbar\": {\"outlinewidth\": 0, \"ticks\": \"\"}, \"colorscale\": [[0.0, \"#0d0887\"], [0.1111111111111111, \"#46039f\"], [0.2222222222222222, \"#7201a8\"], [0.3333333333333333, \"#9c179e\"], [0.4444444444444444, \"#bd3786\"], [0.5555555555555556, \"#d8576b\"], [0.6666666666666666, \"#ed7953\"], [0.7777777777777778, \"#fb9f3a\"], [0.8888888888888888, \"#fdca26\"], [1.0, \"#f0f921\"]], \"type\": \"heatmapgl\"}], \"histogram\": [{\"marker\": {\"colorbar\": {\"outlinewidth\": 0, \"ticks\": \"\"}}, \"type\": \"histogram\"}], \"histogram2d\": [{\"colorbar\": {\"outlinewidth\": 0, \"ticks\": \"\"}, \"colorscale\": [[0.0, \"#0d0887\"], [0.1111111111111111, \"#46039f\"], [0.2222222222222222, \"#7201a8\"], [0.3333333333333333, \"#9c179e\"], [0.4444444444444444, \"#bd3786\"], [0.5555555555555556, \"#d8576b\"], [0.6666666666666666, \"#ed7953\"], [0.7777777777777778, \"#fb9f3a\"], [0.8888888888888888, \"#fdca26\"], [1.0, \"#f0f921\"]], \"type\": \"histogram2d\"}], \"histogram2dcontour\": [{\"colorbar\": {\"outlinewidth\": 0, \"ticks\": \"\"}, \"colorscale\": [[0.0, \"#0d0887\"], [0.1111111111111111, \"#46039f\"], [0.2222222222222222, \"#7201a8\"], [0.3333333333333333, \"#9c179e\"], [0.4444444444444444, \"#bd3786\"], [0.5555555555555556, \"#d8576b\"], [0.6666666666666666, \"#ed7953\"], [0.7777777777777778, \"#fb9f3a\"], [0.8888888888888888, \"#fdca26\"], [1.0, \"#f0f921\"]], \"type\": \"histogram2dcontour\"}], \"mesh3d\": [{\"colorbar\": {\"outlinewidth\": 0, \"ticks\": \"\"}, \"type\": \"mesh3d\"}], \"parcoords\": [{\"line\": {\"colorbar\": {\"outlinewidth\": 0, \"ticks\": \"\"}}, \"type\": \"parcoords\"}], \"scatter\": [{\"marker\": {\"colorbar\": {\"outlinewidth\": 0, \"ticks\": \"\"}}, \"type\": \"scatter\"}], \"scatter3d\": [{\"line\": {\"colorbar\": {\"outlinewidth\": 0, \"ticks\": \"\"}}, \"marker\": {\"colorbar\": {\"outlinewidth\": 0, \"ticks\": \"\"}}, \"type\": \"scatter3d\"}], \"scattercarpet\": [{\"marker\": {\"colorbar\": {\"outlinewidth\": 0, \"ticks\": \"\"}}, \"type\": \"scattercarpet\"}], \"scattergeo\": [{\"marker\": {\"colorbar\": {\"outlinewidth\": 0, \"ticks\": \"\"}}, \"type\": \"scattergeo\"}], \"scattergl\": [{\"marker\": {\"colorbar\": {\"outlinewidth\": 0, \"ticks\": \"\"}}, \"type\": \"scattergl\"}], \"scattermapbox\": [{\"marker\": {\"colorbar\": {\"outlinewidth\": 0, \"ticks\": \"\"}}, \"type\": \"scattermapbox\"}], \"scatterpolar\": [{\"marker\": {\"colorbar\": {\"outlinewidth\": 0, \"ticks\": \"\"}}, \"type\": \"scatterpolar\"}], \"scatterpolargl\": [{\"marker\": {\"colorbar\": {\"outlinewidth\": 0, \"ticks\": \"\"}}, \"type\": \"scatterpolargl\"}], \"scatterternary\": [{\"marker\": {\"colorbar\": {\"outlinewidth\": 0, \"ticks\": \"\"}}, \"type\": \"scatterternary\"}], \"surface\": [{\"colorbar\": {\"outlinewidth\": 0, \"ticks\": \"\"}, \"colorscale\": [[0.0, \"#0d0887\"], [0.1111111111111111, \"#46039f\"], [0.2222222222222222, \"#7201a8\"], [0.3333333333333333, \"#9c179e\"], [0.4444444444444444, \"#bd3786\"], [0.5555555555555556, \"#d8576b\"], [0.6666666666666666, \"#ed7953\"], [0.7777777777777778, \"#fb9f3a\"], [0.8888888888888888, \"#fdca26\"], [1.0, \"#f0f921\"]], \"type\": \"surface\"}], \"table\": [{\"cells\": {\"fill\": {\"color\": \"#EBF0F8\"}, \"line\": {\"color\": \"white\"}}, \"header\": {\"fill\": {\"color\": \"#C8D4E3\"}, \"line\": {\"color\": \"white\"}}, \"type\": \"table\"}]}, \"layout\": {\"annotationdefaults\": {\"arrowcolor\": \"#2a3f5f\", \"arrowhead\": 0, \"arrowwidth\": 1}, \"colorscale\": {\"diverging\": [[0, \"#8e0152\"], [0.1, \"#c51b7d\"], [0.2, \"#de77ae\"], [0.3, \"#f1b6da\"], [0.4, \"#fde0ef\"], [0.5, \"#f7f7f7\"], [0.6, \"#e6f5d0\"], [0.7, \"#b8e186\"], [0.8, \"#7fbc41\"], [0.9, \"#4d9221\"], [1, \"#276419\"]], \"sequential\": [[0.0, \"#0d0887\"], [0.1111111111111111, \"#46039f\"], [0.2222222222222222, \"#7201a8\"], [0.3333333333333333, \"#9c179e\"], [0.4444444444444444, \"#bd3786\"], [0.5555555555555556, \"#d8576b\"], [0.6666666666666666, \"#ed7953\"], [0.7777777777777778, \"#fb9f3a\"], [0.8888888888888888, \"#fdca26\"], [1.0, \"#f0f921\"]], \"sequentialminus\": [[0.0, \"#0d0887\"], [0.1111111111111111, \"#46039f\"], [0.2222222222222222, \"#7201a8\"], [0.3333333333333333, \"#9c179e\"], [0.4444444444444444, \"#bd3786\"], [0.5555555555555556, \"#d8576b\"], [0.6666666666666666, \"#ed7953\"], [0.7777777777777778, \"#fb9f3a\"], [0.8888888888888888, \"#fdca26\"], [1.0, \"#f0f921\"]]}, \"colorway\": [\"#636efa\", \"#EF553B\", \"#00cc96\", \"#ab63fa\", \"#FFA15A\", \"#19d3f3\", \"#FF6692\", \"#B6E880\", \"#FF97FF\", \"#FECB52\"], \"font\": {\"color\": \"#2a3f5f\"}, \"geo\": {\"bgcolor\": \"white\", \"lakecolor\": \"white\", \"landcolor\": \"#E5ECF6\", \"showlakes\": true, \"showland\": true, \"subunitcolor\": \"white\"}, \"hoverlabel\": {\"align\": \"left\"}, \"hovermode\": \"closest\", \"mapbox\": {\"style\": \"light\"}, \"paper_bgcolor\": \"white\", \"plot_bgcolor\": \"#E5ECF6\", \"polar\": {\"angularaxis\": {\"gridcolor\": \"white\", \"linecolor\": \"white\", \"ticks\": \"\"}, \"bgcolor\": \"#E5ECF6\", \"radialaxis\": {\"gridcolor\": \"white\", \"linecolor\": \"white\", \"ticks\": \"\"}}, \"scene\": {\"xaxis\": {\"backgroundcolor\": \"#E5ECF6\", \"gridcolor\": \"white\", \"gridwidth\": 2, \"linecolor\": \"white\", \"showbackground\": true, \"ticks\": \"\", \"zerolinecolor\": \"white\"}, \"yaxis\": {\"backgroundcolor\": \"#E5ECF6\", \"gridcolor\": \"white\", \"gridwidth\": 2, \"linecolor\": \"white\", \"showbackground\": true, \"ticks\": \"\", \"zerolinecolor\": \"white\"}, \"zaxis\": {\"backgroundcolor\": \"#E5ECF6\", \"gridcolor\": \"white\", \"gridwidth\": 2, \"linecolor\": \"white\", \"showbackground\": true, \"ticks\": \"\", \"zerolinecolor\": \"white\"}}, \"shapedefaults\": {\"line\": {\"color\": \"#2a3f5f\"}}, \"ternary\": {\"aaxis\": {\"gridcolor\": \"white\", \"linecolor\": \"white\", \"ticks\": \"\"}, \"baxis\": {\"gridcolor\": \"white\", \"linecolor\": \"white\", \"ticks\": \"\"}, \"bgcolor\": \"#E5ECF6\", \"caxis\": {\"gridcolor\": \"white\", \"linecolor\": \"white\", \"ticks\": \"\"}}, \"title\": {\"x\": 0.05}, \"xaxis\": {\"automargin\": true, \"gridcolor\": \"white\", \"linecolor\": \"white\", \"ticks\": \"\", \"zerolinecolor\": \"white\", \"zerolinewidth\": 2}, \"yaxis\": {\"automargin\": true, \"gridcolor\": \"white\", \"linecolor\": \"white\", \"ticks\": \"\", \"zerolinecolor\": \"white\", \"zerolinewidth\": 2}}}},\n",
       "                        {\"responsive\": true}\n",
       "                    ).then(function(){\n",
       "                            \n",
       "var gd = document.getElementById('9aa50153-5efe-4f6a-8129-9f40aa829814');\n",
       "var x = new MutationObserver(function (mutations, observer) {{\n",
       "        var display = window.getComputedStyle(gd).display;\n",
       "        if (!display || display === 'none') {{\n",
       "            console.log([gd, 'removed!']);\n",
       "            Plotly.purge(gd);\n",
       "            observer.disconnect();\n",
       "        }}\n",
       "}});\n",
       "\n",
       "// Listen for the removal of the full notebook cells\n",
       "var notebookContainer = gd.closest('#notebook-container');\n",
       "if (notebookContainer) {{\n",
       "    x.observe(notebookContainer, {childList: true});\n",
       "}}\n",
       "\n",
       "// Listen for the clearing of the current output cell\n",
       "var outputEl = gd.closest('.output');\n",
       "if (outputEl) {{\n",
       "    x.observe(outputEl, {childList: true});\n",
       "}}\n",
       "\n",
       "                        })\n",
       "                };\n",
       "                });\n",
       "            </script>\n",
       "        </div>"
      ]
     },
     "metadata": {},
     "output_type": "display_data"
    }
   ],
   "source": [
    "fig = px.scatter_3d(df, x='PostOp-SNR', y='PreOp-SNR', z='PreOp-CNR', color='ImplantRight')\n",
    "fig.show()"
   ]
  },
  {
   "cell_type": "code",
   "execution_count": 23,
   "metadata": {},
   "outputs": [
    {
     "data": {
      "application/vnd.plotly.v1+json": {
       "config": {
        "plotlyServerURL": "https://plot.ly"
       },
       "data": [
        {
         "hoverlabel": {
          "namelength": 0
         },
         "hovertemplate": "PostOp-SNR=%{x}<br>PreOp-SNR=%{y}<br>PreOp-BWR=%{z}<br>ImplantRight=%{marker.color}",
         "legendgroup": "",
         "marker": {
          "color": [
           275,
           275,
           275,
           275,
           300,
           300,
           300,
           300,
           300,
           325,
           325,
           325,
           325,
           325,
           325,
           325,
           325,
           325,
           325,
           325,
           325,
           325,
           350,
           350,
           350,
           350,
           350,
           350,
           350,
           350,
           350,
           350,
           350,
           350,
           350,
           350,
           375,
           375,
           375,
           375,
           375,
           400,
           275,
           325,
           300,
           325,
           350,
           450,
           350,
           350,
           325,
           325,
           275,
           275,
           275,
           375,
           350,
           375,
           250,
           400,
           350,
           350,
           325,
           350,
           350,
           375,
           300,
           275,
           375,
           300,
           300,
           300,
           400,
           375,
           375,
           325,
           375,
           325,
           325,
           375,
           250,
           250,
           375,
           250,
           300,
           325,
           300,
           350,
           350,
           375,
           325,
           325,
           350,
           350,
           400,
           325,
           375,
           325,
           325,
           375,
           375,
           325,
           325,
           345,
           325,
           300,
           322,
           325,
           275,
           275,
           350,
           325,
           375,
           250,
           375,
           350,
           300,
           300,
           325,
           325,
           275,
           350,
           325,
           350,
           250,
           325,
           300,
           350,
           300,
           325,
           325,
           275,
           325,
           375,
           225,
           350,
           250,
           375,
           325,
           350,
           275,
           300,
           350,
           275
          ],
          "coloraxis": "coloraxis",
          "symbol": "circle"
         },
         "mode": "markers",
         "name": "",
         "scene": "scene",
         "showlegend": false,
         "type": "scatter3d",
         "x": [
          16.5,
          20,
          18,
          18,
          19,
          18,
          16.5,
          19,
          19,
          17,
          20,
          19.5,
          19,
          18,
          19,
          18,
          18.5,
          19,
          18.5,
          19.5,
          16.5,
          18.5,
          21.5,
          17.5,
          19.5,
          18.5,
          19.5,
          21,
          16.5,
          17,
          18,
          19,
          20,
          21,
          21,
          19,
          17,
          19,
          21,
          16.5,
          20,
          21,
          20,
          20,
          20,
          15.5,
          20,
          20,
          18.5,
          17.5,
          20,
          20.5,
          18,
          18,
          17.5,
          17.5,
          16.5,
          18.5,
          18.5,
          19,
          18.5,
          19,
          19,
          18,
          18,
          19,
          19,
          19.5,
          21,
          17.5,
          18,
          19,
          18.5,
          21,
          21,
          18,
          18.5,
          19.5,
          18,
          18.5,
          22.5,
          19.5,
          17.5,
          19,
          16,
          19,
          21,
          19.5,
          17.5,
          20,
          20.5,
          20.5,
          16.5,
          19,
          22,
          17.5,
          21,
          17.5,
          19,
          17.5,
          19.5,
          19,
          19,
          23,
          18.5,
          18.5,
          19,
          19,
          16.5,
          20,
          19.5,
          18,
          23,
          18,
          18.5,
          19,
          19,
          18.5,
          19,
          19.5,
          18.5,
          21,
          18,
          21,
          18,
          18.5,
          17,
          22,
          18,
          22.5,
          19,
          18.5,
          20.5,
          20,
          18,
          21,
          18,
          21.5,
          18,
          22,
          18.5,
          17.5,
          17,
          22
         ],
         "y": [
          15,
          18.5,
          16,
          16,
          17.5,
          17,
          15.5,
          17.5,
          18,
          16.5,
          18.5,
          18.5,
          17,
          16.5,
          17.5,
          16.5,
          16,
          17.5,
          17,
          18.5,
          15,
          16.5,
          19.5,
          16.5,
          17,
          17,
          19,
          18.5,
          14,
          16,
          16,
          17.5,
          18.5,
          19,
          19.5,
          17.5,
          15,
          18.5,
          20,
          15,
          18.5,
          20,
          18.5,
          19,
          18.5,
          15,
          19.5,
          20,
          16.5,
          16,
          17.5,
          19.5,
          17.5,
          16.5,
          16,
          15.5,
          15,
          17,
          16.5,
          17.5,
          17,
          18.5,
          18,
          17.5,
          16,
          17,
          17,
          17.5,
          19.5,
          17,
          17.5,
          18.5,
          17.5,
          19,
          19,
          16.5,
          16.5,
          18.5,
          16.5,
          17,
          20.5,
          18.5,
          17,
          17,
          15.5,
          17.5,
          20.5,
          17,
          16,
          18.5,
          18,
          18.3,
          16.5,
          17,
          21.5,
          17,
          20.5,
          16,
          17,
          16.5,
          19,
          17.5,
          17.5,
          21.5,
          17.5,
          18,
          18.5,
          16.5,
          16.5,
          18,
          18,
          17.5,
          22.5,
          17,
          17,
          18.5,
          17.5,
          17.5,
          18.5,
          18,
          17,
          20,
          14.5,
          19,
          16.5,
          17,
          15.5,
          20,
          16.5,
          21.5,
          17.5,
          17.5,
          18.5,
          18,
          16.5,
          19.5,
          16,
          20.5,
          16.5,
          21,
          17.5,
          16,
          16,
          20
         ],
         "z": [
          12.4,
          12.6,
          12,
          13,
          12,
          13,
          12.4,
          12.5,
          13,
          12.8,
          13.2,
          13.2,
          12.6,
          13.1,
          12.5,
          12.7,
          12.5,
          13,
          13,
          12.4,
          12,
          13,
          13.9,
          13.5,
          12.7,
          13.1,
          12.5,
          13.3,
          12.7,
          12.7,
          12.6,
          13.2,
          12.5,
          13,
          13.7,
          13.6,
          12.6,
          12.1,
          13,
          13,
          13.2,
          13.5,
          12.8,
          13.2,
          13.2,
          12.6,
          13.5,
          14.3,
          12.5,
          12.3,
          13.3,
          13.1,
          12.6,
          12.4,
          13,
          12.3,
          12.3,
          13.4,
          12,
          13,
          12.8,
          13.2,
          12.5,
          13.1,
          13.1,
          13.1,
          12.8,
          13,
          13.2,
          13,
          12.3,
          12.9,
          13.7,
          13.5,
          13.5,
          12.5,
          13.1,
          13.4,
          12.8,
          12.8,
          13.8,
          12.7,
          12.6,
          13.1,
          12.2,
          13,
          13.2,
          13.1,
          13.2,
          13.2,
          12.9,
          13,
          12,
          13.2,
          13.3,
          12.5,
          13.8,
          11.3,
          13.1,
          13.2,
          13.5,
          12.8,
          12.8,
          13.6,
          13.2,
          13,
          12.8,
          13.7,
          12.3,
          13.1,
          13.5,
          13.1,
          14.3,
          11.9,
          13.1,
          13.5,
          12.4,
          12.6,
          12,
          13.2,
          12.3,
          13.3,
          12.2,
          13.4,
          12.3,
          12.6,
          12.4,
          13.7,
          12.5,
          13.3,
          12.9,
          13.7,
          13,
          13,
          12.5,
          12.9,
          12.2,
          13.5,
          12.5,
          13.9,
          12.7,
          12.7,
          12.3,
          13.4
         ]
        }
       ],
       "layout": {
        "coloraxis": {
         "colorbar": {
          "title": {
           "text": "ImplantRight"
          }
         },
         "colorscale": [
          [
           0,
           "#0d0887"
          ],
          [
           0.1111111111111111,
           "#46039f"
          ],
          [
           0.2222222222222222,
           "#7201a8"
          ],
          [
           0.3333333333333333,
           "#9c179e"
          ],
          [
           0.4444444444444444,
           "#bd3786"
          ],
          [
           0.5555555555555556,
           "#d8576b"
          ],
          [
           0.6666666666666666,
           "#ed7953"
          ],
          [
           0.7777777777777778,
           "#fb9f3a"
          ],
          [
           0.8888888888888888,
           "#fdca26"
          ],
          [
           1,
           "#f0f921"
          ]
         ]
        },
        "height": 600,
        "legend": {
         "tracegroupgap": 0
        },
        "margin": {
         "t": 60
        },
        "scene": {
         "domain": {
          "x": [
           0,
           0.98
          ],
          "y": [
           0,
           1
          ]
         },
         "xaxis": {
          "title": {
           "text": "PostOp-SNR"
          }
         },
         "yaxis": {
          "title": {
           "text": "PreOp-SNR"
          }
         },
         "zaxis": {
          "title": {
           "text": "PreOp-BWR"
          }
         }
        },
        "template": {
         "data": {
          "bar": [
           {
            "error_x": {
             "color": "#2a3f5f"
            },
            "error_y": {
             "color": "#2a3f5f"
            },
            "marker": {
             "line": {
              "color": "#E5ECF6",
              "width": 0.5
             }
            },
            "type": "bar"
           }
          ],
          "barpolar": [
           {
            "marker": {
             "line": {
              "color": "#E5ECF6",
              "width": 0.5
             }
            },
            "type": "barpolar"
           }
          ],
          "carpet": [
           {
            "aaxis": {
             "endlinecolor": "#2a3f5f",
             "gridcolor": "white",
             "linecolor": "white",
             "minorgridcolor": "white",
             "startlinecolor": "#2a3f5f"
            },
            "baxis": {
             "endlinecolor": "#2a3f5f",
             "gridcolor": "white",
             "linecolor": "white",
             "minorgridcolor": "white",
             "startlinecolor": "#2a3f5f"
            },
            "type": "carpet"
           }
          ],
          "choropleth": [
           {
            "colorbar": {
             "outlinewidth": 0,
             "ticks": ""
            },
            "type": "choropleth"
           }
          ],
          "contour": [
           {
            "colorbar": {
             "outlinewidth": 0,
             "ticks": ""
            },
            "colorscale": [
             [
              0,
              "#0d0887"
             ],
             [
              0.1111111111111111,
              "#46039f"
             ],
             [
              0.2222222222222222,
              "#7201a8"
             ],
             [
              0.3333333333333333,
              "#9c179e"
             ],
             [
              0.4444444444444444,
              "#bd3786"
             ],
             [
              0.5555555555555556,
              "#d8576b"
             ],
             [
              0.6666666666666666,
              "#ed7953"
             ],
             [
              0.7777777777777778,
              "#fb9f3a"
             ],
             [
              0.8888888888888888,
              "#fdca26"
             ],
             [
              1,
              "#f0f921"
             ]
            ],
            "type": "contour"
           }
          ],
          "contourcarpet": [
           {
            "colorbar": {
             "outlinewidth": 0,
             "ticks": ""
            },
            "type": "contourcarpet"
           }
          ],
          "heatmap": [
           {
            "colorbar": {
             "outlinewidth": 0,
             "ticks": ""
            },
            "colorscale": [
             [
              0,
              "#0d0887"
             ],
             [
              0.1111111111111111,
              "#46039f"
             ],
             [
              0.2222222222222222,
              "#7201a8"
             ],
             [
              0.3333333333333333,
              "#9c179e"
             ],
             [
              0.4444444444444444,
              "#bd3786"
             ],
             [
              0.5555555555555556,
              "#d8576b"
             ],
             [
              0.6666666666666666,
              "#ed7953"
             ],
             [
              0.7777777777777778,
              "#fb9f3a"
             ],
             [
              0.8888888888888888,
              "#fdca26"
             ],
             [
              1,
              "#f0f921"
             ]
            ],
            "type": "heatmap"
           }
          ],
          "heatmapgl": [
           {
            "colorbar": {
             "outlinewidth": 0,
             "ticks": ""
            },
            "colorscale": [
             [
              0,
              "#0d0887"
             ],
             [
              0.1111111111111111,
              "#46039f"
             ],
             [
              0.2222222222222222,
              "#7201a8"
             ],
             [
              0.3333333333333333,
              "#9c179e"
             ],
             [
              0.4444444444444444,
              "#bd3786"
             ],
             [
              0.5555555555555556,
              "#d8576b"
             ],
             [
              0.6666666666666666,
              "#ed7953"
             ],
             [
              0.7777777777777778,
              "#fb9f3a"
             ],
             [
              0.8888888888888888,
              "#fdca26"
             ],
             [
              1,
              "#f0f921"
             ]
            ],
            "type": "heatmapgl"
           }
          ],
          "histogram": [
           {
            "marker": {
             "colorbar": {
              "outlinewidth": 0,
              "ticks": ""
             }
            },
            "type": "histogram"
           }
          ],
          "histogram2d": [
           {
            "colorbar": {
             "outlinewidth": 0,
             "ticks": ""
            },
            "colorscale": [
             [
              0,
              "#0d0887"
             ],
             [
              0.1111111111111111,
              "#46039f"
             ],
             [
              0.2222222222222222,
              "#7201a8"
             ],
             [
              0.3333333333333333,
              "#9c179e"
             ],
             [
              0.4444444444444444,
              "#bd3786"
             ],
             [
              0.5555555555555556,
              "#d8576b"
             ],
             [
              0.6666666666666666,
              "#ed7953"
             ],
             [
              0.7777777777777778,
              "#fb9f3a"
             ],
             [
              0.8888888888888888,
              "#fdca26"
             ],
             [
              1,
              "#f0f921"
             ]
            ],
            "type": "histogram2d"
           }
          ],
          "histogram2dcontour": [
           {
            "colorbar": {
             "outlinewidth": 0,
             "ticks": ""
            },
            "colorscale": [
             [
              0,
              "#0d0887"
             ],
             [
              0.1111111111111111,
              "#46039f"
             ],
             [
              0.2222222222222222,
              "#7201a8"
             ],
             [
              0.3333333333333333,
              "#9c179e"
             ],
             [
              0.4444444444444444,
              "#bd3786"
             ],
             [
              0.5555555555555556,
              "#d8576b"
             ],
             [
              0.6666666666666666,
              "#ed7953"
             ],
             [
              0.7777777777777778,
              "#fb9f3a"
             ],
             [
              0.8888888888888888,
              "#fdca26"
             ],
             [
              1,
              "#f0f921"
             ]
            ],
            "type": "histogram2dcontour"
           }
          ],
          "mesh3d": [
           {
            "colorbar": {
             "outlinewidth": 0,
             "ticks": ""
            },
            "type": "mesh3d"
           }
          ],
          "parcoords": [
           {
            "line": {
             "colorbar": {
              "outlinewidth": 0,
              "ticks": ""
             }
            },
            "type": "parcoords"
           }
          ],
          "scatter": [
           {
            "marker": {
             "colorbar": {
              "outlinewidth": 0,
              "ticks": ""
             }
            },
            "type": "scatter"
           }
          ],
          "scatter3d": [
           {
            "line": {
             "colorbar": {
              "outlinewidth": 0,
              "ticks": ""
             }
            },
            "marker": {
             "colorbar": {
              "outlinewidth": 0,
              "ticks": ""
             }
            },
            "type": "scatter3d"
           }
          ],
          "scattercarpet": [
           {
            "marker": {
             "colorbar": {
              "outlinewidth": 0,
              "ticks": ""
             }
            },
            "type": "scattercarpet"
           }
          ],
          "scattergeo": [
           {
            "marker": {
             "colorbar": {
              "outlinewidth": 0,
              "ticks": ""
             }
            },
            "type": "scattergeo"
           }
          ],
          "scattergl": [
           {
            "marker": {
             "colorbar": {
              "outlinewidth": 0,
              "ticks": ""
             }
            },
            "type": "scattergl"
           }
          ],
          "scattermapbox": [
           {
            "marker": {
             "colorbar": {
              "outlinewidth": 0,
              "ticks": ""
             }
            },
            "type": "scattermapbox"
           }
          ],
          "scatterpolar": [
           {
            "marker": {
             "colorbar": {
              "outlinewidth": 0,
              "ticks": ""
             }
            },
            "type": "scatterpolar"
           }
          ],
          "scatterpolargl": [
           {
            "marker": {
             "colorbar": {
              "outlinewidth": 0,
              "ticks": ""
             }
            },
            "type": "scatterpolargl"
           }
          ],
          "scatterternary": [
           {
            "marker": {
             "colorbar": {
              "outlinewidth": 0,
              "ticks": ""
             }
            },
            "type": "scatterternary"
           }
          ],
          "surface": [
           {
            "colorbar": {
             "outlinewidth": 0,
             "ticks": ""
            },
            "colorscale": [
             [
              0,
              "#0d0887"
             ],
             [
              0.1111111111111111,
              "#46039f"
             ],
             [
              0.2222222222222222,
              "#7201a8"
             ],
             [
              0.3333333333333333,
              "#9c179e"
             ],
             [
              0.4444444444444444,
              "#bd3786"
             ],
             [
              0.5555555555555556,
              "#d8576b"
             ],
             [
              0.6666666666666666,
              "#ed7953"
             ],
             [
              0.7777777777777778,
              "#fb9f3a"
             ],
             [
              0.8888888888888888,
              "#fdca26"
             ],
             [
              1,
              "#f0f921"
             ]
            ],
            "type": "surface"
           }
          ],
          "table": [
           {
            "cells": {
             "fill": {
              "color": "#EBF0F8"
             },
             "line": {
              "color": "white"
             }
            },
            "header": {
             "fill": {
              "color": "#C8D4E3"
             },
             "line": {
              "color": "white"
             }
            },
            "type": "table"
           }
          ]
         },
         "layout": {
          "annotationdefaults": {
           "arrowcolor": "#2a3f5f",
           "arrowhead": 0,
           "arrowwidth": 1
          },
          "colorscale": {
           "diverging": [
            [
             0,
             "#8e0152"
            ],
            [
             0.1,
             "#c51b7d"
            ],
            [
             0.2,
             "#de77ae"
            ],
            [
             0.3,
             "#f1b6da"
            ],
            [
             0.4,
             "#fde0ef"
            ],
            [
             0.5,
             "#f7f7f7"
            ],
            [
             0.6,
             "#e6f5d0"
            ],
            [
             0.7,
             "#b8e186"
            ],
            [
             0.8,
             "#7fbc41"
            ],
            [
             0.9,
             "#4d9221"
            ],
            [
             1,
             "#276419"
            ]
           ],
           "sequential": [
            [
             0,
             "#0d0887"
            ],
            [
             0.1111111111111111,
             "#46039f"
            ],
            [
             0.2222222222222222,
             "#7201a8"
            ],
            [
             0.3333333333333333,
             "#9c179e"
            ],
            [
             0.4444444444444444,
             "#bd3786"
            ],
            [
             0.5555555555555556,
             "#d8576b"
            ],
            [
             0.6666666666666666,
             "#ed7953"
            ],
            [
             0.7777777777777778,
             "#fb9f3a"
            ],
            [
             0.8888888888888888,
             "#fdca26"
            ],
            [
             1,
             "#f0f921"
            ]
           ],
           "sequentialminus": [
            [
             0,
             "#0d0887"
            ],
            [
             0.1111111111111111,
             "#46039f"
            ],
            [
             0.2222222222222222,
             "#7201a8"
            ],
            [
             0.3333333333333333,
             "#9c179e"
            ],
            [
             0.4444444444444444,
             "#bd3786"
            ],
            [
             0.5555555555555556,
             "#d8576b"
            ],
            [
             0.6666666666666666,
             "#ed7953"
            ],
            [
             0.7777777777777778,
             "#fb9f3a"
            ],
            [
             0.8888888888888888,
             "#fdca26"
            ],
            [
             1,
             "#f0f921"
            ]
           ]
          },
          "colorway": [
           "#636efa",
           "#EF553B",
           "#00cc96",
           "#ab63fa",
           "#FFA15A",
           "#19d3f3",
           "#FF6692",
           "#B6E880",
           "#FF97FF",
           "#FECB52"
          ],
          "font": {
           "color": "#2a3f5f"
          },
          "geo": {
           "bgcolor": "white",
           "lakecolor": "white",
           "landcolor": "#E5ECF6",
           "showlakes": true,
           "showland": true,
           "subunitcolor": "white"
          },
          "hoverlabel": {
           "align": "left"
          },
          "hovermode": "closest",
          "mapbox": {
           "style": "light"
          },
          "paper_bgcolor": "white",
          "plot_bgcolor": "#E5ECF6",
          "polar": {
           "angularaxis": {
            "gridcolor": "white",
            "linecolor": "white",
            "ticks": ""
           },
           "bgcolor": "#E5ECF6",
           "radialaxis": {
            "gridcolor": "white",
            "linecolor": "white",
            "ticks": ""
           }
          },
          "scene": {
           "xaxis": {
            "backgroundcolor": "#E5ECF6",
            "gridcolor": "white",
            "gridwidth": 2,
            "linecolor": "white",
            "showbackground": true,
            "ticks": "",
            "zerolinecolor": "white"
           },
           "yaxis": {
            "backgroundcolor": "#E5ECF6",
            "gridcolor": "white",
            "gridwidth": 2,
            "linecolor": "white",
            "showbackground": true,
            "ticks": "",
            "zerolinecolor": "white"
           },
           "zaxis": {
            "backgroundcolor": "#E5ECF6",
            "gridcolor": "white",
            "gridwidth": 2,
            "linecolor": "white",
            "showbackground": true,
            "ticks": "",
            "zerolinecolor": "white"
           }
          },
          "shapedefaults": {
           "line": {
            "color": "#2a3f5f"
           }
          },
          "ternary": {
           "aaxis": {
            "gridcolor": "white",
            "linecolor": "white",
            "ticks": ""
           },
           "baxis": {
            "gridcolor": "white",
            "linecolor": "white",
            "ticks": ""
           },
           "bgcolor": "#E5ECF6",
           "caxis": {
            "gridcolor": "white",
            "linecolor": "white",
            "ticks": ""
           }
          },
          "title": {
           "x": 0.05
          },
          "xaxis": {
           "automargin": true,
           "gridcolor": "white",
           "linecolor": "white",
           "ticks": "",
           "zerolinecolor": "white",
           "zerolinewidth": 2
          },
          "yaxis": {
           "automargin": true,
           "gridcolor": "white",
           "linecolor": "white",
           "ticks": "",
           "zerolinecolor": "white",
           "zerolinewidth": 2
          }
         }
        }
       }
      },
      "text/html": [
       "<div>\n",
       "        \n",
       "        \n",
       "            <div id=\"43a41299-425a-40b1-adf3-87be94d00e0c\" class=\"plotly-graph-div\" style=\"height:600px; width:100%;\"></div>\n",
       "            <script type=\"text/javascript\">\n",
       "                require([\"plotly\"], function(Plotly) {\n",
       "                    window.PLOTLYENV=window.PLOTLYENV || {};\n",
       "                    \n",
       "                if (document.getElementById(\"43a41299-425a-40b1-adf3-87be94d00e0c\")) {\n",
       "                    Plotly.newPlot(\n",
       "                        '43a41299-425a-40b1-adf3-87be94d00e0c',\n",
       "                        [{\"hoverlabel\": {\"namelength\": 0}, \"hovertemplate\": \"PostOp-SNR=%{x}<br>PreOp-SNR=%{y}<br>PreOp-BWR=%{z}<br>ImplantRight=%{marker.color}\", \"legendgroup\": \"\", \"marker\": {\"color\": [275, 275, 275, 275, 300, 300, 300, 300, 300, 325, 325, 325, 325, 325, 325, 325, 325, 325, 325, 325, 325, 325, 350, 350, 350, 350, 350, 350, 350, 350, 350, 350, 350, 350, 350, 350, 375, 375, 375, 375, 375, 400, 275, 325, 300, 325, 350, 450, 350, 350, 325, 325, 275, 275, 275, 375, 350, 375, 250, 400, 350, 350, 325, 350, 350, 375, 300, 275, 375, 300, 300, 300, 400, 375, 375, 325, 375, 325, 325, 375, 250, 250, 375, 250, 300, 325, 300, 350, 350, 375, 325, 325, 350, 350, 400, 325, 375, 325, 325, 375, 375, 325, 325, 345, 325, 300, 322, 325, 275, 275, 350, 325, 375, 250, 375, 350, 300, 300, 325, 325, 275, 350, 325, 350, 250, 325, 300, 350, 300, 325, 325, 275, 325, 375, 225, 350, 250, 375, 325, 350, 275, 300, 350, 275], \"coloraxis\": \"coloraxis\", \"symbol\": \"circle\"}, \"mode\": \"markers\", \"name\": \"\", \"scene\": \"scene\", \"showlegend\": false, \"type\": \"scatter3d\", \"x\": [16.5, 20.0, 18.0, 18.0, 19.0, 18.0, 16.5, 19.0, 19.0, 17.0, 20.0, 19.5, 19.0, 18.0, 19.0, 18.0, 18.5, 19.0, 18.5, 19.5, 16.5, 18.5, 21.5, 17.5, 19.5, 18.5, 19.5, 21.0, 16.5, 17.0, 18.0, 19.0, 20.0, 21.0, 21.0, 19.0, 17.0, 19.0, 21.0, 16.5, 20.0, 21.0, 20.0, 20.0, 20.0, 15.5, 20.0, 20.0, 18.5, 17.5, 20.0, 20.5, 18.0, 18.0, 17.5, 17.5, 16.5, 18.5, 18.5, 19.0, 18.5, 19.0, 19.0, 18.0, 18.0, 19.0, 19.0, 19.5, 21.0, 17.5, 18.0, 19.0, 18.5, 21.0, 21.0, 18.0, 18.5, 19.5, 18.0, 18.5, 22.5, 19.5, 17.5, 19.0, 16.0, 19.0, 21.0, 19.5, 17.5, 20.0, 20.5, 20.5, 16.5, 19.0, 22.0, 17.5, 21.0, 17.5, 19.0, 17.5, 19.5, 19.0, 19.0, 23.0, 18.5, 18.5, 19.0, 19.0, 16.5, 20.0, 19.5, 18.0, 23.0, 18.0, 18.5, 19.0, 19.0, 18.5, 19.0, 19.5, 18.5, 21.0, 18.0, 21.0, 18.0, 18.5, 17.0, 22.0, 18.0, 22.5, 19.0, 18.5, 20.5, 20.0, 18.0, 21.0, 18.0, 21.5, 18.0, 22.0, 18.5, 17.5, 17.0, 22.0], \"y\": [15.0, 18.5, 16.0, 16.0, 17.5, 17.0, 15.5, 17.5, 18.0, 16.5, 18.5, 18.5, 17.0, 16.5, 17.5, 16.5, 16.0, 17.5, 17.0, 18.5, 15.0, 16.5, 19.5, 16.5, 17.0, 17.0, 19.0, 18.5, 14.0, 16.0, 16.0, 17.5, 18.5, 19.0, 19.5, 17.5, 15.0, 18.5, 20.0, 15.0, 18.5, 20.0, 18.5, 19.0, 18.5, 15.0, 19.5, 20.0, 16.5, 16.0, 17.5, 19.5, 17.5, 16.5, 16.0, 15.5, 15.0, 17.0, 16.5, 17.5, 17.0, 18.5, 18.0, 17.5, 16.0, 17.0, 17.0, 17.5, 19.5, 17.0, 17.5, 18.5, 17.5, 19.0, 19.0, 16.5, 16.5, 18.5, 16.5, 17.0, 20.5, 18.5, 17.0, 17.0, 15.5, 17.5, 20.5, 17.0, 16.0, 18.5, 18.0, 18.3, 16.5, 17.0, 21.5, 17.0, 20.5, 16.0, 17.0, 16.5, 19.0, 17.5, 17.5, 21.5, 17.5, 18.0, 18.5, 16.5, 16.5, 18.0, 18.0, 17.5, 22.5, 17.0, 17.0, 18.5, 17.5, 17.5, 18.5, 18.0, 17.0, 20.0, 14.5, 19.0, 16.5, 17.0, 15.5, 20.0, 16.5, 21.5, 17.5, 17.5, 18.5, 18.0, 16.5, 19.5, 16.0, 20.5, 16.5, 21.0, 17.5, 16.0, 16.0, 20.0], \"z\": [12.4, 12.6, 12.0, 13.0, 12.0, 13.0, 12.4, 12.5, 13.0, 12.8, 13.2, 13.2, 12.6, 13.1, 12.5, 12.7, 12.5, 13.0, 13.0, 12.4, 12.0, 13.0, 13.9, 13.5, 12.7, 13.1, 12.5, 13.3, 12.7, 12.7, 12.6, 13.2, 12.5, 13.0, 13.7, 13.6, 12.6, 12.1, 13.0, 13.0, 13.2, 13.5, 12.8, 13.2, 13.2, 12.6, 13.5, 14.3, 12.5, 12.3, 13.3, 13.1, 12.6, 12.4, 13.0, 12.3, 12.3, 13.4, 12.0, 13.0, 12.8, 13.2, 12.5, 13.1, 13.1, 13.1, 12.8, 13.0, 13.2, 13.0, 12.3, 12.9, 13.7, 13.5, 13.5, 12.5, 13.1, 13.4, 12.8, 12.8, 13.8, 12.7, 12.6, 13.1, 12.2, 13.0, 13.2, 13.1, 13.2, 13.2, 12.9, 13.0, 12.0, 13.2, 13.3, 12.5, 13.8, 11.3, 13.1, 13.2, 13.5, 12.8, 12.8, 13.6, 13.2, 13.0, 12.8, 13.7, 12.3, 13.1, 13.5, 13.1, 14.3, 11.9, 13.1, 13.5, 12.4, 12.6, 12.0, 13.2, 12.3, 13.3, 12.2, 13.4, 12.3, 12.6, 12.4, 13.7, 12.5, 13.3, 12.9, 13.7, 13.0, 13.0, 12.5, 12.9, 12.2, 13.5, 12.5, 13.9, 12.7, 12.7, 12.3, 13.4]}],\n",
       "                        {\"coloraxis\": {\"colorbar\": {\"title\": {\"text\": \"ImplantRight\"}}, \"colorscale\": [[0.0, \"#0d0887\"], [0.1111111111111111, \"#46039f\"], [0.2222222222222222, \"#7201a8\"], [0.3333333333333333, \"#9c179e\"], [0.4444444444444444, \"#bd3786\"], [0.5555555555555556, \"#d8576b\"], [0.6666666666666666, \"#ed7953\"], [0.7777777777777778, \"#fb9f3a\"], [0.8888888888888888, \"#fdca26\"], [1.0, \"#f0f921\"]]}, \"height\": 600, \"legend\": {\"tracegroupgap\": 0}, \"margin\": {\"t\": 60}, \"scene\": {\"domain\": {\"x\": [0.0, 0.98], \"y\": [0.0, 1.0]}, \"xaxis\": {\"title\": {\"text\": \"PostOp-SNR\"}}, \"yaxis\": {\"title\": {\"text\": \"PreOp-SNR\"}}, \"zaxis\": {\"title\": {\"text\": \"PreOp-BWR\"}}}, \"template\": {\"data\": {\"bar\": [{\"error_x\": {\"color\": \"#2a3f5f\"}, \"error_y\": {\"color\": \"#2a3f5f\"}, \"marker\": {\"line\": {\"color\": \"#E5ECF6\", \"width\": 0.5}}, \"type\": \"bar\"}], \"barpolar\": [{\"marker\": {\"line\": {\"color\": \"#E5ECF6\", \"width\": 0.5}}, \"type\": \"barpolar\"}], \"carpet\": [{\"aaxis\": {\"endlinecolor\": \"#2a3f5f\", \"gridcolor\": \"white\", \"linecolor\": \"white\", \"minorgridcolor\": \"white\", \"startlinecolor\": \"#2a3f5f\"}, \"baxis\": {\"endlinecolor\": \"#2a3f5f\", \"gridcolor\": \"white\", \"linecolor\": \"white\", \"minorgridcolor\": \"white\", \"startlinecolor\": \"#2a3f5f\"}, \"type\": \"carpet\"}], \"choropleth\": [{\"colorbar\": {\"outlinewidth\": 0, \"ticks\": \"\"}, \"type\": \"choropleth\"}], \"contour\": [{\"colorbar\": {\"outlinewidth\": 0, \"ticks\": \"\"}, \"colorscale\": [[0.0, \"#0d0887\"], [0.1111111111111111, \"#46039f\"], [0.2222222222222222, \"#7201a8\"], [0.3333333333333333, \"#9c179e\"], [0.4444444444444444, \"#bd3786\"], [0.5555555555555556, \"#d8576b\"], [0.6666666666666666, \"#ed7953\"], [0.7777777777777778, \"#fb9f3a\"], [0.8888888888888888, \"#fdca26\"], [1.0, \"#f0f921\"]], \"type\": \"contour\"}], \"contourcarpet\": [{\"colorbar\": {\"outlinewidth\": 0, \"ticks\": \"\"}, \"type\": \"contourcarpet\"}], \"heatmap\": [{\"colorbar\": {\"outlinewidth\": 0, \"ticks\": \"\"}, \"colorscale\": [[0.0, \"#0d0887\"], [0.1111111111111111, \"#46039f\"], [0.2222222222222222, \"#7201a8\"], [0.3333333333333333, \"#9c179e\"], [0.4444444444444444, \"#bd3786\"], [0.5555555555555556, \"#d8576b\"], [0.6666666666666666, \"#ed7953\"], [0.7777777777777778, \"#fb9f3a\"], [0.8888888888888888, \"#fdca26\"], [1.0, \"#f0f921\"]], \"type\": \"heatmap\"}], \"heatmapgl\": [{\"colorbar\": {\"outlinewidth\": 0, \"ticks\": \"\"}, \"colorscale\": [[0.0, \"#0d0887\"], [0.1111111111111111, \"#46039f\"], [0.2222222222222222, \"#7201a8\"], [0.3333333333333333, \"#9c179e\"], [0.4444444444444444, \"#bd3786\"], [0.5555555555555556, \"#d8576b\"], [0.6666666666666666, \"#ed7953\"], [0.7777777777777778, \"#fb9f3a\"], [0.8888888888888888, \"#fdca26\"], [1.0, \"#f0f921\"]], \"type\": \"heatmapgl\"}], \"histogram\": [{\"marker\": {\"colorbar\": {\"outlinewidth\": 0, \"ticks\": \"\"}}, \"type\": \"histogram\"}], \"histogram2d\": [{\"colorbar\": {\"outlinewidth\": 0, \"ticks\": \"\"}, \"colorscale\": [[0.0, \"#0d0887\"], [0.1111111111111111, \"#46039f\"], [0.2222222222222222, \"#7201a8\"], [0.3333333333333333, \"#9c179e\"], [0.4444444444444444, \"#bd3786\"], [0.5555555555555556, \"#d8576b\"], [0.6666666666666666, \"#ed7953\"], [0.7777777777777778, \"#fb9f3a\"], [0.8888888888888888, \"#fdca26\"], [1.0, \"#f0f921\"]], \"type\": \"histogram2d\"}], \"histogram2dcontour\": [{\"colorbar\": {\"outlinewidth\": 0, \"ticks\": \"\"}, \"colorscale\": [[0.0, \"#0d0887\"], [0.1111111111111111, \"#46039f\"], [0.2222222222222222, \"#7201a8\"], [0.3333333333333333, \"#9c179e\"], [0.4444444444444444, \"#bd3786\"], [0.5555555555555556, \"#d8576b\"], [0.6666666666666666, \"#ed7953\"], [0.7777777777777778, \"#fb9f3a\"], [0.8888888888888888, \"#fdca26\"], [1.0, \"#f0f921\"]], \"type\": \"histogram2dcontour\"}], \"mesh3d\": [{\"colorbar\": {\"outlinewidth\": 0, \"ticks\": \"\"}, \"type\": \"mesh3d\"}], \"parcoords\": [{\"line\": {\"colorbar\": {\"outlinewidth\": 0, \"ticks\": \"\"}}, \"type\": \"parcoords\"}], \"scatter\": [{\"marker\": {\"colorbar\": {\"outlinewidth\": 0, \"ticks\": \"\"}}, \"type\": \"scatter\"}], \"scatter3d\": [{\"line\": {\"colorbar\": {\"outlinewidth\": 0, \"ticks\": \"\"}}, \"marker\": {\"colorbar\": {\"outlinewidth\": 0, \"ticks\": \"\"}}, \"type\": \"scatter3d\"}], \"scattercarpet\": [{\"marker\": {\"colorbar\": {\"outlinewidth\": 0, \"ticks\": \"\"}}, \"type\": \"scattercarpet\"}], \"scattergeo\": [{\"marker\": {\"colorbar\": {\"outlinewidth\": 0, \"ticks\": \"\"}}, \"type\": \"scattergeo\"}], \"scattergl\": [{\"marker\": {\"colorbar\": {\"outlinewidth\": 0, \"ticks\": \"\"}}, \"type\": \"scattergl\"}], \"scattermapbox\": [{\"marker\": {\"colorbar\": {\"outlinewidth\": 0, \"ticks\": \"\"}}, \"type\": \"scattermapbox\"}], \"scatterpolar\": [{\"marker\": {\"colorbar\": {\"outlinewidth\": 0, \"ticks\": \"\"}}, \"type\": \"scatterpolar\"}], \"scatterpolargl\": [{\"marker\": {\"colorbar\": {\"outlinewidth\": 0, \"ticks\": \"\"}}, \"type\": \"scatterpolargl\"}], \"scatterternary\": [{\"marker\": {\"colorbar\": {\"outlinewidth\": 0, \"ticks\": \"\"}}, \"type\": \"scatterternary\"}], \"surface\": [{\"colorbar\": {\"outlinewidth\": 0, \"ticks\": \"\"}, \"colorscale\": [[0.0, \"#0d0887\"], [0.1111111111111111, \"#46039f\"], [0.2222222222222222, \"#7201a8\"], [0.3333333333333333, \"#9c179e\"], [0.4444444444444444, \"#bd3786\"], [0.5555555555555556, \"#d8576b\"], [0.6666666666666666, \"#ed7953\"], [0.7777777777777778, \"#fb9f3a\"], [0.8888888888888888, \"#fdca26\"], [1.0, \"#f0f921\"]], \"type\": \"surface\"}], \"table\": [{\"cells\": {\"fill\": {\"color\": \"#EBF0F8\"}, \"line\": {\"color\": \"white\"}}, \"header\": {\"fill\": {\"color\": \"#C8D4E3\"}, \"line\": {\"color\": \"white\"}}, \"type\": \"table\"}]}, \"layout\": {\"annotationdefaults\": {\"arrowcolor\": \"#2a3f5f\", \"arrowhead\": 0, \"arrowwidth\": 1}, \"colorscale\": {\"diverging\": [[0, \"#8e0152\"], [0.1, \"#c51b7d\"], [0.2, \"#de77ae\"], [0.3, \"#f1b6da\"], [0.4, \"#fde0ef\"], [0.5, \"#f7f7f7\"], [0.6, \"#e6f5d0\"], [0.7, \"#b8e186\"], [0.8, \"#7fbc41\"], [0.9, \"#4d9221\"], [1, \"#276419\"]], \"sequential\": [[0.0, \"#0d0887\"], [0.1111111111111111, \"#46039f\"], [0.2222222222222222, \"#7201a8\"], [0.3333333333333333, \"#9c179e\"], [0.4444444444444444, \"#bd3786\"], [0.5555555555555556, \"#d8576b\"], [0.6666666666666666, \"#ed7953\"], [0.7777777777777778, \"#fb9f3a\"], [0.8888888888888888, \"#fdca26\"], [1.0, \"#f0f921\"]], \"sequentialminus\": [[0.0, \"#0d0887\"], [0.1111111111111111, \"#46039f\"], [0.2222222222222222, \"#7201a8\"], [0.3333333333333333, \"#9c179e\"], [0.4444444444444444, \"#bd3786\"], [0.5555555555555556, \"#d8576b\"], [0.6666666666666666, \"#ed7953\"], [0.7777777777777778, \"#fb9f3a\"], [0.8888888888888888, \"#fdca26\"], [1.0, \"#f0f921\"]]}, \"colorway\": [\"#636efa\", \"#EF553B\", \"#00cc96\", \"#ab63fa\", \"#FFA15A\", \"#19d3f3\", \"#FF6692\", \"#B6E880\", \"#FF97FF\", \"#FECB52\"], \"font\": {\"color\": \"#2a3f5f\"}, \"geo\": {\"bgcolor\": \"white\", \"lakecolor\": \"white\", \"landcolor\": \"#E5ECF6\", \"showlakes\": true, \"showland\": true, \"subunitcolor\": \"white\"}, \"hoverlabel\": {\"align\": \"left\"}, \"hovermode\": \"closest\", \"mapbox\": {\"style\": \"light\"}, \"paper_bgcolor\": \"white\", \"plot_bgcolor\": \"#E5ECF6\", \"polar\": {\"angularaxis\": {\"gridcolor\": \"white\", \"linecolor\": \"white\", \"ticks\": \"\"}, \"bgcolor\": \"#E5ECF6\", \"radialaxis\": {\"gridcolor\": \"white\", \"linecolor\": \"white\", \"ticks\": \"\"}}, \"scene\": {\"xaxis\": {\"backgroundcolor\": \"#E5ECF6\", \"gridcolor\": \"white\", \"gridwidth\": 2, \"linecolor\": \"white\", \"showbackground\": true, \"ticks\": \"\", \"zerolinecolor\": \"white\"}, \"yaxis\": {\"backgroundcolor\": \"#E5ECF6\", \"gridcolor\": \"white\", \"gridwidth\": 2, \"linecolor\": \"white\", \"showbackground\": true, \"ticks\": \"\", \"zerolinecolor\": \"white\"}, \"zaxis\": {\"backgroundcolor\": \"#E5ECF6\", \"gridcolor\": \"white\", \"gridwidth\": 2, \"linecolor\": \"white\", \"showbackground\": true, \"ticks\": \"\", \"zerolinecolor\": \"white\"}}, \"shapedefaults\": {\"line\": {\"color\": \"#2a3f5f\"}}, \"ternary\": {\"aaxis\": {\"gridcolor\": \"white\", \"linecolor\": \"white\", \"ticks\": \"\"}, \"baxis\": {\"gridcolor\": \"white\", \"linecolor\": \"white\", \"ticks\": \"\"}, \"bgcolor\": \"#E5ECF6\", \"caxis\": {\"gridcolor\": \"white\", \"linecolor\": \"white\", \"ticks\": \"\"}}, \"title\": {\"x\": 0.05}, \"xaxis\": {\"automargin\": true, \"gridcolor\": \"white\", \"linecolor\": \"white\", \"ticks\": \"\", \"zerolinecolor\": \"white\", \"zerolinewidth\": 2}, \"yaxis\": {\"automargin\": true, \"gridcolor\": \"white\", \"linecolor\": \"white\", \"ticks\": \"\", \"zerolinecolor\": \"white\", \"zerolinewidth\": 2}}}},\n",
       "                        {\"responsive\": true}\n",
       "                    ).then(function(){\n",
       "                            \n",
       "var gd = document.getElementById('43a41299-425a-40b1-adf3-87be94d00e0c');\n",
       "var x = new MutationObserver(function (mutations, observer) {{\n",
       "        var display = window.getComputedStyle(gd).display;\n",
       "        if (!display || display === 'none') {{\n",
       "            console.log([gd, 'removed!']);\n",
       "            Plotly.purge(gd);\n",
       "            observer.disconnect();\n",
       "        }}\n",
       "}});\n",
       "\n",
       "// Listen for the removal of the full notebook cells\n",
       "var notebookContainer = gd.closest('#notebook-container');\n",
       "if (notebookContainer) {{\n",
       "    x.observe(notebookContainer, {childList: true});\n",
       "}}\n",
       "\n",
       "// Listen for the clearing of the current output cell\n",
       "var outputEl = gd.closest('.output');\n",
       "if (outputEl) {{\n",
       "    x.observe(outputEl, {childList: true});\n",
       "}}\n",
       "\n",
       "                        })\n",
       "                };\n",
       "                });\n",
       "            </script>\n",
       "        </div>"
      ]
     },
     "metadata": {},
     "output_type": "display_data"
    }
   ],
   "source": [
    "fig = px.scatter_3d(df, x='PostOp-SNR', y='PreOp-SNR', z='PreOp-BWR', color='ImplantRight')\n",
    "fig.show()"
   ]
  },
  {
   "cell_type": "code",
   "execution_count": 25,
   "metadata": {},
   "outputs": [
    {
     "data": {
      "application/vnd.plotly.v1+json": {
       "config": {
        "plotlyServerURL": "https://plot.ly"
       },
       "data": [
        {
         "hoverlabel": {
          "namelength": 0
         },
         "hovertemplate": "PostOp-SNR=%{x}<br>PreOp-SNR=%{y}<br>PreOp-IMFR=%{z}<br>ImplantRight=%{marker.color}",
         "legendgroup": "",
         "marker": {
          "color": [
           275,
           275,
           275,
           275,
           300,
           300,
           300,
           300,
           300,
           325,
           325,
           325,
           325,
           325,
           325,
           325,
           325,
           325,
           325,
           325,
           325,
           325,
           350,
           350,
           350,
           350,
           350,
           350,
           350,
           350,
           350,
           350,
           350,
           350,
           350,
           350,
           375,
           375,
           375,
           375,
           375,
           400,
           275,
           325,
           300,
           325,
           350,
           450,
           350,
           350,
           325,
           325,
           275,
           275,
           275,
           375,
           350,
           375,
           250,
           400,
           350,
           350,
           325,
           350,
           350,
           375,
           300,
           275,
           375,
           300,
           300,
           300,
           400,
           375,
           375,
           325,
           375,
           325,
           325,
           375,
           250,
           250,
           375,
           250,
           300,
           325,
           300,
           350,
           350,
           375,
           325,
           325,
           350,
           350,
           400,
           325,
           375,
           325,
           325,
           375,
           375,
           325,
           325,
           345,
           325,
           300,
           322,
           325,
           275,
           275,
           350,
           325,
           375,
           250,
           375,
           350,
           300,
           300,
           325,
           325,
           275,
           350,
           325,
           350,
           250,
           325,
           300,
           350,
           300,
           325,
           325,
           275,
           325,
           375,
           225,
           350,
           250,
           375,
           325,
           350,
           275,
           300,
           350,
           275
          ],
          "coloraxis": "coloraxis",
          "symbol": "circle"
         },
         "mode": "markers",
         "name": "",
         "scene": "scene",
         "showlegend": false,
         "type": "scatter3d",
         "x": [
          16.5,
          20,
          18,
          18,
          19,
          18,
          16.5,
          19,
          19,
          17,
          20,
          19.5,
          19,
          18,
          19,
          18,
          18.5,
          19,
          18.5,
          19.5,
          16.5,
          18.5,
          21.5,
          17.5,
          19.5,
          18.5,
          19.5,
          21,
          16.5,
          17,
          18,
          19,
          20,
          21,
          21,
          19,
          17,
          19,
          21,
          16.5,
          20,
          21,
          20,
          20,
          20,
          15.5,
          20,
          20,
          18.5,
          17.5,
          20,
          20.5,
          18,
          18,
          17.5,
          17.5,
          16.5,
          18.5,
          18.5,
          19,
          18.5,
          19,
          19,
          18,
          18,
          19,
          19,
          19.5,
          21,
          17.5,
          18,
          19,
          18.5,
          21,
          21,
          18,
          18.5,
          19.5,
          18,
          18.5,
          22.5,
          19.5,
          17.5,
          19,
          16,
          19,
          21,
          19.5,
          17.5,
          20,
          20.5,
          20.5,
          16.5,
          19,
          22,
          17.5,
          21,
          17.5,
          19,
          17.5,
          19.5,
          19,
          19,
          23,
          18.5,
          18.5,
          19,
          19,
          16.5,
          20,
          19.5,
          18,
          23,
          18,
          18.5,
          19,
          19,
          18.5,
          19,
          19.5,
          18.5,
          21,
          18,
          21,
          18,
          18.5,
          17,
          22,
          18,
          22.5,
          19,
          18.5,
          20.5,
          20,
          18,
          21,
          18,
          21.5,
          18,
          22,
          18.5,
          17.5,
          17,
          22
         ],
         "y": [
          15,
          18.5,
          16,
          16,
          17.5,
          17,
          15.5,
          17.5,
          18,
          16.5,
          18.5,
          18.5,
          17,
          16.5,
          17.5,
          16.5,
          16,
          17.5,
          17,
          18.5,
          15,
          16.5,
          19.5,
          16.5,
          17,
          17,
          19,
          18.5,
          14,
          16,
          16,
          17.5,
          18.5,
          19,
          19.5,
          17.5,
          15,
          18.5,
          20,
          15,
          18.5,
          20,
          18.5,
          19,
          18.5,
          15,
          19.5,
          20,
          16.5,
          16,
          17.5,
          19.5,
          17.5,
          16.5,
          16,
          15.5,
          15,
          17,
          16.5,
          17.5,
          17,
          18.5,
          18,
          17.5,
          16,
          17,
          17,
          17.5,
          19.5,
          17,
          17.5,
          18.5,
          17.5,
          19,
          19,
          16.5,
          16.5,
          18.5,
          16.5,
          17,
          20.5,
          18.5,
          17,
          17,
          15.5,
          17.5,
          20.5,
          17,
          16,
          18.5,
          18,
          18.3,
          16.5,
          17,
          21.5,
          17,
          20.5,
          16,
          17,
          16.5,
          19,
          17.5,
          17.5,
          21.5,
          17.5,
          18,
          18.5,
          16.5,
          16.5,
          18,
          18,
          17.5,
          22.5,
          17,
          17,
          18.5,
          17.5,
          17.5,
          18.5,
          18,
          17,
          20,
          14.5,
          19,
          16.5,
          17,
          15.5,
          20,
          16.5,
          21.5,
          17.5,
          17.5,
          18.5,
          18,
          16.5,
          19.5,
          16,
          20.5,
          16.5,
          21,
          17.5,
          16,
          16,
          20
         ],
         "z": [
          4,
          3,
          5,
          4,
          3.5,
          5.5,
          5.8,
          5,
          4.2,
          5,
          7,
          5,
          5.5,
          4.5,
          5,
          5.5,
          5.5,
          4,
          5.2,
          4,
          4.5,
          5,
          4.5,
          4.2,
          4,
          6.5,
          5,
          4.5,
          6.5,
          4.5,
          4.5,
          6,
          5.2,
          4.5,
          5.5,
          4.5,
          5.5,
          4,
          4,
          4.5,
          6,
          5.5,
          4.5,
          7,
          6.5,
          5,
          6,
          4.5,
          6,
          4.5,
          5,
          4.5,
          5.5,
          5,
          4,
          5,
          6.5,
          5.5,
          5,
          6,
          4.5,
          6,
          5,
          6,
          3.4,
          7,
          4,
          5,
          5,
          5,
          4.5,
          4,
          4,
          6,
          5,
          6,
          7,
          5,
          4.5,
          7,
          7,
          4.5,
          9,
          5.5,
          4.8,
          4.5,
          6,
          6,
          6,
          6,
          3,
          5,
          5,
          5,
          7,
          5.5,
          8,
          4.2,
          5,
          6.8,
          5,
          4.5,
          5,
          9,
          6.5,
          4.5,
          5,
          6,
          5,
          5,
          5.8,
          6.5,
          9,
          4,
          7,
          4.5,
          4,
          4.2,
          7,
          6,
          4.6,
          6,
          5.2,
          5.8,
          4.5,
          5,
          4.5,
          5.5,
          5,
          8,
          6,
          5.3,
          5.5,
          6.5,
          3.5,
          4,
          3.5,
          6,
          5.5,
          6.5,
          4.5,
          5,
          5,
          5.2
         ]
        }
       ],
       "layout": {
        "coloraxis": {
         "colorbar": {
          "title": {
           "text": "ImplantRight"
          }
         },
         "colorscale": [
          [
           0,
           "#0d0887"
          ],
          [
           0.1111111111111111,
           "#46039f"
          ],
          [
           0.2222222222222222,
           "#7201a8"
          ],
          [
           0.3333333333333333,
           "#9c179e"
          ],
          [
           0.4444444444444444,
           "#bd3786"
          ],
          [
           0.5555555555555556,
           "#d8576b"
          ],
          [
           0.6666666666666666,
           "#ed7953"
          ],
          [
           0.7777777777777778,
           "#fb9f3a"
          ],
          [
           0.8888888888888888,
           "#fdca26"
          ],
          [
           1,
           "#f0f921"
          ]
         ]
        },
        "height": 600,
        "legend": {
         "tracegroupgap": 0
        },
        "margin": {
         "t": 60
        },
        "scene": {
         "domain": {
          "x": [
           0,
           0.98
          ],
          "y": [
           0,
           1
          ]
         },
         "xaxis": {
          "title": {
           "text": "PostOp-SNR"
          }
         },
         "yaxis": {
          "title": {
           "text": "PreOp-SNR"
          }
         },
         "zaxis": {
          "title": {
           "text": "PreOp-IMFR"
          }
         }
        },
        "template": {
         "data": {
          "bar": [
           {
            "error_x": {
             "color": "#2a3f5f"
            },
            "error_y": {
             "color": "#2a3f5f"
            },
            "marker": {
             "line": {
              "color": "#E5ECF6",
              "width": 0.5
             }
            },
            "type": "bar"
           }
          ],
          "barpolar": [
           {
            "marker": {
             "line": {
              "color": "#E5ECF6",
              "width": 0.5
             }
            },
            "type": "barpolar"
           }
          ],
          "carpet": [
           {
            "aaxis": {
             "endlinecolor": "#2a3f5f",
             "gridcolor": "white",
             "linecolor": "white",
             "minorgridcolor": "white",
             "startlinecolor": "#2a3f5f"
            },
            "baxis": {
             "endlinecolor": "#2a3f5f",
             "gridcolor": "white",
             "linecolor": "white",
             "minorgridcolor": "white",
             "startlinecolor": "#2a3f5f"
            },
            "type": "carpet"
           }
          ],
          "choropleth": [
           {
            "colorbar": {
             "outlinewidth": 0,
             "ticks": ""
            },
            "type": "choropleth"
           }
          ],
          "contour": [
           {
            "colorbar": {
             "outlinewidth": 0,
             "ticks": ""
            },
            "colorscale": [
             [
              0,
              "#0d0887"
             ],
             [
              0.1111111111111111,
              "#46039f"
             ],
             [
              0.2222222222222222,
              "#7201a8"
             ],
             [
              0.3333333333333333,
              "#9c179e"
             ],
             [
              0.4444444444444444,
              "#bd3786"
             ],
             [
              0.5555555555555556,
              "#d8576b"
             ],
             [
              0.6666666666666666,
              "#ed7953"
             ],
             [
              0.7777777777777778,
              "#fb9f3a"
             ],
             [
              0.8888888888888888,
              "#fdca26"
             ],
             [
              1,
              "#f0f921"
             ]
            ],
            "type": "contour"
           }
          ],
          "contourcarpet": [
           {
            "colorbar": {
             "outlinewidth": 0,
             "ticks": ""
            },
            "type": "contourcarpet"
           }
          ],
          "heatmap": [
           {
            "colorbar": {
             "outlinewidth": 0,
             "ticks": ""
            },
            "colorscale": [
             [
              0,
              "#0d0887"
             ],
             [
              0.1111111111111111,
              "#46039f"
             ],
             [
              0.2222222222222222,
              "#7201a8"
             ],
             [
              0.3333333333333333,
              "#9c179e"
             ],
             [
              0.4444444444444444,
              "#bd3786"
             ],
             [
              0.5555555555555556,
              "#d8576b"
             ],
             [
              0.6666666666666666,
              "#ed7953"
             ],
             [
              0.7777777777777778,
              "#fb9f3a"
             ],
             [
              0.8888888888888888,
              "#fdca26"
             ],
             [
              1,
              "#f0f921"
             ]
            ],
            "type": "heatmap"
           }
          ],
          "heatmapgl": [
           {
            "colorbar": {
             "outlinewidth": 0,
             "ticks": ""
            },
            "colorscale": [
             [
              0,
              "#0d0887"
             ],
             [
              0.1111111111111111,
              "#46039f"
             ],
             [
              0.2222222222222222,
              "#7201a8"
             ],
             [
              0.3333333333333333,
              "#9c179e"
             ],
             [
              0.4444444444444444,
              "#bd3786"
             ],
             [
              0.5555555555555556,
              "#d8576b"
             ],
             [
              0.6666666666666666,
              "#ed7953"
             ],
             [
              0.7777777777777778,
              "#fb9f3a"
             ],
             [
              0.8888888888888888,
              "#fdca26"
             ],
             [
              1,
              "#f0f921"
             ]
            ],
            "type": "heatmapgl"
           }
          ],
          "histogram": [
           {
            "marker": {
             "colorbar": {
              "outlinewidth": 0,
              "ticks": ""
             }
            },
            "type": "histogram"
           }
          ],
          "histogram2d": [
           {
            "colorbar": {
             "outlinewidth": 0,
             "ticks": ""
            },
            "colorscale": [
             [
              0,
              "#0d0887"
             ],
             [
              0.1111111111111111,
              "#46039f"
             ],
             [
              0.2222222222222222,
              "#7201a8"
             ],
             [
              0.3333333333333333,
              "#9c179e"
             ],
             [
              0.4444444444444444,
              "#bd3786"
             ],
             [
              0.5555555555555556,
              "#d8576b"
             ],
             [
              0.6666666666666666,
              "#ed7953"
             ],
             [
              0.7777777777777778,
              "#fb9f3a"
             ],
             [
              0.8888888888888888,
              "#fdca26"
             ],
             [
              1,
              "#f0f921"
             ]
            ],
            "type": "histogram2d"
           }
          ],
          "histogram2dcontour": [
           {
            "colorbar": {
             "outlinewidth": 0,
             "ticks": ""
            },
            "colorscale": [
             [
              0,
              "#0d0887"
             ],
             [
              0.1111111111111111,
              "#46039f"
             ],
             [
              0.2222222222222222,
              "#7201a8"
             ],
             [
              0.3333333333333333,
              "#9c179e"
             ],
             [
              0.4444444444444444,
              "#bd3786"
             ],
             [
              0.5555555555555556,
              "#d8576b"
             ],
             [
              0.6666666666666666,
              "#ed7953"
             ],
             [
              0.7777777777777778,
              "#fb9f3a"
             ],
             [
              0.8888888888888888,
              "#fdca26"
             ],
             [
              1,
              "#f0f921"
             ]
            ],
            "type": "histogram2dcontour"
           }
          ],
          "mesh3d": [
           {
            "colorbar": {
             "outlinewidth": 0,
             "ticks": ""
            },
            "type": "mesh3d"
           }
          ],
          "parcoords": [
           {
            "line": {
             "colorbar": {
              "outlinewidth": 0,
              "ticks": ""
             }
            },
            "type": "parcoords"
           }
          ],
          "scatter": [
           {
            "marker": {
             "colorbar": {
              "outlinewidth": 0,
              "ticks": ""
             }
            },
            "type": "scatter"
           }
          ],
          "scatter3d": [
           {
            "line": {
             "colorbar": {
              "outlinewidth": 0,
              "ticks": ""
             }
            },
            "marker": {
             "colorbar": {
              "outlinewidth": 0,
              "ticks": ""
             }
            },
            "type": "scatter3d"
           }
          ],
          "scattercarpet": [
           {
            "marker": {
             "colorbar": {
              "outlinewidth": 0,
              "ticks": ""
             }
            },
            "type": "scattercarpet"
           }
          ],
          "scattergeo": [
           {
            "marker": {
             "colorbar": {
              "outlinewidth": 0,
              "ticks": ""
             }
            },
            "type": "scattergeo"
           }
          ],
          "scattergl": [
           {
            "marker": {
             "colorbar": {
              "outlinewidth": 0,
              "ticks": ""
             }
            },
            "type": "scattergl"
           }
          ],
          "scattermapbox": [
           {
            "marker": {
             "colorbar": {
              "outlinewidth": 0,
              "ticks": ""
             }
            },
            "type": "scattermapbox"
           }
          ],
          "scatterpolar": [
           {
            "marker": {
             "colorbar": {
              "outlinewidth": 0,
              "ticks": ""
             }
            },
            "type": "scatterpolar"
           }
          ],
          "scatterpolargl": [
           {
            "marker": {
             "colorbar": {
              "outlinewidth": 0,
              "ticks": ""
             }
            },
            "type": "scatterpolargl"
           }
          ],
          "scatterternary": [
           {
            "marker": {
             "colorbar": {
              "outlinewidth": 0,
              "ticks": ""
             }
            },
            "type": "scatterternary"
           }
          ],
          "surface": [
           {
            "colorbar": {
             "outlinewidth": 0,
             "ticks": ""
            },
            "colorscale": [
             [
              0,
              "#0d0887"
             ],
             [
              0.1111111111111111,
              "#46039f"
             ],
             [
              0.2222222222222222,
              "#7201a8"
             ],
             [
              0.3333333333333333,
              "#9c179e"
             ],
             [
              0.4444444444444444,
              "#bd3786"
             ],
             [
              0.5555555555555556,
              "#d8576b"
             ],
             [
              0.6666666666666666,
              "#ed7953"
             ],
             [
              0.7777777777777778,
              "#fb9f3a"
             ],
             [
              0.8888888888888888,
              "#fdca26"
             ],
             [
              1,
              "#f0f921"
             ]
            ],
            "type": "surface"
           }
          ],
          "table": [
           {
            "cells": {
             "fill": {
              "color": "#EBF0F8"
             },
             "line": {
              "color": "white"
             }
            },
            "header": {
             "fill": {
              "color": "#C8D4E3"
             },
             "line": {
              "color": "white"
             }
            },
            "type": "table"
           }
          ]
         },
         "layout": {
          "annotationdefaults": {
           "arrowcolor": "#2a3f5f",
           "arrowhead": 0,
           "arrowwidth": 1
          },
          "colorscale": {
           "diverging": [
            [
             0,
             "#8e0152"
            ],
            [
             0.1,
             "#c51b7d"
            ],
            [
             0.2,
             "#de77ae"
            ],
            [
             0.3,
             "#f1b6da"
            ],
            [
             0.4,
             "#fde0ef"
            ],
            [
             0.5,
             "#f7f7f7"
            ],
            [
             0.6,
             "#e6f5d0"
            ],
            [
             0.7,
             "#b8e186"
            ],
            [
             0.8,
             "#7fbc41"
            ],
            [
             0.9,
             "#4d9221"
            ],
            [
             1,
             "#276419"
            ]
           ],
           "sequential": [
            [
             0,
             "#0d0887"
            ],
            [
             0.1111111111111111,
             "#46039f"
            ],
            [
             0.2222222222222222,
             "#7201a8"
            ],
            [
             0.3333333333333333,
             "#9c179e"
            ],
            [
             0.4444444444444444,
             "#bd3786"
            ],
            [
             0.5555555555555556,
             "#d8576b"
            ],
            [
             0.6666666666666666,
             "#ed7953"
            ],
            [
             0.7777777777777778,
             "#fb9f3a"
            ],
            [
             0.8888888888888888,
             "#fdca26"
            ],
            [
             1,
             "#f0f921"
            ]
           ],
           "sequentialminus": [
            [
             0,
             "#0d0887"
            ],
            [
             0.1111111111111111,
             "#46039f"
            ],
            [
             0.2222222222222222,
             "#7201a8"
            ],
            [
             0.3333333333333333,
             "#9c179e"
            ],
            [
             0.4444444444444444,
             "#bd3786"
            ],
            [
             0.5555555555555556,
             "#d8576b"
            ],
            [
             0.6666666666666666,
             "#ed7953"
            ],
            [
             0.7777777777777778,
             "#fb9f3a"
            ],
            [
             0.8888888888888888,
             "#fdca26"
            ],
            [
             1,
             "#f0f921"
            ]
           ]
          },
          "colorway": [
           "#636efa",
           "#EF553B",
           "#00cc96",
           "#ab63fa",
           "#FFA15A",
           "#19d3f3",
           "#FF6692",
           "#B6E880",
           "#FF97FF",
           "#FECB52"
          ],
          "font": {
           "color": "#2a3f5f"
          },
          "geo": {
           "bgcolor": "white",
           "lakecolor": "white",
           "landcolor": "#E5ECF6",
           "showlakes": true,
           "showland": true,
           "subunitcolor": "white"
          },
          "hoverlabel": {
           "align": "left"
          },
          "hovermode": "closest",
          "mapbox": {
           "style": "light"
          },
          "paper_bgcolor": "white",
          "plot_bgcolor": "#E5ECF6",
          "polar": {
           "angularaxis": {
            "gridcolor": "white",
            "linecolor": "white",
            "ticks": ""
           },
           "bgcolor": "#E5ECF6",
           "radialaxis": {
            "gridcolor": "white",
            "linecolor": "white",
            "ticks": ""
           }
          },
          "scene": {
           "xaxis": {
            "backgroundcolor": "#E5ECF6",
            "gridcolor": "white",
            "gridwidth": 2,
            "linecolor": "white",
            "showbackground": true,
            "ticks": "",
            "zerolinecolor": "white"
           },
           "yaxis": {
            "backgroundcolor": "#E5ECF6",
            "gridcolor": "white",
            "gridwidth": 2,
            "linecolor": "white",
            "showbackground": true,
            "ticks": "",
            "zerolinecolor": "white"
           },
           "zaxis": {
            "backgroundcolor": "#E5ECF6",
            "gridcolor": "white",
            "gridwidth": 2,
            "linecolor": "white",
            "showbackground": true,
            "ticks": "",
            "zerolinecolor": "white"
           }
          },
          "shapedefaults": {
           "line": {
            "color": "#2a3f5f"
           }
          },
          "ternary": {
           "aaxis": {
            "gridcolor": "white",
            "linecolor": "white",
            "ticks": ""
           },
           "baxis": {
            "gridcolor": "white",
            "linecolor": "white",
            "ticks": ""
           },
           "bgcolor": "#E5ECF6",
           "caxis": {
            "gridcolor": "white",
            "linecolor": "white",
            "ticks": ""
           }
          },
          "title": {
           "x": 0.05
          },
          "xaxis": {
           "automargin": true,
           "gridcolor": "white",
           "linecolor": "white",
           "ticks": "",
           "zerolinecolor": "white",
           "zerolinewidth": 2
          },
          "yaxis": {
           "automargin": true,
           "gridcolor": "white",
           "linecolor": "white",
           "ticks": "",
           "zerolinecolor": "white",
           "zerolinewidth": 2
          }
         }
        }
       }
      },
      "text/html": [
       "<div>\n",
       "        \n",
       "        \n",
       "            <div id=\"6503ee6d-d99e-476f-8cc2-1e705d327d39\" class=\"plotly-graph-div\" style=\"height:600px; width:100%;\"></div>\n",
       "            <script type=\"text/javascript\">\n",
       "                require([\"plotly\"], function(Plotly) {\n",
       "                    window.PLOTLYENV=window.PLOTLYENV || {};\n",
       "                    \n",
       "                if (document.getElementById(\"6503ee6d-d99e-476f-8cc2-1e705d327d39\")) {\n",
       "                    Plotly.newPlot(\n",
       "                        '6503ee6d-d99e-476f-8cc2-1e705d327d39',\n",
       "                        [{\"hoverlabel\": {\"namelength\": 0}, \"hovertemplate\": \"PostOp-SNR=%{x}<br>PreOp-SNR=%{y}<br>PreOp-IMFR=%{z}<br>ImplantRight=%{marker.color}\", \"legendgroup\": \"\", \"marker\": {\"color\": [275, 275, 275, 275, 300, 300, 300, 300, 300, 325, 325, 325, 325, 325, 325, 325, 325, 325, 325, 325, 325, 325, 350, 350, 350, 350, 350, 350, 350, 350, 350, 350, 350, 350, 350, 350, 375, 375, 375, 375, 375, 400, 275, 325, 300, 325, 350, 450, 350, 350, 325, 325, 275, 275, 275, 375, 350, 375, 250, 400, 350, 350, 325, 350, 350, 375, 300, 275, 375, 300, 300, 300, 400, 375, 375, 325, 375, 325, 325, 375, 250, 250, 375, 250, 300, 325, 300, 350, 350, 375, 325, 325, 350, 350, 400, 325, 375, 325, 325, 375, 375, 325, 325, 345, 325, 300, 322, 325, 275, 275, 350, 325, 375, 250, 375, 350, 300, 300, 325, 325, 275, 350, 325, 350, 250, 325, 300, 350, 300, 325, 325, 275, 325, 375, 225, 350, 250, 375, 325, 350, 275, 300, 350, 275], \"coloraxis\": \"coloraxis\", \"symbol\": \"circle\"}, \"mode\": \"markers\", \"name\": \"\", \"scene\": \"scene\", \"showlegend\": false, \"type\": \"scatter3d\", \"x\": [16.5, 20.0, 18.0, 18.0, 19.0, 18.0, 16.5, 19.0, 19.0, 17.0, 20.0, 19.5, 19.0, 18.0, 19.0, 18.0, 18.5, 19.0, 18.5, 19.5, 16.5, 18.5, 21.5, 17.5, 19.5, 18.5, 19.5, 21.0, 16.5, 17.0, 18.0, 19.0, 20.0, 21.0, 21.0, 19.0, 17.0, 19.0, 21.0, 16.5, 20.0, 21.0, 20.0, 20.0, 20.0, 15.5, 20.0, 20.0, 18.5, 17.5, 20.0, 20.5, 18.0, 18.0, 17.5, 17.5, 16.5, 18.5, 18.5, 19.0, 18.5, 19.0, 19.0, 18.0, 18.0, 19.0, 19.0, 19.5, 21.0, 17.5, 18.0, 19.0, 18.5, 21.0, 21.0, 18.0, 18.5, 19.5, 18.0, 18.5, 22.5, 19.5, 17.5, 19.0, 16.0, 19.0, 21.0, 19.5, 17.5, 20.0, 20.5, 20.5, 16.5, 19.0, 22.0, 17.5, 21.0, 17.5, 19.0, 17.5, 19.5, 19.0, 19.0, 23.0, 18.5, 18.5, 19.0, 19.0, 16.5, 20.0, 19.5, 18.0, 23.0, 18.0, 18.5, 19.0, 19.0, 18.5, 19.0, 19.5, 18.5, 21.0, 18.0, 21.0, 18.0, 18.5, 17.0, 22.0, 18.0, 22.5, 19.0, 18.5, 20.5, 20.0, 18.0, 21.0, 18.0, 21.5, 18.0, 22.0, 18.5, 17.5, 17.0, 22.0], \"y\": [15.0, 18.5, 16.0, 16.0, 17.5, 17.0, 15.5, 17.5, 18.0, 16.5, 18.5, 18.5, 17.0, 16.5, 17.5, 16.5, 16.0, 17.5, 17.0, 18.5, 15.0, 16.5, 19.5, 16.5, 17.0, 17.0, 19.0, 18.5, 14.0, 16.0, 16.0, 17.5, 18.5, 19.0, 19.5, 17.5, 15.0, 18.5, 20.0, 15.0, 18.5, 20.0, 18.5, 19.0, 18.5, 15.0, 19.5, 20.0, 16.5, 16.0, 17.5, 19.5, 17.5, 16.5, 16.0, 15.5, 15.0, 17.0, 16.5, 17.5, 17.0, 18.5, 18.0, 17.5, 16.0, 17.0, 17.0, 17.5, 19.5, 17.0, 17.5, 18.5, 17.5, 19.0, 19.0, 16.5, 16.5, 18.5, 16.5, 17.0, 20.5, 18.5, 17.0, 17.0, 15.5, 17.5, 20.5, 17.0, 16.0, 18.5, 18.0, 18.3, 16.5, 17.0, 21.5, 17.0, 20.5, 16.0, 17.0, 16.5, 19.0, 17.5, 17.5, 21.5, 17.5, 18.0, 18.5, 16.5, 16.5, 18.0, 18.0, 17.5, 22.5, 17.0, 17.0, 18.5, 17.5, 17.5, 18.5, 18.0, 17.0, 20.0, 14.5, 19.0, 16.5, 17.0, 15.5, 20.0, 16.5, 21.5, 17.5, 17.5, 18.5, 18.0, 16.5, 19.5, 16.0, 20.5, 16.5, 21.0, 17.5, 16.0, 16.0, 20.0], \"z\": [4.0, 3.0, 5.0, 4.0, 3.5, 5.5, 5.8, 5.0, 4.2, 5.0, 7.0, 5.0, 5.5, 4.5, 5.0, 5.5, 5.5, 4.0, 5.2, 4.0, 4.5, 5.0, 4.5, 4.2, 4.0, 6.5, 5.0, 4.5, 6.5, 4.5, 4.5, 6.0, 5.2, 4.5, 5.5, 4.5, 5.5, 4.0, 4.0, 4.5, 6.0, 5.5, 4.5, 7.0, 6.5, 5.0, 6.0, 4.5, 6.0, 4.5, 5.0, 4.5, 5.5, 5.0, 4.0, 5.0, 6.5, 5.5, 5.0, 6.0, 4.5, 6.0, 5.0, 6.0, 3.4, 7.0, 4.0, 5.0, 5.0, 5.0, 4.5, 4.0, 4.0, 6.0, 5.0, 6.0, 7.0, 5.0, 4.5, 7.0, 7.0, 4.5, 9.0, 5.5, 4.8, 4.5, 6.0, 6.0, 6.0, 6.0, 3.0, 5.0, 5.0, 5.0, 7.0, 5.5, 8.0, 4.2, 5.0, 6.8, 5.0, 4.5, 5.0, 9.0, 6.5, 4.5, 5.0, 6.0, 5.0, 5.0, 5.8, 6.5, 9.0, 4.0, 7.0, 4.5, 4.0, 4.2, 7.0, 6.0, 4.6, 6.0, 5.2, 5.8, 4.5, 5.0, 4.5, 5.5, 5.0, 8.0, 6.0, 5.3, 5.5, 6.5, 3.5, 4.0, 3.5, 6.0, 5.5, 6.5, 4.5, 5.0, 5.0, 5.2]}],\n",
       "                        {\"coloraxis\": {\"colorbar\": {\"title\": {\"text\": \"ImplantRight\"}}, \"colorscale\": [[0.0, \"#0d0887\"], [0.1111111111111111, \"#46039f\"], [0.2222222222222222, \"#7201a8\"], [0.3333333333333333, \"#9c179e\"], [0.4444444444444444, \"#bd3786\"], [0.5555555555555556, \"#d8576b\"], [0.6666666666666666, \"#ed7953\"], [0.7777777777777778, \"#fb9f3a\"], [0.8888888888888888, \"#fdca26\"], [1.0, \"#f0f921\"]]}, \"height\": 600, \"legend\": {\"tracegroupgap\": 0}, \"margin\": {\"t\": 60}, \"scene\": {\"domain\": {\"x\": [0.0, 0.98], \"y\": [0.0, 1.0]}, \"xaxis\": {\"title\": {\"text\": \"PostOp-SNR\"}}, \"yaxis\": {\"title\": {\"text\": \"PreOp-SNR\"}}, \"zaxis\": {\"title\": {\"text\": \"PreOp-IMFR\"}}}, \"template\": {\"data\": {\"bar\": [{\"error_x\": {\"color\": \"#2a3f5f\"}, \"error_y\": {\"color\": \"#2a3f5f\"}, \"marker\": {\"line\": {\"color\": \"#E5ECF6\", \"width\": 0.5}}, \"type\": \"bar\"}], \"barpolar\": [{\"marker\": {\"line\": {\"color\": \"#E5ECF6\", \"width\": 0.5}}, \"type\": \"barpolar\"}], \"carpet\": [{\"aaxis\": {\"endlinecolor\": \"#2a3f5f\", \"gridcolor\": \"white\", \"linecolor\": \"white\", \"minorgridcolor\": \"white\", \"startlinecolor\": \"#2a3f5f\"}, \"baxis\": {\"endlinecolor\": \"#2a3f5f\", \"gridcolor\": \"white\", \"linecolor\": \"white\", \"minorgridcolor\": \"white\", \"startlinecolor\": \"#2a3f5f\"}, \"type\": \"carpet\"}], \"choropleth\": [{\"colorbar\": {\"outlinewidth\": 0, \"ticks\": \"\"}, \"type\": \"choropleth\"}], \"contour\": [{\"colorbar\": {\"outlinewidth\": 0, \"ticks\": \"\"}, \"colorscale\": [[0.0, \"#0d0887\"], [0.1111111111111111, \"#46039f\"], [0.2222222222222222, \"#7201a8\"], [0.3333333333333333, \"#9c179e\"], [0.4444444444444444, \"#bd3786\"], [0.5555555555555556, \"#d8576b\"], [0.6666666666666666, \"#ed7953\"], [0.7777777777777778, \"#fb9f3a\"], [0.8888888888888888, \"#fdca26\"], [1.0, \"#f0f921\"]], \"type\": \"contour\"}], \"contourcarpet\": [{\"colorbar\": {\"outlinewidth\": 0, \"ticks\": \"\"}, \"type\": \"contourcarpet\"}], \"heatmap\": [{\"colorbar\": {\"outlinewidth\": 0, \"ticks\": \"\"}, \"colorscale\": [[0.0, \"#0d0887\"], [0.1111111111111111, \"#46039f\"], [0.2222222222222222, \"#7201a8\"], [0.3333333333333333, \"#9c179e\"], [0.4444444444444444, \"#bd3786\"], [0.5555555555555556, \"#d8576b\"], [0.6666666666666666, \"#ed7953\"], [0.7777777777777778, \"#fb9f3a\"], [0.8888888888888888, \"#fdca26\"], [1.0, \"#f0f921\"]], \"type\": \"heatmap\"}], \"heatmapgl\": [{\"colorbar\": {\"outlinewidth\": 0, \"ticks\": \"\"}, \"colorscale\": [[0.0, \"#0d0887\"], [0.1111111111111111, \"#46039f\"], [0.2222222222222222, \"#7201a8\"], [0.3333333333333333, \"#9c179e\"], [0.4444444444444444, \"#bd3786\"], [0.5555555555555556, \"#d8576b\"], [0.6666666666666666, \"#ed7953\"], [0.7777777777777778, \"#fb9f3a\"], [0.8888888888888888, \"#fdca26\"], [1.0, \"#f0f921\"]], \"type\": \"heatmapgl\"}], \"histogram\": [{\"marker\": {\"colorbar\": {\"outlinewidth\": 0, \"ticks\": \"\"}}, \"type\": \"histogram\"}], \"histogram2d\": [{\"colorbar\": {\"outlinewidth\": 0, \"ticks\": \"\"}, \"colorscale\": [[0.0, \"#0d0887\"], [0.1111111111111111, \"#46039f\"], [0.2222222222222222, \"#7201a8\"], [0.3333333333333333, \"#9c179e\"], [0.4444444444444444, \"#bd3786\"], [0.5555555555555556, \"#d8576b\"], [0.6666666666666666, \"#ed7953\"], [0.7777777777777778, \"#fb9f3a\"], [0.8888888888888888, \"#fdca26\"], [1.0, \"#f0f921\"]], \"type\": \"histogram2d\"}], \"histogram2dcontour\": [{\"colorbar\": {\"outlinewidth\": 0, \"ticks\": \"\"}, \"colorscale\": [[0.0, \"#0d0887\"], [0.1111111111111111, \"#46039f\"], [0.2222222222222222, \"#7201a8\"], [0.3333333333333333, \"#9c179e\"], [0.4444444444444444, \"#bd3786\"], [0.5555555555555556, \"#d8576b\"], [0.6666666666666666, \"#ed7953\"], [0.7777777777777778, \"#fb9f3a\"], [0.8888888888888888, \"#fdca26\"], [1.0, \"#f0f921\"]], \"type\": \"histogram2dcontour\"}], \"mesh3d\": [{\"colorbar\": {\"outlinewidth\": 0, \"ticks\": \"\"}, \"type\": \"mesh3d\"}], \"parcoords\": [{\"line\": {\"colorbar\": {\"outlinewidth\": 0, \"ticks\": \"\"}}, \"type\": \"parcoords\"}], \"scatter\": [{\"marker\": {\"colorbar\": {\"outlinewidth\": 0, \"ticks\": \"\"}}, \"type\": \"scatter\"}], \"scatter3d\": [{\"line\": {\"colorbar\": {\"outlinewidth\": 0, \"ticks\": \"\"}}, \"marker\": {\"colorbar\": {\"outlinewidth\": 0, \"ticks\": \"\"}}, \"type\": \"scatter3d\"}], \"scattercarpet\": [{\"marker\": {\"colorbar\": {\"outlinewidth\": 0, \"ticks\": \"\"}}, \"type\": \"scattercarpet\"}], \"scattergeo\": [{\"marker\": {\"colorbar\": {\"outlinewidth\": 0, \"ticks\": \"\"}}, \"type\": \"scattergeo\"}], \"scattergl\": [{\"marker\": {\"colorbar\": {\"outlinewidth\": 0, \"ticks\": \"\"}}, \"type\": \"scattergl\"}], \"scattermapbox\": [{\"marker\": {\"colorbar\": {\"outlinewidth\": 0, \"ticks\": \"\"}}, \"type\": \"scattermapbox\"}], \"scatterpolar\": [{\"marker\": {\"colorbar\": {\"outlinewidth\": 0, \"ticks\": \"\"}}, \"type\": \"scatterpolar\"}], \"scatterpolargl\": [{\"marker\": {\"colorbar\": {\"outlinewidth\": 0, \"ticks\": \"\"}}, \"type\": \"scatterpolargl\"}], \"scatterternary\": [{\"marker\": {\"colorbar\": {\"outlinewidth\": 0, \"ticks\": \"\"}}, \"type\": \"scatterternary\"}], \"surface\": [{\"colorbar\": {\"outlinewidth\": 0, \"ticks\": \"\"}, \"colorscale\": [[0.0, \"#0d0887\"], [0.1111111111111111, \"#46039f\"], [0.2222222222222222, \"#7201a8\"], [0.3333333333333333, \"#9c179e\"], [0.4444444444444444, \"#bd3786\"], [0.5555555555555556, \"#d8576b\"], [0.6666666666666666, \"#ed7953\"], [0.7777777777777778, \"#fb9f3a\"], [0.8888888888888888, \"#fdca26\"], [1.0, \"#f0f921\"]], \"type\": \"surface\"}], \"table\": [{\"cells\": {\"fill\": {\"color\": \"#EBF0F8\"}, \"line\": {\"color\": \"white\"}}, \"header\": {\"fill\": {\"color\": \"#C8D4E3\"}, \"line\": {\"color\": \"white\"}}, \"type\": \"table\"}]}, \"layout\": {\"annotationdefaults\": {\"arrowcolor\": \"#2a3f5f\", \"arrowhead\": 0, \"arrowwidth\": 1}, \"colorscale\": {\"diverging\": [[0, \"#8e0152\"], [0.1, \"#c51b7d\"], [0.2, \"#de77ae\"], [0.3, \"#f1b6da\"], [0.4, \"#fde0ef\"], [0.5, \"#f7f7f7\"], [0.6, \"#e6f5d0\"], [0.7, \"#b8e186\"], [0.8, \"#7fbc41\"], [0.9, \"#4d9221\"], [1, \"#276419\"]], \"sequential\": [[0.0, \"#0d0887\"], [0.1111111111111111, \"#46039f\"], [0.2222222222222222, \"#7201a8\"], [0.3333333333333333, \"#9c179e\"], [0.4444444444444444, \"#bd3786\"], [0.5555555555555556, \"#d8576b\"], [0.6666666666666666, \"#ed7953\"], [0.7777777777777778, \"#fb9f3a\"], [0.8888888888888888, \"#fdca26\"], [1.0, \"#f0f921\"]], \"sequentialminus\": [[0.0, \"#0d0887\"], [0.1111111111111111, \"#46039f\"], [0.2222222222222222, \"#7201a8\"], [0.3333333333333333, \"#9c179e\"], [0.4444444444444444, \"#bd3786\"], [0.5555555555555556, \"#d8576b\"], [0.6666666666666666, \"#ed7953\"], [0.7777777777777778, \"#fb9f3a\"], [0.8888888888888888, \"#fdca26\"], [1.0, \"#f0f921\"]]}, \"colorway\": [\"#636efa\", \"#EF553B\", \"#00cc96\", \"#ab63fa\", \"#FFA15A\", \"#19d3f3\", \"#FF6692\", \"#B6E880\", \"#FF97FF\", \"#FECB52\"], \"font\": {\"color\": \"#2a3f5f\"}, \"geo\": {\"bgcolor\": \"white\", \"lakecolor\": \"white\", \"landcolor\": \"#E5ECF6\", \"showlakes\": true, \"showland\": true, \"subunitcolor\": \"white\"}, \"hoverlabel\": {\"align\": \"left\"}, \"hovermode\": \"closest\", \"mapbox\": {\"style\": \"light\"}, \"paper_bgcolor\": \"white\", \"plot_bgcolor\": \"#E5ECF6\", \"polar\": {\"angularaxis\": {\"gridcolor\": \"white\", \"linecolor\": \"white\", \"ticks\": \"\"}, \"bgcolor\": \"#E5ECF6\", \"radialaxis\": {\"gridcolor\": \"white\", \"linecolor\": \"white\", \"ticks\": \"\"}}, \"scene\": {\"xaxis\": {\"backgroundcolor\": \"#E5ECF6\", \"gridcolor\": \"white\", \"gridwidth\": 2, \"linecolor\": \"white\", \"showbackground\": true, \"ticks\": \"\", \"zerolinecolor\": \"white\"}, \"yaxis\": {\"backgroundcolor\": \"#E5ECF6\", \"gridcolor\": \"white\", \"gridwidth\": 2, \"linecolor\": \"white\", \"showbackground\": true, \"ticks\": \"\", \"zerolinecolor\": \"white\"}, \"zaxis\": {\"backgroundcolor\": \"#E5ECF6\", \"gridcolor\": \"white\", \"gridwidth\": 2, \"linecolor\": \"white\", \"showbackground\": true, \"ticks\": \"\", \"zerolinecolor\": \"white\"}}, \"shapedefaults\": {\"line\": {\"color\": \"#2a3f5f\"}}, \"ternary\": {\"aaxis\": {\"gridcolor\": \"white\", \"linecolor\": \"white\", \"ticks\": \"\"}, \"baxis\": {\"gridcolor\": \"white\", \"linecolor\": \"white\", \"ticks\": \"\"}, \"bgcolor\": \"#E5ECF6\", \"caxis\": {\"gridcolor\": \"white\", \"linecolor\": \"white\", \"ticks\": \"\"}}, \"title\": {\"x\": 0.05}, \"xaxis\": {\"automargin\": true, \"gridcolor\": \"white\", \"linecolor\": \"white\", \"ticks\": \"\", \"zerolinecolor\": \"white\", \"zerolinewidth\": 2}, \"yaxis\": {\"automargin\": true, \"gridcolor\": \"white\", \"linecolor\": \"white\", \"ticks\": \"\", \"zerolinecolor\": \"white\", \"zerolinewidth\": 2}}}},\n",
       "                        {\"responsive\": true}\n",
       "                    ).then(function(){\n",
       "                            \n",
       "var gd = document.getElementById('6503ee6d-d99e-476f-8cc2-1e705d327d39');\n",
       "var x = new MutationObserver(function (mutations, observer) {{\n",
       "        var display = window.getComputedStyle(gd).display;\n",
       "        if (!display || display === 'none') {{\n",
       "            console.log([gd, 'removed!']);\n",
       "            Plotly.purge(gd);\n",
       "            observer.disconnect();\n",
       "        }}\n",
       "}});\n",
       "\n",
       "// Listen for the removal of the full notebook cells\n",
       "var notebookContainer = gd.closest('#notebook-container');\n",
       "if (notebookContainer) {{\n",
       "    x.observe(notebookContainer, {childList: true});\n",
       "}}\n",
       "\n",
       "// Listen for the clearing of the current output cell\n",
       "var outputEl = gd.closest('.output');\n",
       "if (outputEl) {{\n",
       "    x.observe(outputEl, {childList: true});\n",
       "}}\n",
       "\n",
       "                        })\n",
       "                };\n",
       "                });\n",
       "            </script>\n",
       "        </div>"
      ]
     },
     "metadata": {},
     "output_type": "display_data"
    }
   ],
   "source": [
    "fig = px.scatter_3d(df, x='PostOp-SNR', y='PreOp-SNR', z='PreOp-IMFR', color='ImplantRight')\n",
    "fig.show()"
   ]
  },
  {
   "cell_type": "markdown",
   "metadata": {},
   "source": [
    "## SNL"
   ]
  },
  {
   "cell_type": "code",
   "execution_count": 27,
   "metadata": {},
   "outputs": [
    {
     "data": {
      "application/vnd.plotly.v1+json": {
       "config": {
        "plotlyServerURL": "https://plot.ly"
       },
       "data": [
        {
         "hoverlabel": {
          "namelength": 0
         },
         "hovertemplate": "PostOp-SNL=%{x}<br>PreOp-SNL=%{y}<br>ImplantLeft=%{marker.color}",
         "legendgroup": "",
         "marker": {
          "color": [
           275,
           275,
           275,
           275,
           300,
           300,
           300,
           300,
           300,
           325,
           325,
           325,
           325,
           325,
           325,
           325,
           325,
           325,
           325,
           325,
           325,
           325,
           350,
           350,
           350,
           350,
           350,
           350,
           350,
           350,
           350,
           350,
           350,
           350,
           350,
           350,
           375,
           375,
           375,
           375,
           375,
           400,
           275,
           325,
           300,
           325,
           350,
           450,
           350,
           350,
           325,
           325,
           275,
           275,
           275,
           375,
           350,
           375,
           275,
           400,
           350,
           350,
           300,
           350,
           350,
           375,
           300,
           275,
           375,
           250,
           275,
           300,
           400,
           375,
           375,
           325,
           375,
           325,
           325,
           375,
           300,
           250,
           375,
           250,
           300,
           325,
           325,
           325,
           350,
           375,
           325,
           325,
           350,
           350,
           400,
           325,
           375,
           325,
           325,
           375,
           375,
           325,
           325,
           345,
           325,
           300,
           330,
           325,
           275,
           275,
           350,
           325,
           375,
           250,
           375,
           350,
           300,
           300,
           325,
           325,
           275,
           350,
           325,
           350,
           250,
           325,
           300,
           350,
           300,
           325,
           325,
           275,
           325,
           375,
           225,
           350,
           250,
           375,
           325,
           350,
           275,
           300,
           350,
           275
          ],
          "coloraxis": "coloraxis",
          "symbol": "circle"
         },
         "mode": "markers",
         "name": "",
         "scene": "scene",
         "showlegend": false,
         "type": "scatter3d",
         "x": [
          16.5,
          20,
          17,
          18,
          18.5,
          18,
          16.5,
          18,
          18.5,
          17,
          20,
          20,
          18,
          18,
          19,
          18,
          18.5,
          19,
          18,
          19,
          16.5,
          18,
          21.5,
          17.5,
          20,
          18.5,
          18.5,
          20.5,
          15.5,
          18,
          18.5,
          20,
          20,
          21.5,
          21,
          19,
          17,
          19,
          21.5,
          17.5,
          20,
          21,
          20,
          20,
          20,
          16,
          20.5,
          20,
          19.5,
          18,
          20.5,
          20,
          18,
          18,
          18,
          17,
          16,
          19,
          18,
          19,
          17,
          19,
          20,
          19,
          19,
          19,
          19,
          19.5,
          21.5,
          17,
          18.5,
          19,
          19,
          20.5,
          21,
          18,
          18,
          19.5,
          19,
          18.5,
          22.5,
          19.5,
          17.5,
          19,
          15.5,
          19,
          21,
          19.5,
          18,
          20,
          20.5,
          20.5,
          16.5,
          19,
          21,
          17.5,
          20.5,
          18,
          20,
          18,
          19.5,
          18,
          19,
          22.5,
          19,
          18.5,
          19,
          19.5,
          16.5,
          20,
          19.5,
          19,
          22.5,
          18,
          18,
          18.5,
          19,
          18.5,
          19,
          20,
          18.5,
          21,
          17,
          21,
          18,
          18.5,
          17,
          22,
          19,
          22.5,
          19,
          18.5,
          20.5,
          19.5,
          18,
          21,
          18,
          21.5,
          18.5,
          22,
          18.5,
          17.5,
          17.5,
          22
         ],
         "y": [
          15,
          18.5,
          16,
          16,
          17.5,
          17,
          15.5,
          17,
          17,
          16.5,
          18.5,
          19,
          16.5,
          16.5,
          17.5,
          16.5,
          16.5,
          17.5,
          16.5,
          18.5,
          15,
          16.5,
          19.5,
          16,
          17.5,
          16,
          18.5,
          18.5,
          14.5,
          16,
          16.5,
          18,
          18,
          19,
          19.5,
          17.5,
          15,
          18.5,
          20.5,
          15,
          18,
          20,
          18.5,
          19,
          18.5,
          15,
          20,
          20,
          16.5,
          16.5,
          18,
          19,
          17.5,
          16.5,
          16,
          15.5,
          14.5,
          19,
          17,
          18,
          15.5,
          18,
          19,
          17.5,
          16,
          17,
          17,
          17.5,
          19.5,
          16.5,
          17.5,
          18.5,
          18,
          19,
          19,
          16.5,
          17,
          18.5,
          17.5,
          17,
          20,
          18.5,
          17,
          17,
          15,
          17.5,
          19.5,
          17,
          16.5,
          18,
          18,
          18.3,
          16.5,
          17,
          20.5,
          17,
          20.5,
          16.5,
          17.5,
          16.5,
          19,
          17.5,
          17.5,
          21.5,
          17.5,
          18.5,
          18.5,
          17,
          16.5,
          18.5,
          18.5,
          18,
          22,
          17,
          17,
          18.5,
          17.5,
          17.5,
          18.5,
          18,
          17,
          20,
          16,
          19,
          16.5,
          17,
          15.5,
          20.5,
          16.5,
          21,
          18,
          18,
          18.5,
          18,
          17,
          20,
          16,
          20.5,
          16.5,
          21,
          18,
          16,
          16,
          20
         ],
         "z": [
          275,
          275,
          275,
          275,
          300,
          300,
          300,
          300,
          300,
          325,
          325,
          325,
          325,
          325,
          325,
          325,
          325,
          325,
          325,
          325,
          325,
          325,
          350,
          350,
          350,
          350,
          350,
          350,
          350,
          350,
          350,
          350,
          350,
          350,
          350,
          350,
          375,
          375,
          375,
          375,
          375,
          400,
          275,
          325,
          300,
          325,
          350,
          450,
          350,
          350,
          325,
          325,
          275,
          275,
          275,
          375,
          350,
          375,
          275,
          400,
          350,
          350,
          300,
          350,
          350,
          375,
          300,
          275,
          375,
          250,
          275,
          300,
          400,
          375,
          375,
          325,
          375,
          325,
          325,
          375,
          300,
          250,
          375,
          250,
          300,
          325,
          325,
          325,
          350,
          375,
          325,
          325,
          350,
          350,
          400,
          325,
          375,
          325,
          325,
          375,
          375,
          325,
          325,
          345,
          325,
          300,
          330,
          325,
          275,
          275,
          350,
          325,
          375,
          250,
          375,
          350,
          300,
          300,
          325,
          325,
          275,
          350,
          325,
          350,
          250,
          325,
          300,
          350,
          300,
          325,
          325,
          275,
          325,
          375,
          225,
          350,
          250,
          375,
          325,
          350,
          275,
          300,
          350,
          275
         ]
        }
       ],
       "layout": {
        "coloraxis": {
         "colorbar": {
          "title": {
           "text": "ImplantLeft"
          }
         },
         "colorscale": [
          [
           0,
           "#0d0887"
          ],
          [
           0.1111111111111111,
           "#46039f"
          ],
          [
           0.2222222222222222,
           "#7201a8"
          ],
          [
           0.3333333333333333,
           "#9c179e"
          ],
          [
           0.4444444444444444,
           "#bd3786"
          ],
          [
           0.5555555555555556,
           "#d8576b"
          ],
          [
           0.6666666666666666,
           "#ed7953"
          ],
          [
           0.7777777777777778,
           "#fb9f3a"
          ],
          [
           0.8888888888888888,
           "#fdca26"
          ],
          [
           1,
           "#f0f921"
          ]
         ]
        },
        "height": 600,
        "legend": {
         "tracegroupgap": 0
        },
        "margin": {
         "t": 60
        },
        "scene": {
         "domain": {
          "x": [
           0,
           0.98
          ],
          "y": [
           0,
           1
          ]
         },
         "xaxis": {
          "title": {
           "text": "PostOp-SNL"
          }
         },
         "yaxis": {
          "title": {
           "text": "PreOp-SNL"
          }
         },
         "zaxis": {
          "title": {
           "text": "ImplantLeft"
          }
         }
        },
        "template": {
         "data": {
          "bar": [
           {
            "error_x": {
             "color": "#2a3f5f"
            },
            "error_y": {
             "color": "#2a3f5f"
            },
            "marker": {
             "line": {
              "color": "#E5ECF6",
              "width": 0.5
             }
            },
            "type": "bar"
           }
          ],
          "barpolar": [
           {
            "marker": {
             "line": {
              "color": "#E5ECF6",
              "width": 0.5
             }
            },
            "type": "barpolar"
           }
          ],
          "carpet": [
           {
            "aaxis": {
             "endlinecolor": "#2a3f5f",
             "gridcolor": "white",
             "linecolor": "white",
             "minorgridcolor": "white",
             "startlinecolor": "#2a3f5f"
            },
            "baxis": {
             "endlinecolor": "#2a3f5f",
             "gridcolor": "white",
             "linecolor": "white",
             "minorgridcolor": "white",
             "startlinecolor": "#2a3f5f"
            },
            "type": "carpet"
           }
          ],
          "choropleth": [
           {
            "colorbar": {
             "outlinewidth": 0,
             "ticks": ""
            },
            "type": "choropleth"
           }
          ],
          "contour": [
           {
            "colorbar": {
             "outlinewidth": 0,
             "ticks": ""
            },
            "colorscale": [
             [
              0,
              "#0d0887"
             ],
             [
              0.1111111111111111,
              "#46039f"
             ],
             [
              0.2222222222222222,
              "#7201a8"
             ],
             [
              0.3333333333333333,
              "#9c179e"
             ],
             [
              0.4444444444444444,
              "#bd3786"
             ],
             [
              0.5555555555555556,
              "#d8576b"
             ],
             [
              0.6666666666666666,
              "#ed7953"
             ],
             [
              0.7777777777777778,
              "#fb9f3a"
             ],
             [
              0.8888888888888888,
              "#fdca26"
             ],
             [
              1,
              "#f0f921"
             ]
            ],
            "type": "contour"
           }
          ],
          "contourcarpet": [
           {
            "colorbar": {
             "outlinewidth": 0,
             "ticks": ""
            },
            "type": "contourcarpet"
           }
          ],
          "heatmap": [
           {
            "colorbar": {
             "outlinewidth": 0,
             "ticks": ""
            },
            "colorscale": [
             [
              0,
              "#0d0887"
             ],
             [
              0.1111111111111111,
              "#46039f"
             ],
             [
              0.2222222222222222,
              "#7201a8"
             ],
             [
              0.3333333333333333,
              "#9c179e"
             ],
             [
              0.4444444444444444,
              "#bd3786"
             ],
             [
              0.5555555555555556,
              "#d8576b"
             ],
             [
              0.6666666666666666,
              "#ed7953"
             ],
             [
              0.7777777777777778,
              "#fb9f3a"
             ],
             [
              0.8888888888888888,
              "#fdca26"
             ],
             [
              1,
              "#f0f921"
             ]
            ],
            "type": "heatmap"
           }
          ],
          "heatmapgl": [
           {
            "colorbar": {
             "outlinewidth": 0,
             "ticks": ""
            },
            "colorscale": [
             [
              0,
              "#0d0887"
             ],
             [
              0.1111111111111111,
              "#46039f"
             ],
             [
              0.2222222222222222,
              "#7201a8"
             ],
             [
              0.3333333333333333,
              "#9c179e"
             ],
             [
              0.4444444444444444,
              "#bd3786"
             ],
             [
              0.5555555555555556,
              "#d8576b"
             ],
             [
              0.6666666666666666,
              "#ed7953"
             ],
             [
              0.7777777777777778,
              "#fb9f3a"
             ],
             [
              0.8888888888888888,
              "#fdca26"
             ],
             [
              1,
              "#f0f921"
             ]
            ],
            "type": "heatmapgl"
           }
          ],
          "histogram": [
           {
            "marker": {
             "colorbar": {
              "outlinewidth": 0,
              "ticks": ""
             }
            },
            "type": "histogram"
           }
          ],
          "histogram2d": [
           {
            "colorbar": {
             "outlinewidth": 0,
             "ticks": ""
            },
            "colorscale": [
             [
              0,
              "#0d0887"
             ],
             [
              0.1111111111111111,
              "#46039f"
             ],
             [
              0.2222222222222222,
              "#7201a8"
             ],
             [
              0.3333333333333333,
              "#9c179e"
             ],
             [
              0.4444444444444444,
              "#bd3786"
             ],
             [
              0.5555555555555556,
              "#d8576b"
             ],
             [
              0.6666666666666666,
              "#ed7953"
             ],
             [
              0.7777777777777778,
              "#fb9f3a"
             ],
             [
              0.8888888888888888,
              "#fdca26"
             ],
             [
              1,
              "#f0f921"
             ]
            ],
            "type": "histogram2d"
           }
          ],
          "histogram2dcontour": [
           {
            "colorbar": {
             "outlinewidth": 0,
             "ticks": ""
            },
            "colorscale": [
             [
              0,
              "#0d0887"
             ],
             [
              0.1111111111111111,
              "#46039f"
             ],
             [
              0.2222222222222222,
              "#7201a8"
             ],
             [
              0.3333333333333333,
              "#9c179e"
             ],
             [
              0.4444444444444444,
              "#bd3786"
             ],
             [
              0.5555555555555556,
              "#d8576b"
             ],
             [
              0.6666666666666666,
              "#ed7953"
             ],
             [
              0.7777777777777778,
              "#fb9f3a"
             ],
             [
              0.8888888888888888,
              "#fdca26"
             ],
             [
              1,
              "#f0f921"
             ]
            ],
            "type": "histogram2dcontour"
           }
          ],
          "mesh3d": [
           {
            "colorbar": {
             "outlinewidth": 0,
             "ticks": ""
            },
            "type": "mesh3d"
           }
          ],
          "parcoords": [
           {
            "line": {
             "colorbar": {
              "outlinewidth": 0,
              "ticks": ""
             }
            },
            "type": "parcoords"
           }
          ],
          "scatter": [
           {
            "marker": {
             "colorbar": {
              "outlinewidth": 0,
              "ticks": ""
             }
            },
            "type": "scatter"
           }
          ],
          "scatter3d": [
           {
            "line": {
             "colorbar": {
              "outlinewidth": 0,
              "ticks": ""
             }
            },
            "marker": {
             "colorbar": {
              "outlinewidth": 0,
              "ticks": ""
             }
            },
            "type": "scatter3d"
           }
          ],
          "scattercarpet": [
           {
            "marker": {
             "colorbar": {
              "outlinewidth": 0,
              "ticks": ""
             }
            },
            "type": "scattercarpet"
           }
          ],
          "scattergeo": [
           {
            "marker": {
             "colorbar": {
              "outlinewidth": 0,
              "ticks": ""
             }
            },
            "type": "scattergeo"
           }
          ],
          "scattergl": [
           {
            "marker": {
             "colorbar": {
              "outlinewidth": 0,
              "ticks": ""
             }
            },
            "type": "scattergl"
           }
          ],
          "scattermapbox": [
           {
            "marker": {
             "colorbar": {
              "outlinewidth": 0,
              "ticks": ""
             }
            },
            "type": "scattermapbox"
           }
          ],
          "scatterpolar": [
           {
            "marker": {
             "colorbar": {
              "outlinewidth": 0,
              "ticks": ""
             }
            },
            "type": "scatterpolar"
           }
          ],
          "scatterpolargl": [
           {
            "marker": {
             "colorbar": {
              "outlinewidth": 0,
              "ticks": ""
             }
            },
            "type": "scatterpolargl"
           }
          ],
          "scatterternary": [
           {
            "marker": {
             "colorbar": {
              "outlinewidth": 0,
              "ticks": ""
             }
            },
            "type": "scatterternary"
           }
          ],
          "surface": [
           {
            "colorbar": {
             "outlinewidth": 0,
             "ticks": ""
            },
            "colorscale": [
             [
              0,
              "#0d0887"
             ],
             [
              0.1111111111111111,
              "#46039f"
             ],
             [
              0.2222222222222222,
              "#7201a8"
             ],
             [
              0.3333333333333333,
              "#9c179e"
             ],
             [
              0.4444444444444444,
              "#bd3786"
             ],
             [
              0.5555555555555556,
              "#d8576b"
             ],
             [
              0.6666666666666666,
              "#ed7953"
             ],
             [
              0.7777777777777778,
              "#fb9f3a"
             ],
             [
              0.8888888888888888,
              "#fdca26"
             ],
             [
              1,
              "#f0f921"
             ]
            ],
            "type": "surface"
           }
          ],
          "table": [
           {
            "cells": {
             "fill": {
              "color": "#EBF0F8"
             },
             "line": {
              "color": "white"
             }
            },
            "header": {
             "fill": {
              "color": "#C8D4E3"
             },
             "line": {
              "color": "white"
             }
            },
            "type": "table"
           }
          ]
         },
         "layout": {
          "annotationdefaults": {
           "arrowcolor": "#2a3f5f",
           "arrowhead": 0,
           "arrowwidth": 1
          },
          "colorscale": {
           "diverging": [
            [
             0,
             "#8e0152"
            ],
            [
             0.1,
             "#c51b7d"
            ],
            [
             0.2,
             "#de77ae"
            ],
            [
             0.3,
             "#f1b6da"
            ],
            [
             0.4,
             "#fde0ef"
            ],
            [
             0.5,
             "#f7f7f7"
            ],
            [
             0.6,
             "#e6f5d0"
            ],
            [
             0.7,
             "#b8e186"
            ],
            [
             0.8,
             "#7fbc41"
            ],
            [
             0.9,
             "#4d9221"
            ],
            [
             1,
             "#276419"
            ]
           ],
           "sequential": [
            [
             0,
             "#0d0887"
            ],
            [
             0.1111111111111111,
             "#46039f"
            ],
            [
             0.2222222222222222,
             "#7201a8"
            ],
            [
             0.3333333333333333,
             "#9c179e"
            ],
            [
             0.4444444444444444,
             "#bd3786"
            ],
            [
             0.5555555555555556,
             "#d8576b"
            ],
            [
             0.6666666666666666,
             "#ed7953"
            ],
            [
             0.7777777777777778,
             "#fb9f3a"
            ],
            [
             0.8888888888888888,
             "#fdca26"
            ],
            [
             1,
             "#f0f921"
            ]
           ],
           "sequentialminus": [
            [
             0,
             "#0d0887"
            ],
            [
             0.1111111111111111,
             "#46039f"
            ],
            [
             0.2222222222222222,
             "#7201a8"
            ],
            [
             0.3333333333333333,
             "#9c179e"
            ],
            [
             0.4444444444444444,
             "#bd3786"
            ],
            [
             0.5555555555555556,
             "#d8576b"
            ],
            [
             0.6666666666666666,
             "#ed7953"
            ],
            [
             0.7777777777777778,
             "#fb9f3a"
            ],
            [
             0.8888888888888888,
             "#fdca26"
            ],
            [
             1,
             "#f0f921"
            ]
           ]
          },
          "colorway": [
           "#636efa",
           "#EF553B",
           "#00cc96",
           "#ab63fa",
           "#FFA15A",
           "#19d3f3",
           "#FF6692",
           "#B6E880",
           "#FF97FF",
           "#FECB52"
          ],
          "font": {
           "color": "#2a3f5f"
          },
          "geo": {
           "bgcolor": "white",
           "lakecolor": "white",
           "landcolor": "#E5ECF6",
           "showlakes": true,
           "showland": true,
           "subunitcolor": "white"
          },
          "hoverlabel": {
           "align": "left"
          },
          "hovermode": "closest",
          "mapbox": {
           "style": "light"
          },
          "paper_bgcolor": "white",
          "plot_bgcolor": "#E5ECF6",
          "polar": {
           "angularaxis": {
            "gridcolor": "white",
            "linecolor": "white",
            "ticks": ""
           },
           "bgcolor": "#E5ECF6",
           "radialaxis": {
            "gridcolor": "white",
            "linecolor": "white",
            "ticks": ""
           }
          },
          "scene": {
           "xaxis": {
            "backgroundcolor": "#E5ECF6",
            "gridcolor": "white",
            "gridwidth": 2,
            "linecolor": "white",
            "showbackground": true,
            "ticks": "",
            "zerolinecolor": "white"
           },
           "yaxis": {
            "backgroundcolor": "#E5ECF6",
            "gridcolor": "white",
            "gridwidth": 2,
            "linecolor": "white",
            "showbackground": true,
            "ticks": "",
            "zerolinecolor": "white"
           },
           "zaxis": {
            "backgroundcolor": "#E5ECF6",
            "gridcolor": "white",
            "gridwidth": 2,
            "linecolor": "white",
            "showbackground": true,
            "ticks": "",
            "zerolinecolor": "white"
           }
          },
          "shapedefaults": {
           "line": {
            "color": "#2a3f5f"
           }
          },
          "ternary": {
           "aaxis": {
            "gridcolor": "white",
            "linecolor": "white",
            "ticks": ""
           },
           "baxis": {
            "gridcolor": "white",
            "linecolor": "white",
            "ticks": ""
           },
           "bgcolor": "#E5ECF6",
           "caxis": {
            "gridcolor": "white",
            "linecolor": "white",
            "ticks": ""
           }
          },
          "title": {
           "x": 0.05
          },
          "xaxis": {
           "automargin": true,
           "gridcolor": "white",
           "linecolor": "white",
           "ticks": "",
           "zerolinecolor": "white",
           "zerolinewidth": 2
          },
          "yaxis": {
           "automargin": true,
           "gridcolor": "white",
           "linecolor": "white",
           "ticks": "",
           "zerolinecolor": "white",
           "zerolinewidth": 2
          }
         }
        }
       }
      },
      "text/html": [
       "<div>\n",
       "        \n",
       "        \n",
       "            <div id=\"e3849d0b-adb1-4883-9415-25bee90658a1\" class=\"plotly-graph-div\" style=\"height:600px; width:100%;\"></div>\n",
       "            <script type=\"text/javascript\">\n",
       "                require([\"plotly\"], function(Plotly) {\n",
       "                    window.PLOTLYENV=window.PLOTLYENV || {};\n",
       "                    \n",
       "                if (document.getElementById(\"e3849d0b-adb1-4883-9415-25bee90658a1\")) {\n",
       "                    Plotly.newPlot(\n",
       "                        'e3849d0b-adb1-4883-9415-25bee90658a1',\n",
       "                        [{\"hoverlabel\": {\"namelength\": 0}, \"hovertemplate\": \"PostOp-SNL=%{x}<br>PreOp-SNL=%{y}<br>ImplantLeft=%{marker.color}\", \"legendgroup\": \"\", \"marker\": {\"color\": [275, 275, 275, 275, 300, 300, 300, 300, 300, 325, 325, 325, 325, 325, 325, 325, 325, 325, 325, 325, 325, 325, 350, 350, 350, 350, 350, 350, 350, 350, 350, 350, 350, 350, 350, 350, 375, 375, 375, 375, 375, 400, 275, 325, 300, 325, 350, 450, 350, 350, 325, 325, 275, 275, 275, 375, 350, 375, 275, 400, 350, 350, 300, 350, 350, 375, 300, 275, 375, 250, 275, 300, 400, 375, 375, 325, 375, 325, 325, 375, 300, 250, 375, 250, 300, 325, 325, 325, 350, 375, 325, 325, 350, 350, 400, 325, 375, 325, 325, 375, 375, 325, 325, 345, 325, 300, 330, 325, 275, 275, 350, 325, 375, 250, 375, 350, 300, 300, 325, 325, 275, 350, 325, 350, 250, 325, 300, 350, 300, 325, 325, 275, 325, 375, 225, 350, 250, 375, 325, 350, 275, 300, 350, 275], \"coloraxis\": \"coloraxis\", \"symbol\": \"circle\"}, \"mode\": \"markers\", \"name\": \"\", \"scene\": \"scene\", \"showlegend\": false, \"type\": \"scatter3d\", \"x\": [16.5, 20.0, 17.0, 18.0, 18.5, 18.0, 16.5, 18.0, 18.5, 17.0, 20.0, 20.0, 18.0, 18.0, 19.0, 18.0, 18.5, 19.0, 18.0, 19.0, 16.5, 18.0, 21.5, 17.5, 20.0, 18.5, 18.5, 20.5, 15.5, 18.0, 18.5, 20.0, 20.0, 21.5, 21.0, 19.0, 17.0, 19.0, 21.5, 17.5, 20.0, 21.0, 20.0, 20.0, 20.0, 16.0, 20.5, 20.0, 19.5, 18.0, 20.5, 20.0, 18.0, 18.0, 18.0, 17.0, 16.0, 19.0, 18.0, 19.0, 17.0, 19.0, 20.0, 19.0, 19.0, 19.0, 19.0, 19.5, 21.5, 17.0, 18.5, 19.0, 19.0, 20.5, 21.0, 18.0, 18.0, 19.5, 19.0, 18.5, 22.5, 19.5, 17.5, 19.0, 15.5, 19.0, 21.0, 19.5, 18.0, 20.0, 20.5, 20.5, 16.5, 19.0, 21.0, 17.5, 20.5, 18.0, 20.0, 18.0, 19.5, 18.0, 19.0, 22.5, 19.0, 18.5, 19.0, 19.5, 16.5, 20.0, 19.5, 19.0, 22.5, 18.0, 18.0, 18.5, 19.0, 18.5, 19.0, 20.0, 18.5, 21.0, 17.0, 21.0, 18.0, 18.5, 17.0, 22.0, 19.0, 22.5, 19.0, 18.5, 20.5, 19.5, 18.0, 21.0, 18.0, 21.5, 18.5, 22.0, 18.5, 17.5, 17.5, 22.0], \"y\": [15.0, 18.5, 16.0, 16.0, 17.5, 17.0, 15.5, 17.0, 17.0, 16.5, 18.5, 19.0, 16.5, 16.5, 17.5, 16.5, 16.5, 17.5, 16.5, 18.5, 15.0, 16.5, 19.5, 16.0, 17.5, 16.0, 18.5, 18.5, 14.5, 16.0, 16.5, 18.0, 18.0, 19.0, 19.5, 17.5, 15.0, 18.5, 20.5, 15.0, 18.0, 20.0, 18.5, 19.0, 18.5, 15.0, 20.0, 20.0, 16.5, 16.5, 18.0, 19.0, 17.5, 16.5, 16.0, 15.5, 14.5, 19.0, 17.0, 18.0, 15.5, 18.0, 19.0, 17.5, 16.0, 17.0, 17.0, 17.5, 19.5, 16.5, 17.5, 18.5, 18.0, 19.0, 19.0, 16.5, 17.0, 18.5, 17.5, 17.0, 20.0, 18.5, 17.0, 17.0, 15.0, 17.5, 19.5, 17.0, 16.5, 18.0, 18.0, 18.3, 16.5, 17.0, 20.5, 17.0, 20.5, 16.5, 17.5, 16.5, 19.0, 17.5, 17.5, 21.5, 17.5, 18.5, 18.5, 17.0, 16.5, 18.5, 18.5, 18.0, 22.0, 17.0, 17.0, 18.5, 17.5, 17.5, 18.5, 18.0, 17.0, 20.0, 16.0, 19.0, 16.5, 17.0, 15.5, 20.5, 16.5, 21.0, 18.0, 18.0, 18.5, 18.0, 17.0, 20.0, 16.0, 20.5, 16.5, 21.0, 18.0, 16.0, 16.0, 20.0], \"z\": [275, 275, 275, 275, 300, 300, 300, 300, 300, 325, 325, 325, 325, 325, 325, 325, 325, 325, 325, 325, 325, 325, 350, 350, 350, 350, 350, 350, 350, 350, 350, 350, 350, 350, 350, 350, 375, 375, 375, 375, 375, 400, 275, 325, 300, 325, 350, 450, 350, 350, 325, 325, 275, 275, 275, 375, 350, 375, 275, 400, 350, 350, 300, 350, 350, 375, 300, 275, 375, 250, 275, 300, 400, 375, 375, 325, 375, 325, 325, 375, 300, 250, 375, 250, 300, 325, 325, 325, 350, 375, 325, 325, 350, 350, 400, 325, 375, 325, 325, 375, 375, 325, 325, 345, 325, 300, 330, 325, 275, 275, 350, 325, 375, 250, 375, 350, 300, 300, 325, 325, 275, 350, 325, 350, 250, 325, 300, 350, 300, 325, 325, 275, 325, 375, 225, 350, 250, 375, 325, 350, 275, 300, 350, 275]}],\n",
       "                        {\"coloraxis\": {\"colorbar\": {\"title\": {\"text\": \"ImplantLeft\"}}, \"colorscale\": [[0.0, \"#0d0887\"], [0.1111111111111111, \"#46039f\"], [0.2222222222222222, \"#7201a8\"], [0.3333333333333333, \"#9c179e\"], [0.4444444444444444, \"#bd3786\"], [0.5555555555555556, \"#d8576b\"], [0.6666666666666666, \"#ed7953\"], [0.7777777777777778, \"#fb9f3a\"], [0.8888888888888888, \"#fdca26\"], [1.0, \"#f0f921\"]]}, \"height\": 600, \"legend\": {\"tracegroupgap\": 0}, \"margin\": {\"t\": 60}, \"scene\": {\"domain\": {\"x\": [0.0, 0.98], \"y\": [0.0, 1.0]}, \"xaxis\": {\"title\": {\"text\": \"PostOp-SNL\"}}, \"yaxis\": {\"title\": {\"text\": \"PreOp-SNL\"}}, \"zaxis\": {\"title\": {\"text\": \"ImplantLeft\"}}}, \"template\": {\"data\": {\"bar\": [{\"error_x\": {\"color\": \"#2a3f5f\"}, \"error_y\": {\"color\": \"#2a3f5f\"}, \"marker\": {\"line\": {\"color\": \"#E5ECF6\", \"width\": 0.5}}, \"type\": \"bar\"}], \"barpolar\": [{\"marker\": {\"line\": {\"color\": \"#E5ECF6\", \"width\": 0.5}}, \"type\": \"barpolar\"}], \"carpet\": [{\"aaxis\": {\"endlinecolor\": \"#2a3f5f\", \"gridcolor\": \"white\", \"linecolor\": \"white\", \"minorgridcolor\": \"white\", \"startlinecolor\": \"#2a3f5f\"}, \"baxis\": {\"endlinecolor\": \"#2a3f5f\", \"gridcolor\": \"white\", \"linecolor\": \"white\", \"minorgridcolor\": \"white\", \"startlinecolor\": \"#2a3f5f\"}, \"type\": \"carpet\"}], \"choropleth\": [{\"colorbar\": {\"outlinewidth\": 0, \"ticks\": \"\"}, \"type\": \"choropleth\"}], \"contour\": [{\"colorbar\": {\"outlinewidth\": 0, \"ticks\": \"\"}, \"colorscale\": [[0.0, \"#0d0887\"], [0.1111111111111111, \"#46039f\"], [0.2222222222222222, \"#7201a8\"], [0.3333333333333333, \"#9c179e\"], [0.4444444444444444, \"#bd3786\"], [0.5555555555555556, \"#d8576b\"], [0.6666666666666666, \"#ed7953\"], [0.7777777777777778, \"#fb9f3a\"], [0.8888888888888888, \"#fdca26\"], [1.0, \"#f0f921\"]], \"type\": \"contour\"}], \"contourcarpet\": [{\"colorbar\": {\"outlinewidth\": 0, \"ticks\": \"\"}, \"type\": \"contourcarpet\"}], \"heatmap\": [{\"colorbar\": {\"outlinewidth\": 0, \"ticks\": \"\"}, \"colorscale\": [[0.0, \"#0d0887\"], [0.1111111111111111, \"#46039f\"], [0.2222222222222222, \"#7201a8\"], [0.3333333333333333, \"#9c179e\"], [0.4444444444444444, \"#bd3786\"], [0.5555555555555556, \"#d8576b\"], [0.6666666666666666, \"#ed7953\"], [0.7777777777777778, \"#fb9f3a\"], [0.8888888888888888, \"#fdca26\"], [1.0, \"#f0f921\"]], \"type\": \"heatmap\"}], \"heatmapgl\": [{\"colorbar\": {\"outlinewidth\": 0, \"ticks\": \"\"}, \"colorscale\": [[0.0, \"#0d0887\"], [0.1111111111111111, \"#46039f\"], [0.2222222222222222, \"#7201a8\"], [0.3333333333333333, \"#9c179e\"], [0.4444444444444444, \"#bd3786\"], [0.5555555555555556, \"#d8576b\"], [0.6666666666666666, \"#ed7953\"], [0.7777777777777778, \"#fb9f3a\"], [0.8888888888888888, \"#fdca26\"], [1.0, \"#f0f921\"]], \"type\": \"heatmapgl\"}], \"histogram\": [{\"marker\": {\"colorbar\": {\"outlinewidth\": 0, \"ticks\": \"\"}}, \"type\": \"histogram\"}], \"histogram2d\": [{\"colorbar\": {\"outlinewidth\": 0, \"ticks\": \"\"}, \"colorscale\": [[0.0, \"#0d0887\"], [0.1111111111111111, \"#46039f\"], [0.2222222222222222, \"#7201a8\"], [0.3333333333333333, \"#9c179e\"], [0.4444444444444444, \"#bd3786\"], [0.5555555555555556, \"#d8576b\"], [0.6666666666666666, \"#ed7953\"], [0.7777777777777778, \"#fb9f3a\"], [0.8888888888888888, \"#fdca26\"], [1.0, \"#f0f921\"]], \"type\": \"histogram2d\"}], \"histogram2dcontour\": [{\"colorbar\": {\"outlinewidth\": 0, \"ticks\": \"\"}, \"colorscale\": [[0.0, \"#0d0887\"], [0.1111111111111111, \"#46039f\"], [0.2222222222222222, \"#7201a8\"], [0.3333333333333333, \"#9c179e\"], [0.4444444444444444, \"#bd3786\"], [0.5555555555555556, \"#d8576b\"], [0.6666666666666666, \"#ed7953\"], [0.7777777777777778, \"#fb9f3a\"], [0.8888888888888888, \"#fdca26\"], [1.0, \"#f0f921\"]], \"type\": \"histogram2dcontour\"}], \"mesh3d\": [{\"colorbar\": {\"outlinewidth\": 0, \"ticks\": \"\"}, \"type\": \"mesh3d\"}], \"parcoords\": [{\"line\": {\"colorbar\": {\"outlinewidth\": 0, \"ticks\": \"\"}}, \"type\": \"parcoords\"}], \"scatter\": [{\"marker\": {\"colorbar\": {\"outlinewidth\": 0, \"ticks\": \"\"}}, \"type\": \"scatter\"}], \"scatter3d\": [{\"line\": {\"colorbar\": {\"outlinewidth\": 0, \"ticks\": \"\"}}, \"marker\": {\"colorbar\": {\"outlinewidth\": 0, \"ticks\": \"\"}}, \"type\": \"scatter3d\"}], \"scattercarpet\": [{\"marker\": {\"colorbar\": {\"outlinewidth\": 0, \"ticks\": \"\"}}, \"type\": \"scattercarpet\"}], \"scattergeo\": [{\"marker\": {\"colorbar\": {\"outlinewidth\": 0, \"ticks\": \"\"}}, \"type\": \"scattergeo\"}], \"scattergl\": [{\"marker\": {\"colorbar\": {\"outlinewidth\": 0, \"ticks\": \"\"}}, \"type\": \"scattergl\"}], \"scattermapbox\": [{\"marker\": {\"colorbar\": {\"outlinewidth\": 0, \"ticks\": \"\"}}, \"type\": \"scattermapbox\"}], \"scatterpolar\": [{\"marker\": {\"colorbar\": {\"outlinewidth\": 0, \"ticks\": \"\"}}, \"type\": \"scatterpolar\"}], \"scatterpolargl\": [{\"marker\": {\"colorbar\": {\"outlinewidth\": 0, \"ticks\": \"\"}}, \"type\": \"scatterpolargl\"}], \"scatterternary\": [{\"marker\": {\"colorbar\": {\"outlinewidth\": 0, \"ticks\": \"\"}}, \"type\": \"scatterternary\"}], \"surface\": [{\"colorbar\": {\"outlinewidth\": 0, \"ticks\": \"\"}, \"colorscale\": [[0.0, \"#0d0887\"], [0.1111111111111111, \"#46039f\"], [0.2222222222222222, \"#7201a8\"], [0.3333333333333333, \"#9c179e\"], [0.4444444444444444, \"#bd3786\"], [0.5555555555555556, \"#d8576b\"], [0.6666666666666666, \"#ed7953\"], [0.7777777777777778, \"#fb9f3a\"], [0.8888888888888888, \"#fdca26\"], [1.0, \"#f0f921\"]], \"type\": \"surface\"}], \"table\": [{\"cells\": {\"fill\": {\"color\": \"#EBF0F8\"}, \"line\": {\"color\": \"white\"}}, \"header\": {\"fill\": {\"color\": \"#C8D4E3\"}, \"line\": {\"color\": \"white\"}}, \"type\": \"table\"}]}, \"layout\": {\"annotationdefaults\": {\"arrowcolor\": \"#2a3f5f\", \"arrowhead\": 0, \"arrowwidth\": 1}, \"colorscale\": {\"diverging\": [[0, \"#8e0152\"], [0.1, \"#c51b7d\"], [0.2, \"#de77ae\"], [0.3, \"#f1b6da\"], [0.4, \"#fde0ef\"], [0.5, \"#f7f7f7\"], [0.6, \"#e6f5d0\"], [0.7, \"#b8e186\"], [0.8, \"#7fbc41\"], [0.9, \"#4d9221\"], [1, \"#276419\"]], \"sequential\": [[0.0, \"#0d0887\"], [0.1111111111111111, \"#46039f\"], [0.2222222222222222, \"#7201a8\"], [0.3333333333333333, \"#9c179e\"], [0.4444444444444444, \"#bd3786\"], [0.5555555555555556, \"#d8576b\"], [0.6666666666666666, \"#ed7953\"], [0.7777777777777778, \"#fb9f3a\"], [0.8888888888888888, \"#fdca26\"], [1.0, \"#f0f921\"]], \"sequentialminus\": [[0.0, \"#0d0887\"], [0.1111111111111111, \"#46039f\"], [0.2222222222222222, \"#7201a8\"], [0.3333333333333333, \"#9c179e\"], [0.4444444444444444, \"#bd3786\"], [0.5555555555555556, \"#d8576b\"], [0.6666666666666666, \"#ed7953\"], [0.7777777777777778, \"#fb9f3a\"], [0.8888888888888888, \"#fdca26\"], [1.0, \"#f0f921\"]]}, \"colorway\": [\"#636efa\", \"#EF553B\", \"#00cc96\", \"#ab63fa\", \"#FFA15A\", \"#19d3f3\", \"#FF6692\", \"#B6E880\", \"#FF97FF\", \"#FECB52\"], \"font\": {\"color\": \"#2a3f5f\"}, \"geo\": {\"bgcolor\": \"white\", \"lakecolor\": \"white\", \"landcolor\": \"#E5ECF6\", \"showlakes\": true, \"showland\": true, \"subunitcolor\": \"white\"}, \"hoverlabel\": {\"align\": \"left\"}, \"hovermode\": \"closest\", \"mapbox\": {\"style\": \"light\"}, \"paper_bgcolor\": \"white\", \"plot_bgcolor\": \"#E5ECF6\", \"polar\": {\"angularaxis\": {\"gridcolor\": \"white\", \"linecolor\": \"white\", \"ticks\": \"\"}, \"bgcolor\": \"#E5ECF6\", \"radialaxis\": {\"gridcolor\": \"white\", \"linecolor\": \"white\", \"ticks\": \"\"}}, \"scene\": {\"xaxis\": {\"backgroundcolor\": \"#E5ECF6\", \"gridcolor\": \"white\", \"gridwidth\": 2, \"linecolor\": \"white\", \"showbackground\": true, \"ticks\": \"\", \"zerolinecolor\": \"white\"}, \"yaxis\": {\"backgroundcolor\": \"#E5ECF6\", \"gridcolor\": \"white\", \"gridwidth\": 2, \"linecolor\": \"white\", \"showbackground\": true, \"ticks\": \"\", \"zerolinecolor\": \"white\"}, \"zaxis\": {\"backgroundcolor\": \"#E5ECF6\", \"gridcolor\": \"white\", \"gridwidth\": 2, \"linecolor\": \"white\", \"showbackground\": true, \"ticks\": \"\", \"zerolinecolor\": \"white\"}}, \"shapedefaults\": {\"line\": {\"color\": \"#2a3f5f\"}}, \"ternary\": {\"aaxis\": {\"gridcolor\": \"white\", \"linecolor\": \"white\", \"ticks\": \"\"}, \"baxis\": {\"gridcolor\": \"white\", \"linecolor\": \"white\", \"ticks\": \"\"}, \"bgcolor\": \"#E5ECF6\", \"caxis\": {\"gridcolor\": \"white\", \"linecolor\": \"white\", \"ticks\": \"\"}}, \"title\": {\"x\": 0.05}, \"xaxis\": {\"automargin\": true, \"gridcolor\": \"white\", \"linecolor\": \"white\", \"ticks\": \"\", \"zerolinecolor\": \"white\", \"zerolinewidth\": 2}, \"yaxis\": {\"automargin\": true, \"gridcolor\": \"white\", \"linecolor\": \"white\", \"ticks\": \"\", \"zerolinecolor\": \"white\", \"zerolinewidth\": 2}}}},\n",
       "                        {\"responsive\": true}\n",
       "                    ).then(function(){\n",
       "                            \n",
       "var gd = document.getElementById('e3849d0b-adb1-4883-9415-25bee90658a1');\n",
       "var x = new MutationObserver(function (mutations, observer) {{\n",
       "        var display = window.getComputedStyle(gd).display;\n",
       "        if (!display || display === 'none') {{\n",
       "            console.log([gd, 'removed!']);\n",
       "            Plotly.purge(gd);\n",
       "            observer.disconnect();\n",
       "        }}\n",
       "}});\n",
       "\n",
       "// Listen for the removal of the full notebook cells\n",
       "var notebookContainer = gd.closest('#notebook-container');\n",
       "if (notebookContainer) {{\n",
       "    x.observe(notebookContainer, {childList: true});\n",
       "}}\n",
       "\n",
       "// Listen for the clearing of the current output cell\n",
       "var outputEl = gd.closest('.output');\n",
       "if (outputEl) {{\n",
       "    x.observe(outputEl, {childList: true});\n",
       "}}\n",
       "\n",
       "                        })\n",
       "                };\n",
       "                });\n",
       "            </script>\n",
       "        </div>"
      ]
     },
     "metadata": {},
     "output_type": "display_data"
    }
   ],
   "source": [
    "fig = px.scatter_3d(df, x='PostOp-SNL', y='PreOp-SNL', z='ImplantLeft', color='ImplantLeft')\n",
    "fig.show()"
   ]
  },
  {
   "cell_type": "code",
   "execution_count": 29,
   "metadata": {},
   "outputs": [
    {
     "data": {
      "application/vnd.plotly.v1+json": {
       "config": {
        "plotlyServerURL": "https://plot.ly"
       },
       "data": [
        {
         "hoverlabel": {
          "namelength": 0
         },
         "hovertemplate": "PostOp-SNL=%{x}<br>PreOp-SNL=%{y}<br>PreOp-CNL=%{z}<br>ImplantLeft=%{marker.color}",
         "legendgroup": "",
         "marker": {
          "color": [
           275,
           275,
           275,
           275,
           300,
           300,
           300,
           300,
           300,
           325,
           325,
           325,
           325,
           325,
           325,
           325,
           325,
           325,
           325,
           325,
           325,
           325,
           350,
           350,
           350,
           350,
           350,
           350,
           350,
           350,
           350,
           350,
           350,
           350,
           350,
           350,
           375,
           375,
           375,
           375,
           375,
           400,
           275,
           325,
           300,
           325,
           350,
           450,
           350,
           350,
           325,
           325,
           275,
           275,
           275,
           375,
           350,
           375,
           275,
           400,
           350,
           350,
           300,
           350,
           350,
           375,
           300,
           275,
           375,
           250,
           275,
           300,
           400,
           375,
           375,
           325,
           375,
           325,
           325,
           375,
           300,
           250,
           375,
           250,
           300,
           325,
           325,
           325,
           350,
           375,
           325,
           325,
           350,
           350,
           400,
           325,
           375,
           325,
           325,
           375,
           375,
           325,
           325,
           345,
           325,
           300,
           330,
           325,
           275,
           275,
           350,
           325,
           375,
           250,
           375,
           350,
           300,
           300,
           325,
           325,
           275,
           350,
           325,
           350,
           250,
           325,
           300,
           350,
           300,
           325,
           325,
           275,
           325,
           375,
           225,
           350,
           250,
           375,
           325,
           350,
           275,
           300,
           350,
           275
          ],
          "coloraxis": "coloraxis",
          "symbol": "circle"
         },
         "mode": "markers",
         "name": "",
         "scene": "scene",
         "showlegend": false,
         "type": "scatter3d",
         "x": [
          16.5,
          20,
          17,
          18,
          18.5,
          18,
          16.5,
          18,
          18.5,
          17,
          20,
          20,
          18,
          18,
          19,
          18,
          18.5,
          19,
          18,
          19,
          16.5,
          18,
          21.5,
          17.5,
          20,
          18.5,
          18.5,
          20.5,
          15.5,
          18,
          18.5,
          20,
          20,
          21.5,
          21,
          19,
          17,
          19,
          21.5,
          17.5,
          20,
          21,
          20,
          20,
          20,
          16,
          20.5,
          20,
          19.5,
          18,
          20.5,
          20,
          18,
          18,
          18,
          17,
          16,
          19,
          18,
          19,
          17,
          19,
          20,
          19,
          19,
          19,
          19,
          19.5,
          21.5,
          17,
          18.5,
          19,
          19,
          20.5,
          21,
          18,
          18,
          19.5,
          19,
          18.5,
          22.5,
          19.5,
          17.5,
          19,
          15.5,
          19,
          21,
          19.5,
          18,
          20,
          20.5,
          20.5,
          16.5,
          19,
          21,
          17.5,
          20.5,
          18,
          20,
          18,
          19.5,
          18,
          19,
          22.5,
          19,
          18.5,
          19,
          19.5,
          16.5,
          20,
          19.5,
          19,
          22.5,
          18,
          18,
          18.5,
          19,
          18.5,
          19,
          20,
          18.5,
          21,
          17,
          21,
          18,
          18.5,
          17,
          22,
          19,
          22.5,
          19,
          18.5,
          20.5,
          19.5,
          18,
          21,
          18,
          21.5,
          18.5,
          22,
          18.5,
          17.5,
          17.5,
          22
         ],
         "y": [
          15,
          18.5,
          16,
          16,
          17.5,
          17,
          15.5,
          17,
          17,
          16.5,
          18.5,
          19,
          16.5,
          16.5,
          17.5,
          16.5,
          16.5,
          17.5,
          16.5,
          18.5,
          15,
          16.5,
          19.5,
          16,
          17.5,
          16,
          18.5,
          18.5,
          14.5,
          16,
          16.5,
          18,
          18,
          19,
          19.5,
          17.5,
          15,
          18.5,
          20.5,
          15,
          18,
          20,
          18.5,
          19,
          18.5,
          15,
          20,
          20,
          16.5,
          16.5,
          18,
          19,
          17.5,
          16.5,
          16,
          15.5,
          14.5,
          19,
          17,
          18,
          15.5,
          18,
          19,
          17.5,
          16,
          17,
          17,
          17.5,
          19.5,
          16.5,
          17.5,
          18.5,
          18,
          19,
          19,
          16.5,
          17,
          18.5,
          17.5,
          17,
          20,
          18.5,
          17,
          17,
          15,
          17.5,
          19.5,
          17,
          16.5,
          18,
          18,
          18.3,
          16.5,
          17,
          20.5,
          17,
          20.5,
          16.5,
          17.5,
          16.5,
          19,
          17.5,
          17.5,
          21.5,
          17.5,
          18.5,
          18.5,
          17,
          16.5,
          18.5,
          18.5,
          18,
          22,
          17,
          17,
          18.5,
          17.5,
          17.5,
          18.5,
          18,
          17,
          20,
          16,
          19,
          16.5,
          17,
          15.5,
          20.5,
          16.5,
          21,
          18,
          18,
          18.5,
          18,
          17,
          20,
          16,
          20.5,
          16.5,
          21,
          18,
          16,
          16,
          20
         ],
         "z": [
          13.5,
          17.5,
          13.5,
          14.5,
          16.5,
          16,
          14,
          14.5,
          15,
          15.5,
          16.5,
          17.5,
          15,
          15,
          16,
          15,
          14,
          15.5,
          15,
          17,
          12.5,
          15,
          18,
          13.5,
          15,
          14,
          16.5,
          16.5,
          13,
          15,
          14.5,
          16.5,
          16,
          17.5,
          18,
          15.5,
          13,
          16.5,
          19,
          13.5,
          16,
          18.5,
          17,
          18.5,
          16.5,
          13.5,
          18,
          18,
          15.5,
          16,
          15.5,
          17.5,
          16,
          14,
          14.5,
          14.5,
          13,
          17,
          14.5,
          15.5,
          14,
          16,
          17,
          17,
          15,
          15.5,
          15.5,
          16,
          18,
          14,
          15.5,
          16.5,
          16,
          17,
          17.5,
          14.5,
          15,
          17,
          15.5,
          15.5,
          18.5,
          16.5,
          15.5,
          15.5,
          13,
          15.5,
          18,
          15,
          14.5,
          16,
          16.5,
          17,
          14.5,
          15,
          19.5,
          15,
          19,
          15,
          16,
          14.5,
          17,
          15.5,
          15.5,
          20.5,
          16,
          17,
          17,
          15,
          14.5,
          16.5,
          16,
          16.5,
          20.5,
          15.3,
          15.5,
          17,
          16,
          16,
          17.5,
          16,
          15.5,
          19,
          14,
          17,
          15,
          15.5,
          14,
          18,
          14.5,
          19.5,
          16.5,
          16,
          16.5,
          16,
          15.5,
          18.5,
          14.5,
          19,
          14.5,
          19,
          16,
          14,
          14,
          18
         ]
        }
       ],
       "layout": {
        "coloraxis": {
         "colorbar": {
          "title": {
           "text": "ImplantLeft"
          }
         },
         "colorscale": [
          [
           0,
           "#0d0887"
          ],
          [
           0.1111111111111111,
           "#46039f"
          ],
          [
           0.2222222222222222,
           "#7201a8"
          ],
          [
           0.3333333333333333,
           "#9c179e"
          ],
          [
           0.4444444444444444,
           "#bd3786"
          ],
          [
           0.5555555555555556,
           "#d8576b"
          ],
          [
           0.6666666666666666,
           "#ed7953"
          ],
          [
           0.7777777777777778,
           "#fb9f3a"
          ],
          [
           0.8888888888888888,
           "#fdca26"
          ],
          [
           1,
           "#f0f921"
          ]
         ]
        },
        "height": 600,
        "legend": {
         "tracegroupgap": 0
        },
        "margin": {
         "t": 60
        },
        "scene": {
         "domain": {
          "x": [
           0,
           0.98
          ],
          "y": [
           0,
           1
          ]
         },
         "xaxis": {
          "title": {
           "text": "PostOp-SNL"
          }
         },
         "yaxis": {
          "title": {
           "text": "PreOp-SNL"
          }
         },
         "zaxis": {
          "title": {
           "text": "PreOp-CNL"
          }
         }
        },
        "template": {
         "data": {
          "bar": [
           {
            "error_x": {
             "color": "#2a3f5f"
            },
            "error_y": {
             "color": "#2a3f5f"
            },
            "marker": {
             "line": {
              "color": "#E5ECF6",
              "width": 0.5
             }
            },
            "type": "bar"
           }
          ],
          "barpolar": [
           {
            "marker": {
             "line": {
              "color": "#E5ECF6",
              "width": 0.5
             }
            },
            "type": "barpolar"
           }
          ],
          "carpet": [
           {
            "aaxis": {
             "endlinecolor": "#2a3f5f",
             "gridcolor": "white",
             "linecolor": "white",
             "minorgridcolor": "white",
             "startlinecolor": "#2a3f5f"
            },
            "baxis": {
             "endlinecolor": "#2a3f5f",
             "gridcolor": "white",
             "linecolor": "white",
             "minorgridcolor": "white",
             "startlinecolor": "#2a3f5f"
            },
            "type": "carpet"
           }
          ],
          "choropleth": [
           {
            "colorbar": {
             "outlinewidth": 0,
             "ticks": ""
            },
            "type": "choropleth"
           }
          ],
          "contour": [
           {
            "colorbar": {
             "outlinewidth": 0,
             "ticks": ""
            },
            "colorscale": [
             [
              0,
              "#0d0887"
             ],
             [
              0.1111111111111111,
              "#46039f"
             ],
             [
              0.2222222222222222,
              "#7201a8"
             ],
             [
              0.3333333333333333,
              "#9c179e"
             ],
             [
              0.4444444444444444,
              "#bd3786"
             ],
             [
              0.5555555555555556,
              "#d8576b"
             ],
             [
              0.6666666666666666,
              "#ed7953"
             ],
             [
              0.7777777777777778,
              "#fb9f3a"
             ],
             [
              0.8888888888888888,
              "#fdca26"
             ],
             [
              1,
              "#f0f921"
             ]
            ],
            "type": "contour"
           }
          ],
          "contourcarpet": [
           {
            "colorbar": {
             "outlinewidth": 0,
             "ticks": ""
            },
            "type": "contourcarpet"
           }
          ],
          "heatmap": [
           {
            "colorbar": {
             "outlinewidth": 0,
             "ticks": ""
            },
            "colorscale": [
             [
              0,
              "#0d0887"
             ],
             [
              0.1111111111111111,
              "#46039f"
             ],
             [
              0.2222222222222222,
              "#7201a8"
             ],
             [
              0.3333333333333333,
              "#9c179e"
             ],
             [
              0.4444444444444444,
              "#bd3786"
             ],
             [
              0.5555555555555556,
              "#d8576b"
             ],
             [
              0.6666666666666666,
              "#ed7953"
             ],
             [
              0.7777777777777778,
              "#fb9f3a"
             ],
             [
              0.8888888888888888,
              "#fdca26"
             ],
             [
              1,
              "#f0f921"
             ]
            ],
            "type": "heatmap"
           }
          ],
          "heatmapgl": [
           {
            "colorbar": {
             "outlinewidth": 0,
             "ticks": ""
            },
            "colorscale": [
             [
              0,
              "#0d0887"
             ],
             [
              0.1111111111111111,
              "#46039f"
             ],
             [
              0.2222222222222222,
              "#7201a8"
             ],
             [
              0.3333333333333333,
              "#9c179e"
             ],
             [
              0.4444444444444444,
              "#bd3786"
             ],
             [
              0.5555555555555556,
              "#d8576b"
             ],
             [
              0.6666666666666666,
              "#ed7953"
             ],
             [
              0.7777777777777778,
              "#fb9f3a"
             ],
             [
              0.8888888888888888,
              "#fdca26"
             ],
             [
              1,
              "#f0f921"
             ]
            ],
            "type": "heatmapgl"
           }
          ],
          "histogram": [
           {
            "marker": {
             "colorbar": {
              "outlinewidth": 0,
              "ticks": ""
             }
            },
            "type": "histogram"
           }
          ],
          "histogram2d": [
           {
            "colorbar": {
             "outlinewidth": 0,
             "ticks": ""
            },
            "colorscale": [
             [
              0,
              "#0d0887"
             ],
             [
              0.1111111111111111,
              "#46039f"
             ],
             [
              0.2222222222222222,
              "#7201a8"
             ],
             [
              0.3333333333333333,
              "#9c179e"
             ],
             [
              0.4444444444444444,
              "#bd3786"
             ],
             [
              0.5555555555555556,
              "#d8576b"
             ],
             [
              0.6666666666666666,
              "#ed7953"
             ],
             [
              0.7777777777777778,
              "#fb9f3a"
             ],
             [
              0.8888888888888888,
              "#fdca26"
             ],
             [
              1,
              "#f0f921"
             ]
            ],
            "type": "histogram2d"
           }
          ],
          "histogram2dcontour": [
           {
            "colorbar": {
             "outlinewidth": 0,
             "ticks": ""
            },
            "colorscale": [
             [
              0,
              "#0d0887"
             ],
             [
              0.1111111111111111,
              "#46039f"
             ],
             [
              0.2222222222222222,
              "#7201a8"
             ],
             [
              0.3333333333333333,
              "#9c179e"
             ],
             [
              0.4444444444444444,
              "#bd3786"
             ],
             [
              0.5555555555555556,
              "#d8576b"
             ],
             [
              0.6666666666666666,
              "#ed7953"
             ],
             [
              0.7777777777777778,
              "#fb9f3a"
             ],
             [
              0.8888888888888888,
              "#fdca26"
             ],
             [
              1,
              "#f0f921"
             ]
            ],
            "type": "histogram2dcontour"
           }
          ],
          "mesh3d": [
           {
            "colorbar": {
             "outlinewidth": 0,
             "ticks": ""
            },
            "type": "mesh3d"
           }
          ],
          "parcoords": [
           {
            "line": {
             "colorbar": {
              "outlinewidth": 0,
              "ticks": ""
             }
            },
            "type": "parcoords"
           }
          ],
          "scatter": [
           {
            "marker": {
             "colorbar": {
              "outlinewidth": 0,
              "ticks": ""
             }
            },
            "type": "scatter"
           }
          ],
          "scatter3d": [
           {
            "line": {
             "colorbar": {
              "outlinewidth": 0,
              "ticks": ""
             }
            },
            "marker": {
             "colorbar": {
              "outlinewidth": 0,
              "ticks": ""
             }
            },
            "type": "scatter3d"
           }
          ],
          "scattercarpet": [
           {
            "marker": {
             "colorbar": {
              "outlinewidth": 0,
              "ticks": ""
             }
            },
            "type": "scattercarpet"
           }
          ],
          "scattergeo": [
           {
            "marker": {
             "colorbar": {
              "outlinewidth": 0,
              "ticks": ""
             }
            },
            "type": "scattergeo"
           }
          ],
          "scattergl": [
           {
            "marker": {
             "colorbar": {
              "outlinewidth": 0,
              "ticks": ""
             }
            },
            "type": "scattergl"
           }
          ],
          "scattermapbox": [
           {
            "marker": {
             "colorbar": {
              "outlinewidth": 0,
              "ticks": ""
             }
            },
            "type": "scattermapbox"
           }
          ],
          "scatterpolar": [
           {
            "marker": {
             "colorbar": {
              "outlinewidth": 0,
              "ticks": ""
             }
            },
            "type": "scatterpolar"
           }
          ],
          "scatterpolargl": [
           {
            "marker": {
             "colorbar": {
              "outlinewidth": 0,
              "ticks": ""
             }
            },
            "type": "scatterpolargl"
           }
          ],
          "scatterternary": [
           {
            "marker": {
             "colorbar": {
              "outlinewidth": 0,
              "ticks": ""
             }
            },
            "type": "scatterternary"
           }
          ],
          "surface": [
           {
            "colorbar": {
             "outlinewidth": 0,
             "ticks": ""
            },
            "colorscale": [
             [
              0,
              "#0d0887"
             ],
             [
              0.1111111111111111,
              "#46039f"
             ],
             [
              0.2222222222222222,
              "#7201a8"
             ],
             [
              0.3333333333333333,
              "#9c179e"
             ],
             [
              0.4444444444444444,
              "#bd3786"
             ],
             [
              0.5555555555555556,
              "#d8576b"
             ],
             [
              0.6666666666666666,
              "#ed7953"
             ],
             [
              0.7777777777777778,
              "#fb9f3a"
             ],
             [
              0.8888888888888888,
              "#fdca26"
             ],
             [
              1,
              "#f0f921"
             ]
            ],
            "type": "surface"
           }
          ],
          "table": [
           {
            "cells": {
             "fill": {
              "color": "#EBF0F8"
             },
             "line": {
              "color": "white"
             }
            },
            "header": {
             "fill": {
              "color": "#C8D4E3"
             },
             "line": {
              "color": "white"
             }
            },
            "type": "table"
           }
          ]
         },
         "layout": {
          "annotationdefaults": {
           "arrowcolor": "#2a3f5f",
           "arrowhead": 0,
           "arrowwidth": 1
          },
          "colorscale": {
           "diverging": [
            [
             0,
             "#8e0152"
            ],
            [
             0.1,
             "#c51b7d"
            ],
            [
             0.2,
             "#de77ae"
            ],
            [
             0.3,
             "#f1b6da"
            ],
            [
             0.4,
             "#fde0ef"
            ],
            [
             0.5,
             "#f7f7f7"
            ],
            [
             0.6,
             "#e6f5d0"
            ],
            [
             0.7,
             "#b8e186"
            ],
            [
             0.8,
             "#7fbc41"
            ],
            [
             0.9,
             "#4d9221"
            ],
            [
             1,
             "#276419"
            ]
           ],
           "sequential": [
            [
             0,
             "#0d0887"
            ],
            [
             0.1111111111111111,
             "#46039f"
            ],
            [
             0.2222222222222222,
             "#7201a8"
            ],
            [
             0.3333333333333333,
             "#9c179e"
            ],
            [
             0.4444444444444444,
             "#bd3786"
            ],
            [
             0.5555555555555556,
             "#d8576b"
            ],
            [
             0.6666666666666666,
             "#ed7953"
            ],
            [
             0.7777777777777778,
             "#fb9f3a"
            ],
            [
             0.8888888888888888,
             "#fdca26"
            ],
            [
             1,
             "#f0f921"
            ]
           ],
           "sequentialminus": [
            [
             0,
             "#0d0887"
            ],
            [
             0.1111111111111111,
             "#46039f"
            ],
            [
             0.2222222222222222,
             "#7201a8"
            ],
            [
             0.3333333333333333,
             "#9c179e"
            ],
            [
             0.4444444444444444,
             "#bd3786"
            ],
            [
             0.5555555555555556,
             "#d8576b"
            ],
            [
             0.6666666666666666,
             "#ed7953"
            ],
            [
             0.7777777777777778,
             "#fb9f3a"
            ],
            [
             0.8888888888888888,
             "#fdca26"
            ],
            [
             1,
             "#f0f921"
            ]
           ]
          },
          "colorway": [
           "#636efa",
           "#EF553B",
           "#00cc96",
           "#ab63fa",
           "#FFA15A",
           "#19d3f3",
           "#FF6692",
           "#B6E880",
           "#FF97FF",
           "#FECB52"
          ],
          "font": {
           "color": "#2a3f5f"
          },
          "geo": {
           "bgcolor": "white",
           "lakecolor": "white",
           "landcolor": "#E5ECF6",
           "showlakes": true,
           "showland": true,
           "subunitcolor": "white"
          },
          "hoverlabel": {
           "align": "left"
          },
          "hovermode": "closest",
          "mapbox": {
           "style": "light"
          },
          "paper_bgcolor": "white",
          "plot_bgcolor": "#E5ECF6",
          "polar": {
           "angularaxis": {
            "gridcolor": "white",
            "linecolor": "white",
            "ticks": ""
           },
           "bgcolor": "#E5ECF6",
           "radialaxis": {
            "gridcolor": "white",
            "linecolor": "white",
            "ticks": ""
           }
          },
          "scene": {
           "xaxis": {
            "backgroundcolor": "#E5ECF6",
            "gridcolor": "white",
            "gridwidth": 2,
            "linecolor": "white",
            "showbackground": true,
            "ticks": "",
            "zerolinecolor": "white"
           },
           "yaxis": {
            "backgroundcolor": "#E5ECF6",
            "gridcolor": "white",
            "gridwidth": 2,
            "linecolor": "white",
            "showbackground": true,
            "ticks": "",
            "zerolinecolor": "white"
           },
           "zaxis": {
            "backgroundcolor": "#E5ECF6",
            "gridcolor": "white",
            "gridwidth": 2,
            "linecolor": "white",
            "showbackground": true,
            "ticks": "",
            "zerolinecolor": "white"
           }
          },
          "shapedefaults": {
           "line": {
            "color": "#2a3f5f"
           }
          },
          "ternary": {
           "aaxis": {
            "gridcolor": "white",
            "linecolor": "white",
            "ticks": ""
           },
           "baxis": {
            "gridcolor": "white",
            "linecolor": "white",
            "ticks": ""
           },
           "bgcolor": "#E5ECF6",
           "caxis": {
            "gridcolor": "white",
            "linecolor": "white",
            "ticks": ""
           }
          },
          "title": {
           "x": 0.05
          },
          "xaxis": {
           "automargin": true,
           "gridcolor": "white",
           "linecolor": "white",
           "ticks": "",
           "zerolinecolor": "white",
           "zerolinewidth": 2
          },
          "yaxis": {
           "automargin": true,
           "gridcolor": "white",
           "linecolor": "white",
           "ticks": "",
           "zerolinecolor": "white",
           "zerolinewidth": 2
          }
         }
        }
       }
      },
      "text/html": [
       "<div>\n",
       "        \n",
       "        \n",
       "            <div id=\"999269ee-c8bf-4a34-a557-caceab768769\" class=\"plotly-graph-div\" style=\"height:600px; width:100%;\"></div>\n",
       "            <script type=\"text/javascript\">\n",
       "                require([\"plotly\"], function(Plotly) {\n",
       "                    window.PLOTLYENV=window.PLOTLYENV || {};\n",
       "                    \n",
       "                if (document.getElementById(\"999269ee-c8bf-4a34-a557-caceab768769\")) {\n",
       "                    Plotly.newPlot(\n",
       "                        '999269ee-c8bf-4a34-a557-caceab768769',\n",
       "                        [{\"hoverlabel\": {\"namelength\": 0}, \"hovertemplate\": \"PostOp-SNL=%{x}<br>PreOp-SNL=%{y}<br>PreOp-CNL=%{z}<br>ImplantLeft=%{marker.color}\", \"legendgroup\": \"\", \"marker\": {\"color\": [275, 275, 275, 275, 300, 300, 300, 300, 300, 325, 325, 325, 325, 325, 325, 325, 325, 325, 325, 325, 325, 325, 350, 350, 350, 350, 350, 350, 350, 350, 350, 350, 350, 350, 350, 350, 375, 375, 375, 375, 375, 400, 275, 325, 300, 325, 350, 450, 350, 350, 325, 325, 275, 275, 275, 375, 350, 375, 275, 400, 350, 350, 300, 350, 350, 375, 300, 275, 375, 250, 275, 300, 400, 375, 375, 325, 375, 325, 325, 375, 300, 250, 375, 250, 300, 325, 325, 325, 350, 375, 325, 325, 350, 350, 400, 325, 375, 325, 325, 375, 375, 325, 325, 345, 325, 300, 330, 325, 275, 275, 350, 325, 375, 250, 375, 350, 300, 300, 325, 325, 275, 350, 325, 350, 250, 325, 300, 350, 300, 325, 325, 275, 325, 375, 225, 350, 250, 375, 325, 350, 275, 300, 350, 275], \"coloraxis\": \"coloraxis\", \"symbol\": \"circle\"}, \"mode\": \"markers\", \"name\": \"\", \"scene\": \"scene\", \"showlegend\": false, \"type\": \"scatter3d\", \"x\": [16.5, 20.0, 17.0, 18.0, 18.5, 18.0, 16.5, 18.0, 18.5, 17.0, 20.0, 20.0, 18.0, 18.0, 19.0, 18.0, 18.5, 19.0, 18.0, 19.0, 16.5, 18.0, 21.5, 17.5, 20.0, 18.5, 18.5, 20.5, 15.5, 18.0, 18.5, 20.0, 20.0, 21.5, 21.0, 19.0, 17.0, 19.0, 21.5, 17.5, 20.0, 21.0, 20.0, 20.0, 20.0, 16.0, 20.5, 20.0, 19.5, 18.0, 20.5, 20.0, 18.0, 18.0, 18.0, 17.0, 16.0, 19.0, 18.0, 19.0, 17.0, 19.0, 20.0, 19.0, 19.0, 19.0, 19.0, 19.5, 21.5, 17.0, 18.5, 19.0, 19.0, 20.5, 21.0, 18.0, 18.0, 19.5, 19.0, 18.5, 22.5, 19.5, 17.5, 19.0, 15.5, 19.0, 21.0, 19.5, 18.0, 20.0, 20.5, 20.5, 16.5, 19.0, 21.0, 17.5, 20.5, 18.0, 20.0, 18.0, 19.5, 18.0, 19.0, 22.5, 19.0, 18.5, 19.0, 19.5, 16.5, 20.0, 19.5, 19.0, 22.5, 18.0, 18.0, 18.5, 19.0, 18.5, 19.0, 20.0, 18.5, 21.0, 17.0, 21.0, 18.0, 18.5, 17.0, 22.0, 19.0, 22.5, 19.0, 18.5, 20.5, 19.5, 18.0, 21.0, 18.0, 21.5, 18.5, 22.0, 18.5, 17.5, 17.5, 22.0], \"y\": [15.0, 18.5, 16.0, 16.0, 17.5, 17.0, 15.5, 17.0, 17.0, 16.5, 18.5, 19.0, 16.5, 16.5, 17.5, 16.5, 16.5, 17.5, 16.5, 18.5, 15.0, 16.5, 19.5, 16.0, 17.5, 16.0, 18.5, 18.5, 14.5, 16.0, 16.5, 18.0, 18.0, 19.0, 19.5, 17.5, 15.0, 18.5, 20.5, 15.0, 18.0, 20.0, 18.5, 19.0, 18.5, 15.0, 20.0, 20.0, 16.5, 16.5, 18.0, 19.0, 17.5, 16.5, 16.0, 15.5, 14.5, 19.0, 17.0, 18.0, 15.5, 18.0, 19.0, 17.5, 16.0, 17.0, 17.0, 17.5, 19.5, 16.5, 17.5, 18.5, 18.0, 19.0, 19.0, 16.5, 17.0, 18.5, 17.5, 17.0, 20.0, 18.5, 17.0, 17.0, 15.0, 17.5, 19.5, 17.0, 16.5, 18.0, 18.0, 18.3, 16.5, 17.0, 20.5, 17.0, 20.5, 16.5, 17.5, 16.5, 19.0, 17.5, 17.5, 21.5, 17.5, 18.5, 18.5, 17.0, 16.5, 18.5, 18.5, 18.0, 22.0, 17.0, 17.0, 18.5, 17.5, 17.5, 18.5, 18.0, 17.0, 20.0, 16.0, 19.0, 16.5, 17.0, 15.5, 20.5, 16.5, 21.0, 18.0, 18.0, 18.5, 18.0, 17.0, 20.0, 16.0, 20.5, 16.5, 21.0, 18.0, 16.0, 16.0, 20.0], \"z\": [13.5, 17.5, 13.5, 14.5, 16.5, 16.0, 14.0, 14.5, 15.0, 15.5, 16.5, 17.5, 15.0, 15.0, 16.0, 15.0, 14.0, 15.5, 15.0, 17.0, 12.5, 15.0, 18.0, 13.5, 15.0, 14.0, 16.5, 16.5, 13.0, 15.0, 14.5, 16.5, 16.0, 17.5, 18.0, 15.5, 13.0, 16.5, 19.0, 13.5, 16.0, 18.5, 17.0, 18.5, 16.5, 13.5, 18.0, 18.0, 15.5, 16.0, 15.5, 17.5, 16.0, 14.0, 14.5, 14.5, 13.0, 17.0, 14.5, 15.5, 14.0, 16.0, 17.0, 17.0, 15.0, 15.5, 15.5, 16.0, 18.0, 14.0, 15.5, 16.5, 16.0, 17.0, 17.5, 14.5, 15.0, 17.0, 15.5, 15.5, 18.5, 16.5, 15.5, 15.5, 13.0, 15.5, 18.0, 15.0, 14.5, 16.0, 16.5, 17.0, 14.5, 15.0, 19.5, 15.0, 19.0, 15.0, 16.0, 14.5, 17.0, 15.5, 15.5, 20.5, 16.0, 17.0, 17.0, 15.0, 14.5, 16.5, 16.0, 16.5, 20.5, 15.3, 15.5, 17.0, 16.0, 16.0, 17.5, 16.0, 15.5, 19.0, 14.0, 17.0, 15.0, 15.5, 14.0, 18.0, 14.5, 19.5, 16.5, 16.0, 16.5, 16.0, 15.5, 18.5, 14.5, 19.0, 14.5, 19.0, 16.0, 14.0, 14.0, 18.0]}],\n",
       "                        {\"coloraxis\": {\"colorbar\": {\"title\": {\"text\": \"ImplantLeft\"}}, \"colorscale\": [[0.0, \"#0d0887\"], [0.1111111111111111, \"#46039f\"], [0.2222222222222222, \"#7201a8\"], [0.3333333333333333, \"#9c179e\"], [0.4444444444444444, \"#bd3786\"], [0.5555555555555556, \"#d8576b\"], [0.6666666666666666, \"#ed7953\"], [0.7777777777777778, \"#fb9f3a\"], [0.8888888888888888, \"#fdca26\"], [1.0, \"#f0f921\"]]}, \"height\": 600, \"legend\": {\"tracegroupgap\": 0}, \"margin\": {\"t\": 60}, \"scene\": {\"domain\": {\"x\": [0.0, 0.98], \"y\": [0.0, 1.0]}, \"xaxis\": {\"title\": {\"text\": \"PostOp-SNL\"}}, \"yaxis\": {\"title\": {\"text\": \"PreOp-SNL\"}}, \"zaxis\": {\"title\": {\"text\": \"PreOp-CNL\"}}}, \"template\": {\"data\": {\"bar\": [{\"error_x\": {\"color\": \"#2a3f5f\"}, \"error_y\": {\"color\": \"#2a3f5f\"}, \"marker\": {\"line\": {\"color\": \"#E5ECF6\", \"width\": 0.5}}, \"type\": \"bar\"}], \"barpolar\": [{\"marker\": {\"line\": {\"color\": \"#E5ECF6\", \"width\": 0.5}}, \"type\": \"barpolar\"}], \"carpet\": [{\"aaxis\": {\"endlinecolor\": \"#2a3f5f\", \"gridcolor\": \"white\", \"linecolor\": \"white\", \"minorgridcolor\": \"white\", \"startlinecolor\": \"#2a3f5f\"}, \"baxis\": {\"endlinecolor\": \"#2a3f5f\", \"gridcolor\": \"white\", \"linecolor\": \"white\", \"minorgridcolor\": \"white\", \"startlinecolor\": \"#2a3f5f\"}, \"type\": \"carpet\"}], \"choropleth\": [{\"colorbar\": {\"outlinewidth\": 0, \"ticks\": \"\"}, \"type\": \"choropleth\"}], \"contour\": [{\"colorbar\": {\"outlinewidth\": 0, \"ticks\": \"\"}, \"colorscale\": [[0.0, \"#0d0887\"], [0.1111111111111111, \"#46039f\"], [0.2222222222222222, \"#7201a8\"], [0.3333333333333333, \"#9c179e\"], [0.4444444444444444, \"#bd3786\"], [0.5555555555555556, \"#d8576b\"], [0.6666666666666666, \"#ed7953\"], [0.7777777777777778, \"#fb9f3a\"], [0.8888888888888888, \"#fdca26\"], [1.0, \"#f0f921\"]], \"type\": \"contour\"}], \"contourcarpet\": [{\"colorbar\": {\"outlinewidth\": 0, \"ticks\": \"\"}, \"type\": \"contourcarpet\"}], \"heatmap\": [{\"colorbar\": {\"outlinewidth\": 0, \"ticks\": \"\"}, \"colorscale\": [[0.0, \"#0d0887\"], [0.1111111111111111, \"#46039f\"], [0.2222222222222222, \"#7201a8\"], [0.3333333333333333, \"#9c179e\"], [0.4444444444444444, \"#bd3786\"], [0.5555555555555556, \"#d8576b\"], [0.6666666666666666, \"#ed7953\"], [0.7777777777777778, \"#fb9f3a\"], [0.8888888888888888, \"#fdca26\"], [1.0, \"#f0f921\"]], \"type\": \"heatmap\"}], \"heatmapgl\": [{\"colorbar\": {\"outlinewidth\": 0, \"ticks\": \"\"}, \"colorscale\": [[0.0, \"#0d0887\"], [0.1111111111111111, \"#46039f\"], [0.2222222222222222, \"#7201a8\"], [0.3333333333333333, \"#9c179e\"], [0.4444444444444444, \"#bd3786\"], [0.5555555555555556, \"#d8576b\"], [0.6666666666666666, \"#ed7953\"], [0.7777777777777778, \"#fb9f3a\"], [0.8888888888888888, \"#fdca26\"], [1.0, \"#f0f921\"]], \"type\": \"heatmapgl\"}], \"histogram\": [{\"marker\": {\"colorbar\": {\"outlinewidth\": 0, \"ticks\": \"\"}}, \"type\": \"histogram\"}], \"histogram2d\": [{\"colorbar\": {\"outlinewidth\": 0, \"ticks\": \"\"}, \"colorscale\": [[0.0, \"#0d0887\"], [0.1111111111111111, \"#46039f\"], [0.2222222222222222, \"#7201a8\"], [0.3333333333333333, \"#9c179e\"], [0.4444444444444444, \"#bd3786\"], [0.5555555555555556, \"#d8576b\"], [0.6666666666666666, \"#ed7953\"], [0.7777777777777778, \"#fb9f3a\"], [0.8888888888888888, \"#fdca26\"], [1.0, \"#f0f921\"]], \"type\": \"histogram2d\"}], \"histogram2dcontour\": [{\"colorbar\": {\"outlinewidth\": 0, \"ticks\": \"\"}, \"colorscale\": [[0.0, \"#0d0887\"], [0.1111111111111111, \"#46039f\"], [0.2222222222222222, \"#7201a8\"], [0.3333333333333333, \"#9c179e\"], [0.4444444444444444, \"#bd3786\"], [0.5555555555555556, \"#d8576b\"], [0.6666666666666666, \"#ed7953\"], [0.7777777777777778, \"#fb9f3a\"], [0.8888888888888888, \"#fdca26\"], [1.0, \"#f0f921\"]], \"type\": \"histogram2dcontour\"}], \"mesh3d\": [{\"colorbar\": {\"outlinewidth\": 0, \"ticks\": \"\"}, \"type\": \"mesh3d\"}], \"parcoords\": [{\"line\": {\"colorbar\": {\"outlinewidth\": 0, \"ticks\": \"\"}}, \"type\": \"parcoords\"}], \"scatter\": [{\"marker\": {\"colorbar\": {\"outlinewidth\": 0, \"ticks\": \"\"}}, \"type\": \"scatter\"}], \"scatter3d\": [{\"line\": {\"colorbar\": {\"outlinewidth\": 0, \"ticks\": \"\"}}, \"marker\": {\"colorbar\": {\"outlinewidth\": 0, \"ticks\": \"\"}}, \"type\": \"scatter3d\"}], \"scattercarpet\": [{\"marker\": {\"colorbar\": {\"outlinewidth\": 0, \"ticks\": \"\"}}, \"type\": \"scattercarpet\"}], \"scattergeo\": [{\"marker\": {\"colorbar\": {\"outlinewidth\": 0, \"ticks\": \"\"}}, \"type\": \"scattergeo\"}], \"scattergl\": [{\"marker\": {\"colorbar\": {\"outlinewidth\": 0, \"ticks\": \"\"}}, \"type\": \"scattergl\"}], \"scattermapbox\": [{\"marker\": {\"colorbar\": {\"outlinewidth\": 0, \"ticks\": \"\"}}, \"type\": \"scattermapbox\"}], \"scatterpolar\": [{\"marker\": {\"colorbar\": {\"outlinewidth\": 0, \"ticks\": \"\"}}, \"type\": \"scatterpolar\"}], \"scatterpolargl\": [{\"marker\": {\"colorbar\": {\"outlinewidth\": 0, \"ticks\": \"\"}}, \"type\": \"scatterpolargl\"}], \"scatterternary\": [{\"marker\": {\"colorbar\": {\"outlinewidth\": 0, \"ticks\": \"\"}}, \"type\": \"scatterternary\"}], \"surface\": [{\"colorbar\": {\"outlinewidth\": 0, \"ticks\": \"\"}, \"colorscale\": [[0.0, \"#0d0887\"], [0.1111111111111111, \"#46039f\"], [0.2222222222222222, \"#7201a8\"], [0.3333333333333333, \"#9c179e\"], [0.4444444444444444, \"#bd3786\"], [0.5555555555555556, \"#d8576b\"], [0.6666666666666666, \"#ed7953\"], [0.7777777777777778, \"#fb9f3a\"], [0.8888888888888888, \"#fdca26\"], [1.0, \"#f0f921\"]], \"type\": \"surface\"}], \"table\": [{\"cells\": {\"fill\": {\"color\": \"#EBF0F8\"}, \"line\": {\"color\": \"white\"}}, \"header\": {\"fill\": {\"color\": \"#C8D4E3\"}, \"line\": {\"color\": \"white\"}}, \"type\": \"table\"}]}, \"layout\": {\"annotationdefaults\": {\"arrowcolor\": \"#2a3f5f\", \"arrowhead\": 0, \"arrowwidth\": 1}, \"colorscale\": {\"diverging\": [[0, \"#8e0152\"], [0.1, \"#c51b7d\"], [0.2, \"#de77ae\"], [0.3, \"#f1b6da\"], [0.4, \"#fde0ef\"], [0.5, \"#f7f7f7\"], [0.6, \"#e6f5d0\"], [0.7, \"#b8e186\"], [0.8, \"#7fbc41\"], [0.9, \"#4d9221\"], [1, \"#276419\"]], \"sequential\": [[0.0, \"#0d0887\"], [0.1111111111111111, \"#46039f\"], [0.2222222222222222, \"#7201a8\"], [0.3333333333333333, \"#9c179e\"], [0.4444444444444444, \"#bd3786\"], [0.5555555555555556, \"#d8576b\"], [0.6666666666666666, \"#ed7953\"], [0.7777777777777778, \"#fb9f3a\"], [0.8888888888888888, \"#fdca26\"], [1.0, \"#f0f921\"]], \"sequentialminus\": [[0.0, \"#0d0887\"], [0.1111111111111111, \"#46039f\"], [0.2222222222222222, \"#7201a8\"], [0.3333333333333333, \"#9c179e\"], [0.4444444444444444, \"#bd3786\"], [0.5555555555555556, \"#d8576b\"], [0.6666666666666666, \"#ed7953\"], [0.7777777777777778, \"#fb9f3a\"], [0.8888888888888888, \"#fdca26\"], [1.0, \"#f0f921\"]]}, \"colorway\": [\"#636efa\", \"#EF553B\", \"#00cc96\", \"#ab63fa\", \"#FFA15A\", \"#19d3f3\", \"#FF6692\", \"#B6E880\", \"#FF97FF\", \"#FECB52\"], \"font\": {\"color\": \"#2a3f5f\"}, \"geo\": {\"bgcolor\": \"white\", \"lakecolor\": \"white\", \"landcolor\": \"#E5ECF6\", \"showlakes\": true, \"showland\": true, \"subunitcolor\": \"white\"}, \"hoverlabel\": {\"align\": \"left\"}, \"hovermode\": \"closest\", \"mapbox\": {\"style\": \"light\"}, \"paper_bgcolor\": \"white\", \"plot_bgcolor\": \"#E5ECF6\", \"polar\": {\"angularaxis\": {\"gridcolor\": \"white\", \"linecolor\": \"white\", \"ticks\": \"\"}, \"bgcolor\": \"#E5ECF6\", \"radialaxis\": {\"gridcolor\": \"white\", \"linecolor\": \"white\", \"ticks\": \"\"}}, \"scene\": {\"xaxis\": {\"backgroundcolor\": \"#E5ECF6\", \"gridcolor\": \"white\", \"gridwidth\": 2, \"linecolor\": \"white\", \"showbackground\": true, \"ticks\": \"\", \"zerolinecolor\": \"white\"}, \"yaxis\": {\"backgroundcolor\": \"#E5ECF6\", \"gridcolor\": \"white\", \"gridwidth\": 2, \"linecolor\": \"white\", \"showbackground\": true, \"ticks\": \"\", \"zerolinecolor\": \"white\"}, \"zaxis\": {\"backgroundcolor\": \"#E5ECF6\", \"gridcolor\": \"white\", \"gridwidth\": 2, \"linecolor\": \"white\", \"showbackground\": true, \"ticks\": \"\", \"zerolinecolor\": \"white\"}}, \"shapedefaults\": {\"line\": {\"color\": \"#2a3f5f\"}}, \"ternary\": {\"aaxis\": {\"gridcolor\": \"white\", \"linecolor\": \"white\", \"ticks\": \"\"}, \"baxis\": {\"gridcolor\": \"white\", \"linecolor\": \"white\", \"ticks\": \"\"}, \"bgcolor\": \"#E5ECF6\", \"caxis\": {\"gridcolor\": \"white\", \"linecolor\": \"white\", \"ticks\": \"\"}}, \"title\": {\"x\": 0.05}, \"xaxis\": {\"automargin\": true, \"gridcolor\": \"white\", \"linecolor\": \"white\", \"ticks\": \"\", \"zerolinecolor\": \"white\", \"zerolinewidth\": 2}, \"yaxis\": {\"automargin\": true, \"gridcolor\": \"white\", \"linecolor\": \"white\", \"ticks\": \"\", \"zerolinecolor\": \"white\", \"zerolinewidth\": 2}}}},\n",
       "                        {\"responsive\": true}\n",
       "                    ).then(function(){\n",
       "                            \n",
       "var gd = document.getElementById('999269ee-c8bf-4a34-a557-caceab768769');\n",
       "var x = new MutationObserver(function (mutations, observer) {{\n",
       "        var display = window.getComputedStyle(gd).display;\n",
       "        if (!display || display === 'none') {{\n",
       "            console.log([gd, 'removed!']);\n",
       "            Plotly.purge(gd);\n",
       "            observer.disconnect();\n",
       "        }}\n",
       "}});\n",
       "\n",
       "// Listen for the removal of the full notebook cells\n",
       "var notebookContainer = gd.closest('#notebook-container');\n",
       "if (notebookContainer) {{\n",
       "    x.observe(notebookContainer, {childList: true});\n",
       "}}\n",
       "\n",
       "// Listen for the clearing of the current output cell\n",
       "var outputEl = gd.closest('.output');\n",
       "if (outputEl) {{\n",
       "    x.observe(outputEl, {childList: true});\n",
       "}}\n",
       "\n",
       "                        })\n",
       "                };\n",
       "                });\n",
       "            </script>\n",
       "        </div>"
      ]
     },
     "metadata": {},
     "output_type": "display_data"
    }
   ],
   "source": [
    "fig = px.scatter_3d(df, x='PostOp-SNL', y='PreOp-SNL', z='PreOp-CNL', color='ImplantLeft')\n",
    "fig.show()"
   ]
  },
  {
   "cell_type": "code",
   "execution_count": 31,
   "metadata": {},
   "outputs": [
    {
     "data": {
      "application/vnd.plotly.v1+json": {
       "config": {
        "plotlyServerURL": "https://plot.ly"
       },
       "data": [
        {
         "hoverlabel": {
          "namelength": 0
         },
         "hovertemplate": "PostOp-SNL=%{x}<br>PreOp-SNL=%{y}<br>PreOp-BWL=%{z}<br>ImplantLeft=%{marker.color}",
         "legendgroup": "",
         "marker": {
          "color": [
           275,
           275,
           275,
           275,
           300,
           300,
           300,
           300,
           300,
           325,
           325,
           325,
           325,
           325,
           325,
           325,
           325,
           325,
           325,
           325,
           325,
           325,
           350,
           350,
           350,
           350,
           350,
           350,
           350,
           350,
           350,
           350,
           350,
           350,
           350,
           350,
           375,
           375,
           375,
           375,
           375,
           400,
           275,
           325,
           300,
           325,
           350,
           450,
           350,
           350,
           325,
           325,
           275,
           275,
           275,
           375,
           350,
           375,
           275,
           400,
           350,
           350,
           300,
           350,
           350,
           375,
           300,
           275,
           375,
           250,
           275,
           300,
           400,
           375,
           375,
           325,
           375,
           325,
           325,
           375,
           300,
           250,
           375,
           250,
           300,
           325,
           325,
           325,
           350,
           375,
           325,
           325,
           350,
           350,
           400,
           325,
           375,
           325,
           325,
           375,
           375,
           325,
           325,
           345,
           325,
           300,
           330,
           325,
           275,
           275,
           350,
           325,
           375,
           250,
           375,
           350,
           300,
           300,
           325,
           325,
           275,
           350,
           325,
           350,
           250,
           325,
           300,
           350,
           300,
           325,
           325,
           275,
           325,
           375,
           225,
           350,
           250,
           375,
           325,
           350,
           275,
           300,
           350,
           275
          ],
          "coloraxis": "coloraxis",
          "symbol": "circle"
         },
         "mode": "markers",
         "name": "",
         "scene": "scene",
         "showlegend": false,
         "type": "scatter3d",
         "x": [
          16.5,
          20,
          17,
          18,
          18.5,
          18,
          16.5,
          18,
          18.5,
          17,
          20,
          20,
          18,
          18,
          19,
          18,
          18.5,
          19,
          18,
          19,
          16.5,
          18,
          21.5,
          17.5,
          20,
          18.5,
          18.5,
          20.5,
          15.5,
          18,
          18.5,
          20,
          20,
          21.5,
          21,
          19,
          17,
          19,
          21.5,
          17.5,
          20,
          21,
          20,
          20,
          20,
          16,
          20.5,
          20,
          19.5,
          18,
          20.5,
          20,
          18,
          18,
          18,
          17,
          16,
          19,
          18,
          19,
          17,
          19,
          20,
          19,
          19,
          19,
          19,
          19.5,
          21.5,
          17,
          18.5,
          19,
          19,
          20.5,
          21,
          18,
          18,
          19.5,
          19,
          18.5,
          22.5,
          19.5,
          17.5,
          19,
          15.5,
          19,
          21,
          19.5,
          18,
          20,
          20.5,
          20.5,
          16.5,
          19,
          21,
          17.5,
          20.5,
          18,
          20,
          18,
          19.5,
          18,
          19,
          22.5,
          19,
          18.5,
          19,
          19.5,
          16.5,
          20,
          19.5,
          19,
          22.5,
          18,
          18,
          18.5,
          19,
          18.5,
          19,
          20,
          18.5,
          21,
          17,
          21,
          18,
          18.5,
          17,
          22,
          19,
          22.5,
          19,
          18.5,
          20.5,
          19.5,
          18,
          21,
          18,
          21.5,
          18.5,
          22,
          18.5,
          17.5,
          17.5,
          22
         ],
         "y": [
          15,
          18.5,
          16,
          16,
          17.5,
          17,
          15.5,
          17,
          17,
          16.5,
          18.5,
          19,
          16.5,
          16.5,
          17.5,
          16.5,
          16.5,
          17.5,
          16.5,
          18.5,
          15,
          16.5,
          19.5,
          16,
          17.5,
          16,
          18.5,
          18.5,
          14.5,
          16,
          16.5,
          18,
          18,
          19,
          19.5,
          17.5,
          15,
          18.5,
          20.5,
          15,
          18,
          20,
          18.5,
          19,
          18.5,
          15,
          20,
          20,
          16.5,
          16.5,
          18,
          19,
          17.5,
          16.5,
          16,
          15.5,
          14.5,
          19,
          17,
          18,
          15.5,
          18,
          19,
          17.5,
          16,
          17,
          17,
          17.5,
          19.5,
          16.5,
          17.5,
          18.5,
          18,
          19,
          19,
          16.5,
          17,
          18.5,
          17.5,
          17,
          20,
          18.5,
          17,
          17,
          15,
          17.5,
          19.5,
          17,
          16.5,
          18,
          18,
          18.3,
          16.5,
          17,
          20.5,
          17,
          20.5,
          16.5,
          17.5,
          16.5,
          19,
          17.5,
          17.5,
          21.5,
          17.5,
          18.5,
          18.5,
          17,
          16.5,
          18.5,
          18.5,
          18,
          22,
          17,
          17,
          18.5,
          17.5,
          17.5,
          18.5,
          18,
          17,
          20,
          16,
          19,
          16.5,
          17,
          15.5,
          20.5,
          16.5,
          21,
          18,
          18,
          18.5,
          18,
          17,
          20,
          16,
          20.5,
          16.5,
          21,
          18,
          16,
          16,
          20
         ],
         "z": [
          12.4,
          12.6,
          12,
          13,
          12,
          13,
          12.4,
          12.8,
          13,
          12.8,
          13.2,
          13.2,
          12.6,
          13.1,
          12.5,
          12.7,
          12.5,
          13,
          12.9,
          12.4,
          12,
          13,
          13.9,
          13.5,
          12.7,
          13.1,
          12.5,
          13.3,
          12.7,
          12.7,
          12.6,
          13.2,
          12.5,
          13,
          13.7,
          13.6,
          12.6,
          12.1,
          13,
          13,
          13.2,
          13.5,
          12.8,
          13.2,
          13.2,
          12.6,
          13.5,
          14.3,
          12.5,
          12.3,
          13.3,
          13.1,
          12.6,
          12.4,
          13,
          12.3,
          12.5,
          13.8,
          11,
          13,
          12.8,
          13.1,
          12.5,
          13.1,
          13.1,
          13.1,
          12.8,
          13,
          13.2,
          13,
          12.6,
          12.9,
          13.7,
          13.4,
          13.5,
          12.5,
          13.1,
          13.4,
          13,
          12.8,
          13.5,
          12.7,
          12.6,
          13.1,
          12.2,
          13,
          13,
          13,
          13.2,
          13.2,
          12.9,
          13,
          12,
          13.2,
          13.3,
          12.5,
          13.8,
          11.3,
          13.1,
          13.2,
          13.5,
          12.8,
          12.8,
          13.6,
          13.2,
          13,
          13,
          13.7,
          12.3,
          13.1,
          13.5,
          12.9,
          14.3,
          11.9,
          13.1,
          13.5,
          12.4,
          12.6,
          12,
          13.2,
          12.2,
          13.3,
          12.2,
          13.4,
          12.3,
          12.6,
          12.4,
          13.7,
          12.5,
          13.3,
          12.9,
          13.7,
          13,
          13,
          12.5,
          12.5,
          12.2,
          13.4,
          12.5,
          13.9,
          12.7,
          12.7,
          12.3,
          13.4
         ]
        }
       ],
       "layout": {
        "coloraxis": {
         "colorbar": {
          "title": {
           "text": "ImplantLeft"
          }
         },
         "colorscale": [
          [
           0,
           "#0d0887"
          ],
          [
           0.1111111111111111,
           "#46039f"
          ],
          [
           0.2222222222222222,
           "#7201a8"
          ],
          [
           0.3333333333333333,
           "#9c179e"
          ],
          [
           0.4444444444444444,
           "#bd3786"
          ],
          [
           0.5555555555555556,
           "#d8576b"
          ],
          [
           0.6666666666666666,
           "#ed7953"
          ],
          [
           0.7777777777777778,
           "#fb9f3a"
          ],
          [
           0.8888888888888888,
           "#fdca26"
          ],
          [
           1,
           "#f0f921"
          ]
         ]
        },
        "height": 600,
        "legend": {
         "tracegroupgap": 0
        },
        "margin": {
         "t": 60
        },
        "scene": {
         "domain": {
          "x": [
           0,
           0.98
          ],
          "y": [
           0,
           1
          ]
         },
         "xaxis": {
          "title": {
           "text": "PostOp-SNL"
          }
         },
         "yaxis": {
          "title": {
           "text": "PreOp-SNL"
          }
         },
         "zaxis": {
          "title": {
           "text": "PreOp-BWL"
          }
         }
        },
        "template": {
         "data": {
          "bar": [
           {
            "error_x": {
             "color": "#2a3f5f"
            },
            "error_y": {
             "color": "#2a3f5f"
            },
            "marker": {
             "line": {
              "color": "#E5ECF6",
              "width": 0.5
             }
            },
            "type": "bar"
           }
          ],
          "barpolar": [
           {
            "marker": {
             "line": {
              "color": "#E5ECF6",
              "width": 0.5
             }
            },
            "type": "barpolar"
           }
          ],
          "carpet": [
           {
            "aaxis": {
             "endlinecolor": "#2a3f5f",
             "gridcolor": "white",
             "linecolor": "white",
             "minorgridcolor": "white",
             "startlinecolor": "#2a3f5f"
            },
            "baxis": {
             "endlinecolor": "#2a3f5f",
             "gridcolor": "white",
             "linecolor": "white",
             "minorgridcolor": "white",
             "startlinecolor": "#2a3f5f"
            },
            "type": "carpet"
           }
          ],
          "choropleth": [
           {
            "colorbar": {
             "outlinewidth": 0,
             "ticks": ""
            },
            "type": "choropleth"
           }
          ],
          "contour": [
           {
            "colorbar": {
             "outlinewidth": 0,
             "ticks": ""
            },
            "colorscale": [
             [
              0,
              "#0d0887"
             ],
             [
              0.1111111111111111,
              "#46039f"
             ],
             [
              0.2222222222222222,
              "#7201a8"
             ],
             [
              0.3333333333333333,
              "#9c179e"
             ],
             [
              0.4444444444444444,
              "#bd3786"
             ],
             [
              0.5555555555555556,
              "#d8576b"
             ],
             [
              0.6666666666666666,
              "#ed7953"
             ],
             [
              0.7777777777777778,
              "#fb9f3a"
             ],
             [
              0.8888888888888888,
              "#fdca26"
             ],
             [
              1,
              "#f0f921"
             ]
            ],
            "type": "contour"
           }
          ],
          "contourcarpet": [
           {
            "colorbar": {
             "outlinewidth": 0,
             "ticks": ""
            },
            "type": "contourcarpet"
           }
          ],
          "heatmap": [
           {
            "colorbar": {
             "outlinewidth": 0,
             "ticks": ""
            },
            "colorscale": [
             [
              0,
              "#0d0887"
             ],
             [
              0.1111111111111111,
              "#46039f"
             ],
             [
              0.2222222222222222,
              "#7201a8"
             ],
             [
              0.3333333333333333,
              "#9c179e"
             ],
             [
              0.4444444444444444,
              "#bd3786"
             ],
             [
              0.5555555555555556,
              "#d8576b"
             ],
             [
              0.6666666666666666,
              "#ed7953"
             ],
             [
              0.7777777777777778,
              "#fb9f3a"
             ],
             [
              0.8888888888888888,
              "#fdca26"
             ],
             [
              1,
              "#f0f921"
             ]
            ],
            "type": "heatmap"
           }
          ],
          "heatmapgl": [
           {
            "colorbar": {
             "outlinewidth": 0,
             "ticks": ""
            },
            "colorscale": [
             [
              0,
              "#0d0887"
             ],
             [
              0.1111111111111111,
              "#46039f"
             ],
             [
              0.2222222222222222,
              "#7201a8"
             ],
             [
              0.3333333333333333,
              "#9c179e"
             ],
             [
              0.4444444444444444,
              "#bd3786"
             ],
             [
              0.5555555555555556,
              "#d8576b"
             ],
             [
              0.6666666666666666,
              "#ed7953"
             ],
             [
              0.7777777777777778,
              "#fb9f3a"
             ],
             [
              0.8888888888888888,
              "#fdca26"
             ],
             [
              1,
              "#f0f921"
             ]
            ],
            "type": "heatmapgl"
           }
          ],
          "histogram": [
           {
            "marker": {
             "colorbar": {
              "outlinewidth": 0,
              "ticks": ""
             }
            },
            "type": "histogram"
           }
          ],
          "histogram2d": [
           {
            "colorbar": {
             "outlinewidth": 0,
             "ticks": ""
            },
            "colorscale": [
             [
              0,
              "#0d0887"
             ],
             [
              0.1111111111111111,
              "#46039f"
             ],
             [
              0.2222222222222222,
              "#7201a8"
             ],
             [
              0.3333333333333333,
              "#9c179e"
             ],
             [
              0.4444444444444444,
              "#bd3786"
             ],
             [
              0.5555555555555556,
              "#d8576b"
             ],
             [
              0.6666666666666666,
              "#ed7953"
             ],
             [
              0.7777777777777778,
              "#fb9f3a"
             ],
             [
              0.8888888888888888,
              "#fdca26"
             ],
             [
              1,
              "#f0f921"
             ]
            ],
            "type": "histogram2d"
           }
          ],
          "histogram2dcontour": [
           {
            "colorbar": {
             "outlinewidth": 0,
             "ticks": ""
            },
            "colorscale": [
             [
              0,
              "#0d0887"
             ],
             [
              0.1111111111111111,
              "#46039f"
             ],
             [
              0.2222222222222222,
              "#7201a8"
             ],
             [
              0.3333333333333333,
              "#9c179e"
             ],
             [
              0.4444444444444444,
              "#bd3786"
             ],
             [
              0.5555555555555556,
              "#d8576b"
             ],
             [
              0.6666666666666666,
              "#ed7953"
             ],
             [
              0.7777777777777778,
              "#fb9f3a"
             ],
             [
              0.8888888888888888,
              "#fdca26"
             ],
             [
              1,
              "#f0f921"
             ]
            ],
            "type": "histogram2dcontour"
           }
          ],
          "mesh3d": [
           {
            "colorbar": {
             "outlinewidth": 0,
             "ticks": ""
            },
            "type": "mesh3d"
           }
          ],
          "parcoords": [
           {
            "line": {
             "colorbar": {
              "outlinewidth": 0,
              "ticks": ""
             }
            },
            "type": "parcoords"
           }
          ],
          "scatter": [
           {
            "marker": {
             "colorbar": {
              "outlinewidth": 0,
              "ticks": ""
             }
            },
            "type": "scatter"
           }
          ],
          "scatter3d": [
           {
            "line": {
             "colorbar": {
              "outlinewidth": 0,
              "ticks": ""
             }
            },
            "marker": {
             "colorbar": {
              "outlinewidth": 0,
              "ticks": ""
             }
            },
            "type": "scatter3d"
           }
          ],
          "scattercarpet": [
           {
            "marker": {
             "colorbar": {
              "outlinewidth": 0,
              "ticks": ""
             }
            },
            "type": "scattercarpet"
           }
          ],
          "scattergeo": [
           {
            "marker": {
             "colorbar": {
              "outlinewidth": 0,
              "ticks": ""
             }
            },
            "type": "scattergeo"
           }
          ],
          "scattergl": [
           {
            "marker": {
             "colorbar": {
              "outlinewidth": 0,
              "ticks": ""
             }
            },
            "type": "scattergl"
           }
          ],
          "scattermapbox": [
           {
            "marker": {
             "colorbar": {
              "outlinewidth": 0,
              "ticks": ""
             }
            },
            "type": "scattermapbox"
           }
          ],
          "scatterpolar": [
           {
            "marker": {
             "colorbar": {
              "outlinewidth": 0,
              "ticks": ""
             }
            },
            "type": "scatterpolar"
           }
          ],
          "scatterpolargl": [
           {
            "marker": {
             "colorbar": {
              "outlinewidth": 0,
              "ticks": ""
             }
            },
            "type": "scatterpolargl"
           }
          ],
          "scatterternary": [
           {
            "marker": {
             "colorbar": {
              "outlinewidth": 0,
              "ticks": ""
             }
            },
            "type": "scatterternary"
           }
          ],
          "surface": [
           {
            "colorbar": {
             "outlinewidth": 0,
             "ticks": ""
            },
            "colorscale": [
             [
              0,
              "#0d0887"
             ],
             [
              0.1111111111111111,
              "#46039f"
             ],
             [
              0.2222222222222222,
              "#7201a8"
             ],
             [
              0.3333333333333333,
              "#9c179e"
             ],
             [
              0.4444444444444444,
              "#bd3786"
             ],
             [
              0.5555555555555556,
              "#d8576b"
             ],
             [
              0.6666666666666666,
              "#ed7953"
             ],
             [
              0.7777777777777778,
              "#fb9f3a"
             ],
             [
              0.8888888888888888,
              "#fdca26"
             ],
             [
              1,
              "#f0f921"
             ]
            ],
            "type": "surface"
           }
          ],
          "table": [
           {
            "cells": {
             "fill": {
              "color": "#EBF0F8"
             },
             "line": {
              "color": "white"
             }
            },
            "header": {
             "fill": {
              "color": "#C8D4E3"
             },
             "line": {
              "color": "white"
             }
            },
            "type": "table"
           }
          ]
         },
         "layout": {
          "annotationdefaults": {
           "arrowcolor": "#2a3f5f",
           "arrowhead": 0,
           "arrowwidth": 1
          },
          "colorscale": {
           "diverging": [
            [
             0,
             "#8e0152"
            ],
            [
             0.1,
             "#c51b7d"
            ],
            [
             0.2,
             "#de77ae"
            ],
            [
             0.3,
             "#f1b6da"
            ],
            [
             0.4,
             "#fde0ef"
            ],
            [
             0.5,
             "#f7f7f7"
            ],
            [
             0.6,
             "#e6f5d0"
            ],
            [
             0.7,
             "#b8e186"
            ],
            [
             0.8,
             "#7fbc41"
            ],
            [
             0.9,
             "#4d9221"
            ],
            [
             1,
             "#276419"
            ]
           ],
           "sequential": [
            [
             0,
             "#0d0887"
            ],
            [
             0.1111111111111111,
             "#46039f"
            ],
            [
             0.2222222222222222,
             "#7201a8"
            ],
            [
             0.3333333333333333,
             "#9c179e"
            ],
            [
             0.4444444444444444,
             "#bd3786"
            ],
            [
             0.5555555555555556,
             "#d8576b"
            ],
            [
             0.6666666666666666,
             "#ed7953"
            ],
            [
             0.7777777777777778,
             "#fb9f3a"
            ],
            [
             0.8888888888888888,
             "#fdca26"
            ],
            [
             1,
             "#f0f921"
            ]
           ],
           "sequentialminus": [
            [
             0,
             "#0d0887"
            ],
            [
             0.1111111111111111,
             "#46039f"
            ],
            [
             0.2222222222222222,
             "#7201a8"
            ],
            [
             0.3333333333333333,
             "#9c179e"
            ],
            [
             0.4444444444444444,
             "#bd3786"
            ],
            [
             0.5555555555555556,
             "#d8576b"
            ],
            [
             0.6666666666666666,
             "#ed7953"
            ],
            [
             0.7777777777777778,
             "#fb9f3a"
            ],
            [
             0.8888888888888888,
             "#fdca26"
            ],
            [
             1,
             "#f0f921"
            ]
           ]
          },
          "colorway": [
           "#636efa",
           "#EF553B",
           "#00cc96",
           "#ab63fa",
           "#FFA15A",
           "#19d3f3",
           "#FF6692",
           "#B6E880",
           "#FF97FF",
           "#FECB52"
          ],
          "font": {
           "color": "#2a3f5f"
          },
          "geo": {
           "bgcolor": "white",
           "lakecolor": "white",
           "landcolor": "#E5ECF6",
           "showlakes": true,
           "showland": true,
           "subunitcolor": "white"
          },
          "hoverlabel": {
           "align": "left"
          },
          "hovermode": "closest",
          "mapbox": {
           "style": "light"
          },
          "paper_bgcolor": "white",
          "plot_bgcolor": "#E5ECF6",
          "polar": {
           "angularaxis": {
            "gridcolor": "white",
            "linecolor": "white",
            "ticks": ""
           },
           "bgcolor": "#E5ECF6",
           "radialaxis": {
            "gridcolor": "white",
            "linecolor": "white",
            "ticks": ""
           }
          },
          "scene": {
           "xaxis": {
            "backgroundcolor": "#E5ECF6",
            "gridcolor": "white",
            "gridwidth": 2,
            "linecolor": "white",
            "showbackground": true,
            "ticks": "",
            "zerolinecolor": "white"
           },
           "yaxis": {
            "backgroundcolor": "#E5ECF6",
            "gridcolor": "white",
            "gridwidth": 2,
            "linecolor": "white",
            "showbackground": true,
            "ticks": "",
            "zerolinecolor": "white"
           },
           "zaxis": {
            "backgroundcolor": "#E5ECF6",
            "gridcolor": "white",
            "gridwidth": 2,
            "linecolor": "white",
            "showbackground": true,
            "ticks": "",
            "zerolinecolor": "white"
           }
          },
          "shapedefaults": {
           "line": {
            "color": "#2a3f5f"
           }
          },
          "ternary": {
           "aaxis": {
            "gridcolor": "white",
            "linecolor": "white",
            "ticks": ""
           },
           "baxis": {
            "gridcolor": "white",
            "linecolor": "white",
            "ticks": ""
           },
           "bgcolor": "#E5ECF6",
           "caxis": {
            "gridcolor": "white",
            "linecolor": "white",
            "ticks": ""
           }
          },
          "title": {
           "x": 0.05
          },
          "xaxis": {
           "automargin": true,
           "gridcolor": "white",
           "linecolor": "white",
           "ticks": "",
           "zerolinecolor": "white",
           "zerolinewidth": 2
          },
          "yaxis": {
           "automargin": true,
           "gridcolor": "white",
           "linecolor": "white",
           "ticks": "",
           "zerolinecolor": "white",
           "zerolinewidth": 2
          }
         }
        }
       }
      },
      "text/html": [
       "<div>\n",
       "        \n",
       "        \n",
       "            <div id=\"99df864d-034c-4611-8cb6-3b7573a8af21\" class=\"plotly-graph-div\" style=\"height:600px; width:100%;\"></div>\n",
       "            <script type=\"text/javascript\">\n",
       "                require([\"plotly\"], function(Plotly) {\n",
       "                    window.PLOTLYENV=window.PLOTLYENV || {};\n",
       "                    \n",
       "                if (document.getElementById(\"99df864d-034c-4611-8cb6-3b7573a8af21\")) {\n",
       "                    Plotly.newPlot(\n",
       "                        '99df864d-034c-4611-8cb6-3b7573a8af21',\n",
       "                        [{\"hoverlabel\": {\"namelength\": 0}, \"hovertemplate\": \"PostOp-SNL=%{x}<br>PreOp-SNL=%{y}<br>PreOp-BWL=%{z}<br>ImplantLeft=%{marker.color}\", \"legendgroup\": \"\", \"marker\": {\"color\": [275, 275, 275, 275, 300, 300, 300, 300, 300, 325, 325, 325, 325, 325, 325, 325, 325, 325, 325, 325, 325, 325, 350, 350, 350, 350, 350, 350, 350, 350, 350, 350, 350, 350, 350, 350, 375, 375, 375, 375, 375, 400, 275, 325, 300, 325, 350, 450, 350, 350, 325, 325, 275, 275, 275, 375, 350, 375, 275, 400, 350, 350, 300, 350, 350, 375, 300, 275, 375, 250, 275, 300, 400, 375, 375, 325, 375, 325, 325, 375, 300, 250, 375, 250, 300, 325, 325, 325, 350, 375, 325, 325, 350, 350, 400, 325, 375, 325, 325, 375, 375, 325, 325, 345, 325, 300, 330, 325, 275, 275, 350, 325, 375, 250, 375, 350, 300, 300, 325, 325, 275, 350, 325, 350, 250, 325, 300, 350, 300, 325, 325, 275, 325, 375, 225, 350, 250, 375, 325, 350, 275, 300, 350, 275], \"coloraxis\": \"coloraxis\", \"symbol\": \"circle\"}, \"mode\": \"markers\", \"name\": \"\", \"scene\": \"scene\", \"showlegend\": false, \"type\": \"scatter3d\", \"x\": [16.5, 20.0, 17.0, 18.0, 18.5, 18.0, 16.5, 18.0, 18.5, 17.0, 20.0, 20.0, 18.0, 18.0, 19.0, 18.0, 18.5, 19.0, 18.0, 19.0, 16.5, 18.0, 21.5, 17.5, 20.0, 18.5, 18.5, 20.5, 15.5, 18.0, 18.5, 20.0, 20.0, 21.5, 21.0, 19.0, 17.0, 19.0, 21.5, 17.5, 20.0, 21.0, 20.0, 20.0, 20.0, 16.0, 20.5, 20.0, 19.5, 18.0, 20.5, 20.0, 18.0, 18.0, 18.0, 17.0, 16.0, 19.0, 18.0, 19.0, 17.0, 19.0, 20.0, 19.0, 19.0, 19.0, 19.0, 19.5, 21.5, 17.0, 18.5, 19.0, 19.0, 20.5, 21.0, 18.0, 18.0, 19.5, 19.0, 18.5, 22.5, 19.5, 17.5, 19.0, 15.5, 19.0, 21.0, 19.5, 18.0, 20.0, 20.5, 20.5, 16.5, 19.0, 21.0, 17.5, 20.5, 18.0, 20.0, 18.0, 19.5, 18.0, 19.0, 22.5, 19.0, 18.5, 19.0, 19.5, 16.5, 20.0, 19.5, 19.0, 22.5, 18.0, 18.0, 18.5, 19.0, 18.5, 19.0, 20.0, 18.5, 21.0, 17.0, 21.0, 18.0, 18.5, 17.0, 22.0, 19.0, 22.5, 19.0, 18.5, 20.5, 19.5, 18.0, 21.0, 18.0, 21.5, 18.5, 22.0, 18.5, 17.5, 17.5, 22.0], \"y\": [15.0, 18.5, 16.0, 16.0, 17.5, 17.0, 15.5, 17.0, 17.0, 16.5, 18.5, 19.0, 16.5, 16.5, 17.5, 16.5, 16.5, 17.5, 16.5, 18.5, 15.0, 16.5, 19.5, 16.0, 17.5, 16.0, 18.5, 18.5, 14.5, 16.0, 16.5, 18.0, 18.0, 19.0, 19.5, 17.5, 15.0, 18.5, 20.5, 15.0, 18.0, 20.0, 18.5, 19.0, 18.5, 15.0, 20.0, 20.0, 16.5, 16.5, 18.0, 19.0, 17.5, 16.5, 16.0, 15.5, 14.5, 19.0, 17.0, 18.0, 15.5, 18.0, 19.0, 17.5, 16.0, 17.0, 17.0, 17.5, 19.5, 16.5, 17.5, 18.5, 18.0, 19.0, 19.0, 16.5, 17.0, 18.5, 17.5, 17.0, 20.0, 18.5, 17.0, 17.0, 15.0, 17.5, 19.5, 17.0, 16.5, 18.0, 18.0, 18.3, 16.5, 17.0, 20.5, 17.0, 20.5, 16.5, 17.5, 16.5, 19.0, 17.5, 17.5, 21.5, 17.5, 18.5, 18.5, 17.0, 16.5, 18.5, 18.5, 18.0, 22.0, 17.0, 17.0, 18.5, 17.5, 17.5, 18.5, 18.0, 17.0, 20.0, 16.0, 19.0, 16.5, 17.0, 15.5, 20.5, 16.5, 21.0, 18.0, 18.0, 18.5, 18.0, 17.0, 20.0, 16.0, 20.5, 16.5, 21.0, 18.0, 16.0, 16.0, 20.0], \"z\": [12.4, 12.6, 12.0, 13.0, 12.0, 13.0, 12.4, 12.8, 13.0, 12.8, 13.2, 13.2, 12.6, 13.1, 12.5, 12.7, 12.5, 13.0, 12.9, 12.4, 12.0, 13.0, 13.9, 13.5, 12.7, 13.1, 12.5, 13.3, 12.7, 12.7, 12.6, 13.2, 12.5, 13.0, 13.7, 13.6, 12.6, 12.1, 13.0, 13.0, 13.2, 13.5, 12.8, 13.2, 13.2, 12.6, 13.5, 14.3, 12.5, 12.3, 13.3, 13.1, 12.6, 12.4, 13.0, 12.3, 12.5, 13.8, 11.0, 13.0, 12.8, 13.1, 12.5, 13.1, 13.1, 13.1, 12.8, 13.0, 13.2, 13.0, 12.6, 12.9, 13.7, 13.4, 13.5, 12.5, 13.1, 13.4, 13.0, 12.8, 13.5, 12.7, 12.6, 13.1, 12.2, 13.0, 13.0, 13.0, 13.2, 13.2, 12.9, 13.0, 12.0, 13.2, 13.3, 12.5, 13.8, 11.3, 13.1, 13.2, 13.5, 12.8, 12.8, 13.6, 13.2, 13.0, 13.0, 13.7, 12.3, 13.1, 13.5, 12.9, 14.3, 11.9, 13.1, 13.5, 12.4, 12.6, 12.0, 13.2, 12.2, 13.3, 12.2, 13.4, 12.3, 12.6, 12.4, 13.7, 12.5, 13.3, 12.9, 13.7, 13.0, 13.0, 12.5, 12.5, 12.2, 13.4, 12.5, 13.9, 12.7, 12.7, 12.3, 13.4]}],\n",
       "                        {\"coloraxis\": {\"colorbar\": {\"title\": {\"text\": \"ImplantLeft\"}}, \"colorscale\": [[0.0, \"#0d0887\"], [0.1111111111111111, \"#46039f\"], [0.2222222222222222, \"#7201a8\"], [0.3333333333333333, \"#9c179e\"], [0.4444444444444444, \"#bd3786\"], [0.5555555555555556, \"#d8576b\"], [0.6666666666666666, \"#ed7953\"], [0.7777777777777778, \"#fb9f3a\"], [0.8888888888888888, \"#fdca26\"], [1.0, \"#f0f921\"]]}, \"height\": 600, \"legend\": {\"tracegroupgap\": 0}, \"margin\": {\"t\": 60}, \"scene\": {\"domain\": {\"x\": [0.0, 0.98], \"y\": [0.0, 1.0]}, \"xaxis\": {\"title\": {\"text\": \"PostOp-SNL\"}}, \"yaxis\": {\"title\": {\"text\": \"PreOp-SNL\"}}, \"zaxis\": {\"title\": {\"text\": \"PreOp-BWL\"}}}, \"template\": {\"data\": {\"bar\": [{\"error_x\": {\"color\": \"#2a3f5f\"}, \"error_y\": {\"color\": \"#2a3f5f\"}, \"marker\": {\"line\": {\"color\": \"#E5ECF6\", \"width\": 0.5}}, \"type\": \"bar\"}], \"barpolar\": [{\"marker\": {\"line\": {\"color\": \"#E5ECF6\", \"width\": 0.5}}, \"type\": \"barpolar\"}], \"carpet\": [{\"aaxis\": {\"endlinecolor\": \"#2a3f5f\", \"gridcolor\": \"white\", \"linecolor\": \"white\", \"minorgridcolor\": \"white\", \"startlinecolor\": \"#2a3f5f\"}, \"baxis\": {\"endlinecolor\": \"#2a3f5f\", \"gridcolor\": \"white\", \"linecolor\": \"white\", \"minorgridcolor\": \"white\", \"startlinecolor\": \"#2a3f5f\"}, \"type\": \"carpet\"}], \"choropleth\": [{\"colorbar\": {\"outlinewidth\": 0, \"ticks\": \"\"}, \"type\": \"choropleth\"}], \"contour\": [{\"colorbar\": {\"outlinewidth\": 0, \"ticks\": \"\"}, \"colorscale\": [[0.0, \"#0d0887\"], [0.1111111111111111, \"#46039f\"], [0.2222222222222222, \"#7201a8\"], [0.3333333333333333, \"#9c179e\"], [0.4444444444444444, \"#bd3786\"], [0.5555555555555556, \"#d8576b\"], [0.6666666666666666, \"#ed7953\"], [0.7777777777777778, \"#fb9f3a\"], [0.8888888888888888, \"#fdca26\"], [1.0, \"#f0f921\"]], \"type\": \"contour\"}], \"contourcarpet\": [{\"colorbar\": {\"outlinewidth\": 0, \"ticks\": \"\"}, \"type\": \"contourcarpet\"}], \"heatmap\": [{\"colorbar\": {\"outlinewidth\": 0, \"ticks\": \"\"}, \"colorscale\": [[0.0, \"#0d0887\"], [0.1111111111111111, \"#46039f\"], [0.2222222222222222, \"#7201a8\"], [0.3333333333333333, \"#9c179e\"], [0.4444444444444444, \"#bd3786\"], [0.5555555555555556, \"#d8576b\"], [0.6666666666666666, \"#ed7953\"], [0.7777777777777778, \"#fb9f3a\"], [0.8888888888888888, \"#fdca26\"], [1.0, \"#f0f921\"]], \"type\": \"heatmap\"}], \"heatmapgl\": [{\"colorbar\": {\"outlinewidth\": 0, \"ticks\": \"\"}, \"colorscale\": [[0.0, \"#0d0887\"], [0.1111111111111111, \"#46039f\"], [0.2222222222222222, \"#7201a8\"], [0.3333333333333333, \"#9c179e\"], [0.4444444444444444, \"#bd3786\"], [0.5555555555555556, \"#d8576b\"], [0.6666666666666666, \"#ed7953\"], [0.7777777777777778, \"#fb9f3a\"], [0.8888888888888888, \"#fdca26\"], [1.0, \"#f0f921\"]], \"type\": \"heatmapgl\"}], \"histogram\": [{\"marker\": {\"colorbar\": {\"outlinewidth\": 0, \"ticks\": \"\"}}, \"type\": \"histogram\"}], \"histogram2d\": [{\"colorbar\": {\"outlinewidth\": 0, \"ticks\": \"\"}, \"colorscale\": [[0.0, \"#0d0887\"], [0.1111111111111111, \"#46039f\"], [0.2222222222222222, \"#7201a8\"], [0.3333333333333333, \"#9c179e\"], [0.4444444444444444, \"#bd3786\"], [0.5555555555555556, \"#d8576b\"], [0.6666666666666666, \"#ed7953\"], [0.7777777777777778, \"#fb9f3a\"], [0.8888888888888888, \"#fdca26\"], [1.0, \"#f0f921\"]], \"type\": \"histogram2d\"}], \"histogram2dcontour\": [{\"colorbar\": {\"outlinewidth\": 0, \"ticks\": \"\"}, \"colorscale\": [[0.0, \"#0d0887\"], [0.1111111111111111, \"#46039f\"], [0.2222222222222222, \"#7201a8\"], [0.3333333333333333, \"#9c179e\"], [0.4444444444444444, \"#bd3786\"], [0.5555555555555556, \"#d8576b\"], [0.6666666666666666, \"#ed7953\"], [0.7777777777777778, \"#fb9f3a\"], [0.8888888888888888, \"#fdca26\"], [1.0, \"#f0f921\"]], \"type\": \"histogram2dcontour\"}], \"mesh3d\": [{\"colorbar\": {\"outlinewidth\": 0, \"ticks\": \"\"}, \"type\": \"mesh3d\"}], \"parcoords\": [{\"line\": {\"colorbar\": {\"outlinewidth\": 0, \"ticks\": \"\"}}, \"type\": \"parcoords\"}], \"scatter\": [{\"marker\": {\"colorbar\": {\"outlinewidth\": 0, \"ticks\": \"\"}}, \"type\": \"scatter\"}], \"scatter3d\": [{\"line\": {\"colorbar\": {\"outlinewidth\": 0, \"ticks\": \"\"}}, \"marker\": {\"colorbar\": {\"outlinewidth\": 0, \"ticks\": \"\"}}, \"type\": \"scatter3d\"}], \"scattercarpet\": [{\"marker\": {\"colorbar\": {\"outlinewidth\": 0, \"ticks\": \"\"}}, \"type\": \"scattercarpet\"}], \"scattergeo\": [{\"marker\": {\"colorbar\": {\"outlinewidth\": 0, \"ticks\": \"\"}}, \"type\": \"scattergeo\"}], \"scattergl\": [{\"marker\": {\"colorbar\": {\"outlinewidth\": 0, \"ticks\": \"\"}}, \"type\": \"scattergl\"}], \"scattermapbox\": [{\"marker\": {\"colorbar\": {\"outlinewidth\": 0, \"ticks\": \"\"}}, \"type\": \"scattermapbox\"}], \"scatterpolar\": [{\"marker\": {\"colorbar\": {\"outlinewidth\": 0, \"ticks\": \"\"}}, \"type\": \"scatterpolar\"}], \"scatterpolargl\": [{\"marker\": {\"colorbar\": {\"outlinewidth\": 0, \"ticks\": \"\"}}, \"type\": \"scatterpolargl\"}], \"scatterternary\": [{\"marker\": {\"colorbar\": {\"outlinewidth\": 0, \"ticks\": \"\"}}, \"type\": \"scatterternary\"}], \"surface\": [{\"colorbar\": {\"outlinewidth\": 0, \"ticks\": \"\"}, \"colorscale\": [[0.0, \"#0d0887\"], [0.1111111111111111, \"#46039f\"], [0.2222222222222222, \"#7201a8\"], [0.3333333333333333, \"#9c179e\"], [0.4444444444444444, \"#bd3786\"], [0.5555555555555556, \"#d8576b\"], [0.6666666666666666, \"#ed7953\"], [0.7777777777777778, \"#fb9f3a\"], [0.8888888888888888, \"#fdca26\"], [1.0, \"#f0f921\"]], \"type\": \"surface\"}], \"table\": [{\"cells\": {\"fill\": {\"color\": \"#EBF0F8\"}, \"line\": {\"color\": \"white\"}}, \"header\": {\"fill\": {\"color\": \"#C8D4E3\"}, \"line\": {\"color\": \"white\"}}, \"type\": \"table\"}]}, \"layout\": {\"annotationdefaults\": {\"arrowcolor\": \"#2a3f5f\", \"arrowhead\": 0, \"arrowwidth\": 1}, \"colorscale\": {\"diverging\": [[0, \"#8e0152\"], [0.1, \"#c51b7d\"], [0.2, \"#de77ae\"], [0.3, \"#f1b6da\"], [0.4, \"#fde0ef\"], [0.5, \"#f7f7f7\"], [0.6, \"#e6f5d0\"], [0.7, \"#b8e186\"], [0.8, \"#7fbc41\"], [0.9, \"#4d9221\"], [1, \"#276419\"]], \"sequential\": [[0.0, \"#0d0887\"], [0.1111111111111111, \"#46039f\"], [0.2222222222222222, \"#7201a8\"], [0.3333333333333333, \"#9c179e\"], [0.4444444444444444, \"#bd3786\"], [0.5555555555555556, \"#d8576b\"], [0.6666666666666666, \"#ed7953\"], [0.7777777777777778, \"#fb9f3a\"], [0.8888888888888888, \"#fdca26\"], [1.0, \"#f0f921\"]], \"sequentialminus\": [[0.0, \"#0d0887\"], [0.1111111111111111, \"#46039f\"], [0.2222222222222222, \"#7201a8\"], [0.3333333333333333, \"#9c179e\"], [0.4444444444444444, \"#bd3786\"], [0.5555555555555556, \"#d8576b\"], [0.6666666666666666, \"#ed7953\"], [0.7777777777777778, \"#fb9f3a\"], [0.8888888888888888, \"#fdca26\"], [1.0, \"#f0f921\"]]}, \"colorway\": [\"#636efa\", \"#EF553B\", \"#00cc96\", \"#ab63fa\", \"#FFA15A\", \"#19d3f3\", \"#FF6692\", \"#B6E880\", \"#FF97FF\", \"#FECB52\"], \"font\": {\"color\": \"#2a3f5f\"}, \"geo\": {\"bgcolor\": \"white\", \"lakecolor\": \"white\", \"landcolor\": \"#E5ECF6\", \"showlakes\": true, \"showland\": true, \"subunitcolor\": \"white\"}, \"hoverlabel\": {\"align\": \"left\"}, \"hovermode\": \"closest\", \"mapbox\": {\"style\": \"light\"}, \"paper_bgcolor\": \"white\", \"plot_bgcolor\": \"#E5ECF6\", \"polar\": {\"angularaxis\": {\"gridcolor\": \"white\", \"linecolor\": \"white\", \"ticks\": \"\"}, \"bgcolor\": \"#E5ECF6\", \"radialaxis\": {\"gridcolor\": \"white\", \"linecolor\": \"white\", \"ticks\": \"\"}}, \"scene\": {\"xaxis\": {\"backgroundcolor\": \"#E5ECF6\", \"gridcolor\": \"white\", \"gridwidth\": 2, \"linecolor\": \"white\", \"showbackground\": true, \"ticks\": \"\", \"zerolinecolor\": \"white\"}, \"yaxis\": {\"backgroundcolor\": \"#E5ECF6\", \"gridcolor\": \"white\", \"gridwidth\": 2, \"linecolor\": \"white\", \"showbackground\": true, \"ticks\": \"\", \"zerolinecolor\": \"white\"}, \"zaxis\": {\"backgroundcolor\": \"#E5ECF6\", \"gridcolor\": \"white\", \"gridwidth\": 2, \"linecolor\": \"white\", \"showbackground\": true, \"ticks\": \"\", \"zerolinecolor\": \"white\"}}, \"shapedefaults\": {\"line\": {\"color\": \"#2a3f5f\"}}, \"ternary\": {\"aaxis\": {\"gridcolor\": \"white\", \"linecolor\": \"white\", \"ticks\": \"\"}, \"baxis\": {\"gridcolor\": \"white\", \"linecolor\": \"white\", \"ticks\": \"\"}, \"bgcolor\": \"#E5ECF6\", \"caxis\": {\"gridcolor\": \"white\", \"linecolor\": \"white\", \"ticks\": \"\"}}, \"title\": {\"x\": 0.05}, \"xaxis\": {\"automargin\": true, \"gridcolor\": \"white\", \"linecolor\": \"white\", \"ticks\": \"\", \"zerolinecolor\": \"white\", \"zerolinewidth\": 2}, \"yaxis\": {\"automargin\": true, \"gridcolor\": \"white\", \"linecolor\": \"white\", \"ticks\": \"\", \"zerolinecolor\": \"white\", \"zerolinewidth\": 2}}}},\n",
       "                        {\"responsive\": true}\n",
       "                    ).then(function(){\n",
       "                            \n",
       "var gd = document.getElementById('99df864d-034c-4611-8cb6-3b7573a8af21');\n",
       "var x = new MutationObserver(function (mutations, observer) {{\n",
       "        var display = window.getComputedStyle(gd).display;\n",
       "        if (!display || display === 'none') {{\n",
       "            console.log([gd, 'removed!']);\n",
       "            Plotly.purge(gd);\n",
       "            observer.disconnect();\n",
       "        }}\n",
       "}});\n",
       "\n",
       "// Listen for the removal of the full notebook cells\n",
       "var notebookContainer = gd.closest('#notebook-container');\n",
       "if (notebookContainer) {{\n",
       "    x.observe(notebookContainer, {childList: true});\n",
       "}}\n",
       "\n",
       "// Listen for the clearing of the current output cell\n",
       "var outputEl = gd.closest('.output');\n",
       "if (outputEl) {{\n",
       "    x.observe(outputEl, {childList: true});\n",
       "}}\n",
       "\n",
       "                        })\n",
       "                };\n",
       "                });\n",
       "            </script>\n",
       "        </div>"
      ]
     },
     "metadata": {},
     "output_type": "display_data"
    }
   ],
   "source": [
    "fig = px.scatter_3d(df, x='PostOp-SNL', y='PreOp-SNL', z='PreOp-BWL', color='ImplantLeft')\n",
    "fig.show()"
   ]
  },
  {
   "cell_type": "code",
   "execution_count": 33,
   "metadata": {},
   "outputs": [
    {
     "data": {
      "application/vnd.plotly.v1+json": {
       "config": {
        "plotlyServerURL": "https://plot.ly"
       },
       "data": [
        {
         "hoverlabel": {
          "namelength": 0
         },
         "hovertemplate": "PostOp-SNL=%{x}<br>PreOp-SNL=%{y}<br>PreOp-IMFL=%{z}<br>ImplantLeft=%{marker.color}",
         "legendgroup": "",
         "marker": {
          "color": [
           275,
           275,
           275,
           275,
           300,
           300,
           300,
           300,
           300,
           325,
           325,
           325,
           325,
           325,
           325,
           325,
           325,
           325,
           325,
           325,
           325,
           325,
           350,
           350,
           350,
           350,
           350,
           350,
           350,
           350,
           350,
           350,
           350,
           350,
           350,
           350,
           375,
           375,
           375,
           375,
           375,
           400,
           275,
           325,
           300,
           325,
           350,
           450,
           350,
           350,
           325,
           325,
           275,
           275,
           275,
           375,
           350,
           375,
           275,
           400,
           350,
           350,
           300,
           350,
           350,
           375,
           300,
           275,
           375,
           250,
           275,
           300,
           400,
           375,
           375,
           325,
           375,
           325,
           325,
           375,
           300,
           250,
           375,
           250,
           300,
           325,
           325,
           325,
           350,
           375,
           325,
           325,
           350,
           350,
           400,
           325,
           375,
           325,
           325,
           375,
           375,
           325,
           325,
           345,
           325,
           300,
           330,
           325,
           275,
           275,
           350,
           325,
           375,
           250,
           375,
           350,
           300,
           300,
           325,
           325,
           275,
           350,
           325,
           350,
           250,
           325,
           300,
           350,
           300,
           325,
           325,
           275,
           325,
           375,
           225,
           350,
           250,
           375,
           325,
           350,
           275,
           300,
           350,
           275
          ],
          "coloraxis": "coloraxis",
          "symbol": "circle"
         },
         "mode": "markers",
         "name": "",
         "scene": "scene",
         "showlegend": false,
         "type": "scatter3d",
         "x": [
          16.5,
          20,
          17,
          18,
          18.5,
          18,
          16.5,
          18,
          18.5,
          17,
          20,
          20,
          18,
          18,
          19,
          18,
          18.5,
          19,
          18,
          19,
          16.5,
          18,
          21.5,
          17.5,
          20,
          18.5,
          18.5,
          20.5,
          15.5,
          18,
          18.5,
          20,
          20,
          21.5,
          21,
          19,
          17,
          19,
          21.5,
          17.5,
          20,
          21,
          20,
          20,
          20,
          16,
          20.5,
          20,
          19.5,
          18,
          20.5,
          20,
          18,
          18,
          18,
          17,
          16,
          19,
          18,
          19,
          17,
          19,
          20,
          19,
          19,
          19,
          19,
          19.5,
          21.5,
          17,
          18.5,
          19,
          19,
          20.5,
          21,
          18,
          18,
          19.5,
          19,
          18.5,
          22.5,
          19.5,
          17.5,
          19,
          15.5,
          19,
          21,
          19.5,
          18,
          20,
          20.5,
          20.5,
          16.5,
          19,
          21,
          17.5,
          20.5,
          18,
          20,
          18,
          19.5,
          18,
          19,
          22.5,
          19,
          18.5,
          19,
          19.5,
          16.5,
          20,
          19.5,
          19,
          22.5,
          18,
          18,
          18.5,
          19,
          18.5,
          19,
          20,
          18.5,
          21,
          17,
          21,
          18,
          18.5,
          17,
          22,
          19,
          22.5,
          19,
          18.5,
          20.5,
          19.5,
          18,
          21,
          18,
          21.5,
          18.5,
          22,
          18.5,
          17.5,
          17.5,
          22
         ],
         "y": [
          15,
          18.5,
          16,
          16,
          17.5,
          17,
          15.5,
          17,
          17,
          16.5,
          18.5,
          19,
          16.5,
          16.5,
          17.5,
          16.5,
          16.5,
          17.5,
          16.5,
          18.5,
          15,
          16.5,
          19.5,
          16,
          17.5,
          16,
          18.5,
          18.5,
          14.5,
          16,
          16.5,
          18,
          18,
          19,
          19.5,
          17.5,
          15,
          18.5,
          20.5,
          15,
          18,
          20,
          18.5,
          19,
          18.5,
          15,
          20,
          20,
          16.5,
          16.5,
          18,
          19,
          17.5,
          16.5,
          16,
          15.5,
          14.5,
          19,
          17,
          18,
          15.5,
          18,
          19,
          17.5,
          16,
          17,
          17,
          17.5,
          19.5,
          16.5,
          17.5,
          18.5,
          18,
          19,
          19,
          16.5,
          17,
          18.5,
          17.5,
          17,
          20,
          18.5,
          17,
          17,
          15,
          17.5,
          19.5,
          17,
          16.5,
          18,
          18,
          18.3,
          16.5,
          17,
          20.5,
          17,
          20.5,
          16.5,
          17.5,
          16.5,
          19,
          17.5,
          17.5,
          21.5,
          17.5,
          18.5,
          18.5,
          17,
          16.5,
          18.5,
          18.5,
          18,
          22,
          17,
          17,
          18.5,
          17.5,
          17.5,
          18.5,
          18,
          17,
          20,
          16,
          19,
          16.5,
          17,
          15.5,
          20.5,
          16.5,
          21,
          18,
          18,
          18.5,
          18,
          17,
          20,
          16,
          20.5,
          16.5,
          21,
          18,
          16,
          16,
          20
         ],
         "z": [
          4,
          3,
          5,
          4,
          4,
          5.5,
          5.8,
          5,
          4.2,
          5,
          7,
          4.5,
          5.5,
          4.5,
          5,
          5.5,
          4.5,
          4,
          4.8,
          4,
          4.5,
          5,
          4.5,
          4,
          3.8,
          7,
          5.5,
          5,
          6.5,
          5,
          5,
          5.7,
          5,
          4.5,
          5.5,
          4.5,
          5,
          4,
          5,
          4.5,
          6.2,
          5.5,
          4.5,
          7,
          6.5,
          5,
          6,
          5,
          6,
          4.5,
          5,
          4,
          5.5,
          5,
          4,
          5,
          6.5,
          6.5,
          5.5,
          6,
          4.5,
          6,
          5.5,
          6,
          3.4,
          6,
          4.5,
          5,
          5,
          4.5,
          4.5,
          4,
          4,
          7,
          4.5,
          6,
          7,
          5,
          4.5,
          7,
          6.5,
          4.8,
          8.5,
          6,
          5,
          4.5,
          5.2,
          6,
          6,
          6.2,
          3,
          5.2,
          4.5,
          5,
          6.5,
          5.5,
          8,
          4.2,
          5,
          6.8,
          5,
          4.5,
          5,
          9,
          6,
          4.5,
          5,
          6,
          5,
          4.5,
          6,
          6,
          9,
          4,
          7,
          4.5,
          4,
          4.2,
          7,
          5.5,
          4.6,
          5.5,
          5.2,
          5.8,
          4.5,
          5,
          4.5,
          5.5,
          4.5,
          8,
          5.5,
          5.5,
          5.5,
          6.5,
          3.5,
          3.8,
          3.5,
          6,
          5.5,
          6.5,
          4,
          5,
          5,
          5.2
         ]
        }
       ],
       "layout": {
        "coloraxis": {
         "colorbar": {
          "title": {
           "text": "ImplantLeft"
          }
         },
         "colorscale": [
          [
           0,
           "#0d0887"
          ],
          [
           0.1111111111111111,
           "#46039f"
          ],
          [
           0.2222222222222222,
           "#7201a8"
          ],
          [
           0.3333333333333333,
           "#9c179e"
          ],
          [
           0.4444444444444444,
           "#bd3786"
          ],
          [
           0.5555555555555556,
           "#d8576b"
          ],
          [
           0.6666666666666666,
           "#ed7953"
          ],
          [
           0.7777777777777778,
           "#fb9f3a"
          ],
          [
           0.8888888888888888,
           "#fdca26"
          ],
          [
           1,
           "#f0f921"
          ]
         ]
        },
        "height": 600,
        "legend": {
         "tracegroupgap": 0
        },
        "margin": {
         "t": 60
        },
        "scene": {
         "domain": {
          "x": [
           0,
           0.98
          ],
          "y": [
           0,
           1
          ]
         },
         "xaxis": {
          "title": {
           "text": "PostOp-SNL"
          }
         },
         "yaxis": {
          "title": {
           "text": "PreOp-SNL"
          }
         },
         "zaxis": {
          "title": {
           "text": "PreOp-IMFL"
          }
         }
        },
        "template": {
         "data": {
          "bar": [
           {
            "error_x": {
             "color": "#2a3f5f"
            },
            "error_y": {
             "color": "#2a3f5f"
            },
            "marker": {
             "line": {
              "color": "#E5ECF6",
              "width": 0.5
             }
            },
            "type": "bar"
           }
          ],
          "barpolar": [
           {
            "marker": {
             "line": {
              "color": "#E5ECF6",
              "width": 0.5
             }
            },
            "type": "barpolar"
           }
          ],
          "carpet": [
           {
            "aaxis": {
             "endlinecolor": "#2a3f5f",
             "gridcolor": "white",
             "linecolor": "white",
             "minorgridcolor": "white",
             "startlinecolor": "#2a3f5f"
            },
            "baxis": {
             "endlinecolor": "#2a3f5f",
             "gridcolor": "white",
             "linecolor": "white",
             "minorgridcolor": "white",
             "startlinecolor": "#2a3f5f"
            },
            "type": "carpet"
           }
          ],
          "choropleth": [
           {
            "colorbar": {
             "outlinewidth": 0,
             "ticks": ""
            },
            "type": "choropleth"
           }
          ],
          "contour": [
           {
            "colorbar": {
             "outlinewidth": 0,
             "ticks": ""
            },
            "colorscale": [
             [
              0,
              "#0d0887"
             ],
             [
              0.1111111111111111,
              "#46039f"
             ],
             [
              0.2222222222222222,
              "#7201a8"
             ],
             [
              0.3333333333333333,
              "#9c179e"
             ],
             [
              0.4444444444444444,
              "#bd3786"
             ],
             [
              0.5555555555555556,
              "#d8576b"
             ],
             [
              0.6666666666666666,
              "#ed7953"
             ],
             [
              0.7777777777777778,
              "#fb9f3a"
             ],
             [
              0.8888888888888888,
              "#fdca26"
             ],
             [
              1,
              "#f0f921"
             ]
            ],
            "type": "contour"
           }
          ],
          "contourcarpet": [
           {
            "colorbar": {
             "outlinewidth": 0,
             "ticks": ""
            },
            "type": "contourcarpet"
           }
          ],
          "heatmap": [
           {
            "colorbar": {
             "outlinewidth": 0,
             "ticks": ""
            },
            "colorscale": [
             [
              0,
              "#0d0887"
             ],
             [
              0.1111111111111111,
              "#46039f"
             ],
             [
              0.2222222222222222,
              "#7201a8"
             ],
             [
              0.3333333333333333,
              "#9c179e"
             ],
             [
              0.4444444444444444,
              "#bd3786"
             ],
             [
              0.5555555555555556,
              "#d8576b"
             ],
             [
              0.6666666666666666,
              "#ed7953"
             ],
             [
              0.7777777777777778,
              "#fb9f3a"
             ],
             [
              0.8888888888888888,
              "#fdca26"
             ],
             [
              1,
              "#f0f921"
             ]
            ],
            "type": "heatmap"
           }
          ],
          "heatmapgl": [
           {
            "colorbar": {
             "outlinewidth": 0,
             "ticks": ""
            },
            "colorscale": [
             [
              0,
              "#0d0887"
             ],
             [
              0.1111111111111111,
              "#46039f"
             ],
             [
              0.2222222222222222,
              "#7201a8"
             ],
             [
              0.3333333333333333,
              "#9c179e"
             ],
             [
              0.4444444444444444,
              "#bd3786"
             ],
             [
              0.5555555555555556,
              "#d8576b"
             ],
             [
              0.6666666666666666,
              "#ed7953"
             ],
             [
              0.7777777777777778,
              "#fb9f3a"
             ],
             [
              0.8888888888888888,
              "#fdca26"
             ],
             [
              1,
              "#f0f921"
             ]
            ],
            "type": "heatmapgl"
           }
          ],
          "histogram": [
           {
            "marker": {
             "colorbar": {
              "outlinewidth": 0,
              "ticks": ""
             }
            },
            "type": "histogram"
           }
          ],
          "histogram2d": [
           {
            "colorbar": {
             "outlinewidth": 0,
             "ticks": ""
            },
            "colorscale": [
             [
              0,
              "#0d0887"
             ],
             [
              0.1111111111111111,
              "#46039f"
             ],
             [
              0.2222222222222222,
              "#7201a8"
             ],
             [
              0.3333333333333333,
              "#9c179e"
             ],
             [
              0.4444444444444444,
              "#bd3786"
             ],
             [
              0.5555555555555556,
              "#d8576b"
             ],
             [
              0.6666666666666666,
              "#ed7953"
             ],
             [
              0.7777777777777778,
              "#fb9f3a"
             ],
             [
              0.8888888888888888,
              "#fdca26"
             ],
             [
              1,
              "#f0f921"
             ]
            ],
            "type": "histogram2d"
           }
          ],
          "histogram2dcontour": [
           {
            "colorbar": {
             "outlinewidth": 0,
             "ticks": ""
            },
            "colorscale": [
             [
              0,
              "#0d0887"
             ],
             [
              0.1111111111111111,
              "#46039f"
             ],
             [
              0.2222222222222222,
              "#7201a8"
             ],
             [
              0.3333333333333333,
              "#9c179e"
             ],
             [
              0.4444444444444444,
              "#bd3786"
             ],
             [
              0.5555555555555556,
              "#d8576b"
             ],
             [
              0.6666666666666666,
              "#ed7953"
             ],
             [
              0.7777777777777778,
              "#fb9f3a"
             ],
             [
              0.8888888888888888,
              "#fdca26"
             ],
             [
              1,
              "#f0f921"
             ]
            ],
            "type": "histogram2dcontour"
           }
          ],
          "mesh3d": [
           {
            "colorbar": {
             "outlinewidth": 0,
             "ticks": ""
            },
            "type": "mesh3d"
           }
          ],
          "parcoords": [
           {
            "line": {
             "colorbar": {
              "outlinewidth": 0,
              "ticks": ""
             }
            },
            "type": "parcoords"
           }
          ],
          "scatter": [
           {
            "marker": {
             "colorbar": {
              "outlinewidth": 0,
              "ticks": ""
             }
            },
            "type": "scatter"
           }
          ],
          "scatter3d": [
           {
            "line": {
             "colorbar": {
              "outlinewidth": 0,
              "ticks": ""
             }
            },
            "marker": {
             "colorbar": {
              "outlinewidth": 0,
              "ticks": ""
             }
            },
            "type": "scatter3d"
           }
          ],
          "scattercarpet": [
           {
            "marker": {
             "colorbar": {
              "outlinewidth": 0,
              "ticks": ""
             }
            },
            "type": "scattercarpet"
           }
          ],
          "scattergeo": [
           {
            "marker": {
             "colorbar": {
              "outlinewidth": 0,
              "ticks": ""
             }
            },
            "type": "scattergeo"
           }
          ],
          "scattergl": [
           {
            "marker": {
             "colorbar": {
              "outlinewidth": 0,
              "ticks": ""
             }
            },
            "type": "scattergl"
           }
          ],
          "scattermapbox": [
           {
            "marker": {
             "colorbar": {
              "outlinewidth": 0,
              "ticks": ""
             }
            },
            "type": "scattermapbox"
           }
          ],
          "scatterpolar": [
           {
            "marker": {
             "colorbar": {
              "outlinewidth": 0,
              "ticks": ""
             }
            },
            "type": "scatterpolar"
           }
          ],
          "scatterpolargl": [
           {
            "marker": {
             "colorbar": {
              "outlinewidth": 0,
              "ticks": ""
             }
            },
            "type": "scatterpolargl"
           }
          ],
          "scatterternary": [
           {
            "marker": {
             "colorbar": {
              "outlinewidth": 0,
              "ticks": ""
             }
            },
            "type": "scatterternary"
           }
          ],
          "surface": [
           {
            "colorbar": {
             "outlinewidth": 0,
             "ticks": ""
            },
            "colorscale": [
             [
              0,
              "#0d0887"
             ],
             [
              0.1111111111111111,
              "#46039f"
             ],
             [
              0.2222222222222222,
              "#7201a8"
             ],
             [
              0.3333333333333333,
              "#9c179e"
             ],
             [
              0.4444444444444444,
              "#bd3786"
             ],
             [
              0.5555555555555556,
              "#d8576b"
             ],
             [
              0.6666666666666666,
              "#ed7953"
             ],
             [
              0.7777777777777778,
              "#fb9f3a"
             ],
             [
              0.8888888888888888,
              "#fdca26"
             ],
             [
              1,
              "#f0f921"
             ]
            ],
            "type": "surface"
           }
          ],
          "table": [
           {
            "cells": {
             "fill": {
              "color": "#EBF0F8"
             },
             "line": {
              "color": "white"
             }
            },
            "header": {
             "fill": {
              "color": "#C8D4E3"
             },
             "line": {
              "color": "white"
             }
            },
            "type": "table"
           }
          ]
         },
         "layout": {
          "annotationdefaults": {
           "arrowcolor": "#2a3f5f",
           "arrowhead": 0,
           "arrowwidth": 1
          },
          "colorscale": {
           "diverging": [
            [
             0,
             "#8e0152"
            ],
            [
             0.1,
             "#c51b7d"
            ],
            [
             0.2,
             "#de77ae"
            ],
            [
             0.3,
             "#f1b6da"
            ],
            [
             0.4,
             "#fde0ef"
            ],
            [
             0.5,
             "#f7f7f7"
            ],
            [
             0.6,
             "#e6f5d0"
            ],
            [
             0.7,
             "#b8e186"
            ],
            [
             0.8,
             "#7fbc41"
            ],
            [
             0.9,
             "#4d9221"
            ],
            [
             1,
             "#276419"
            ]
           ],
           "sequential": [
            [
             0,
             "#0d0887"
            ],
            [
             0.1111111111111111,
             "#46039f"
            ],
            [
             0.2222222222222222,
             "#7201a8"
            ],
            [
             0.3333333333333333,
             "#9c179e"
            ],
            [
             0.4444444444444444,
             "#bd3786"
            ],
            [
             0.5555555555555556,
             "#d8576b"
            ],
            [
             0.6666666666666666,
             "#ed7953"
            ],
            [
             0.7777777777777778,
             "#fb9f3a"
            ],
            [
             0.8888888888888888,
             "#fdca26"
            ],
            [
             1,
             "#f0f921"
            ]
           ],
           "sequentialminus": [
            [
             0,
             "#0d0887"
            ],
            [
             0.1111111111111111,
             "#46039f"
            ],
            [
             0.2222222222222222,
             "#7201a8"
            ],
            [
             0.3333333333333333,
             "#9c179e"
            ],
            [
             0.4444444444444444,
             "#bd3786"
            ],
            [
             0.5555555555555556,
             "#d8576b"
            ],
            [
             0.6666666666666666,
             "#ed7953"
            ],
            [
             0.7777777777777778,
             "#fb9f3a"
            ],
            [
             0.8888888888888888,
             "#fdca26"
            ],
            [
             1,
             "#f0f921"
            ]
           ]
          },
          "colorway": [
           "#636efa",
           "#EF553B",
           "#00cc96",
           "#ab63fa",
           "#FFA15A",
           "#19d3f3",
           "#FF6692",
           "#B6E880",
           "#FF97FF",
           "#FECB52"
          ],
          "font": {
           "color": "#2a3f5f"
          },
          "geo": {
           "bgcolor": "white",
           "lakecolor": "white",
           "landcolor": "#E5ECF6",
           "showlakes": true,
           "showland": true,
           "subunitcolor": "white"
          },
          "hoverlabel": {
           "align": "left"
          },
          "hovermode": "closest",
          "mapbox": {
           "style": "light"
          },
          "paper_bgcolor": "white",
          "plot_bgcolor": "#E5ECF6",
          "polar": {
           "angularaxis": {
            "gridcolor": "white",
            "linecolor": "white",
            "ticks": ""
           },
           "bgcolor": "#E5ECF6",
           "radialaxis": {
            "gridcolor": "white",
            "linecolor": "white",
            "ticks": ""
           }
          },
          "scene": {
           "xaxis": {
            "backgroundcolor": "#E5ECF6",
            "gridcolor": "white",
            "gridwidth": 2,
            "linecolor": "white",
            "showbackground": true,
            "ticks": "",
            "zerolinecolor": "white"
           },
           "yaxis": {
            "backgroundcolor": "#E5ECF6",
            "gridcolor": "white",
            "gridwidth": 2,
            "linecolor": "white",
            "showbackground": true,
            "ticks": "",
            "zerolinecolor": "white"
           },
           "zaxis": {
            "backgroundcolor": "#E5ECF6",
            "gridcolor": "white",
            "gridwidth": 2,
            "linecolor": "white",
            "showbackground": true,
            "ticks": "",
            "zerolinecolor": "white"
           }
          },
          "shapedefaults": {
           "line": {
            "color": "#2a3f5f"
           }
          },
          "ternary": {
           "aaxis": {
            "gridcolor": "white",
            "linecolor": "white",
            "ticks": ""
           },
           "baxis": {
            "gridcolor": "white",
            "linecolor": "white",
            "ticks": ""
           },
           "bgcolor": "#E5ECF6",
           "caxis": {
            "gridcolor": "white",
            "linecolor": "white",
            "ticks": ""
           }
          },
          "title": {
           "x": 0.05
          },
          "xaxis": {
           "automargin": true,
           "gridcolor": "white",
           "linecolor": "white",
           "ticks": "",
           "zerolinecolor": "white",
           "zerolinewidth": 2
          },
          "yaxis": {
           "automargin": true,
           "gridcolor": "white",
           "linecolor": "white",
           "ticks": "",
           "zerolinecolor": "white",
           "zerolinewidth": 2
          }
         }
        }
       }
      },
      "text/html": [
       "<div>\n",
       "        \n",
       "        \n",
       "            <div id=\"62aa1335-2446-439b-842e-99269629d9c2\" class=\"plotly-graph-div\" style=\"height:600px; width:100%;\"></div>\n",
       "            <script type=\"text/javascript\">\n",
       "                require([\"plotly\"], function(Plotly) {\n",
       "                    window.PLOTLYENV=window.PLOTLYENV || {};\n",
       "                    \n",
       "                if (document.getElementById(\"62aa1335-2446-439b-842e-99269629d9c2\")) {\n",
       "                    Plotly.newPlot(\n",
       "                        '62aa1335-2446-439b-842e-99269629d9c2',\n",
       "                        [{\"hoverlabel\": {\"namelength\": 0}, \"hovertemplate\": \"PostOp-SNL=%{x}<br>PreOp-SNL=%{y}<br>PreOp-IMFL=%{z}<br>ImplantLeft=%{marker.color}\", \"legendgroup\": \"\", \"marker\": {\"color\": [275, 275, 275, 275, 300, 300, 300, 300, 300, 325, 325, 325, 325, 325, 325, 325, 325, 325, 325, 325, 325, 325, 350, 350, 350, 350, 350, 350, 350, 350, 350, 350, 350, 350, 350, 350, 375, 375, 375, 375, 375, 400, 275, 325, 300, 325, 350, 450, 350, 350, 325, 325, 275, 275, 275, 375, 350, 375, 275, 400, 350, 350, 300, 350, 350, 375, 300, 275, 375, 250, 275, 300, 400, 375, 375, 325, 375, 325, 325, 375, 300, 250, 375, 250, 300, 325, 325, 325, 350, 375, 325, 325, 350, 350, 400, 325, 375, 325, 325, 375, 375, 325, 325, 345, 325, 300, 330, 325, 275, 275, 350, 325, 375, 250, 375, 350, 300, 300, 325, 325, 275, 350, 325, 350, 250, 325, 300, 350, 300, 325, 325, 275, 325, 375, 225, 350, 250, 375, 325, 350, 275, 300, 350, 275], \"coloraxis\": \"coloraxis\", \"symbol\": \"circle\"}, \"mode\": \"markers\", \"name\": \"\", \"scene\": \"scene\", \"showlegend\": false, \"type\": \"scatter3d\", \"x\": [16.5, 20.0, 17.0, 18.0, 18.5, 18.0, 16.5, 18.0, 18.5, 17.0, 20.0, 20.0, 18.0, 18.0, 19.0, 18.0, 18.5, 19.0, 18.0, 19.0, 16.5, 18.0, 21.5, 17.5, 20.0, 18.5, 18.5, 20.5, 15.5, 18.0, 18.5, 20.0, 20.0, 21.5, 21.0, 19.0, 17.0, 19.0, 21.5, 17.5, 20.0, 21.0, 20.0, 20.0, 20.0, 16.0, 20.5, 20.0, 19.5, 18.0, 20.5, 20.0, 18.0, 18.0, 18.0, 17.0, 16.0, 19.0, 18.0, 19.0, 17.0, 19.0, 20.0, 19.0, 19.0, 19.0, 19.0, 19.5, 21.5, 17.0, 18.5, 19.0, 19.0, 20.5, 21.0, 18.0, 18.0, 19.5, 19.0, 18.5, 22.5, 19.5, 17.5, 19.0, 15.5, 19.0, 21.0, 19.5, 18.0, 20.0, 20.5, 20.5, 16.5, 19.0, 21.0, 17.5, 20.5, 18.0, 20.0, 18.0, 19.5, 18.0, 19.0, 22.5, 19.0, 18.5, 19.0, 19.5, 16.5, 20.0, 19.5, 19.0, 22.5, 18.0, 18.0, 18.5, 19.0, 18.5, 19.0, 20.0, 18.5, 21.0, 17.0, 21.0, 18.0, 18.5, 17.0, 22.0, 19.0, 22.5, 19.0, 18.5, 20.5, 19.5, 18.0, 21.0, 18.0, 21.5, 18.5, 22.0, 18.5, 17.5, 17.5, 22.0], \"y\": [15.0, 18.5, 16.0, 16.0, 17.5, 17.0, 15.5, 17.0, 17.0, 16.5, 18.5, 19.0, 16.5, 16.5, 17.5, 16.5, 16.5, 17.5, 16.5, 18.5, 15.0, 16.5, 19.5, 16.0, 17.5, 16.0, 18.5, 18.5, 14.5, 16.0, 16.5, 18.0, 18.0, 19.0, 19.5, 17.5, 15.0, 18.5, 20.5, 15.0, 18.0, 20.0, 18.5, 19.0, 18.5, 15.0, 20.0, 20.0, 16.5, 16.5, 18.0, 19.0, 17.5, 16.5, 16.0, 15.5, 14.5, 19.0, 17.0, 18.0, 15.5, 18.0, 19.0, 17.5, 16.0, 17.0, 17.0, 17.5, 19.5, 16.5, 17.5, 18.5, 18.0, 19.0, 19.0, 16.5, 17.0, 18.5, 17.5, 17.0, 20.0, 18.5, 17.0, 17.0, 15.0, 17.5, 19.5, 17.0, 16.5, 18.0, 18.0, 18.3, 16.5, 17.0, 20.5, 17.0, 20.5, 16.5, 17.5, 16.5, 19.0, 17.5, 17.5, 21.5, 17.5, 18.5, 18.5, 17.0, 16.5, 18.5, 18.5, 18.0, 22.0, 17.0, 17.0, 18.5, 17.5, 17.5, 18.5, 18.0, 17.0, 20.0, 16.0, 19.0, 16.5, 17.0, 15.5, 20.5, 16.5, 21.0, 18.0, 18.0, 18.5, 18.0, 17.0, 20.0, 16.0, 20.5, 16.5, 21.0, 18.0, 16.0, 16.0, 20.0], \"z\": [4.0, 3.0, 5.0, 4.0, 4.0, 5.5, 5.8, 5.0, 4.2, 5.0, 7.0, 4.5, 5.5, 4.5, 5.0, 5.5, 4.5, 4.0, 4.8, 4.0, 4.5, 5.0, 4.5, 4.0, 3.8, 7.0, 5.5, 5.0, 6.5, 5.0, 5.0, 5.7, 5.0, 4.5, 5.5, 4.5, 5.0, 4.0, 5.0, 4.5, 6.2, 5.5, 4.5, 7.0, 6.5, 5.0, 6.0, 5.0, 6.0, 4.5, 5.0, 4.0, 5.5, 5.0, 4.0, 5.0, 6.5, 6.5, 5.5, 6.0, 4.5, 6.0, 5.5, 6.0, 3.4, 6.0, 4.5, 5.0, 5.0, 4.5, 4.5, 4.0, 4.0, 7.0, 4.5, 6.0, 7.0, 5.0, 4.5, 7.0, 6.5, 4.8, 8.5, 6.0, 5.0, 4.5, 5.2, 6.0, 6.0, 6.2, 3.0, 5.2, 4.5, 5.0, 6.5, 5.5, 8.0, 4.2, 5.0, 6.8, 5.0, 4.5, 5.0, 9.0, 6.0, 4.5, 5.0, 6.0, 5.0, 4.5, 6.0, 6.0, 9.0, 4.0, 7.0, 4.5, 4.0, 4.2, 7.0, 5.5, 4.6, 5.5, 5.2, 5.8, 4.5, 5.0, 4.5, 5.5, 4.5, 8.0, 5.5, 5.5, 5.5, 6.5, 3.5, 3.8, 3.5, 6.0, 5.5, 6.5, 4.0, 5.0, 5.0, 5.2]}],\n",
       "                        {\"coloraxis\": {\"colorbar\": {\"title\": {\"text\": \"ImplantLeft\"}}, \"colorscale\": [[0.0, \"#0d0887\"], [0.1111111111111111, \"#46039f\"], [0.2222222222222222, \"#7201a8\"], [0.3333333333333333, \"#9c179e\"], [0.4444444444444444, \"#bd3786\"], [0.5555555555555556, \"#d8576b\"], [0.6666666666666666, \"#ed7953\"], [0.7777777777777778, \"#fb9f3a\"], [0.8888888888888888, \"#fdca26\"], [1.0, \"#f0f921\"]]}, \"height\": 600, \"legend\": {\"tracegroupgap\": 0}, \"margin\": {\"t\": 60}, \"scene\": {\"domain\": {\"x\": [0.0, 0.98], \"y\": [0.0, 1.0]}, \"xaxis\": {\"title\": {\"text\": \"PostOp-SNL\"}}, \"yaxis\": {\"title\": {\"text\": \"PreOp-SNL\"}}, \"zaxis\": {\"title\": {\"text\": \"PreOp-IMFL\"}}}, \"template\": {\"data\": {\"bar\": [{\"error_x\": {\"color\": \"#2a3f5f\"}, \"error_y\": {\"color\": \"#2a3f5f\"}, \"marker\": {\"line\": {\"color\": \"#E5ECF6\", \"width\": 0.5}}, \"type\": \"bar\"}], \"barpolar\": [{\"marker\": {\"line\": {\"color\": \"#E5ECF6\", \"width\": 0.5}}, \"type\": \"barpolar\"}], \"carpet\": [{\"aaxis\": {\"endlinecolor\": \"#2a3f5f\", \"gridcolor\": \"white\", \"linecolor\": \"white\", \"minorgridcolor\": \"white\", \"startlinecolor\": \"#2a3f5f\"}, \"baxis\": {\"endlinecolor\": \"#2a3f5f\", \"gridcolor\": \"white\", \"linecolor\": \"white\", \"minorgridcolor\": \"white\", \"startlinecolor\": \"#2a3f5f\"}, \"type\": \"carpet\"}], \"choropleth\": [{\"colorbar\": {\"outlinewidth\": 0, \"ticks\": \"\"}, \"type\": \"choropleth\"}], \"contour\": [{\"colorbar\": {\"outlinewidth\": 0, \"ticks\": \"\"}, \"colorscale\": [[0.0, \"#0d0887\"], [0.1111111111111111, \"#46039f\"], [0.2222222222222222, \"#7201a8\"], [0.3333333333333333, \"#9c179e\"], [0.4444444444444444, \"#bd3786\"], [0.5555555555555556, \"#d8576b\"], [0.6666666666666666, \"#ed7953\"], [0.7777777777777778, \"#fb9f3a\"], [0.8888888888888888, \"#fdca26\"], [1.0, \"#f0f921\"]], \"type\": \"contour\"}], \"contourcarpet\": [{\"colorbar\": {\"outlinewidth\": 0, \"ticks\": \"\"}, \"type\": \"contourcarpet\"}], \"heatmap\": [{\"colorbar\": {\"outlinewidth\": 0, \"ticks\": \"\"}, \"colorscale\": [[0.0, \"#0d0887\"], [0.1111111111111111, \"#46039f\"], [0.2222222222222222, \"#7201a8\"], [0.3333333333333333, \"#9c179e\"], [0.4444444444444444, \"#bd3786\"], [0.5555555555555556, \"#d8576b\"], [0.6666666666666666, \"#ed7953\"], [0.7777777777777778, \"#fb9f3a\"], [0.8888888888888888, \"#fdca26\"], [1.0, \"#f0f921\"]], \"type\": \"heatmap\"}], \"heatmapgl\": [{\"colorbar\": {\"outlinewidth\": 0, \"ticks\": \"\"}, \"colorscale\": [[0.0, \"#0d0887\"], [0.1111111111111111, \"#46039f\"], [0.2222222222222222, \"#7201a8\"], [0.3333333333333333, \"#9c179e\"], [0.4444444444444444, \"#bd3786\"], [0.5555555555555556, \"#d8576b\"], [0.6666666666666666, \"#ed7953\"], [0.7777777777777778, \"#fb9f3a\"], [0.8888888888888888, \"#fdca26\"], [1.0, \"#f0f921\"]], \"type\": \"heatmapgl\"}], \"histogram\": [{\"marker\": {\"colorbar\": {\"outlinewidth\": 0, \"ticks\": \"\"}}, \"type\": \"histogram\"}], \"histogram2d\": [{\"colorbar\": {\"outlinewidth\": 0, \"ticks\": \"\"}, \"colorscale\": [[0.0, \"#0d0887\"], [0.1111111111111111, \"#46039f\"], [0.2222222222222222, \"#7201a8\"], [0.3333333333333333, \"#9c179e\"], [0.4444444444444444, \"#bd3786\"], [0.5555555555555556, \"#d8576b\"], [0.6666666666666666, \"#ed7953\"], [0.7777777777777778, \"#fb9f3a\"], [0.8888888888888888, \"#fdca26\"], [1.0, \"#f0f921\"]], \"type\": \"histogram2d\"}], \"histogram2dcontour\": [{\"colorbar\": {\"outlinewidth\": 0, \"ticks\": \"\"}, \"colorscale\": [[0.0, \"#0d0887\"], [0.1111111111111111, \"#46039f\"], [0.2222222222222222, \"#7201a8\"], [0.3333333333333333, \"#9c179e\"], [0.4444444444444444, \"#bd3786\"], [0.5555555555555556, \"#d8576b\"], [0.6666666666666666, \"#ed7953\"], [0.7777777777777778, \"#fb9f3a\"], [0.8888888888888888, \"#fdca26\"], [1.0, \"#f0f921\"]], \"type\": \"histogram2dcontour\"}], \"mesh3d\": [{\"colorbar\": {\"outlinewidth\": 0, \"ticks\": \"\"}, \"type\": \"mesh3d\"}], \"parcoords\": [{\"line\": {\"colorbar\": {\"outlinewidth\": 0, \"ticks\": \"\"}}, \"type\": \"parcoords\"}], \"scatter\": [{\"marker\": {\"colorbar\": {\"outlinewidth\": 0, \"ticks\": \"\"}}, \"type\": \"scatter\"}], \"scatter3d\": [{\"line\": {\"colorbar\": {\"outlinewidth\": 0, \"ticks\": \"\"}}, \"marker\": {\"colorbar\": {\"outlinewidth\": 0, \"ticks\": \"\"}}, \"type\": \"scatter3d\"}], \"scattercarpet\": [{\"marker\": {\"colorbar\": {\"outlinewidth\": 0, \"ticks\": \"\"}}, \"type\": \"scattercarpet\"}], \"scattergeo\": [{\"marker\": {\"colorbar\": {\"outlinewidth\": 0, \"ticks\": \"\"}}, \"type\": \"scattergeo\"}], \"scattergl\": [{\"marker\": {\"colorbar\": {\"outlinewidth\": 0, \"ticks\": \"\"}}, \"type\": \"scattergl\"}], \"scattermapbox\": [{\"marker\": {\"colorbar\": {\"outlinewidth\": 0, \"ticks\": \"\"}}, \"type\": \"scattermapbox\"}], \"scatterpolar\": [{\"marker\": {\"colorbar\": {\"outlinewidth\": 0, \"ticks\": \"\"}}, \"type\": \"scatterpolar\"}], \"scatterpolargl\": [{\"marker\": {\"colorbar\": {\"outlinewidth\": 0, \"ticks\": \"\"}}, \"type\": \"scatterpolargl\"}], \"scatterternary\": [{\"marker\": {\"colorbar\": {\"outlinewidth\": 0, \"ticks\": \"\"}}, \"type\": \"scatterternary\"}], \"surface\": [{\"colorbar\": {\"outlinewidth\": 0, \"ticks\": \"\"}, \"colorscale\": [[0.0, \"#0d0887\"], [0.1111111111111111, \"#46039f\"], [0.2222222222222222, \"#7201a8\"], [0.3333333333333333, \"#9c179e\"], [0.4444444444444444, \"#bd3786\"], [0.5555555555555556, \"#d8576b\"], [0.6666666666666666, \"#ed7953\"], [0.7777777777777778, \"#fb9f3a\"], [0.8888888888888888, \"#fdca26\"], [1.0, \"#f0f921\"]], \"type\": \"surface\"}], \"table\": [{\"cells\": {\"fill\": {\"color\": \"#EBF0F8\"}, \"line\": {\"color\": \"white\"}}, \"header\": {\"fill\": {\"color\": \"#C8D4E3\"}, \"line\": {\"color\": \"white\"}}, \"type\": \"table\"}]}, \"layout\": {\"annotationdefaults\": {\"arrowcolor\": \"#2a3f5f\", \"arrowhead\": 0, \"arrowwidth\": 1}, \"colorscale\": {\"diverging\": [[0, \"#8e0152\"], [0.1, \"#c51b7d\"], [0.2, \"#de77ae\"], [0.3, \"#f1b6da\"], [0.4, \"#fde0ef\"], [0.5, \"#f7f7f7\"], [0.6, \"#e6f5d0\"], [0.7, \"#b8e186\"], [0.8, \"#7fbc41\"], [0.9, \"#4d9221\"], [1, \"#276419\"]], \"sequential\": [[0.0, \"#0d0887\"], [0.1111111111111111, \"#46039f\"], [0.2222222222222222, \"#7201a8\"], [0.3333333333333333, \"#9c179e\"], [0.4444444444444444, \"#bd3786\"], [0.5555555555555556, \"#d8576b\"], [0.6666666666666666, \"#ed7953\"], [0.7777777777777778, \"#fb9f3a\"], [0.8888888888888888, \"#fdca26\"], [1.0, \"#f0f921\"]], \"sequentialminus\": [[0.0, \"#0d0887\"], [0.1111111111111111, \"#46039f\"], [0.2222222222222222, \"#7201a8\"], [0.3333333333333333, \"#9c179e\"], [0.4444444444444444, \"#bd3786\"], [0.5555555555555556, \"#d8576b\"], [0.6666666666666666, \"#ed7953\"], [0.7777777777777778, \"#fb9f3a\"], [0.8888888888888888, \"#fdca26\"], [1.0, \"#f0f921\"]]}, \"colorway\": [\"#636efa\", \"#EF553B\", \"#00cc96\", \"#ab63fa\", \"#FFA15A\", \"#19d3f3\", \"#FF6692\", \"#B6E880\", \"#FF97FF\", \"#FECB52\"], \"font\": {\"color\": \"#2a3f5f\"}, \"geo\": {\"bgcolor\": \"white\", \"lakecolor\": \"white\", \"landcolor\": \"#E5ECF6\", \"showlakes\": true, \"showland\": true, \"subunitcolor\": \"white\"}, \"hoverlabel\": {\"align\": \"left\"}, \"hovermode\": \"closest\", \"mapbox\": {\"style\": \"light\"}, \"paper_bgcolor\": \"white\", \"plot_bgcolor\": \"#E5ECF6\", \"polar\": {\"angularaxis\": {\"gridcolor\": \"white\", \"linecolor\": \"white\", \"ticks\": \"\"}, \"bgcolor\": \"#E5ECF6\", \"radialaxis\": {\"gridcolor\": \"white\", \"linecolor\": \"white\", \"ticks\": \"\"}}, \"scene\": {\"xaxis\": {\"backgroundcolor\": \"#E5ECF6\", \"gridcolor\": \"white\", \"gridwidth\": 2, \"linecolor\": \"white\", \"showbackground\": true, \"ticks\": \"\", \"zerolinecolor\": \"white\"}, \"yaxis\": {\"backgroundcolor\": \"#E5ECF6\", \"gridcolor\": \"white\", \"gridwidth\": 2, \"linecolor\": \"white\", \"showbackground\": true, \"ticks\": \"\", \"zerolinecolor\": \"white\"}, \"zaxis\": {\"backgroundcolor\": \"#E5ECF6\", \"gridcolor\": \"white\", \"gridwidth\": 2, \"linecolor\": \"white\", \"showbackground\": true, \"ticks\": \"\", \"zerolinecolor\": \"white\"}}, \"shapedefaults\": {\"line\": {\"color\": \"#2a3f5f\"}}, \"ternary\": {\"aaxis\": {\"gridcolor\": \"white\", \"linecolor\": \"white\", \"ticks\": \"\"}, \"baxis\": {\"gridcolor\": \"white\", \"linecolor\": \"white\", \"ticks\": \"\"}, \"bgcolor\": \"#E5ECF6\", \"caxis\": {\"gridcolor\": \"white\", \"linecolor\": \"white\", \"ticks\": \"\"}}, \"title\": {\"x\": 0.05}, \"xaxis\": {\"automargin\": true, \"gridcolor\": \"white\", \"linecolor\": \"white\", \"ticks\": \"\", \"zerolinecolor\": \"white\", \"zerolinewidth\": 2}, \"yaxis\": {\"automargin\": true, \"gridcolor\": \"white\", \"linecolor\": \"white\", \"ticks\": \"\", \"zerolinecolor\": \"white\", \"zerolinewidth\": 2}}}},\n",
       "                        {\"responsive\": true}\n",
       "                    ).then(function(){\n",
       "                            \n",
       "var gd = document.getElementById('62aa1335-2446-439b-842e-99269629d9c2');\n",
       "var x = new MutationObserver(function (mutations, observer) {{\n",
       "        var display = window.getComputedStyle(gd).display;\n",
       "        if (!display || display === 'none') {{\n",
       "            console.log([gd, 'removed!']);\n",
       "            Plotly.purge(gd);\n",
       "            observer.disconnect();\n",
       "        }}\n",
       "}});\n",
       "\n",
       "// Listen for the removal of the full notebook cells\n",
       "var notebookContainer = gd.closest('#notebook-container');\n",
       "if (notebookContainer) {{\n",
       "    x.observe(notebookContainer, {childList: true});\n",
       "}}\n",
       "\n",
       "// Listen for the clearing of the current output cell\n",
       "var outputEl = gd.closest('.output');\n",
       "if (outputEl) {{\n",
       "    x.observe(outputEl, {childList: true});\n",
       "}}\n",
       "\n",
       "                        })\n",
       "                };\n",
       "                });\n",
       "            </script>\n",
       "        </div>"
      ]
     },
     "metadata": {},
     "output_type": "display_data"
    }
   ],
   "source": [
    "fig = px.scatter_3d(df, x='PostOp-SNL', y='PreOp-SNL', z='PreOp-IMFL', color='ImplantLeft')\n",
    "fig.show()"
   ]
  },
  {
   "cell_type": "markdown",
   "metadata": {},
   "source": [
    "## CN\n",
    "### CNR"
   ]
  },
  {
   "cell_type": "code",
   "execution_count": 48,
   "metadata": {},
   "outputs": [
    {
     "data": {
      "application/vnd.plotly.v1+json": {
       "config": {
        "plotlyServerURL": "https://plot.ly"
       },
       "data": [
        {
         "hoverlabel": {
          "namelength": 0
         },
         "hovertemplate": "PostOp-CNR=%{x}<br>PreOp-CNR=%{y}<br>ImplantRight=%{marker.color}",
         "legendgroup": "",
         "marker": {
          "color": [
           275,
           275,
           275,
           275,
           300,
           300,
           300,
           300,
           300,
           325,
           325,
           325,
           325,
           325,
           325,
           325,
           325,
           325,
           325,
           325,
           325,
           325,
           350,
           350,
           350,
           350,
           350,
           350,
           350,
           350,
           350,
           350,
           350,
           350,
           350,
           350,
           375,
           375,
           375,
           375,
           375,
           400,
           275,
           325,
           300,
           325,
           350,
           450,
           350,
           350,
           325,
           325,
           275,
           275,
           275,
           375,
           350,
           375,
           250,
           400,
           350,
           350,
           325,
           350,
           350,
           375,
           300,
           275,
           375,
           300,
           300,
           300,
           400,
           375,
           375,
           325,
           375,
           325,
           325,
           375,
           250,
           250,
           375,
           250,
           300,
           325,
           300,
           350,
           350,
           375,
           325,
           325,
           350,
           350,
           400,
           325,
           375,
           325,
           325,
           375,
           375,
           325,
           325,
           345,
           325,
           300,
           322,
           325,
           275,
           275,
           350,
           325,
           375,
           250,
           375,
           350,
           300,
           300,
           325,
           325,
           275,
           350,
           325,
           350,
           250,
           325,
           300,
           350,
           300,
           325,
           325,
           275,
           325,
           375,
           225,
           350,
           250,
           375,
           325,
           350,
           275,
           300,
           350,
           275
          ],
          "coloraxis": "coloraxis",
          "symbol": "circle"
         },
         "mode": "markers",
         "name": "",
         "scene": "scene",
         "showlegend": false,
         "type": "scatter3d",
         "x": [
          15,
          18,
          16.5,
          16.5,
          17.5,
          17,
          15,
          17.5,
          17.5,
          16,
          17.5,
          18.5,
          17.5,
          15.5,
          17.5,
          16.5,
          16,
          17,
          17,
          18,
          15,
          17,
          20,
          15.5,
          17,
          16,
          17.5,
          19,
          14.5,
          15,
          16.5,
          17.5,
          18,
          20,
          20,
          18,
          15,
          17,
          19,
          15,
          18,
          19,
          18.5,
          19,
          18,
          14,
          19,
          18.5,
          17,
          16,
          17.5,
          19.5,
          16.5,
          16.5,
          15,
          16,
          15,
          18,
          17,
          17,
          17.5,
          18,
          18,
          17,
          17,
          17,
          17,
          17.5,
          20,
          15.5,
          16.5,
          18,
          17.5,
          19.5,
          19,
          16.5,
          17,
          18,
          17,
          16.5,
          21,
          18,
          16.5,
          17,
          14.5,
          17,
          19.5,
          17.5,
          15.5,
          18,
          19,
          18.5,
          15,
          17,
          21,
          16,
          19,
          16.5,
          17.5,
          16.5,
          18.5,
          17.5,
          18,
          22.5,
          17,
          17.5,
          17.5,
          17.5,
          15,
          19,
          18.5,
          17,
          21.5,
          16,
          17.5,
          18,
          17.5,
          16.5,
          18,
          17.5,
          17,
          21,
          17,
          19.5,
          16.5,
          16.5,
          16,
          20,
          16.5,
          21.5,
          18,
          16.5,
          18.5,
          18.5,
          16.5,
          19.5,
          16.5,
          20,
          17.5,
          21,
          17.5,
          16,
          15.5,
          20
         ],
         "y": [
          13.5,
          17.5,
          14,
          15,
          16.5,
          16,
          14,
          15.5,
          16,
          15.5,
          17,
          17,
          16,
          15,
          16,
          15,
          14,
          15.5,
          16,
          17,
          13,
          15,
          18,
          14,
          15.5,
          15,
          17,
          17,
          13,
          14.5,
          14.5,
          16,
          16.5,
          18,
          18,
          16,
          13,
          16.5,
          18.5,
          13.5,
          16.5,
          18.5,
          17,
          18.5,
          17,
          13.5,
          18,
          18,
          15.5,
          15.5,
          16,
          18.5,
          16,
          15,
          15,
          14.5,
          13.5,
          15.5,
          15,
          15.5,
          16,
          17,
          16.5,
          16.5,
          15,
          15.5,
          15.5,
          16,
          18,
          15,
          16,
          16.5,
          16,
          18,
          17.5,
          15,
          15,
          17,
          15.5,
          15.5,
          20,
          16.5,
          15.5,
          15.5,
          13.5,
          15.5,
          19,
          15,
          14,
          16.5,
          16.5,
          17.5,
          14.5,
          15,
          20.5,
          15,
          19,
          14.5,
          15.5,
          14.5,
          17.5,
          16,
          15.5,
          20.5,
          16,
          16.5,
          17,
          15,
          14.5,
          16,
          17,
          16,
          21.5,
          15.3,
          15.5,
          17.5,
          16,
          16,
          17.5,
          16,
          15,
          19.5,
          14.5,
          17,
          15,
          14.5,
          14,
          18,
          14.5,
          20,
          16,
          16,
          16.5,
          16,
          15,
          18,
          14.5,
          19.5,
          15,
          19.5,
          16,
          14,
          14,
          18
         ],
         "z": [
          275,
          275,
          275,
          275,
          300,
          300,
          300,
          300,
          300,
          325,
          325,
          325,
          325,
          325,
          325,
          325,
          325,
          325,
          325,
          325,
          325,
          325,
          350,
          350,
          350,
          350,
          350,
          350,
          350,
          350,
          350,
          350,
          350,
          350,
          350,
          350,
          375,
          375,
          375,
          375,
          375,
          400,
          275,
          325,
          300,
          325,
          350,
          450,
          350,
          350,
          325,
          325,
          275,
          275,
          275,
          375,
          350,
          375,
          250,
          400,
          350,
          350,
          325,
          350,
          350,
          375,
          300,
          275,
          375,
          300,
          300,
          300,
          400,
          375,
          375,
          325,
          375,
          325,
          325,
          375,
          250,
          250,
          375,
          250,
          300,
          325,
          300,
          350,
          350,
          375,
          325,
          325,
          350,
          350,
          400,
          325,
          375,
          325,
          325,
          375,
          375,
          325,
          325,
          345,
          325,
          300,
          322,
          325,
          275,
          275,
          350,
          325,
          375,
          250,
          375,
          350,
          300,
          300,
          325,
          325,
          275,
          350,
          325,
          350,
          250,
          325,
          300,
          350,
          300,
          325,
          325,
          275,
          325,
          375,
          225,
          350,
          250,
          375,
          325,
          350,
          275,
          300,
          350,
          275
         ]
        }
       ],
       "layout": {
        "coloraxis": {
         "colorbar": {
          "title": {
           "text": "ImplantRight"
          }
         },
         "colorscale": [
          [
           0,
           "#0d0887"
          ],
          [
           0.1111111111111111,
           "#46039f"
          ],
          [
           0.2222222222222222,
           "#7201a8"
          ],
          [
           0.3333333333333333,
           "#9c179e"
          ],
          [
           0.4444444444444444,
           "#bd3786"
          ],
          [
           0.5555555555555556,
           "#d8576b"
          ],
          [
           0.6666666666666666,
           "#ed7953"
          ],
          [
           0.7777777777777778,
           "#fb9f3a"
          ],
          [
           0.8888888888888888,
           "#fdca26"
          ],
          [
           1,
           "#f0f921"
          ]
         ]
        },
        "height": 600,
        "legend": {
         "tracegroupgap": 0
        },
        "margin": {
         "t": 60
        },
        "scene": {
         "domain": {
          "x": [
           0,
           0.98
          ],
          "y": [
           0,
           1
          ]
         },
         "xaxis": {
          "title": {
           "text": "PostOp-CNR"
          }
         },
         "yaxis": {
          "title": {
           "text": "PreOp-CNR"
          }
         },
         "zaxis": {
          "title": {
           "text": "ImplantRight"
          }
         }
        },
        "template": {
         "data": {
          "bar": [
           {
            "error_x": {
             "color": "#2a3f5f"
            },
            "error_y": {
             "color": "#2a3f5f"
            },
            "marker": {
             "line": {
              "color": "#E5ECF6",
              "width": 0.5
             }
            },
            "type": "bar"
           }
          ],
          "barpolar": [
           {
            "marker": {
             "line": {
              "color": "#E5ECF6",
              "width": 0.5
             }
            },
            "type": "barpolar"
           }
          ],
          "carpet": [
           {
            "aaxis": {
             "endlinecolor": "#2a3f5f",
             "gridcolor": "white",
             "linecolor": "white",
             "minorgridcolor": "white",
             "startlinecolor": "#2a3f5f"
            },
            "baxis": {
             "endlinecolor": "#2a3f5f",
             "gridcolor": "white",
             "linecolor": "white",
             "minorgridcolor": "white",
             "startlinecolor": "#2a3f5f"
            },
            "type": "carpet"
           }
          ],
          "choropleth": [
           {
            "colorbar": {
             "outlinewidth": 0,
             "ticks": ""
            },
            "type": "choropleth"
           }
          ],
          "contour": [
           {
            "colorbar": {
             "outlinewidth": 0,
             "ticks": ""
            },
            "colorscale": [
             [
              0,
              "#0d0887"
             ],
             [
              0.1111111111111111,
              "#46039f"
             ],
             [
              0.2222222222222222,
              "#7201a8"
             ],
             [
              0.3333333333333333,
              "#9c179e"
             ],
             [
              0.4444444444444444,
              "#bd3786"
             ],
             [
              0.5555555555555556,
              "#d8576b"
             ],
             [
              0.6666666666666666,
              "#ed7953"
             ],
             [
              0.7777777777777778,
              "#fb9f3a"
             ],
             [
              0.8888888888888888,
              "#fdca26"
             ],
             [
              1,
              "#f0f921"
             ]
            ],
            "type": "contour"
           }
          ],
          "contourcarpet": [
           {
            "colorbar": {
             "outlinewidth": 0,
             "ticks": ""
            },
            "type": "contourcarpet"
           }
          ],
          "heatmap": [
           {
            "colorbar": {
             "outlinewidth": 0,
             "ticks": ""
            },
            "colorscale": [
             [
              0,
              "#0d0887"
             ],
             [
              0.1111111111111111,
              "#46039f"
             ],
             [
              0.2222222222222222,
              "#7201a8"
             ],
             [
              0.3333333333333333,
              "#9c179e"
             ],
             [
              0.4444444444444444,
              "#bd3786"
             ],
             [
              0.5555555555555556,
              "#d8576b"
             ],
             [
              0.6666666666666666,
              "#ed7953"
             ],
             [
              0.7777777777777778,
              "#fb9f3a"
             ],
             [
              0.8888888888888888,
              "#fdca26"
             ],
             [
              1,
              "#f0f921"
             ]
            ],
            "type": "heatmap"
           }
          ],
          "heatmapgl": [
           {
            "colorbar": {
             "outlinewidth": 0,
             "ticks": ""
            },
            "colorscale": [
             [
              0,
              "#0d0887"
             ],
             [
              0.1111111111111111,
              "#46039f"
             ],
             [
              0.2222222222222222,
              "#7201a8"
             ],
             [
              0.3333333333333333,
              "#9c179e"
             ],
             [
              0.4444444444444444,
              "#bd3786"
             ],
             [
              0.5555555555555556,
              "#d8576b"
             ],
             [
              0.6666666666666666,
              "#ed7953"
             ],
             [
              0.7777777777777778,
              "#fb9f3a"
             ],
             [
              0.8888888888888888,
              "#fdca26"
             ],
             [
              1,
              "#f0f921"
             ]
            ],
            "type": "heatmapgl"
           }
          ],
          "histogram": [
           {
            "marker": {
             "colorbar": {
              "outlinewidth": 0,
              "ticks": ""
             }
            },
            "type": "histogram"
           }
          ],
          "histogram2d": [
           {
            "colorbar": {
             "outlinewidth": 0,
             "ticks": ""
            },
            "colorscale": [
             [
              0,
              "#0d0887"
             ],
             [
              0.1111111111111111,
              "#46039f"
             ],
             [
              0.2222222222222222,
              "#7201a8"
             ],
             [
              0.3333333333333333,
              "#9c179e"
             ],
             [
              0.4444444444444444,
              "#bd3786"
             ],
             [
              0.5555555555555556,
              "#d8576b"
             ],
             [
              0.6666666666666666,
              "#ed7953"
             ],
             [
              0.7777777777777778,
              "#fb9f3a"
             ],
             [
              0.8888888888888888,
              "#fdca26"
             ],
             [
              1,
              "#f0f921"
             ]
            ],
            "type": "histogram2d"
           }
          ],
          "histogram2dcontour": [
           {
            "colorbar": {
             "outlinewidth": 0,
             "ticks": ""
            },
            "colorscale": [
             [
              0,
              "#0d0887"
             ],
             [
              0.1111111111111111,
              "#46039f"
             ],
             [
              0.2222222222222222,
              "#7201a8"
             ],
             [
              0.3333333333333333,
              "#9c179e"
             ],
             [
              0.4444444444444444,
              "#bd3786"
             ],
             [
              0.5555555555555556,
              "#d8576b"
             ],
             [
              0.6666666666666666,
              "#ed7953"
             ],
             [
              0.7777777777777778,
              "#fb9f3a"
             ],
             [
              0.8888888888888888,
              "#fdca26"
             ],
             [
              1,
              "#f0f921"
             ]
            ],
            "type": "histogram2dcontour"
           }
          ],
          "mesh3d": [
           {
            "colorbar": {
             "outlinewidth": 0,
             "ticks": ""
            },
            "type": "mesh3d"
           }
          ],
          "parcoords": [
           {
            "line": {
             "colorbar": {
              "outlinewidth": 0,
              "ticks": ""
             }
            },
            "type": "parcoords"
           }
          ],
          "scatter": [
           {
            "marker": {
             "colorbar": {
              "outlinewidth": 0,
              "ticks": ""
             }
            },
            "type": "scatter"
           }
          ],
          "scatter3d": [
           {
            "line": {
             "colorbar": {
              "outlinewidth": 0,
              "ticks": ""
             }
            },
            "marker": {
             "colorbar": {
              "outlinewidth": 0,
              "ticks": ""
             }
            },
            "type": "scatter3d"
           }
          ],
          "scattercarpet": [
           {
            "marker": {
             "colorbar": {
              "outlinewidth": 0,
              "ticks": ""
             }
            },
            "type": "scattercarpet"
           }
          ],
          "scattergeo": [
           {
            "marker": {
             "colorbar": {
              "outlinewidth": 0,
              "ticks": ""
             }
            },
            "type": "scattergeo"
           }
          ],
          "scattergl": [
           {
            "marker": {
             "colorbar": {
              "outlinewidth": 0,
              "ticks": ""
             }
            },
            "type": "scattergl"
           }
          ],
          "scattermapbox": [
           {
            "marker": {
             "colorbar": {
              "outlinewidth": 0,
              "ticks": ""
             }
            },
            "type": "scattermapbox"
           }
          ],
          "scatterpolar": [
           {
            "marker": {
             "colorbar": {
              "outlinewidth": 0,
              "ticks": ""
             }
            },
            "type": "scatterpolar"
           }
          ],
          "scatterpolargl": [
           {
            "marker": {
             "colorbar": {
              "outlinewidth": 0,
              "ticks": ""
             }
            },
            "type": "scatterpolargl"
           }
          ],
          "scatterternary": [
           {
            "marker": {
             "colorbar": {
              "outlinewidth": 0,
              "ticks": ""
             }
            },
            "type": "scatterternary"
           }
          ],
          "surface": [
           {
            "colorbar": {
             "outlinewidth": 0,
             "ticks": ""
            },
            "colorscale": [
             [
              0,
              "#0d0887"
             ],
             [
              0.1111111111111111,
              "#46039f"
             ],
             [
              0.2222222222222222,
              "#7201a8"
             ],
             [
              0.3333333333333333,
              "#9c179e"
             ],
             [
              0.4444444444444444,
              "#bd3786"
             ],
             [
              0.5555555555555556,
              "#d8576b"
             ],
             [
              0.6666666666666666,
              "#ed7953"
             ],
             [
              0.7777777777777778,
              "#fb9f3a"
             ],
             [
              0.8888888888888888,
              "#fdca26"
             ],
             [
              1,
              "#f0f921"
             ]
            ],
            "type": "surface"
           }
          ],
          "table": [
           {
            "cells": {
             "fill": {
              "color": "#EBF0F8"
             },
             "line": {
              "color": "white"
             }
            },
            "header": {
             "fill": {
              "color": "#C8D4E3"
             },
             "line": {
              "color": "white"
             }
            },
            "type": "table"
           }
          ]
         },
         "layout": {
          "annotationdefaults": {
           "arrowcolor": "#2a3f5f",
           "arrowhead": 0,
           "arrowwidth": 1
          },
          "colorscale": {
           "diverging": [
            [
             0,
             "#8e0152"
            ],
            [
             0.1,
             "#c51b7d"
            ],
            [
             0.2,
             "#de77ae"
            ],
            [
             0.3,
             "#f1b6da"
            ],
            [
             0.4,
             "#fde0ef"
            ],
            [
             0.5,
             "#f7f7f7"
            ],
            [
             0.6,
             "#e6f5d0"
            ],
            [
             0.7,
             "#b8e186"
            ],
            [
             0.8,
             "#7fbc41"
            ],
            [
             0.9,
             "#4d9221"
            ],
            [
             1,
             "#276419"
            ]
           ],
           "sequential": [
            [
             0,
             "#0d0887"
            ],
            [
             0.1111111111111111,
             "#46039f"
            ],
            [
             0.2222222222222222,
             "#7201a8"
            ],
            [
             0.3333333333333333,
             "#9c179e"
            ],
            [
             0.4444444444444444,
             "#bd3786"
            ],
            [
             0.5555555555555556,
             "#d8576b"
            ],
            [
             0.6666666666666666,
             "#ed7953"
            ],
            [
             0.7777777777777778,
             "#fb9f3a"
            ],
            [
             0.8888888888888888,
             "#fdca26"
            ],
            [
             1,
             "#f0f921"
            ]
           ],
           "sequentialminus": [
            [
             0,
             "#0d0887"
            ],
            [
             0.1111111111111111,
             "#46039f"
            ],
            [
             0.2222222222222222,
             "#7201a8"
            ],
            [
             0.3333333333333333,
             "#9c179e"
            ],
            [
             0.4444444444444444,
             "#bd3786"
            ],
            [
             0.5555555555555556,
             "#d8576b"
            ],
            [
             0.6666666666666666,
             "#ed7953"
            ],
            [
             0.7777777777777778,
             "#fb9f3a"
            ],
            [
             0.8888888888888888,
             "#fdca26"
            ],
            [
             1,
             "#f0f921"
            ]
           ]
          },
          "colorway": [
           "#636efa",
           "#EF553B",
           "#00cc96",
           "#ab63fa",
           "#FFA15A",
           "#19d3f3",
           "#FF6692",
           "#B6E880",
           "#FF97FF",
           "#FECB52"
          ],
          "font": {
           "color": "#2a3f5f"
          },
          "geo": {
           "bgcolor": "white",
           "lakecolor": "white",
           "landcolor": "#E5ECF6",
           "showlakes": true,
           "showland": true,
           "subunitcolor": "white"
          },
          "hoverlabel": {
           "align": "left"
          },
          "hovermode": "closest",
          "mapbox": {
           "style": "light"
          },
          "paper_bgcolor": "white",
          "plot_bgcolor": "#E5ECF6",
          "polar": {
           "angularaxis": {
            "gridcolor": "white",
            "linecolor": "white",
            "ticks": ""
           },
           "bgcolor": "#E5ECF6",
           "radialaxis": {
            "gridcolor": "white",
            "linecolor": "white",
            "ticks": ""
           }
          },
          "scene": {
           "xaxis": {
            "backgroundcolor": "#E5ECF6",
            "gridcolor": "white",
            "gridwidth": 2,
            "linecolor": "white",
            "showbackground": true,
            "ticks": "",
            "zerolinecolor": "white"
           },
           "yaxis": {
            "backgroundcolor": "#E5ECF6",
            "gridcolor": "white",
            "gridwidth": 2,
            "linecolor": "white",
            "showbackground": true,
            "ticks": "",
            "zerolinecolor": "white"
           },
           "zaxis": {
            "backgroundcolor": "#E5ECF6",
            "gridcolor": "white",
            "gridwidth": 2,
            "linecolor": "white",
            "showbackground": true,
            "ticks": "",
            "zerolinecolor": "white"
           }
          },
          "shapedefaults": {
           "line": {
            "color": "#2a3f5f"
           }
          },
          "ternary": {
           "aaxis": {
            "gridcolor": "white",
            "linecolor": "white",
            "ticks": ""
           },
           "baxis": {
            "gridcolor": "white",
            "linecolor": "white",
            "ticks": ""
           },
           "bgcolor": "#E5ECF6",
           "caxis": {
            "gridcolor": "white",
            "linecolor": "white",
            "ticks": ""
           }
          },
          "title": {
           "x": 0.05
          },
          "xaxis": {
           "automargin": true,
           "gridcolor": "white",
           "linecolor": "white",
           "ticks": "",
           "zerolinecolor": "white",
           "zerolinewidth": 2
          },
          "yaxis": {
           "automargin": true,
           "gridcolor": "white",
           "linecolor": "white",
           "ticks": "",
           "zerolinecolor": "white",
           "zerolinewidth": 2
          }
         }
        }
       }
      },
      "text/html": [
       "<div>\n",
       "        \n",
       "        \n",
       "            <div id=\"1d6cf81f-c001-4ffe-a575-3b2af8c70d2c\" class=\"plotly-graph-div\" style=\"height:600px; width:100%;\"></div>\n",
       "            <script type=\"text/javascript\">\n",
       "                require([\"plotly\"], function(Plotly) {\n",
       "                    window.PLOTLYENV=window.PLOTLYENV || {};\n",
       "                    \n",
       "                if (document.getElementById(\"1d6cf81f-c001-4ffe-a575-3b2af8c70d2c\")) {\n",
       "                    Plotly.newPlot(\n",
       "                        '1d6cf81f-c001-4ffe-a575-3b2af8c70d2c',\n",
       "                        [{\"hoverlabel\": {\"namelength\": 0}, \"hovertemplate\": \"PostOp-CNR=%{x}<br>PreOp-CNR=%{y}<br>ImplantRight=%{marker.color}\", \"legendgroup\": \"\", \"marker\": {\"color\": [275, 275, 275, 275, 300, 300, 300, 300, 300, 325, 325, 325, 325, 325, 325, 325, 325, 325, 325, 325, 325, 325, 350, 350, 350, 350, 350, 350, 350, 350, 350, 350, 350, 350, 350, 350, 375, 375, 375, 375, 375, 400, 275, 325, 300, 325, 350, 450, 350, 350, 325, 325, 275, 275, 275, 375, 350, 375, 250, 400, 350, 350, 325, 350, 350, 375, 300, 275, 375, 300, 300, 300, 400, 375, 375, 325, 375, 325, 325, 375, 250, 250, 375, 250, 300, 325, 300, 350, 350, 375, 325, 325, 350, 350, 400, 325, 375, 325, 325, 375, 375, 325, 325, 345, 325, 300, 322, 325, 275, 275, 350, 325, 375, 250, 375, 350, 300, 300, 325, 325, 275, 350, 325, 350, 250, 325, 300, 350, 300, 325, 325, 275, 325, 375, 225, 350, 250, 375, 325, 350, 275, 300, 350, 275], \"coloraxis\": \"coloraxis\", \"symbol\": \"circle\"}, \"mode\": \"markers\", \"name\": \"\", \"scene\": \"scene\", \"showlegend\": false, \"type\": \"scatter3d\", \"x\": [15.0, 18.0, 16.5, 16.5, 17.5, 17.0, 15.0, 17.5, 17.5, 16.0, 17.5, 18.5, 17.5, 15.5, 17.5, 16.5, 16.0, 17.0, 17.0, 18.0, 15.0, 17.0, 20.0, 15.5, 17.0, 16.0, 17.5, 19.0, 14.5, 15.0, 16.5, 17.5, 18.0, 20.0, 20.0, 18.0, 15.0, 17.0, 19.0, 15.0, 18.0, 19.0, 18.5, 19.0, 18.0, 14.0, 19.0, 18.5, 17.0, 16.0, 17.5, 19.5, 16.5, 16.5, 15.0, 16.0, 15.0, 18.0, 17.0, 17.0, 17.5, 18.0, 18.0, 17.0, 17.0, 17.0, 17.0, 17.5, 20.0, 15.5, 16.5, 18.0, 17.5, 19.5, 19.0, 16.5, 17.0, 18.0, 17.0, 16.5, 21.0, 18.0, 16.5, 17.0, 14.5, 17.0, 19.5, 17.5, 15.5, 18.0, 19.0, 18.5, 15.0, 17.0, 21.0, 16.0, 19.0, 16.5, 17.5, 16.5, 18.5, 17.5, 18.0, 22.5, 17.0, 17.5, 17.5, 17.5, 15.0, 19.0, 18.5, 17.0, 21.5, 16.0, 17.5, 18.0, 17.5, 16.5, 18.0, 17.5, 17.0, 21.0, 17.0, 19.5, 16.5, 16.5, 16.0, 20.0, 16.5, 21.5, 18.0, 16.5, 18.5, 18.5, 16.5, 19.5, 16.5, 20.0, 17.5, 21.0, 17.5, 16.0, 15.5, 20.0], \"y\": [13.5, 17.5, 14.0, 15.0, 16.5, 16.0, 14.0, 15.5, 16.0, 15.5, 17.0, 17.0, 16.0, 15.0, 16.0, 15.0, 14.0, 15.5, 16.0, 17.0, 13.0, 15.0, 18.0, 14.0, 15.5, 15.0, 17.0, 17.0, 13.0, 14.5, 14.5, 16.0, 16.5, 18.0, 18.0, 16.0, 13.0, 16.5, 18.5, 13.5, 16.5, 18.5, 17.0, 18.5, 17.0, 13.5, 18.0, 18.0, 15.5, 15.5, 16.0, 18.5, 16.0, 15.0, 15.0, 14.5, 13.5, 15.5, 15.0, 15.5, 16.0, 17.0, 16.5, 16.5, 15.0, 15.5, 15.5, 16.0, 18.0, 15.0, 16.0, 16.5, 16.0, 18.0, 17.5, 15.0, 15.0, 17.0, 15.5, 15.5, 20.0, 16.5, 15.5, 15.5, 13.5, 15.5, 19.0, 15.0, 14.0, 16.5, 16.5, 17.5, 14.5, 15.0, 20.5, 15.0, 19.0, 14.5, 15.5, 14.5, 17.5, 16.0, 15.5, 20.5, 16.0, 16.5, 17.0, 15.0, 14.5, 16.0, 17.0, 16.0, 21.5, 15.3, 15.5, 17.5, 16.0, 16.0, 17.5, 16.0, 15.0, 19.5, 14.5, 17.0, 15.0, 14.5, 14.0, 18.0, 14.5, 20.0, 16.0, 16.0, 16.5, 16.0, 15.0, 18.0, 14.5, 19.5, 15.0, 19.5, 16.0, 14.0, 14.0, 18.0], \"z\": [275, 275, 275, 275, 300, 300, 300, 300, 300, 325, 325, 325, 325, 325, 325, 325, 325, 325, 325, 325, 325, 325, 350, 350, 350, 350, 350, 350, 350, 350, 350, 350, 350, 350, 350, 350, 375, 375, 375, 375, 375, 400, 275, 325, 300, 325, 350, 450, 350, 350, 325, 325, 275, 275, 275, 375, 350, 375, 250, 400, 350, 350, 325, 350, 350, 375, 300, 275, 375, 300, 300, 300, 400, 375, 375, 325, 375, 325, 325, 375, 250, 250, 375, 250, 300, 325, 300, 350, 350, 375, 325, 325, 350, 350, 400, 325, 375, 325, 325, 375, 375, 325, 325, 345, 325, 300, 322, 325, 275, 275, 350, 325, 375, 250, 375, 350, 300, 300, 325, 325, 275, 350, 325, 350, 250, 325, 300, 350, 300, 325, 325, 275, 325, 375, 225, 350, 250, 375, 325, 350, 275, 300, 350, 275]}],\n",
       "                        {\"coloraxis\": {\"colorbar\": {\"title\": {\"text\": \"ImplantRight\"}}, \"colorscale\": [[0.0, \"#0d0887\"], [0.1111111111111111, \"#46039f\"], [0.2222222222222222, \"#7201a8\"], [0.3333333333333333, \"#9c179e\"], [0.4444444444444444, \"#bd3786\"], [0.5555555555555556, \"#d8576b\"], [0.6666666666666666, \"#ed7953\"], [0.7777777777777778, \"#fb9f3a\"], [0.8888888888888888, \"#fdca26\"], [1.0, \"#f0f921\"]]}, \"height\": 600, \"legend\": {\"tracegroupgap\": 0}, \"margin\": {\"t\": 60}, \"scene\": {\"domain\": {\"x\": [0.0, 0.98], \"y\": [0.0, 1.0]}, \"xaxis\": {\"title\": {\"text\": \"PostOp-CNR\"}}, \"yaxis\": {\"title\": {\"text\": \"PreOp-CNR\"}}, \"zaxis\": {\"title\": {\"text\": \"ImplantRight\"}}}, \"template\": {\"data\": {\"bar\": [{\"error_x\": {\"color\": \"#2a3f5f\"}, \"error_y\": {\"color\": \"#2a3f5f\"}, \"marker\": {\"line\": {\"color\": \"#E5ECF6\", \"width\": 0.5}}, \"type\": \"bar\"}], \"barpolar\": [{\"marker\": {\"line\": {\"color\": \"#E5ECF6\", \"width\": 0.5}}, \"type\": \"barpolar\"}], \"carpet\": [{\"aaxis\": {\"endlinecolor\": \"#2a3f5f\", \"gridcolor\": \"white\", \"linecolor\": \"white\", \"minorgridcolor\": \"white\", \"startlinecolor\": \"#2a3f5f\"}, \"baxis\": {\"endlinecolor\": \"#2a3f5f\", \"gridcolor\": \"white\", \"linecolor\": \"white\", \"minorgridcolor\": \"white\", \"startlinecolor\": \"#2a3f5f\"}, \"type\": \"carpet\"}], \"choropleth\": [{\"colorbar\": {\"outlinewidth\": 0, \"ticks\": \"\"}, \"type\": \"choropleth\"}], \"contour\": [{\"colorbar\": {\"outlinewidth\": 0, \"ticks\": \"\"}, \"colorscale\": [[0.0, \"#0d0887\"], [0.1111111111111111, \"#46039f\"], [0.2222222222222222, \"#7201a8\"], [0.3333333333333333, \"#9c179e\"], [0.4444444444444444, \"#bd3786\"], [0.5555555555555556, \"#d8576b\"], [0.6666666666666666, \"#ed7953\"], [0.7777777777777778, \"#fb9f3a\"], [0.8888888888888888, \"#fdca26\"], [1.0, \"#f0f921\"]], \"type\": \"contour\"}], \"contourcarpet\": [{\"colorbar\": {\"outlinewidth\": 0, \"ticks\": \"\"}, \"type\": \"contourcarpet\"}], \"heatmap\": [{\"colorbar\": {\"outlinewidth\": 0, \"ticks\": \"\"}, \"colorscale\": [[0.0, \"#0d0887\"], [0.1111111111111111, \"#46039f\"], [0.2222222222222222, \"#7201a8\"], [0.3333333333333333, \"#9c179e\"], [0.4444444444444444, \"#bd3786\"], [0.5555555555555556, \"#d8576b\"], [0.6666666666666666, \"#ed7953\"], [0.7777777777777778, \"#fb9f3a\"], [0.8888888888888888, \"#fdca26\"], [1.0, \"#f0f921\"]], \"type\": \"heatmap\"}], \"heatmapgl\": [{\"colorbar\": {\"outlinewidth\": 0, \"ticks\": \"\"}, \"colorscale\": [[0.0, \"#0d0887\"], [0.1111111111111111, \"#46039f\"], [0.2222222222222222, \"#7201a8\"], [0.3333333333333333, \"#9c179e\"], [0.4444444444444444, \"#bd3786\"], [0.5555555555555556, \"#d8576b\"], [0.6666666666666666, \"#ed7953\"], [0.7777777777777778, \"#fb9f3a\"], [0.8888888888888888, \"#fdca26\"], [1.0, \"#f0f921\"]], \"type\": \"heatmapgl\"}], \"histogram\": [{\"marker\": {\"colorbar\": {\"outlinewidth\": 0, \"ticks\": \"\"}}, \"type\": \"histogram\"}], \"histogram2d\": [{\"colorbar\": {\"outlinewidth\": 0, \"ticks\": \"\"}, \"colorscale\": [[0.0, \"#0d0887\"], [0.1111111111111111, \"#46039f\"], [0.2222222222222222, \"#7201a8\"], [0.3333333333333333, \"#9c179e\"], [0.4444444444444444, \"#bd3786\"], [0.5555555555555556, \"#d8576b\"], [0.6666666666666666, \"#ed7953\"], [0.7777777777777778, \"#fb9f3a\"], [0.8888888888888888, \"#fdca26\"], [1.0, \"#f0f921\"]], \"type\": \"histogram2d\"}], \"histogram2dcontour\": [{\"colorbar\": {\"outlinewidth\": 0, \"ticks\": \"\"}, \"colorscale\": [[0.0, \"#0d0887\"], [0.1111111111111111, \"#46039f\"], [0.2222222222222222, \"#7201a8\"], [0.3333333333333333, \"#9c179e\"], [0.4444444444444444, \"#bd3786\"], [0.5555555555555556, \"#d8576b\"], [0.6666666666666666, \"#ed7953\"], [0.7777777777777778, \"#fb9f3a\"], [0.8888888888888888, \"#fdca26\"], [1.0, \"#f0f921\"]], \"type\": \"histogram2dcontour\"}], \"mesh3d\": [{\"colorbar\": {\"outlinewidth\": 0, \"ticks\": \"\"}, \"type\": \"mesh3d\"}], \"parcoords\": [{\"line\": {\"colorbar\": {\"outlinewidth\": 0, \"ticks\": \"\"}}, \"type\": \"parcoords\"}], \"scatter\": [{\"marker\": {\"colorbar\": {\"outlinewidth\": 0, \"ticks\": \"\"}}, \"type\": \"scatter\"}], \"scatter3d\": [{\"line\": {\"colorbar\": {\"outlinewidth\": 0, \"ticks\": \"\"}}, \"marker\": {\"colorbar\": {\"outlinewidth\": 0, \"ticks\": \"\"}}, \"type\": \"scatter3d\"}], \"scattercarpet\": [{\"marker\": {\"colorbar\": {\"outlinewidth\": 0, \"ticks\": \"\"}}, \"type\": \"scattercarpet\"}], \"scattergeo\": [{\"marker\": {\"colorbar\": {\"outlinewidth\": 0, \"ticks\": \"\"}}, \"type\": \"scattergeo\"}], \"scattergl\": [{\"marker\": {\"colorbar\": {\"outlinewidth\": 0, \"ticks\": \"\"}}, \"type\": \"scattergl\"}], \"scattermapbox\": [{\"marker\": {\"colorbar\": {\"outlinewidth\": 0, \"ticks\": \"\"}}, \"type\": \"scattermapbox\"}], \"scatterpolar\": [{\"marker\": {\"colorbar\": {\"outlinewidth\": 0, \"ticks\": \"\"}}, \"type\": \"scatterpolar\"}], \"scatterpolargl\": [{\"marker\": {\"colorbar\": {\"outlinewidth\": 0, \"ticks\": \"\"}}, \"type\": \"scatterpolargl\"}], \"scatterternary\": [{\"marker\": {\"colorbar\": {\"outlinewidth\": 0, \"ticks\": \"\"}}, \"type\": \"scatterternary\"}], \"surface\": [{\"colorbar\": {\"outlinewidth\": 0, \"ticks\": \"\"}, \"colorscale\": [[0.0, \"#0d0887\"], [0.1111111111111111, \"#46039f\"], [0.2222222222222222, \"#7201a8\"], [0.3333333333333333, \"#9c179e\"], [0.4444444444444444, \"#bd3786\"], [0.5555555555555556, \"#d8576b\"], [0.6666666666666666, \"#ed7953\"], [0.7777777777777778, \"#fb9f3a\"], [0.8888888888888888, \"#fdca26\"], [1.0, \"#f0f921\"]], \"type\": \"surface\"}], \"table\": [{\"cells\": {\"fill\": {\"color\": \"#EBF0F8\"}, \"line\": {\"color\": \"white\"}}, \"header\": {\"fill\": {\"color\": \"#C8D4E3\"}, \"line\": {\"color\": \"white\"}}, \"type\": \"table\"}]}, \"layout\": {\"annotationdefaults\": {\"arrowcolor\": \"#2a3f5f\", \"arrowhead\": 0, \"arrowwidth\": 1}, \"colorscale\": {\"diverging\": [[0, \"#8e0152\"], [0.1, \"#c51b7d\"], [0.2, \"#de77ae\"], [0.3, \"#f1b6da\"], [0.4, \"#fde0ef\"], [0.5, \"#f7f7f7\"], [0.6, \"#e6f5d0\"], [0.7, \"#b8e186\"], [0.8, \"#7fbc41\"], [0.9, \"#4d9221\"], [1, \"#276419\"]], \"sequential\": [[0.0, \"#0d0887\"], [0.1111111111111111, \"#46039f\"], [0.2222222222222222, \"#7201a8\"], [0.3333333333333333, \"#9c179e\"], [0.4444444444444444, \"#bd3786\"], [0.5555555555555556, \"#d8576b\"], [0.6666666666666666, \"#ed7953\"], [0.7777777777777778, \"#fb9f3a\"], [0.8888888888888888, \"#fdca26\"], [1.0, \"#f0f921\"]], \"sequentialminus\": [[0.0, \"#0d0887\"], [0.1111111111111111, \"#46039f\"], [0.2222222222222222, \"#7201a8\"], [0.3333333333333333, \"#9c179e\"], [0.4444444444444444, \"#bd3786\"], [0.5555555555555556, \"#d8576b\"], [0.6666666666666666, \"#ed7953\"], [0.7777777777777778, \"#fb9f3a\"], [0.8888888888888888, \"#fdca26\"], [1.0, \"#f0f921\"]]}, \"colorway\": [\"#636efa\", \"#EF553B\", \"#00cc96\", \"#ab63fa\", \"#FFA15A\", \"#19d3f3\", \"#FF6692\", \"#B6E880\", \"#FF97FF\", \"#FECB52\"], \"font\": {\"color\": \"#2a3f5f\"}, \"geo\": {\"bgcolor\": \"white\", \"lakecolor\": \"white\", \"landcolor\": \"#E5ECF6\", \"showlakes\": true, \"showland\": true, \"subunitcolor\": \"white\"}, \"hoverlabel\": {\"align\": \"left\"}, \"hovermode\": \"closest\", \"mapbox\": {\"style\": \"light\"}, \"paper_bgcolor\": \"white\", \"plot_bgcolor\": \"#E5ECF6\", \"polar\": {\"angularaxis\": {\"gridcolor\": \"white\", \"linecolor\": \"white\", \"ticks\": \"\"}, \"bgcolor\": \"#E5ECF6\", \"radialaxis\": {\"gridcolor\": \"white\", \"linecolor\": \"white\", \"ticks\": \"\"}}, \"scene\": {\"xaxis\": {\"backgroundcolor\": \"#E5ECF6\", \"gridcolor\": \"white\", \"gridwidth\": 2, \"linecolor\": \"white\", \"showbackground\": true, \"ticks\": \"\", \"zerolinecolor\": \"white\"}, \"yaxis\": {\"backgroundcolor\": \"#E5ECF6\", \"gridcolor\": \"white\", \"gridwidth\": 2, \"linecolor\": \"white\", \"showbackground\": true, \"ticks\": \"\", \"zerolinecolor\": \"white\"}, \"zaxis\": {\"backgroundcolor\": \"#E5ECF6\", \"gridcolor\": \"white\", \"gridwidth\": 2, \"linecolor\": \"white\", \"showbackground\": true, \"ticks\": \"\", \"zerolinecolor\": \"white\"}}, \"shapedefaults\": {\"line\": {\"color\": \"#2a3f5f\"}}, \"ternary\": {\"aaxis\": {\"gridcolor\": \"white\", \"linecolor\": \"white\", \"ticks\": \"\"}, \"baxis\": {\"gridcolor\": \"white\", \"linecolor\": \"white\", \"ticks\": \"\"}, \"bgcolor\": \"#E5ECF6\", \"caxis\": {\"gridcolor\": \"white\", \"linecolor\": \"white\", \"ticks\": \"\"}}, \"title\": {\"x\": 0.05}, \"xaxis\": {\"automargin\": true, \"gridcolor\": \"white\", \"linecolor\": \"white\", \"ticks\": \"\", \"zerolinecolor\": \"white\", \"zerolinewidth\": 2}, \"yaxis\": {\"automargin\": true, \"gridcolor\": \"white\", \"linecolor\": \"white\", \"ticks\": \"\", \"zerolinecolor\": \"white\", \"zerolinewidth\": 2}}}},\n",
       "                        {\"responsive\": true}\n",
       "                    ).then(function(){\n",
       "                            \n",
       "var gd = document.getElementById('1d6cf81f-c001-4ffe-a575-3b2af8c70d2c');\n",
       "var x = new MutationObserver(function (mutations, observer) {{\n",
       "        var display = window.getComputedStyle(gd).display;\n",
       "        if (!display || display === 'none') {{\n",
       "            console.log([gd, 'removed!']);\n",
       "            Plotly.purge(gd);\n",
       "            observer.disconnect();\n",
       "        }}\n",
       "}});\n",
       "\n",
       "// Listen for the removal of the full notebook cells\n",
       "var notebookContainer = gd.closest('#notebook-container');\n",
       "if (notebookContainer) {{\n",
       "    x.observe(notebookContainer, {childList: true});\n",
       "}}\n",
       "\n",
       "// Listen for the clearing of the current output cell\n",
       "var outputEl = gd.closest('.output');\n",
       "if (outputEl) {{\n",
       "    x.observe(outputEl, {childList: true});\n",
       "}}\n",
       "\n",
       "                        })\n",
       "                };\n",
       "                });\n",
       "            </script>\n",
       "        </div>"
      ]
     },
     "metadata": {},
     "output_type": "display_data"
    }
   ],
   "source": [
    "fig = px.scatter_3d(df, x='PostOp-CNR', y='PreOp-CNR', z='ImplantRight', color='ImplantRight')\n",
    "fig.show()"
   ]
  },
  {
   "cell_type": "code",
   "execution_count": 47,
   "metadata": {},
   "outputs": [
    {
     "data": {
      "application/vnd.plotly.v1+json": {
       "config": {
        "plotlyServerURL": "https://plot.ly"
       },
       "data": [
        {
         "hoverlabel": {
          "namelength": 0
         },
         "hovertemplate": "PostOp-CNR=%{x}<br>PreOp-CNR=%{y}<br>PreOp-SNR=%{z}<br>ImplantRight=%{marker.color}",
         "legendgroup": "",
         "marker": {
          "color": [
           275,
           275,
           275,
           275,
           300,
           300,
           300,
           300,
           300,
           325,
           325,
           325,
           325,
           325,
           325,
           325,
           325,
           325,
           325,
           325,
           325,
           325,
           350,
           350,
           350,
           350,
           350,
           350,
           350,
           350,
           350,
           350,
           350,
           350,
           350,
           350,
           375,
           375,
           375,
           375,
           375,
           400,
           275,
           325,
           300,
           325,
           350,
           450,
           350,
           350,
           325,
           325,
           275,
           275,
           275,
           375,
           350,
           375,
           250,
           400,
           350,
           350,
           325,
           350,
           350,
           375,
           300,
           275,
           375,
           300,
           300,
           300,
           400,
           375,
           375,
           325,
           375,
           325,
           325,
           375,
           250,
           250,
           375,
           250,
           300,
           325,
           300,
           350,
           350,
           375,
           325,
           325,
           350,
           350,
           400,
           325,
           375,
           325,
           325,
           375,
           375,
           325,
           325,
           345,
           325,
           300,
           322,
           325,
           275,
           275,
           350,
           325,
           375,
           250,
           375,
           350,
           300,
           300,
           325,
           325,
           275,
           350,
           325,
           350,
           250,
           325,
           300,
           350,
           300,
           325,
           325,
           275,
           325,
           375,
           225,
           350,
           250,
           375,
           325,
           350,
           275,
           300,
           350,
           275
          ],
          "coloraxis": "coloraxis",
          "symbol": "circle"
         },
         "mode": "markers",
         "name": "",
         "scene": "scene",
         "showlegend": false,
         "type": "scatter3d",
         "x": [
          15,
          18,
          16.5,
          16.5,
          17.5,
          17,
          15,
          17.5,
          17.5,
          16,
          17.5,
          18.5,
          17.5,
          15.5,
          17.5,
          16.5,
          16,
          17,
          17,
          18,
          15,
          17,
          20,
          15.5,
          17,
          16,
          17.5,
          19,
          14.5,
          15,
          16.5,
          17.5,
          18,
          20,
          20,
          18,
          15,
          17,
          19,
          15,
          18,
          19,
          18.5,
          19,
          18,
          14,
          19,
          18.5,
          17,
          16,
          17.5,
          19.5,
          16.5,
          16.5,
          15,
          16,
          15,
          18,
          17,
          17,
          17.5,
          18,
          18,
          17,
          17,
          17,
          17,
          17.5,
          20,
          15.5,
          16.5,
          18,
          17.5,
          19.5,
          19,
          16.5,
          17,
          18,
          17,
          16.5,
          21,
          18,
          16.5,
          17,
          14.5,
          17,
          19.5,
          17.5,
          15.5,
          18,
          19,
          18.5,
          15,
          17,
          21,
          16,
          19,
          16.5,
          17.5,
          16.5,
          18.5,
          17.5,
          18,
          22.5,
          17,
          17.5,
          17.5,
          17.5,
          15,
          19,
          18.5,
          17,
          21.5,
          16,
          17.5,
          18,
          17.5,
          16.5,
          18,
          17.5,
          17,
          21,
          17,
          19.5,
          16.5,
          16.5,
          16,
          20,
          16.5,
          21.5,
          18,
          16.5,
          18.5,
          18.5,
          16.5,
          19.5,
          16.5,
          20,
          17.5,
          21,
          17.5,
          16,
          15.5,
          20
         ],
         "y": [
          13.5,
          17.5,
          14,
          15,
          16.5,
          16,
          14,
          15.5,
          16,
          15.5,
          17,
          17,
          16,
          15,
          16,
          15,
          14,
          15.5,
          16,
          17,
          13,
          15,
          18,
          14,
          15.5,
          15,
          17,
          17,
          13,
          14.5,
          14.5,
          16,
          16.5,
          18,
          18,
          16,
          13,
          16.5,
          18.5,
          13.5,
          16.5,
          18.5,
          17,
          18.5,
          17,
          13.5,
          18,
          18,
          15.5,
          15.5,
          16,
          18.5,
          16,
          15,
          15,
          14.5,
          13.5,
          15.5,
          15,
          15.5,
          16,
          17,
          16.5,
          16.5,
          15,
          15.5,
          15.5,
          16,
          18,
          15,
          16,
          16.5,
          16,
          18,
          17.5,
          15,
          15,
          17,
          15.5,
          15.5,
          20,
          16.5,
          15.5,
          15.5,
          13.5,
          15.5,
          19,
          15,
          14,
          16.5,
          16.5,
          17.5,
          14.5,
          15,
          20.5,
          15,
          19,
          14.5,
          15.5,
          14.5,
          17.5,
          16,
          15.5,
          20.5,
          16,
          16.5,
          17,
          15,
          14.5,
          16,
          17,
          16,
          21.5,
          15.3,
          15.5,
          17.5,
          16,
          16,
          17.5,
          16,
          15,
          19.5,
          14.5,
          17,
          15,
          14.5,
          14,
          18,
          14.5,
          20,
          16,
          16,
          16.5,
          16,
          15,
          18,
          14.5,
          19.5,
          15,
          19.5,
          16,
          14,
          14,
          18
         ],
         "z": [
          15,
          18.5,
          16,
          16,
          17.5,
          17,
          15.5,
          17.5,
          18,
          16.5,
          18.5,
          18.5,
          17,
          16.5,
          17.5,
          16.5,
          16,
          17.5,
          17,
          18.5,
          15,
          16.5,
          19.5,
          16.5,
          17,
          17,
          19,
          18.5,
          14,
          16,
          16,
          17.5,
          18.5,
          19,
          19.5,
          17.5,
          15,
          18.5,
          20,
          15,
          18.5,
          20,
          18.5,
          19,
          18.5,
          15,
          19.5,
          20,
          16.5,
          16,
          17.5,
          19.5,
          17.5,
          16.5,
          16,
          15.5,
          15,
          17,
          16.5,
          17.5,
          17,
          18.5,
          18,
          17.5,
          16,
          17,
          17,
          17.5,
          19.5,
          17,
          17.5,
          18.5,
          17.5,
          19,
          19,
          16.5,
          16.5,
          18.5,
          16.5,
          17,
          20.5,
          18.5,
          17,
          17,
          15.5,
          17.5,
          20.5,
          17,
          16,
          18.5,
          18,
          18.3,
          16.5,
          17,
          21.5,
          17,
          20.5,
          16,
          17,
          16.5,
          19,
          17.5,
          17.5,
          21.5,
          17.5,
          18,
          18.5,
          16.5,
          16.5,
          18,
          18,
          17.5,
          22.5,
          17,
          17,
          18.5,
          17.5,
          17.5,
          18.5,
          18,
          17,
          20,
          14.5,
          19,
          16.5,
          17,
          15.5,
          20,
          16.5,
          21.5,
          17.5,
          17.5,
          18.5,
          18,
          16.5,
          19.5,
          16,
          20.5,
          16.5,
          21,
          17.5,
          16,
          16,
          20
         ]
        }
       ],
       "layout": {
        "coloraxis": {
         "colorbar": {
          "title": {
           "text": "ImplantRight"
          }
         },
         "colorscale": [
          [
           0,
           "#0d0887"
          ],
          [
           0.1111111111111111,
           "#46039f"
          ],
          [
           0.2222222222222222,
           "#7201a8"
          ],
          [
           0.3333333333333333,
           "#9c179e"
          ],
          [
           0.4444444444444444,
           "#bd3786"
          ],
          [
           0.5555555555555556,
           "#d8576b"
          ],
          [
           0.6666666666666666,
           "#ed7953"
          ],
          [
           0.7777777777777778,
           "#fb9f3a"
          ],
          [
           0.8888888888888888,
           "#fdca26"
          ],
          [
           1,
           "#f0f921"
          ]
         ]
        },
        "height": 600,
        "legend": {
         "tracegroupgap": 0
        },
        "margin": {
         "t": 60
        },
        "scene": {
         "domain": {
          "x": [
           0,
           0.98
          ],
          "y": [
           0,
           1
          ]
         },
         "xaxis": {
          "title": {
           "text": "PostOp-CNR"
          }
         },
         "yaxis": {
          "title": {
           "text": "PreOp-CNR"
          }
         },
         "zaxis": {
          "title": {
           "text": "PreOp-SNR"
          }
         }
        },
        "template": {
         "data": {
          "bar": [
           {
            "error_x": {
             "color": "#2a3f5f"
            },
            "error_y": {
             "color": "#2a3f5f"
            },
            "marker": {
             "line": {
              "color": "#E5ECF6",
              "width": 0.5
             }
            },
            "type": "bar"
           }
          ],
          "barpolar": [
           {
            "marker": {
             "line": {
              "color": "#E5ECF6",
              "width": 0.5
             }
            },
            "type": "barpolar"
           }
          ],
          "carpet": [
           {
            "aaxis": {
             "endlinecolor": "#2a3f5f",
             "gridcolor": "white",
             "linecolor": "white",
             "minorgridcolor": "white",
             "startlinecolor": "#2a3f5f"
            },
            "baxis": {
             "endlinecolor": "#2a3f5f",
             "gridcolor": "white",
             "linecolor": "white",
             "minorgridcolor": "white",
             "startlinecolor": "#2a3f5f"
            },
            "type": "carpet"
           }
          ],
          "choropleth": [
           {
            "colorbar": {
             "outlinewidth": 0,
             "ticks": ""
            },
            "type": "choropleth"
           }
          ],
          "contour": [
           {
            "colorbar": {
             "outlinewidth": 0,
             "ticks": ""
            },
            "colorscale": [
             [
              0,
              "#0d0887"
             ],
             [
              0.1111111111111111,
              "#46039f"
             ],
             [
              0.2222222222222222,
              "#7201a8"
             ],
             [
              0.3333333333333333,
              "#9c179e"
             ],
             [
              0.4444444444444444,
              "#bd3786"
             ],
             [
              0.5555555555555556,
              "#d8576b"
             ],
             [
              0.6666666666666666,
              "#ed7953"
             ],
             [
              0.7777777777777778,
              "#fb9f3a"
             ],
             [
              0.8888888888888888,
              "#fdca26"
             ],
             [
              1,
              "#f0f921"
             ]
            ],
            "type": "contour"
           }
          ],
          "contourcarpet": [
           {
            "colorbar": {
             "outlinewidth": 0,
             "ticks": ""
            },
            "type": "contourcarpet"
           }
          ],
          "heatmap": [
           {
            "colorbar": {
             "outlinewidth": 0,
             "ticks": ""
            },
            "colorscale": [
             [
              0,
              "#0d0887"
             ],
             [
              0.1111111111111111,
              "#46039f"
             ],
             [
              0.2222222222222222,
              "#7201a8"
             ],
             [
              0.3333333333333333,
              "#9c179e"
             ],
             [
              0.4444444444444444,
              "#bd3786"
             ],
             [
              0.5555555555555556,
              "#d8576b"
             ],
             [
              0.6666666666666666,
              "#ed7953"
             ],
             [
              0.7777777777777778,
              "#fb9f3a"
             ],
             [
              0.8888888888888888,
              "#fdca26"
             ],
             [
              1,
              "#f0f921"
             ]
            ],
            "type": "heatmap"
           }
          ],
          "heatmapgl": [
           {
            "colorbar": {
             "outlinewidth": 0,
             "ticks": ""
            },
            "colorscale": [
             [
              0,
              "#0d0887"
             ],
             [
              0.1111111111111111,
              "#46039f"
             ],
             [
              0.2222222222222222,
              "#7201a8"
             ],
             [
              0.3333333333333333,
              "#9c179e"
             ],
             [
              0.4444444444444444,
              "#bd3786"
             ],
             [
              0.5555555555555556,
              "#d8576b"
             ],
             [
              0.6666666666666666,
              "#ed7953"
             ],
             [
              0.7777777777777778,
              "#fb9f3a"
             ],
             [
              0.8888888888888888,
              "#fdca26"
             ],
             [
              1,
              "#f0f921"
             ]
            ],
            "type": "heatmapgl"
           }
          ],
          "histogram": [
           {
            "marker": {
             "colorbar": {
              "outlinewidth": 0,
              "ticks": ""
             }
            },
            "type": "histogram"
           }
          ],
          "histogram2d": [
           {
            "colorbar": {
             "outlinewidth": 0,
             "ticks": ""
            },
            "colorscale": [
             [
              0,
              "#0d0887"
             ],
             [
              0.1111111111111111,
              "#46039f"
             ],
             [
              0.2222222222222222,
              "#7201a8"
             ],
             [
              0.3333333333333333,
              "#9c179e"
             ],
             [
              0.4444444444444444,
              "#bd3786"
             ],
             [
              0.5555555555555556,
              "#d8576b"
             ],
             [
              0.6666666666666666,
              "#ed7953"
             ],
             [
              0.7777777777777778,
              "#fb9f3a"
             ],
             [
              0.8888888888888888,
              "#fdca26"
             ],
             [
              1,
              "#f0f921"
             ]
            ],
            "type": "histogram2d"
           }
          ],
          "histogram2dcontour": [
           {
            "colorbar": {
             "outlinewidth": 0,
             "ticks": ""
            },
            "colorscale": [
             [
              0,
              "#0d0887"
             ],
             [
              0.1111111111111111,
              "#46039f"
             ],
             [
              0.2222222222222222,
              "#7201a8"
             ],
             [
              0.3333333333333333,
              "#9c179e"
             ],
             [
              0.4444444444444444,
              "#bd3786"
             ],
             [
              0.5555555555555556,
              "#d8576b"
             ],
             [
              0.6666666666666666,
              "#ed7953"
             ],
             [
              0.7777777777777778,
              "#fb9f3a"
             ],
             [
              0.8888888888888888,
              "#fdca26"
             ],
             [
              1,
              "#f0f921"
             ]
            ],
            "type": "histogram2dcontour"
           }
          ],
          "mesh3d": [
           {
            "colorbar": {
             "outlinewidth": 0,
             "ticks": ""
            },
            "type": "mesh3d"
           }
          ],
          "parcoords": [
           {
            "line": {
             "colorbar": {
              "outlinewidth": 0,
              "ticks": ""
             }
            },
            "type": "parcoords"
           }
          ],
          "scatter": [
           {
            "marker": {
             "colorbar": {
              "outlinewidth": 0,
              "ticks": ""
             }
            },
            "type": "scatter"
           }
          ],
          "scatter3d": [
           {
            "line": {
             "colorbar": {
              "outlinewidth": 0,
              "ticks": ""
             }
            },
            "marker": {
             "colorbar": {
              "outlinewidth": 0,
              "ticks": ""
             }
            },
            "type": "scatter3d"
           }
          ],
          "scattercarpet": [
           {
            "marker": {
             "colorbar": {
              "outlinewidth": 0,
              "ticks": ""
             }
            },
            "type": "scattercarpet"
           }
          ],
          "scattergeo": [
           {
            "marker": {
             "colorbar": {
              "outlinewidth": 0,
              "ticks": ""
             }
            },
            "type": "scattergeo"
           }
          ],
          "scattergl": [
           {
            "marker": {
             "colorbar": {
              "outlinewidth": 0,
              "ticks": ""
             }
            },
            "type": "scattergl"
           }
          ],
          "scattermapbox": [
           {
            "marker": {
             "colorbar": {
              "outlinewidth": 0,
              "ticks": ""
             }
            },
            "type": "scattermapbox"
           }
          ],
          "scatterpolar": [
           {
            "marker": {
             "colorbar": {
              "outlinewidth": 0,
              "ticks": ""
             }
            },
            "type": "scatterpolar"
           }
          ],
          "scatterpolargl": [
           {
            "marker": {
             "colorbar": {
              "outlinewidth": 0,
              "ticks": ""
             }
            },
            "type": "scatterpolargl"
           }
          ],
          "scatterternary": [
           {
            "marker": {
             "colorbar": {
              "outlinewidth": 0,
              "ticks": ""
             }
            },
            "type": "scatterternary"
           }
          ],
          "surface": [
           {
            "colorbar": {
             "outlinewidth": 0,
             "ticks": ""
            },
            "colorscale": [
             [
              0,
              "#0d0887"
             ],
             [
              0.1111111111111111,
              "#46039f"
             ],
             [
              0.2222222222222222,
              "#7201a8"
             ],
             [
              0.3333333333333333,
              "#9c179e"
             ],
             [
              0.4444444444444444,
              "#bd3786"
             ],
             [
              0.5555555555555556,
              "#d8576b"
             ],
             [
              0.6666666666666666,
              "#ed7953"
             ],
             [
              0.7777777777777778,
              "#fb9f3a"
             ],
             [
              0.8888888888888888,
              "#fdca26"
             ],
             [
              1,
              "#f0f921"
             ]
            ],
            "type": "surface"
           }
          ],
          "table": [
           {
            "cells": {
             "fill": {
              "color": "#EBF0F8"
             },
             "line": {
              "color": "white"
             }
            },
            "header": {
             "fill": {
              "color": "#C8D4E3"
             },
             "line": {
              "color": "white"
             }
            },
            "type": "table"
           }
          ]
         },
         "layout": {
          "annotationdefaults": {
           "arrowcolor": "#2a3f5f",
           "arrowhead": 0,
           "arrowwidth": 1
          },
          "colorscale": {
           "diverging": [
            [
             0,
             "#8e0152"
            ],
            [
             0.1,
             "#c51b7d"
            ],
            [
             0.2,
             "#de77ae"
            ],
            [
             0.3,
             "#f1b6da"
            ],
            [
             0.4,
             "#fde0ef"
            ],
            [
             0.5,
             "#f7f7f7"
            ],
            [
             0.6,
             "#e6f5d0"
            ],
            [
             0.7,
             "#b8e186"
            ],
            [
             0.8,
             "#7fbc41"
            ],
            [
             0.9,
             "#4d9221"
            ],
            [
             1,
             "#276419"
            ]
           ],
           "sequential": [
            [
             0,
             "#0d0887"
            ],
            [
             0.1111111111111111,
             "#46039f"
            ],
            [
             0.2222222222222222,
             "#7201a8"
            ],
            [
             0.3333333333333333,
             "#9c179e"
            ],
            [
             0.4444444444444444,
             "#bd3786"
            ],
            [
             0.5555555555555556,
             "#d8576b"
            ],
            [
             0.6666666666666666,
             "#ed7953"
            ],
            [
             0.7777777777777778,
             "#fb9f3a"
            ],
            [
             0.8888888888888888,
             "#fdca26"
            ],
            [
             1,
             "#f0f921"
            ]
           ],
           "sequentialminus": [
            [
             0,
             "#0d0887"
            ],
            [
             0.1111111111111111,
             "#46039f"
            ],
            [
             0.2222222222222222,
             "#7201a8"
            ],
            [
             0.3333333333333333,
             "#9c179e"
            ],
            [
             0.4444444444444444,
             "#bd3786"
            ],
            [
             0.5555555555555556,
             "#d8576b"
            ],
            [
             0.6666666666666666,
             "#ed7953"
            ],
            [
             0.7777777777777778,
             "#fb9f3a"
            ],
            [
             0.8888888888888888,
             "#fdca26"
            ],
            [
             1,
             "#f0f921"
            ]
           ]
          },
          "colorway": [
           "#636efa",
           "#EF553B",
           "#00cc96",
           "#ab63fa",
           "#FFA15A",
           "#19d3f3",
           "#FF6692",
           "#B6E880",
           "#FF97FF",
           "#FECB52"
          ],
          "font": {
           "color": "#2a3f5f"
          },
          "geo": {
           "bgcolor": "white",
           "lakecolor": "white",
           "landcolor": "#E5ECF6",
           "showlakes": true,
           "showland": true,
           "subunitcolor": "white"
          },
          "hoverlabel": {
           "align": "left"
          },
          "hovermode": "closest",
          "mapbox": {
           "style": "light"
          },
          "paper_bgcolor": "white",
          "plot_bgcolor": "#E5ECF6",
          "polar": {
           "angularaxis": {
            "gridcolor": "white",
            "linecolor": "white",
            "ticks": ""
           },
           "bgcolor": "#E5ECF6",
           "radialaxis": {
            "gridcolor": "white",
            "linecolor": "white",
            "ticks": ""
           }
          },
          "scene": {
           "xaxis": {
            "backgroundcolor": "#E5ECF6",
            "gridcolor": "white",
            "gridwidth": 2,
            "linecolor": "white",
            "showbackground": true,
            "ticks": "",
            "zerolinecolor": "white"
           },
           "yaxis": {
            "backgroundcolor": "#E5ECF6",
            "gridcolor": "white",
            "gridwidth": 2,
            "linecolor": "white",
            "showbackground": true,
            "ticks": "",
            "zerolinecolor": "white"
           },
           "zaxis": {
            "backgroundcolor": "#E5ECF6",
            "gridcolor": "white",
            "gridwidth": 2,
            "linecolor": "white",
            "showbackground": true,
            "ticks": "",
            "zerolinecolor": "white"
           }
          },
          "shapedefaults": {
           "line": {
            "color": "#2a3f5f"
           }
          },
          "ternary": {
           "aaxis": {
            "gridcolor": "white",
            "linecolor": "white",
            "ticks": ""
           },
           "baxis": {
            "gridcolor": "white",
            "linecolor": "white",
            "ticks": ""
           },
           "bgcolor": "#E5ECF6",
           "caxis": {
            "gridcolor": "white",
            "linecolor": "white",
            "ticks": ""
           }
          },
          "title": {
           "x": 0.05
          },
          "xaxis": {
           "automargin": true,
           "gridcolor": "white",
           "linecolor": "white",
           "ticks": "",
           "zerolinecolor": "white",
           "zerolinewidth": 2
          },
          "yaxis": {
           "automargin": true,
           "gridcolor": "white",
           "linecolor": "white",
           "ticks": "",
           "zerolinecolor": "white",
           "zerolinewidth": 2
          }
         }
        }
       }
      },
      "text/html": [
       "<div>\n",
       "        \n",
       "        \n",
       "            <div id=\"c465da26-1249-4a4c-beb0-8dcd54a2cf78\" class=\"plotly-graph-div\" style=\"height:600px; width:100%;\"></div>\n",
       "            <script type=\"text/javascript\">\n",
       "                require([\"plotly\"], function(Plotly) {\n",
       "                    window.PLOTLYENV=window.PLOTLYENV || {};\n",
       "                    \n",
       "                if (document.getElementById(\"c465da26-1249-4a4c-beb0-8dcd54a2cf78\")) {\n",
       "                    Plotly.newPlot(\n",
       "                        'c465da26-1249-4a4c-beb0-8dcd54a2cf78',\n",
       "                        [{\"hoverlabel\": {\"namelength\": 0}, \"hovertemplate\": \"PostOp-CNR=%{x}<br>PreOp-CNR=%{y}<br>PreOp-SNR=%{z}<br>ImplantRight=%{marker.color}\", \"legendgroup\": \"\", \"marker\": {\"color\": [275, 275, 275, 275, 300, 300, 300, 300, 300, 325, 325, 325, 325, 325, 325, 325, 325, 325, 325, 325, 325, 325, 350, 350, 350, 350, 350, 350, 350, 350, 350, 350, 350, 350, 350, 350, 375, 375, 375, 375, 375, 400, 275, 325, 300, 325, 350, 450, 350, 350, 325, 325, 275, 275, 275, 375, 350, 375, 250, 400, 350, 350, 325, 350, 350, 375, 300, 275, 375, 300, 300, 300, 400, 375, 375, 325, 375, 325, 325, 375, 250, 250, 375, 250, 300, 325, 300, 350, 350, 375, 325, 325, 350, 350, 400, 325, 375, 325, 325, 375, 375, 325, 325, 345, 325, 300, 322, 325, 275, 275, 350, 325, 375, 250, 375, 350, 300, 300, 325, 325, 275, 350, 325, 350, 250, 325, 300, 350, 300, 325, 325, 275, 325, 375, 225, 350, 250, 375, 325, 350, 275, 300, 350, 275], \"coloraxis\": \"coloraxis\", \"symbol\": \"circle\"}, \"mode\": \"markers\", \"name\": \"\", \"scene\": \"scene\", \"showlegend\": false, \"type\": \"scatter3d\", \"x\": [15.0, 18.0, 16.5, 16.5, 17.5, 17.0, 15.0, 17.5, 17.5, 16.0, 17.5, 18.5, 17.5, 15.5, 17.5, 16.5, 16.0, 17.0, 17.0, 18.0, 15.0, 17.0, 20.0, 15.5, 17.0, 16.0, 17.5, 19.0, 14.5, 15.0, 16.5, 17.5, 18.0, 20.0, 20.0, 18.0, 15.0, 17.0, 19.0, 15.0, 18.0, 19.0, 18.5, 19.0, 18.0, 14.0, 19.0, 18.5, 17.0, 16.0, 17.5, 19.5, 16.5, 16.5, 15.0, 16.0, 15.0, 18.0, 17.0, 17.0, 17.5, 18.0, 18.0, 17.0, 17.0, 17.0, 17.0, 17.5, 20.0, 15.5, 16.5, 18.0, 17.5, 19.5, 19.0, 16.5, 17.0, 18.0, 17.0, 16.5, 21.0, 18.0, 16.5, 17.0, 14.5, 17.0, 19.5, 17.5, 15.5, 18.0, 19.0, 18.5, 15.0, 17.0, 21.0, 16.0, 19.0, 16.5, 17.5, 16.5, 18.5, 17.5, 18.0, 22.5, 17.0, 17.5, 17.5, 17.5, 15.0, 19.0, 18.5, 17.0, 21.5, 16.0, 17.5, 18.0, 17.5, 16.5, 18.0, 17.5, 17.0, 21.0, 17.0, 19.5, 16.5, 16.5, 16.0, 20.0, 16.5, 21.5, 18.0, 16.5, 18.5, 18.5, 16.5, 19.5, 16.5, 20.0, 17.5, 21.0, 17.5, 16.0, 15.5, 20.0], \"y\": [13.5, 17.5, 14.0, 15.0, 16.5, 16.0, 14.0, 15.5, 16.0, 15.5, 17.0, 17.0, 16.0, 15.0, 16.0, 15.0, 14.0, 15.5, 16.0, 17.0, 13.0, 15.0, 18.0, 14.0, 15.5, 15.0, 17.0, 17.0, 13.0, 14.5, 14.5, 16.0, 16.5, 18.0, 18.0, 16.0, 13.0, 16.5, 18.5, 13.5, 16.5, 18.5, 17.0, 18.5, 17.0, 13.5, 18.0, 18.0, 15.5, 15.5, 16.0, 18.5, 16.0, 15.0, 15.0, 14.5, 13.5, 15.5, 15.0, 15.5, 16.0, 17.0, 16.5, 16.5, 15.0, 15.5, 15.5, 16.0, 18.0, 15.0, 16.0, 16.5, 16.0, 18.0, 17.5, 15.0, 15.0, 17.0, 15.5, 15.5, 20.0, 16.5, 15.5, 15.5, 13.5, 15.5, 19.0, 15.0, 14.0, 16.5, 16.5, 17.5, 14.5, 15.0, 20.5, 15.0, 19.0, 14.5, 15.5, 14.5, 17.5, 16.0, 15.5, 20.5, 16.0, 16.5, 17.0, 15.0, 14.5, 16.0, 17.0, 16.0, 21.5, 15.3, 15.5, 17.5, 16.0, 16.0, 17.5, 16.0, 15.0, 19.5, 14.5, 17.0, 15.0, 14.5, 14.0, 18.0, 14.5, 20.0, 16.0, 16.0, 16.5, 16.0, 15.0, 18.0, 14.5, 19.5, 15.0, 19.5, 16.0, 14.0, 14.0, 18.0], \"z\": [15.0, 18.5, 16.0, 16.0, 17.5, 17.0, 15.5, 17.5, 18.0, 16.5, 18.5, 18.5, 17.0, 16.5, 17.5, 16.5, 16.0, 17.5, 17.0, 18.5, 15.0, 16.5, 19.5, 16.5, 17.0, 17.0, 19.0, 18.5, 14.0, 16.0, 16.0, 17.5, 18.5, 19.0, 19.5, 17.5, 15.0, 18.5, 20.0, 15.0, 18.5, 20.0, 18.5, 19.0, 18.5, 15.0, 19.5, 20.0, 16.5, 16.0, 17.5, 19.5, 17.5, 16.5, 16.0, 15.5, 15.0, 17.0, 16.5, 17.5, 17.0, 18.5, 18.0, 17.5, 16.0, 17.0, 17.0, 17.5, 19.5, 17.0, 17.5, 18.5, 17.5, 19.0, 19.0, 16.5, 16.5, 18.5, 16.5, 17.0, 20.5, 18.5, 17.0, 17.0, 15.5, 17.5, 20.5, 17.0, 16.0, 18.5, 18.0, 18.3, 16.5, 17.0, 21.5, 17.0, 20.5, 16.0, 17.0, 16.5, 19.0, 17.5, 17.5, 21.5, 17.5, 18.0, 18.5, 16.5, 16.5, 18.0, 18.0, 17.5, 22.5, 17.0, 17.0, 18.5, 17.5, 17.5, 18.5, 18.0, 17.0, 20.0, 14.5, 19.0, 16.5, 17.0, 15.5, 20.0, 16.5, 21.5, 17.5, 17.5, 18.5, 18.0, 16.5, 19.5, 16.0, 20.5, 16.5, 21.0, 17.5, 16.0, 16.0, 20.0]}],\n",
       "                        {\"coloraxis\": {\"colorbar\": {\"title\": {\"text\": \"ImplantRight\"}}, \"colorscale\": [[0.0, \"#0d0887\"], [0.1111111111111111, \"#46039f\"], [0.2222222222222222, \"#7201a8\"], [0.3333333333333333, \"#9c179e\"], [0.4444444444444444, \"#bd3786\"], [0.5555555555555556, \"#d8576b\"], [0.6666666666666666, \"#ed7953\"], [0.7777777777777778, \"#fb9f3a\"], [0.8888888888888888, \"#fdca26\"], [1.0, \"#f0f921\"]]}, \"height\": 600, \"legend\": {\"tracegroupgap\": 0}, \"margin\": {\"t\": 60}, \"scene\": {\"domain\": {\"x\": [0.0, 0.98], \"y\": [0.0, 1.0]}, \"xaxis\": {\"title\": {\"text\": \"PostOp-CNR\"}}, \"yaxis\": {\"title\": {\"text\": \"PreOp-CNR\"}}, \"zaxis\": {\"title\": {\"text\": \"PreOp-SNR\"}}}, \"template\": {\"data\": {\"bar\": [{\"error_x\": {\"color\": \"#2a3f5f\"}, \"error_y\": {\"color\": \"#2a3f5f\"}, \"marker\": {\"line\": {\"color\": \"#E5ECF6\", \"width\": 0.5}}, \"type\": \"bar\"}], \"barpolar\": [{\"marker\": {\"line\": {\"color\": \"#E5ECF6\", \"width\": 0.5}}, \"type\": \"barpolar\"}], \"carpet\": [{\"aaxis\": {\"endlinecolor\": \"#2a3f5f\", \"gridcolor\": \"white\", \"linecolor\": \"white\", \"minorgridcolor\": \"white\", \"startlinecolor\": \"#2a3f5f\"}, \"baxis\": {\"endlinecolor\": \"#2a3f5f\", \"gridcolor\": \"white\", \"linecolor\": \"white\", \"minorgridcolor\": \"white\", \"startlinecolor\": \"#2a3f5f\"}, \"type\": \"carpet\"}], \"choropleth\": [{\"colorbar\": {\"outlinewidth\": 0, \"ticks\": \"\"}, \"type\": \"choropleth\"}], \"contour\": [{\"colorbar\": {\"outlinewidth\": 0, \"ticks\": \"\"}, \"colorscale\": [[0.0, \"#0d0887\"], [0.1111111111111111, \"#46039f\"], [0.2222222222222222, \"#7201a8\"], [0.3333333333333333, \"#9c179e\"], [0.4444444444444444, \"#bd3786\"], [0.5555555555555556, \"#d8576b\"], [0.6666666666666666, \"#ed7953\"], [0.7777777777777778, \"#fb9f3a\"], [0.8888888888888888, \"#fdca26\"], [1.0, \"#f0f921\"]], \"type\": \"contour\"}], \"contourcarpet\": [{\"colorbar\": {\"outlinewidth\": 0, \"ticks\": \"\"}, \"type\": \"contourcarpet\"}], \"heatmap\": [{\"colorbar\": {\"outlinewidth\": 0, \"ticks\": \"\"}, \"colorscale\": [[0.0, \"#0d0887\"], [0.1111111111111111, \"#46039f\"], [0.2222222222222222, \"#7201a8\"], [0.3333333333333333, \"#9c179e\"], [0.4444444444444444, \"#bd3786\"], [0.5555555555555556, \"#d8576b\"], [0.6666666666666666, \"#ed7953\"], [0.7777777777777778, \"#fb9f3a\"], [0.8888888888888888, \"#fdca26\"], [1.0, \"#f0f921\"]], \"type\": \"heatmap\"}], \"heatmapgl\": [{\"colorbar\": {\"outlinewidth\": 0, \"ticks\": \"\"}, \"colorscale\": [[0.0, \"#0d0887\"], [0.1111111111111111, \"#46039f\"], [0.2222222222222222, \"#7201a8\"], [0.3333333333333333, \"#9c179e\"], [0.4444444444444444, \"#bd3786\"], [0.5555555555555556, \"#d8576b\"], [0.6666666666666666, \"#ed7953\"], [0.7777777777777778, \"#fb9f3a\"], [0.8888888888888888, \"#fdca26\"], [1.0, \"#f0f921\"]], \"type\": \"heatmapgl\"}], \"histogram\": [{\"marker\": {\"colorbar\": {\"outlinewidth\": 0, \"ticks\": \"\"}}, \"type\": \"histogram\"}], \"histogram2d\": [{\"colorbar\": {\"outlinewidth\": 0, \"ticks\": \"\"}, \"colorscale\": [[0.0, \"#0d0887\"], [0.1111111111111111, \"#46039f\"], [0.2222222222222222, \"#7201a8\"], [0.3333333333333333, \"#9c179e\"], [0.4444444444444444, \"#bd3786\"], [0.5555555555555556, \"#d8576b\"], [0.6666666666666666, \"#ed7953\"], [0.7777777777777778, \"#fb9f3a\"], [0.8888888888888888, \"#fdca26\"], [1.0, \"#f0f921\"]], \"type\": \"histogram2d\"}], \"histogram2dcontour\": [{\"colorbar\": {\"outlinewidth\": 0, \"ticks\": \"\"}, \"colorscale\": [[0.0, \"#0d0887\"], [0.1111111111111111, \"#46039f\"], [0.2222222222222222, \"#7201a8\"], [0.3333333333333333, \"#9c179e\"], [0.4444444444444444, \"#bd3786\"], [0.5555555555555556, \"#d8576b\"], [0.6666666666666666, \"#ed7953\"], [0.7777777777777778, \"#fb9f3a\"], [0.8888888888888888, \"#fdca26\"], [1.0, \"#f0f921\"]], \"type\": \"histogram2dcontour\"}], \"mesh3d\": [{\"colorbar\": {\"outlinewidth\": 0, \"ticks\": \"\"}, \"type\": \"mesh3d\"}], \"parcoords\": [{\"line\": {\"colorbar\": {\"outlinewidth\": 0, \"ticks\": \"\"}}, \"type\": \"parcoords\"}], \"scatter\": [{\"marker\": {\"colorbar\": {\"outlinewidth\": 0, \"ticks\": \"\"}}, \"type\": \"scatter\"}], \"scatter3d\": [{\"line\": {\"colorbar\": {\"outlinewidth\": 0, \"ticks\": \"\"}}, \"marker\": {\"colorbar\": {\"outlinewidth\": 0, \"ticks\": \"\"}}, \"type\": \"scatter3d\"}], \"scattercarpet\": [{\"marker\": {\"colorbar\": {\"outlinewidth\": 0, \"ticks\": \"\"}}, \"type\": \"scattercarpet\"}], \"scattergeo\": [{\"marker\": {\"colorbar\": {\"outlinewidth\": 0, \"ticks\": \"\"}}, \"type\": \"scattergeo\"}], \"scattergl\": [{\"marker\": {\"colorbar\": {\"outlinewidth\": 0, \"ticks\": \"\"}}, \"type\": \"scattergl\"}], \"scattermapbox\": [{\"marker\": {\"colorbar\": {\"outlinewidth\": 0, \"ticks\": \"\"}}, \"type\": \"scattermapbox\"}], \"scatterpolar\": [{\"marker\": {\"colorbar\": {\"outlinewidth\": 0, \"ticks\": \"\"}}, \"type\": \"scatterpolar\"}], \"scatterpolargl\": [{\"marker\": {\"colorbar\": {\"outlinewidth\": 0, \"ticks\": \"\"}}, \"type\": \"scatterpolargl\"}], \"scatterternary\": [{\"marker\": {\"colorbar\": {\"outlinewidth\": 0, \"ticks\": \"\"}}, \"type\": \"scatterternary\"}], \"surface\": [{\"colorbar\": {\"outlinewidth\": 0, \"ticks\": \"\"}, \"colorscale\": [[0.0, \"#0d0887\"], [0.1111111111111111, \"#46039f\"], [0.2222222222222222, \"#7201a8\"], [0.3333333333333333, \"#9c179e\"], [0.4444444444444444, \"#bd3786\"], [0.5555555555555556, \"#d8576b\"], [0.6666666666666666, \"#ed7953\"], [0.7777777777777778, \"#fb9f3a\"], [0.8888888888888888, \"#fdca26\"], [1.0, \"#f0f921\"]], \"type\": \"surface\"}], \"table\": [{\"cells\": {\"fill\": {\"color\": \"#EBF0F8\"}, \"line\": {\"color\": \"white\"}}, \"header\": {\"fill\": {\"color\": \"#C8D4E3\"}, \"line\": {\"color\": \"white\"}}, \"type\": \"table\"}]}, \"layout\": {\"annotationdefaults\": {\"arrowcolor\": \"#2a3f5f\", \"arrowhead\": 0, \"arrowwidth\": 1}, \"colorscale\": {\"diverging\": [[0, \"#8e0152\"], [0.1, \"#c51b7d\"], [0.2, \"#de77ae\"], [0.3, \"#f1b6da\"], [0.4, \"#fde0ef\"], [0.5, \"#f7f7f7\"], [0.6, \"#e6f5d0\"], [0.7, \"#b8e186\"], [0.8, \"#7fbc41\"], [0.9, \"#4d9221\"], [1, \"#276419\"]], \"sequential\": [[0.0, \"#0d0887\"], [0.1111111111111111, \"#46039f\"], [0.2222222222222222, \"#7201a8\"], [0.3333333333333333, \"#9c179e\"], [0.4444444444444444, \"#bd3786\"], [0.5555555555555556, \"#d8576b\"], [0.6666666666666666, \"#ed7953\"], [0.7777777777777778, \"#fb9f3a\"], [0.8888888888888888, \"#fdca26\"], [1.0, \"#f0f921\"]], \"sequentialminus\": [[0.0, \"#0d0887\"], [0.1111111111111111, \"#46039f\"], [0.2222222222222222, \"#7201a8\"], [0.3333333333333333, \"#9c179e\"], [0.4444444444444444, \"#bd3786\"], [0.5555555555555556, \"#d8576b\"], [0.6666666666666666, \"#ed7953\"], [0.7777777777777778, \"#fb9f3a\"], [0.8888888888888888, \"#fdca26\"], [1.0, \"#f0f921\"]]}, \"colorway\": [\"#636efa\", \"#EF553B\", \"#00cc96\", \"#ab63fa\", \"#FFA15A\", \"#19d3f3\", \"#FF6692\", \"#B6E880\", \"#FF97FF\", \"#FECB52\"], \"font\": {\"color\": \"#2a3f5f\"}, \"geo\": {\"bgcolor\": \"white\", \"lakecolor\": \"white\", \"landcolor\": \"#E5ECF6\", \"showlakes\": true, \"showland\": true, \"subunitcolor\": \"white\"}, \"hoverlabel\": {\"align\": \"left\"}, \"hovermode\": \"closest\", \"mapbox\": {\"style\": \"light\"}, \"paper_bgcolor\": \"white\", \"plot_bgcolor\": \"#E5ECF6\", \"polar\": {\"angularaxis\": {\"gridcolor\": \"white\", \"linecolor\": \"white\", \"ticks\": \"\"}, \"bgcolor\": \"#E5ECF6\", \"radialaxis\": {\"gridcolor\": \"white\", \"linecolor\": \"white\", \"ticks\": \"\"}}, \"scene\": {\"xaxis\": {\"backgroundcolor\": \"#E5ECF6\", \"gridcolor\": \"white\", \"gridwidth\": 2, \"linecolor\": \"white\", \"showbackground\": true, \"ticks\": \"\", \"zerolinecolor\": \"white\"}, \"yaxis\": {\"backgroundcolor\": \"#E5ECF6\", \"gridcolor\": \"white\", \"gridwidth\": 2, \"linecolor\": \"white\", \"showbackground\": true, \"ticks\": \"\", \"zerolinecolor\": \"white\"}, \"zaxis\": {\"backgroundcolor\": \"#E5ECF6\", \"gridcolor\": \"white\", \"gridwidth\": 2, \"linecolor\": \"white\", \"showbackground\": true, \"ticks\": \"\", \"zerolinecolor\": \"white\"}}, \"shapedefaults\": {\"line\": {\"color\": \"#2a3f5f\"}}, \"ternary\": {\"aaxis\": {\"gridcolor\": \"white\", \"linecolor\": \"white\", \"ticks\": \"\"}, \"baxis\": {\"gridcolor\": \"white\", \"linecolor\": \"white\", \"ticks\": \"\"}, \"bgcolor\": \"#E5ECF6\", \"caxis\": {\"gridcolor\": \"white\", \"linecolor\": \"white\", \"ticks\": \"\"}}, \"title\": {\"x\": 0.05}, \"xaxis\": {\"automargin\": true, \"gridcolor\": \"white\", \"linecolor\": \"white\", \"ticks\": \"\", \"zerolinecolor\": \"white\", \"zerolinewidth\": 2}, \"yaxis\": {\"automargin\": true, \"gridcolor\": \"white\", \"linecolor\": \"white\", \"ticks\": \"\", \"zerolinecolor\": \"white\", \"zerolinewidth\": 2}}}},\n",
       "                        {\"responsive\": true}\n",
       "                    ).then(function(){\n",
       "                            \n",
       "var gd = document.getElementById('c465da26-1249-4a4c-beb0-8dcd54a2cf78');\n",
       "var x = new MutationObserver(function (mutations, observer) {{\n",
       "        var display = window.getComputedStyle(gd).display;\n",
       "        if (!display || display === 'none') {{\n",
       "            console.log([gd, 'removed!']);\n",
       "            Plotly.purge(gd);\n",
       "            observer.disconnect();\n",
       "        }}\n",
       "}});\n",
       "\n",
       "// Listen for the removal of the full notebook cells\n",
       "var notebookContainer = gd.closest('#notebook-container');\n",
       "if (notebookContainer) {{\n",
       "    x.observe(notebookContainer, {childList: true});\n",
       "}}\n",
       "\n",
       "// Listen for the clearing of the current output cell\n",
       "var outputEl = gd.closest('.output');\n",
       "if (outputEl) {{\n",
       "    x.observe(outputEl, {childList: true});\n",
       "}}\n",
       "\n",
       "                        })\n",
       "                };\n",
       "                });\n",
       "            </script>\n",
       "        </div>"
      ]
     },
     "metadata": {},
     "output_type": "display_data"
    }
   ],
   "source": [
    "fig = px.scatter_3d(df, x='PostOp-CNR', y='PreOp-CNR', z='PreOp-SNR', color='ImplantRight')\n",
    "fig.show()"
   ]
  },
  {
   "cell_type": "code",
   "execution_count": 46,
   "metadata": {},
   "outputs": [
    {
     "data": {
      "application/vnd.plotly.v1+json": {
       "config": {
        "plotlyServerURL": "https://plot.ly"
       },
       "data": [
        {
         "hoverlabel": {
          "namelength": 0
         },
         "hovertemplate": "PostOp-CNR=%{x}<br>PreOp-CNR=%{y}<br>PreOp-IMFR=%{z}<br>ImplantRight=%{marker.color}",
         "legendgroup": "",
         "marker": {
          "color": [
           275,
           275,
           275,
           275,
           300,
           300,
           300,
           300,
           300,
           325,
           325,
           325,
           325,
           325,
           325,
           325,
           325,
           325,
           325,
           325,
           325,
           325,
           350,
           350,
           350,
           350,
           350,
           350,
           350,
           350,
           350,
           350,
           350,
           350,
           350,
           350,
           375,
           375,
           375,
           375,
           375,
           400,
           275,
           325,
           300,
           325,
           350,
           450,
           350,
           350,
           325,
           325,
           275,
           275,
           275,
           375,
           350,
           375,
           250,
           400,
           350,
           350,
           325,
           350,
           350,
           375,
           300,
           275,
           375,
           300,
           300,
           300,
           400,
           375,
           375,
           325,
           375,
           325,
           325,
           375,
           250,
           250,
           375,
           250,
           300,
           325,
           300,
           350,
           350,
           375,
           325,
           325,
           350,
           350,
           400,
           325,
           375,
           325,
           325,
           375,
           375,
           325,
           325,
           345,
           325,
           300,
           322,
           325,
           275,
           275,
           350,
           325,
           375,
           250,
           375,
           350,
           300,
           300,
           325,
           325,
           275,
           350,
           325,
           350,
           250,
           325,
           300,
           350,
           300,
           325,
           325,
           275,
           325,
           375,
           225,
           350,
           250,
           375,
           325,
           350,
           275,
           300,
           350,
           275
          ],
          "coloraxis": "coloraxis",
          "symbol": "circle"
         },
         "mode": "markers",
         "name": "",
         "scene": "scene",
         "showlegend": false,
         "type": "scatter3d",
         "x": [
          15,
          18,
          16.5,
          16.5,
          17.5,
          17,
          15,
          17.5,
          17.5,
          16,
          17.5,
          18.5,
          17.5,
          15.5,
          17.5,
          16.5,
          16,
          17,
          17,
          18,
          15,
          17,
          20,
          15.5,
          17,
          16,
          17.5,
          19,
          14.5,
          15,
          16.5,
          17.5,
          18,
          20,
          20,
          18,
          15,
          17,
          19,
          15,
          18,
          19,
          18.5,
          19,
          18,
          14,
          19,
          18.5,
          17,
          16,
          17.5,
          19.5,
          16.5,
          16.5,
          15,
          16,
          15,
          18,
          17,
          17,
          17.5,
          18,
          18,
          17,
          17,
          17,
          17,
          17.5,
          20,
          15.5,
          16.5,
          18,
          17.5,
          19.5,
          19,
          16.5,
          17,
          18,
          17,
          16.5,
          21,
          18,
          16.5,
          17,
          14.5,
          17,
          19.5,
          17.5,
          15.5,
          18,
          19,
          18.5,
          15,
          17,
          21,
          16,
          19,
          16.5,
          17.5,
          16.5,
          18.5,
          17.5,
          18,
          22.5,
          17,
          17.5,
          17.5,
          17.5,
          15,
          19,
          18.5,
          17,
          21.5,
          16,
          17.5,
          18,
          17.5,
          16.5,
          18,
          17.5,
          17,
          21,
          17,
          19.5,
          16.5,
          16.5,
          16,
          20,
          16.5,
          21.5,
          18,
          16.5,
          18.5,
          18.5,
          16.5,
          19.5,
          16.5,
          20,
          17.5,
          21,
          17.5,
          16,
          15.5,
          20
         ],
         "y": [
          13.5,
          17.5,
          14,
          15,
          16.5,
          16,
          14,
          15.5,
          16,
          15.5,
          17,
          17,
          16,
          15,
          16,
          15,
          14,
          15.5,
          16,
          17,
          13,
          15,
          18,
          14,
          15.5,
          15,
          17,
          17,
          13,
          14.5,
          14.5,
          16,
          16.5,
          18,
          18,
          16,
          13,
          16.5,
          18.5,
          13.5,
          16.5,
          18.5,
          17,
          18.5,
          17,
          13.5,
          18,
          18,
          15.5,
          15.5,
          16,
          18.5,
          16,
          15,
          15,
          14.5,
          13.5,
          15.5,
          15,
          15.5,
          16,
          17,
          16.5,
          16.5,
          15,
          15.5,
          15.5,
          16,
          18,
          15,
          16,
          16.5,
          16,
          18,
          17.5,
          15,
          15,
          17,
          15.5,
          15.5,
          20,
          16.5,
          15.5,
          15.5,
          13.5,
          15.5,
          19,
          15,
          14,
          16.5,
          16.5,
          17.5,
          14.5,
          15,
          20.5,
          15,
          19,
          14.5,
          15.5,
          14.5,
          17.5,
          16,
          15.5,
          20.5,
          16,
          16.5,
          17,
          15,
          14.5,
          16,
          17,
          16,
          21.5,
          15.3,
          15.5,
          17.5,
          16,
          16,
          17.5,
          16,
          15,
          19.5,
          14.5,
          17,
          15,
          14.5,
          14,
          18,
          14.5,
          20,
          16,
          16,
          16.5,
          16,
          15,
          18,
          14.5,
          19.5,
          15,
          19.5,
          16,
          14,
          14,
          18
         ],
         "z": [
          4,
          3,
          5,
          4,
          3.5,
          5.5,
          5.8,
          5,
          4.2,
          5,
          7,
          5,
          5.5,
          4.5,
          5,
          5.5,
          5.5,
          4,
          5.2,
          4,
          4.5,
          5,
          4.5,
          4.2,
          4,
          6.5,
          5,
          4.5,
          6.5,
          4.5,
          4.5,
          6,
          5.2,
          4.5,
          5.5,
          4.5,
          5.5,
          4,
          4,
          4.5,
          6,
          5.5,
          4.5,
          7,
          6.5,
          5,
          6,
          4.5,
          6,
          4.5,
          5,
          4.5,
          5.5,
          5,
          4,
          5,
          6.5,
          5.5,
          5,
          6,
          4.5,
          6,
          5,
          6,
          3.4,
          7,
          4,
          5,
          5,
          5,
          4.5,
          4,
          4,
          6,
          5,
          6,
          7,
          5,
          4.5,
          7,
          7,
          4.5,
          9,
          5.5,
          4.8,
          4.5,
          6,
          6,
          6,
          6,
          3,
          5,
          5,
          5,
          7,
          5.5,
          8,
          4.2,
          5,
          6.8,
          5,
          4.5,
          5,
          9,
          6.5,
          4.5,
          5,
          6,
          5,
          5,
          5.8,
          6.5,
          9,
          4,
          7,
          4.5,
          4,
          4.2,
          7,
          6,
          4.6,
          6,
          5.2,
          5.8,
          4.5,
          5,
          4.5,
          5.5,
          5,
          8,
          6,
          5.3,
          5.5,
          6.5,
          3.5,
          4,
          3.5,
          6,
          5.5,
          6.5,
          4.5,
          5,
          5,
          5.2
         ]
        }
       ],
       "layout": {
        "coloraxis": {
         "colorbar": {
          "title": {
           "text": "ImplantRight"
          }
         },
         "colorscale": [
          [
           0,
           "#0d0887"
          ],
          [
           0.1111111111111111,
           "#46039f"
          ],
          [
           0.2222222222222222,
           "#7201a8"
          ],
          [
           0.3333333333333333,
           "#9c179e"
          ],
          [
           0.4444444444444444,
           "#bd3786"
          ],
          [
           0.5555555555555556,
           "#d8576b"
          ],
          [
           0.6666666666666666,
           "#ed7953"
          ],
          [
           0.7777777777777778,
           "#fb9f3a"
          ],
          [
           0.8888888888888888,
           "#fdca26"
          ],
          [
           1,
           "#f0f921"
          ]
         ]
        },
        "height": 600,
        "legend": {
         "tracegroupgap": 0
        },
        "margin": {
         "t": 60
        },
        "scene": {
         "domain": {
          "x": [
           0,
           0.98
          ],
          "y": [
           0,
           1
          ]
         },
         "xaxis": {
          "title": {
           "text": "PostOp-CNR"
          }
         },
         "yaxis": {
          "title": {
           "text": "PreOp-CNR"
          }
         },
         "zaxis": {
          "title": {
           "text": "PreOp-IMFR"
          }
         }
        },
        "template": {
         "data": {
          "bar": [
           {
            "error_x": {
             "color": "#2a3f5f"
            },
            "error_y": {
             "color": "#2a3f5f"
            },
            "marker": {
             "line": {
              "color": "#E5ECF6",
              "width": 0.5
             }
            },
            "type": "bar"
           }
          ],
          "barpolar": [
           {
            "marker": {
             "line": {
              "color": "#E5ECF6",
              "width": 0.5
             }
            },
            "type": "barpolar"
           }
          ],
          "carpet": [
           {
            "aaxis": {
             "endlinecolor": "#2a3f5f",
             "gridcolor": "white",
             "linecolor": "white",
             "minorgridcolor": "white",
             "startlinecolor": "#2a3f5f"
            },
            "baxis": {
             "endlinecolor": "#2a3f5f",
             "gridcolor": "white",
             "linecolor": "white",
             "minorgridcolor": "white",
             "startlinecolor": "#2a3f5f"
            },
            "type": "carpet"
           }
          ],
          "choropleth": [
           {
            "colorbar": {
             "outlinewidth": 0,
             "ticks": ""
            },
            "type": "choropleth"
           }
          ],
          "contour": [
           {
            "colorbar": {
             "outlinewidth": 0,
             "ticks": ""
            },
            "colorscale": [
             [
              0,
              "#0d0887"
             ],
             [
              0.1111111111111111,
              "#46039f"
             ],
             [
              0.2222222222222222,
              "#7201a8"
             ],
             [
              0.3333333333333333,
              "#9c179e"
             ],
             [
              0.4444444444444444,
              "#bd3786"
             ],
             [
              0.5555555555555556,
              "#d8576b"
             ],
             [
              0.6666666666666666,
              "#ed7953"
             ],
             [
              0.7777777777777778,
              "#fb9f3a"
             ],
             [
              0.8888888888888888,
              "#fdca26"
             ],
             [
              1,
              "#f0f921"
             ]
            ],
            "type": "contour"
           }
          ],
          "contourcarpet": [
           {
            "colorbar": {
             "outlinewidth": 0,
             "ticks": ""
            },
            "type": "contourcarpet"
           }
          ],
          "heatmap": [
           {
            "colorbar": {
             "outlinewidth": 0,
             "ticks": ""
            },
            "colorscale": [
             [
              0,
              "#0d0887"
             ],
             [
              0.1111111111111111,
              "#46039f"
             ],
             [
              0.2222222222222222,
              "#7201a8"
             ],
             [
              0.3333333333333333,
              "#9c179e"
             ],
             [
              0.4444444444444444,
              "#bd3786"
             ],
             [
              0.5555555555555556,
              "#d8576b"
             ],
             [
              0.6666666666666666,
              "#ed7953"
             ],
             [
              0.7777777777777778,
              "#fb9f3a"
             ],
             [
              0.8888888888888888,
              "#fdca26"
             ],
             [
              1,
              "#f0f921"
             ]
            ],
            "type": "heatmap"
           }
          ],
          "heatmapgl": [
           {
            "colorbar": {
             "outlinewidth": 0,
             "ticks": ""
            },
            "colorscale": [
             [
              0,
              "#0d0887"
             ],
             [
              0.1111111111111111,
              "#46039f"
             ],
             [
              0.2222222222222222,
              "#7201a8"
             ],
             [
              0.3333333333333333,
              "#9c179e"
             ],
             [
              0.4444444444444444,
              "#bd3786"
             ],
             [
              0.5555555555555556,
              "#d8576b"
             ],
             [
              0.6666666666666666,
              "#ed7953"
             ],
             [
              0.7777777777777778,
              "#fb9f3a"
             ],
             [
              0.8888888888888888,
              "#fdca26"
             ],
             [
              1,
              "#f0f921"
             ]
            ],
            "type": "heatmapgl"
           }
          ],
          "histogram": [
           {
            "marker": {
             "colorbar": {
              "outlinewidth": 0,
              "ticks": ""
             }
            },
            "type": "histogram"
           }
          ],
          "histogram2d": [
           {
            "colorbar": {
             "outlinewidth": 0,
             "ticks": ""
            },
            "colorscale": [
             [
              0,
              "#0d0887"
             ],
             [
              0.1111111111111111,
              "#46039f"
             ],
             [
              0.2222222222222222,
              "#7201a8"
             ],
             [
              0.3333333333333333,
              "#9c179e"
             ],
             [
              0.4444444444444444,
              "#bd3786"
             ],
             [
              0.5555555555555556,
              "#d8576b"
             ],
             [
              0.6666666666666666,
              "#ed7953"
             ],
             [
              0.7777777777777778,
              "#fb9f3a"
             ],
             [
              0.8888888888888888,
              "#fdca26"
             ],
             [
              1,
              "#f0f921"
             ]
            ],
            "type": "histogram2d"
           }
          ],
          "histogram2dcontour": [
           {
            "colorbar": {
             "outlinewidth": 0,
             "ticks": ""
            },
            "colorscale": [
             [
              0,
              "#0d0887"
             ],
             [
              0.1111111111111111,
              "#46039f"
             ],
             [
              0.2222222222222222,
              "#7201a8"
             ],
             [
              0.3333333333333333,
              "#9c179e"
             ],
             [
              0.4444444444444444,
              "#bd3786"
             ],
             [
              0.5555555555555556,
              "#d8576b"
             ],
             [
              0.6666666666666666,
              "#ed7953"
             ],
             [
              0.7777777777777778,
              "#fb9f3a"
             ],
             [
              0.8888888888888888,
              "#fdca26"
             ],
             [
              1,
              "#f0f921"
             ]
            ],
            "type": "histogram2dcontour"
           }
          ],
          "mesh3d": [
           {
            "colorbar": {
             "outlinewidth": 0,
             "ticks": ""
            },
            "type": "mesh3d"
           }
          ],
          "parcoords": [
           {
            "line": {
             "colorbar": {
              "outlinewidth": 0,
              "ticks": ""
             }
            },
            "type": "parcoords"
           }
          ],
          "scatter": [
           {
            "marker": {
             "colorbar": {
              "outlinewidth": 0,
              "ticks": ""
             }
            },
            "type": "scatter"
           }
          ],
          "scatter3d": [
           {
            "line": {
             "colorbar": {
              "outlinewidth": 0,
              "ticks": ""
             }
            },
            "marker": {
             "colorbar": {
              "outlinewidth": 0,
              "ticks": ""
             }
            },
            "type": "scatter3d"
           }
          ],
          "scattercarpet": [
           {
            "marker": {
             "colorbar": {
              "outlinewidth": 0,
              "ticks": ""
             }
            },
            "type": "scattercarpet"
           }
          ],
          "scattergeo": [
           {
            "marker": {
             "colorbar": {
              "outlinewidth": 0,
              "ticks": ""
             }
            },
            "type": "scattergeo"
           }
          ],
          "scattergl": [
           {
            "marker": {
             "colorbar": {
              "outlinewidth": 0,
              "ticks": ""
             }
            },
            "type": "scattergl"
           }
          ],
          "scattermapbox": [
           {
            "marker": {
             "colorbar": {
              "outlinewidth": 0,
              "ticks": ""
             }
            },
            "type": "scattermapbox"
           }
          ],
          "scatterpolar": [
           {
            "marker": {
             "colorbar": {
              "outlinewidth": 0,
              "ticks": ""
             }
            },
            "type": "scatterpolar"
           }
          ],
          "scatterpolargl": [
           {
            "marker": {
             "colorbar": {
              "outlinewidth": 0,
              "ticks": ""
             }
            },
            "type": "scatterpolargl"
           }
          ],
          "scatterternary": [
           {
            "marker": {
             "colorbar": {
              "outlinewidth": 0,
              "ticks": ""
             }
            },
            "type": "scatterternary"
           }
          ],
          "surface": [
           {
            "colorbar": {
             "outlinewidth": 0,
             "ticks": ""
            },
            "colorscale": [
             [
              0,
              "#0d0887"
             ],
             [
              0.1111111111111111,
              "#46039f"
             ],
             [
              0.2222222222222222,
              "#7201a8"
             ],
             [
              0.3333333333333333,
              "#9c179e"
             ],
             [
              0.4444444444444444,
              "#bd3786"
             ],
             [
              0.5555555555555556,
              "#d8576b"
             ],
             [
              0.6666666666666666,
              "#ed7953"
             ],
             [
              0.7777777777777778,
              "#fb9f3a"
             ],
             [
              0.8888888888888888,
              "#fdca26"
             ],
             [
              1,
              "#f0f921"
             ]
            ],
            "type": "surface"
           }
          ],
          "table": [
           {
            "cells": {
             "fill": {
              "color": "#EBF0F8"
             },
             "line": {
              "color": "white"
             }
            },
            "header": {
             "fill": {
              "color": "#C8D4E3"
             },
             "line": {
              "color": "white"
             }
            },
            "type": "table"
           }
          ]
         },
         "layout": {
          "annotationdefaults": {
           "arrowcolor": "#2a3f5f",
           "arrowhead": 0,
           "arrowwidth": 1
          },
          "colorscale": {
           "diverging": [
            [
             0,
             "#8e0152"
            ],
            [
             0.1,
             "#c51b7d"
            ],
            [
             0.2,
             "#de77ae"
            ],
            [
             0.3,
             "#f1b6da"
            ],
            [
             0.4,
             "#fde0ef"
            ],
            [
             0.5,
             "#f7f7f7"
            ],
            [
             0.6,
             "#e6f5d0"
            ],
            [
             0.7,
             "#b8e186"
            ],
            [
             0.8,
             "#7fbc41"
            ],
            [
             0.9,
             "#4d9221"
            ],
            [
             1,
             "#276419"
            ]
           ],
           "sequential": [
            [
             0,
             "#0d0887"
            ],
            [
             0.1111111111111111,
             "#46039f"
            ],
            [
             0.2222222222222222,
             "#7201a8"
            ],
            [
             0.3333333333333333,
             "#9c179e"
            ],
            [
             0.4444444444444444,
             "#bd3786"
            ],
            [
             0.5555555555555556,
             "#d8576b"
            ],
            [
             0.6666666666666666,
             "#ed7953"
            ],
            [
             0.7777777777777778,
             "#fb9f3a"
            ],
            [
             0.8888888888888888,
             "#fdca26"
            ],
            [
             1,
             "#f0f921"
            ]
           ],
           "sequentialminus": [
            [
             0,
             "#0d0887"
            ],
            [
             0.1111111111111111,
             "#46039f"
            ],
            [
             0.2222222222222222,
             "#7201a8"
            ],
            [
             0.3333333333333333,
             "#9c179e"
            ],
            [
             0.4444444444444444,
             "#bd3786"
            ],
            [
             0.5555555555555556,
             "#d8576b"
            ],
            [
             0.6666666666666666,
             "#ed7953"
            ],
            [
             0.7777777777777778,
             "#fb9f3a"
            ],
            [
             0.8888888888888888,
             "#fdca26"
            ],
            [
             1,
             "#f0f921"
            ]
           ]
          },
          "colorway": [
           "#636efa",
           "#EF553B",
           "#00cc96",
           "#ab63fa",
           "#FFA15A",
           "#19d3f3",
           "#FF6692",
           "#B6E880",
           "#FF97FF",
           "#FECB52"
          ],
          "font": {
           "color": "#2a3f5f"
          },
          "geo": {
           "bgcolor": "white",
           "lakecolor": "white",
           "landcolor": "#E5ECF6",
           "showlakes": true,
           "showland": true,
           "subunitcolor": "white"
          },
          "hoverlabel": {
           "align": "left"
          },
          "hovermode": "closest",
          "mapbox": {
           "style": "light"
          },
          "paper_bgcolor": "white",
          "plot_bgcolor": "#E5ECF6",
          "polar": {
           "angularaxis": {
            "gridcolor": "white",
            "linecolor": "white",
            "ticks": ""
           },
           "bgcolor": "#E5ECF6",
           "radialaxis": {
            "gridcolor": "white",
            "linecolor": "white",
            "ticks": ""
           }
          },
          "scene": {
           "xaxis": {
            "backgroundcolor": "#E5ECF6",
            "gridcolor": "white",
            "gridwidth": 2,
            "linecolor": "white",
            "showbackground": true,
            "ticks": "",
            "zerolinecolor": "white"
           },
           "yaxis": {
            "backgroundcolor": "#E5ECF6",
            "gridcolor": "white",
            "gridwidth": 2,
            "linecolor": "white",
            "showbackground": true,
            "ticks": "",
            "zerolinecolor": "white"
           },
           "zaxis": {
            "backgroundcolor": "#E5ECF6",
            "gridcolor": "white",
            "gridwidth": 2,
            "linecolor": "white",
            "showbackground": true,
            "ticks": "",
            "zerolinecolor": "white"
           }
          },
          "shapedefaults": {
           "line": {
            "color": "#2a3f5f"
           }
          },
          "ternary": {
           "aaxis": {
            "gridcolor": "white",
            "linecolor": "white",
            "ticks": ""
           },
           "baxis": {
            "gridcolor": "white",
            "linecolor": "white",
            "ticks": ""
           },
           "bgcolor": "#E5ECF6",
           "caxis": {
            "gridcolor": "white",
            "linecolor": "white",
            "ticks": ""
           }
          },
          "title": {
           "x": 0.05
          },
          "xaxis": {
           "automargin": true,
           "gridcolor": "white",
           "linecolor": "white",
           "ticks": "",
           "zerolinecolor": "white",
           "zerolinewidth": 2
          },
          "yaxis": {
           "automargin": true,
           "gridcolor": "white",
           "linecolor": "white",
           "ticks": "",
           "zerolinecolor": "white",
           "zerolinewidth": 2
          }
         }
        }
       }
      },
      "text/html": [
       "<div>\n",
       "        \n",
       "        \n",
       "            <div id=\"505cf4e1-b38a-4616-93f5-5f64e6f3cc9b\" class=\"plotly-graph-div\" style=\"height:600px; width:100%;\"></div>\n",
       "            <script type=\"text/javascript\">\n",
       "                require([\"plotly\"], function(Plotly) {\n",
       "                    window.PLOTLYENV=window.PLOTLYENV || {};\n",
       "                    \n",
       "                if (document.getElementById(\"505cf4e1-b38a-4616-93f5-5f64e6f3cc9b\")) {\n",
       "                    Plotly.newPlot(\n",
       "                        '505cf4e1-b38a-4616-93f5-5f64e6f3cc9b',\n",
       "                        [{\"hoverlabel\": {\"namelength\": 0}, \"hovertemplate\": \"PostOp-CNR=%{x}<br>PreOp-CNR=%{y}<br>PreOp-IMFR=%{z}<br>ImplantRight=%{marker.color}\", \"legendgroup\": \"\", \"marker\": {\"color\": [275, 275, 275, 275, 300, 300, 300, 300, 300, 325, 325, 325, 325, 325, 325, 325, 325, 325, 325, 325, 325, 325, 350, 350, 350, 350, 350, 350, 350, 350, 350, 350, 350, 350, 350, 350, 375, 375, 375, 375, 375, 400, 275, 325, 300, 325, 350, 450, 350, 350, 325, 325, 275, 275, 275, 375, 350, 375, 250, 400, 350, 350, 325, 350, 350, 375, 300, 275, 375, 300, 300, 300, 400, 375, 375, 325, 375, 325, 325, 375, 250, 250, 375, 250, 300, 325, 300, 350, 350, 375, 325, 325, 350, 350, 400, 325, 375, 325, 325, 375, 375, 325, 325, 345, 325, 300, 322, 325, 275, 275, 350, 325, 375, 250, 375, 350, 300, 300, 325, 325, 275, 350, 325, 350, 250, 325, 300, 350, 300, 325, 325, 275, 325, 375, 225, 350, 250, 375, 325, 350, 275, 300, 350, 275], \"coloraxis\": \"coloraxis\", \"symbol\": \"circle\"}, \"mode\": \"markers\", \"name\": \"\", \"scene\": \"scene\", \"showlegend\": false, \"type\": \"scatter3d\", \"x\": [15.0, 18.0, 16.5, 16.5, 17.5, 17.0, 15.0, 17.5, 17.5, 16.0, 17.5, 18.5, 17.5, 15.5, 17.5, 16.5, 16.0, 17.0, 17.0, 18.0, 15.0, 17.0, 20.0, 15.5, 17.0, 16.0, 17.5, 19.0, 14.5, 15.0, 16.5, 17.5, 18.0, 20.0, 20.0, 18.0, 15.0, 17.0, 19.0, 15.0, 18.0, 19.0, 18.5, 19.0, 18.0, 14.0, 19.0, 18.5, 17.0, 16.0, 17.5, 19.5, 16.5, 16.5, 15.0, 16.0, 15.0, 18.0, 17.0, 17.0, 17.5, 18.0, 18.0, 17.0, 17.0, 17.0, 17.0, 17.5, 20.0, 15.5, 16.5, 18.0, 17.5, 19.5, 19.0, 16.5, 17.0, 18.0, 17.0, 16.5, 21.0, 18.0, 16.5, 17.0, 14.5, 17.0, 19.5, 17.5, 15.5, 18.0, 19.0, 18.5, 15.0, 17.0, 21.0, 16.0, 19.0, 16.5, 17.5, 16.5, 18.5, 17.5, 18.0, 22.5, 17.0, 17.5, 17.5, 17.5, 15.0, 19.0, 18.5, 17.0, 21.5, 16.0, 17.5, 18.0, 17.5, 16.5, 18.0, 17.5, 17.0, 21.0, 17.0, 19.5, 16.5, 16.5, 16.0, 20.0, 16.5, 21.5, 18.0, 16.5, 18.5, 18.5, 16.5, 19.5, 16.5, 20.0, 17.5, 21.0, 17.5, 16.0, 15.5, 20.0], \"y\": [13.5, 17.5, 14.0, 15.0, 16.5, 16.0, 14.0, 15.5, 16.0, 15.5, 17.0, 17.0, 16.0, 15.0, 16.0, 15.0, 14.0, 15.5, 16.0, 17.0, 13.0, 15.0, 18.0, 14.0, 15.5, 15.0, 17.0, 17.0, 13.0, 14.5, 14.5, 16.0, 16.5, 18.0, 18.0, 16.0, 13.0, 16.5, 18.5, 13.5, 16.5, 18.5, 17.0, 18.5, 17.0, 13.5, 18.0, 18.0, 15.5, 15.5, 16.0, 18.5, 16.0, 15.0, 15.0, 14.5, 13.5, 15.5, 15.0, 15.5, 16.0, 17.0, 16.5, 16.5, 15.0, 15.5, 15.5, 16.0, 18.0, 15.0, 16.0, 16.5, 16.0, 18.0, 17.5, 15.0, 15.0, 17.0, 15.5, 15.5, 20.0, 16.5, 15.5, 15.5, 13.5, 15.5, 19.0, 15.0, 14.0, 16.5, 16.5, 17.5, 14.5, 15.0, 20.5, 15.0, 19.0, 14.5, 15.5, 14.5, 17.5, 16.0, 15.5, 20.5, 16.0, 16.5, 17.0, 15.0, 14.5, 16.0, 17.0, 16.0, 21.5, 15.3, 15.5, 17.5, 16.0, 16.0, 17.5, 16.0, 15.0, 19.5, 14.5, 17.0, 15.0, 14.5, 14.0, 18.0, 14.5, 20.0, 16.0, 16.0, 16.5, 16.0, 15.0, 18.0, 14.5, 19.5, 15.0, 19.5, 16.0, 14.0, 14.0, 18.0], \"z\": [4.0, 3.0, 5.0, 4.0, 3.5, 5.5, 5.8, 5.0, 4.2, 5.0, 7.0, 5.0, 5.5, 4.5, 5.0, 5.5, 5.5, 4.0, 5.2, 4.0, 4.5, 5.0, 4.5, 4.2, 4.0, 6.5, 5.0, 4.5, 6.5, 4.5, 4.5, 6.0, 5.2, 4.5, 5.5, 4.5, 5.5, 4.0, 4.0, 4.5, 6.0, 5.5, 4.5, 7.0, 6.5, 5.0, 6.0, 4.5, 6.0, 4.5, 5.0, 4.5, 5.5, 5.0, 4.0, 5.0, 6.5, 5.5, 5.0, 6.0, 4.5, 6.0, 5.0, 6.0, 3.4, 7.0, 4.0, 5.0, 5.0, 5.0, 4.5, 4.0, 4.0, 6.0, 5.0, 6.0, 7.0, 5.0, 4.5, 7.0, 7.0, 4.5, 9.0, 5.5, 4.8, 4.5, 6.0, 6.0, 6.0, 6.0, 3.0, 5.0, 5.0, 5.0, 7.0, 5.5, 8.0, 4.2, 5.0, 6.8, 5.0, 4.5, 5.0, 9.0, 6.5, 4.5, 5.0, 6.0, 5.0, 5.0, 5.8, 6.5, 9.0, 4.0, 7.0, 4.5, 4.0, 4.2, 7.0, 6.0, 4.6, 6.0, 5.2, 5.8, 4.5, 5.0, 4.5, 5.5, 5.0, 8.0, 6.0, 5.3, 5.5, 6.5, 3.5, 4.0, 3.5, 6.0, 5.5, 6.5, 4.5, 5.0, 5.0, 5.2]}],\n",
       "                        {\"coloraxis\": {\"colorbar\": {\"title\": {\"text\": \"ImplantRight\"}}, \"colorscale\": [[0.0, \"#0d0887\"], [0.1111111111111111, \"#46039f\"], [0.2222222222222222, \"#7201a8\"], [0.3333333333333333, \"#9c179e\"], [0.4444444444444444, \"#bd3786\"], [0.5555555555555556, \"#d8576b\"], [0.6666666666666666, \"#ed7953\"], [0.7777777777777778, \"#fb9f3a\"], [0.8888888888888888, \"#fdca26\"], [1.0, \"#f0f921\"]]}, \"height\": 600, \"legend\": {\"tracegroupgap\": 0}, \"margin\": {\"t\": 60}, \"scene\": {\"domain\": {\"x\": [0.0, 0.98], \"y\": [0.0, 1.0]}, \"xaxis\": {\"title\": {\"text\": \"PostOp-CNR\"}}, \"yaxis\": {\"title\": {\"text\": \"PreOp-CNR\"}}, \"zaxis\": {\"title\": {\"text\": \"PreOp-IMFR\"}}}, \"template\": {\"data\": {\"bar\": [{\"error_x\": {\"color\": \"#2a3f5f\"}, \"error_y\": {\"color\": \"#2a3f5f\"}, \"marker\": {\"line\": {\"color\": \"#E5ECF6\", \"width\": 0.5}}, \"type\": \"bar\"}], \"barpolar\": [{\"marker\": {\"line\": {\"color\": \"#E5ECF6\", \"width\": 0.5}}, \"type\": \"barpolar\"}], \"carpet\": [{\"aaxis\": {\"endlinecolor\": \"#2a3f5f\", \"gridcolor\": \"white\", \"linecolor\": \"white\", \"minorgridcolor\": \"white\", \"startlinecolor\": \"#2a3f5f\"}, \"baxis\": {\"endlinecolor\": \"#2a3f5f\", \"gridcolor\": \"white\", \"linecolor\": \"white\", \"minorgridcolor\": \"white\", \"startlinecolor\": \"#2a3f5f\"}, \"type\": \"carpet\"}], \"choropleth\": [{\"colorbar\": {\"outlinewidth\": 0, \"ticks\": \"\"}, \"type\": \"choropleth\"}], \"contour\": [{\"colorbar\": {\"outlinewidth\": 0, \"ticks\": \"\"}, \"colorscale\": [[0.0, \"#0d0887\"], [0.1111111111111111, \"#46039f\"], [0.2222222222222222, \"#7201a8\"], [0.3333333333333333, \"#9c179e\"], [0.4444444444444444, \"#bd3786\"], [0.5555555555555556, \"#d8576b\"], [0.6666666666666666, \"#ed7953\"], [0.7777777777777778, \"#fb9f3a\"], [0.8888888888888888, \"#fdca26\"], [1.0, \"#f0f921\"]], \"type\": \"contour\"}], \"contourcarpet\": [{\"colorbar\": {\"outlinewidth\": 0, \"ticks\": \"\"}, \"type\": \"contourcarpet\"}], \"heatmap\": [{\"colorbar\": {\"outlinewidth\": 0, \"ticks\": \"\"}, \"colorscale\": [[0.0, \"#0d0887\"], [0.1111111111111111, \"#46039f\"], [0.2222222222222222, \"#7201a8\"], [0.3333333333333333, \"#9c179e\"], [0.4444444444444444, \"#bd3786\"], [0.5555555555555556, \"#d8576b\"], [0.6666666666666666, \"#ed7953\"], [0.7777777777777778, \"#fb9f3a\"], [0.8888888888888888, \"#fdca26\"], [1.0, \"#f0f921\"]], \"type\": \"heatmap\"}], \"heatmapgl\": [{\"colorbar\": {\"outlinewidth\": 0, \"ticks\": \"\"}, \"colorscale\": [[0.0, \"#0d0887\"], [0.1111111111111111, \"#46039f\"], [0.2222222222222222, \"#7201a8\"], [0.3333333333333333, \"#9c179e\"], [0.4444444444444444, \"#bd3786\"], [0.5555555555555556, \"#d8576b\"], [0.6666666666666666, \"#ed7953\"], [0.7777777777777778, \"#fb9f3a\"], [0.8888888888888888, \"#fdca26\"], [1.0, \"#f0f921\"]], \"type\": \"heatmapgl\"}], \"histogram\": [{\"marker\": {\"colorbar\": {\"outlinewidth\": 0, \"ticks\": \"\"}}, \"type\": \"histogram\"}], \"histogram2d\": [{\"colorbar\": {\"outlinewidth\": 0, \"ticks\": \"\"}, \"colorscale\": [[0.0, \"#0d0887\"], [0.1111111111111111, \"#46039f\"], [0.2222222222222222, \"#7201a8\"], [0.3333333333333333, \"#9c179e\"], [0.4444444444444444, \"#bd3786\"], [0.5555555555555556, \"#d8576b\"], [0.6666666666666666, \"#ed7953\"], [0.7777777777777778, \"#fb9f3a\"], [0.8888888888888888, \"#fdca26\"], [1.0, \"#f0f921\"]], \"type\": \"histogram2d\"}], \"histogram2dcontour\": [{\"colorbar\": {\"outlinewidth\": 0, \"ticks\": \"\"}, \"colorscale\": [[0.0, \"#0d0887\"], [0.1111111111111111, \"#46039f\"], [0.2222222222222222, \"#7201a8\"], [0.3333333333333333, \"#9c179e\"], [0.4444444444444444, \"#bd3786\"], [0.5555555555555556, \"#d8576b\"], [0.6666666666666666, \"#ed7953\"], [0.7777777777777778, \"#fb9f3a\"], [0.8888888888888888, \"#fdca26\"], [1.0, \"#f0f921\"]], \"type\": \"histogram2dcontour\"}], \"mesh3d\": [{\"colorbar\": {\"outlinewidth\": 0, \"ticks\": \"\"}, \"type\": \"mesh3d\"}], \"parcoords\": [{\"line\": {\"colorbar\": {\"outlinewidth\": 0, \"ticks\": \"\"}}, \"type\": \"parcoords\"}], \"scatter\": [{\"marker\": {\"colorbar\": {\"outlinewidth\": 0, \"ticks\": \"\"}}, \"type\": \"scatter\"}], \"scatter3d\": [{\"line\": {\"colorbar\": {\"outlinewidth\": 0, \"ticks\": \"\"}}, \"marker\": {\"colorbar\": {\"outlinewidth\": 0, \"ticks\": \"\"}}, \"type\": \"scatter3d\"}], \"scattercarpet\": [{\"marker\": {\"colorbar\": {\"outlinewidth\": 0, \"ticks\": \"\"}}, \"type\": \"scattercarpet\"}], \"scattergeo\": [{\"marker\": {\"colorbar\": {\"outlinewidth\": 0, \"ticks\": \"\"}}, \"type\": \"scattergeo\"}], \"scattergl\": [{\"marker\": {\"colorbar\": {\"outlinewidth\": 0, \"ticks\": \"\"}}, \"type\": \"scattergl\"}], \"scattermapbox\": [{\"marker\": {\"colorbar\": {\"outlinewidth\": 0, \"ticks\": \"\"}}, \"type\": \"scattermapbox\"}], \"scatterpolar\": [{\"marker\": {\"colorbar\": {\"outlinewidth\": 0, \"ticks\": \"\"}}, \"type\": \"scatterpolar\"}], \"scatterpolargl\": [{\"marker\": {\"colorbar\": {\"outlinewidth\": 0, \"ticks\": \"\"}}, \"type\": \"scatterpolargl\"}], \"scatterternary\": [{\"marker\": {\"colorbar\": {\"outlinewidth\": 0, \"ticks\": \"\"}}, \"type\": \"scatterternary\"}], \"surface\": [{\"colorbar\": {\"outlinewidth\": 0, \"ticks\": \"\"}, \"colorscale\": [[0.0, \"#0d0887\"], [0.1111111111111111, \"#46039f\"], [0.2222222222222222, \"#7201a8\"], [0.3333333333333333, \"#9c179e\"], [0.4444444444444444, \"#bd3786\"], [0.5555555555555556, \"#d8576b\"], [0.6666666666666666, \"#ed7953\"], [0.7777777777777778, \"#fb9f3a\"], [0.8888888888888888, \"#fdca26\"], [1.0, \"#f0f921\"]], \"type\": \"surface\"}], \"table\": [{\"cells\": {\"fill\": {\"color\": \"#EBF0F8\"}, \"line\": {\"color\": \"white\"}}, \"header\": {\"fill\": {\"color\": \"#C8D4E3\"}, \"line\": {\"color\": \"white\"}}, \"type\": \"table\"}]}, \"layout\": {\"annotationdefaults\": {\"arrowcolor\": \"#2a3f5f\", \"arrowhead\": 0, \"arrowwidth\": 1}, \"colorscale\": {\"diverging\": [[0, \"#8e0152\"], [0.1, \"#c51b7d\"], [0.2, \"#de77ae\"], [0.3, \"#f1b6da\"], [0.4, \"#fde0ef\"], [0.5, \"#f7f7f7\"], [0.6, \"#e6f5d0\"], [0.7, \"#b8e186\"], [0.8, \"#7fbc41\"], [0.9, \"#4d9221\"], [1, \"#276419\"]], \"sequential\": [[0.0, \"#0d0887\"], [0.1111111111111111, \"#46039f\"], [0.2222222222222222, \"#7201a8\"], [0.3333333333333333, \"#9c179e\"], [0.4444444444444444, \"#bd3786\"], [0.5555555555555556, \"#d8576b\"], [0.6666666666666666, \"#ed7953\"], [0.7777777777777778, \"#fb9f3a\"], [0.8888888888888888, \"#fdca26\"], [1.0, \"#f0f921\"]], \"sequentialminus\": [[0.0, \"#0d0887\"], [0.1111111111111111, \"#46039f\"], [0.2222222222222222, \"#7201a8\"], [0.3333333333333333, \"#9c179e\"], [0.4444444444444444, \"#bd3786\"], [0.5555555555555556, \"#d8576b\"], [0.6666666666666666, \"#ed7953\"], [0.7777777777777778, \"#fb9f3a\"], [0.8888888888888888, \"#fdca26\"], [1.0, \"#f0f921\"]]}, \"colorway\": [\"#636efa\", \"#EF553B\", \"#00cc96\", \"#ab63fa\", \"#FFA15A\", \"#19d3f3\", \"#FF6692\", \"#B6E880\", \"#FF97FF\", \"#FECB52\"], \"font\": {\"color\": \"#2a3f5f\"}, \"geo\": {\"bgcolor\": \"white\", \"lakecolor\": \"white\", \"landcolor\": \"#E5ECF6\", \"showlakes\": true, \"showland\": true, \"subunitcolor\": \"white\"}, \"hoverlabel\": {\"align\": \"left\"}, \"hovermode\": \"closest\", \"mapbox\": {\"style\": \"light\"}, \"paper_bgcolor\": \"white\", \"plot_bgcolor\": \"#E5ECF6\", \"polar\": {\"angularaxis\": {\"gridcolor\": \"white\", \"linecolor\": \"white\", \"ticks\": \"\"}, \"bgcolor\": \"#E5ECF6\", \"radialaxis\": {\"gridcolor\": \"white\", \"linecolor\": \"white\", \"ticks\": \"\"}}, \"scene\": {\"xaxis\": {\"backgroundcolor\": \"#E5ECF6\", \"gridcolor\": \"white\", \"gridwidth\": 2, \"linecolor\": \"white\", \"showbackground\": true, \"ticks\": \"\", \"zerolinecolor\": \"white\"}, \"yaxis\": {\"backgroundcolor\": \"#E5ECF6\", \"gridcolor\": \"white\", \"gridwidth\": 2, \"linecolor\": \"white\", \"showbackground\": true, \"ticks\": \"\", \"zerolinecolor\": \"white\"}, \"zaxis\": {\"backgroundcolor\": \"#E5ECF6\", \"gridcolor\": \"white\", \"gridwidth\": 2, \"linecolor\": \"white\", \"showbackground\": true, \"ticks\": \"\", \"zerolinecolor\": \"white\"}}, \"shapedefaults\": {\"line\": {\"color\": \"#2a3f5f\"}}, \"ternary\": {\"aaxis\": {\"gridcolor\": \"white\", \"linecolor\": \"white\", \"ticks\": \"\"}, \"baxis\": {\"gridcolor\": \"white\", \"linecolor\": \"white\", \"ticks\": \"\"}, \"bgcolor\": \"#E5ECF6\", \"caxis\": {\"gridcolor\": \"white\", \"linecolor\": \"white\", \"ticks\": \"\"}}, \"title\": {\"x\": 0.05}, \"xaxis\": {\"automargin\": true, \"gridcolor\": \"white\", \"linecolor\": \"white\", \"ticks\": \"\", \"zerolinecolor\": \"white\", \"zerolinewidth\": 2}, \"yaxis\": {\"automargin\": true, \"gridcolor\": \"white\", \"linecolor\": \"white\", \"ticks\": \"\", \"zerolinecolor\": \"white\", \"zerolinewidth\": 2}}}},\n",
       "                        {\"responsive\": true}\n",
       "                    ).then(function(){\n",
       "                            \n",
       "var gd = document.getElementById('505cf4e1-b38a-4616-93f5-5f64e6f3cc9b');\n",
       "var x = new MutationObserver(function (mutations, observer) {{\n",
       "        var display = window.getComputedStyle(gd).display;\n",
       "        if (!display || display === 'none') {{\n",
       "            console.log([gd, 'removed!']);\n",
       "            Plotly.purge(gd);\n",
       "            observer.disconnect();\n",
       "        }}\n",
       "}});\n",
       "\n",
       "// Listen for the removal of the full notebook cells\n",
       "var notebookContainer = gd.closest('#notebook-container');\n",
       "if (notebookContainer) {{\n",
       "    x.observe(notebookContainer, {childList: true});\n",
       "}}\n",
       "\n",
       "// Listen for the clearing of the current output cell\n",
       "var outputEl = gd.closest('.output');\n",
       "if (outputEl) {{\n",
       "    x.observe(outputEl, {childList: true});\n",
       "}}\n",
       "\n",
       "                        })\n",
       "                };\n",
       "                });\n",
       "            </script>\n",
       "        </div>"
      ]
     },
     "metadata": {},
     "output_type": "display_data"
    }
   ],
   "source": [
    "fig = px.scatter_3d(df, x='PostOp-CNR', y='PreOp-CNR', z='PreOp-IMFR', color='ImplantRight')\n",
    "fig.show()"
   ]
  },
  {
   "cell_type": "code",
   "execution_count": 45,
   "metadata": {},
   "outputs": [
    {
     "data": {
      "application/vnd.plotly.v1+json": {
       "config": {
        "plotlyServerURL": "https://plot.ly"
       },
       "data": [
        {
         "hoverlabel": {
          "namelength": 0
         },
         "hovertemplate": "PostOp-CNR=%{x}<br>PreOp-CNR=%{y}<br>PreOp-BWR=%{z}<br>ImplantRight=%{marker.color}",
         "legendgroup": "",
         "marker": {
          "color": [
           275,
           275,
           275,
           275,
           300,
           300,
           300,
           300,
           300,
           325,
           325,
           325,
           325,
           325,
           325,
           325,
           325,
           325,
           325,
           325,
           325,
           325,
           350,
           350,
           350,
           350,
           350,
           350,
           350,
           350,
           350,
           350,
           350,
           350,
           350,
           350,
           375,
           375,
           375,
           375,
           375,
           400,
           275,
           325,
           300,
           325,
           350,
           450,
           350,
           350,
           325,
           325,
           275,
           275,
           275,
           375,
           350,
           375,
           250,
           400,
           350,
           350,
           325,
           350,
           350,
           375,
           300,
           275,
           375,
           300,
           300,
           300,
           400,
           375,
           375,
           325,
           375,
           325,
           325,
           375,
           250,
           250,
           375,
           250,
           300,
           325,
           300,
           350,
           350,
           375,
           325,
           325,
           350,
           350,
           400,
           325,
           375,
           325,
           325,
           375,
           375,
           325,
           325,
           345,
           325,
           300,
           322,
           325,
           275,
           275,
           350,
           325,
           375,
           250,
           375,
           350,
           300,
           300,
           325,
           325,
           275,
           350,
           325,
           350,
           250,
           325,
           300,
           350,
           300,
           325,
           325,
           275,
           325,
           375,
           225,
           350,
           250,
           375,
           325,
           350,
           275,
           300,
           350,
           275
          ],
          "coloraxis": "coloraxis",
          "symbol": "circle"
         },
         "mode": "markers",
         "name": "",
         "scene": "scene",
         "showlegend": false,
         "type": "scatter3d",
         "x": [
          15,
          18,
          16.5,
          16.5,
          17.5,
          17,
          15,
          17.5,
          17.5,
          16,
          17.5,
          18.5,
          17.5,
          15.5,
          17.5,
          16.5,
          16,
          17,
          17,
          18,
          15,
          17,
          20,
          15.5,
          17,
          16,
          17.5,
          19,
          14.5,
          15,
          16.5,
          17.5,
          18,
          20,
          20,
          18,
          15,
          17,
          19,
          15,
          18,
          19,
          18.5,
          19,
          18,
          14,
          19,
          18.5,
          17,
          16,
          17.5,
          19.5,
          16.5,
          16.5,
          15,
          16,
          15,
          18,
          17,
          17,
          17.5,
          18,
          18,
          17,
          17,
          17,
          17,
          17.5,
          20,
          15.5,
          16.5,
          18,
          17.5,
          19.5,
          19,
          16.5,
          17,
          18,
          17,
          16.5,
          21,
          18,
          16.5,
          17,
          14.5,
          17,
          19.5,
          17.5,
          15.5,
          18,
          19,
          18.5,
          15,
          17,
          21,
          16,
          19,
          16.5,
          17.5,
          16.5,
          18.5,
          17.5,
          18,
          22.5,
          17,
          17.5,
          17.5,
          17.5,
          15,
          19,
          18.5,
          17,
          21.5,
          16,
          17.5,
          18,
          17.5,
          16.5,
          18,
          17.5,
          17,
          21,
          17,
          19.5,
          16.5,
          16.5,
          16,
          20,
          16.5,
          21.5,
          18,
          16.5,
          18.5,
          18.5,
          16.5,
          19.5,
          16.5,
          20,
          17.5,
          21,
          17.5,
          16,
          15.5,
          20
         ],
         "y": [
          13.5,
          17.5,
          14,
          15,
          16.5,
          16,
          14,
          15.5,
          16,
          15.5,
          17,
          17,
          16,
          15,
          16,
          15,
          14,
          15.5,
          16,
          17,
          13,
          15,
          18,
          14,
          15.5,
          15,
          17,
          17,
          13,
          14.5,
          14.5,
          16,
          16.5,
          18,
          18,
          16,
          13,
          16.5,
          18.5,
          13.5,
          16.5,
          18.5,
          17,
          18.5,
          17,
          13.5,
          18,
          18,
          15.5,
          15.5,
          16,
          18.5,
          16,
          15,
          15,
          14.5,
          13.5,
          15.5,
          15,
          15.5,
          16,
          17,
          16.5,
          16.5,
          15,
          15.5,
          15.5,
          16,
          18,
          15,
          16,
          16.5,
          16,
          18,
          17.5,
          15,
          15,
          17,
          15.5,
          15.5,
          20,
          16.5,
          15.5,
          15.5,
          13.5,
          15.5,
          19,
          15,
          14,
          16.5,
          16.5,
          17.5,
          14.5,
          15,
          20.5,
          15,
          19,
          14.5,
          15.5,
          14.5,
          17.5,
          16,
          15.5,
          20.5,
          16,
          16.5,
          17,
          15,
          14.5,
          16,
          17,
          16,
          21.5,
          15.3,
          15.5,
          17.5,
          16,
          16,
          17.5,
          16,
          15,
          19.5,
          14.5,
          17,
          15,
          14.5,
          14,
          18,
          14.5,
          20,
          16,
          16,
          16.5,
          16,
          15,
          18,
          14.5,
          19.5,
          15,
          19.5,
          16,
          14,
          14,
          18
         ],
         "z": [
          12.4,
          12.6,
          12,
          13,
          12,
          13,
          12.4,
          12.5,
          13,
          12.8,
          13.2,
          13.2,
          12.6,
          13.1,
          12.5,
          12.7,
          12.5,
          13,
          13,
          12.4,
          12,
          13,
          13.9,
          13.5,
          12.7,
          13.1,
          12.5,
          13.3,
          12.7,
          12.7,
          12.6,
          13.2,
          12.5,
          13,
          13.7,
          13.6,
          12.6,
          12.1,
          13,
          13,
          13.2,
          13.5,
          12.8,
          13.2,
          13.2,
          12.6,
          13.5,
          14.3,
          12.5,
          12.3,
          13.3,
          13.1,
          12.6,
          12.4,
          13,
          12.3,
          12.3,
          13.4,
          12,
          13,
          12.8,
          13.2,
          12.5,
          13.1,
          13.1,
          13.1,
          12.8,
          13,
          13.2,
          13,
          12.3,
          12.9,
          13.7,
          13.5,
          13.5,
          12.5,
          13.1,
          13.4,
          12.8,
          12.8,
          13.8,
          12.7,
          12.6,
          13.1,
          12.2,
          13,
          13.2,
          13.1,
          13.2,
          13.2,
          12.9,
          13,
          12,
          13.2,
          13.3,
          12.5,
          13.8,
          11.3,
          13.1,
          13.2,
          13.5,
          12.8,
          12.8,
          13.6,
          13.2,
          13,
          12.8,
          13.7,
          12.3,
          13.1,
          13.5,
          13.1,
          14.3,
          11.9,
          13.1,
          13.5,
          12.4,
          12.6,
          12,
          13.2,
          12.3,
          13.3,
          12.2,
          13.4,
          12.3,
          12.6,
          12.4,
          13.7,
          12.5,
          13.3,
          12.9,
          13.7,
          13,
          13,
          12.5,
          12.9,
          12.2,
          13.5,
          12.5,
          13.9,
          12.7,
          12.7,
          12.3,
          13.4
         ]
        }
       ],
       "layout": {
        "coloraxis": {
         "colorbar": {
          "title": {
           "text": "ImplantRight"
          }
         },
         "colorscale": [
          [
           0,
           "#0d0887"
          ],
          [
           0.1111111111111111,
           "#46039f"
          ],
          [
           0.2222222222222222,
           "#7201a8"
          ],
          [
           0.3333333333333333,
           "#9c179e"
          ],
          [
           0.4444444444444444,
           "#bd3786"
          ],
          [
           0.5555555555555556,
           "#d8576b"
          ],
          [
           0.6666666666666666,
           "#ed7953"
          ],
          [
           0.7777777777777778,
           "#fb9f3a"
          ],
          [
           0.8888888888888888,
           "#fdca26"
          ],
          [
           1,
           "#f0f921"
          ]
         ]
        },
        "height": 600,
        "legend": {
         "tracegroupgap": 0
        },
        "margin": {
         "t": 60
        },
        "scene": {
         "domain": {
          "x": [
           0,
           0.98
          ],
          "y": [
           0,
           1
          ]
         },
         "xaxis": {
          "title": {
           "text": "PostOp-CNR"
          }
         },
         "yaxis": {
          "title": {
           "text": "PreOp-CNR"
          }
         },
         "zaxis": {
          "title": {
           "text": "PreOp-BWR"
          }
         }
        },
        "template": {
         "data": {
          "bar": [
           {
            "error_x": {
             "color": "#2a3f5f"
            },
            "error_y": {
             "color": "#2a3f5f"
            },
            "marker": {
             "line": {
              "color": "#E5ECF6",
              "width": 0.5
             }
            },
            "type": "bar"
           }
          ],
          "barpolar": [
           {
            "marker": {
             "line": {
              "color": "#E5ECF6",
              "width": 0.5
             }
            },
            "type": "barpolar"
           }
          ],
          "carpet": [
           {
            "aaxis": {
             "endlinecolor": "#2a3f5f",
             "gridcolor": "white",
             "linecolor": "white",
             "minorgridcolor": "white",
             "startlinecolor": "#2a3f5f"
            },
            "baxis": {
             "endlinecolor": "#2a3f5f",
             "gridcolor": "white",
             "linecolor": "white",
             "minorgridcolor": "white",
             "startlinecolor": "#2a3f5f"
            },
            "type": "carpet"
           }
          ],
          "choropleth": [
           {
            "colorbar": {
             "outlinewidth": 0,
             "ticks": ""
            },
            "type": "choropleth"
           }
          ],
          "contour": [
           {
            "colorbar": {
             "outlinewidth": 0,
             "ticks": ""
            },
            "colorscale": [
             [
              0,
              "#0d0887"
             ],
             [
              0.1111111111111111,
              "#46039f"
             ],
             [
              0.2222222222222222,
              "#7201a8"
             ],
             [
              0.3333333333333333,
              "#9c179e"
             ],
             [
              0.4444444444444444,
              "#bd3786"
             ],
             [
              0.5555555555555556,
              "#d8576b"
             ],
             [
              0.6666666666666666,
              "#ed7953"
             ],
             [
              0.7777777777777778,
              "#fb9f3a"
             ],
             [
              0.8888888888888888,
              "#fdca26"
             ],
             [
              1,
              "#f0f921"
             ]
            ],
            "type": "contour"
           }
          ],
          "contourcarpet": [
           {
            "colorbar": {
             "outlinewidth": 0,
             "ticks": ""
            },
            "type": "contourcarpet"
           }
          ],
          "heatmap": [
           {
            "colorbar": {
             "outlinewidth": 0,
             "ticks": ""
            },
            "colorscale": [
             [
              0,
              "#0d0887"
             ],
             [
              0.1111111111111111,
              "#46039f"
             ],
             [
              0.2222222222222222,
              "#7201a8"
             ],
             [
              0.3333333333333333,
              "#9c179e"
             ],
             [
              0.4444444444444444,
              "#bd3786"
             ],
             [
              0.5555555555555556,
              "#d8576b"
             ],
             [
              0.6666666666666666,
              "#ed7953"
             ],
             [
              0.7777777777777778,
              "#fb9f3a"
             ],
             [
              0.8888888888888888,
              "#fdca26"
             ],
             [
              1,
              "#f0f921"
             ]
            ],
            "type": "heatmap"
           }
          ],
          "heatmapgl": [
           {
            "colorbar": {
             "outlinewidth": 0,
             "ticks": ""
            },
            "colorscale": [
             [
              0,
              "#0d0887"
             ],
             [
              0.1111111111111111,
              "#46039f"
             ],
             [
              0.2222222222222222,
              "#7201a8"
             ],
             [
              0.3333333333333333,
              "#9c179e"
             ],
             [
              0.4444444444444444,
              "#bd3786"
             ],
             [
              0.5555555555555556,
              "#d8576b"
             ],
             [
              0.6666666666666666,
              "#ed7953"
             ],
             [
              0.7777777777777778,
              "#fb9f3a"
             ],
             [
              0.8888888888888888,
              "#fdca26"
             ],
             [
              1,
              "#f0f921"
             ]
            ],
            "type": "heatmapgl"
           }
          ],
          "histogram": [
           {
            "marker": {
             "colorbar": {
              "outlinewidth": 0,
              "ticks": ""
             }
            },
            "type": "histogram"
           }
          ],
          "histogram2d": [
           {
            "colorbar": {
             "outlinewidth": 0,
             "ticks": ""
            },
            "colorscale": [
             [
              0,
              "#0d0887"
             ],
             [
              0.1111111111111111,
              "#46039f"
             ],
             [
              0.2222222222222222,
              "#7201a8"
             ],
             [
              0.3333333333333333,
              "#9c179e"
             ],
             [
              0.4444444444444444,
              "#bd3786"
             ],
             [
              0.5555555555555556,
              "#d8576b"
             ],
             [
              0.6666666666666666,
              "#ed7953"
             ],
             [
              0.7777777777777778,
              "#fb9f3a"
             ],
             [
              0.8888888888888888,
              "#fdca26"
             ],
             [
              1,
              "#f0f921"
             ]
            ],
            "type": "histogram2d"
           }
          ],
          "histogram2dcontour": [
           {
            "colorbar": {
             "outlinewidth": 0,
             "ticks": ""
            },
            "colorscale": [
             [
              0,
              "#0d0887"
             ],
             [
              0.1111111111111111,
              "#46039f"
             ],
             [
              0.2222222222222222,
              "#7201a8"
             ],
             [
              0.3333333333333333,
              "#9c179e"
             ],
             [
              0.4444444444444444,
              "#bd3786"
             ],
             [
              0.5555555555555556,
              "#d8576b"
             ],
             [
              0.6666666666666666,
              "#ed7953"
             ],
             [
              0.7777777777777778,
              "#fb9f3a"
             ],
             [
              0.8888888888888888,
              "#fdca26"
             ],
             [
              1,
              "#f0f921"
             ]
            ],
            "type": "histogram2dcontour"
           }
          ],
          "mesh3d": [
           {
            "colorbar": {
             "outlinewidth": 0,
             "ticks": ""
            },
            "type": "mesh3d"
           }
          ],
          "parcoords": [
           {
            "line": {
             "colorbar": {
              "outlinewidth": 0,
              "ticks": ""
             }
            },
            "type": "parcoords"
           }
          ],
          "scatter": [
           {
            "marker": {
             "colorbar": {
              "outlinewidth": 0,
              "ticks": ""
             }
            },
            "type": "scatter"
           }
          ],
          "scatter3d": [
           {
            "line": {
             "colorbar": {
              "outlinewidth": 0,
              "ticks": ""
             }
            },
            "marker": {
             "colorbar": {
              "outlinewidth": 0,
              "ticks": ""
             }
            },
            "type": "scatter3d"
           }
          ],
          "scattercarpet": [
           {
            "marker": {
             "colorbar": {
              "outlinewidth": 0,
              "ticks": ""
             }
            },
            "type": "scattercarpet"
           }
          ],
          "scattergeo": [
           {
            "marker": {
             "colorbar": {
              "outlinewidth": 0,
              "ticks": ""
             }
            },
            "type": "scattergeo"
           }
          ],
          "scattergl": [
           {
            "marker": {
             "colorbar": {
              "outlinewidth": 0,
              "ticks": ""
             }
            },
            "type": "scattergl"
           }
          ],
          "scattermapbox": [
           {
            "marker": {
             "colorbar": {
              "outlinewidth": 0,
              "ticks": ""
             }
            },
            "type": "scattermapbox"
           }
          ],
          "scatterpolar": [
           {
            "marker": {
             "colorbar": {
              "outlinewidth": 0,
              "ticks": ""
             }
            },
            "type": "scatterpolar"
           }
          ],
          "scatterpolargl": [
           {
            "marker": {
             "colorbar": {
              "outlinewidth": 0,
              "ticks": ""
             }
            },
            "type": "scatterpolargl"
           }
          ],
          "scatterternary": [
           {
            "marker": {
             "colorbar": {
              "outlinewidth": 0,
              "ticks": ""
             }
            },
            "type": "scatterternary"
           }
          ],
          "surface": [
           {
            "colorbar": {
             "outlinewidth": 0,
             "ticks": ""
            },
            "colorscale": [
             [
              0,
              "#0d0887"
             ],
             [
              0.1111111111111111,
              "#46039f"
             ],
             [
              0.2222222222222222,
              "#7201a8"
             ],
             [
              0.3333333333333333,
              "#9c179e"
             ],
             [
              0.4444444444444444,
              "#bd3786"
             ],
             [
              0.5555555555555556,
              "#d8576b"
             ],
             [
              0.6666666666666666,
              "#ed7953"
             ],
             [
              0.7777777777777778,
              "#fb9f3a"
             ],
             [
              0.8888888888888888,
              "#fdca26"
             ],
             [
              1,
              "#f0f921"
             ]
            ],
            "type": "surface"
           }
          ],
          "table": [
           {
            "cells": {
             "fill": {
              "color": "#EBF0F8"
             },
             "line": {
              "color": "white"
             }
            },
            "header": {
             "fill": {
              "color": "#C8D4E3"
             },
             "line": {
              "color": "white"
             }
            },
            "type": "table"
           }
          ]
         },
         "layout": {
          "annotationdefaults": {
           "arrowcolor": "#2a3f5f",
           "arrowhead": 0,
           "arrowwidth": 1
          },
          "colorscale": {
           "diverging": [
            [
             0,
             "#8e0152"
            ],
            [
             0.1,
             "#c51b7d"
            ],
            [
             0.2,
             "#de77ae"
            ],
            [
             0.3,
             "#f1b6da"
            ],
            [
             0.4,
             "#fde0ef"
            ],
            [
             0.5,
             "#f7f7f7"
            ],
            [
             0.6,
             "#e6f5d0"
            ],
            [
             0.7,
             "#b8e186"
            ],
            [
             0.8,
             "#7fbc41"
            ],
            [
             0.9,
             "#4d9221"
            ],
            [
             1,
             "#276419"
            ]
           ],
           "sequential": [
            [
             0,
             "#0d0887"
            ],
            [
             0.1111111111111111,
             "#46039f"
            ],
            [
             0.2222222222222222,
             "#7201a8"
            ],
            [
             0.3333333333333333,
             "#9c179e"
            ],
            [
             0.4444444444444444,
             "#bd3786"
            ],
            [
             0.5555555555555556,
             "#d8576b"
            ],
            [
             0.6666666666666666,
             "#ed7953"
            ],
            [
             0.7777777777777778,
             "#fb9f3a"
            ],
            [
             0.8888888888888888,
             "#fdca26"
            ],
            [
             1,
             "#f0f921"
            ]
           ],
           "sequentialminus": [
            [
             0,
             "#0d0887"
            ],
            [
             0.1111111111111111,
             "#46039f"
            ],
            [
             0.2222222222222222,
             "#7201a8"
            ],
            [
             0.3333333333333333,
             "#9c179e"
            ],
            [
             0.4444444444444444,
             "#bd3786"
            ],
            [
             0.5555555555555556,
             "#d8576b"
            ],
            [
             0.6666666666666666,
             "#ed7953"
            ],
            [
             0.7777777777777778,
             "#fb9f3a"
            ],
            [
             0.8888888888888888,
             "#fdca26"
            ],
            [
             1,
             "#f0f921"
            ]
           ]
          },
          "colorway": [
           "#636efa",
           "#EF553B",
           "#00cc96",
           "#ab63fa",
           "#FFA15A",
           "#19d3f3",
           "#FF6692",
           "#B6E880",
           "#FF97FF",
           "#FECB52"
          ],
          "font": {
           "color": "#2a3f5f"
          },
          "geo": {
           "bgcolor": "white",
           "lakecolor": "white",
           "landcolor": "#E5ECF6",
           "showlakes": true,
           "showland": true,
           "subunitcolor": "white"
          },
          "hoverlabel": {
           "align": "left"
          },
          "hovermode": "closest",
          "mapbox": {
           "style": "light"
          },
          "paper_bgcolor": "white",
          "plot_bgcolor": "#E5ECF6",
          "polar": {
           "angularaxis": {
            "gridcolor": "white",
            "linecolor": "white",
            "ticks": ""
           },
           "bgcolor": "#E5ECF6",
           "radialaxis": {
            "gridcolor": "white",
            "linecolor": "white",
            "ticks": ""
           }
          },
          "scene": {
           "xaxis": {
            "backgroundcolor": "#E5ECF6",
            "gridcolor": "white",
            "gridwidth": 2,
            "linecolor": "white",
            "showbackground": true,
            "ticks": "",
            "zerolinecolor": "white"
           },
           "yaxis": {
            "backgroundcolor": "#E5ECF6",
            "gridcolor": "white",
            "gridwidth": 2,
            "linecolor": "white",
            "showbackground": true,
            "ticks": "",
            "zerolinecolor": "white"
           },
           "zaxis": {
            "backgroundcolor": "#E5ECF6",
            "gridcolor": "white",
            "gridwidth": 2,
            "linecolor": "white",
            "showbackground": true,
            "ticks": "",
            "zerolinecolor": "white"
           }
          },
          "shapedefaults": {
           "line": {
            "color": "#2a3f5f"
           }
          },
          "ternary": {
           "aaxis": {
            "gridcolor": "white",
            "linecolor": "white",
            "ticks": ""
           },
           "baxis": {
            "gridcolor": "white",
            "linecolor": "white",
            "ticks": ""
           },
           "bgcolor": "#E5ECF6",
           "caxis": {
            "gridcolor": "white",
            "linecolor": "white",
            "ticks": ""
           }
          },
          "title": {
           "x": 0.05
          },
          "xaxis": {
           "automargin": true,
           "gridcolor": "white",
           "linecolor": "white",
           "ticks": "",
           "zerolinecolor": "white",
           "zerolinewidth": 2
          },
          "yaxis": {
           "automargin": true,
           "gridcolor": "white",
           "linecolor": "white",
           "ticks": "",
           "zerolinecolor": "white",
           "zerolinewidth": 2
          }
         }
        }
       }
      },
      "text/html": [
       "<div>\n",
       "        \n",
       "        \n",
       "            <div id=\"3e61cdce-2479-4940-a351-265c134a8ad4\" class=\"plotly-graph-div\" style=\"height:600px; width:100%;\"></div>\n",
       "            <script type=\"text/javascript\">\n",
       "                require([\"plotly\"], function(Plotly) {\n",
       "                    window.PLOTLYENV=window.PLOTLYENV || {};\n",
       "                    \n",
       "                if (document.getElementById(\"3e61cdce-2479-4940-a351-265c134a8ad4\")) {\n",
       "                    Plotly.newPlot(\n",
       "                        '3e61cdce-2479-4940-a351-265c134a8ad4',\n",
       "                        [{\"hoverlabel\": {\"namelength\": 0}, \"hovertemplate\": \"PostOp-CNR=%{x}<br>PreOp-CNR=%{y}<br>PreOp-BWR=%{z}<br>ImplantRight=%{marker.color}\", \"legendgroup\": \"\", \"marker\": {\"color\": [275, 275, 275, 275, 300, 300, 300, 300, 300, 325, 325, 325, 325, 325, 325, 325, 325, 325, 325, 325, 325, 325, 350, 350, 350, 350, 350, 350, 350, 350, 350, 350, 350, 350, 350, 350, 375, 375, 375, 375, 375, 400, 275, 325, 300, 325, 350, 450, 350, 350, 325, 325, 275, 275, 275, 375, 350, 375, 250, 400, 350, 350, 325, 350, 350, 375, 300, 275, 375, 300, 300, 300, 400, 375, 375, 325, 375, 325, 325, 375, 250, 250, 375, 250, 300, 325, 300, 350, 350, 375, 325, 325, 350, 350, 400, 325, 375, 325, 325, 375, 375, 325, 325, 345, 325, 300, 322, 325, 275, 275, 350, 325, 375, 250, 375, 350, 300, 300, 325, 325, 275, 350, 325, 350, 250, 325, 300, 350, 300, 325, 325, 275, 325, 375, 225, 350, 250, 375, 325, 350, 275, 300, 350, 275], \"coloraxis\": \"coloraxis\", \"symbol\": \"circle\"}, \"mode\": \"markers\", \"name\": \"\", \"scene\": \"scene\", \"showlegend\": false, \"type\": \"scatter3d\", \"x\": [15.0, 18.0, 16.5, 16.5, 17.5, 17.0, 15.0, 17.5, 17.5, 16.0, 17.5, 18.5, 17.5, 15.5, 17.5, 16.5, 16.0, 17.0, 17.0, 18.0, 15.0, 17.0, 20.0, 15.5, 17.0, 16.0, 17.5, 19.0, 14.5, 15.0, 16.5, 17.5, 18.0, 20.0, 20.0, 18.0, 15.0, 17.0, 19.0, 15.0, 18.0, 19.0, 18.5, 19.0, 18.0, 14.0, 19.0, 18.5, 17.0, 16.0, 17.5, 19.5, 16.5, 16.5, 15.0, 16.0, 15.0, 18.0, 17.0, 17.0, 17.5, 18.0, 18.0, 17.0, 17.0, 17.0, 17.0, 17.5, 20.0, 15.5, 16.5, 18.0, 17.5, 19.5, 19.0, 16.5, 17.0, 18.0, 17.0, 16.5, 21.0, 18.0, 16.5, 17.0, 14.5, 17.0, 19.5, 17.5, 15.5, 18.0, 19.0, 18.5, 15.0, 17.0, 21.0, 16.0, 19.0, 16.5, 17.5, 16.5, 18.5, 17.5, 18.0, 22.5, 17.0, 17.5, 17.5, 17.5, 15.0, 19.0, 18.5, 17.0, 21.5, 16.0, 17.5, 18.0, 17.5, 16.5, 18.0, 17.5, 17.0, 21.0, 17.0, 19.5, 16.5, 16.5, 16.0, 20.0, 16.5, 21.5, 18.0, 16.5, 18.5, 18.5, 16.5, 19.5, 16.5, 20.0, 17.5, 21.0, 17.5, 16.0, 15.5, 20.0], \"y\": [13.5, 17.5, 14.0, 15.0, 16.5, 16.0, 14.0, 15.5, 16.0, 15.5, 17.0, 17.0, 16.0, 15.0, 16.0, 15.0, 14.0, 15.5, 16.0, 17.0, 13.0, 15.0, 18.0, 14.0, 15.5, 15.0, 17.0, 17.0, 13.0, 14.5, 14.5, 16.0, 16.5, 18.0, 18.0, 16.0, 13.0, 16.5, 18.5, 13.5, 16.5, 18.5, 17.0, 18.5, 17.0, 13.5, 18.0, 18.0, 15.5, 15.5, 16.0, 18.5, 16.0, 15.0, 15.0, 14.5, 13.5, 15.5, 15.0, 15.5, 16.0, 17.0, 16.5, 16.5, 15.0, 15.5, 15.5, 16.0, 18.0, 15.0, 16.0, 16.5, 16.0, 18.0, 17.5, 15.0, 15.0, 17.0, 15.5, 15.5, 20.0, 16.5, 15.5, 15.5, 13.5, 15.5, 19.0, 15.0, 14.0, 16.5, 16.5, 17.5, 14.5, 15.0, 20.5, 15.0, 19.0, 14.5, 15.5, 14.5, 17.5, 16.0, 15.5, 20.5, 16.0, 16.5, 17.0, 15.0, 14.5, 16.0, 17.0, 16.0, 21.5, 15.3, 15.5, 17.5, 16.0, 16.0, 17.5, 16.0, 15.0, 19.5, 14.5, 17.0, 15.0, 14.5, 14.0, 18.0, 14.5, 20.0, 16.0, 16.0, 16.5, 16.0, 15.0, 18.0, 14.5, 19.5, 15.0, 19.5, 16.0, 14.0, 14.0, 18.0], \"z\": [12.4, 12.6, 12.0, 13.0, 12.0, 13.0, 12.4, 12.5, 13.0, 12.8, 13.2, 13.2, 12.6, 13.1, 12.5, 12.7, 12.5, 13.0, 13.0, 12.4, 12.0, 13.0, 13.9, 13.5, 12.7, 13.1, 12.5, 13.3, 12.7, 12.7, 12.6, 13.2, 12.5, 13.0, 13.7, 13.6, 12.6, 12.1, 13.0, 13.0, 13.2, 13.5, 12.8, 13.2, 13.2, 12.6, 13.5, 14.3, 12.5, 12.3, 13.3, 13.1, 12.6, 12.4, 13.0, 12.3, 12.3, 13.4, 12.0, 13.0, 12.8, 13.2, 12.5, 13.1, 13.1, 13.1, 12.8, 13.0, 13.2, 13.0, 12.3, 12.9, 13.7, 13.5, 13.5, 12.5, 13.1, 13.4, 12.8, 12.8, 13.8, 12.7, 12.6, 13.1, 12.2, 13.0, 13.2, 13.1, 13.2, 13.2, 12.9, 13.0, 12.0, 13.2, 13.3, 12.5, 13.8, 11.3, 13.1, 13.2, 13.5, 12.8, 12.8, 13.6, 13.2, 13.0, 12.8, 13.7, 12.3, 13.1, 13.5, 13.1, 14.3, 11.9, 13.1, 13.5, 12.4, 12.6, 12.0, 13.2, 12.3, 13.3, 12.2, 13.4, 12.3, 12.6, 12.4, 13.7, 12.5, 13.3, 12.9, 13.7, 13.0, 13.0, 12.5, 12.9, 12.2, 13.5, 12.5, 13.9, 12.7, 12.7, 12.3, 13.4]}],\n",
       "                        {\"coloraxis\": {\"colorbar\": {\"title\": {\"text\": \"ImplantRight\"}}, \"colorscale\": [[0.0, \"#0d0887\"], [0.1111111111111111, \"#46039f\"], [0.2222222222222222, \"#7201a8\"], [0.3333333333333333, \"#9c179e\"], [0.4444444444444444, \"#bd3786\"], [0.5555555555555556, \"#d8576b\"], [0.6666666666666666, \"#ed7953\"], [0.7777777777777778, \"#fb9f3a\"], [0.8888888888888888, \"#fdca26\"], [1.0, \"#f0f921\"]]}, \"height\": 600, \"legend\": {\"tracegroupgap\": 0}, \"margin\": {\"t\": 60}, \"scene\": {\"domain\": {\"x\": [0.0, 0.98], \"y\": [0.0, 1.0]}, \"xaxis\": {\"title\": {\"text\": \"PostOp-CNR\"}}, \"yaxis\": {\"title\": {\"text\": \"PreOp-CNR\"}}, \"zaxis\": {\"title\": {\"text\": \"PreOp-BWR\"}}}, \"template\": {\"data\": {\"bar\": [{\"error_x\": {\"color\": \"#2a3f5f\"}, \"error_y\": {\"color\": \"#2a3f5f\"}, \"marker\": {\"line\": {\"color\": \"#E5ECF6\", \"width\": 0.5}}, \"type\": \"bar\"}], \"barpolar\": [{\"marker\": {\"line\": {\"color\": \"#E5ECF6\", \"width\": 0.5}}, \"type\": \"barpolar\"}], \"carpet\": [{\"aaxis\": {\"endlinecolor\": \"#2a3f5f\", \"gridcolor\": \"white\", \"linecolor\": \"white\", \"minorgridcolor\": \"white\", \"startlinecolor\": \"#2a3f5f\"}, \"baxis\": {\"endlinecolor\": \"#2a3f5f\", \"gridcolor\": \"white\", \"linecolor\": \"white\", \"minorgridcolor\": \"white\", \"startlinecolor\": \"#2a3f5f\"}, \"type\": \"carpet\"}], \"choropleth\": [{\"colorbar\": {\"outlinewidth\": 0, \"ticks\": \"\"}, \"type\": \"choropleth\"}], \"contour\": [{\"colorbar\": {\"outlinewidth\": 0, \"ticks\": \"\"}, \"colorscale\": [[0.0, \"#0d0887\"], [0.1111111111111111, \"#46039f\"], [0.2222222222222222, \"#7201a8\"], [0.3333333333333333, \"#9c179e\"], [0.4444444444444444, \"#bd3786\"], [0.5555555555555556, \"#d8576b\"], [0.6666666666666666, \"#ed7953\"], [0.7777777777777778, \"#fb9f3a\"], [0.8888888888888888, \"#fdca26\"], [1.0, \"#f0f921\"]], \"type\": \"contour\"}], \"contourcarpet\": [{\"colorbar\": {\"outlinewidth\": 0, \"ticks\": \"\"}, \"type\": \"contourcarpet\"}], \"heatmap\": [{\"colorbar\": {\"outlinewidth\": 0, \"ticks\": \"\"}, \"colorscale\": [[0.0, \"#0d0887\"], [0.1111111111111111, \"#46039f\"], [0.2222222222222222, \"#7201a8\"], [0.3333333333333333, \"#9c179e\"], [0.4444444444444444, \"#bd3786\"], [0.5555555555555556, \"#d8576b\"], [0.6666666666666666, \"#ed7953\"], [0.7777777777777778, \"#fb9f3a\"], [0.8888888888888888, \"#fdca26\"], [1.0, \"#f0f921\"]], \"type\": \"heatmap\"}], \"heatmapgl\": [{\"colorbar\": {\"outlinewidth\": 0, \"ticks\": \"\"}, \"colorscale\": [[0.0, \"#0d0887\"], [0.1111111111111111, \"#46039f\"], [0.2222222222222222, \"#7201a8\"], [0.3333333333333333, \"#9c179e\"], [0.4444444444444444, \"#bd3786\"], [0.5555555555555556, \"#d8576b\"], [0.6666666666666666, \"#ed7953\"], [0.7777777777777778, \"#fb9f3a\"], [0.8888888888888888, \"#fdca26\"], [1.0, \"#f0f921\"]], \"type\": \"heatmapgl\"}], \"histogram\": [{\"marker\": {\"colorbar\": {\"outlinewidth\": 0, \"ticks\": \"\"}}, \"type\": \"histogram\"}], \"histogram2d\": [{\"colorbar\": {\"outlinewidth\": 0, \"ticks\": \"\"}, \"colorscale\": [[0.0, \"#0d0887\"], [0.1111111111111111, \"#46039f\"], [0.2222222222222222, \"#7201a8\"], [0.3333333333333333, \"#9c179e\"], [0.4444444444444444, \"#bd3786\"], [0.5555555555555556, \"#d8576b\"], [0.6666666666666666, \"#ed7953\"], [0.7777777777777778, \"#fb9f3a\"], [0.8888888888888888, \"#fdca26\"], [1.0, \"#f0f921\"]], \"type\": \"histogram2d\"}], \"histogram2dcontour\": [{\"colorbar\": {\"outlinewidth\": 0, \"ticks\": \"\"}, \"colorscale\": [[0.0, \"#0d0887\"], [0.1111111111111111, \"#46039f\"], [0.2222222222222222, \"#7201a8\"], [0.3333333333333333, \"#9c179e\"], [0.4444444444444444, \"#bd3786\"], [0.5555555555555556, \"#d8576b\"], [0.6666666666666666, \"#ed7953\"], [0.7777777777777778, \"#fb9f3a\"], [0.8888888888888888, \"#fdca26\"], [1.0, \"#f0f921\"]], \"type\": \"histogram2dcontour\"}], \"mesh3d\": [{\"colorbar\": {\"outlinewidth\": 0, \"ticks\": \"\"}, \"type\": \"mesh3d\"}], \"parcoords\": [{\"line\": {\"colorbar\": {\"outlinewidth\": 0, \"ticks\": \"\"}}, \"type\": \"parcoords\"}], \"scatter\": [{\"marker\": {\"colorbar\": {\"outlinewidth\": 0, \"ticks\": \"\"}}, \"type\": \"scatter\"}], \"scatter3d\": [{\"line\": {\"colorbar\": {\"outlinewidth\": 0, \"ticks\": \"\"}}, \"marker\": {\"colorbar\": {\"outlinewidth\": 0, \"ticks\": \"\"}}, \"type\": \"scatter3d\"}], \"scattercarpet\": [{\"marker\": {\"colorbar\": {\"outlinewidth\": 0, \"ticks\": \"\"}}, \"type\": \"scattercarpet\"}], \"scattergeo\": [{\"marker\": {\"colorbar\": {\"outlinewidth\": 0, \"ticks\": \"\"}}, \"type\": \"scattergeo\"}], \"scattergl\": [{\"marker\": {\"colorbar\": {\"outlinewidth\": 0, \"ticks\": \"\"}}, \"type\": \"scattergl\"}], \"scattermapbox\": [{\"marker\": {\"colorbar\": {\"outlinewidth\": 0, \"ticks\": \"\"}}, \"type\": \"scattermapbox\"}], \"scatterpolar\": [{\"marker\": {\"colorbar\": {\"outlinewidth\": 0, \"ticks\": \"\"}}, \"type\": \"scatterpolar\"}], \"scatterpolargl\": [{\"marker\": {\"colorbar\": {\"outlinewidth\": 0, \"ticks\": \"\"}}, \"type\": \"scatterpolargl\"}], \"scatterternary\": [{\"marker\": {\"colorbar\": {\"outlinewidth\": 0, \"ticks\": \"\"}}, \"type\": \"scatterternary\"}], \"surface\": [{\"colorbar\": {\"outlinewidth\": 0, \"ticks\": \"\"}, \"colorscale\": [[0.0, \"#0d0887\"], [0.1111111111111111, \"#46039f\"], [0.2222222222222222, \"#7201a8\"], [0.3333333333333333, \"#9c179e\"], [0.4444444444444444, \"#bd3786\"], [0.5555555555555556, \"#d8576b\"], [0.6666666666666666, \"#ed7953\"], [0.7777777777777778, \"#fb9f3a\"], [0.8888888888888888, \"#fdca26\"], [1.0, \"#f0f921\"]], \"type\": \"surface\"}], \"table\": [{\"cells\": {\"fill\": {\"color\": \"#EBF0F8\"}, \"line\": {\"color\": \"white\"}}, \"header\": {\"fill\": {\"color\": \"#C8D4E3\"}, \"line\": {\"color\": \"white\"}}, \"type\": \"table\"}]}, \"layout\": {\"annotationdefaults\": {\"arrowcolor\": \"#2a3f5f\", \"arrowhead\": 0, \"arrowwidth\": 1}, \"colorscale\": {\"diverging\": [[0, \"#8e0152\"], [0.1, \"#c51b7d\"], [0.2, \"#de77ae\"], [0.3, \"#f1b6da\"], [0.4, \"#fde0ef\"], [0.5, \"#f7f7f7\"], [0.6, \"#e6f5d0\"], [0.7, \"#b8e186\"], [0.8, \"#7fbc41\"], [0.9, \"#4d9221\"], [1, \"#276419\"]], \"sequential\": [[0.0, \"#0d0887\"], [0.1111111111111111, \"#46039f\"], [0.2222222222222222, \"#7201a8\"], [0.3333333333333333, \"#9c179e\"], [0.4444444444444444, \"#bd3786\"], [0.5555555555555556, \"#d8576b\"], [0.6666666666666666, \"#ed7953\"], [0.7777777777777778, \"#fb9f3a\"], [0.8888888888888888, \"#fdca26\"], [1.0, \"#f0f921\"]], \"sequentialminus\": [[0.0, \"#0d0887\"], [0.1111111111111111, \"#46039f\"], [0.2222222222222222, \"#7201a8\"], [0.3333333333333333, \"#9c179e\"], [0.4444444444444444, \"#bd3786\"], [0.5555555555555556, \"#d8576b\"], [0.6666666666666666, \"#ed7953\"], [0.7777777777777778, \"#fb9f3a\"], [0.8888888888888888, \"#fdca26\"], [1.0, \"#f0f921\"]]}, \"colorway\": [\"#636efa\", \"#EF553B\", \"#00cc96\", \"#ab63fa\", \"#FFA15A\", \"#19d3f3\", \"#FF6692\", \"#B6E880\", \"#FF97FF\", \"#FECB52\"], \"font\": {\"color\": \"#2a3f5f\"}, \"geo\": {\"bgcolor\": \"white\", \"lakecolor\": \"white\", \"landcolor\": \"#E5ECF6\", \"showlakes\": true, \"showland\": true, \"subunitcolor\": \"white\"}, \"hoverlabel\": {\"align\": \"left\"}, \"hovermode\": \"closest\", \"mapbox\": {\"style\": \"light\"}, \"paper_bgcolor\": \"white\", \"plot_bgcolor\": \"#E5ECF6\", \"polar\": {\"angularaxis\": {\"gridcolor\": \"white\", \"linecolor\": \"white\", \"ticks\": \"\"}, \"bgcolor\": \"#E5ECF6\", \"radialaxis\": {\"gridcolor\": \"white\", \"linecolor\": \"white\", \"ticks\": \"\"}}, \"scene\": {\"xaxis\": {\"backgroundcolor\": \"#E5ECF6\", \"gridcolor\": \"white\", \"gridwidth\": 2, \"linecolor\": \"white\", \"showbackground\": true, \"ticks\": \"\", \"zerolinecolor\": \"white\"}, \"yaxis\": {\"backgroundcolor\": \"#E5ECF6\", \"gridcolor\": \"white\", \"gridwidth\": 2, \"linecolor\": \"white\", \"showbackground\": true, \"ticks\": \"\", \"zerolinecolor\": \"white\"}, \"zaxis\": {\"backgroundcolor\": \"#E5ECF6\", \"gridcolor\": \"white\", \"gridwidth\": 2, \"linecolor\": \"white\", \"showbackground\": true, \"ticks\": \"\", \"zerolinecolor\": \"white\"}}, \"shapedefaults\": {\"line\": {\"color\": \"#2a3f5f\"}}, \"ternary\": {\"aaxis\": {\"gridcolor\": \"white\", \"linecolor\": \"white\", \"ticks\": \"\"}, \"baxis\": {\"gridcolor\": \"white\", \"linecolor\": \"white\", \"ticks\": \"\"}, \"bgcolor\": \"#E5ECF6\", \"caxis\": {\"gridcolor\": \"white\", \"linecolor\": \"white\", \"ticks\": \"\"}}, \"title\": {\"x\": 0.05}, \"xaxis\": {\"automargin\": true, \"gridcolor\": \"white\", \"linecolor\": \"white\", \"ticks\": \"\", \"zerolinecolor\": \"white\", \"zerolinewidth\": 2}, \"yaxis\": {\"automargin\": true, \"gridcolor\": \"white\", \"linecolor\": \"white\", \"ticks\": \"\", \"zerolinecolor\": \"white\", \"zerolinewidth\": 2}}}},\n",
       "                        {\"responsive\": true}\n",
       "                    ).then(function(){\n",
       "                            \n",
       "var gd = document.getElementById('3e61cdce-2479-4940-a351-265c134a8ad4');\n",
       "var x = new MutationObserver(function (mutations, observer) {{\n",
       "        var display = window.getComputedStyle(gd).display;\n",
       "        if (!display || display === 'none') {{\n",
       "            console.log([gd, 'removed!']);\n",
       "            Plotly.purge(gd);\n",
       "            observer.disconnect();\n",
       "        }}\n",
       "}});\n",
       "\n",
       "// Listen for the removal of the full notebook cells\n",
       "var notebookContainer = gd.closest('#notebook-container');\n",
       "if (notebookContainer) {{\n",
       "    x.observe(notebookContainer, {childList: true});\n",
       "}}\n",
       "\n",
       "// Listen for the clearing of the current output cell\n",
       "var outputEl = gd.closest('.output');\n",
       "if (outputEl) {{\n",
       "    x.observe(outputEl, {childList: true});\n",
       "}}\n",
       "\n",
       "                        })\n",
       "                };\n",
       "                });\n",
       "            </script>\n",
       "        </div>"
      ]
     },
     "metadata": {},
     "output_type": "display_data"
    }
   ],
   "source": [
    "fig = px.scatter_3d(df, x='PostOp-CNR', y='PreOp-CNR', z='PreOp-BWR', color='ImplantRight')\n",
    "fig.show()"
   ]
  },
  {
   "cell_type": "code",
   "execution_count": 39,
   "metadata": {},
   "outputs": [
    {
     "data": {
      "application/vnd.plotly.v1+json": {
       "config": {
        "plotlyServerURL": "https://plot.ly"
       },
       "data": [
        {
         "hoverlabel": {
          "namelength": 0
         },
         "hovertemplate": "PostOp-CNL=%{x}<br>PreOp-CNL=%{y}<br>ImplantLeft=%{marker.color}",
         "legendgroup": "",
         "marker": {
          "color": [
           275,
           275,
           275,
           275,
           300,
           300,
           300,
           300,
           300,
           325,
           325,
           325,
           325,
           325,
           325,
           325,
           325,
           325,
           325,
           325,
           325,
           325,
           350,
           350,
           350,
           350,
           350,
           350,
           350,
           350,
           350,
           350,
           350,
           350,
           350,
           350,
           375,
           375,
           375,
           375,
           375,
           400,
           275,
           325,
           300,
           325,
           350,
           450,
           350,
           350,
           325,
           325,
           275,
           275,
           275,
           375,
           350,
           375,
           275,
           400,
           350,
           350,
           300,
           350,
           350,
           375,
           300,
           275,
           375,
           250,
           275,
           300,
           400,
           375,
           375,
           325,
           375,
           325,
           325,
           375,
           300,
           250,
           375,
           250,
           300,
           325,
           325,
           325,
           350,
           375,
           325,
           325,
           350,
           350,
           400,
           325,
           375,
           325,
           325,
           375,
           375,
           325,
           325,
           345,
           325,
           300,
           330,
           325,
           275,
           275,
           350,
           325,
           375,
           250,
           375,
           350,
           300,
           300,
           325,
           325,
           275,
           350,
           325,
           350,
           250,
           325,
           300,
           350,
           300,
           325,
           325,
           275,
           325,
           375,
           225,
           350,
           250,
           375,
           325,
           350,
           275,
           300,
           350,
           275
          ],
          "coloraxis": "coloraxis",
          "symbol": "circle"
         },
         "mode": "markers",
         "name": "",
         "scene": "scene",
         "showlegend": false,
         "type": "scatter3d",
         "x": [
          14.5,
          18,
          15,
          16.5,
          17,
          16.5,
          15,
          16.5,
          17,
          16,
          17.5,
          18.5,
          16.5,
          15.5,
          17,
          16.5,
          16,
          17,
          16,
          18,
          15,
          16.5,
          20,
          15.5,
          17.5,
          16,
          16.5,
          18,
          14,
          16.5,
          16.5,
          18.5,
          18,
          20,
          19.5,
          18,
          15,
          17,
          20,
          15.5,
          18,
          19,
          18.5,
          19,
          18.5,
          14,
          19,
          18,
          17.5,
          16.5,
          18,
          18.5,
          16.5,
          16.5,
          16,
          15.5,
          14.5,
          18.5,
          16,
          17,
          15.5,
          17.5,
          18.5,
          18.5,
          18,
          17,
          16.5,
          17.5,
          20,
          15,
          16.5,
          18.5,
          17.5,
          18.5,
          19,
          16.5,
          16,
          18,
          18,
          16.5,
          20,
          18,
          16.5,
          17,
          14,
          17,
          19.5,
          17.5,
          15.5,
          18,
          19,
          18.5,
          15,
          17,
          20,
          16,
          19,
          17,
          18,
          16.5,
          18,
          16.5,
          18,
          22,
          17,
          17,
          17.5,
          17.5,
          15,
          19,
          18,
          17.5,
          21,
          16.5,
          17,
          17.5,
          17.5,
          16.5,
          18,
          18.5,
          17,
          20.5,
          16,
          19.5,
          16.5,
          17,
          16,
          20,
          17,
          21,
          18,
          16.5,
          18.5,
          18,
          17,
          19.5,
          16.5,
          20,
          17,
          21,
          17.5,
          16,
          16,
          20
         ],
         "y": [
          13.5,
          17.5,
          13.5,
          14.5,
          16.5,
          16,
          14,
          14.5,
          15,
          15.5,
          16.5,
          17.5,
          15,
          15,
          16,
          15,
          14,
          15.5,
          15,
          17,
          12.5,
          15,
          18,
          13.5,
          15,
          14,
          16.5,
          16.5,
          13,
          15,
          14.5,
          16.5,
          16,
          17.5,
          18,
          15.5,
          13,
          16.5,
          19,
          13.5,
          16,
          18.5,
          17,
          18.5,
          16.5,
          13.5,
          18,
          18,
          15.5,
          16,
          15.5,
          17.5,
          16,
          14,
          14.5,
          14.5,
          13,
          17,
          14.5,
          15.5,
          14,
          16,
          17,
          17,
          15,
          15.5,
          15.5,
          16,
          18,
          14,
          15.5,
          16.5,
          16,
          17,
          17.5,
          14.5,
          15,
          17,
          15.5,
          15.5,
          18.5,
          16.5,
          15.5,
          15.5,
          13,
          15.5,
          18,
          15,
          14.5,
          16,
          16.5,
          17,
          14.5,
          15,
          19.5,
          15,
          19,
          15,
          16,
          14.5,
          17,
          15.5,
          15.5,
          20.5,
          16,
          17,
          17,
          15,
          14.5,
          16.5,
          16,
          16.5,
          20.5,
          15.3,
          15.5,
          17,
          16,
          16,
          17.5,
          16,
          15.5,
          19,
          14,
          17,
          15,
          15.5,
          14,
          18,
          14.5,
          19.5,
          16.5,
          16,
          16.5,
          16,
          15.5,
          18.5,
          14.5,
          19,
          14.5,
          19,
          16,
          14,
          14,
          18
         ],
         "z": [
          275,
          275,
          275,
          275,
          300,
          300,
          300,
          300,
          300,
          325,
          325,
          325,
          325,
          325,
          325,
          325,
          325,
          325,
          325,
          325,
          325,
          325,
          350,
          350,
          350,
          350,
          350,
          350,
          350,
          350,
          350,
          350,
          350,
          350,
          350,
          350,
          375,
          375,
          375,
          375,
          375,
          400,
          275,
          325,
          300,
          325,
          350,
          450,
          350,
          350,
          325,
          325,
          275,
          275,
          275,
          375,
          350,
          375,
          275,
          400,
          350,
          350,
          300,
          350,
          350,
          375,
          300,
          275,
          375,
          250,
          275,
          300,
          400,
          375,
          375,
          325,
          375,
          325,
          325,
          375,
          300,
          250,
          375,
          250,
          300,
          325,
          325,
          325,
          350,
          375,
          325,
          325,
          350,
          350,
          400,
          325,
          375,
          325,
          325,
          375,
          375,
          325,
          325,
          345,
          325,
          300,
          330,
          325,
          275,
          275,
          350,
          325,
          375,
          250,
          375,
          350,
          300,
          300,
          325,
          325,
          275,
          350,
          325,
          350,
          250,
          325,
          300,
          350,
          300,
          325,
          325,
          275,
          325,
          375,
          225,
          350,
          250,
          375,
          325,
          350,
          275,
          300,
          350,
          275
         ]
        }
       ],
       "layout": {
        "coloraxis": {
         "colorbar": {
          "title": {
           "text": "ImplantLeft"
          }
         },
         "colorscale": [
          [
           0,
           "#0d0887"
          ],
          [
           0.1111111111111111,
           "#46039f"
          ],
          [
           0.2222222222222222,
           "#7201a8"
          ],
          [
           0.3333333333333333,
           "#9c179e"
          ],
          [
           0.4444444444444444,
           "#bd3786"
          ],
          [
           0.5555555555555556,
           "#d8576b"
          ],
          [
           0.6666666666666666,
           "#ed7953"
          ],
          [
           0.7777777777777778,
           "#fb9f3a"
          ],
          [
           0.8888888888888888,
           "#fdca26"
          ],
          [
           1,
           "#f0f921"
          ]
         ]
        },
        "height": 600,
        "legend": {
         "tracegroupgap": 0
        },
        "margin": {
         "t": 60
        },
        "scene": {
         "domain": {
          "x": [
           0,
           0.98
          ],
          "y": [
           0,
           1
          ]
         },
         "xaxis": {
          "title": {
           "text": "PostOp-CNL"
          }
         },
         "yaxis": {
          "title": {
           "text": "PreOp-CNL"
          }
         },
         "zaxis": {
          "title": {
           "text": "ImplantLeft"
          }
         }
        },
        "template": {
         "data": {
          "bar": [
           {
            "error_x": {
             "color": "#2a3f5f"
            },
            "error_y": {
             "color": "#2a3f5f"
            },
            "marker": {
             "line": {
              "color": "#E5ECF6",
              "width": 0.5
             }
            },
            "type": "bar"
           }
          ],
          "barpolar": [
           {
            "marker": {
             "line": {
              "color": "#E5ECF6",
              "width": 0.5
             }
            },
            "type": "barpolar"
           }
          ],
          "carpet": [
           {
            "aaxis": {
             "endlinecolor": "#2a3f5f",
             "gridcolor": "white",
             "linecolor": "white",
             "minorgridcolor": "white",
             "startlinecolor": "#2a3f5f"
            },
            "baxis": {
             "endlinecolor": "#2a3f5f",
             "gridcolor": "white",
             "linecolor": "white",
             "minorgridcolor": "white",
             "startlinecolor": "#2a3f5f"
            },
            "type": "carpet"
           }
          ],
          "choropleth": [
           {
            "colorbar": {
             "outlinewidth": 0,
             "ticks": ""
            },
            "type": "choropleth"
           }
          ],
          "contour": [
           {
            "colorbar": {
             "outlinewidth": 0,
             "ticks": ""
            },
            "colorscale": [
             [
              0,
              "#0d0887"
             ],
             [
              0.1111111111111111,
              "#46039f"
             ],
             [
              0.2222222222222222,
              "#7201a8"
             ],
             [
              0.3333333333333333,
              "#9c179e"
             ],
             [
              0.4444444444444444,
              "#bd3786"
             ],
             [
              0.5555555555555556,
              "#d8576b"
             ],
             [
              0.6666666666666666,
              "#ed7953"
             ],
             [
              0.7777777777777778,
              "#fb9f3a"
             ],
             [
              0.8888888888888888,
              "#fdca26"
             ],
             [
              1,
              "#f0f921"
             ]
            ],
            "type": "contour"
           }
          ],
          "contourcarpet": [
           {
            "colorbar": {
             "outlinewidth": 0,
             "ticks": ""
            },
            "type": "contourcarpet"
           }
          ],
          "heatmap": [
           {
            "colorbar": {
             "outlinewidth": 0,
             "ticks": ""
            },
            "colorscale": [
             [
              0,
              "#0d0887"
             ],
             [
              0.1111111111111111,
              "#46039f"
             ],
             [
              0.2222222222222222,
              "#7201a8"
             ],
             [
              0.3333333333333333,
              "#9c179e"
             ],
             [
              0.4444444444444444,
              "#bd3786"
             ],
             [
              0.5555555555555556,
              "#d8576b"
             ],
             [
              0.6666666666666666,
              "#ed7953"
             ],
             [
              0.7777777777777778,
              "#fb9f3a"
             ],
             [
              0.8888888888888888,
              "#fdca26"
             ],
             [
              1,
              "#f0f921"
             ]
            ],
            "type": "heatmap"
           }
          ],
          "heatmapgl": [
           {
            "colorbar": {
             "outlinewidth": 0,
             "ticks": ""
            },
            "colorscale": [
             [
              0,
              "#0d0887"
             ],
             [
              0.1111111111111111,
              "#46039f"
             ],
             [
              0.2222222222222222,
              "#7201a8"
             ],
             [
              0.3333333333333333,
              "#9c179e"
             ],
             [
              0.4444444444444444,
              "#bd3786"
             ],
             [
              0.5555555555555556,
              "#d8576b"
             ],
             [
              0.6666666666666666,
              "#ed7953"
             ],
             [
              0.7777777777777778,
              "#fb9f3a"
             ],
             [
              0.8888888888888888,
              "#fdca26"
             ],
             [
              1,
              "#f0f921"
             ]
            ],
            "type": "heatmapgl"
           }
          ],
          "histogram": [
           {
            "marker": {
             "colorbar": {
              "outlinewidth": 0,
              "ticks": ""
             }
            },
            "type": "histogram"
           }
          ],
          "histogram2d": [
           {
            "colorbar": {
             "outlinewidth": 0,
             "ticks": ""
            },
            "colorscale": [
             [
              0,
              "#0d0887"
             ],
             [
              0.1111111111111111,
              "#46039f"
             ],
             [
              0.2222222222222222,
              "#7201a8"
             ],
             [
              0.3333333333333333,
              "#9c179e"
             ],
             [
              0.4444444444444444,
              "#bd3786"
             ],
             [
              0.5555555555555556,
              "#d8576b"
             ],
             [
              0.6666666666666666,
              "#ed7953"
             ],
             [
              0.7777777777777778,
              "#fb9f3a"
             ],
             [
              0.8888888888888888,
              "#fdca26"
             ],
             [
              1,
              "#f0f921"
             ]
            ],
            "type": "histogram2d"
           }
          ],
          "histogram2dcontour": [
           {
            "colorbar": {
             "outlinewidth": 0,
             "ticks": ""
            },
            "colorscale": [
             [
              0,
              "#0d0887"
             ],
             [
              0.1111111111111111,
              "#46039f"
             ],
             [
              0.2222222222222222,
              "#7201a8"
             ],
             [
              0.3333333333333333,
              "#9c179e"
             ],
             [
              0.4444444444444444,
              "#bd3786"
             ],
             [
              0.5555555555555556,
              "#d8576b"
             ],
             [
              0.6666666666666666,
              "#ed7953"
             ],
             [
              0.7777777777777778,
              "#fb9f3a"
             ],
             [
              0.8888888888888888,
              "#fdca26"
             ],
             [
              1,
              "#f0f921"
             ]
            ],
            "type": "histogram2dcontour"
           }
          ],
          "mesh3d": [
           {
            "colorbar": {
             "outlinewidth": 0,
             "ticks": ""
            },
            "type": "mesh3d"
           }
          ],
          "parcoords": [
           {
            "line": {
             "colorbar": {
              "outlinewidth": 0,
              "ticks": ""
             }
            },
            "type": "parcoords"
           }
          ],
          "scatter": [
           {
            "marker": {
             "colorbar": {
              "outlinewidth": 0,
              "ticks": ""
             }
            },
            "type": "scatter"
           }
          ],
          "scatter3d": [
           {
            "line": {
             "colorbar": {
              "outlinewidth": 0,
              "ticks": ""
             }
            },
            "marker": {
             "colorbar": {
              "outlinewidth": 0,
              "ticks": ""
             }
            },
            "type": "scatter3d"
           }
          ],
          "scattercarpet": [
           {
            "marker": {
             "colorbar": {
              "outlinewidth": 0,
              "ticks": ""
             }
            },
            "type": "scattercarpet"
           }
          ],
          "scattergeo": [
           {
            "marker": {
             "colorbar": {
              "outlinewidth": 0,
              "ticks": ""
             }
            },
            "type": "scattergeo"
           }
          ],
          "scattergl": [
           {
            "marker": {
             "colorbar": {
              "outlinewidth": 0,
              "ticks": ""
             }
            },
            "type": "scattergl"
           }
          ],
          "scattermapbox": [
           {
            "marker": {
             "colorbar": {
              "outlinewidth": 0,
              "ticks": ""
             }
            },
            "type": "scattermapbox"
           }
          ],
          "scatterpolar": [
           {
            "marker": {
             "colorbar": {
              "outlinewidth": 0,
              "ticks": ""
             }
            },
            "type": "scatterpolar"
           }
          ],
          "scatterpolargl": [
           {
            "marker": {
             "colorbar": {
              "outlinewidth": 0,
              "ticks": ""
             }
            },
            "type": "scatterpolargl"
           }
          ],
          "scatterternary": [
           {
            "marker": {
             "colorbar": {
              "outlinewidth": 0,
              "ticks": ""
             }
            },
            "type": "scatterternary"
           }
          ],
          "surface": [
           {
            "colorbar": {
             "outlinewidth": 0,
             "ticks": ""
            },
            "colorscale": [
             [
              0,
              "#0d0887"
             ],
             [
              0.1111111111111111,
              "#46039f"
             ],
             [
              0.2222222222222222,
              "#7201a8"
             ],
             [
              0.3333333333333333,
              "#9c179e"
             ],
             [
              0.4444444444444444,
              "#bd3786"
             ],
             [
              0.5555555555555556,
              "#d8576b"
             ],
             [
              0.6666666666666666,
              "#ed7953"
             ],
             [
              0.7777777777777778,
              "#fb9f3a"
             ],
             [
              0.8888888888888888,
              "#fdca26"
             ],
             [
              1,
              "#f0f921"
             ]
            ],
            "type": "surface"
           }
          ],
          "table": [
           {
            "cells": {
             "fill": {
              "color": "#EBF0F8"
             },
             "line": {
              "color": "white"
             }
            },
            "header": {
             "fill": {
              "color": "#C8D4E3"
             },
             "line": {
              "color": "white"
             }
            },
            "type": "table"
           }
          ]
         },
         "layout": {
          "annotationdefaults": {
           "arrowcolor": "#2a3f5f",
           "arrowhead": 0,
           "arrowwidth": 1
          },
          "colorscale": {
           "diverging": [
            [
             0,
             "#8e0152"
            ],
            [
             0.1,
             "#c51b7d"
            ],
            [
             0.2,
             "#de77ae"
            ],
            [
             0.3,
             "#f1b6da"
            ],
            [
             0.4,
             "#fde0ef"
            ],
            [
             0.5,
             "#f7f7f7"
            ],
            [
             0.6,
             "#e6f5d0"
            ],
            [
             0.7,
             "#b8e186"
            ],
            [
             0.8,
             "#7fbc41"
            ],
            [
             0.9,
             "#4d9221"
            ],
            [
             1,
             "#276419"
            ]
           ],
           "sequential": [
            [
             0,
             "#0d0887"
            ],
            [
             0.1111111111111111,
             "#46039f"
            ],
            [
             0.2222222222222222,
             "#7201a8"
            ],
            [
             0.3333333333333333,
             "#9c179e"
            ],
            [
             0.4444444444444444,
             "#bd3786"
            ],
            [
             0.5555555555555556,
             "#d8576b"
            ],
            [
             0.6666666666666666,
             "#ed7953"
            ],
            [
             0.7777777777777778,
             "#fb9f3a"
            ],
            [
             0.8888888888888888,
             "#fdca26"
            ],
            [
             1,
             "#f0f921"
            ]
           ],
           "sequentialminus": [
            [
             0,
             "#0d0887"
            ],
            [
             0.1111111111111111,
             "#46039f"
            ],
            [
             0.2222222222222222,
             "#7201a8"
            ],
            [
             0.3333333333333333,
             "#9c179e"
            ],
            [
             0.4444444444444444,
             "#bd3786"
            ],
            [
             0.5555555555555556,
             "#d8576b"
            ],
            [
             0.6666666666666666,
             "#ed7953"
            ],
            [
             0.7777777777777778,
             "#fb9f3a"
            ],
            [
             0.8888888888888888,
             "#fdca26"
            ],
            [
             1,
             "#f0f921"
            ]
           ]
          },
          "colorway": [
           "#636efa",
           "#EF553B",
           "#00cc96",
           "#ab63fa",
           "#FFA15A",
           "#19d3f3",
           "#FF6692",
           "#B6E880",
           "#FF97FF",
           "#FECB52"
          ],
          "font": {
           "color": "#2a3f5f"
          },
          "geo": {
           "bgcolor": "white",
           "lakecolor": "white",
           "landcolor": "#E5ECF6",
           "showlakes": true,
           "showland": true,
           "subunitcolor": "white"
          },
          "hoverlabel": {
           "align": "left"
          },
          "hovermode": "closest",
          "mapbox": {
           "style": "light"
          },
          "paper_bgcolor": "white",
          "plot_bgcolor": "#E5ECF6",
          "polar": {
           "angularaxis": {
            "gridcolor": "white",
            "linecolor": "white",
            "ticks": ""
           },
           "bgcolor": "#E5ECF6",
           "radialaxis": {
            "gridcolor": "white",
            "linecolor": "white",
            "ticks": ""
           }
          },
          "scene": {
           "xaxis": {
            "backgroundcolor": "#E5ECF6",
            "gridcolor": "white",
            "gridwidth": 2,
            "linecolor": "white",
            "showbackground": true,
            "ticks": "",
            "zerolinecolor": "white"
           },
           "yaxis": {
            "backgroundcolor": "#E5ECF6",
            "gridcolor": "white",
            "gridwidth": 2,
            "linecolor": "white",
            "showbackground": true,
            "ticks": "",
            "zerolinecolor": "white"
           },
           "zaxis": {
            "backgroundcolor": "#E5ECF6",
            "gridcolor": "white",
            "gridwidth": 2,
            "linecolor": "white",
            "showbackground": true,
            "ticks": "",
            "zerolinecolor": "white"
           }
          },
          "shapedefaults": {
           "line": {
            "color": "#2a3f5f"
           }
          },
          "ternary": {
           "aaxis": {
            "gridcolor": "white",
            "linecolor": "white",
            "ticks": ""
           },
           "baxis": {
            "gridcolor": "white",
            "linecolor": "white",
            "ticks": ""
           },
           "bgcolor": "#E5ECF6",
           "caxis": {
            "gridcolor": "white",
            "linecolor": "white",
            "ticks": ""
           }
          },
          "title": {
           "x": 0.05
          },
          "xaxis": {
           "automargin": true,
           "gridcolor": "white",
           "linecolor": "white",
           "ticks": "",
           "zerolinecolor": "white",
           "zerolinewidth": 2
          },
          "yaxis": {
           "automargin": true,
           "gridcolor": "white",
           "linecolor": "white",
           "ticks": "",
           "zerolinecolor": "white",
           "zerolinewidth": 2
          }
         }
        }
       }
      },
      "text/html": [
       "<div>\n",
       "        \n",
       "        \n",
       "            <div id=\"554340de-a318-4bf7-a69f-56ffc6e66d81\" class=\"plotly-graph-div\" style=\"height:600px; width:100%;\"></div>\n",
       "            <script type=\"text/javascript\">\n",
       "                require([\"plotly\"], function(Plotly) {\n",
       "                    window.PLOTLYENV=window.PLOTLYENV || {};\n",
       "                    \n",
       "                if (document.getElementById(\"554340de-a318-4bf7-a69f-56ffc6e66d81\")) {\n",
       "                    Plotly.newPlot(\n",
       "                        '554340de-a318-4bf7-a69f-56ffc6e66d81',\n",
       "                        [{\"hoverlabel\": {\"namelength\": 0}, \"hovertemplate\": \"PostOp-CNL=%{x}<br>PreOp-CNL=%{y}<br>ImplantLeft=%{marker.color}\", \"legendgroup\": \"\", \"marker\": {\"color\": [275, 275, 275, 275, 300, 300, 300, 300, 300, 325, 325, 325, 325, 325, 325, 325, 325, 325, 325, 325, 325, 325, 350, 350, 350, 350, 350, 350, 350, 350, 350, 350, 350, 350, 350, 350, 375, 375, 375, 375, 375, 400, 275, 325, 300, 325, 350, 450, 350, 350, 325, 325, 275, 275, 275, 375, 350, 375, 275, 400, 350, 350, 300, 350, 350, 375, 300, 275, 375, 250, 275, 300, 400, 375, 375, 325, 375, 325, 325, 375, 300, 250, 375, 250, 300, 325, 325, 325, 350, 375, 325, 325, 350, 350, 400, 325, 375, 325, 325, 375, 375, 325, 325, 345, 325, 300, 330, 325, 275, 275, 350, 325, 375, 250, 375, 350, 300, 300, 325, 325, 275, 350, 325, 350, 250, 325, 300, 350, 300, 325, 325, 275, 325, 375, 225, 350, 250, 375, 325, 350, 275, 300, 350, 275], \"coloraxis\": \"coloraxis\", \"symbol\": \"circle\"}, \"mode\": \"markers\", \"name\": \"\", \"scene\": \"scene\", \"showlegend\": false, \"type\": \"scatter3d\", \"x\": [14.5, 18.0, 15.0, 16.5, 17.0, 16.5, 15.0, 16.5, 17.0, 16.0, 17.5, 18.5, 16.5, 15.5, 17.0, 16.5, 16.0, 17.0, 16.0, 18.0, 15.0, 16.5, 20.0, 15.5, 17.5, 16.0, 16.5, 18.0, 14.0, 16.5, 16.5, 18.5, 18.0, 20.0, 19.5, 18.0, 15.0, 17.0, 20.0, 15.5, 18.0, 19.0, 18.5, 19.0, 18.5, 14.0, 19.0, 18.0, 17.5, 16.5, 18.0, 18.5, 16.5, 16.5, 16.0, 15.5, 14.5, 18.5, 16.0, 17.0, 15.5, 17.5, 18.5, 18.5, 18.0, 17.0, 16.5, 17.5, 20.0, 15.0, 16.5, 18.5, 17.5, 18.5, 19.0, 16.5, 16.0, 18.0, 18.0, 16.5, 20.0, 18.0, 16.5, 17.0, 14.0, 17.0, 19.5, 17.5, 15.5, 18.0, 19.0, 18.5, 15.0, 17.0, 20.0, 16.0, 19.0, 17.0, 18.0, 16.5, 18.0, 16.5, 18.0, 22.0, 17.0, 17.0, 17.5, 17.5, 15.0, 19.0, 18.0, 17.5, 21.0, 16.5, 17.0, 17.5, 17.5, 16.5, 18.0, 18.5, 17.0, 20.5, 16.0, 19.5, 16.5, 17.0, 16.0, 20.0, 17.0, 21.0, 18.0, 16.5, 18.5, 18.0, 17.0, 19.5, 16.5, 20.0, 17.0, 21.0, 17.5, 16.0, 16.0, 20.0], \"y\": [13.5, 17.5, 13.5, 14.5, 16.5, 16.0, 14.0, 14.5, 15.0, 15.5, 16.5, 17.5, 15.0, 15.0, 16.0, 15.0, 14.0, 15.5, 15.0, 17.0, 12.5, 15.0, 18.0, 13.5, 15.0, 14.0, 16.5, 16.5, 13.0, 15.0, 14.5, 16.5, 16.0, 17.5, 18.0, 15.5, 13.0, 16.5, 19.0, 13.5, 16.0, 18.5, 17.0, 18.5, 16.5, 13.5, 18.0, 18.0, 15.5, 16.0, 15.5, 17.5, 16.0, 14.0, 14.5, 14.5, 13.0, 17.0, 14.5, 15.5, 14.0, 16.0, 17.0, 17.0, 15.0, 15.5, 15.5, 16.0, 18.0, 14.0, 15.5, 16.5, 16.0, 17.0, 17.5, 14.5, 15.0, 17.0, 15.5, 15.5, 18.5, 16.5, 15.5, 15.5, 13.0, 15.5, 18.0, 15.0, 14.5, 16.0, 16.5, 17.0, 14.5, 15.0, 19.5, 15.0, 19.0, 15.0, 16.0, 14.5, 17.0, 15.5, 15.5, 20.5, 16.0, 17.0, 17.0, 15.0, 14.5, 16.5, 16.0, 16.5, 20.5, 15.3, 15.5, 17.0, 16.0, 16.0, 17.5, 16.0, 15.5, 19.0, 14.0, 17.0, 15.0, 15.5, 14.0, 18.0, 14.5, 19.5, 16.5, 16.0, 16.5, 16.0, 15.5, 18.5, 14.5, 19.0, 14.5, 19.0, 16.0, 14.0, 14.0, 18.0], \"z\": [275, 275, 275, 275, 300, 300, 300, 300, 300, 325, 325, 325, 325, 325, 325, 325, 325, 325, 325, 325, 325, 325, 350, 350, 350, 350, 350, 350, 350, 350, 350, 350, 350, 350, 350, 350, 375, 375, 375, 375, 375, 400, 275, 325, 300, 325, 350, 450, 350, 350, 325, 325, 275, 275, 275, 375, 350, 375, 275, 400, 350, 350, 300, 350, 350, 375, 300, 275, 375, 250, 275, 300, 400, 375, 375, 325, 375, 325, 325, 375, 300, 250, 375, 250, 300, 325, 325, 325, 350, 375, 325, 325, 350, 350, 400, 325, 375, 325, 325, 375, 375, 325, 325, 345, 325, 300, 330, 325, 275, 275, 350, 325, 375, 250, 375, 350, 300, 300, 325, 325, 275, 350, 325, 350, 250, 325, 300, 350, 300, 325, 325, 275, 325, 375, 225, 350, 250, 375, 325, 350, 275, 300, 350, 275]}],\n",
       "                        {\"coloraxis\": {\"colorbar\": {\"title\": {\"text\": \"ImplantLeft\"}}, \"colorscale\": [[0.0, \"#0d0887\"], [0.1111111111111111, \"#46039f\"], [0.2222222222222222, \"#7201a8\"], [0.3333333333333333, \"#9c179e\"], [0.4444444444444444, \"#bd3786\"], [0.5555555555555556, \"#d8576b\"], [0.6666666666666666, \"#ed7953\"], [0.7777777777777778, \"#fb9f3a\"], [0.8888888888888888, \"#fdca26\"], [1.0, \"#f0f921\"]]}, \"height\": 600, \"legend\": {\"tracegroupgap\": 0}, \"margin\": {\"t\": 60}, \"scene\": {\"domain\": {\"x\": [0.0, 0.98], \"y\": [0.0, 1.0]}, \"xaxis\": {\"title\": {\"text\": \"PostOp-CNL\"}}, \"yaxis\": {\"title\": {\"text\": \"PreOp-CNL\"}}, \"zaxis\": {\"title\": {\"text\": \"ImplantLeft\"}}}, \"template\": {\"data\": {\"bar\": [{\"error_x\": {\"color\": \"#2a3f5f\"}, \"error_y\": {\"color\": \"#2a3f5f\"}, \"marker\": {\"line\": {\"color\": \"#E5ECF6\", \"width\": 0.5}}, \"type\": \"bar\"}], \"barpolar\": [{\"marker\": {\"line\": {\"color\": \"#E5ECF6\", \"width\": 0.5}}, \"type\": \"barpolar\"}], \"carpet\": [{\"aaxis\": {\"endlinecolor\": \"#2a3f5f\", \"gridcolor\": \"white\", \"linecolor\": \"white\", \"minorgridcolor\": \"white\", \"startlinecolor\": \"#2a3f5f\"}, \"baxis\": {\"endlinecolor\": \"#2a3f5f\", \"gridcolor\": \"white\", \"linecolor\": \"white\", \"minorgridcolor\": \"white\", \"startlinecolor\": \"#2a3f5f\"}, \"type\": \"carpet\"}], \"choropleth\": [{\"colorbar\": {\"outlinewidth\": 0, \"ticks\": \"\"}, \"type\": \"choropleth\"}], \"contour\": [{\"colorbar\": {\"outlinewidth\": 0, \"ticks\": \"\"}, \"colorscale\": [[0.0, \"#0d0887\"], [0.1111111111111111, \"#46039f\"], [0.2222222222222222, \"#7201a8\"], [0.3333333333333333, \"#9c179e\"], [0.4444444444444444, \"#bd3786\"], [0.5555555555555556, \"#d8576b\"], [0.6666666666666666, \"#ed7953\"], [0.7777777777777778, \"#fb9f3a\"], [0.8888888888888888, \"#fdca26\"], [1.0, \"#f0f921\"]], \"type\": \"contour\"}], \"contourcarpet\": [{\"colorbar\": {\"outlinewidth\": 0, \"ticks\": \"\"}, \"type\": \"contourcarpet\"}], \"heatmap\": [{\"colorbar\": {\"outlinewidth\": 0, \"ticks\": \"\"}, \"colorscale\": [[0.0, \"#0d0887\"], [0.1111111111111111, \"#46039f\"], [0.2222222222222222, \"#7201a8\"], [0.3333333333333333, \"#9c179e\"], [0.4444444444444444, \"#bd3786\"], [0.5555555555555556, \"#d8576b\"], [0.6666666666666666, \"#ed7953\"], [0.7777777777777778, \"#fb9f3a\"], [0.8888888888888888, \"#fdca26\"], [1.0, \"#f0f921\"]], \"type\": \"heatmap\"}], \"heatmapgl\": [{\"colorbar\": {\"outlinewidth\": 0, \"ticks\": \"\"}, \"colorscale\": [[0.0, \"#0d0887\"], [0.1111111111111111, \"#46039f\"], [0.2222222222222222, \"#7201a8\"], [0.3333333333333333, \"#9c179e\"], [0.4444444444444444, \"#bd3786\"], [0.5555555555555556, \"#d8576b\"], [0.6666666666666666, \"#ed7953\"], [0.7777777777777778, \"#fb9f3a\"], [0.8888888888888888, \"#fdca26\"], [1.0, \"#f0f921\"]], \"type\": \"heatmapgl\"}], \"histogram\": [{\"marker\": {\"colorbar\": {\"outlinewidth\": 0, \"ticks\": \"\"}}, \"type\": \"histogram\"}], \"histogram2d\": [{\"colorbar\": {\"outlinewidth\": 0, \"ticks\": \"\"}, \"colorscale\": [[0.0, \"#0d0887\"], [0.1111111111111111, \"#46039f\"], [0.2222222222222222, \"#7201a8\"], [0.3333333333333333, \"#9c179e\"], [0.4444444444444444, \"#bd3786\"], [0.5555555555555556, \"#d8576b\"], [0.6666666666666666, \"#ed7953\"], [0.7777777777777778, \"#fb9f3a\"], [0.8888888888888888, \"#fdca26\"], [1.0, \"#f0f921\"]], \"type\": \"histogram2d\"}], \"histogram2dcontour\": [{\"colorbar\": {\"outlinewidth\": 0, \"ticks\": \"\"}, \"colorscale\": [[0.0, \"#0d0887\"], [0.1111111111111111, \"#46039f\"], [0.2222222222222222, \"#7201a8\"], [0.3333333333333333, \"#9c179e\"], [0.4444444444444444, \"#bd3786\"], [0.5555555555555556, \"#d8576b\"], [0.6666666666666666, \"#ed7953\"], [0.7777777777777778, \"#fb9f3a\"], [0.8888888888888888, \"#fdca26\"], [1.0, \"#f0f921\"]], \"type\": \"histogram2dcontour\"}], \"mesh3d\": [{\"colorbar\": {\"outlinewidth\": 0, \"ticks\": \"\"}, \"type\": \"mesh3d\"}], \"parcoords\": [{\"line\": {\"colorbar\": {\"outlinewidth\": 0, \"ticks\": \"\"}}, \"type\": \"parcoords\"}], \"scatter\": [{\"marker\": {\"colorbar\": {\"outlinewidth\": 0, \"ticks\": \"\"}}, \"type\": \"scatter\"}], \"scatter3d\": [{\"line\": {\"colorbar\": {\"outlinewidth\": 0, \"ticks\": \"\"}}, \"marker\": {\"colorbar\": {\"outlinewidth\": 0, \"ticks\": \"\"}}, \"type\": \"scatter3d\"}], \"scattercarpet\": [{\"marker\": {\"colorbar\": {\"outlinewidth\": 0, \"ticks\": \"\"}}, \"type\": \"scattercarpet\"}], \"scattergeo\": [{\"marker\": {\"colorbar\": {\"outlinewidth\": 0, \"ticks\": \"\"}}, \"type\": \"scattergeo\"}], \"scattergl\": [{\"marker\": {\"colorbar\": {\"outlinewidth\": 0, \"ticks\": \"\"}}, \"type\": \"scattergl\"}], \"scattermapbox\": [{\"marker\": {\"colorbar\": {\"outlinewidth\": 0, \"ticks\": \"\"}}, \"type\": \"scattermapbox\"}], \"scatterpolar\": [{\"marker\": {\"colorbar\": {\"outlinewidth\": 0, \"ticks\": \"\"}}, \"type\": \"scatterpolar\"}], \"scatterpolargl\": [{\"marker\": {\"colorbar\": {\"outlinewidth\": 0, \"ticks\": \"\"}}, \"type\": \"scatterpolargl\"}], \"scatterternary\": [{\"marker\": {\"colorbar\": {\"outlinewidth\": 0, \"ticks\": \"\"}}, \"type\": \"scatterternary\"}], \"surface\": [{\"colorbar\": {\"outlinewidth\": 0, \"ticks\": \"\"}, \"colorscale\": [[0.0, \"#0d0887\"], [0.1111111111111111, \"#46039f\"], [0.2222222222222222, \"#7201a8\"], [0.3333333333333333, \"#9c179e\"], [0.4444444444444444, \"#bd3786\"], [0.5555555555555556, \"#d8576b\"], [0.6666666666666666, \"#ed7953\"], [0.7777777777777778, \"#fb9f3a\"], [0.8888888888888888, \"#fdca26\"], [1.0, \"#f0f921\"]], \"type\": \"surface\"}], \"table\": [{\"cells\": {\"fill\": {\"color\": \"#EBF0F8\"}, \"line\": {\"color\": \"white\"}}, \"header\": {\"fill\": {\"color\": \"#C8D4E3\"}, \"line\": {\"color\": \"white\"}}, \"type\": \"table\"}]}, \"layout\": {\"annotationdefaults\": {\"arrowcolor\": \"#2a3f5f\", \"arrowhead\": 0, \"arrowwidth\": 1}, \"colorscale\": {\"diverging\": [[0, \"#8e0152\"], [0.1, \"#c51b7d\"], [0.2, \"#de77ae\"], [0.3, \"#f1b6da\"], [0.4, \"#fde0ef\"], [0.5, \"#f7f7f7\"], [0.6, \"#e6f5d0\"], [0.7, \"#b8e186\"], [0.8, \"#7fbc41\"], [0.9, \"#4d9221\"], [1, \"#276419\"]], \"sequential\": [[0.0, \"#0d0887\"], [0.1111111111111111, \"#46039f\"], [0.2222222222222222, \"#7201a8\"], [0.3333333333333333, \"#9c179e\"], [0.4444444444444444, \"#bd3786\"], [0.5555555555555556, \"#d8576b\"], [0.6666666666666666, \"#ed7953\"], [0.7777777777777778, \"#fb9f3a\"], [0.8888888888888888, \"#fdca26\"], [1.0, \"#f0f921\"]], \"sequentialminus\": [[0.0, \"#0d0887\"], [0.1111111111111111, \"#46039f\"], [0.2222222222222222, \"#7201a8\"], [0.3333333333333333, \"#9c179e\"], [0.4444444444444444, \"#bd3786\"], [0.5555555555555556, \"#d8576b\"], [0.6666666666666666, \"#ed7953\"], [0.7777777777777778, \"#fb9f3a\"], [0.8888888888888888, \"#fdca26\"], [1.0, \"#f0f921\"]]}, \"colorway\": [\"#636efa\", \"#EF553B\", \"#00cc96\", \"#ab63fa\", \"#FFA15A\", \"#19d3f3\", \"#FF6692\", \"#B6E880\", \"#FF97FF\", \"#FECB52\"], \"font\": {\"color\": \"#2a3f5f\"}, \"geo\": {\"bgcolor\": \"white\", \"lakecolor\": \"white\", \"landcolor\": \"#E5ECF6\", \"showlakes\": true, \"showland\": true, \"subunitcolor\": \"white\"}, \"hoverlabel\": {\"align\": \"left\"}, \"hovermode\": \"closest\", \"mapbox\": {\"style\": \"light\"}, \"paper_bgcolor\": \"white\", \"plot_bgcolor\": \"#E5ECF6\", \"polar\": {\"angularaxis\": {\"gridcolor\": \"white\", \"linecolor\": \"white\", \"ticks\": \"\"}, \"bgcolor\": \"#E5ECF6\", \"radialaxis\": {\"gridcolor\": \"white\", \"linecolor\": \"white\", \"ticks\": \"\"}}, \"scene\": {\"xaxis\": {\"backgroundcolor\": \"#E5ECF6\", \"gridcolor\": \"white\", \"gridwidth\": 2, \"linecolor\": \"white\", \"showbackground\": true, \"ticks\": \"\", \"zerolinecolor\": \"white\"}, \"yaxis\": {\"backgroundcolor\": \"#E5ECF6\", \"gridcolor\": \"white\", \"gridwidth\": 2, \"linecolor\": \"white\", \"showbackground\": true, \"ticks\": \"\", \"zerolinecolor\": \"white\"}, \"zaxis\": {\"backgroundcolor\": \"#E5ECF6\", \"gridcolor\": \"white\", \"gridwidth\": 2, \"linecolor\": \"white\", \"showbackground\": true, \"ticks\": \"\", \"zerolinecolor\": \"white\"}}, \"shapedefaults\": {\"line\": {\"color\": \"#2a3f5f\"}}, \"ternary\": {\"aaxis\": {\"gridcolor\": \"white\", \"linecolor\": \"white\", \"ticks\": \"\"}, \"baxis\": {\"gridcolor\": \"white\", \"linecolor\": \"white\", \"ticks\": \"\"}, \"bgcolor\": \"#E5ECF6\", \"caxis\": {\"gridcolor\": \"white\", \"linecolor\": \"white\", \"ticks\": \"\"}}, \"title\": {\"x\": 0.05}, \"xaxis\": {\"automargin\": true, \"gridcolor\": \"white\", \"linecolor\": \"white\", \"ticks\": \"\", \"zerolinecolor\": \"white\", \"zerolinewidth\": 2}, \"yaxis\": {\"automargin\": true, \"gridcolor\": \"white\", \"linecolor\": \"white\", \"ticks\": \"\", \"zerolinecolor\": \"white\", \"zerolinewidth\": 2}}}},\n",
       "                        {\"responsive\": true}\n",
       "                    ).then(function(){\n",
       "                            \n",
       "var gd = document.getElementById('554340de-a318-4bf7-a69f-56ffc6e66d81');\n",
       "var x = new MutationObserver(function (mutations, observer) {{\n",
       "        var display = window.getComputedStyle(gd).display;\n",
       "        if (!display || display === 'none') {{\n",
       "            console.log([gd, 'removed!']);\n",
       "            Plotly.purge(gd);\n",
       "            observer.disconnect();\n",
       "        }}\n",
       "}});\n",
       "\n",
       "// Listen for the removal of the full notebook cells\n",
       "var notebookContainer = gd.closest('#notebook-container');\n",
       "if (notebookContainer) {{\n",
       "    x.observe(notebookContainer, {childList: true});\n",
       "}}\n",
       "\n",
       "// Listen for the clearing of the current output cell\n",
       "var outputEl = gd.closest('.output');\n",
       "if (outputEl) {{\n",
       "    x.observe(outputEl, {childList: true});\n",
       "}}\n",
       "\n",
       "                        })\n",
       "                };\n",
       "                });\n",
       "            </script>\n",
       "        </div>"
      ]
     },
     "metadata": {},
     "output_type": "display_data"
    }
   ],
   "source": [
    "fig = px.scatter_3d(df, x='PostOp-CNL', y='PreOp-CNL', z='ImplantLeft', color='ImplantLeft')\n",
    "fig.show()"
   ]
  },
  {
   "cell_type": "code",
   "execution_count": 41,
   "metadata": {},
   "outputs": [
    {
     "data": {
      "application/vnd.plotly.v1+json": {
       "config": {
        "plotlyServerURL": "https://plot.ly"
       },
       "data": [
        {
         "hoverlabel": {
          "namelength": 0
         },
         "hovertemplate": "PostOp-CNL=%{x}<br>PreOp-CNL=%{y}<br>ImplantLeft=%{marker.color}",
         "legendgroup": "",
         "marker": {
          "color": [
           275,
           275,
           275,
           275,
           300,
           300,
           300,
           300,
           300,
           325,
           325,
           325,
           325,
           325,
           325,
           325,
           325,
           325,
           325,
           325,
           325,
           325,
           350,
           350,
           350,
           350,
           350,
           350,
           350,
           350,
           350,
           350,
           350,
           350,
           350,
           350,
           375,
           375,
           375,
           375,
           375,
           400,
           275,
           325,
           300,
           325,
           350,
           450,
           350,
           350,
           325,
           325,
           275,
           275,
           275,
           375,
           350,
           375,
           275,
           400,
           350,
           350,
           300,
           350,
           350,
           375,
           300,
           275,
           375,
           250,
           275,
           300,
           400,
           375,
           375,
           325,
           375,
           325,
           325,
           375,
           300,
           250,
           375,
           250,
           300,
           325,
           325,
           325,
           350,
           375,
           325,
           325,
           350,
           350,
           400,
           325,
           375,
           325,
           325,
           375,
           375,
           325,
           325,
           345,
           325,
           300,
           330,
           325,
           275,
           275,
           350,
           325,
           375,
           250,
           375,
           350,
           300,
           300,
           325,
           325,
           275,
           350,
           325,
           350,
           250,
           325,
           300,
           350,
           300,
           325,
           325,
           275,
           325,
           375,
           225,
           350,
           250,
           375,
           325,
           350,
           275,
           300,
           350,
           275
          ],
          "coloraxis": "coloraxis",
          "symbol": "circle"
         },
         "mode": "markers",
         "name": "",
         "scene": "scene",
         "showlegend": false,
         "type": "scatter3d",
         "x": [
          14.5,
          18,
          15,
          16.5,
          17,
          16.5,
          15,
          16.5,
          17,
          16,
          17.5,
          18.5,
          16.5,
          15.5,
          17,
          16.5,
          16,
          17,
          16,
          18,
          15,
          16.5,
          20,
          15.5,
          17.5,
          16,
          16.5,
          18,
          14,
          16.5,
          16.5,
          18.5,
          18,
          20,
          19.5,
          18,
          15,
          17,
          20,
          15.5,
          18,
          19,
          18.5,
          19,
          18.5,
          14,
          19,
          18,
          17.5,
          16.5,
          18,
          18.5,
          16.5,
          16.5,
          16,
          15.5,
          14.5,
          18.5,
          16,
          17,
          15.5,
          17.5,
          18.5,
          18.5,
          18,
          17,
          16.5,
          17.5,
          20,
          15,
          16.5,
          18.5,
          17.5,
          18.5,
          19,
          16.5,
          16,
          18,
          18,
          16.5,
          20,
          18,
          16.5,
          17,
          14,
          17,
          19.5,
          17.5,
          15.5,
          18,
          19,
          18.5,
          15,
          17,
          20,
          16,
          19,
          17,
          18,
          16.5,
          18,
          16.5,
          18,
          22,
          17,
          17,
          17.5,
          17.5,
          15,
          19,
          18,
          17.5,
          21,
          16.5,
          17,
          17.5,
          17.5,
          16.5,
          18,
          18.5,
          17,
          20.5,
          16,
          19.5,
          16.5,
          17,
          16,
          20,
          17,
          21,
          18,
          16.5,
          18.5,
          18,
          17,
          19.5,
          16.5,
          20,
          17,
          21,
          17.5,
          16,
          16,
          20
         ],
         "y": [
          13.5,
          17.5,
          13.5,
          14.5,
          16.5,
          16,
          14,
          14.5,
          15,
          15.5,
          16.5,
          17.5,
          15,
          15,
          16,
          15,
          14,
          15.5,
          15,
          17,
          12.5,
          15,
          18,
          13.5,
          15,
          14,
          16.5,
          16.5,
          13,
          15,
          14.5,
          16.5,
          16,
          17.5,
          18,
          15.5,
          13,
          16.5,
          19,
          13.5,
          16,
          18.5,
          17,
          18.5,
          16.5,
          13.5,
          18,
          18,
          15.5,
          16,
          15.5,
          17.5,
          16,
          14,
          14.5,
          14.5,
          13,
          17,
          14.5,
          15.5,
          14,
          16,
          17,
          17,
          15,
          15.5,
          15.5,
          16,
          18,
          14,
          15.5,
          16.5,
          16,
          17,
          17.5,
          14.5,
          15,
          17,
          15.5,
          15.5,
          18.5,
          16.5,
          15.5,
          15.5,
          13,
          15.5,
          18,
          15,
          14.5,
          16,
          16.5,
          17,
          14.5,
          15,
          19.5,
          15,
          19,
          15,
          16,
          14.5,
          17,
          15.5,
          15.5,
          20.5,
          16,
          17,
          17,
          15,
          14.5,
          16.5,
          16,
          16.5,
          20.5,
          15.3,
          15.5,
          17,
          16,
          16,
          17.5,
          16,
          15.5,
          19,
          14,
          17,
          15,
          15.5,
          14,
          18,
          14.5,
          19.5,
          16.5,
          16,
          16.5,
          16,
          15.5,
          18.5,
          14.5,
          19,
          14.5,
          19,
          16,
          14,
          14,
          18
         ],
         "z": [
          275,
          275,
          275,
          275,
          300,
          300,
          300,
          300,
          300,
          325,
          325,
          325,
          325,
          325,
          325,
          325,
          325,
          325,
          325,
          325,
          325,
          325,
          350,
          350,
          350,
          350,
          350,
          350,
          350,
          350,
          350,
          350,
          350,
          350,
          350,
          350,
          375,
          375,
          375,
          375,
          375,
          400,
          275,
          325,
          300,
          325,
          350,
          450,
          350,
          350,
          325,
          325,
          275,
          275,
          275,
          375,
          350,
          375,
          275,
          400,
          350,
          350,
          300,
          350,
          350,
          375,
          300,
          275,
          375,
          250,
          275,
          300,
          400,
          375,
          375,
          325,
          375,
          325,
          325,
          375,
          300,
          250,
          375,
          250,
          300,
          325,
          325,
          325,
          350,
          375,
          325,
          325,
          350,
          350,
          400,
          325,
          375,
          325,
          325,
          375,
          375,
          325,
          325,
          345,
          325,
          300,
          330,
          325,
          275,
          275,
          350,
          325,
          375,
          250,
          375,
          350,
          300,
          300,
          325,
          325,
          275,
          350,
          325,
          350,
          250,
          325,
          300,
          350,
          300,
          325,
          325,
          275,
          325,
          375,
          225,
          350,
          250,
          375,
          325,
          350,
          275,
          300,
          350,
          275
         ]
        }
       ],
       "layout": {
        "coloraxis": {
         "colorbar": {
          "title": {
           "text": "ImplantLeft"
          }
         },
         "colorscale": [
          [
           0,
           "#0d0887"
          ],
          [
           0.1111111111111111,
           "#46039f"
          ],
          [
           0.2222222222222222,
           "#7201a8"
          ],
          [
           0.3333333333333333,
           "#9c179e"
          ],
          [
           0.4444444444444444,
           "#bd3786"
          ],
          [
           0.5555555555555556,
           "#d8576b"
          ],
          [
           0.6666666666666666,
           "#ed7953"
          ],
          [
           0.7777777777777778,
           "#fb9f3a"
          ],
          [
           0.8888888888888888,
           "#fdca26"
          ],
          [
           1,
           "#f0f921"
          ]
         ]
        },
        "height": 600,
        "legend": {
         "tracegroupgap": 0
        },
        "margin": {
         "t": 60
        },
        "scene": {
         "domain": {
          "x": [
           0,
           0.98
          ],
          "y": [
           0,
           1
          ]
         },
         "xaxis": {
          "title": {
           "text": "PostOp-CNL"
          }
         },
         "yaxis": {
          "title": {
           "text": "PreOp-CNL"
          }
         },
         "zaxis": {
          "title": {
           "text": "ImplantLeft"
          }
         }
        },
        "template": {
         "data": {
          "bar": [
           {
            "error_x": {
             "color": "#2a3f5f"
            },
            "error_y": {
             "color": "#2a3f5f"
            },
            "marker": {
             "line": {
              "color": "#E5ECF6",
              "width": 0.5
             }
            },
            "type": "bar"
           }
          ],
          "barpolar": [
           {
            "marker": {
             "line": {
              "color": "#E5ECF6",
              "width": 0.5
             }
            },
            "type": "barpolar"
           }
          ],
          "carpet": [
           {
            "aaxis": {
             "endlinecolor": "#2a3f5f",
             "gridcolor": "white",
             "linecolor": "white",
             "minorgridcolor": "white",
             "startlinecolor": "#2a3f5f"
            },
            "baxis": {
             "endlinecolor": "#2a3f5f",
             "gridcolor": "white",
             "linecolor": "white",
             "minorgridcolor": "white",
             "startlinecolor": "#2a3f5f"
            },
            "type": "carpet"
           }
          ],
          "choropleth": [
           {
            "colorbar": {
             "outlinewidth": 0,
             "ticks": ""
            },
            "type": "choropleth"
           }
          ],
          "contour": [
           {
            "colorbar": {
             "outlinewidth": 0,
             "ticks": ""
            },
            "colorscale": [
             [
              0,
              "#0d0887"
             ],
             [
              0.1111111111111111,
              "#46039f"
             ],
             [
              0.2222222222222222,
              "#7201a8"
             ],
             [
              0.3333333333333333,
              "#9c179e"
             ],
             [
              0.4444444444444444,
              "#bd3786"
             ],
             [
              0.5555555555555556,
              "#d8576b"
             ],
             [
              0.6666666666666666,
              "#ed7953"
             ],
             [
              0.7777777777777778,
              "#fb9f3a"
             ],
             [
              0.8888888888888888,
              "#fdca26"
             ],
             [
              1,
              "#f0f921"
             ]
            ],
            "type": "contour"
           }
          ],
          "contourcarpet": [
           {
            "colorbar": {
             "outlinewidth": 0,
             "ticks": ""
            },
            "type": "contourcarpet"
           }
          ],
          "heatmap": [
           {
            "colorbar": {
             "outlinewidth": 0,
             "ticks": ""
            },
            "colorscale": [
             [
              0,
              "#0d0887"
             ],
             [
              0.1111111111111111,
              "#46039f"
             ],
             [
              0.2222222222222222,
              "#7201a8"
             ],
             [
              0.3333333333333333,
              "#9c179e"
             ],
             [
              0.4444444444444444,
              "#bd3786"
             ],
             [
              0.5555555555555556,
              "#d8576b"
             ],
             [
              0.6666666666666666,
              "#ed7953"
             ],
             [
              0.7777777777777778,
              "#fb9f3a"
             ],
             [
              0.8888888888888888,
              "#fdca26"
             ],
             [
              1,
              "#f0f921"
             ]
            ],
            "type": "heatmap"
           }
          ],
          "heatmapgl": [
           {
            "colorbar": {
             "outlinewidth": 0,
             "ticks": ""
            },
            "colorscale": [
             [
              0,
              "#0d0887"
             ],
             [
              0.1111111111111111,
              "#46039f"
             ],
             [
              0.2222222222222222,
              "#7201a8"
             ],
             [
              0.3333333333333333,
              "#9c179e"
             ],
             [
              0.4444444444444444,
              "#bd3786"
             ],
             [
              0.5555555555555556,
              "#d8576b"
             ],
             [
              0.6666666666666666,
              "#ed7953"
             ],
             [
              0.7777777777777778,
              "#fb9f3a"
             ],
             [
              0.8888888888888888,
              "#fdca26"
             ],
             [
              1,
              "#f0f921"
             ]
            ],
            "type": "heatmapgl"
           }
          ],
          "histogram": [
           {
            "marker": {
             "colorbar": {
              "outlinewidth": 0,
              "ticks": ""
             }
            },
            "type": "histogram"
           }
          ],
          "histogram2d": [
           {
            "colorbar": {
             "outlinewidth": 0,
             "ticks": ""
            },
            "colorscale": [
             [
              0,
              "#0d0887"
             ],
             [
              0.1111111111111111,
              "#46039f"
             ],
             [
              0.2222222222222222,
              "#7201a8"
             ],
             [
              0.3333333333333333,
              "#9c179e"
             ],
             [
              0.4444444444444444,
              "#bd3786"
             ],
             [
              0.5555555555555556,
              "#d8576b"
             ],
             [
              0.6666666666666666,
              "#ed7953"
             ],
             [
              0.7777777777777778,
              "#fb9f3a"
             ],
             [
              0.8888888888888888,
              "#fdca26"
             ],
             [
              1,
              "#f0f921"
             ]
            ],
            "type": "histogram2d"
           }
          ],
          "histogram2dcontour": [
           {
            "colorbar": {
             "outlinewidth": 0,
             "ticks": ""
            },
            "colorscale": [
             [
              0,
              "#0d0887"
             ],
             [
              0.1111111111111111,
              "#46039f"
             ],
             [
              0.2222222222222222,
              "#7201a8"
             ],
             [
              0.3333333333333333,
              "#9c179e"
             ],
             [
              0.4444444444444444,
              "#bd3786"
             ],
             [
              0.5555555555555556,
              "#d8576b"
             ],
             [
              0.6666666666666666,
              "#ed7953"
             ],
             [
              0.7777777777777778,
              "#fb9f3a"
             ],
             [
              0.8888888888888888,
              "#fdca26"
             ],
             [
              1,
              "#f0f921"
             ]
            ],
            "type": "histogram2dcontour"
           }
          ],
          "mesh3d": [
           {
            "colorbar": {
             "outlinewidth": 0,
             "ticks": ""
            },
            "type": "mesh3d"
           }
          ],
          "parcoords": [
           {
            "line": {
             "colorbar": {
              "outlinewidth": 0,
              "ticks": ""
             }
            },
            "type": "parcoords"
           }
          ],
          "scatter": [
           {
            "marker": {
             "colorbar": {
              "outlinewidth": 0,
              "ticks": ""
             }
            },
            "type": "scatter"
           }
          ],
          "scatter3d": [
           {
            "line": {
             "colorbar": {
              "outlinewidth": 0,
              "ticks": ""
             }
            },
            "marker": {
             "colorbar": {
              "outlinewidth": 0,
              "ticks": ""
             }
            },
            "type": "scatter3d"
           }
          ],
          "scattercarpet": [
           {
            "marker": {
             "colorbar": {
              "outlinewidth": 0,
              "ticks": ""
             }
            },
            "type": "scattercarpet"
           }
          ],
          "scattergeo": [
           {
            "marker": {
             "colorbar": {
              "outlinewidth": 0,
              "ticks": ""
             }
            },
            "type": "scattergeo"
           }
          ],
          "scattergl": [
           {
            "marker": {
             "colorbar": {
              "outlinewidth": 0,
              "ticks": ""
             }
            },
            "type": "scattergl"
           }
          ],
          "scattermapbox": [
           {
            "marker": {
             "colorbar": {
              "outlinewidth": 0,
              "ticks": ""
             }
            },
            "type": "scattermapbox"
           }
          ],
          "scatterpolar": [
           {
            "marker": {
             "colorbar": {
              "outlinewidth": 0,
              "ticks": ""
             }
            },
            "type": "scatterpolar"
           }
          ],
          "scatterpolargl": [
           {
            "marker": {
             "colorbar": {
              "outlinewidth": 0,
              "ticks": ""
             }
            },
            "type": "scatterpolargl"
           }
          ],
          "scatterternary": [
           {
            "marker": {
             "colorbar": {
              "outlinewidth": 0,
              "ticks": ""
             }
            },
            "type": "scatterternary"
           }
          ],
          "surface": [
           {
            "colorbar": {
             "outlinewidth": 0,
             "ticks": ""
            },
            "colorscale": [
             [
              0,
              "#0d0887"
             ],
             [
              0.1111111111111111,
              "#46039f"
             ],
             [
              0.2222222222222222,
              "#7201a8"
             ],
             [
              0.3333333333333333,
              "#9c179e"
             ],
             [
              0.4444444444444444,
              "#bd3786"
             ],
             [
              0.5555555555555556,
              "#d8576b"
             ],
             [
              0.6666666666666666,
              "#ed7953"
             ],
             [
              0.7777777777777778,
              "#fb9f3a"
             ],
             [
              0.8888888888888888,
              "#fdca26"
             ],
             [
              1,
              "#f0f921"
             ]
            ],
            "type": "surface"
           }
          ],
          "table": [
           {
            "cells": {
             "fill": {
              "color": "#EBF0F8"
             },
             "line": {
              "color": "white"
             }
            },
            "header": {
             "fill": {
              "color": "#C8D4E3"
             },
             "line": {
              "color": "white"
             }
            },
            "type": "table"
           }
          ]
         },
         "layout": {
          "annotationdefaults": {
           "arrowcolor": "#2a3f5f",
           "arrowhead": 0,
           "arrowwidth": 1
          },
          "colorscale": {
           "diverging": [
            [
             0,
             "#8e0152"
            ],
            [
             0.1,
             "#c51b7d"
            ],
            [
             0.2,
             "#de77ae"
            ],
            [
             0.3,
             "#f1b6da"
            ],
            [
             0.4,
             "#fde0ef"
            ],
            [
             0.5,
             "#f7f7f7"
            ],
            [
             0.6,
             "#e6f5d0"
            ],
            [
             0.7,
             "#b8e186"
            ],
            [
             0.8,
             "#7fbc41"
            ],
            [
             0.9,
             "#4d9221"
            ],
            [
             1,
             "#276419"
            ]
           ],
           "sequential": [
            [
             0,
             "#0d0887"
            ],
            [
             0.1111111111111111,
             "#46039f"
            ],
            [
             0.2222222222222222,
             "#7201a8"
            ],
            [
             0.3333333333333333,
             "#9c179e"
            ],
            [
             0.4444444444444444,
             "#bd3786"
            ],
            [
             0.5555555555555556,
             "#d8576b"
            ],
            [
             0.6666666666666666,
             "#ed7953"
            ],
            [
             0.7777777777777778,
             "#fb9f3a"
            ],
            [
             0.8888888888888888,
             "#fdca26"
            ],
            [
             1,
             "#f0f921"
            ]
           ],
           "sequentialminus": [
            [
             0,
             "#0d0887"
            ],
            [
             0.1111111111111111,
             "#46039f"
            ],
            [
             0.2222222222222222,
             "#7201a8"
            ],
            [
             0.3333333333333333,
             "#9c179e"
            ],
            [
             0.4444444444444444,
             "#bd3786"
            ],
            [
             0.5555555555555556,
             "#d8576b"
            ],
            [
             0.6666666666666666,
             "#ed7953"
            ],
            [
             0.7777777777777778,
             "#fb9f3a"
            ],
            [
             0.8888888888888888,
             "#fdca26"
            ],
            [
             1,
             "#f0f921"
            ]
           ]
          },
          "colorway": [
           "#636efa",
           "#EF553B",
           "#00cc96",
           "#ab63fa",
           "#FFA15A",
           "#19d3f3",
           "#FF6692",
           "#B6E880",
           "#FF97FF",
           "#FECB52"
          ],
          "font": {
           "color": "#2a3f5f"
          },
          "geo": {
           "bgcolor": "white",
           "lakecolor": "white",
           "landcolor": "#E5ECF6",
           "showlakes": true,
           "showland": true,
           "subunitcolor": "white"
          },
          "hoverlabel": {
           "align": "left"
          },
          "hovermode": "closest",
          "mapbox": {
           "style": "light"
          },
          "paper_bgcolor": "white",
          "plot_bgcolor": "#E5ECF6",
          "polar": {
           "angularaxis": {
            "gridcolor": "white",
            "linecolor": "white",
            "ticks": ""
           },
           "bgcolor": "#E5ECF6",
           "radialaxis": {
            "gridcolor": "white",
            "linecolor": "white",
            "ticks": ""
           }
          },
          "scene": {
           "xaxis": {
            "backgroundcolor": "#E5ECF6",
            "gridcolor": "white",
            "gridwidth": 2,
            "linecolor": "white",
            "showbackground": true,
            "ticks": "",
            "zerolinecolor": "white"
           },
           "yaxis": {
            "backgroundcolor": "#E5ECF6",
            "gridcolor": "white",
            "gridwidth": 2,
            "linecolor": "white",
            "showbackground": true,
            "ticks": "",
            "zerolinecolor": "white"
           },
           "zaxis": {
            "backgroundcolor": "#E5ECF6",
            "gridcolor": "white",
            "gridwidth": 2,
            "linecolor": "white",
            "showbackground": true,
            "ticks": "",
            "zerolinecolor": "white"
           }
          },
          "shapedefaults": {
           "line": {
            "color": "#2a3f5f"
           }
          },
          "ternary": {
           "aaxis": {
            "gridcolor": "white",
            "linecolor": "white",
            "ticks": ""
           },
           "baxis": {
            "gridcolor": "white",
            "linecolor": "white",
            "ticks": ""
           },
           "bgcolor": "#E5ECF6",
           "caxis": {
            "gridcolor": "white",
            "linecolor": "white",
            "ticks": ""
           }
          },
          "title": {
           "x": 0.05
          },
          "xaxis": {
           "automargin": true,
           "gridcolor": "white",
           "linecolor": "white",
           "ticks": "",
           "zerolinecolor": "white",
           "zerolinewidth": 2
          },
          "yaxis": {
           "automargin": true,
           "gridcolor": "white",
           "linecolor": "white",
           "ticks": "",
           "zerolinecolor": "white",
           "zerolinewidth": 2
          }
         }
        }
       }
      },
      "text/html": [
       "<div>\n",
       "        \n",
       "        \n",
       "            <div id=\"efd64c22-bd18-41e8-bd58-9a3e1e0f102a\" class=\"plotly-graph-div\" style=\"height:600px; width:100%;\"></div>\n",
       "            <script type=\"text/javascript\">\n",
       "                require([\"plotly\"], function(Plotly) {\n",
       "                    window.PLOTLYENV=window.PLOTLYENV || {};\n",
       "                    \n",
       "                if (document.getElementById(\"efd64c22-bd18-41e8-bd58-9a3e1e0f102a\")) {\n",
       "                    Plotly.newPlot(\n",
       "                        'efd64c22-bd18-41e8-bd58-9a3e1e0f102a',\n",
       "                        [{\"hoverlabel\": {\"namelength\": 0}, \"hovertemplate\": \"PostOp-CNL=%{x}<br>PreOp-CNL=%{y}<br>ImplantLeft=%{marker.color}\", \"legendgroup\": \"\", \"marker\": {\"color\": [275, 275, 275, 275, 300, 300, 300, 300, 300, 325, 325, 325, 325, 325, 325, 325, 325, 325, 325, 325, 325, 325, 350, 350, 350, 350, 350, 350, 350, 350, 350, 350, 350, 350, 350, 350, 375, 375, 375, 375, 375, 400, 275, 325, 300, 325, 350, 450, 350, 350, 325, 325, 275, 275, 275, 375, 350, 375, 275, 400, 350, 350, 300, 350, 350, 375, 300, 275, 375, 250, 275, 300, 400, 375, 375, 325, 375, 325, 325, 375, 300, 250, 375, 250, 300, 325, 325, 325, 350, 375, 325, 325, 350, 350, 400, 325, 375, 325, 325, 375, 375, 325, 325, 345, 325, 300, 330, 325, 275, 275, 350, 325, 375, 250, 375, 350, 300, 300, 325, 325, 275, 350, 325, 350, 250, 325, 300, 350, 300, 325, 325, 275, 325, 375, 225, 350, 250, 375, 325, 350, 275, 300, 350, 275], \"coloraxis\": \"coloraxis\", \"symbol\": \"circle\"}, \"mode\": \"markers\", \"name\": \"\", \"scene\": \"scene\", \"showlegend\": false, \"type\": \"scatter3d\", \"x\": [14.5, 18.0, 15.0, 16.5, 17.0, 16.5, 15.0, 16.5, 17.0, 16.0, 17.5, 18.5, 16.5, 15.5, 17.0, 16.5, 16.0, 17.0, 16.0, 18.0, 15.0, 16.5, 20.0, 15.5, 17.5, 16.0, 16.5, 18.0, 14.0, 16.5, 16.5, 18.5, 18.0, 20.0, 19.5, 18.0, 15.0, 17.0, 20.0, 15.5, 18.0, 19.0, 18.5, 19.0, 18.5, 14.0, 19.0, 18.0, 17.5, 16.5, 18.0, 18.5, 16.5, 16.5, 16.0, 15.5, 14.5, 18.5, 16.0, 17.0, 15.5, 17.5, 18.5, 18.5, 18.0, 17.0, 16.5, 17.5, 20.0, 15.0, 16.5, 18.5, 17.5, 18.5, 19.0, 16.5, 16.0, 18.0, 18.0, 16.5, 20.0, 18.0, 16.5, 17.0, 14.0, 17.0, 19.5, 17.5, 15.5, 18.0, 19.0, 18.5, 15.0, 17.0, 20.0, 16.0, 19.0, 17.0, 18.0, 16.5, 18.0, 16.5, 18.0, 22.0, 17.0, 17.0, 17.5, 17.5, 15.0, 19.0, 18.0, 17.5, 21.0, 16.5, 17.0, 17.5, 17.5, 16.5, 18.0, 18.5, 17.0, 20.5, 16.0, 19.5, 16.5, 17.0, 16.0, 20.0, 17.0, 21.0, 18.0, 16.5, 18.5, 18.0, 17.0, 19.5, 16.5, 20.0, 17.0, 21.0, 17.5, 16.0, 16.0, 20.0], \"y\": [13.5, 17.5, 13.5, 14.5, 16.5, 16.0, 14.0, 14.5, 15.0, 15.5, 16.5, 17.5, 15.0, 15.0, 16.0, 15.0, 14.0, 15.5, 15.0, 17.0, 12.5, 15.0, 18.0, 13.5, 15.0, 14.0, 16.5, 16.5, 13.0, 15.0, 14.5, 16.5, 16.0, 17.5, 18.0, 15.5, 13.0, 16.5, 19.0, 13.5, 16.0, 18.5, 17.0, 18.5, 16.5, 13.5, 18.0, 18.0, 15.5, 16.0, 15.5, 17.5, 16.0, 14.0, 14.5, 14.5, 13.0, 17.0, 14.5, 15.5, 14.0, 16.0, 17.0, 17.0, 15.0, 15.5, 15.5, 16.0, 18.0, 14.0, 15.5, 16.5, 16.0, 17.0, 17.5, 14.5, 15.0, 17.0, 15.5, 15.5, 18.5, 16.5, 15.5, 15.5, 13.0, 15.5, 18.0, 15.0, 14.5, 16.0, 16.5, 17.0, 14.5, 15.0, 19.5, 15.0, 19.0, 15.0, 16.0, 14.5, 17.0, 15.5, 15.5, 20.5, 16.0, 17.0, 17.0, 15.0, 14.5, 16.5, 16.0, 16.5, 20.5, 15.3, 15.5, 17.0, 16.0, 16.0, 17.5, 16.0, 15.5, 19.0, 14.0, 17.0, 15.0, 15.5, 14.0, 18.0, 14.5, 19.5, 16.5, 16.0, 16.5, 16.0, 15.5, 18.5, 14.5, 19.0, 14.5, 19.0, 16.0, 14.0, 14.0, 18.0], \"z\": [275, 275, 275, 275, 300, 300, 300, 300, 300, 325, 325, 325, 325, 325, 325, 325, 325, 325, 325, 325, 325, 325, 350, 350, 350, 350, 350, 350, 350, 350, 350, 350, 350, 350, 350, 350, 375, 375, 375, 375, 375, 400, 275, 325, 300, 325, 350, 450, 350, 350, 325, 325, 275, 275, 275, 375, 350, 375, 275, 400, 350, 350, 300, 350, 350, 375, 300, 275, 375, 250, 275, 300, 400, 375, 375, 325, 375, 325, 325, 375, 300, 250, 375, 250, 300, 325, 325, 325, 350, 375, 325, 325, 350, 350, 400, 325, 375, 325, 325, 375, 375, 325, 325, 345, 325, 300, 330, 325, 275, 275, 350, 325, 375, 250, 375, 350, 300, 300, 325, 325, 275, 350, 325, 350, 250, 325, 300, 350, 300, 325, 325, 275, 325, 375, 225, 350, 250, 375, 325, 350, 275, 300, 350, 275]}],\n",
       "                        {\"coloraxis\": {\"colorbar\": {\"title\": {\"text\": \"ImplantLeft\"}}, \"colorscale\": [[0.0, \"#0d0887\"], [0.1111111111111111, \"#46039f\"], [0.2222222222222222, \"#7201a8\"], [0.3333333333333333, \"#9c179e\"], [0.4444444444444444, \"#bd3786\"], [0.5555555555555556, \"#d8576b\"], [0.6666666666666666, \"#ed7953\"], [0.7777777777777778, \"#fb9f3a\"], [0.8888888888888888, \"#fdca26\"], [1.0, \"#f0f921\"]]}, \"height\": 600, \"legend\": {\"tracegroupgap\": 0}, \"margin\": {\"t\": 60}, \"scene\": {\"domain\": {\"x\": [0.0, 0.98], \"y\": [0.0, 1.0]}, \"xaxis\": {\"title\": {\"text\": \"PostOp-CNL\"}}, \"yaxis\": {\"title\": {\"text\": \"PreOp-CNL\"}}, \"zaxis\": {\"title\": {\"text\": \"ImplantLeft\"}}}, \"template\": {\"data\": {\"bar\": [{\"error_x\": {\"color\": \"#2a3f5f\"}, \"error_y\": {\"color\": \"#2a3f5f\"}, \"marker\": {\"line\": {\"color\": \"#E5ECF6\", \"width\": 0.5}}, \"type\": \"bar\"}], \"barpolar\": [{\"marker\": {\"line\": {\"color\": \"#E5ECF6\", \"width\": 0.5}}, \"type\": \"barpolar\"}], \"carpet\": [{\"aaxis\": {\"endlinecolor\": \"#2a3f5f\", \"gridcolor\": \"white\", \"linecolor\": \"white\", \"minorgridcolor\": \"white\", \"startlinecolor\": \"#2a3f5f\"}, \"baxis\": {\"endlinecolor\": \"#2a3f5f\", \"gridcolor\": \"white\", \"linecolor\": \"white\", \"minorgridcolor\": \"white\", \"startlinecolor\": \"#2a3f5f\"}, \"type\": \"carpet\"}], \"choropleth\": [{\"colorbar\": {\"outlinewidth\": 0, \"ticks\": \"\"}, \"type\": \"choropleth\"}], \"contour\": [{\"colorbar\": {\"outlinewidth\": 0, \"ticks\": \"\"}, \"colorscale\": [[0.0, \"#0d0887\"], [0.1111111111111111, \"#46039f\"], [0.2222222222222222, \"#7201a8\"], [0.3333333333333333, \"#9c179e\"], [0.4444444444444444, \"#bd3786\"], [0.5555555555555556, \"#d8576b\"], [0.6666666666666666, \"#ed7953\"], [0.7777777777777778, \"#fb9f3a\"], [0.8888888888888888, \"#fdca26\"], [1.0, \"#f0f921\"]], \"type\": \"contour\"}], \"contourcarpet\": [{\"colorbar\": {\"outlinewidth\": 0, \"ticks\": \"\"}, \"type\": \"contourcarpet\"}], \"heatmap\": [{\"colorbar\": {\"outlinewidth\": 0, \"ticks\": \"\"}, \"colorscale\": [[0.0, \"#0d0887\"], [0.1111111111111111, \"#46039f\"], [0.2222222222222222, \"#7201a8\"], [0.3333333333333333, \"#9c179e\"], [0.4444444444444444, \"#bd3786\"], [0.5555555555555556, \"#d8576b\"], [0.6666666666666666, \"#ed7953\"], [0.7777777777777778, \"#fb9f3a\"], [0.8888888888888888, \"#fdca26\"], [1.0, \"#f0f921\"]], \"type\": \"heatmap\"}], \"heatmapgl\": [{\"colorbar\": {\"outlinewidth\": 0, \"ticks\": \"\"}, \"colorscale\": [[0.0, \"#0d0887\"], [0.1111111111111111, \"#46039f\"], [0.2222222222222222, \"#7201a8\"], [0.3333333333333333, \"#9c179e\"], [0.4444444444444444, \"#bd3786\"], [0.5555555555555556, \"#d8576b\"], [0.6666666666666666, \"#ed7953\"], [0.7777777777777778, \"#fb9f3a\"], [0.8888888888888888, \"#fdca26\"], [1.0, \"#f0f921\"]], \"type\": \"heatmapgl\"}], \"histogram\": [{\"marker\": {\"colorbar\": {\"outlinewidth\": 0, \"ticks\": \"\"}}, \"type\": \"histogram\"}], \"histogram2d\": [{\"colorbar\": {\"outlinewidth\": 0, \"ticks\": \"\"}, \"colorscale\": [[0.0, \"#0d0887\"], [0.1111111111111111, \"#46039f\"], [0.2222222222222222, \"#7201a8\"], [0.3333333333333333, \"#9c179e\"], [0.4444444444444444, \"#bd3786\"], [0.5555555555555556, \"#d8576b\"], [0.6666666666666666, \"#ed7953\"], [0.7777777777777778, \"#fb9f3a\"], [0.8888888888888888, \"#fdca26\"], [1.0, \"#f0f921\"]], \"type\": \"histogram2d\"}], \"histogram2dcontour\": [{\"colorbar\": {\"outlinewidth\": 0, \"ticks\": \"\"}, \"colorscale\": [[0.0, \"#0d0887\"], [0.1111111111111111, \"#46039f\"], [0.2222222222222222, \"#7201a8\"], [0.3333333333333333, \"#9c179e\"], [0.4444444444444444, \"#bd3786\"], [0.5555555555555556, \"#d8576b\"], [0.6666666666666666, \"#ed7953\"], [0.7777777777777778, \"#fb9f3a\"], [0.8888888888888888, \"#fdca26\"], [1.0, \"#f0f921\"]], \"type\": \"histogram2dcontour\"}], \"mesh3d\": [{\"colorbar\": {\"outlinewidth\": 0, \"ticks\": \"\"}, \"type\": \"mesh3d\"}], \"parcoords\": [{\"line\": {\"colorbar\": {\"outlinewidth\": 0, \"ticks\": \"\"}}, \"type\": \"parcoords\"}], \"scatter\": [{\"marker\": {\"colorbar\": {\"outlinewidth\": 0, \"ticks\": \"\"}}, \"type\": \"scatter\"}], \"scatter3d\": [{\"line\": {\"colorbar\": {\"outlinewidth\": 0, \"ticks\": \"\"}}, \"marker\": {\"colorbar\": {\"outlinewidth\": 0, \"ticks\": \"\"}}, \"type\": \"scatter3d\"}], \"scattercarpet\": [{\"marker\": {\"colorbar\": {\"outlinewidth\": 0, \"ticks\": \"\"}}, \"type\": \"scattercarpet\"}], \"scattergeo\": [{\"marker\": {\"colorbar\": {\"outlinewidth\": 0, \"ticks\": \"\"}}, \"type\": \"scattergeo\"}], \"scattergl\": [{\"marker\": {\"colorbar\": {\"outlinewidth\": 0, \"ticks\": \"\"}}, \"type\": \"scattergl\"}], \"scattermapbox\": [{\"marker\": {\"colorbar\": {\"outlinewidth\": 0, \"ticks\": \"\"}}, \"type\": \"scattermapbox\"}], \"scatterpolar\": [{\"marker\": {\"colorbar\": {\"outlinewidth\": 0, \"ticks\": \"\"}}, \"type\": \"scatterpolar\"}], \"scatterpolargl\": [{\"marker\": {\"colorbar\": {\"outlinewidth\": 0, \"ticks\": \"\"}}, \"type\": \"scatterpolargl\"}], \"scatterternary\": [{\"marker\": {\"colorbar\": {\"outlinewidth\": 0, \"ticks\": \"\"}}, \"type\": \"scatterternary\"}], \"surface\": [{\"colorbar\": {\"outlinewidth\": 0, \"ticks\": \"\"}, \"colorscale\": [[0.0, \"#0d0887\"], [0.1111111111111111, \"#46039f\"], [0.2222222222222222, \"#7201a8\"], [0.3333333333333333, \"#9c179e\"], [0.4444444444444444, \"#bd3786\"], [0.5555555555555556, \"#d8576b\"], [0.6666666666666666, \"#ed7953\"], [0.7777777777777778, \"#fb9f3a\"], [0.8888888888888888, \"#fdca26\"], [1.0, \"#f0f921\"]], \"type\": \"surface\"}], \"table\": [{\"cells\": {\"fill\": {\"color\": \"#EBF0F8\"}, \"line\": {\"color\": \"white\"}}, \"header\": {\"fill\": {\"color\": \"#C8D4E3\"}, \"line\": {\"color\": \"white\"}}, \"type\": \"table\"}]}, \"layout\": {\"annotationdefaults\": {\"arrowcolor\": \"#2a3f5f\", \"arrowhead\": 0, \"arrowwidth\": 1}, \"colorscale\": {\"diverging\": [[0, \"#8e0152\"], [0.1, \"#c51b7d\"], [0.2, \"#de77ae\"], [0.3, \"#f1b6da\"], [0.4, \"#fde0ef\"], [0.5, \"#f7f7f7\"], [0.6, \"#e6f5d0\"], [0.7, \"#b8e186\"], [0.8, \"#7fbc41\"], [0.9, \"#4d9221\"], [1, \"#276419\"]], \"sequential\": [[0.0, \"#0d0887\"], [0.1111111111111111, \"#46039f\"], [0.2222222222222222, \"#7201a8\"], [0.3333333333333333, \"#9c179e\"], [0.4444444444444444, \"#bd3786\"], [0.5555555555555556, \"#d8576b\"], [0.6666666666666666, \"#ed7953\"], [0.7777777777777778, \"#fb9f3a\"], [0.8888888888888888, \"#fdca26\"], [1.0, \"#f0f921\"]], \"sequentialminus\": [[0.0, \"#0d0887\"], [0.1111111111111111, \"#46039f\"], [0.2222222222222222, \"#7201a8\"], [0.3333333333333333, \"#9c179e\"], [0.4444444444444444, \"#bd3786\"], [0.5555555555555556, \"#d8576b\"], [0.6666666666666666, \"#ed7953\"], [0.7777777777777778, \"#fb9f3a\"], [0.8888888888888888, \"#fdca26\"], [1.0, \"#f0f921\"]]}, \"colorway\": [\"#636efa\", \"#EF553B\", \"#00cc96\", \"#ab63fa\", \"#FFA15A\", \"#19d3f3\", \"#FF6692\", \"#B6E880\", \"#FF97FF\", \"#FECB52\"], \"font\": {\"color\": \"#2a3f5f\"}, \"geo\": {\"bgcolor\": \"white\", \"lakecolor\": \"white\", \"landcolor\": \"#E5ECF6\", \"showlakes\": true, \"showland\": true, \"subunitcolor\": \"white\"}, \"hoverlabel\": {\"align\": \"left\"}, \"hovermode\": \"closest\", \"mapbox\": {\"style\": \"light\"}, \"paper_bgcolor\": \"white\", \"plot_bgcolor\": \"#E5ECF6\", \"polar\": {\"angularaxis\": {\"gridcolor\": \"white\", \"linecolor\": \"white\", \"ticks\": \"\"}, \"bgcolor\": \"#E5ECF6\", \"radialaxis\": {\"gridcolor\": \"white\", \"linecolor\": \"white\", \"ticks\": \"\"}}, \"scene\": {\"xaxis\": {\"backgroundcolor\": \"#E5ECF6\", \"gridcolor\": \"white\", \"gridwidth\": 2, \"linecolor\": \"white\", \"showbackground\": true, \"ticks\": \"\", \"zerolinecolor\": \"white\"}, \"yaxis\": {\"backgroundcolor\": \"#E5ECF6\", \"gridcolor\": \"white\", \"gridwidth\": 2, \"linecolor\": \"white\", \"showbackground\": true, \"ticks\": \"\", \"zerolinecolor\": \"white\"}, \"zaxis\": {\"backgroundcolor\": \"#E5ECF6\", \"gridcolor\": \"white\", \"gridwidth\": 2, \"linecolor\": \"white\", \"showbackground\": true, \"ticks\": \"\", \"zerolinecolor\": \"white\"}}, \"shapedefaults\": {\"line\": {\"color\": \"#2a3f5f\"}}, \"ternary\": {\"aaxis\": {\"gridcolor\": \"white\", \"linecolor\": \"white\", \"ticks\": \"\"}, \"baxis\": {\"gridcolor\": \"white\", \"linecolor\": \"white\", \"ticks\": \"\"}, \"bgcolor\": \"#E5ECF6\", \"caxis\": {\"gridcolor\": \"white\", \"linecolor\": \"white\", \"ticks\": \"\"}}, \"title\": {\"x\": 0.05}, \"xaxis\": {\"automargin\": true, \"gridcolor\": \"white\", \"linecolor\": \"white\", \"ticks\": \"\", \"zerolinecolor\": \"white\", \"zerolinewidth\": 2}, \"yaxis\": {\"automargin\": true, \"gridcolor\": \"white\", \"linecolor\": \"white\", \"ticks\": \"\", \"zerolinecolor\": \"white\", \"zerolinewidth\": 2}}}},\n",
       "                        {\"responsive\": true}\n",
       "                    ).then(function(){\n",
       "                            \n",
       "var gd = document.getElementById('efd64c22-bd18-41e8-bd58-9a3e1e0f102a');\n",
       "var x = new MutationObserver(function (mutations, observer) {{\n",
       "        var display = window.getComputedStyle(gd).display;\n",
       "        if (!display || display === 'none') {{\n",
       "            console.log([gd, 'removed!']);\n",
       "            Plotly.purge(gd);\n",
       "            observer.disconnect();\n",
       "        }}\n",
       "}});\n",
       "\n",
       "// Listen for the removal of the full notebook cells\n",
       "var notebookContainer = gd.closest('#notebook-container');\n",
       "if (notebookContainer) {{\n",
       "    x.observe(notebookContainer, {childList: true});\n",
       "}}\n",
       "\n",
       "// Listen for the clearing of the current output cell\n",
       "var outputEl = gd.closest('.output');\n",
       "if (outputEl) {{\n",
       "    x.observe(outputEl, {childList: true});\n",
       "}}\n",
       "\n",
       "                        })\n",
       "                };\n",
       "                });\n",
       "            </script>\n",
       "        </div>"
      ]
     },
     "metadata": {},
     "output_type": "display_data"
    }
   ],
   "source": [
    "fig = px.scatter_3d(df, x='PostOp-CNL', y='PreOp-CNL', z='ImplantLeft', color='ImplantLeft')\n",
    "fig.show()"
   ]
  },
  {
   "cell_type": "code",
   "execution_count": 42,
   "metadata": {},
   "outputs": [
    {
     "data": {
      "application/vnd.plotly.v1+json": {
       "config": {
        "plotlyServerURL": "https://plot.ly"
       },
       "data": [
        {
         "hoverlabel": {
          "namelength": 0
         },
         "hovertemplate": "PostOp-CNL=%{x}<br>PreOp-CNL=%{y}<br>PreOp-SNL=%{z}<br>ImplantLeft=%{marker.color}",
         "legendgroup": "",
         "marker": {
          "color": [
           275,
           275,
           275,
           275,
           300,
           300,
           300,
           300,
           300,
           325,
           325,
           325,
           325,
           325,
           325,
           325,
           325,
           325,
           325,
           325,
           325,
           325,
           350,
           350,
           350,
           350,
           350,
           350,
           350,
           350,
           350,
           350,
           350,
           350,
           350,
           350,
           375,
           375,
           375,
           375,
           375,
           400,
           275,
           325,
           300,
           325,
           350,
           450,
           350,
           350,
           325,
           325,
           275,
           275,
           275,
           375,
           350,
           375,
           275,
           400,
           350,
           350,
           300,
           350,
           350,
           375,
           300,
           275,
           375,
           250,
           275,
           300,
           400,
           375,
           375,
           325,
           375,
           325,
           325,
           375,
           300,
           250,
           375,
           250,
           300,
           325,
           325,
           325,
           350,
           375,
           325,
           325,
           350,
           350,
           400,
           325,
           375,
           325,
           325,
           375,
           375,
           325,
           325,
           345,
           325,
           300,
           330,
           325,
           275,
           275,
           350,
           325,
           375,
           250,
           375,
           350,
           300,
           300,
           325,
           325,
           275,
           350,
           325,
           350,
           250,
           325,
           300,
           350,
           300,
           325,
           325,
           275,
           325,
           375,
           225,
           350,
           250,
           375,
           325,
           350,
           275,
           300,
           350,
           275
          ],
          "coloraxis": "coloraxis",
          "symbol": "circle"
         },
         "mode": "markers",
         "name": "",
         "scene": "scene",
         "showlegend": false,
         "type": "scatter3d",
         "x": [
          14.5,
          18,
          15,
          16.5,
          17,
          16.5,
          15,
          16.5,
          17,
          16,
          17.5,
          18.5,
          16.5,
          15.5,
          17,
          16.5,
          16,
          17,
          16,
          18,
          15,
          16.5,
          20,
          15.5,
          17.5,
          16,
          16.5,
          18,
          14,
          16.5,
          16.5,
          18.5,
          18,
          20,
          19.5,
          18,
          15,
          17,
          20,
          15.5,
          18,
          19,
          18.5,
          19,
          18.5,
          14,
          19,
          18,
          17.5,
          16.5,
          18,
          18.5,
          16.5,
          16.5,
          16,
          15.5,
          14.5,
          18.5,
          16,
          17,
          15.5,
          17.5,
          18.5,
          18.5,
          18,
          17,
          16.5,
          17.5,
          20,
          15,
          16.5,
          18.5,
          17.5,
          18.5,
          19,
          16.5,
          16,
          18,
          18,
          16.5,
          20,
          18,
          16.5,
          17,
          14,
          17,
          19.5,
          17.5,
          15.5,
          18,
          19,
          18.5,
          15,
          17,
          20,
          16,
          19,
          17,
          18,
          16.5,
          18,
          16.5,
          18,
          22,
          17,
          17,
          17.5,
          17.5,
          15,
          19,
          18,
          17.5,
          21,
          16.5,
          17,
          17.5,
          17.5,
          16.5,
          18,
          18.5,
          17,
          20.5,
          16,
          19.5,
          16.5,
          17,
          16,
          20,
          17,
          21,
          18,
          16.5,
          18.5,
          18,
          17,
          19.5,
          16.5,
          20,
          17,
          21,
          17.5,
          16,
          16,
          20
         ],
         "y": [
          13.5,
          17.5,
          13.5,
          14.5,
          16.5,
          16,
          14,
          14.5,
          15,
          15.5,
          16.5,
          17.5,
          15,
          15,
          16,
          15,
          14,
          15.5,
          15,
          17,
          12.5,
          15,
          18,
          13.5,
          15,
          14,
          16.5,
          16.5,
          13,
          15,
          14.5,
          16.5,
          16,
          17.5,
          18,
          15.5,
          13,
          16.5,
          19,
          13.5,
          16,
          18.5,
          17,
          18.5,
          16.5,
          13.5,
          18,
          18,
          15.5,
          16,
          15.5,
          17.5,
          16,
          14,
          14.5,
          14.5,
          13,
          17,
          14.5,
          15.5,
          14,
          16,
          17,
          17,
          15,
          15.5,
          15.5,
          16,
          18,
          14,
          15.5,
          16.5,
          16,
          17,
          17.5,
          14.5,
          15,
          17,
          15.5,
          15.5,
          18.5,
          16.5,
          15.5,
          15.5,
          13,
          15.5,
          18,
          15,
          14.5,
          16,
          16.5,
          17,
          14.5,
          15,
          19.5,
          15,
          19,
          15,
          16,
          14.5,
          17,
          15.5,
          15.5,
          20.5,
          16,
          17,
          17,
          15,
          14.5,
          16.5,
          16,
          16.5,
          20.5,
          15.3,
          15.5,
          17,
          16,
          16,
          17.5,
          16,
          15.5,
          19,
          14,
          17,
          15,
          15.5,
          14,
          18,
          14.5,
          19.5,
          16.5,
          16,
          16.5,
          16,
          15.5,
          18.5,
          14.5,
          19,
          14.5,
          19,
          16,
          14,
          14,
          18
         ],
         "z": [
          15,
          18.5,
          16,
          16,
          17.5,
          17,
          15.5,
          17,
          17,
          16.5,
          18.5,
          19,
          16.5,
          16.5,
          17.5,
          16.5,
          16.5,
          17.5,
          16.5,
          18.5,
          15,
          16.5,
          19.5,
          16,
          17.5,
          16,
          18.5,
          18.5,
          14.5,
          16,
          16.5,
          18,
          18,
          19,
          19.5,
          17.5,
          15,
          18.5,
          20.5,
          15,
          18,
          20,
          18.5,
          19,
          18.5,
          15,
          20,
          20,
          16.5,
          16.5,
          18,
          19,
          17.5,
          16.5,
          16,
          15.5,
          14.5,
          19,
          17,
          18,
          15.5,
          18,
          19,
          17.5,
          16,
          17,
          17,
          17.5,
          19.5,
          16.5,
          17.5,
          18.5,
          18,
          19,
          19,
          16.5,
          17,
          18.5,
          17.5,
          17,
          20,
          18.5,
          17,
          17,
          15,
          17.5,
          19.5,
          17,
          16.5,
          18,
          18,
          18.3,
          16.5,
          17,
          20.5,
          17,
          20.5,
          16.5,
          17.5,
          16.5,
          19,
          17.5,
          17.5,
          21.5,
          17.5,
          18.5,
          18.5,
          17,
          16.5,
          18.5,
          18.5,
          18,
          22,
          17,
          17,
          18.5,
          17.5,
          17.5,
          18.5,
          18,
          17,
          20,
          16,
          19,
          16.5,
          17,
          15.5,
          20.5,
          16.5,
          21,
          18,
          18,
          18.5,
          18,
          17,
          20,
          16,
          20.5,
          16.5,
          21,
          18,
          16,
          16,
          20
         ]
        }
       ],
       "layout": {
        "coloraxis": {
         "colorbar": {
          "title": {
           "text": "ImplantLeft"
          }
         },
         "colorscale": [
          [
           0,
           "#0d0887"
          ],
          [
           0.1111111111111111,
           "#46039f"
          ],
          [
           0.2222222222222222,
           "#7201a8"
          ],
          [
           0.3333333333333333,
           "#9c179e"
          ],
          [
           0.4444444444444444,
           "#bd3786"
          ],
          [
           0.5555555555555556,
           "#d8576b"
          ],
          [
           0.6666666666666666,
           "#ed7953"
          ],
          [
           0.7777777777777778,
           "#fb9f3a"
          ],
          [
           0.8888888888888888,
           "#fdca26"
          ],
          [
           1,
           "#f0f921"
          ]
         ]
        },
        "height": 600,
        "legend": {
         "tracegroupgap": 0
        },
        "margin": {
         "t": 60
        },
        "scene": {
         "domain": {
          "x": [
           0,
           0.98
          ],
          "y": [
           0,
           1
          ]
         },
         "xaxis": {
          "title": {
           "text": "PostOp-CNL"
          }
         },
         "yaxis": {
          "title": {
           "text": "PreOp-CNL"
          }
         },
         "zaxis": {
          "title": {
           "text": "PreOp-SNL"
          }
         }
        },
        "template": {
         "data": {
          "bar": [
           {
            "error_x": {
             "color": "#2a3f5f"
            },
            "error_y": {
             "color": "#2a3f5f"
            },
            "marker": {
             "line": {
              "color": "#E5ECF6",
              "width": 0.5
             }
            },
            "type": "bar"
           }
          ],
          "barpolar": [
           {
            "marker": {
             "line": {
              "color": "#E5ECF6",
              "width": 0.5
             }
            },
            "type": "barpolar"
           }
          ],
          "carpet": [
           {
            "aaxis": {
             "endlinecolor": "#2a3f5f",
             "gridcolor": "white",
             "linecolor": "white",
             "minorgridcolor": "white",
             "startlinecolor": "#2a3f5f"
            },
            "baxis": {
             "endlinecolor": "#2a3f5f",
             "gridcolor": "white",
             "linecolor": "white",
             "minorgridcolor": "white",
             "startlinecolor": "#2a3f5f"
            },
            "type": "carpet"
           }
          ],
          "choropleth": [
           {
            "colorbar": {
             "outlinewidth": 0,
             "ticks": ""
            },
            "type": "choropleth"
           }
          ],
          "contour": [
           {
            "colorbar": {
             "outlinewidth": 0,
             "ticks": ""
            },
            "colorscale": [
             [
              0,
              "#0d0887"
             ],
             [
              0.1111111111111111,
              "#46039f"
             ],
             [
              0.2222222222222222,
              "#7201a8"
             ],
             [
              0.3333333333333333,
              "#9c179e"
             ],
             [
              0.4444444444444444,
              "#bd3786"
             ],
             [
              0.5555555555555556,
              "#d8576b"
             ],
             [
              0.6666666666666666,
              "#ed7953"
             ],
             [
              0.7777777777777778,
              "#fb9f3a"
             ],
             [
              0.8888888888888888,
              "#fdca26"
             ],
             [
              1,
              "#f0f921"
             ]
            ],
            "type": "contour"
           }
          ],
          "contourcarpet": [
           {
            "colorbar": {
             "outlinewidth": 0,
             "ticks": ""
            },
            "type": "contourcarpet"
           }
          ],
          "heatmap": [
           {
            "colorbar": {
             "outlinewidth": 0,
             "ticks": ""
            },
            "colorscale": [
             [
              0,
              "#0d0887"
             ],
             [
              0.1111111111111111,
              "#46039f"
             ],
             [
              0.2222222222222222,
              "#7201a8"
             ],
             [
              0.3333333333333333,
              "#9c179e"
             ],
             [
              0.4444444444444444,
              "#bd3786"
             ],
             [
              0.5555555555555556,
              "#d8576b"
             ],
             [
              0.6666666666666666,
              "#ed7953"
             ],
             [
              0.7777777777777778,
              "#fb9f3a"
             ],
             [
              0.8888888888888888,
              "#fdca26"
             ],
             [
              1,
              "#f0f921"
             ]
            ],
            "type": "heatmap"
           }
          ],
          "heatmapgl": [
           {
            "colorbar": {
             "outlinewidth": 0,
             "ticks": ""
            },
            "colorscale": [
             [
              0,
              "#0d0887"
             ],
             [
              0.1111111111111111,
              "#46039f"
             ],
             [
              0.2222222222222222,
              "#7201a8"
             ],
             [
              0.3333333333333333,
              "#9c179e"
             ],
             [
              0.4444444444444444,
              "#bd3786"
             ],
             [
              0.5555555555555556,
              "#d8576b"
             ],
             [
              0.6666666666666666,
              "#ed7953"
             ],
             [
              0.7777777777777778,
              "#fb9f3a"
             ],
             [
              0.8888888888888888,
              "#fdca26"
             ],
             [
              1,
              "#f0f921"
             ]
            ],
            "type": "heatmapgl"
           }
          ],
          "histogram": [
           {
            "marker": {
             "colorbar": {
              "outlinewidth": 0,
              "ticks": ""
             }
            },
            "type": "histogram"
           }
          ],
          "histogram2d": [
           {
            "colorbar": {
             "outlinewidth": 0,
             "ticks": ""
            },
            "colorscale": [
             [
              0,
              "#0d0887"
             ],
             [
              0.1111111111111111,
              "#46039f"
             ],
             [
              0.2222222222222222,
              "#7201a8"
             ],
             [
              0.3333333333333333,
              "#9c179e"
             ],
             [
              0.4444444444444444,
              "#bd3786"
             ],
             [
              0.5555555555555556,
              "#d8576b"
             ],
             [
              0.6666666666666666,
              "#ed7953"
             ],
             [
              0.7777777777777778,
              "#fb9f3a"
             ],
             [
              0.8888888888888888,
              "#fdca26"
             ],
             [
              1,
              "#f0f921"
             ]
            ],
            "type": "histogram2d"
           }
          ],
          "histogram2dcontour": [
           {
            "colorbar": {
             "outlinewidth": 0,
             "ticks": ""
            },
            "colorscale": [
             [
              0,
              "#0d0887"
             ],
             [
              0.1111111111111111,
              "#46039f"
             ],
             [
              0.2222222222222222,
              "#7201a8"
             ],
             [
              0.3333333333333333,
              "#9c179e"
             ],
             [
              0.4444444444444444,
              "#bd3786"
             ],
             [
              0.5555555555555556,
              "#d8576b"
             ],
             [
              0.6666666666666666,
              "#ed7953"
             ],
             [
              0.7777777777777778,
              "#fb9f3a"
             ],
             [
              0.8888888888888888,
              "#fdca26"
             ],
             [
              1,
              "#f0f921"
             ]
            ],
            "type": "histogram2dcontour"
           }
          ],
          "mesh3d": [
           {
            "colorbar": {
             "outlinewidth": 0,
             "ticks": ""
            },
            "type": "mesh3d"
           }
          ],
          "parcoords": [
           {
            "line": {
             "colorbar": {
              "outlinewidth": 0,
              "ticks": ""
             }
            },
            "type": "parcoords"
           }
          ],
          "scatter": [
           {
            "marker": {
             "colorbar": {
              "outlinewidth": 0,
              "ticks": ""
             }
            },
            "type": "scatter"
           }
          ],
          "scatter3d": [
           {
            "line": {
             "colorbar": {
              "outlinewidth": 0,
              "ticks": ""
             }
            },
            "marker": {
             "colorbar": {
              "outlinewidth": 0,
              "ticks": ""
             }
            },
            "type": "scatter3d"
           }
          ],
          "scattercarpet": [
           {
            "marker": {
             "colorbar": {
              "outlinewidth": 0,
              "ticks": ""
             }
            },
            "type": "scattercarpet"
           }
          ],
          "scattergeo": [
           {
            "marker": {
             "colorbar": {
              "outlinewidth": 0,
              "ticks": ""
             }
            },
            "type": "scattergeo"
           }
          ],
          "scattergl": [
           {
            "marker": {
             "colorbar": {
              "outlinewidth": 0,
              "ticks": ""
             }
            },
            "type": "scattergl"
           }
          ],
          "scattermapbox": [
           {
            "marker": {
             "colorbar": {
              "outlinewidth": 0,
              "ticks": ""
             }
            },
            "type": "scattermapbox"
           }
          ],
          "scatterpolar": [
           {
            "marker": {
             "colorbar": {
              "outlinewidth": 0,
              "ticks": ""
             }
            },
            "type": "scatterpolar"
           }
          ],
          "scatterpolargl": [
           {
            "marker": {
             "colorbar": {
              "outlinewidth": 0,
              "ticks": ""
             }
            },
            "type": "scatterpolargl"
           }
          ],
          "scatterternary": [
           {
            "marker": {
             "colorbar": {
              "outlinewidth": 0,
              "ticks": ""
             }
            },
            "type": "scatterternary"
           }
          ],
          "surface": [
           {
            "colorbar": {
             "outlinewidth": 0,
             "ticks": ""
            },
            "colorscale": [
             [
              0,
              "#0d0887"
             ],
             [
              0.1111111111111111,
              "#46039f"
             ],
             [
              0.2222222222222222,
              "#7201a8"
             ],
             [
              0.3333333333333333,
              "#9c179e"
             ],
             [
              0.4444444444444444,
              "#bd3786"
             ],
             [
              0.5555555555555556,
              "#d8576b"
             ],
             [
              0.6666666666666666,
              "#ed7953"
             ],
             [
              0.7777777777777778,
              "#fb9f3a"
             ],
             [
              0.8888888888888888,
              "#fdca26"
             ],
             [
              1,
              "#f0f921"
             ]
            ],
            "type": "surface"
           }
          ],
          "table": [
           {
            "cells": {
             "fill": {
              "color": "#EBF0F8"
             },
             "line": {
              "color": "white"
             }
            },
            "header": {
             "fill": {
              "color": "#C8D4E3"
             },
             "line": {
              "color": "white"
             }
            },
            "type": "table"
           }
          ]
         },
         "layout": {
          "annotationdefaults": {
           "arrowcolor": "#2a3f5f",
           "arrowhead": 0,
           "arrowwidth": 1
          },
          "colorscale": {
           "diverging": [
            [
             0,
             "#8e0152"
            ],
            [
             0.1,
             "#c51b7d"
            ],
            [
             0.2,
             "#de77ae"
            ],
            [
             0.3,
             "#f1b6da"
            ],
            [
             0.4,
             "#fde0ef"
            ],
            [
             0.5,
             "#f7f7f7"
            ],
            [
             0.6,
             "#e6f5d0"
            ],
            [
             0.7,
             "#b8e186"
            ],
            [
             0.8,
             "#7fbc41"
            ],
            [
             0.9,
             "#4d9221"
            ],
            [
             1,
             "#276419"
            ]
           ],
           "sequential": [
            [
             0,
             "#0d0887"
            ],
            [
             0.1111111111111111,
             "#46039f"
            ],
            [
             0.2222222222222222,
             "#7201a8"
            ],
            [
             0.3333333333333333,
             "#9c179e"
            ],
            [
             0.4444444444444444,
             "#bd3786"
            ],
            [
             0.5555555555555556,
             "#d8576b"
            ],
            [
             0.6666666666666666,
             "#ed7953"
            ],
            [
             0.7777777777777778,
             "#fb9f3a"
            ],
            [
             0.8888888888888888,
             "#fdca26"
            ],
            [
             1,
             "#f0f921"
            ]
           ],
           "sequentialminus": [
            [
             0,
             "#0d0887"
            ],
            [
             0.1111111111111111,
             "#46039f"
            ],
            [
             0.2222222222222222,
             "#7201a8"
            ],
            [
             0.3333333333333333,
             "#9c179e"
            ],
            [
             0.4444444444444444,
             "#bd3786"
            ],
            [
             0.5555555555555556,
             "#d8576b"
            ],
            [
             0.6666666666666666,
             "#ed7953"
            ],
            [
             0.7777777777777778,
             "#fb9f3a"
            ],
            [
             0.8888888888888888,
             "#fdca26"
            ],
            [
             1,
             "#f0f921"
            ]
           ]
          },
          "colorway": [
           "#636efa",
           "#EF553B",
           "#00cc96",
           "#ab63fa",
           "#FFA15A",
           "#19d3f3",
           "#FF6692",
           "#B6E880",
           "#FF97FF",
           "#FECB52"
          ],
          "font": {
           "color": "#2a3f5f"
          },
          "geo": {
           "bgcolor": "white",
           "lakecolor": "white",
           "landcolor": "#E5ECF6",
           "showlakes": true,
           "showland": true,
           "subunitcolor": "white"
          },
          "hoverlabel": {
           "align": "left"
          },
          "hovermode": "closest",
          "mapbox": {
           "style": "light"
          },
          "paper_bgcolor": "white",
          "plot_bgcolor": "#E5ECF6",
          "polar": {
           "angularaxis": {
            "gridcolor": "white",
            "linecolor": "white",
            "ticks": ""
           },
           "bgcolor": "#E5ECF6",
           "radialaxis": {
            "gridcolor": "white",
            "linecolor": "white",
            "ticks": ""
           }
          },
          "scene": {
           "xaxis": {
            "backgroundcolor": "#E5ECF6",
            "gridcolor": "white",
            "gridwidth": 2,
            "linecolor": "white",
            "showbackground": true,
            "ticks": "",
            "zerolinecolor": "white"
           },
           "yaxis": {
            "backgroundcolor": "#E5ECF6",
            "gridcolor": "white",
            "gridwidth": 2,
            "linecolor": "white",
            "showbackground": true,
            "ticks": "",
            "zerolinecolor": "white"
           },
           "zaxis": {
            "backgroundcolor": "#E5ECF6",
            "gridcolor": "white",
            "gridwidth": 2,
            "linecolor": "white",
            "showbackground": true,
            "ticks": "",
            "zerolinecolor": "white"
           }
          },
          "shapedefaults": {
           "line": {
            "color": "#2a3f5f"
           }
          },
          "ternary": {
           "aaxis": {
            "gridcolor": "white",
            "linecolor": "white",
            "ticks": ""
           },
           "baxis": {
            "gridcolor": "white",
            "linecolor": "white",
            "ticks": ""
           },
           "bgcolor": "#E5ECF6",
           "caxis": {
            "gridcolor": "white",
            "linecolor": "white",
            "ticks": ""
           }
          },
          "title": {
           "x": 0.05
          },
          "xaxis": {
           "automargin": true,
           "gridcolor": "white",
           "linecolor": "white",
           "ticks": "",
           "zerolinecolor": "white",
           "zerolinewidth": 2
          },
          "yaxis": {
           "automargin": true,
           "gridcolor": "white",
           "linecolor": "white",
           "ticks": "",
           "zerolinecolor": "white",
           "zerolinewidth": 2
          }
         }
        }
       }
      },
      "text/html": [
       "<div>\n",
       "        \n",
       "        \n",
       "            <div id=\"ffabfb3d-a3fb-49dd-8b0b-4243dbbc1bf1\" class=\"plotly-graph-div\" style=\"height:600px; width:100%;\"></div>\n",
       "            <script type=\"text/javascript\">\n",
       "                require([\"plotly\"], function(Plotly) {\n",
       "                    window.PLOTLYENV=window.PLOTLYENV || {};\n",
       "                    \n",
       "                if (document.getElementById(\"ffabfb3d-a3fb-49dd-8b0b-4243dbbc1bf1\")) {\n",
       "                    Plotly.newPlot(\n",
       "                        'ffabfb3d-a3fb-49dd-8b0b-4243dbbc1bf1',\n",
       "                        [{\"hoverlabel\": {\"namelength\": 0}, \"hovertemplate\": \"PostOp-CNL=%{x}<br>PreOp-CNL=%{y}<br>PreOp-SNL=%{z}<br>ImplantLeft=%{marker.color}\", \"legendgroup\": \"\", \"marker\": {\"color\": [275, 275, 275, 275, 300, 300, 300, 300, 300, 325, 325, 325, 325, 325, 325, 325, 325, 325, 325, 325, 325, 325, 350, 350, 350, 350, 350, 350, 350, 350, 350, 350, 350, 350, 350, 350, 375, 375, 375, 375, 375, 400, 275, 325, 300, 325, 350, 450, 350, 350, 325, 325, 275, 275, 275, 375, 350, 375, 275, 400, 350, 350, 300, 350, 350, 375, 300, 275, 375, 250, 275, 300, 400, 375, 375, 325, 375, 325, 325, 375, 300, 250, 375, 250, 300, 325, 325, 325, 350, 375, 325, 325, 350, 350, 400, 325, 375, 325, 325, 375, 375, 325, 325, 345, 325, 300, 330, 325, 275, 275, 350, 325, 375, 250, 375, 350, 300, 300, 325, 325, 275, 350, 325, 350, 250, 325, 300, 350, 300, 325, 325, 275, 325, 375, 225, 350, 250, 375, 325, 350, 275, 300, 350, 275], \"coloraxis\": \"coloraxis\", \"symbol\": \"circle\"}, \"mode\": \"markers\", \"name\": \"\", \"scene\": \"scene\", \"showlegend\": false, \"type\": \"scatter3d\", \"x\": [14.5, 18.0, 15.0, 16.5, 17.0, 16.5, 15.0, 16.5, 17.0, 16.0, 17.5, 18.5, 16.5, 15.5, 17.0, 16.5, 16.0, 17.0, 16.0, 18.0, 15.0, 16.5, 20.0, 15.5, 17.5, 16.0, 16.5, 18.0, 14.0, 16.5, 16.5, 18.5, 18.0, 20.0, 19.5, 18.0, 15.0, 17.0, 20.0, 15.5, 18.0, 19.0, 18.5, 19.0, 18.5, 14.0, 19.0, 18.0, 17.5, 16.5, 18.0, 18.5, 16.5, 16.5, 16.0, 15.5, 14.5, 18.5, 16.0, 17.0, 15.5, 17.5, 18.5, 18.5, 18.0, 17.0, 16.5, 17.5, 20.0, 15.0, 16.5, 18.5, 17.5, 18.5, 19.0, 16.5, 16.0, 18.0, 18.0, 16.5, 20.0, 18.0, 16.5, 17.0, 14.0, 17.0, 19.5, 17.5, 15.5, 18.0, 19.0, 18.5, 15.0, 17.0, 20.0, 16.0, 19.0, 17.0, 18.0, 16.5, 18.0, 16.5, 18.0, 22.0, 17.0, 17.0, 17.5, 17.5, 15.0, 19.0, 18.0, 17.5, 21.0, 16.5, 17.0, 17.5, 17.5, 16.5, 18.0, 18.5, 17.0, 20.5, 16.0, 19.5, 16.5, 17.0, 16.0, 20.0, 17.0, 21.0, 18.0, 16.5, 18.5, 18.0, 17.0, 19.5, 16.5, 20.0, 17.0, 21.0, 17.5, 16.0, 16.0, 20.0], \"y\": [13.5, 17.5, 13.5, 14.5, 16.5, 16.0, 14.0, 14.5, 15.0, 15.5, 16.5, 17.5, 15.0, 15.0, 16.0, 15.0, 14.0, 15.5, 15.0, 17.0, 12.5, 15.0, 18.0, 13.5, 15.0, 14.0, 16.5, 16.5, 13.0, 15.0, 14.5, 16.5, 16.0, 17.5, 18.0, 15.5, 13.0, 16.5, 19.0, 13.5, 16.0, 18.5, 17.0, 18.5, 16.5, 13.5, 18.0, 18.0, 15.5, 16.0, 15.5, 17.5, 16.0, 14.0, 14.5, 14.5, 13.0, 17.0, 14.5, 15.5, 14.0, 16.0, 17.0, 17.0, 15.0, 15.5, 15.5, 16.0, 18.0, 14.0, 15.5, 16.5, 16.0, 17.0, 17.5, 14.5, 15.0, 17.0, 15.5, 15.5, 18.5, 16.5, 15.5, 15.5, 13.0, 15.5, 18.0, 15.0, 14.5, 16.0, 16.5, 17.0, 14.5, 15.0, 19.5, 15.0, 19.0, 15.0, 16.0, 14.5, 17.0, 15.5, 15.5, 20.5, 16.0, 17.0, 17.0, 15.0, 14.5, 16.5, 16.0, 16.5, 20.5, 15.3, 15.5, 17.0, 16.0, 16.0, 17.5, 16.0, 15.5, 19.0, 14.0, 17.0, 15.0, 15.5, 14.0, 18.0, 14.5, 19.5, 16.5, 16.0, 16.5, 16.0, 15.5, 18.5, 14.5, 19.0, 14.5, 19.0, 16.0, 14.0, 14.0, 18.0], \"z\": [15.0, 18.5, 16.0, 16.0, 17.5, 17.0, 15.5, 17.0, 17.0, 16.5, 18.5, 19.0, 16.5, 16.5, 17.5, 16.5, 16.5, 17.5, 16.5, 18.5, 15.0, 16.5, 19.5, 16.0, 17.5, 16.0, 18.5, 18.5, 14.5, 16.0, 16.5, 18.0, 18.0, 19.0, 19.5, 17.5, 15.0, 18.5, 20.5, 15.0, 18.0, 20.0, 18.5, 19.0, 18.5, 15.0, 20.0, 20.0, 16.5, 16.5, 18.0, 19.0, 17.5, 16.5, 16.0, 15.5, 14.5, 19.0, 17.0, 18.0, 15.5, 18.0, 19.0, 17.5, 16.0, 17.0, 17.0, 17.5, 19.5, 16.5, 17.5, 18.5, 18.0, 19.0, 19.0, 16.5, 17.0, 18.5, 17.5, 17.0, 20.0, 18.5, 17.0, 17.0, 15.0, 17.5, 19.5, 17.0, 16.5, 18.0, 18.0, 18.3, 16.5, 17.0, 20.5, 17.0, 20.5, 16.5, 17.5, 16.5, 19.0, 17.5, 17.5, 21.5, 17.5, 18.5, 18.5, 17.0, 16.5, 18.5, 18.5, 18.0, 22.0, 17.0, 17.0, 18.5, 17.5, 17.5, 18.5, 18.0, 17.0, 20.0, 16.0, 19.0, 16.5, 17.0, 15.5, 20.5, 16.5, 21.0, 18.0, 18.0, 18.5, 18.0, 17.0, 20.0, 16.0, 20.5, 16.5, 21.0, 18.0, 16.0, 16.0, 20.0]}],\n",
       "                        {\"coloraxis\": {\"colorbar\": {\"title\": {\"text\": \"ImplantLeft\"}}, \"colorscale\": [[0.0, \"#0d0887\"], [0.1111111111111111, \"#46039f\"], [0.2222222222222222, \"#7201a8\"], [0.3333333333333333, \"#9c179e\"], [0.4444444444444444, \"#bd3786\"], [0.5555555555555556, \"#d8576b\"], [0.6666666666666666, \"#ed7953\"], [0.7777777777777778, \"#fb9f3a\"], [0.8888888888888888, \"#fdca26\"], [1.0, \"#f0f921\"]]}, \"height\": 600, \"legend\": {\"tracegroupgap\": 0}, \"margin\": {\"t\": 60}, \"scene\": {\"domain\": {\"x\": [0.0, 0.98], \"y\": [0.0, 1.0]}, \"xaxis\": {\"title\": {\"text\": \"PostOp-CNL\"}}, \"yaxis\": {\"title\": {\"text\": \"PreOp-CNL\"}}, \"zaxis\": {\"title\": {\"text\": \"PreOp-SNL\"}}}, \"template\": {\"data\": {\"bar\": [{\"error_x\": {\"color\": \"#2a3f5f\"}, \"error_y\": {\"color\": \"#2a3f5f\"}, \"marker\": {\"line\": {\"color\": \"#E5ECF6\", \"width\": 0.5}}, \"type\": \"bar\"}], \"barpolar\": [{\"marker\": {\"line\": {\"color\": \"#E5ECF6\", \"width\": 0.5}}, \"type\": \"barpolar\"}], \"carpet\": [{\"aaxis\": {\"endlinecolor\": \"#2a3f5f\", \"gridcolor\": \"white\", \"linecolor\": \"white\", \"minorgridcolor\": \"white\", \"startlinecolor\": \"#2a3f5f\"}, \"baxis\": {\"endlinecolor\": \"#2a3f5f\", \"gridcolor\": \"white\", \"linecolor\": \"white\", \"minorgridcolor\": \"white\", \"startlinecolor\": \"#2a3f5f\"}, \"type\": \"carpet\"}], \"choropleth\": [{\"colorbar\": {\"outlinewidth\": 0, \"ticks\": \"\"}, \"type\": \"choropleth\"}], \"contour\": [{\"colorbar\": {\"outlinewidth\": 0, \"ticks\": \"\"}, \"colorscale\": [[0.0, \"#0d0887\"], [0.1111111111111111, \"#46039f\"], [0.2222222222222222, \"#7201a8\"], [0.3333333333333333, \"#9c179e\"], [0.4444444444444444, \"#bd3786\"], [0.5555555555555556, \"#d8576b\"], [0.6666666666666666, \"#ed7953\"], [0.7777777777777778, \"#fb9f3a\"], [0.8888888888888888, \"#fdca26\"], [1.0, \"#f0f921\"]], \"type\": \"contour\"}], \"contourcarpet\": [{\"colorbar\": {\"outlinewidth\": 0, \"ticks\": \"\"}, \"type\": \"contourcarpet\"}], \"heatmap\": [{\"colorbar\": {\"outlinewidth\": 0, \"ticks\": \"\"}, \"colorscale\": [[0.0, \"#0d0887\"], [0.1111111111111111, \"#46039f\"], [0.2222222222222222, \"#7201a8\"], [0.3333333333333333, \"#9c179e\"], [0.4444444444444444, \"#bd3786\"], [0.5555555555555556, \"#d8576b\"], [0.6666666666666666, \"#ed7953\"], [0.7777777777777778, \"#fb9f3a\"], [0.8888888888888888, \"#fdca26\"], [1.0, \"#f0f921\"]], \"type\": \"heatmap\"}], \"heatmapgl\": [{\"colorbar\": {\"outlinewidth\": 0, \"ticks\": \"\"}, \"colorscale\": [[0.0, \"#0d0887\"], [0.1111111111111111, \"#46039f\"], [0.2222222222222222, \"#7201a8\"], [0.3333333333333333, \"#9c179e\"], [0.4444444444444444, \"#bd3786\"], [0.5555555555555556, \"#d8576b\"], [0.6666666666666666, \"#ed7953\"], [0.7777777777777778, \"#fb9f3a\"], [0.8888888888888888, \"#fdca26\"], [1.0, \"#f0f921\"]], \"type\": \"heatmapgl\"}], \"histogram\": [{\"marker\": {\"colorbar\": {\"outlinewidth\": 0, \"ticks\": \"\"}}, \"type\": \"histogram\"}], \"histogram2d\": [{\"colorbar\": {\"outlinewidth\": 0, \"ticks\": \"\"}, \"colorscale\": [[0.0, \"#0d0887\"], [0.1111111111111111, \"#46039f\"], [0.2222222222222222, \"#7201a8\"], [0.3333333333333333, \"#9c179e\"], [0.4444444444444444, \"#bd3786\"], [0.5555555555555556, \"#d8576b\"], [0.6666666666666666, \"#ed7953\"], [0.7777777777777778, \"#fb9f3a\"], [0.8888888888888888, \"#fdca26\"], [1.0, \"#f0f921\"]], \"type\": \"histogram2d\"}], \"histogram2dcontour\": [{\"colorbar\": {\"outlinewidth\": 0, \"ticks\": \"\"}, \"colorscale\": [[0.0, \"#0d0887\"], [0.1111111111111111, \"#46039f\"], [0.2222222222222222, \"#7201a8\"], [0.3333333333333333, \"#9c179e\"], [0.4444444444444444, \"#bd3786\"], [0.5555555555555556, \"#d8576b\"], [0.6666666666666666, \"#ed7953\"], [0.7777777777777778, \"#fb9f3a\"], [0.8888888888888888, \"#fdca26\"], [1.0, \"#f0f921\"]], \"type\": \"histogram2dcontour\"}], \"mesh3d\": [{\"colorbar\": {\"outlinewidth\": 0, \"ticks\": \"\"}, \"type\": \"mesh3d\"}], \"parcoords\": [{\"line\": {\"colorbar\": {\"outlinewidth\": 0, \"ticks\": \"\"}}, \"type\": \"parcoords\"}], \"scatter\": [{\"marker\": {\"colorbar\": {\"outlinewidth\": 0, \"ticks\": \"\"}}, \"type\": \"scatter\"}], \"scatter3d\": [{\"line\": {\"colorbar\": {\"outlinewidth\": 0, \"ticks\": \"\"}}, \"marker\": {\"colorbar\": {\"outlinewidth\": 0, \"ticks\": \"\"}}, \"type\": \"scatter3d\"}], \"scattercarpet\": [{\"marker\": {\"colorbar\": {\"outlinewidth\": 0, \"ticks\": \"\"}}, \"type\": \"scattercarpet\"}], \"scattergeo\": [{\"marker\": {\"colorbar\": {\"outlinewidth\": 0, \"ticks\": \"\"}}, \"type\": \"scattergeo\"}], \"scattergl\": [{\"marker\": {\"colorbar\": {\"outlinewidth\": 0, \"ticks\": \"\"}}, \"type\": \"scattergl\"}], \"scattermapbox\": [{\"marker\": {\"colorbar\": {\"outlinewidth\": 0, \"ticks\": \"\"}}, \"type\": \"scattermapbox\"}], \"scatterpolar\": [{\"marker\": {\"colorbar\": {\"outlinewidth\": 0, \"ticks\": \"\"}}, \"type\": \"scatterpolar\"}], \"scatterpolargl\": [{\"marker\": {\"colorbar\": {\"outlinewidth\": 0, \"ticks\": \"\"}}, \"type\": \"scatterpolargl\"}], \"scatterternary\": [{\"marker\": {\"colorbar\": {\"outlinewidth\": 0, \"ticks\": \"\"}}, \"type\": \"scatterternary\"}], \"surface\": [{\"colorbar\": {\"outlinewidth\": 0, \"ticks\": \"\"}, \"colorscale\": [[0.0, \"#0d0887\"], [0.1111111111111111, \"#46039f\"], [0.2222222222222222, \"#7201a8\"], [0.3333333333333333, \"#9c179e\"], [0.4444444444444444, \"#bd3786\"], [0.5555555555555556, \"#d8576b\"], [0.6666666666666666, \"#ed7953\"], [0.7777777777777778, \"#fb9f3a\"], [0.8888888888888888, \"#fdca26\"], [1.0, \"#f0f921\"]], \"type\": \"surface\"}], \"table\": [{\"cells\": {\"fill\": {\"color\": \"#EBF0F8\"}, \"line\": {\"color\": \"white\"}}, \"header\": {\"fill\": {\"color\": \"#C8D4E3\"}, \"line\": {\"color\": \"white\"}}, \"type\": \"table\"}]}, \"layout\": {\"annotationdefaults\": {\"arrowcolor\": \"#2a3f5f\", \"arrowhead\": 0, \"arrowwidth\": 1}, \"colorscale\": {\"diverging\": [[0, \"#8e0152\"], [0.1, \"#c51b7d\"], [0.2, \"#de77ae\"], [0.3, \"#f1b6da\"], [0.4, \"#fde0ef\"], [0.5, \"#f7f7f7\"], [0.6, \"#e6f5d0\"], [0.7, \"#b8e186\"], [0.8, \"#7fbc41\"], [0.9, \"#4d9221\"], [1, \"#276419\"]], \"sequential\": [[0.0, \"#0d0887\"], [0.1111111111111111, \"#46039f\"], [0.2222222222222222, \"#7201a8\"], [0.3333333333333333, \"#9c179e\"], [0.4444444444444444, \"#bd3786\"], [0.5555555555555556, \"#d8576b\"], [0.6666666666666666, \"#ed7953\"], [0.7777777777777778, \"#fb9f3a\"], [0.8888888888888888, \"#fdca26\"], [1.0, \"#f0f921\"]], \"sequentialminus\": [[0.0, \"#0d0887\"], [0.1111111111111111, \"#46039f\"], [0.2222222222222222, \"#7201a8\"], [0.3333333333333333, \"#9c179e\"], [0.4444444444444444, \"#bd3786\"], [0.5555555555555556, \"#d8576b\"], [0.6666666666666666, \"#ed7953\"], [0.7777777777777778, \"#fb9f3a\"], [0.8888888888888888, \"#fdca26\"], [1.0, \"#f0f921\"]]}, \"colorway\": [\"#636efa\", \"#EF553B\", \"#00cc96\", \"#ab63fa\", \"#FFA15A\", \"#19d3f3\", \"#FF6692\", \"#B6E880\", \"#FF97FF\", \"#FECB52\"], \"font\": {\"color\": \"#2a3f5f\"}, \"geo\": {\"bgcolor\": \"white\", \"lakecolor\": \"white\", \"landcolor\": \"#E5ECF6\", \"showlakes\": true, \"showland\": true, \"subunitcolor\": \"white\"}, \"hoverlabel\": {\"align\": \"left\"}, \"hovermode\": \"closest\", \"mapbox\": {\"style\": \"light\"}, \"paper_bgcolor\": \"white\", \"plot_bgcolor\": \"#E5ECF6\", \"polar\": {\"angularaxis\": {\"gridcolor\": \"white\", \"linecolor\": \"white\", \"ticks\": \"\"}, \"bgcolor\": \"#E5ECF6\", \"radialaxis\": {\"gridcolor\": \"white\", \"linecolor\": \"white\", \"ticks\": \"\"}}, \"scene\": {\"xaxis\": {\"backgroundcolor\": \"#E5ECF6\", \"gridcolor\": \"white\", \"gridwidth\": 2, \"linecolor\": \"white\", \"showbackground\": true, \"ticks\": \"\", \"zerolinecolor\": \"white\"}, \"yaxis\": {\"backgroundcolor\": \"#E5ECF6\", \"gridcolor\": \"white\", \"gridwidth\": 2, \"linecolor\": \"white\", \"showbackground\": true, \"ticks\": \"\", \"zerolinecolor\": \"white\"}, \"zaxis\": {\"backgroundcolor\": \"#E5ECF6\", \"gridcolor\": \"white\", \"gridwidth\": 2, \"linecolor\": \"white\", \"showbackground\": true, \"ticks\": \"\", \"zerolinecolor\": \"white\"}}, \"shapedefaults\": {\"line\": {\"color\": \"#2a3f5f\"}}, \"ternary\": {\"aaxis\": {\"gridcolor\": \"white\", \"linecolor\": \"white\", \"ticks\": \"\"}, \"baxis\": {\"gridcolor\": \"white\", \"linecolor\": \"white\", \"ticks\": \"\"}, \"bgcolor\": \"#E5ECF6\", \"caxis\": {\"gridcolor\": \"white\", \"linecolor\": \"white\", \"ticks\": \"\"}}, \"title\": {\"x\": 0.05}, \"xaxis\": {\"automargin\": true, \"gridcolor\": \"white\", \"linecolor\": \"white\", \"ticks\": \"\", \"zerolinecolor\": \"white\", \"zerolinewidth\": 2}, \"yaxis\": {\"automargin\": true, \"gridcolor\": \"white\", \"linecolor\": \"white\", \"ticks\": \"\", \"zerolinecolor\": \"white\", \"zerolinewidth\": 2}}}},\n",
       "                        {\"responsive\": true}\n",
       "                    ).then(function(){\n",
       "                            \n",
       "var gd = document.getElementById('ffabfb3d-a3fb-49dd-8b0b-4243dbbc1bf1');\n",
       "var x = new MutationObserver(function (mutations, observer) {{\n",
       "        var display = window.getComputedStyle(gd).display;\n",
       "        if (!display || display === 'none') {{\n",
       "            console.log([gd, 'removed!']);\n",
       "            Plotly.purge(gd);\n",
       "            observer.disconnect();\n",
       "        }}\n",
       "}});\n",
       "\n",
       "// Listen for the removal of the full notebook cells\n",
       "var notebookContainer = gd.closest('#notebook-container');\n",
       "if (notebookContainer) {{\n",
       "    x.observe(notebookContainer, {childList: true});\n",
       "}}\n",
       "\n",
       "// Listen for the clearing of the current output cell\n",
       "var outputEl = gd.closest('.output');\n",
       "if (outputEl) {{\n",
       "    x.observe(outputEl, {childList: true});\n",
       "}}\n",
       "\n",
       "                        })\n",
       "                };\n",
       "                });\n",
       "            </script>\n",
       "        </div>"
      ]
     },
     "metadata": {},
     "output_type": "display_data"
    }
   ],
   "source": [
    "fig = px.scatter_3d(df, x='PostOp-CNL', y='PreOp-CNL', z='PreOp-SNL', color='ImplantLeft')\n",
    "fig.show()"
   ]
  },
  {
   "cell_type": "code",
   "execution_count": 43,
   "metadata": {},
   "outputs": [
    {
     "data": {
      "application/vnd.plotly.v1+json": {
       "config": {
        "plotlyServerURL": "https://plot.ly"
       },
       "data": [
        {
         "hoverlabel": {
          "namelength": 0
         },
         "hovertemplate": "PostOp-CNL=%{x}<br>PreOp-CNL=%{y}<br>PreOp-BWL=%{z}<br>ImplantLeft=%{marker.color}",
         "legendgroup": "",
         "marker": {
          "color": [
           275,
           275,
           275,
           275,
           300,
           300,
           300,
           300,
           300,
           325,
           325,
           325,
           325,
           325,
           325,
           325,
           325,
           325,
           325,
           325,
           325,
           325,
           350,
           350,
           350,
           350,
           350,
           350,
           350,
           350,
           350,
           350,
           350,
           350,
           350,
           350,
           375,
           375,
           375,
           375,
           375,
           400,
           275,
           325,
           300,
           325,
           350,
           450,
           350,
           350,
           325,
           325,
           275,
           275,
           275,
           375,
           350,
           375,
           275,
           400,
           350,
           350,
           300,
           350,
           350,
           375,
           300,
           275,
           375,
           250,
           275,
           300,
           400,
           375,
           375,
           325,
           375,
           325,
           325,
           375,
           300,
           250,
           375,
           250,
           300,
           325,
           325,
           325,
           350,
           375,
           325,
           325,
           350,
           350,
           400,
           325,
           375,
           325,
           325,
           375,
           375,
           325,
           325,
           345,
           325,
           300,
           330,
           325,
           275,
           275,
           350,
           325,
           375,
           250,
           375,
           350,
           300,
           300,
           325,
           325,
           275,
           350,
           325,
           350,
           250,
           325,
           300,
           350,
           300,
           325,
           325,
           275,
           325,
           375,
           225,
           350,
           250,
           375,
           325,
           350,
           275,
           300,
           350,
           275
          ],
          "coloraxis": "coloraxis",
          "symbol": "circle"
         },
         "mode": "markers",
         "name": "",
         "scene": "scene",
         "showlegend": false,
         "type": "scatter3d",
         "x": [
          14.5,
          18,
          15,
          16.5,
          17,
          16.5,
          15,
          16.5,
          17,
          16,
          17.5,
          18.5,
          16.5,
          15.5,
          17,
          16.5,
          16,
          17,
          16,
          18,
          15,
          16.5,
          20,
          15.5,
          17.5,
          16,
          16.5,
          18,
          14,
          16.5,
          16.5,
          18.5,
          18,
          20,
          19.5,
          18,
          15,
          17,
          20,
          15.5,
          18,
          19,
          18.5,
          19,
          18.5,
          14,
          19,
          18,
          17.5,
          16.5,
          18,
          18.5,
          16.5,
          16.5,
          16,
          15.5,
          14.5,
          18.5,
          16,
          17,
          15.5,
          17.5,
          18.5,
          18.5,
          18,
          17,
          16.5,
          17.5,
          20,
          15,
          16.5,
          18.5,
          17.5,
          18.5,
          19,
          16.5,
          16,
          18,
          18,
          16.5,
          20,
          18,
          16.5,
          17,
          14,
          17,
          19.5,
          17.5,
          15.5,
          18,
          19,
          18.5,
          15,
          17,
          20,
          16,
          19,
          17,
          18,
          16.5,
          18,
          16.5,
          18,
          22,
          17,
          17,
          17.5,
          17.5,
          15,
          19,
          18,
          17.5,
          21,
          16.5,
          17,
          17.5,
          17.5,
          16.5,
          18,
          18.5,
          17,
          20.5,
          16,
          19.5,
          16.5,
          17,
          16,
          20,
          17,
          21,
          18,
          16.5,
          18.5,
          18,
          17,
          19.5,
          16.5,
          20,
          17,
          21,
          17.5,
          16,
          16,
          20
         ],
         "y": [
          13.5,
          17.5,
          13.5,
          14.5,
          16.5,
          16,
          14,
          14.5,
          15,
          15.5,
          16.5,
          17.5,
          15,
          15,
          16,
          15,
          14,
          15.5,
          15,
          17,
          12.5,
          15,
          18,
          13.5,
          15,
          14,
          16.5,
          16.5,
          13,
          15,
          14.5,
          16.5,
          16,
          17.5,
          18,
          15.5,
          13,
          16.5,
          19,
          13.5,
          16,
          18.5,
          17,
          18.5,
          16.5,
          13.5,
          18,
          18,
          15.5,
          16,
          15.5,
          17.5,
          16,
          14,
          14.5,
          14.5,
          13,
          17,
          14.5,
          15.5,
          14,
          16,
          17,
          17,
          15,
          15.5,
          15.5,
          16,
          18,
          14,
          15.5,
          16.5,
          16,
          17,
          17.5,
          14.5,
          15,
          17,
          15.5,
          15.5,
          18.5,
          16.5,
          15.5,
          15.5,
          13,
          15.5,
          18,
          15,
          14.5,
          16,
          16.5,
          17,
          14.5,
          15,
          19.5,
          15,
          19,
          15,
          16,
          14.5,
          17,
          15.5,
          15.5,
          20.5,
          16,
          17,
          17,
          15,
          14.5,
          16.5,
          16,
          16.5,
          20.5,
          15.3,
          15.5,
          17,
          16,
          16,
          17.5,
          16,
          15.5,
          19,
          14,
          17,
          15,
          15.5,
          14,
          18,
          14.5,
          19.5,
          16.5,
          16,
          16.5,
          16,
          15.5,
          18.5,
          14.5,
          19,
          14.5,
          19,
          16,
          14,
          14,
          18
         ],
         "z": [
          12.4,
          12.6,
          12,
          13,
          12,
          13,
          12.4,
          12.8,
          13,
          12.8,
          13.2,
          13.2,
          12.6,
          13.1,
          12.5,
          12.7,
          12.5,
          13,
          12.9,
          12.4,
          12,
          13,
          13.9,
          13.5,
          12.7,
          13.1,
          12.5,
          13.3,
          12.7,
          12.7,
          12.6,
          13.2,
          12.5,
          13,
          13.7,
          13.6,
          12.6,
          12.1,
          13,
          13,
          13.2,
          13.5,
          12.8,
          13.2,
          13.2,
          12.6,
          13.5,
          14.3,
          12.5,
          12.3,
          13.3,
          13.1,
          12.6,
          12.4,
          13,
          12.3,
          12.5,
          13.8,
          11,
          13,
          12.8,
          13.1,
          12.5,
          13.1,
          13.1,
          13.1,
          12.8,
          13,
          13.2,
          13,
          12.6,
          12.9,
          13.7,
          13.4,
          13.5,
          12.5,
          13.1,
          13.4,
          13,
          12.8,
          13.5,
          12.7,
          12.6,
          13.1,
          12.2,
          13,
          13,
          13,
          13.2,
          13.2,
          12.9,
          13,
          12,
          13.2,
          13.3,
          12.5,
          13.8,
          11.3,
          13.1,
          13.2,
          13.5,
          12.8,
          12.8,
          13.6,
          13.2,
          13,
          13,
          13.7,
          12.3,
          13.1,
          13.5,
          12.9,
          14.3,
          11.9,
          13.1,
          13.5,
          12.4,
          12.6,
          12,
          13.2,
          12.2,
          13.3,
          12.2,
          13.4,
          12.3,
          12.6,
          12.4,
          13.7,
          12.5,
          13.3,
          12.9,
          13.7,
          13,
          13,
          12.5,
          12.5,
          12.2,
          13.4,
          12.5,
          13.9,
          12.7,
          12.7,
          12.3,
          13.4
         ]
        }
       ],
       "layout": {
        "coloraxis": {
         "colorbar": {
          "title": {
           "text": "ImplantLeft"
          }
         },
         "colorscale": [
          [
           0,
           "#0d0887"
          ],
          [
           0.1111111111111111,
           "#46039f"
          ],
          [
           0.2222222222222222,
           "#7201a8"
          ],
          [
           0.3333333333333333,
           "#9c179e"
          ],
          [
           0.4444444444444444,
           "#bd3786"
          ],
          [
           0.5555555555555556,
           "#d8576b"
          ],
          [
           0.6666666666666666,
           "#ed7953"
          ],
          [
           0.7777777777777778,
           "#fb9f3a"
          ],
          [
           0.8888888888888888,
           "#fdca26"
          ],
          [
           1,
           "#f0f921"
          ]
         ]
        },
        "height": 600,
        "legend": {
         "tracegroupgap": 0
        },
        "margin": {
         "t": 60
        },
        "scene": {
         "domain": {
          "x": [
           0,
           0.98
          ],
          "y": [
           0,
           1
          ]
         },
         "xaxis": {
          "title": {
           "text": "PostOp-CNL"
          }
         },
         "yaxis": {
          "title": {
           "text": "PreOp-CNL"
          }
         },
         "zaxis": {
          "title": {
           "text": "PreOp-BWL"
          }
         }
        },
        "template": {
         "data": {
          "bar": [
           {
            "error_x": {
             "color": "#2a3f5f"
            },
            "error_y": {
             "color": "#2a3f5f"
            },
            "marker": {
             "line": {
              "color": "#E5ECF6",
              "width": 0.5
             }
            },
            "type": "bar"
           }
          ],
          "barpolar": [
           {
            "marker": {
             "line": {
              "color": "#E5ECF6",
              "width": 0.5
             }
            },
            "type": "barpolar"
           }
          ],
          "carpet": [
           {
            "aaxis": {
             "endlinecolor": "#2a3f5f",
             "gridcolor": "white",
             "linecolor": "white",
             "minorgridcolor": "white",
             "startlinecolor": "#2a3f5f"
            },
            "baxis": {
             "endlinecolor": "#2a3f5f",
             "gridcolor": "white",
             "linecolor": "white",
             "minorgridcolor": "white",
             "startlinecolor": "#2a3f5f"
            },
            "type": "carpet"
           }
          ],
          "choropleth": [
           {
            "colorbar": {
             "outlinewidth": 0,
             "ticks": ""
            },
            "type": "choropleth"
           }
          ],
          "contour": [
           {
            "colorbar": {
             "outlinewidth": 0,
             "ticks": ""
            },
            "colorscale": [
             [
              0,
              "#0d0887"
             ],
             [
              0.1111111111111111,
              "#46039f"
             ],
             [
              0.2222222222222222,
              "#7201a8"
             ],
             [
              0.3333333333333333,
              "#9c179e"
             ],
             [
              0.4444444444444444,
              "#bd3786"
             ],
             [
              0.5555555555555556,
              "#d8576b"
             ],
             [
              0.6666666666666666,
              "#ed7953"
             ],
             [
              0.7777777777777778,
              "#fb9f3a"
             ],
             [
              0.8888888888888888,
              "#fdca26"
             ],
             [
              1,
              "#f0f921"
             ]
            ],
            "type": "contour"
           }
          ],
          "contourcarpet": [
           {
            "colorbar": {
             "outlinewidth": 0,
             "ticks": ""
            },
            "type": "contourcarpet"
           }
          ],
          "heatmap": [
           {
            "colorbar": {
             "outlinewidth": 0,
             "ticks": ""
            },
            "colorscale": [
             [
              0,
              "#0d0887"
             ],
             [
              0.1111111111111111,
              "#46039f"
             ],
             [
              0.2222222222222222,
              "#7201a8"
             ],
             [
              0.3333333333333333,
              "#9c179e"
             ],
             [
              0.4444444444444444,
              "#bd3786"
             ],
             [
              0.5555555555555556,
              "#d8576b"
             ],
             [
              0.6666666666666666,
              "#ed7953"
             ],
             [
              0.7777777777777778,
              "#fb9f3a"
             ],
             [
              0.8888888888888888,
              "#fdca26"
             ],
             [
              1,
              "#f0f921"
             ]
            ],
            "type": "heatmap"
           }
          ],
          "heatmapgl": [
           {
            "colorbar": {
             "outlinewidth": 0,
             "ticks": ""
            },
            "colorscale": [
             [
              0,
              "#0d0887"
             ],
             [
              0.1111111111111111,
              "#46039f"
             ],
             [
              0.2222222222222222,
              "#7201a8"
             ],
             [
              0.3333333333333333,
              "#9c179e"
             ],
             [
              0.4444444444444444,
              "#bd3786"
             ],
             [
              0.5555555555555556,
              "#d8576b"
             ],
             [
              0.6666666666666666,
              "#ed7953"
             ],
             [
              0.7777777777777778,
              "#fb9f3a"
             ],
             [
              0.8888888888888888,
              "#fdca26"
             ],
             [
              1,
              "#f0f921"
             ]
            ],
            "type": "heatmapgl"
           }
          ],
          "histogram": [
           {
            "marker": {
             "colorbar": {
              "outlinewidth": 0,
              "ticks": ""
             }
            },
            "type": "histogram"
           }
          ],
          "histogram2d": [
           {
            "colorbar": {
             "outlinewidth": 0,
             "ticks": ""
            },
            "colorscale": [
             [
              0,
              "#0d0887"
             ],
             [
              0.1111111111111111,
              "#46039f"
             ],
             [
              0.2222222222222222,
              "#7201a8"
             ],
             [
              0.3333333333333333,
              "#9c179e"
             ],
             [
              0.4444444444444444,
              "#bd3786"
             ],
             [
              0.5555555555555556,
              "#d8576b"
             ],
             [
              0.6666666666666666,
              "#ed7953"
             ],
             [
              0.7777777777777778,
              "#fb9f3a"
             ],
             [
              0.8888888888888888,
              "#fdca26"
             ],
             [
              1,
              "#f0f921"
             ]
            ],
            "type": "histogram2d"
           }
          ],
          "histogram2dcontour": [
           {
            "colorbar": {
             "outlinewidth": 0,
             "ticks": ""
            },
            "colorscale": [
             [
              0,
              "#0d0887"
             ],
             [
              0.1111111111111111,
              "#46039f"
             ],
             [
              0.2222222222222222,
              "#7201a8"
             ],
             [
              0.3333333333333333,
              "#9c179e"
             ],
             [
              0.4444444444444444,
              "#bd3786"
             ],
             [
              0.5555555555555556,
              "#d8576b"
             ],
             [
              0.6666666666666666,
              "#ed7953"
             ],
             [
              0.7777777777777778,
              "#fb9f3a"
             ],
             [
              0.8888888888888888,
              "#fdca26"
             ],
             [
              1,
              "#f0f921"
             ]
            ],
            "type": "histogram2dcontour"
           }
          ],
          "mesh3d": [
           {
            "colorbar": {
             "outlinewidth": 0,
             "ticks": ""
            },
            "type": "mesh3d"
           }
          ],
          "parcoords": [
           {
            "line": {
             "colorbar": {
              "outlinewidth": 0,
              "ticks": ""
             }
            },
            "type": "parcoords"
           }
          ],
          "scatter": [
           {
            "marker": {
             "colorbar": {
              "outlinewidth": 0,
              "ticks": ""
             }
            },
            "type": "scatter"
           }
          ],
          "scatter3d": [
           {
            "line": {
             "colorbar": {
              "outlinewidth": 0,
              "ticks": ""
             }
            },
            "marker": {
             "colorbar": {
              "outlinewidth": 0,
              "ticks": ""
             }
            },
            "type": "scatter3d"
           }
          ],
          "scattercarpet": [
           {
            "marker": {
             "colorbar": {
              "outlinewidth": 0,
              "ticks": ""
             }
            },
            "type": "scattercarpet"
           }
          ],
          "scattergeo": [
           {
            "marker": {
             "colorbar": {
              "outlinewidth": 0,
              "ticks": ""
             }
            },
            "type": "scattergeo"
           }
          ],
          "scattergl": [
           {
            "marker": {
             "colorbar": {
              "outlinewidth": 0,
              "ticks": ""
             }
            },
            "type": "scattergl"
           }
          ],
          "scattermapbox": [
           {
            "marker": {
             "colorbar": {
              "outlinewidth": 0,
              "ticks": ""
             }
            },
            "type": "scattermapbox"
           }
          ],
          "scatterpolar": [
           {
            "marker": {
             "colorbar": {
              "outlinewidth": 0,
              "ticks": ""
             }
            },
            "type": "scatterpolar"
           }
          ],
          "scatterpolargl": [
           {
            "marker": {
             "colorbar": {
              "outlinewidth": 0,
              "ticks": ""
             }
            },
            "type": "scatterpolargl"
           }
          ],
          "scatterternary": [
           {
            "marker": {
             "colorbar": {
              "outlinewidth": 0,
              "ticks": ""
             }
            },
            "type": "scatterternary"
           }
          ],
          "surface": [
           {
            "colorbar": {
             "outlinewidth": 0,
             "ticks": ""
            },
            "colorscale": [
             [
              0,
              "#0d0887"
             ],
             [
              0.1111111111111111,
              "#46039f"
             ],
             [
              0.2222222222222222,
              "#7201a8"
             ],
             [
              0.3333333333333333,
              "#9c179e"
             ],
             [
              0.4444444444444444,
              "#bd3786"
             ],
             [
              0.5555555555555556,
              "#d8576b"
             ],
             [
              0.6666666666666666,
              "#ed7953"
             ],
             [
              0.7777777777777778,
              "#fb9f3a"
             ],
             [
              0.8888888888888888,
              "#fdca26"
             ],
             [
              1,
              "#f0f921"
             ]
            ],
            "type": "surface"
           }
          ],
          "table": [
           {
            "cells": {
             "fill": {
              "color": "#EBF0F8"
             },
             "line": {
              "color": "white"
             }
            },
            "header": {
             "fill": {
              "color": "#C8D4E3"
             },
             "line": {
              "color": "white"
             }
            },
            "type": "table"
           }
          ]
         },
         "layout": {
          "annotationdefaults": {
           "arrowcolor": "#2a3f5f",
           "arrowhead": 0,
           "arrowwidth": 1
          },
          "colorscale": {
           "diverging": [
            [
             0,
             "#8e0152"
            ],
            [
             0.1,
             "#c51b7d"
            ],
            [
             0.2,
             "#de77ae"
            ],
            [
             0.3,
             "#f1b6da"
            ],
            [
             0.4,
             "#fde0ef"
            ],
            [
             0.5,
             "#f7f7f7"
            ],
            [
             0.6,
             "#e6f5d0"
            ],
            [
             0.7,
             "#b8e186"
            ],
            [
             0.8,
             "#7fbc41"
            ],
            [
             0.9,
             "#4d9221"
            ],
            [
             1,
             "#276419"
            ]
           ],
           "sequential": [
            [
             0,
             "#0d0887"
            ],
            [
             0.1111111111111111,
             "#46039f"
            ],
            [
             0.2222222222222222,
             "#7201a8"
            ],
            [
             0.3333333333333333,
             "#9c179e"
            ],
            [
             0.4444444444444444,
             "#bd3786"
            ],
            [
             0.5555555555555556,
             "#d8576b"
            ],
            [
             0.6666666666666666,
             "#ed7953"
            ],
            [
             0.7777777777777778,
             "#fb9f3a"
            ],
            [
             0.8888888888888888,
             "#fdca26"
            ],
            [
             1,
             "#f0f921"
            ]
           ],
           "sequentialminus": [
            [
             0,
             "#0d0887"
            ],
            [
             0.1111111111111111,
             "#46039f"
            ],
            [
             0.2222222222222222,
             "#7201a8"
            ],
            [
             0.3333333333333333,
             "#9c179e"
            ],
            [
             0.4444444444444444,
             "#bd3786"
            ],
            [
             0.5555555555555556,
             "#d8576b"
            ],
            [
             0.6666666666666666,
             "#ed7953"
            ],
            [
             0.7777777777777778,
             "#fb9f3a"
            ],
            [
             0.8888888888888888,
             "#fdca26"
            ],
            [
             1,
             "#f0f921"
            ]
           ]
          },
          "colorway": [
           "#636efa",
           "#EF553B",
           "#00cc96",
           "#ab63fa",
           "#FFA15A",
           "#19d3f3",
           "#FF6692",
           "#B6E880",
           "#FF97FF",
           "#FECB52"
          ],
          "font": {
           "color": "#2a3f5f"
          },
          "geo": {
           "bgcolor": "white",
           "lakecolor": "white",
           "landcolor": "#E5ECF6",
           "showlakes": true,
           "showland": true,
           "subunitcolor": "white"
          },
          "hoverlabel": {
           "align": "left"
          },
          "hovermode": "closest",
          "mapbox": {
           "style": "light"
          },
          "paper_bgcolor": "white",
          "plot_bgcolor": "#E5ECF6",
          "polar": {
           "angularaxis": {
            "gridcolor": "white",
            "linecolor": "white",
            "ticks": ""
           },
           "bgcolor": "#E5ECF6",
           "radialaxis": {
            "gridcolor": "white",
            "linecolor": "white",
            "ticks": ""
           }
          },
          "scene": {
           "xaxis": {
            "backgroundcolor": "#E5ECF6",
            "gridcolor": "white",
            "gridwidth": 2,
            "linecolor": "white",
            "showbackground": true,
            "ticks": "",
            "zerolinecolor": "white"
           },
           "yaxis": {
            "backgroundcolor": "#E5ECF6",
            "gridcolor": "white",
            "gridwidth": 2,
            "linecolor": "white",
            "showbackground": true,
            "ticks": "",
            "zerolinecolor": "white"
           },
           "zaxis": {
            "backgroundcolor": "#E5ECF6",
            "gridcolor": "white",
            "gridwidth": 2,
            "linecolor": "white",
            "showbackground": true,
            "ticks": "",
            "zerolinecolor": "white"
           }
          },
          "shapedefaults": {
           "line": {
            "color": "#2a3f5f"
           }
          },
          "ternary": {
           "aaxis": {
            "gridcolor": "white",
            "linecolor": "white",
            "ticks": ""
           },
           "baxis": {
            "gridcolor": "white",
            "linecolor": "white",
            "ticks": ""
           },
           "bgcolor": "#E5ECF6",
           "caxis": {
            "gridcolor": "white",
            "linecolor": "white",
            "ticks": ""
           }
          },
          "title": {
           "x": 0.05
          },
          "xaxis": {
           "automargin": true,
           "gridcolor": "white",
           "linecolor": "white",
           "ticks": "",
           "zerolinecolor": "white",
           "zerolinewidth": 2
          },
          "yaxis": {
           "automargin": true,
           "gridcolor": "white",
           "linecolor": "white",
           "ticks": "",
           "zerolinecolor": "white",
           "zerolinewidth": 2
          }
         }
        }
       }
      },
      "text/html": [
       "<div>\n",
       "        \n",
       "        \n",
       "            <div id=\"7a3d1cd7-2d7c-4d3b-b22c-21dccca56771\" class=\"plotly-graph-div\" style=\"height:600px; width:100%;\"></div>\n",
       "            <script type=\"text/javascript\">\n",
       "                require([\"plotly\"], function(Plotly) {\n",
       "                    window.PLOTLYENV=window.PLOTLYENV || {};\n",
       "                    \n",
       "                if (document.getElementById(\"7a3d1cd7-2d7c-4d3b-b22c-21dccca56771\")) {\n",
       "                    Plotly.newPlot(\n",
       "                        '7a3d1cd7-2d7c-4d3b-b22c-21dccca56771',\n",
       "                        [{\"hoverlabel\": {\"namelength\": 0}, \"hovertemplate\": \"PostOp-CNL=%{x}<br>PreOp-CNL=%{y}<br>PreOp-BWL=%{z}<br>ImplantLeft=%{marker.color}\", \"legendgroup\": \"\", \"marker\": {\"color\": [275, 275, 275, 275, 300, 300, 300, 300, 300, 325, 325, 325, 325, 325, 325, 325, 325, 325, 325, 325, 325, 325, 350, 350, 350, 350, 350, 350, 350, 350, 350, 350, 350, 350, 350, 350, 375, 375, 375, 375, 375, 400, 275, 325, 300, 325, 350, 450, 350, 350, 325, 325, 275, 275, 275, 375, 350, 375, 275, 400, 350, 350, 300, 350, 350, 375, 300, 275, 375, 250, 275, 300, 400, 375, 375, 325, 375, 325, 325, 375, 300, 250, 375, 250, 300, 325, 325, 325, 350, 375, 325, 325, 350, 350, 400, 325, 375, 325, 325, 375, 375, 325, 325, 345, 325, 300, 330, 325, 275, 275, 350, 325, 375, 250, 375, 350, 300, 300, 325, 325, 275, 350, 325, 350, 250, 325, 300, 350, 300, 325, 325, 275, 325, 375, 225, 350, 250, 375, 325, 350, 275, 300, 350, 275], \"coloraxis\": \"coloraxis\", \"symbol\": \"circle\"}, \"mode\": \"markers\", \"name\": \"\", \"scene\": \"scene\", \"showlegend\": false, \"type\": \"scatter3d\", \"x\": [14.5, 18.0, 15.0, 16.5, 17.0, 16.5, 15.0, 16.5, 17.0, 16.0, 17.5, 18.5, 16.5, 15.5, 17.0, 16.5, 16.0, 17.0, 16.0, 18.0, 15.0, 16.5, 20.0, 15.5, 17.5, 16.0, 16.5, 18.0, 14.0, 16.5, 16.5, 18.5, 18.0, 20.0, 19.5, 18.0, 15.0, 17.0, 20.0, 15.5, 18.0, 19.0, 18.5, 19.0, 18.5, 14.0, 19.0, 18.0, 17.5, 16.5, 18.0, 18.5, 16.5, 16.5, 16.0, 15.5, 14.5, 18.5, 16.0, 17.0, 15.5, 17.5, 18.5, 18.5, 18.0, 17.0, 16.5, 17.5, 20.0, 15.0, 16.5, 18.5, 17.5, 18.5, 19.0, 16.5, 16.0, 18.0, 18.0, 16.5, 20.0, 18.0, 16.5, 17.0, 14.0, 17.0, 19.5, 17.5, 15.5, 18.0, 19.0, 18.5, 15.0, 17.0, 20.0, 16.0, 19.0, 17.0, 18.0, 16.5, 18.0, 16.5, 18.0, 22.0, 17.0, 17.0, 17.5, 17.5, 15.0, 19.0, 18.0, 17.5, 21.0, 16.5, 17.0, 17.5, 17.5, 16.5, 18.0, 18.5, 17.0, 20.5, 16.0, 19.5, 16.5, 17.0, 16.0, 20.0, 17.0, 21.0, 18.0, 16.5, 18.5, 18.0, 17.0, 19.5, 16.5, 20.0, 17.0, 21.0, 17.5, 16.0, 16.0, 20.0], \"y\": [13.5, 17.5, 13.5, 14.5, 16.5, 16.0, 14.0, 14.5, 15.0, 15.5, 16.5, 17.5, 15.0, 15.0, 16.0, 15.0, 14.0, 15.5, 15.0, 17.0, 12.5, 15.0, 18.0, 13.5, 15.0, 14.0, 16.5, 16.5, 13.0, 15.0, 14.5, 16.5, 16.0, 17.5, 18.0, 15.5, 13.0, 16.5, 19.0, 13.5, 16.0, 18.5, 17.0, 18.5, 16.5, 13.5, 18.0, 18.0, 15.5, 16.0, 15.5, 17.5, 16.0, 14.0, 14.5, 14.5, 13.0, 17.0, 14.5, 15.5, 14.0, 16.0, 17.0, 17.0, 15.0, 15.5, 15.5, 16.0, 18.0, 14.0, 15.5, 16.5, 16.0, 17.0, 17.5, 14.5, 15.0, 17.0, 15.5, 15.5, 18.5, 16.5, 15.5, 15.5, 13.0, 15.5, 18.0, 15.0, 14.5, 16.0, 16.5, 17.0, 14.5, 15.0, 19.5, 15.0, 19.0, 15.0, 16.0, 14.5, 17.0, 15.5, 15.5, 20.5, 16.0, 17.0, 17.0, 15.0, 14.5, 16.5, 16.0, 16.5, 20.5, 15.3, 15.5, 17.0, 16.0, 16.0, 17.5, 16.0, 15.5, 19.0, 14.0, 17.0, 15.0, 15.5, 14.0, 18.0, 14.5, 19.5, 16.5, 16.0, 16.5, 16.0, 15.5, 18.5, 14.5, 19.0, 14.5, 19.0, 16.0, 14.0, 14.0, 18.0], \"z\": [12.4, 12.6, 12.0, 13.0, 12.0, 13.0, 12.4, 12.8, 13.0, 12.8, 13.2, 13.2, 12.6, 13.1, 12.5, 12.7, 12.5, 13.0, 12.9, 12.4, 12.0, 13.0, 13.9, 13.5, 12.7, 13.1, 12.5, 13.3, 12.7, 12.7, 12.6, 13.2, 12.5, 13.0, 13.7, 13.6, 12.6, 12.1, 13.0, 13.0, 13.2, 13.5, 12.8, 13.2, 13.2, 12.6, 13.5, 14.3, 12.5, 12.3, 13.3, 13.1, 12.6, 12.4, 13.0, 12.3, 12.5, 13.8, 11.0, 13.0, 12.8, 13.1, 12.5, 13.1, 13.1, 13.1, 12.8, 13.0, 13.2, 13.0, 12.6, 12.9, 13.7, 13.4, 13.5, 12.5, 13.1, 13.4, 13.0, 12.8, 13.5, 12.7, 12.6, 13.1, 12.2, 13.0, 13.0, 13.0, 13.2, 13.2, 12.9, 13.0, 12.0, 13.2, 13.3, 12.5, 13.8, 11.3, 13.1, 13.2, 13.5, 12.8, 12.8, 13.6, 13.2, 13.0, 13.0, 13.7, 12.3, 13.1, 13.5, 12.9, 14.3, 11.9, 13.1, 13.5, 12.4, 12.6, 12.0, 13.2, 12.2, 13.3, 12.2, 13.4, 12.3, 12.6, 12.4, 13.7, 12.5, 13.3, 12.9, 13.7, 13.0, 13.0, 12.5, 12.5, 12.2, 13.4, 12.5, 13.9, 12.7, 12.7, 12.3, 13.4]}],\n",
       "                        {\"coloraxis\": {\"colorbar\": {\"title\": {\"text\": \"ImplantLeft\"}}, \"colorscale\": [[0.0, \"#0d0887\"], [0.1111111111111111, \"#46039f\"], [0.2222222222222222, \"#7201a8\"], [0.3333333333333333, \"#9c179e\"], [0.4444444444444444, \"#bd3786\"], [0.5555555555555556, \"#d8576b\"], [0.6666666666666666, \"#ed7953\"], [0.7777777777777778, \"#fb9f3a\"], [0.8888888888888888, \"#fdca26\"], [1.0, \"#f0f921\"]]}, \"height\": 600, \"legend\": {\"tracegroupgap\": 0}, \"margin\": {\"t\": 60}, \"scene\": {\"domain\": {\"x\": [0.0, 0.98], \"y\": [0.0, 1.0]}, \"xaxis\": {\"title\": {\"text\": \"PostOp-CNL\"}}, \"yaxis\": {\"title\": {\"text\": \"PreOp-CNL\"}}, \"zaxis\": {\"title\": {\"text\": \"PreOp-BWL\"}}}, \"template\": {\"data\": {\"bar\": [{\"error_x\": {\"color\": \"#2a3f5f\"}, \"error_y\": {\"color\": \"#2a3f5f\"}, \"marker\": {\"line\": {\"color\": \"#E5ECF6\", \"width\": 0.5}}, \"type\": \"bar\"}], \"barpolar\": [{\"marker\": {\"line\": {\"color\": \"#E5ECF6\", \"width\": 0.5}}, \"type\": \"barpolar\"}], \"carpet\": [{\"aaxis\": {\"endlinecolor\": \"#2a3f5f\", \"gridcolor\": \"white\", \"linecolor\": \"white\", \"minorgridcolor\": \"white\", \"startlinecolor\": \"#2a3f5f\"}, \"baxis\": {\"endlinecolor\": \"#2a3f5f\", \"gridcolor\": \"white\", \"linecolor\": \"white\", \"minorgridcolor\": \"white\", \"startlinecolor\": \"#2a3f5f\"}, \"type\": \"carpet\"}], \"choropleth\": [{\"colorbar\": {\"outlinewidth\": 0, \"ticks\": \"\"}, \"type\": \"choropleth\"}], \"contour\": [{\"colorbar\": {\"outlinewidth\": 0, \"ticks\": \"\"}, \"colorscale\": [[0.0, \"#0d0887\"], [0.1111111111111111, \"#46039f\"], [0.2222222222222222, \"#7201a8\"], [0.3333333333333333, \"#9c179e\"], [0.4444444444444444, \"#bd3786\"], [0.5555555555555556, \"#d8576b\"], [0.6666666666666666, \"#ed7953\"], [0.7777777777777778, \"#fb9f3a\"], [0.8888888888888888, \"#fdca26\"], [1.0, \"#f0f921\"]], \"type\": \"contour\"}], \"contourcarpet\": [{\"colorbar\": {\"outlinewidth\": 0, \"ticks\": \"\"}, \"type\": \"contourcarpet\"}], \"heatmap\": [{\"colorbar\": {\"outlinewidth\": 0, \"ticks\": \"\"}, \"colorscale\": [[0.0, \"#0d0887\"], [0.1111111111111111, \"#46039f\"], [0.2222222222222222, \"#7201a8\"], [0.3333333333333333, \"#9c179e\"], [0.4444444444444444, \"#bd3786\"], [0.5555555555555556, \"#d8576b\"], [0.6666666666666666, \"#ed7953\"], [0.7777777777777778, \"#fb9f3a\"], [0.8888888888888888, \"#fdca26\"], [1.0, \"#f0f921\"]], \"type\": \"heatmap\"}], \"heatmapgl\": [{\"colorbar\": {\"outlinewidth\": 0, \"ticks\": \"\"}, \"colorscale\": [[0.0, \"#0d0887\"], [0.1111111111111111, \"#46039f\"], [0.2222222222222222, \"#7201a8\"], [0.3333333333333333, \"#9c179e\"], [0.4444444444444444, \"#bd3786\"], [0.5555555555555556, \"#d8576b\"], [0.6666666666666666, \"#ed7953\"], [0.7777777777777778, \"#fb9f3a\"], [0.8888888888888888, \"#fdca26\"], [1.0, \"#f0f921\"]], \"type\": \"heatmapgl\"}], \"histogram\": [{\"marker\": {\"colorbar\": {\"outlinewidth\": 0, \"ticks\": \"\"}}, \"type\": \"histogram\"}], \"histogram2d\": [{\"colorbar\": {\"outlinewidth\": 0, \"ticks\": \"\"}, \"colorscale\": [[0.0, \"#0d0887\"], [0.1111111111111111, \"#46039f\"], [0.2222222222222222, \"#7201a8\"], [0.3333333333333333, \"#9c179e\"], [0.4444444444444444, \"#bd3786\"], [0.5555555555555556, \"#d8576b\"], [0.6666666666666666, \"#ed7953\"], [0.7777777777777778, \"#fb9f3a\"], [0.8888888888888888, \"#fdca26\"], [1.0, \"#f0f921\"]], \"type\": \"histogram2d\"}], \"histogram2dcontour\": [{\"colorbar\": {\"outlinewidth\": 0, \"ticks\": \"\"}, \"colorscale\": [[0.0, \"#0d0887\"], [0.1111111111111111, \"#46039f\"], [0.2222222222222222, \"#7201a8\"], [0.3333333333333333, \"#9c179e\"], [0.4444444444444444, \"#bd3786\"], [0.5555555555555556, \"#d8576b\"], [0.6666666666666666, \"#ed7953\"], [0.7777777777777778, \"#fb9f3a\"], [0.8888888888888888, \"#fdca26\"], [1.0, \"#f0f921\"]], \"type\": \"histogram2dcontour\"}], \"mesh3d\": [{\"colorbar\": {\"outlinewidth\": 0, \"ticks\": \"\"}, \"type\": \"mesh3d\"}], \"parcoords\": [{\"line\": {\"colorbar\": {\"outlinewidth\": 0, \"ticks\": \"\"}}, \"type\": \"parcoords\"}], \"scatter\": [{\"marker\": {\"colorbar\": {\"outlinewidth\": 0, \"ticks\": \"\"}}, \"type\": \"scatter\"}], \"scatter3d\": [{\"line\": {\"colorbar\": {\"outlinewidth\": 0, \"ticks\": \"\"}}, \"marker\": {\"colorbar\": {\"outlinewidth\": 0, \"ticks\": \"\"}}, \"type\": \"scatter3d\"}], \"scattercarpet\": [{\"marker\": {\"colorbar\": {\"outlinewidth\": 0, \"ticks\": \"\"}}, \"type\": \"scattercarpet\"}], \"scattergeo\": [{\"marker\": {\"colorbar\": {\"outlinewidth\": 0, \"ticks\": \"\"}}, \"type\": \"scattergeo\"}], \"scattergl\": [{\"marker\": {\"colorbar\": {\"outlinewidth\": 0, \"ticks\": \"\"}}, \"type\": \"scattergl\"}], \"scattermapbox\": [{\"marker\": {\"colorbar\": {\"outlinewidth\": 0, \"ticks\": \"\"}}, \"type\": \"scattermapbox\"}], \"scatterpolar\": [{\"marker\": {\"colorbar\": {\"outlinewidth\": 0, \"ticks\": \"\"}}, \"type\": \"scatterpolar\"}], \"scatterpolargl\": [{\"marker\": {\"colorbar\": {\"outlinewidth\": 0, \"ticks\": \"\"}}, \"type\": \"scatterpolargl\"}], \"scatterternary\": [{\"marker\": {\"colorbar\": {\"outlinewidth\": 0, \"ticks\": \"\"}}, \"type\": \"scatterternary\"}], \"surface\": [{\"colorbar\": {\"outlinewidth\": 0, \"ticks\": \"\"}, \"colorscale\": [[0.0, \"#0d0887\"], [0.1111111111111111, \"#46039f\"], [0.2222222222222222, \"#7201a8\"], [0.3333333333333333, \"#9c179e\"], [0.4444444444444444, \"#bd3786\"], [0.5555555555555556, \"#d8576b\"], [0.6666666666666666, \"#ed7953\"], [0.7777777777777778, \"#fb9f3a\"], [0.8888888888888888, \"#fdca26\"], [1.0, \"#f0f921\"]], \"type\": \"surface\"}], \"table\": [{\"cells\": {\"fill\": {\"color\": \"#EBF0F8\"}, \"line\": {\"color\": \"white\"}}, \"header\": {\"fill\": {\"color\": \"#C8D4E3\"}, \"line\": {\"color\": \"white\"}}, \"type\": \"table\"}]}, \"layout\": {\"annotationdefaults\": {\"arrowcolor\": \"#2a3f5f\", \"arrowhead\": 0, \"arrowwidth\": 1}, \"colorscale\": {\"diverging\": [[0, \"#8e0152\"], [0.1, \"#c51b7d\"], [0.2, \"#de77ae\"], [0.3, \"#f1b6da\"], [0.4, \"#fde0ef\"], [0.5, \"#f7f7f7\"], [0.6, \"#e6f5d0\"], [0.7, \"#b8e186\"], [0.8, \"#7fbc41\"], [0.9, \"#4d9221\"], [1, \"#276419\"]], \"sequential\": [[0.0, \"#0d0887\"], [0.1111111111111111, \"#46039f\"], [0.2222222222222222, \"#7201a8\"], [0.3333333333333333, \"#9c179e\"], [0.4444444444444444, \"#bd3786\"], [0.5555555555555556, \"#d8576b\"], [0.6666666666666666, \"#ed7953\"], [0.7777777777777778, \"#fb9f3a\"], [0.8888888888888888, \"#fdca26\"], [1.0, \"#f0f921\"]], \"sequentialminus\": [[0.0, \"#0d0887\"], [0.1111111111111111, \"#46039f\"], [0.2222222222222222, \"#7201a8\"], [0.3333333333333333, \"#9c179e\"], [0.4444444444444444, \"#bd3786\"], [0.5555555555555556, \"#d8576b\"], [0.6666666666666666, \"#ed7953\"], [0.7777777777777778, \"#fb9f3a\"], [0.8888888888888888, \"#fdca26\"], [1.0, \"#f0f921\"]]}, \"colorway\": [\"#636efa\", \"#EF553B\", \"#00cc96\", \"#ab63fa\", \"#FFA15A\", \"#19d3f3\", \"#FF6692\", \"#B6E880\", \"#FF97FF\", \"#FECB52\"], \"font\": {\"color\": \"#2a3f5f\"}, \"geo\": {\"bgcolor\": \"white\", \"lakecolor\": \"white\", \"landcolor\": \"#E5ECF6\", \"showlakes\": true, \"showland\": true, \"subunitcolor\": \"white\"}, \"hoverlabel\": {\"align\": \"left\"}, \"hovermode\": \"closest\", \"mapbox\": {\"style\": \"light\"}, \"paper_bgcolor\": \"white\", \"plot_bgcolor\": \"#E5ECF6\", \"polar\": {\"angularaxis\": {\"gridcolor\": \"white\", \"linecolor\": \"white\", \"ticks\": \"\"}, \"bgcolor\": \"#E5ECF6\", \"radialaxis\": {\"gridcolor\": \"white\", \"linecolor\": \"white\", \"ticks\": \"\"}}, \"scene\": {\"xaxis\": {\"backgroundcolor\": \"#E5ECF6\", \"gridcolor\": \"white\", \"gridwidth\": 2, \"linecolor\": \"white\", \"showbackground\": true, \"ticks\": \"\", \"zerolinecolor\": \"white\"}, \"yaxis\": {\"backgroundcolor\": \"#E5ECF6\", \"gridcolor\": \"white\", \"gridwidth\": 2, \"linecolor\": \"white\", \"showbackground\": true, \"ticks\": \"\", \"zerolinecolor\": \"white\"}, \"zaxis\": {\"backgroundcolor\": \"#E5ECF6\", \"gridcolor\": \"white\", \"gridwidth\": 2, \"linecolor\": \"white\", \"showbackground\": true, \"ticks\": \"\", \"zerolinecolor\": \"white\"}}, \"shapedefaults\": {\"line\": {\"color\": \"#2a3f5f\"}}, \"ternary\": {\"aaxis\": {\"gridcolor\": \"white\", \"linecolor\": \"white\", \"ticks\": \"\"}, \"baxis\": {\"gridcolor\": \"white\", \"linecolor\": \"white\", \"ticks\": \"\"}, \"bgcolor\": \"#E5ECF6\", \"caxis\": {\"gridcolor\": \"white\", \"linecolor\": \"white\", \"ticks\": \"\"}}, \"title\": {\"x\": 0.05}, \"xaxis\": {\"automargin\": true, \"gridcolor\": \"white\", \"linecolor\": \"white\", \"ticks\": \"\", \"zerolinecolor\": \"white\", \"zerolinewidth\": 2}, \"yaxis\": {\"automargin\": true, \"gridcolor\": \"white\", \"linecolor\": \"white\", \"ticks\": \"\", \"zerolinecolor\": \"white\", \"zerolinewidth\": 2}}}},\n",
       "                        {\"responsive\": true}\n",
       "                    ).then(function(){\n",
       "                            \n",
       "var gd = document.getElementById('7a3d1cd7-2d7c-4d3b-b22c-21dccca56771');\n",
       "var x = new MutationObserver(function (mutations, observer) {{\n",
       "        var display = window.getComputedStyle(gd).display;\n",
       "        if (!display || display === 'none') {{\n",
       "            console.log([gd, 'removed!']);\n",
       "            Plotly.purge(gd);\n",
       "            observer.disconnect();\n",
       "        }}\n",
       "}});\n",
       "\n",
       "// Listen for the removal of the full notebook cells\n",
       "var notebookContainer = gd.closest('#notebook-container');\n",
       "if (notebookContainer) {{\n",
       "    x.observe(notebookContainer, {childList: true});\n",
       "}}\n",
       "\n",
       "// Listen for the clearing of the current output cell\n",
       "var outputEl = gd.closest('.output');\n",
       "if (outputEl) {{\n",
       "    x.observe(outputEl, {childList: true});\n",
       "}}\n",
       "\n",
       "                        })\n",
       "                };\n",
       "                });\n",
       "            </script>\n",
       "        </div>"
      ]
     },
     "metadata": {},
     "output_type": "display_data"
    }
   ],
   "source": [
    "fig = px.scatter_3d(df, x='PostOp-CNL', y='PreOp-CNL', z='PreOp-BWL', color='ImplantLeft')\n",
    "fig.show()"
   ]
  },
  {
   "cell_type": "code",
   "execution_count": 44,
   "metadata": {},
   "outputs": [
    {
     "data": {
      "application/vnd.plotly.v1+json": {
       "config": {
        "plotlyServerURL": "https://plot.ly"
       },
       "data": [
        {
         "hoverlabel": {
          "namelength": 0
         },
         "hovertemplate": "PostOp-CNL=%{x}<br>PreOp-CNL=%{y}<br>PreOp-IMFL=%{z}<br>ImplantLeft=%{marker.color}",
         "legendgroup": "",
         "marker": {
          "color": [
           275,
           275,
           275,
           275,
           300,
           300,
           300,
           300,
           300,
           325,
           325,
           325,
           325,
           325,
           325,
           325,
           325,
           325,
           325,
           325,
           325,
           325,
           350,
           350,
           350,
           350,
           350,
           350,
           350,
           350,
           350,
           350,
           350,
           350,
           350,
           350,
           375,
           375,
           375,
           375,
           375,
           400,
           275,
           325,
           300,
           325,
           350,
           450,
           350,
           350,
           325,
           325,
           275,
           275,
           275,
           375,
           350,
           375,
           275,
           400,
           350,
           350,
           300,
           350,
           350,
           375,
           300,
           275,
           375,
           250,
           275,
           300,
           400,
           375,
           375,
           325,
           375,
           325,
           325,
           375,
           300,
           250,
           375,
           250,
           300,
           325,
           325,
           325,
           350,
           375,
           325,
           325,
           350,
           350,
           400,
           325,
           375,
           325,
           325,
           375,
           375,
           325,
           325,
           345,
           325,
           300,
           330,
           325,
           275,
           275,
           350,
           325,
           375,
           250,
           375,
           350,
           300,
           300,
           325,
           325,
           275,
           350,
           325,
           350,
           250,
           325,
           300,
           350,
           300,
           325,
           325,
           275,
           325,
           375,
           225,
           350,
           250,
           375,
           325,
           350,
           275,
           300,
           350,
           275
          ],
          "coloraxis": "coloraxis",
          "symbol": "circle"
         },
         "mode": "markers",
         "name": "",
         "scene": "scene",
         "showlegend": false,
         "type": "scatter3d",
         "x": [
          14.5,
          18,
          15,
          16.5,
          17,
          16.5,
          15,
          16.5,
          17,
          16,
          17.5,
          18.5,
          16.5,
          15.5,
          17,
          16.5,
          16,
          17,
          16,
          18,
          15,
          16.5,
          20,
          15.5,
          17.5,
          16,
          16.5,
          18,
          14,
          16.5,
          16.5,
          18.5,
          18,
          20,
          19.5,
          18,
          15,
          17,
          20,
          15.5,
          18,
          19,
          18.5,
          19,
          18.5,
          14,
          19,
          18,
          17.5,
          16.5,
          18,
          18.5,
          16.5,
          16.5,
          16,
          15.5,
          14.5,
          18.5,
          16,
          17,
          15.5,
          17.5,
          18.5,
          18.5,
          18,
          17,
          16.5,
          17.5,
          20,
          15,
          16.5,
          18.5,
          17.5,
          18.5,
          19,
          16.5,
          16,
          18,
          18,
          16.5,
          20,
          18,
          16.5,
          17,
          14,
          17,
          19.5,
          17.5,
          15.5,
          18,
          19,
          18.5,
          15,
          17,
          20,
          16,
          19,
          17,
          18,
          16.5,
          18,
          16.5,
          18,
          22,
          17,
          17,
          17.5,
          17.5,
          15,
          19,
          18,
          17.5,
          21,
          16.5,
          17,
          17.5,
          17.5,
          16.5,
          18,
          18.5,
          17,
          20.5,
          16,
          19.5,
          16.5,
          17,
          16,
          20,
          17,
          21,
          18,
          16.5,
          18.5,
          18,
          17,
          19.5,
          16.5,
          20,
          17,
          21,
          17.5,
          16,
          16,
          20
         ],
         "y": [
          13.5,
          17.5,
          13.5,
          14.5,
          16.5,
          16,
          14,
          14.5,
          15,
          15.5,
          16.5,
          17.5,
          15,
          15,
          16,
          15,
          14,
          15.5,
          15,
          17,
          12.5,
          15,
          18,
          13.5,
          15,
          14,
          16.5,
          16.5,
          13,
          15,
          14.5,
          16.5,
          16,
          17.5,
          18,
          15.5,
          13,
          16.5,
          19,
          13.5,
          16,
          18.5,
          17,
          18.5,
          16.5,
          13.5,
          18,
          18,
          15.5,
          16,
          15.5,
          17.5,
          16,
          14,
          14.5,
          14.5,
          13,
          17,
          14.5,
          15.5,
          14,
          16,
          17,
          17,
          15,
          15.5,
          15.5,
          16,
          18,
          14,
          15.5,
          16.5,
          16,
          17,
          17.5,
          14.5,
          15,
          17,
          15.5,
          15.5,
          18.5,
          16.5,
          15.5,
          15.5,
          13,
          15.5,
          18,
          15,
          14.5,
          16,
          16.5,
          17,
          14.5,
          15,
          19.5,
          15,
          19,
          15,
          16,
          14.5,
          17,
          15.5,
          15.5,
          20.5,
          16,
          17,
          17,
          15,
          14.5,
          16.5,
          16,
          16.5,
          20.5,
          15.3,
          15.5,
          17,
          16,
          16,
          17.5,
          16,
          15.5,
          19,
          14,
          17,
          15,
          15.5,
          14,
          18,
          14.5,
          19.5,
          16.5,
          16,
          16.5,
          16,
          15.5,
          18.5,
          14.5,
          19,
          14.5,
          19,
          16,
          14,
          14,
          18
         ],
         "z": [
          4,
          3,
          5,
          4,
          4,
          5.5,
          5.8,
          5,
          4.2,
          5,
          7,
          4.5,
          5.5,
          4.5,
          5,
          5.5,
          4.5,
          4,
          4.8,
          4,
          4.5,
          5,
          4.5,
          4,
          3.8,
          7,
          5.5,
          5,
          6.5,
          5,
          5,
          5.7,
          5,
          4.5,
          5.5,
          4.5,
          5,
          4,
          5,
          4.5,
          6.2,
          5.5,
          4.5,
          7,
          6.5,
          5,
          6,
          5,
          6,
          4.5,
          5,
          4,
          5.5,
          5,
          4,
          5,
          6.5,
          6.5,
          5.5,
          6,
          4.5,
          6,
          5.5,
          6,
          3.4,
          6,
          4.5,
          5,
          5,
          4.5,
          4.5,
          4,
          4,
          7,
          4.5,
          6,
          7,
          5,
          4.5,
          7,
          6.5,
          4.8,
          8.5,
          6,
          5,
          4.5,
          5.2,
          6,
          6,
          6.2,
          3,
          5.2,
          4.5,
          5,
          6.5,
          5.5,
          8,
          4.2,
          5,
          6.8,
          5,
          4.5,
          5,
          9,
          6,
          4.5,
          5,
          6,
          5,
          4.5,
          6,
          6,
          9,
          4,
          7,
          4.5,
          4,
          4.2,
          7,
          5.5,
          4.6,
          5.5,
          5.2,
          5.8,
          4.5,
          5,
          4.5,
          5.5,
          4.5,
          8,
          5.5,
          5.5,
          5.5,
          6.5,
          3.5,
          3.8,
          3.5,
          6,
          5.5,
          6.5,
          4,
          5,
          5,
          5.2
         ]
        }
       ],
       "layout": {
        "coloraxis": {
         "colorbar": {
          "title": {
           "text": "ImplantLeft"
          }
         },
         "colorscale": [
          [
           0,
           "#0d0887"
          ],
          [
           0.1111111111111111,
           "#46039f"
          ],
          [
           0.2222222222222222,
           "#7201a8"
          ],
          [
           0.3333333333333333,
           "#9c179e"
          ],
          [
           0.4444444444444444,
           "#bd3786"
          ],
          [
           0.5555555555555556,
           "#d8576b"
          ],
          [
           0.6666666666666666,
           "#ed7953"
          ],
          [
           0.7777777777777778,
           "#fb9f3a"
          ],
          [
           0.8888888888888888,
           "#fdca26"
          ],
          [
           1,
           "#f0f921"
          ]
         ]
        },
        "height": 600,
        "legend": {
         "tracegroupgap": 0
        },
        "margin": {
         "t": 60
        },
        "scene": {
         "domain": {
          "x": [
           0,
           0.98
          ],
          "y": [
           0,
           1
          ]
         },
         "xaxis": {
          "title": {
           "text": "PostOp-CNL"
          }
         },
         "yaxis": {
          "title": {
           "text": "PreOp-CNL"
          }
         },
         "zaxis": {
          "title": {
           "text": "PreOp-IMFL"
          }
         }
        },
        "template": {
         "data": {
          "bar": [
           {
            "error_x": {
             "color": "#2a3f5f"
            },
            "error_y": {
             "color": "#2a3f5f"
            },
            "marker": {
             "line": {
              "color": "#E5ECF6",
              "width": 0.5
             }
            },
            "type": "bar"
           }
          ],
          "barpolar": [
           {
            "marker": {
             "line": {
              "color": "#E5ECF6",
              "width": 0.5
             }
            },
            "type": "barpolar"
           }
          ],
          "carpet": [
           {
            "aaxis": {
             "endlinecolor": "#2a3f5f",
             "gridcolor": "white",
             "linecolor": "white",
             "minorgridcolor": "white",
             "startlinecolor": "#2a3f5f"
            },
            "baxis": {
             "endlinecolor": "#2a3f5f",
             "gridcolor": "white",
             "linecolor": "white",
             "minorgridcolor": "white",
             "startlinecolor": "#2a3f5f"
            },
            "type": "carpet"
           }
          ],
          "choropleth": [
           {
            "colorbar": {
             "outlinewidth": 0,
             "ticks": ""
            },
            "type": "choropleth"
           }
          ],
          "contour": [
           {
            "colorbar": {
             "outlinewidth": 0,
             "ticks": ""
            },
            "colorscale": [
             [
              0,
              "#0d0887"
             ],
             [
              0.1111111111111111,
              "#46039f"
             ],
             [
              0.2222222222222222,
              "#7201a8"
             ],
             [
              0.3333333333333333,
              "#9c179e"
             ],
             [
              0.4444444444444444,
              "#bd3786"
             ],
             [
              0.5555555555555556,
              "#d8576b"
             ],
             [
              0.6666666666666666,
              "#ed7953"
             ],
             [
              0.7777777777777778,
              "#fb9f3a"
             ],
             [
              0.8888888888888888,
              "#fdca26"
             ],
             [
              1,
              "#f0f921"
             ]
            ],
            "type": "contour"
           }
          ],
          "contourcarpet": [
           {
            "colorbar": {
             "outlinewidth": 0,
             "ticks": ""
            },
            "type": "contourcarpet"
           }
          ],
          "heatmap": [
           {
            "colorbar": {
             "outlinewidth": 0,
             "ticks": ""
            },
            "colorscale": [
             [
              0,
              "#0d0887"
             ],
             [
              0.1111111111111111,
              "#46039f"
             ],
             [
              0.2222222222222222,
              "#7201a8"
             ],
             [
              0.3333333333333333,
              "#9c179e"
             ],
             [
              0.4444444444444444,
              "#bd3786"
             ],
             [
              0.5555555555555556,
              "#d8576b"
             ],
             [
              0.6666666666666666,
              "#ed7953"
             ],
             [
              0.7777777777777778,
              "#fb9f3a"
             ],
             [
              0.8888888888888888,
              "#fdca26"
             ],
             [
              1,
              "#f0f921"
             ]
            ],
            "type": "heatmap"
           }
          ],
          "heatmapgl": [
           {
            "colorbar": {
             "outlinewidth": 0,
             "ticks": ""
            },
            "colorscale": [
             [
              0,
              "#0d0887"
             ],
             [
              0.1111111111111111,
              "#46039f"
             ],
             [
              0.2222222222222222,
              "#7201a8"
             ],
             [
              0.3333333333333333,
              "#9c179e"
             ],
             [
              0.4444444444444444,
              "#bd3786"
             ],
             [
              0.5555555555555556,
              "#d8576b"
             ],
             [
              0.6666666666666666,
              "#ed7953"
             ],
             [
              0.7777777777777778,
              "#fb9f3a"
             ],
             [
              0.8888888888888888,
              "#fdca26"
             ],
             [
              1,
              "#f0f921"
             ]
            ],
            "type": "heatmapgl"
           }
          ],
          "histogram": [
           {
            "marker": {
             "colorbar": {
              "outlinewidth": 0,
              "ticks": ""
             }
            },
            "type": "histogram"
           }
          ],
          "histogram2d": [
           {
            "colorbar": {
             "outlinewidth": 0,
             "ticks": ""
            },
            "colorscale": [
             [
              0,
              "#0d0887"
             ],
             [
              0.1111111111111111,
              "#46039f"
             ],
             [
              0.2222222222222222,
              "#7201a8"
             ],
             [
              0.3333333333333333,
              "#9c179e"
             ],
             [
              0.4444444444444444,
              "#bd3786"
             ],
             [
              0.5555555555555556,
              "#d8576b"
             ],
             [
              0.6666666666666666,
              "#ed7953"
             ],
             [
              0.7777777777777778,
              "#fb9f3a"
             ],
             [
              0.8888888888888888,
              "#fdca26"
             ],
             [
              1,
              "#f0f921"
             ]
            ],
            "type": "histogram2d"
           }
          ],
          "histogram2dcontour": [
           {
            "colorbar": {
             "outlinewidth": 0,
             "ticks": ""
            },
            "colorscale": [
             [
              0,
              "#0d0887"
             ],
             [
              0.1111111111111111,
              "#46039f"
             ],
             [
              0.2222222222222222,
              "#7201a8"
             ],
             [
              0.3333333333333333,
              "#9c179e"
             ],
             [
              0.4444444444444444,
              "#bd3786"
             ],
             [
              0.5555555555555556,
              "#d8576b"
             ],
             [
              0.6666666666666666,
              "#ed7953"
             ],
             [
              0.7777777777777778,
              "#fb9f3a"
             ],
             [
              0.8888888888888888,
              "#fdca26"
             ],
             [
              1,
              "#f0f921"
             ]
            ],
            "type": "histogram2dcontour"
           }
          ],
          "mesh3d": [
           {
            "colorbar": {
             "outlinewidth": 0,
             "ticks": ""
            },
            "type": "mesh3d"
           }
          ],
          "parcoords": [
           {
            "line": {
             "colorbar": {
              "outlinewidth": 0,
              "ticks": ""
             }
            },
            "type": "parcoords"
           }
          ],
          "scatter": [
           {
            "marker": {
             "colorbar": {
              "outlinewidth": 0,
              "ticks": ""
             }
            },
            "type": "scatter"
           }
          ],
          "scatter3d": [
           {
            "line": {
             "colorbar": {
              "outlinewidth": 0,
              "ticks": ""
             }
            },
            "marker": {
             "colorbar": {
              "outlinewidth": 0,
              "ticks": ""
             }
            },
            "type": "scatter3d"
           }
          ],
          "scattercarpet": [
           {
            "marker": {
             "colorbar": {
              "outlinewidth": 0,
              "ticks": ""
             }
            },
            "type": "scattercarpet"
           }
          ],
          "scattergeo": [
           {
            "marker": {
             "colorbar": {
              "outlinewidth": 0,
              "ticks": ""
             }
            },
            "type": "scattergeo"
           }
          ],
          "scattergl": [
           {
            "marker": {
             "colorbar": {
              "outlinewidth": 0,
              "ticks": ""
             }
            },
            "type": "scattergl"
           }
          ],
          "scattermapbox": [
           {
            "marker": {
             "colorbar": {
              "outlinewidth": 0,
              "ticks": ""
             }
            },
            "type": "scattermapbox"
           }
          ],
          "scatterpolar": [
           {
            "marker": {
             "colorbar": {
              "outlinewidth": 0,
              "ticks": ""
             }
            },
            "type": "scatterpolar"
           }
          ],
          "scatterpolargl": [
           {
            "marker": {
             "colorbar": {
              "outlinewidth": 0,
              "ticks": ""
             }
            },
            "type": "scatterpolargl"
           }
          ],
          "scatterternary": [
           {
            "marker": {
             "colorbar": {
              "outlinewidth": 0,
              "ticks": ""
             }
            },
            "type": "scatterternary"
           }
          ],
          "surface": [
           {
            "colorbar": {
             "outlinewidth": 0,
             "ticks": ""
            },
            "colorscale": [
             [
              0,
              "#0d0887"
             ],
             [
              0.1111111111111111,
              "#46039f"
             ],
             [
              0.2222222222222222,
              "#7201a8"
             ],
             [
              0.3333333333333333,
              "#9c179e"
             ],
             [
              0.4444444444444444,
              "#bd3786"
             ],
             [
              0.5555555555555556,
              "#d8576b"
             ],
             [
              0.6666666666666666,
              "#ed7953"
             ],
             [
              0.7777777777777778,
              "#fb9f3a"
             ],
             [
              0.8888888888888888,
              "#fdca26"
             ],
             [
              1,
              "#f0f921"
             ]
            ],
            "type": "surface"
           }
          ],
          "table": [
           {
            "cells": {
             "fill": {
              "color": "#EBF0F8"
             },
             "line": {
              "color": "white"
             }
            },
            "header": {
             "fill": {
              "color": "#C8D4E3"
             },
             "line": {
              "color": "white"
             }
            },
            "type": "table"
           }
          ]
         },
         "layout": {
          "annotationdefaults": {
           "arrowcolor": "#2a3f5f",
           "arrowhead": 0,
           "arrowwidth": 1
          },
          "colorscale": {
           "diverging": [
            [
             0,
             "#8e0152"
            ],
            [
             0.1,
             "#c51b7d"
            ],
            [
             0.2,
             "#de77ae"
            ],
            [
             0.3,
             "#f1b6da"
            ],
            [
             0.4,
             "#fde0ef"
            ],
            [
             0.5,
             "#f7f7f7"
            ],
            [
             0.6,
             "#e6f5d0"
            ],
            [
             0.7,
             "#b8e186"
            ],
            [
             0.8,
             "#7fbc41"
            ],
            [
             0.9,
             "#4d9221"
            ],
            [
             1,
             "#276419"
            ]
           ],
           "sequential": [
            [
             0,
             "#0d0887"
            ],
            [
             0.1111111111111111,
             "#46039f"
            ],
            [
             0.2222222222222222,
             "#7201a8"
            ],
            [
             0.3333333333333333,
             "#9c179e"
            ],
            [
             0.4444444444444444,
             "#bd3786"
            ],
            [
             0.5555555555555556,
             "#d8576b"
            ],
            [
             0.6666666666666666,
             "#ed7953"
            ],
            [
             0.7777777777777778,
             "#fb9f3a"
            ],
            [
             0.8888888888888888,
             "#fdca26"
            ],
            [
             1,
             "#f0f921"
            ]
           ],
           "sequentialminus": [
            [
             0,
             "#0d0887"
            ],
            [
             0.1111111111111111,
             "#46039f"
            ],
            [
             0.2222222222222222,
             "#7201a8"
            ],
            [
             0.3333333333333333,
             "#9c179e"
            ],
            [
             0.4444444444444444,
             "#bd3786"
            ],
            [
             0.5555555555555556,
             "#d8576b"
            ],
            [
             0.6666666666666666,
             "#ed7953"
            ],
            [
             0.7777777777777778,
             "#fb9f3a"
            ],
            [
             0.8888888888888888,
             "#fdca26"
            ],
            [
             1,
             "#f0f921"
            ]
           ]
          },
          "colorway": [
           "#636efa",
           "#EF553B",
           "#00cc96",
           "#ab63fa",
           "#FFA15A",
           "#19d3f3",
           "#FF6692",
           "#B6E880",
           "#FF97FF",
           "#FECB52"
          ],
          "font": {
           "color": "#2a3f5f"
          },
          "geo": {
           "bgcolor": "white",
           "lakecolor": "white",
           "landcolor": "#E5ECF6",
           "showlakes": true,
           "showland": true,
           "subunitcolor": "white"
          },
          "hoverlabel": {
           "align": "left"
          },
          "hovermode": "closest",
          "mapbox": {
           "style": "light"
          },
          "paper_bgcolor": "white",
          "plot_bgcolor": "#E5ECF6",
          "polar": {
           "angularaxis": {
            "gridcolor": "white",
            "linecolor": "white",
            "ticks": ""
           },
           "bgcolor": "#E5ECF6",
           "radialaxis": {
            "gridcolor": "white",
            "linecolor": "white",
            "ticks": ""
           }
          },
          "scene": {
           "xaxis": {
            "backgroundcolor": "#E5ECF6",
            "gridcolor": "white",
            "gridwidth": 2,
            "linecolor": "white",
            "showbackground": true,
            "ticks": "",
            "zerolinecolor": "white"
           },
           "yaxis": {
            "backgroundcolor": "#E5ECF6",
            "gridcolor": "white",
            "gridwidth": 2,
            "linecolor": "white",
            "showbackground": true,
            "ticks": "",
            "zerolinecolor": "white"
           },
           "zaxis": {
            "backgroundcolor": "#E5ECF6",
            "gridcolor": "white",
            "gridwidth": 2,
            "linecolor": "white",
            "showbackground": true,
            "ticks": "",
            "zerolinecolor": "white"
           }
          },
          "shapedefaults": {
           "line": {
            "color": "#2a3f5f"
           }
          },
          "ternary": {
           "aaxis": {
            "gridcolor": "white",
            "linecolor": "white",
            "ticks": ""
           },
           "baxis": {
            "gridcolor": "white",
            "linecolor": "white",
            "ticks": ""
           },
           "bgcolor": "#E5ECF6",
           "caxis": {
            "gridcolor": "white",
            "linecolor": "white",
            "ticks": ""
           }
          },
          "title": {
           "x": 0.05
          },
          "xaxis": {
           "automargin": true,
           "gridcolor": "white",
           "linecolor": "white",
           "ticks": "",
           "zerolinecolor": "white",
           "zerolinewidth": 2
          },
          "yaxis": {
           "automargin": true,
           "gridcolor": "white",
           "linecolor": "white",
           "ticks": "",
           "zerolinecolor": "white",
           "zerolinewidth": 2
          }
         }
        }
       }
      },
      "text/html": [
       "<div>\n",
       "        \n",
       "        \n",
       "            <div id=\"e0556237-25ca-42c9-9ab1-6705f472e35a\" class=\"plotly-graph-div\" style=\"height:600px; width:100%;\"></div>\n",
       "            <script type=\"text/javascript\">\n",
       "                require([\"plotly\"], function(Plotly) {\n",
       "                    window.PLOTLYENV=window.PLOTLYENV || {};\n",
       "                    \n",
       "                if (document.getElementById(\"e0556237-25ca-42c9-9ab1-6705f472e35a\")) {\n",
       "                    Plotly.newPlot(\n",
       "                        'e0556237-25ca-42c9-9ab1-6705f472e35a',\n",
       "                        [{\"hoverlabel\": {\"namelength\": 0}, \"hovertemplate\": \"PostOp-CNL=%{x}<br>PreOp-CNL=%{y}<br>PreOp-IMFL=%{z}<br>ImplantLeft=%{marker.color}\", \"legendgroup\": \"\", \"marker\": {\"color\": [275, 275, 275, 275, 300, 300, 300, 300, 300, 325, 325, 325, 325, 325, 325, 325, 325, 325, 325, 325, 325, 325, 350, 350, 350, 350, 350, 350, 350, 350, 350, 350, 350, 350, 350, 350, 375, 375, 375, 375, 375, 400, 275, 325, 300, 325, 350, 450, 350, 350, 325, 325, 275, 275, 275, 375, 350, 375, 275, 400, 350, 350, 300, 350, 350, 375, 300, 275, 375, 250, 275, 300, 400, 375, 375, 325, 375, 325, 325, 375, 300, 250, 375, 250, 300, 325, 325, 325, 350, 375, 325, 325, 350, 350, 400, 325, 375, 325, 325, 375, 375, 325, 325, 345, 325, 300, 330, 325, 275, 275, 350, 325, 375, 250, 375, 350, 300, 300, 325, 325, 275, 350, 325, 350, 250, 325, 300, 350, 300, 325, 325, 275, 325, 375, 225, 350, 250, 375, 325, 350, 275, 300, 350, 275], \"coloraxis\": \"coloraxis\", \"symbol\": \"circle\"}, \"mode\": \"markers\", \"name\": \"\", \"scene\": \"scene\", \"showlegend\": false, \"type\": \"scatter3d\", \"x\": [14.5, 18.0, 15.0, 16.5, 17.0, 16.5, 15.0, 16.5, 17.0, 16.0, 17.5, 18.5, 16.5, 15.5, 17.0, 16.5, 16.0, 17.0, 16.0, 18.0, 15.0, 16.5, 20.0, 15.5, 17.5, 16.0, 16.5, 18.0, 14.0, 16.5, 16.5, 18.5, 18.0, 20.0, 19.5, 18.0, 15.0, 17.0, 20.0, 15.5, 18.0, 19.0, 18.5, 19.0, 18.5, 14.0, 19.0, 18.0, 17.5, 16.5, 18.0, 18.5, 16.5, 16.5, 16.0, 15.5, 14.5, 18.5, 16.0, 17.0, 15.5, 17.5, 18.5, 18.5, 18.0, 17.0, 16.5, 17.5, 20.0, 15.0, 16.5, 18.5, 17.5, 18.5, 19.0, 16.5, 16.0, 18.0, 18.0, 16.5, 20.0, 18.0, 16.5, 17.0, 14.0, 17.0, 19.5, 17.5, 15.5, 18.0, 19.0, 18.5, 15.0, 17.0, 20.0, 16.0, 19.0, 17.0, 18.0, 16.5, 18.0, 16.5, 18.0, 22.0, 17.0, 17.0, 17.5, 17.5, 15.0, 19.0, 18.0, 17.5, 21.0, 16.5, 17.0, 17.5, 17.5, 16.5, 18.0, 18.5, 17.0, 20.5, 16.0, 19.5, 16.5, 17.0, 16.0, 20.0, 17.0, 21.0, 18.0, 16.5, 18.5, 18.0, 17.0, 19.5, 16.5, 20.0, 17.0, 21.0, 17.5, 16.0, 16.0, 20.0], \"y\": [13.5, 17.5, 13.5, 14.5, 16.5, 16.0, 14.0, 14.5, 15.0, 15.5, 16.5, 17.5, 15.0, 15.0, 16.0, 15.0, 14.0, 15.5, 15.0, 17.0, 12.5, 15.0, 18.0, 13.5, 15.0, 14.0, 16.5, 16.5, 13.0, 15.0, 14.5, 16.5, 16.0, 17.5, 18.0, 15.5, 13.0, 16.5, 19.0, 13.5, 16.0, 18.5, 17.0, 18.5, 16.5, 13.5, 18.0, 18.0, 15.5, 16.0, 15.5, 17.5, 16.0, 14.0, 14.5, 14.5, 13.0, 17.0, 14.5, 15.5, 14.0, 16.0, 17.0, 17.0, 15.0, 15.5, 15.5, 16.0, 18.0, 14.0, 15.5, 16.5, 16.0, 17.0, 17.5, 14.5, 15.0, 17.0, 15.5, 15.5, 18.5, 16.5, 15.5, 15.5, 13.0, 15.5, 18.0, 15.0, 14.5, 16.0, 16.5, 17.0, 14.5, 15.0, 19.5, 15.0, 19.0, 15.0, 16.0, 14.5, 17.0, 15.5, 15.5, 20.5, 16.0, 17.0, 17.0, 15.0, 14.5, 16.5, 16.0, 16.5, 20.5, 15.3, 15.5, 17.0, 16.0, 16.0, 17.5, 16.0, 15.5, 19.0, 14.0, 17.0, 15.0, 15.5, 14.0, 18.0, 14.5, 19.5, 16.5, 16.0, 16.5, 16.0, 15.5, 18.5, 14.5, 19.0, 14.5, 19.0, 16.0, 14.0, 14.0, 18.0], \"z\": [4.0, 3.0, 5.0, 4.0, 4.0, 5.5, 5.8, 5.0, 4.2, 5.0, 7.0, 4.5, 5.5, 4.5, 5.0, 5.5, 4.5, 4.0, 4.8, 4.0, 4.5, 5.0, 4.5, 4.0, 3.8, 7.0, 5.5, 5.0, 6.5, 5.0, 5.0, 5.7, 5.0, 4.5, 5.5, 4.5, 5.0, 4.0, 5.0, 4.5, 6.2, 5.5, 4.5, 7.0, 6.5, 5.0, 6.0, 5.0, 6.0, 4.5, 5.0, 4.0, 5.5, 5.0, 4.0, 5.0, 6.5, 6.5, 5.5, 6.0, 4.5, 6.0, 5.5, 6.0, 3.4, 6.0, 4.5, 5.0, 5.0, 4.5, 4.5, 4.0, 4.0, 7.0, 4.5, 6.0, 7.0, 5.0, 4.5, 7.0, 6.5, 4.8, 8.5, 6.0, 5.0, 4.5, 5.2, 6.0, 6.0, 6.2, 3.0, 5.2, 4.5, 5.0, 6.5, 5.5, 8.0, 4.2, 5.0, 6.8, 5.0, 4.5, 5.0, 9.0, 6.0, 4.5, 5.0, 6.0, 5.0, 4.5, 6.0, 6.0, 9.0, 4.0, 7.0, 4.5, 4.0, 4.2, 7.0, 5.5, 4.6, 5.5, 5.2, 5.8, 4.5, 5.0, 4.5, 5.5, 4.5, 8.0, 5.5, 5.5, 5.5, 6.5, 3.5, 3.8, 3.5, 6.0, 5.5, 6.5, 4.0, 5.0, 5.0, 5.2]}],\n",
       "                        {\"coloraxis\": {\"colorbar\": {\"title\": {\"text\": \"ImplantLeft\"}}, \"colorscale\": [[0.0, \"#0d0887\"], [0.1111111111111111, \"#46039f\"], [0.2222222222222222, \"#7201a8\"], [0.3333333333333333, \"#9c179e\"], [0.4444444444444444, \"#bd3786\"], [0.5555555555555556, \"#d8576b\"], [0.6666666666666666, \"#ed7953\"], [0.7777777777777778, \"#fb9f3a\"], [0.8888888888888888, \"#fdca26\"], [1.0, \"#f0f921\"]]}, \"height\": 600, \"legend\": {\"tracegroupgap\": 0}, \"margin\": {\"t\": 60}, \"scene\": {\"domain\": {\"x\": [0.0, 0.98], \"y\": [0.0, 1.0]}, \"xaxis\": {\"title\": {\"text\": \"PostOp-CNL\"}}, \"yaxis\": {\"title\": {\"text\": \"PreOp-CNL\"}}, \"zaxis\": {\"title\": {\"text\": \"PreOp-IMFL\"}}}, \"template\": {\"data\": {\"bar\": [{\"error_x\": {\"color\": \"#2a3f5f\"}, \"error_y\": {\"color\": \"#2a3f5f\"}, \"marker\": {\"line\": {\"color\": \"#E5ECF6\", \"width\": 0.5}}, \"type\": \"bar\"}], \"barpolar\": [{\"marker\": {\"line\": {\"color\": \"#E5ECF6\", \"width\": 0.5}}, \"type\": \"barpolar\"}], \"carpet\": [{\"aaxis\": {\"endlinecolor\": \"#2a3f5f\", \"gridcolor\": \"white\", \"linecolor\": \"white\", \"minorgridcolor\": \"white\", \"startlinecolor\": \"#2a3f5f\"}, \"baxis\": {\"endlinecolor\": \"#2a3f5f\", \"gridcolor\": \"white\", \"linecolor\": \"white\", \"minorgridcolor\": \"white\", \"startlinecolor\": \"#2a3f5f\"}, \"type\": \"carpet\"}], \"choropleth\": [{\"colorbar\": {\"outlinewidth\": 0, \"ticks\": \"\"}, \"type\": \"choropleth\"}], \"contour\": [{\"colorbar\": {\"outlinewidth\": 0, \"ticks\": \"\"}, \"colorscale\": [[0.0, \"#0d0887\"], [0.1111111111111111, \"#46039f\"], [0.2222222222222222, \"#7201a8\"], [0.3333333333333333, \"#9c179e\"], [0.4444444444444444, \"#bd3786\"], [0.5555555555555556, \"#d8576b\"], [0.6666666666666666, \"#ed7953\"], [0.7777777777777778, \"#fb9f3a\"], [0.8888888888888888, \"#fdca26\"], [1.0, \"#f0f921\"]], \"type\": \"contour\"}], \"contourcarpet\": [{\"colorbar\": {\"outlinewidth\": 0, \"ticks\": \"\"}, \"type\": \"contourcarpet\"}], \"heatmap\": [{\"colorbar\": {\"outlinewidth\": 0, \"ticks\": \"\"}, \"colorscale\": [[0.0, \"#0d0887\"], [0.1111111111111111, \"#46039f\"], [0.2222222222222222, \"#7201a8\"], [0.3333333333333333, \"#9c179e\"], [0.4444444444444444, \"#bd3786\"], [0.5555555555555556, \"#d8576b\"], [0.6666666666666666, \"#ed7953\"], [0.7777777777777778, \"#fb9f3a\"], [0.8888888888888888, \"#fdca26\"], [1.0, \"#f0f921\"]], \"type\": \"heatmap\"}], \"heatmapgl\": [{\"colorbar\": {\"outlinewidth\": 0, \"ticks\": \"\"}, \"colorscale\": [[0.0, \"#0d0887\"], [0.1111111111111111, \"#46039f\"], [0.2222222222222222, \"#7201a8\"], [0.3333333333333333, \"#9c179e\"], [0.4444444444444444, \"#bd3786\"], [0.5555555555555556, \"#d8576b\"], [0.6666666666666666, \"#ed7953\"], [0.7777777777777778, \"#fb9f3a\"], [0.8888888888888888, \"#fdca26\"], [1.0, \"#f0f921\"]], \"type\": \"heatmapgl\"}], \"histogram\": [{\"marker\": {\"colorbar\": {\"outlinewidth\": 0, \"ticks\": \"\"}}, \"type\": \"histogram\"}], \"histogram2d\": [{\"colorbar\": {\"outlinewidth\": 0, \"ticks\": \"\"}, \"colorscale\": [[0.0, \"#0d0887\"], [0.1111111111111111, \"#46039f\"], [0.2222222222222222, \"#7201a8\"], [0.3333333333333333, \"#9c179e\"], [0.4444444444444444, \"#bd3786\"], [0.5555555555555556, \"#d8576b\"], [0.6666666666666666, \"#ed7953\"], [0.7777777777777778, \"#fb9f3a\"], [0.8888888888888888, \"#fdca26\"], [1.0, \"#f0f921\"]], \"type\": \"histogram2d\"}], \"histogram2dcontour\": [{\"colorbar\": {\"outlinewidth\": 0, \"ticks\": \"\"}, \"colorscale\": [[0.0, \"#0d0887\"], [0.1111111111111111, \"#46039f\"], [0.2222222222222222, \"#7201a8\"], [0.3333333333333333, \"#9c179e\"], [0.4444444444444444, \"#bd3786\"], [0.5555555555555556, \"#d8576b\"], [0.6666666666666666, \"#ed7953\"], [0.7777777777777778, \"#fb9f3a\"], [0.8888888888888888, \"#fdca26\"], [1.0, \"#f0f921\"]], \"type\": \"histogram2dcontour\"}], \"mesh3d\": [{\"colorbar\": {\"outlinewidth\": 0, \"ticks\": \"\"}, \"type\": \"mesh3d\"}], \"parcoords\": [{\"line\": {\"colorbar\": {\"outlinewidth\": 0, \"ticks\": \"\"}}, \"type\": \"parcoords\"}], \"scatter\": [{\"marker\": {\"colorbar\": {\"outlinewidth\": 0, \"ticks\": \"\"}}, \"type\": \"scatter\"}], \"scatter3d\": [{\"line\": {\"colorbar\": {\"outlinewidth\": 0, \"ticks\": \"\"}}, \"marker\": {\"colorbar\": {\"outlinewidth\": 0, \"ticks\": \"\"}}, \"type\": \"scatter3d\"}], \"scattercarpet\": [{\"marker\": {\"colorbar\": {\"outlinewidth\": 0, \"ticks\": \"\"}}, \"type\": \"scattercarpet\"}], \"scattergeo\": [{\"marker\": {\"colorbar\": {\"outlinewidth\": 0, \"ticks\": \"\"}}, \"type\": \"scattergeo\"}], \"scattergl\": [{\"marker\": {\"colorbar\": {\"outlinewidth\": 0, \"ticks\": \"\"}}, \"type\": \"scattergl\"}], \"scattermapbox\": [{\"marker\": {\"colorbar\": {\"outlinewidth\": 0, \"ticks\": \"\"}}, \"type\": \"scattermapbox\"}], \"scatterpolar\": [{\"marker\": {\"colorbar\": {\"outlinewidth\": 0, \"ticks\": \"\"}}, \"type\": \"scatterpolar\"}], \"scatterpolargl\": [{\"marker\": {\"colorbar\": {\"outlinewidth\": 0, \"ticks\": \"\"}}, \"type\": \"scatterpolargl\"}], \"scatterternary\": [{\"marker\": {\"colorbar\": {\"outlinewidth\": 0, \"ticks\": \"\"}}, \"type\": \"scatterternary\"}], \"surface\": [{\"colorbar\": {\"outlinewidth\": 0, \"ticks\": \"\"}, \"colorscale\": [[0.0, \"#0d0887\"], [0.1111111111111111, \"#46039f\"], [0.2222222222222222, \"#7201a8\"], [0.3333333333333333, \"#9c179e\"], [0.4444444444444444, \"#bd3786\"], [0.5555555555555556, \"#d8576b\"], [0.6666666666666666, \"#ed7953\"], [0.7777777777777778, \"#fb9f3a\"], [0.8888888888888888, \"#fdca26\"], [1.0, \"#f0f921\"]], \"type\": \"surface\"}], \"table\": [{\"cells\": {\"fill\": {\"color\": \"#EBF0F8\"}, \"line\": {\"color\": \"white\"}}, \"header\": {\"fill\": {\"color\": \"#C8D4E3\"}, \"line\": {\"color\": \"white\"}}, \"type\": \"table\"}]}, \"layout\": {\"annotationdefaults\": {\"arrowcolor\": \"#2a3f5f\", \"arrowhead\": 0, \"arrowwidth\": 1}, \"colorscale\": {\"diverging\": [[0, \"#8e0152\"], [0.1, \"#c51b7d\"], [0.2, \"#de77ae\"], [0.3, \"#f1b6da\"], [0.4, \"#fde0ef\"], [0.5, \"#f7f7f7\"], [0.6, \"#e6f5d0\"], [0.7, \"#b8e186\"], [0.8, \"#7fbc41\"], [0.9, \"#4d9221\"], [1, \"#276419\"]], \"sequential\": [[0.0, \"#0d0887\"], [0.1111111111111111, \"#46039f\"], [0.2222222222222222, \"#7201a8\"], [0.3333333333333333, \"#9c179e\"], [0.4444444444444444, \"#bd3786\"], [0.5555555555555556, \"#d8576b\"], [0.6666666666666666, \"#ed7953\"], [0.7777777777777778, \"#fb9f3a\"], [0.8888888888888888, \"#fdca26\"], [1.0, \"#f0f921\"]], \"sequentialminus\": [[0.0, \"#0d0887\"], [0.1111111111111111, \"#46039f\"], [0.2222222222222222, \"#7201a8\"], [0.3333333333333333, \"#9c179e\"], [0.4444444444444444, \"#bd3786\"], [0.5555555555555556, \"#d8576b\"], [0.6666666666666666, \"#ed7953\"], [0.7777777777777778, \"#fb9f3a\"], [0.8888888888888888, \"#fdca26\"], [1.0, \"#f0f921\"]]}, \"colorway\": [\"#636efa\", \"#EF553B\", \"#00cc96\", \"#ab63fa\", \"#FFA15A\", \"#19d3f3\", \"#FF6692\", \"#B6E880\", \"#FF97FF\", \"#FECB52\"], \"font\": {\"color\": \"#2a3f5f\"}, \"geo\": {\"bgcolor\": \"white\", \"lakecolor\": \"white\", \"landcolor\": \"#E5ECF6\", \"showlakes\": true, \"showland\": true, \"subunitcolor\": \"white\"}, \"hoverlabel\": {\"align\": \"left\"}, \"hovermode\": \"closest\", \"mapbox\": {\"style\": \"light\"}, \"paper_bgcolor\": \"white\", \"plot_bgcolor\": \"#E5ECF6\", \"polar\": {\"angularaxis\": {\"gridcolor\": \"white\", \"linecolor\": \"white\", \"ticks\": \"\"}, \"bgcolor\": \"#E5ECF6\", \"radialaxis\": {\"gridcolor\": \"white\", \"linecolor\": \"white\", \"ticks\": \"\"}}, \"scene\": {\"xaxis\": {\"backgroundcolor\": \"#E5ECF6\", \"gridcolor\": \"white\", \"gridwidth\": 2, \"linecolor\": \"white\", \"showbackground\": true, \"ticks\": \"\", \"zerolinecolor\": \"white\"}, \"yaxis\": {\"backgroundcolor\": \"#E5ECF6\", \"gridcolor\": \"white\", \"gridwidth\": 2, \"linecolor\": \"white\", \"showbackground\": true, \"ticks\": \"\", \"zerolinecolor\": \"white\"}, \"zaxis\": {\"backgroundcolor\": \"#E5ECF6\", \"gridcolor\": \"white\", \"gridwidth\": 2, \"linecolor\": \"white\", \"showbackground\": true, \"ticks\": \"\", \"zerolinecolor\": \"white\"}}, \"shapedefaults\": {\"line\": {\"color\": \"#2a3f5f\"}}, \"ternary\": {\"aaxis\": {\"gridcolor\": \"white\", \"linecolor\": \"white\", \"ticks\": \"\"}, \"baxis\": {\"gridcolor\": \"white\", \"linecolor\": \"white\", \"ticks\": \"\"}, \"bgcolor\": \"#E5ECF6\", \"caxis\": {\"gridcolor\": \"white\", \"linecolor\": \"white\", \"ticks\": \"\"}}, \"title\": {\"x\": 0.05}, \"xaxis\": {\"automargin\": true, \"gridcolor\": \"white\", \"linecolor\": \"white\", \"ticks\": \"\", \"zerolinecolor\": \"white\", \"zerolinewidth\": 2}, \"yaxis\": {\"automargin\": true, \"gridcolor\": \"white\", \"linecolor\": \"white\", \"ticks\": \"\", \"zerolinecolor\": \"white\", \"zerolinewidth\": 2}}}},\n",
       "                        {\"responsive\": true}\n",
       "                    ).then(function(){\n",
       "                            \n",
       "var gd = document.getElementById('e0556237-25ca-42c9-9ab1-6705f472e35a');\n",
       "var x = new MutationObserver(function (mutations, observer) {{\n",
       "        var display = window.getComputedStyle(gd).display;\n",
       "        if (!display || display === 'none') {{\n",
       "            console.log([gd, 'removed!']);\n",
       "            Plotly.purge(gd);\n",
       "            observer.disconnect();\n",
       "        }}\n",
       "}});\n",
       "\n",
       "// Listen for the removal of the full notebook cells\n",
       "var notebookContainer = gd.closest('#notebook-container');\n",
       "if (notebookContainer) {{\n",
       "    x.observe(notebookContainer, {childList: true});\n",
       "}}\n",
       "\n",
       "// Listen for the clearing of the current output cell\n",
       "var outputEl = gd.closest('.output');\n",
       "if (outputEl) {{\n",
       "    x.observe(outputEl, {childList: true});\n",
       "}}\n",
       "\n",
       "                        })\n",
       "                };\n",
       "                });\n",
       "            </script>\n",
       "        </div>"
      ]
     },
     "metadata": {},
     "output_type": "display_data"
    }
   ],
   "source": [
    "fig = px.scatter_3d(df, x='PostOp-CNL', y='PreOp-CNL', z='PreOp-IMFL', color='ImplantLeft')\n",
    "fig.show()"
   ]
  },
  {
   "cell_type": "code",
   "execution_count": null,
   "metadata": {},
   "outputs": [],
   "source": []
  }
 ],
 "metadata": {
  "kernelspec": {
   "display_name": "Python 3",
   "language": "python",
   "name": "python3"
  },
  "language_info": {
   "codemirror_mode": {
    "name": "ipython",
    "version": 3
   },
   "file_extension": ".py",
   "mimetype": "text/x-python",
   "name": "python",
   "nbconvert_exporter": "python",
   "pygments_lexer": "ipython3",
   "version": "3.6.6"
  }
 },
 "nbformat": 4,
 "nbformat_minor": 2
}
