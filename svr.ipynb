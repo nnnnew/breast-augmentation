{
 "cells": [
  {
   "cell_type": "code",
   "execution_count": 1,
   "metadata": {},
   "outputs": [],
   "source": [
    "import numpy as np\n",
    "import pandas as pd\n",
    "import matplotlib.pyplot as plt\n",
    "import os\n",
    "import re\n",
    "\n",
    "from sklearn.svm import SVR\n",
    "from sklearn.model_selection import KFold, train_test_split"
   ]
  },
  {
   "cell_type": "code",
   "execution_count": 2,
   "metadata": {},
   "outputs": [],
   "source": [
    "kfold_data_dir = './data/k-fold/'"
   ]
  },
  {
   "cell_type": "code",
   "execution_count": 3,
   "metadata": {},
   "outputs": [],
   "source": [
    "file_list = os.listdir(kfold_data_dir)"
   ]
  },
  {
   "cell_type": "code",
   "execution_count": 4,
   "metadata": {},
   "outputs": [
    {
     "name": "stdout",
     "output_type": "stream",
     "text": [
      "20\n"
     ]
    }
   ],
   "source": [
    "print(len(file_list))"
   ]
  },
  {
   "cell_type": "code",
   "execution_count": 5,
   "metadata": {},
   "outputs": [
    {
     "name": "stdout",
     "output_type": "stream",
     "text": [
      "Number of K is 10\n",
      "Number of model is 15\n"
     ]
    }
   ],
   "source": [
    "file_train_start = 'train'\n",
    "file_test_start = 'test'\n",
    "\n",
    "num_k = int(len(file_list) / 2)\n",
    "print(f'Number of K is {num_k}')\n",
    "\n",
    "predict_class_right = ['PostOp-SNR',  'PostOp-CNR',  'PostOp-BWR', 'PostOp-BHR',\n",
    "                       'PostOp-IMFR',  'PostOp-AreRW', 'PostOp-AreRH']\n",
    "\n",
    "predict_class_left = [ 'PostOp-SNL',  'PostOp-CNL', 'PostOp-BWL',\n",
    "                      'PostOp-BHL',  'PostOp-IMFL','PostOp-AreLW', 'PostOp-AreLH']\n",
    "\n",
    "predict_post_id = ['PostOp-ID']\n",
    "\n",
    "feature_left = ['PreOp-SNL', 'PreOp-CNL', 'PreOp-BWL', 'PreOp-BHL', 'PreOp-IMFL', 'PreOp-AreLW',\n",
    "                'PreOp-AreLH', 'PreOp-ID', 'ImplantLeft']\n",
    "\n",
    "feature_right = ['PreOp-SNR', 'PreOp-CNR', 'PreOp-BWR', 'PreOp-BHR', 'PreOp-IMFR', 'PreOp-AreRW',\n",
    "                'PreOp-AreRH', 'PreOp-ID', 'ImplantRight']\n",
    "\n",
    "print(f'Number of model is {(len(predict_class_right) + len(predict_post_id) + len(predict_class_left))}')"
   ]
  },
  {
   "cell_type": "code",
   "execution_count": 6,
   "metadata": {},
   "outputs": [],
   "source": [
    "def get_x_and_y(df: pd.DataFrame, x_head=[], y_head=[]):\n",
    "    x, y = [], []\n",
    "    \n",
    "    for index, row in df.iterrows():\n",
    "        x_temp = []\n",
    "        for x_h in x_head:\n",
    "            x_temp.append(row[x_h])\n",
    "        x.append(x_temp)\n",
    "        y.append(row[y_head[0]])\n",
    "    \n",
    "    return x, y"
   ]
  },
  {
   "cell_type": "code",
   "execution_count": 7,
   "metadata": {},
   "outputs": [],
   "source": [
    "# SN"
   ]
  },
  {
   "cell_type": "code",
   "execution_count": 8,
   "metadata": {},
   "outputs": [
    {
     "name": "stdout",
     "output_type": "stream",
     "text": [
      "0.8213281729136132\n"
     ]
    }
   ],
   "source": [
    "result = []\n",
    "\n",
    "for k in range(num_k):\n",
    "    train_df = pd.read_csv(os.path.join(kfold_data_dir, f'{file_train_start}_{k}.csv',)).dropna()\n",
    "    test_df = pd.read_csv(os.path.join(kfold_data_dir, f'{file_test_start}_{k}.csv')).dropna()\n",
    "    \n",
    "    # Create right side model\n",
    "    \n",
    "    x_train, y_train = get_x_and_y(train_df, feature_left, ['PostOp-SNL'])\n",
    "    x_test, y_test = get_x_and_y(test_df, feature_left, ['PostOp-SNL'])\n",
    "    model = SVR(gamma='auto')\n",
    "    model.fit(x_train, y_train)\n",
    "    k_result = model.predict(x_test)\n",
    "    result.append(sum(abs(k_result - y_test)) / len(k_result))\n",
    "\n",
    "print(sum(result) / len(result))"
   ]
  },
  {
   "cell_type": "code",
   "execution_count": 9,
   "metadata": {},
   "outputs": [
    {
     "name": "stdout",
     "output_type": "stream",
     "text": [
      "0.8244100255180115\n"
     ]
    }
   ],
   "source": [
    "result = []\n",
    "\n",
    "for k in range(num_k):\n",
    "    train_df = pd.read_csv(os.path.join(kfold_data_dir, f'{file_train_start}_{k}.csv',)).dropna()\n",
    "    test_df = pd.read_csv(os.path.join(kfold_data_dir, f'{file_test_start}_{k}.csv')).dropna()\n",
    "    \n",
    "    # Create right side model\n",
    "    \n",
    "    x_train, y_train = get_x_and_y(train_df, feature_right, ['PostOp-SNR'])\n",
    "    x_test, y_test = get_x_and_y(test_df, feature_right, ['PostOp-SNR'])\n",
    "    model = SVR(gamma='auto')\n",
    "    model.fit(x_train, y_train)\n",
    "    k_result = model.predict(x_test)\n",
    "    result.append(sum(abs(k_result - y_test)) / len(k_result))\n",
    "\n",
    "print(sum(result) / len(result))"
   ]
  },
  {
   "cell_type": "code",
   "execution_count": 10,
   "metadata": {},
   "outputs": [],
   "source": [
    "# CN"
   ]
  },
  {
   "cell_type": "code",
   "execution_count": 11,
   "metadata": {},
   "outputs": [
    {
     "name": "stdout",
     "output_type": "stream",
     "text": [
      "0.8276515422751478\n"
     ]
    }
   ],
   "source": [
    "result = []\n",
    "\n",
    "for k in range(num_k):\n",
    "    train_df = pd.read_csv(os.path.join(kfold_data_dir, f'{file_train_start}_{k}.csv',)).dropna()\n",
    "    test_df = pd.read_csv(os.path.join(kfold_data_dir, f'{file_test_start}_{k}.csv')).dropna()\n",
    "    \n",
    "    # Create right side model\n",
    "    \n",
    "    x_train, y_train = get_x_and_y(train_df, feature_left, ['PostOp-CNL'])\n",
    "    x_test, y_test = get_x_and_y(test_df, feature_left, ['PostOp-CNL'])\n",
    "    model = SVR(gamma='auto')\n",
    "    model.fit(x_train, y_train)\n",
    "    k_result = model.predict(x_test)\n",
    "    result.append(sum(abs(k_result - y_test)) / len(k_result))\n",
    "\n",
    "print(sum(result) / len(result))"
   ]
  },
  {
   "cell_type": "code",
   "execution_count": 12,
   "metadata": {},
   "outputs": [
    {
     "name": "stdout",
     "output_type": "stream",
     "text": [
      "0.7572329112009977\n"
     ]
    }
   ],
   "source": [
    "result = []\n",
    "\n",
    "for k in range(num_k):\n",
    "    train_df = pd.read_csv(os.path.join(kfold_data_dir, f'{file_train_start}_{k}.csv',)).dropna()\n",
    "    test_df = pd.read_csv(os.path.join(kfold_data_dir, f'{file_test_start}_{k}.csv')).dropna()\n",
    "    \n",
    "    # Create right side model\n",
    "    \n",
    "    x_train, y_train = get_x_and_y(train_df, feature_right, ['PostOp-CNR'])\n",
    "    x_test, y_test = get_x_and_y(test_df, feature_right, ['PostOp-CNR'])\n",
    "    model = SVR(gamma='auto')\n",
    "    model.fit(x_train, y_train)\n",
    "    k_result = model.predict(x_test)\n",
    "    result.append(sum(abs(k_result - y_test)) / len(k_result))\n",
    "\n",
    "print(sum(result) / len(result))"
   ]
  },
  {
   "cell_type": "code",
   "execution_count": 13,
   "metadata": {},
   "outputs": [],
   "source": [
    "# BW"
   ]
  },
  {
   "cell_type": "code",
   "execution_count": 17,
   "metadata": {},
   "outputs": [
    {
     "name": "stdout",
     "output_type": "stream",
     "text": [
      "0.4264017597947425\n"
     ]
    }
   ],
   "source": [
    "result = []\n",
    "\n",
    "for k in range(num_k):\n",
    "    train_df = pd.read_csv(os.path.join(kfold_data_dir, f'{file_train_start}_{k}.csv',)).dropna()\n",
    "    test_df = pd.read_csv(os.path.join(kfold_data_dir, f'{file_test_start}_{k}.csv')).dropna()\n",
    "    \n",
    "    # Create right side model\n",
    "    \n",
    "    x_train, y_train = get_x_and_y(train_df, feature_right, ['PostOp-BWR'])\n",
    "    x_test, y_test = get_x_and_y(test_df, feature_right, ['PostOp-BWR'])\n",
    "    model = SVR(gamma='auto')\n",
    "    model.fit(x_train, y_train)\n",
    "    k_result = model.predict(x_test)\n",
    "    result.append(sum(abs(k_result - y_test)) / len(k_result))\n",
    "\n",
    "print(sum(result) / len(result))"
   ]
  },
  {
   "cell_type": "code",
   "execution_count": 18,
   "metadata": {},
   "outputs": [
    {
     "name": "stdout",
     "output_type": "stream",
     "text": [
      "0.3979171076949281\n"
     ]
    }
   ],
   "source": [
    "result = []\n",
    "\n",
    "for k in range(num_k):\n",
    "    train_df = pd.read_csv(os.path.join(kfold_data_dir, f'{file_train_start}_{k}.csv',)).dropna()\n",
    "    test_df = pd.read_csv(os.path.join(kfold_data_dir, f'{file_test_start}_{k}.csv')).dropna()\n",
    "    \n",
    "    # Create right side model\n",
    "    \n",
    "    x_train, y_train = get_x_and_y(train_df, feature_left, ['PostOp-BWL'])\n",
    "    x_test, y_test = get_x_and_y(test_df, feature_left, ['PostOp-BWL'])\n",
    "    model = SVR(gamma='auto')\n",
    "    model.fit(x_train, y_train)\n",
    "    k_result = model.predict(x_test)\n",
    "    result.append(sum(abs(k_result - y_test)) / len(k_result))\n",
    "\n",
    "print(sum(result) / len(result))"
   ]
  },
  {
   "cell_type": "code",
   "execution_count": 19,
   "metadata": {},
   "outputs": [],
   "source": [
    "# BH"
   ]
  },
  {
   "cell_type": "code",
   "execution_count": 20,
   "metadata": {},
   "outputs": [
    {
     "name": "stdout",
     "output_type": "stream",
     "text": [
      "0.519690513785499\n"
     ]
    }
   ],
   "source": [
    "result = []\n",
    "\n",
    "for k in range(num_k):\n",
    "    train_df = pd.read_csv(os.path.join(kfold_data_dir, f'{file_train_start}_{k}.csv',)).dropna()\n",
    "    test_df = pd.read_csv(os.path.join(kfold_data_dir, f'{file_test_start}_{k}.csv')).dropna()\n",
    "    \n",
    "    # Create right side model\n",
    "    \n",
    "    x_train, y_train = get_x_and_y(train_df, feature_right, ['PostOp-BHR'])\n",
    "    x_test, y_test = get_x_and_y(test_df, feature_right, ['PostOp-BHR'])\n",
    "    model = SVR(gamma='auto')\n",
    "    model.fit(x_train, y_train)\n",
    "    k_result = model.predict(x_test)\n",
    "    result.append(sum(abs(k_result - y_test)) / len(k_result))\n",
    "\n",
    "print(sum(result) / len(result))"
   ]
  },
  {
   "cell_type": "code",
   "execution_count": 21,
   "metadata": {},
   "outputs": [
    {
     "name": "stdout",
     "output_type": "stream",
     "text": [
      "0.49368116391265754\n"
     ]
    }
   ],
   "source": [
    "result = []\n",
    "\n",
    "for k in range(num_k):\n",
    "    train_df = pd.read_csv(os.path.join(kfold_data_dir, f'{file_train_start}_{k}.csv',)).dropna()\n",
    "    test_df = pd.read_csv(os.path.join(kfold_data_dir, f'{file_test_start}_{k}.csv')).dropna()\n",
    "    \n",
    "    # Create right side model\n",
    "    \n",
    "    x_train, y_train = get_x_and_y(train_df, feature_left, ['PostOp-BHL'])\n",
    "    x_test, y_test = get_x_and_y(test_df, feature_left, ['PostOp-BHL'])\n",
    "    model = SVR(gamma='auto')\n",
    "    model.fit(x_train, y_train)\n",
    "    k_result = model.predict(x_test)\n",
    "    result.append(sum(abs(k_result - y_test)) / len(k_result))\n",
    "\n",
    "print(sum(result) / len(result))"
   ]
  },
  {
   "cell_type": "code",
   "execution_count": 22,
   "metadata": {},
   "outputs": [],
   "source": [
    "# IMF"
   ]
  },
  {
   "cell_type": "code",
   "execution_count": 23,
   "metadata": {},
   "outputs": [
    {
     "name": "stdout",
     "output_type": "stream",
     "text": [
      "0.7483666563653147\n"
     ]
    }
   ],
   "source": [
    "result = []\n",
    "\n",
    "for k in range(num_k):\n",
    "    train_df = pd.read_csv(os.path.join(kfold_data_dir, f'{file_train_start}_{k}.csv',)).dropna()\n",
    "    test_df = pd.read_csv(os.path.join(kfold_data_dir, f'{file_test_start}_{k}.csv')).dropna()\n",
    "    \n",
    "    # Create right side model\n",
    "    \n",
    "    x_train, y_train = get_x_and_y(train_df, feature_left, ['PostOp-IMFL'])\n",
    "    x_test, y_test = get_x_and_y(test_df, feature_left, ['PostOp-IMFL'])\n",
    "    model = SVR(gamma='auto')\n",
    "    model.fit(x_train, y_train)\n",
    "    k_result = model.predict(x_test)\n",
    "    result.append(sum(abs(k_result - y_test)) / len(k_result))\n",
    "\n",
    "print(sum(result) / len(result))"
   ]
  },
  {
   "cell_type": "code",
   "execution_count": 24,
   "metadata": {},
   "outputs": [
    {
     "name": "stdout",
     "output_type": "stream",
     "text": [
      "0.6705838238045423\n"
     ]
    }
   ],
   "source": [
    "result = []\n",
    "\n",
    "for k in range(num_k):\n",
    "    train_df = pd.read_csv(os.path.join(kfold_data_dir, f'{file_train_start}_{k}.csv',)).dropna()\n",
    "    test_df = pd.read_csv(os.path.join(kfold_data_dir, f'{file_test_start}_{k}.csv')).dropna()\n",
    "    \n",
    "    # Create right side model\n",
    "    \n",
    "    x_train, y_train = get_x_and_y(train_df, feature_right, ['PostOp-IMFR'])\n",
    "    x_test, y_test = get_x_and_y(test_df, feature_right, ['PostOp-IMFR'])\n",
    "    model = SVR(gamma='auto')\n",
    "    model.fit(x_train, y_train)\n",
    "    k_result = model.predict(x_test)\n",
    "    result.append(sum(abs(k_result - y_test)) / len(k_result))\n",
    "\n",
    "print(sum(result) / len(result))"
   ]
  },
  {
   "cell_type": "code",
   "execution_count": 25,
   "metadata": {},
   "outputs": [],
   "source": [
    "# AreW"
   ]
  },
  {
   "cell_type": "code",
   "execution_count": 26,
   "metadata": {},
   "outputs": [
    {
     "name": "stdout",
     "output_type": "stream",
     "text": [
      "0.585093898916005\n"
     ]
    }
   ],
   "source": [
    "result = []\n",
    "\n",
    "for k in range(num_k):\n",
    "    train_df = pd.read_csv(os.path.join(kfold_data_dir, f'{file_train_start}_{k}.csv',)).dropna()\n",
    "    test_df = pd.read_csv(os.path.join(kfold_data_dir, f'{file_test_start}_{k}.csv')).dropna()\n",
    "    \n",
    "    # Create right side model\n",
    "    \n",
    "    x_train, y_train = get_x_and_y(train_df, feature_right, ['PostOp-AreRW'])\n",
    "    x_test, y_test = get_x_and_y(test_df, feature_right, ['PostOp-AreRW'])\n",
    "    model = SVR(gamma='auto')\n",
    "    model.fit(x_train, y_train)\n",
    "    k_result = model.predict(x_test)\n",
    "    result.append(sum(abs(k_result - y_test)) / len(k_result))\n",
    "\n",
    "print(sum(result) / len(result))"
   ]
  },
  {
   "cell_type": "code",
   "execution_count": 27,
   "metadata": {},
   "outputs": [
    {
     "name": "stdout",
     "output_type": "stream",
     "text": [
      "0.5628236319798767\n"
     ]
    }
   ],
   "source": [
    "result = []\n",
    "\n",
    "for k in range(num_k):\n",
    "    train_df = pd.read_csv(os.path.join(kfold_data_dir, f'{file_train_start}_{k}.csv',)).dropna()\n",
    "    test_df = pd.read_csv(os.path.join(kfold_data_dir, f'{file_test_start}_{k}.csv')).dropna()\n",
    "    \n",
    "    # Create right side model\n",
    "    \n",
    "    x_train, y_train = get_x_and_y(train_df, feature_left, ['PostOp-AreLW'])\n",
    "    x_test, y_test = get_x_and_y(test_df, feature_left, ['PostOp-AreLW'])\n",
    "    model = SVR(gamma='auto')\n",
    "    model.fit(x_train, y_train)\n",
    "    k_result = model.predict(x_test)\n",
    "    result.append(sum(abs(k_result - y_test)) / len(k_result))\n",
    "\n",
    "print(sum(result) / len(result))"
   ]
  },
  {
   "cell_type": "code",
   "execution_count": 28,
   "metadata": {},
   "outputs": [],
   "source": [
    "# AreH"
   ]
  },
  {
   "cell_type": "code",
   "execution_count": 29,
   "metadata": {},
   "outputs": [
    {
     "name": "stdout",
     "output_type": "stream",
     "text": [
      "0.577714408430513\n"
     ]
    }
   ],
   "source": [
    "result = []\n",
    "\n",
    "for k in range(num_k):\n",
    "    train_df = pd.read_csv(os.path.join(kfold_data_dir, f'{file_train_start}_{k}.csv',)).dropna()\n",
    "    test_df = pd.read_csv(os.path.join(kfold_data_dir, f'{file_test_start}_{k}.csv')).dropna()\n",
    "    \n",
    "    # Create right side model\n",
    "    \n",
    "    x_train, y_train = get_x_and_y(train_df, feature_right, ['PostOp-AreRH'])\n",
    "    x_test, y_test = get_x_and_y(test_df, feature_right, ['PostOp-AreRH'])\n",
    "    model = SVR(gamma='auto')\n",
    "    model.fit(x_train, y_train)\n",
    "    k_result = model.predict(x_test)\n",
    "    result.append(sum(abs(k_result - y_test)) / len(k_result))\n",
    "\n",
    "print(sum(result) / len(result))"
   ]
  },
  {
   "cell_type": "code",
   "execution_count": 30,
   "metadata": {},
   "outputs": [
    {
     "name": "stdout",
     "output_type": "stream",
     "text": [
      "0.5850636496282345\n"
     ]
    }
   ],
   "source": [
    "result = []\n",
    "\n",
    "for k in range(num_k):\n",
    "    train_df = pd.read_csv(os.path.join(kfold_data_dir, f'{file_train_start}_{k}.csv',)).dropna()\n",
    "    test_df = pd.read_csv(os.path.join(kfold_data_dir, f'{file_test_start}_{k}.csv')).dropna()\n",
    "    \n",
    "    # Create right side model\n",
    "    \n",
    "    x_train, y_train = get_x_and_y(train_df, feature_left, ['PostOp-AreLH'])\n",
    "    x_test, y_test = get_x_and_y(test_df, feature_left, ['PostOp-AreLH'])\n",
    "    model = SVR(gamma='auto')\n",
    "    model.fit(x_train, y_train)\n",
    "    k_result = model.predict(x_test)\n",
    "    result.append(sum(abs(k_result - y_test)) / len(k_result))\n",
    "\n",
    "print(sum(result) / len(result))"
   ]
  },
  {
   "cell_type": "code",
   "execution_count": 31,
   "metadata": {},
   "outputs": [],
   "source": [
    "#  ID"
   ]
  },
  {
   "cell_type": "code",
   "execution_count": 32,
   "metadata": {},
   "outputs": [
    {
     "name": "stdout",
     "output_type": "stream",
     "text": [
      "0.4741111192100707\n"
     ]
    }
   ],
   "source": [
    "result = []\n",
    "\n",
    "for k in range(num_k):\n",
    "    train_df = pd.read_csv(os.path.join(kfold_data_dir, f'{file_train_start}_{k}.csv',)).dropna()\n",
    "    test_df = pd.read_csv(os.path.join(kfold_data_dir, f'{file_test_start}_{k}.csv')).dropna()\n",
    "    \n",
    "    # Create right side model\n",
    "    \n",
    "    x_train, y_train = get_x_and_y(train_df, list(set(feature_left + feature_right)), ['PostOp-ID'])\n",
    "    x_test, y_test = get_x_and_y(test_df, list(set(feature_left + feature_right)), ['PostOp-ID'])\n",
    "    model = SVR(gamma='auto')\n",
    "    model.fit(x_train, y_train)\n",
    "    k_result = model.predict(x_test)\n",
    "    result.append(sum(abs(k_result - y_test)) / len(k_result))\n",
    "\n",
    "print(sum(result) / len(result))"
   ]
  },
  {
   "cell_type": "code",
   "execution_count": null,
   "metadata": {},
   "outputs": [],
   "source": []
  }
 ],
 "metadata": {
  "kernelspec": {
   "display_name": "Python 3",
   "language": "python",
   "name": "python3"
  },
  "language_info": {
   "codemirror_mode": {
    "name": "ipython",
    "version": 3
   },
   "file_extension": ".py",
   "mimetype": "text/x-python",
   "name": "python",
   "nbconvert_exporter": "python",
   "pygments_lexer": "ipython3",
   "version": "3.6.6"
  }
 },
 "nbformat": 4,
 "nbformat_minor": 2
}
